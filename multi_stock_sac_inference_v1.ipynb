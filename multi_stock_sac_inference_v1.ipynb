{
  "cells": [
    {
      "cell_type": "markdown",
      "metadata": {
        "id": "view-in-github",
        "colab_type": "text"
      },
      "source": [
        "<a href=\"https://colab.research.google.com/github/racoope70/exploratory_daytrading/blob/main/multi_stock_sac_inference_v1.ipynb\" target=\"_parent\"><img src=\"https://colab.research.google.com/assets/colab-badge.svg\" alt=\"Open In Colab\"/></a>"
      ]
    },
    {
      "cell_type": "code",
      "execution_count": 1,
      "metadata": {
        "id": "rWICIz6OC5A7",
        "colab": {
          "base_uri": "https://localhost:8080/"
        },
        "outputId": "9fe5561c-7c54-4e1a-87dc-ccf4c1cbedf4"
      },
      "outputs": [
        {
          "output_type": "stream",
          "name": "stdout",
          "text": [
            "Reading package lists... Done\n",
            "Building dependency tree... Done\n",
            "Reading state information... Done\n",
            "Note, selecting 'cuda-toolkit-12-4-config-common' for glob 'cuda*'\n",
            "Note, selecting 'cuda-cudart-dev-11-0' for glob 'cuda*'\n",
            "Note, selecting 'cuda-cudart-dev-11-1' for glob 'cuda*'\n",
            "Note, selecting 'cuda-cudart-dev-11-7' for glob 'cuda*'\n",
            "Note, selecting 'cuda-cudart-dev-11-8' for glob 'cuda*'\n",
            "Note, selecting 'cuda-toolkit-12-5-config-common' for glob 'cuda*'\n",
            "Note, selecting 'cuda-cudart-dev-12-0' for glob 'cuda*'\n",
            "Note, selecting 'cuda-cudart-dev-12-1' for glob 'cuda*'\n",
            "Note, selecting 'cuda-cudart-dev-12-2' for glob 'cuda*'\n",
            "Note, selecting 'cuda-cudart-dev-12-3' for glob 'cuda*'\n",
            "Note, selecting 'cuda-cudart-dev-12-4' for glob 'cuda*'\n",
            "Note, selecting 'cuda-cudart-dev-12-5' for glob 'cuda*'\n",
            "Note, selecting 'cuda-cudart-dev-12-6' for glob 'cuda*'\n",
            "Note, selecting 'cuda-cudart-dev-12-8' for glob 'cuda*'\n",
            "Note, selecting 'cuda-cudart-dev-12-9' for glob 'cuda*'\n",
            "Note, selecting 'cuda-cudart-dev-13-0' for glob 'cuda*'\n",
            "Note, selecting 'cuda-toolkit-12-6-config-common' for glob 'cuda*'\n",
            "Note, selecting 'cuda-opencl-dev-12-0' for glob 'cuda*'\n",
            "Note, selecting 'cuda-opencl-dev-12-1' for glob 'cuda*'\n",
            "Note, selecting 'cuda-opencl-dev-12-2' for glob 'cuda*'\n",
            "Note, selecting 'cuda-opencl-dev-12-3' for glob 'cuda*'\n",
            "Note, selecting 'cuda-opencl-dev-12-4' for glob 'cuda*'\n",
            "Note, selecting 'cuda-opencl-dev-12-5' for glob 'cuda*'\n",
            "Note, selecting 'cuda-opencl-dev-12-6' for glob 'cuda*'\n",
            "Note, selecting 'cuda-opencl-dev-12-8' for glob 'cuda*'\n",
            "Note, selecting 'cuda-opencl-dev-12-9' for glob 'cuda*'\n",
            "Note, selecting 'cuda-opencl-dev-13-0' for glob 'cuda*'\n",
            "Note, selecting 'cuda-gdb-11-7' for glob 'cuda*'\n",
            "Note, selecting 'cuda-gdb-11-8' for glob 'cuda*'\n",
            "Note, selecting 'cuda-gdb-12-0' for glob 'cuda*'\n",
            "Note, selecting 'cuda-gdb-12-1' for glob 'cuda*'\n",
            "Note, selecting 'cuda-gdb-12-2' for glob 'cuda*'\n",
            "Note, selecting 'cuda-gdb-12-3' for glob 'cuda*'\n",
            "Note, selecting 'cuda-gdb-12-4' for glob 'cuda*'\n",
            "Note, selecting 'cuda-gdb-12-5' for glob 'cuda*'\n",
            "Note, selecting 'cuda-gdb-12-6' for glob 'cuda*'\n",
            "Note, selecting 'cuda-gdb-12-8' for glob 'cuda*'\n",
            "Note, selecting 'cuda-gdb-12-9' for glob 'cuda*'\n",
            "Note, selecting 'cuda-gdb-13-0' for glob 'cuda*'\n",
            "Note, selecting 'cuda-opencl-12-0' for glob 'cuda*'\n",
            "Note, selecting 'cuda-opencl-12-1' for glob 'cuda*'\n",
            "Note, selecting 'cuda-opencl-12-2' for glob 'cuda*'\n",
            "Note, selecting 'cuda-opencl-12-3' for glob 'cuda*'\n",
            "Note, selecting 'cuda-opencl-12-4' for glob 'cuda*'\n",
            "Note, selecting 'cuda-opencl-12-5' for glob 'cuda*'\n",
            "Note, selecting 'cuda-opencl-12-6' for glob 'cuda*'\n",
            "Note, selecting 'cuda-opencl-12-8' for glob 'cuda*'\n",
            "Note, selecting 'cuda-opencl-12-9' for glob 'cuda*'\n",
            "Note, selecting 'cuda-opencl-13-0' for glob 'cuda*'\n",
            "Note, selecting 'cuda-drivers-diagnostic' for glob 'cuda*'\n",
            "Note, selecting 'cuda-libraries-11-7' for glob 'cuda*'\n",
            "Note, selecting 'cuda-libraries-11-8' for glob 'cuda*'\n",
            "Note, selecting 'cuda-libraries-12-0' for glob 'cuda*'\n",
            "Note, selecting 'cuda-libraries-12-1' for glob 'cuda*'\n",
            "Note, selecting 'cuda-libraries-12-2' for glob 'cuda*'\n",
            "Note, selecting 'cuda-libraries-12-3' for glob 'cuda*'\n",
            "Note, selecting 'cuda-libraries-12-4' for glob 'cuda*'\n",
            "Note, selecting 'cuda-libraries-12-5' for glob 'cuda*'\n",
            "Note, selecting 'cuda-libraries-12-6' for glob 'cuda*'\n",
            "Note, selecting 'cuda-libraries-12-8' for glob 'cuda*'\n",
            "Note, selecting 'cuda-libraries-12-9' for glob 'cuda*'\n",
            "Note, selecting 'cuda-nsight-compute-11-7' for glob 'cuda*'\n",
            "Note, selecting 'cuda-nsight-compute-11-8' for glob 'cuda*'\n",
            "Note, selecting 'cuda-libraries-13-0' for glob 'cuda*'\n",
            "Note, selecting 'cuda-nsight-compute-12-0' for glob 'cuda*'\n",
            "Note, selecting 'cuda-nsight-compute-12-1' for glob 'cuda*'\n",
            "Note, selecting 'cuda-nsight-compute-12-2' for glob 'cuda*'\n",
            "Note, selecting 'cuda-nsight-compute-12-3' for glob 'cuda*'\n",
            "Note, selecting 'cuda-nsight-compute-12-4' for glob 'cuda*'\n",
            "Note, selecting 'cuda-nsight-compute-12-5' for glob 'cuda*'\n",
            "Note, selecting 'cuda-nsight-compute-12-6' for glob 'cuda*'\n",
            "Note, selecting 'cuda-nsight-compute-12-8' for glob 'cuda*'\n",
            "Note, selecting 'cuda-nsight-compute-12-9' for glob 'cuda*'\n",
            "Note, selecting 'cuda-nsight-compute-13-0' for glob 'cuda*'\n",
            "Note, selecting 'cuda-toolkit-12-1-config-common' for glob 'cuda*'\n",
            "Note, selecting 'cuda-nsight-11-7' for glob 'cuda*'\n",
            "Note, selecting 'cuda-nsight-11-8' for glob 'cuda*'\n",
            "Note, selecting 'cuda-tools-11-7' for glob 'cuda*'\n",
            "Note, selecting 'cuda-tools-11-8' for glob 'cuda*'\n",
            "Note, selecting 'cuda-culibos-13-0' for glob 'cuda*'\n",
            "Note, selecting 'cuda-nsight-12-0' for glob 'cuda*'\n",
            "Note, selecting 'cuda-nsight-12-1' for glob 'cuda*'\n",
            "Note, selecting 'cuda-nsight-12-2' for glob 'cuda*'\n",
            "Note, selecting 'cuda-nsight-12-3' for glob 'cuda*'\n",
            "Note, selecting 'cuda-nsight-12-4' for glob 'cuda*'\n",
            "Note, selecting 'cuda-nsight-12-5' for glob 'cuda*'\n",
            "Note, selecting 'cuda-nsight-12-6' for glob 'cuda*'\n",
            "Note, selecting 'cuda-nsight-12-8' for glob 'cuda*'\n",
            "Note, selecting 'cuda-nsight-12-9' for glob 'cuda*'\n",
            "Note, selecting 'cuda-tools-12-0' for glob 'cuda*'\n",
            "Note, selecting 'cuda-tools-12-1' for glob 'cuda*'\n",
            "Note, selecting 'cuda-tools-12-2' for glob 'cuda*'\n",
            "Note, selecting 'cuda-tools-12-3' for glob 'cuda*'\n",
            "Note, selecting 'cuda-tools-12-4' for glob 'cuda*'\n",
            "Note, selecting 'cuda-tools-12-5' for glob 'cuda*'\n",
            "Note, selecting 'cuda-tools-12-6' for glob 'cuda*'\n",
            "Note, selecting 'cuda-tools-12-8' for glob 'cuda*'\n",
            "Note, selecting 'cuda-tools-12-9' for glob 'cuda*'\n",
            "Note, selecting 'cuda-toolkit-12-2-config-common' for glob 'cuda*'\n",
            "Note, selecting 'cuda-nsight-13-0' for glob 'cuda*'\n",
            "Note, selecting 'cuda-tools-13-0' for glob 'cuda*'\n",
            "Note, selecting 'cuda-toolkit-12-3-config-common' for glob 'cuda*'\n",
            "Note, selecting 'cuda-culibos-cross-amd64-13-0' for glob 'cuda*'\n",
            "Note, selecting 'cuda-cuobjdump-11-7' for glob 'cuda*'\n",
            "Note, selecting 'cuda-cuobjdump-11-8' for glob 'cuda*'\n",
            "Note, selecting 'cuda-drivers-fabricmanager-branch' for glob 'cuda*'\n",
            "Note, selecting 'cuda-cuobjdump-12-0' for glob 'cuda*'\n",
            "Note, selecting 'cuda-cuobjdump-12-1' for glob 'cuda*'\n",
            "Note, selecting 'cuda-cuobjdump-12-2' for glob 'cuda*'\n",
            "Note, selecting 'cuda-cuobjdump-12-3' for glob 'cuda*'\n",
            "Note, selecting 'cuda-cuobjdump-12-4' for glob 'cuda*'\n",
            "Note, selecting 'cuda-cuobjdump-12-5' for glob 'cuda*'\n",
            "Note, selecting 'cuda-cuobjdump-12-6' for glob 'cuda*'\n",
            "Note, selecting 'cuda-cuobjdump-12-8' for glob 'cuda*'\n",
            "Note, selecting 'cuda-cuobjdump-12-9' for glob 'cuda*'\n",
            "Note, selecting 'cuda-libraries-dev-11-7' for glob 'cuda*'\n",
            "Note, selecting 'cuda-libraries-dev-11-8' for glob 'cuda*'\n",
            "Note, selecting 'cuda-toolkit-11-7' for glob 'cuda*'\n",
            "Note, selecting 'cuda-toolkit-11-8' for glob 'cuda*'\n",
            "Note, selecting 'cuda-cuobjdump-13-0' for glob 'cuda*'\n",
            "Note, selecting 'cuda-libraries-dev-12-0' for glob 'cuda*'\n",
            "Note, selecting 'cuda-libraries-dev-12-1' for glob 'cuda*'\n",
            "Note, selecting 'cuda-libraries-dev-12-2' for glob 'cuda*'\n",
            "Note, selecting 'cuda-libraries-dev-12-3' for glob 'cuda*'\n",
            "Note, selecting 'cuda-libraries-dev-12-4' for glob 'cuda*'\n",
            "Note, selecting 'cuda-libraries-dev-12-5' for glob 'cuda*'\n",
            "Note, selecting 'cuda-libraries-dev-12-6' for glob 'cuda*'\n",
            "Note, selecting 'cuda-libraries-dev-12-8' for glob 'cuda*'\n",
            "Note, selecting 'cuda-libraries-dev-12-9' for glob 'cuda*'\n",
            "Note, selecting 'cuda-toolkit-12-0' for glob 'cuda*'\n",
            "Note, selecting 'cuda-toolkit-12-1' for glob 'cuda*'\n",
            "Note, selecting 'cuda-toolkit-12-2' for glob 'cuda*'\n",
            "Note, selecting 'cuda-toolkit-12-3' for glob 'cuda*'\n",
            "Note, selecting 'cuda-toolkit-12-4' for glob 'cuda*'\n",
            "Note, selecting 'cuda-toolkit-12-5' for glob 'cuda*'\n",
            "Note, selecting 'cuda-toolkit-12-6' for glob 'cuda*'\n",
            "Note, selecting 'cuda-toolkit-12-8' for glob 'cuda*'\n",
            "Note, selecting 'cuda-toolkit-12-9' for glob 'cuda*'\n",
            "Note, selecting 'cuda-libraries-dev-13-0' for glob 'cuda*'\n",
            "Note, selecting 'cuda-toolkit-13-0' for glob 'cuda*'\n",
            "Note, selecting 'cuda-compat-11-7' for glob 'cuda*'\n",
            "Note, selecting 'cuda-compat-11-8' for glob 'cuda*'\n",
            "Note, selecting 'cuda-compat-12-0' for glob 'cuda*'\n",
            "Note, selecting 'cuda-compat-12-1' for glob 'cuda*'\n",
            "Note, selecting 'cuda-compat-12-2' for glob 'cuda*'\n",
            "Note, selecting 'cuda-compat-12-3' for glob 'cuda*'\n",
            "Note, selecting 'cuda-compat-12-4' for glob 'cuda*'\n",
            "Note, selecting 'cuda-compat-12-5' for glob 'cuda*'\n",
            "Note, selecting 'cuda-compat-12-6' for glob 'cuda*'\n",
            "Note, selecting 'cuda-compat-12-7' for glob 'cuda*'\n",
            "Note, selecting 'cuda-compat-12-8' for glob 'cuda*'\n",
            "Note, selecting 'cuda-compat-12-9' for glob 'cuda*'\n",
            "Note, selecting 'cuda-compat-13-0' for glob 'cuda*'\n",
            "Note, selecting 'cuda-driver-dev-11-7' for glob 'cuda*'\n",
            "Note, selecting 'cuda-driver-dev-11-8' for glob 'cuda*'\n",
            "Note, selecting 'cuda-toolkit-config-common' for glob 'cuda*'\n",
            "Note, selecting 'cuda-driver-dev-12-0' for glob 'cuda*'\n",
            "Note, selecting 'cuda-driver-dev-12-1' for glob 'cuda*'\n",
            "Note, selecting 'cuda-driver-dev-12-2' for glob 'cuda*'\n",
            "Note, selecting 'cuda-driver-dev-12-3' for glob 'cuda*'\n",
            "Note, selecting 'cuda-driver-dev-12-4' for glob 'cuda*'\n",
            "Note, selecting 'cuda-driver-dev-12-5' for glob 'cuda*'\n",
            "Note, selecting 'cuda-driver-dev-12-6' for glob 'cuda*'\n",
            "Note, selecting 'cuda-driver-dev-12-8' for glob 'cuda*'\n",
            "Note, selecting 'cuda-driver-dev-12-9' for glob 'cuda*'\n",
            "Note, selecting 'cuda-minimal-build-11-7' for glob 'cuda*'\n",
            "Note, selecting 'cuda-minimal-build-11-8' for glob 'cuda*'\n",
            "Note, selecting 'cuda-nsight-systems-11-7' for glob 'cuda*'\n",
            "Note, selecting 'cuda-nsight-systems-11-8' for glob 'cuda*'\n",
            "Note, selecting 'cuda-driver-dev-13-0' for glob 'cuda*'\n",
            "Note, selecting 'cuda-minimal-build-12-0' for glob 'cuda*'\n",
            "Note, selecting 'cuda-minimal-build-12-1' for glob 'cuda*'\n",
            "Note, selecting 'cuda-minimal-build-12-2' for glob 'cuda*'\n",
            "Note, selecting 'cuda-minimal-build-12-3' for glob 'cuda*'\n",
            "Note, selecting 'cuda-minimal-build-12-4' for glob 'cuda*'\n",
            "Note, selecting 'cuda-minimal-build-12-5' for glob 'cuda*'\n",
            "Note, selecting 'cuda-minimal-build-12-6' for glob 'cuda*'\n",
            "Note, selecting 'cuda-minimal-build-12-8' for glob 'cuda*'\n",
            "Note, selecting 'cuda-minimal-build-12-9' for glob 'cuda*'\n",
            "Note, selecting 'cuda-nsight-systems-12-0' for glob 'cuda*'\n",
            "Note, selecting 'cuda-nsight-systems-12-1' for glob 'cuda*'\n",
            "Note, selecting 'cuda-nsight-systems-12-2' for glob 'cuda*'\n",
            "Note, selecting 'cuda-nsight-systems-12-3' for glob 'cuda*'\n",
            "Note, selecting 'cuda-nsight-systems-12-4' for glob 'cuda*'\n",
            "Note, selecting 'cuda-nsight-systems-12-5' for glob 'cuda*'\n",
            "Note, selecting 'cuda-nsight-systems-12-6' for glob 'cuda*'\n",
            "Note, selecting 'cuda-nsight-systems-12-8' for glob 'cuda*'\n",
            "Note, selecting 'cuda-nsight-systems-12-9' for glob 'cuda*'\n",
            "Note, selecting 'cuda-minimal-build-13-0' for glob 'cuda*'\n",
            "Note, selecting 'cuda-nsight-systems-13-0' for glob 'cuda*'\n",
            "Note, selecting 'cuda-drivers' for glob 'cuda*'\n",
            "Note, selecting 'cuda-nvrtc-11-7' for glob 'cuda*'\n",
            "Note, selecting 'cuda-nvrtc-11-8' for glob 'cuda*'\n",
            "Note, selecting 'cuda-command-line-tools-11-7' for glob 'cuda*'\n",
            "Note, selecting 'cuda-command-line-tools-11-8' for glob 'cuda*'\n",
            "Note, selecting 'cuda-nvrtc-12-0' for glob 'cuda*'\n",
            "Note, selecting 'cuda-nvrtc-12-1' for glob 'cuda*'\n",
            "Note, selecting 'cuda-nvrtc-12-2' for glob 'cuda*'\n",
            "Note, selecting 'cuda-nvrtc-12-3' for glob 'cuda*'\n",
            "Note, selecting 'cuda-nvrtc-12-4' for glob 'cuda*'\n",
            "Note, selecting 'cuda-nvrtc-12-5' for glob 'cuda*'\n",
            "Note, selecting 'cuda-nvrtc-12-6' for glob 'cuda*'\n",
            "Note, selecting 'cuda-nvrtc-12-7' for glob 'cuda*'\n",
            "Note, selecting 'cuda-nvrtc-12-8' for glob 'cuda*'\n",
            "Note, selecting 'cuda-nvrtc-12-9' for glob 'cuda*'\n",
            "Note, selecting 'cuda-command-line-tools-12-0' for glob 'cuda*'\n",
            "Note, selecting 'cuda-command-line-tools-12-1' for glob 'cuda*'\n",
            "Note, selecting 'cuda-command-line-tools-12-2' for glob 'cuda*'\n",
            "Note, selecting 'cuda-command-line-tools-12-3' for glob 'cuda*'\n",
            "Note, selecting 'cuda-command-line-tools-12-4' for glob 'cuda*'\n",
            "Note, selecting 'cuda-command-line-tools-12-5' for glob 'cuda*'\n",
            "Note, selecting 'cuda-command-line-tools-12-6' for glob 'cuda*'\n",
            "Note, selecting 'cuda-command-line-tools-12-8' for glob 'cuda*'\n",
            "Note, selecting 'cuda-command-line-tools-12-9' for glob 'cuda*'\n",
            "Note, selecting 'cuda-nvdisasm-11-7' for glob 'cuda*'\n",
            "Note, selecting 'cuda-nvdisasm-11-8' for glob 'cuda*'\n",
            "Note, selecting 'cuda-nvrtc-13-0' for glob 'cuda*'\n",
            "Note, selecting 'cuda-command-line-tools-13-0' for glob 'cuda*'\n",
            "Note, selecting 'cuda-nvdisasm-12-0' for glob 'cuda*'\n",
            "Note, selecting 'cuda-nvdisasm-12-1' for glob 'cuda*'\n",
            "Note, selecting 'cuda-nvdisasm-12-2' for glob 'cuda*'\n",
            "Note, selecting 'cuda-nvdisasm-12-3' for glob 'cuda*'\n",
            "Note, selecting 'cuda-nvdisasm-12-4' for glob 'cuda*'\n",
            "Note, selecting 'cuda-nvdisasm-12-5' for glob 'cuda*'\n",
            "Note, selecting 'cuda-nvdisasm-12-6' for glob 'cuda*'\n",
            "Note, selecting 'cuda-nvdisasm-12-8' for glob 'cuda*'\n",
            "Note, selecting 'cuda-nvdisasm-12-9' for glob 'cuda*'\n",
            "Note, selecting 'cuda-nvdisasm-13-0' for glob 'cuda*'\n",
            "Note, selecting 'cuda-drivers-fabricmanager-450' for glob 'cuda*'\n",
            "Note, selecting 'cuda-drivers-fabricmanager-460' for glob 'cuda*'\n",
            "Note, selecting 'cuda-drivers-fabricmanager-470' for glob 'cuda*'\n",
            "Note, selecting 'cuda-drivers-fabricmanager-510' for glob 'cuda*'\n",
            "Note, selecting 'cuda-drivers-fabricmanager-515' for glob 'cuda*'\n",
            "Note, selecting 'cuda-drivers-fabricmanager-520' for glob 'cuda*'\n",
            "Note, selecting 'cuda-drivers-fabricmanager-525' for glob 'cuda*'\n",
            "Note, selecting 'cuda-drivers-fabricmanager-530' for glob 'cuda*'\n",
            "Note, selecting 'cuda-drivers-fabricmanager-535' for glob 'cuda*'\n",
            "Note, selecting 'cuda-drivers-fabricmanager-545' for glob 'cuda*'\n",
            "Note, selecting 'cuda-drivers-fabricmanager-550' for glob 'cuda*'\n",
            "Note, selecting 'cuda-drivers-fabricmanager-555' for glob 'cuda*'\n",
            "Note, selecting 'cuda-drivers-fabricmanager-560' for glob 'cuda*'\n",
            "Note, selecting 'cuda-drivers-fabricmanager-565' for glob 'cuda*'\n",
            "Note, selecting 'cuda-drivers-fabricmanager-570' for glob 'cuda*'\n",
            "Note, selecting 'cuda-drivers-fabricmanager-575' for glob 'cuda*'\n",
            "Note, selecting 'cuda-drivers-fabricmanager-580' for glob 'cuda*'\n",
            "Note, selecting 'cuda-toolkit-13-0-config-common' for glob 'cuda*'\n",
            "Note, selecting 'cuda-sanitizer-11-7' for glob 'cuda*'\n",
            "Note, selecting 'cuda-sanitizer-11-8' for glob 'cuda*'\n",
            "Note, selecting 'cuda-sanitizer-12-0' for glob 'cuda*'\n",
            "Note, selecting 'cuda-sanitizer-12-1' for glob 'cuda*'\n",
            "Note, selecting 'cuda-sanitizer-12-2' for glob 'cuda*'\n",
            "Note, selecting 'cuda-sanitizer-12-3' for glob 'cuda*'\n",
            "Note, selecting 'cuda-sanitizer-12-4' for glob 'cuda*'\n",
            "Note, selecting 'cuda-sanitizer-12-5' for glob 'cuda*'\n",
            "Note, selecting 'cuda-sanitizer-12-6' for glob 'cuda*'\n",
            "Note, selecting 'cuda-sanitizer-12-8' for glob 'cuda*'\n",
            "Note, selecting 'cuda-sanitizer-12-9' for glob 'cuda*'\n",
            "Note, selecting 'cuda-toolkit-12-0-config-common' for glob 'cuda*'\n",
            "Note, selecting 'cuda-sanitizer-13-0' for glob 'cuda*'\n",
            "Note, selecting 'cuda-documentation-11-7' for glob 'cuda*'\n",
            "Note, selecting 'cuda-documentation-11-8' for glob 'cuda*'\n",
            "Note, selecting 'cuda-gdb-src-11-7' for glob 'cuda*'\n",
            "Note, selecting 'cuda-gdb-src-11-8' for glob 'cuda*'\n",
            "Note, selecting 'cuda-documentation-12-0' for glob 'cuda*'\n",
            "Note, selecting 'cuda-documentation-12-1' for glob 'cuda*'\n",
            "Note, selecting 'cuda-documentation-12-2' for glob 'cuda*'\n",
            "Note, selecting 'cuda-documentation-12-3' for glob 'cuda*'\n",
            "Note, selecting 'cuda-documentation-12-4' for glob 'cuda*'\n",
            "Note, selecting 'cuda-documentation-12-5' for glob 'cuda*'\n",
            "Note, selecting 'cuda-documentation-12-6' for glob 'cuda*'\n",
            "Note, selecting 'cuda-documentation-12-8' for glob 'cuda*'\n",
            "Note, selecting 'cuda-documentation-12-9' for glob 'cuda*'\n",
            "Note, selecting 'cuda-gdb-src-12-0' for glob 'cuda*'\n",
            "Note, selecting 'cuda-gdb-src-12-1' for glob 'cuda*'\n",
            "Note, selecting 'cuda-gdb-src-12-2' for glob 'cuda*'\n",
            "Note, selecting 'cuda-gdb-src-12-3' for glob 'cuda*'\n",
            "Note, selecting 'cuda-gdb-src-12-4' for glob 'cuda*'\n",
            "Note, selecting 'cuda-gdb-src-12-5' for glob 'cuda*'\n",
            "Note, selecting 'cuda-gdb-src-12-6' for glob 'cuda*'\n",
            "Note, selecting 'cuda-gdb-src-12-8' for glob 'cuda*'\n",
            "Note, selecting 'cuda-gdb-src-12-9' for glob 'cuda*'\n",
            "Note, selecting 'cuda-documentation-13-0' for glob 'cuda*'\n",
            "Note, selecting 'cuda-gdb-src-13-0' for glob 'cuda*'\n",
            "Note, selecting 'cuda-thrust-11-7' for glob 'cuda*'\n",
            "Note, selecting 'cuda-thrust-11-8' for glob 'cuda*'\n",
            "Note, selecting 'cuda-thrust-12-0' for glob 'cuda*'\n",
            "Note, selecting 'cuda-thrust-12-1' for glob 'cuda*'\n",
            "Note, selecting 'cuda-thrust-12-2' for glob 'cuda*'\n",
            "Note, selecting 'cuda-thrust-12-3' for glob 'cuda*'\n",
            "Note, selecting 'cuda-thrust-12-4' for glob 'cuda*'\n",
            "Note, selecting 'cuda-thrust-12-5' for glob 'cuda*'\n",
            "Note, selecting 'cuda-thrust-12-6' for glob 'cuda*'\n",
            "Note, selecting 'cuda-thrust-12-8' for glob 'cuda*'\n",
            "Note, selecting 'cuda-thrust-12-9' for glob 'cuda*'\n",
            "Note, selecting 'cuda-drivers-fabricmanager' for glob 'cuda*'\n",
            "Note, selecting 'cuda-thrust-13-0' for glob 'cuda*'\n",
            "Note, selecting 'cuda-cuxxfilt-11-7' for glob 'cuda*'\n",
            "Note, selecting 'cuda-cuxxfilt-11-8' for glob 'cuda*'\n",
            "Note, selecting 'cuda-cuxxfilt-12-0' for glob 'cuda*'\n",
            "Note, selecting 'cuda-cuxxfilt-12-1' for glob 'cuda*'\n",
            "Note, selecting 'cuda-cuxxfilt-12-2' for glob 'cuda*'\n",
            "Note, selecting 'cuda-cuxxfilt-12-3' for glob 'cuda*'\n",
            "Note, selecting 'cuda-cuxxfilt-12-4' for glob 'cuda*'\n",
            "Note, selecting 'cuda-cuxxfilt-12-5' for glob 'cuda*'\n",
            "Note, selecting 'cuda-cuxxfilt-12-6' for glob 'cuda*'\n",
            "Note, selecting 'cuda-cuxxfilt-12-8' for glob 'cuda*'\n",
            "Note, selecting 'cuda-cuxxfilt-12-9' for glob 'cuda*'\n",
            "Note, selecting 'cuda-cuxxfilt-13-0' for glob 'cuda*'\n",
            "Note, selecting 'cuda-drivers-grid' for glob 'cuda*'\n",
            "Note, selecting 'cuda-cudart-cross-amd64-11-8' for glob 'cuda*'\n",
            "Note, selecting 'cuda-culibos-dev-13-0' for glob 'cuda*'\n",
            "Note, selecting 'cuda-cudart-cross-amd64-12-0' for glob 'cuda*'\n",
            "Note, selecting 'cuda-cudart-cross-amd64-12-1' for glob 'cuda*'\n",
            "Note, selecting 'cuda-cudart-cross-amd64-12-2' for glob 'cuda*'\n",
            "Note, selecting 'cuda-cudart-cross-amd64-12-3' for glob 'cuda*'\n",
            "Note, selecting 'cuda-cudart-cross-amd64-12-4' for glob 'cuda*'\n",
            "Note, selecting 'cuda-cudart-cross-amd64-12-5' for glob 'cuda*'\n",
            "Note, selecting 'cuda-cudart-cross-amd64-12-6' for glob 'cuda*'\n",
            "Note, selecting 'cuda-cudart-cross-amd64-12-7' for glob 'cuda*'\n",
            "Note, selecting 'cuda-cudart-cross-amd64-12-8' for glob 'cuda*'\n",
            "Note, selecting 'cuda-cudart-cross-amd64-12-9' for glob 'cuda*'\n",
            "Note, selecting 'cuda-cudart-cross-amd64-13-0' for glob 'cuda*'\n",
            "Note, selecting 'cuda-cudart-cross-amd64-13-1' for glob 'cuda*'\n",
            "Note, selecting 'cuda-cudart-cross-amd64-13-2' for glob 'cuda*'\n",
            "Note, selecting 'cuda-cudart-cross-amd64-13-3' for glob 'cuda*'\n",
            "Note, selecting 'cuda-cudart-cross-amd64-13-4' for glob 'cuda*'\n",
            "Note, selecting 'cuda-cudart-cross-amd64-13-5' for glob 'cuda*'\n",
            "Note, selecting 'cuda-cudart-cross-amd64-13-6' for glob 'cuda*'\n",
            "Note, selecting 'cuda-cudart-cross-amd64-13-7' for glob 'cuda*'\n",
            "Note, selecting 'cuda-cudart-cross-amd64-13-8' for glob 'cuda*'\n",
            "Note, selecting 'cuda-cudart-cross-amd64-13-9' for glob 'cuda*'\n",
            "Note, selecting 'cuda-cccl-11-7' for glob 'cuda*'\n",
            "Note, selecting 'cuda-cccl-11-8' for glob 'cuda*'\n",
            "Note, selecting 'cuda-cccl-12-0' for glob 'cuda*'\n",
            "Note, selecting 'cuda-cccl-12-1' for glob 'cuda*'\n",
            "Note, selecting 'cuda-cccl-12-2' for glob 'cuda*'\n",
            "Note, selecting 'cuda-cccl-12-3' for glob 'cuda*'\n",
            "Note, selecting 'cuda-cccl-12-4' for glob 'cuda*'\n",
            "Note, selecting 'cuda-cccl-12-5' for glob 'cuda*'\n",
            "Note, selecting 'cuda-cccl-12-6' for glob 'cuda*'\n",
            "Note, selecting 'cuda-cccl-12-8' for glob 'cuda*'\n",
            "Note, selecting 'cuda-cccl-12-9' for glob 'cuda*'\n",
            "Note, selecting 'cuda-cupti-11-7' for glob 'cuda*'\n",
            "Note, selecting 'cuda-cupti-11-8' for glob 'cuda*'\n",
            "Note, selecting 'cuda-cccl-13-0' for glob 'cuda*'\n",
            "Note, selecting 'cuda-cupti-12-0' for glob 'cuda*'\n",
            "Note, selecting 'cuda-cupti-12-1' for glob 'cuda*'\n",
            "Note, selecting 'cuda-cupti-12-2' for glob 'cuda*'\n",
            "Note, selecting 'cuda-cupti-12-3' for glob 'cuda*'\n",
            "Note, selecting 'cuda-cupti-12-4' for glob 'cuda*'\n",
            "Note, selecting 'cuda-cupti-12-5' for glob 'cuda*'\n",
            "Note, selecting 'cuda-cupti-12-6' for glob 'cuda*'\n",
            "Note, selecting 'cuda-cupti-12-8' for glob 'cuda*'\n",
            "Note, selecting 'cuda-cupti-12-9' for glob 'cuda*'\n",
            "Note, selecting 'cuda-cupti-13-0' for glob 'cuda*'\n",
            "Note, selecting 'cuda-ctadvisor-13-0' for glob 'cuda*'\n",
            "Note, selecting 'cuda-visual-tools-11-7' for glob 'cuda*'\n",
            "Note, selecting 'cuda-visual-tools-11-8' for glob 'cuda*'\n",
            "Note, selecting 'cuda-visual-tools-12-0' for glob 'cuda*'\n",
            "Note, selecting 'cuda-visual-tools-12-1' for glob 'cuda*'\n",
            "Note, selecting 'cuda-visual-tools-12-2' for glob 'cuda*'\n",
            "Note, selecting 'cuda-visual-tools-12-3' for glob 'cuda*'\n",
            "Note, selecting 'cuda-visual-tools-12-4' for glob 'cuda*'\n",
            "Note, selecting 'cuda-visual-tools-12-5' for glob 'cuda*'\n",
            "Note, selecting 'cuda-visual-tools-12-6' for glob 'cuda*'\n",
            "Note, selecting 'cuda-visual-tools-12-8' for glob 'cuda*'\n",
            "Note, selecting 'cuda-visual-tools-12-9' for glob 'cuda*'\n",
            "Note, selecting 'cuda-visual-tools-13-0' for glob 'cuda*'\n",
            "Note, selecting 'cuda-drivers-515' for glob 'cuda*'\n",
            "Note, selecting 'cuda-drivers-520' for glob 'cuda*'\n",
            "Note, selecting 'cuda-drivers-525' for glob 'cuda*'\n",
            "Note, selecting 'cuda-drivers-530' for glob 'cuda*'\n",
            "Note, selecting 'cuda-drivers-535' for glob 'cuda*'\n",
            "Note, selecting 'cuda-drivers-545' for glob 'cuda*'\n",
            "Note, selecting 'cuda-drivers-550' for glob 'cuda*'\n",
            "Note, selecting 'cuda-drivers-555' for glob 'cuda*'\n",
            "Note, selecting 'cuda-drivers-560' for glob 'cuda*'\n",
            "Note, selecting 'cuda-drivers-565' for glob 'cuda*'\n",
            "Note, selecting 'cuda-drivers-570' for glob 'cuda*'\n",
            "Note, selecting 'cuda-drivers-575' for glob 'cuda*'\n",
            "Note, selecting 'cuda-drivers-580' for glob 'cuda*'\n",
            "Note, selecting 'cuda-toolkit-12-9-config-common' for glob 'cuda*'\n",
            "Note, selecting 'cuda-toolkit-11-8-config-common' for glob 'cuda*'\n",
            "Note, selecting 'cuda-11-7' for glob 'cuda*'\n",
            "Note, selecting 'cuda-11-8' for glob 'cuda*'\n",
            "Note, selecting 'cuda-12-0' for glob 'cuda*'\n",
            "Note, selecting 'cuda-12-1' for glob 'cuda*'\n",
            "Note, selecting 'cuda-12-2' for glob 'cuda*'\n",
            "Note, selecting 'cuda-12-3' for glob 'cuda*'\n",
            "Note, selecting 'cuda-12-4' for glob 'cuda*'\n",
            "Note, selecting 'cuda-12-5' for glob 'cuda*'\n",
            "Note, selecting 'cuda-12-6' for glob 'cuda*'\n",
            "Note, selecting 'cuda-12-8' for glob 'cuda*'\n",
            "Note, selecting 'cuda-12-9' for glob 'cuda*'\n",
            "Note, selecting 'cuda-nvprune-11-7' for glob 'cuda*'\n",
            "Note, selecting 'cuda-nvprune-11-8' for glob 'cuda*'\n",
            "Note, selecting 'cuda-13-0' for glob 'cuda*'\n",
            "Note, selecting 'cuda-nvprune-12-0' for glob 'cuda*'\n",
            "Note, selecting 'cuda-nvprune-12-1' for glob 'cuda*'\n",
            "Note, selecting 'cuda-nvprune-12-2' for glob 'cuda*'\n",
            "Note, selecting 'cuda-nvprune-12-3' for glob 'cuda*'\n",
            "Note, selecting 'cuda-nvprune-12-4' for glob 'cuda*'\n",
            "Note, selecting 'cuda-nvprune-12-5' for glob 'cuda*'\n",
            "Note, selecting 'cuda-nvprune-12-6' for glob 'cuda*'\n",
            "Note, selecting 'cuda-nvprune-12-8' for glob 'cuda*'\n",
            "Note, selecting 'cuda-nvprune-12-9' for glob 'cuda*'\n",
            "Note, selecting 'cuda-license-10-1' for glob 'cuda*'\n",
            "Note, selecting 'cuda-license-10-2' for glob 'cuda*'\n",
            "Note, selecting 'cuda-nvprune-13-0' for glob 'cuda*'\n",
            "Note, selecting 'cuda-runtime-11-7' for glob 'cuda*'\n",
            "Note, selecting 'cuda-runtime-11-8' for glob 'cuda*'\n",
            "Note, selecting 'cuda-runtime-12-0' for glob 'cuda*'\n",
            "Note, selecting 'cuda-runtime-12-1' for glob 'cuda*'\n",
            "Note, selecting 'cuda-runtime-12-2' for glob 'cuda*'\n",
            "Note, selecting 'cuda-runtime-12-3' for glob 'cuda*'\n",
            "Note, selecting 'cuda-runtime-12-4' for glob 'cuda*'\n",
            "Note, selecting 'cuda-runtime-12-5' for glob 'cuda*'\n",
            "Note, selecting 'cuda-runtime-12-6' for glob 'cuda*'\n",
            "Note, selecting 'cuda-runtime-12-8' for glob 'cuda*'\n",
            "Note, selecting 'cuda-runtime-12-9' for glob 'cuda*'\n",
            "Note, selecting 'cuda-runtime-13-0' for glob 'cuda*'\n",
            "Note, selecting 'cuda-nvvm-12-2' for glob 'cuda*'\n",
            "Note, selecting 'cuda-nvvm-12-3' for glob 'cuda*'\n",
            "Note, selecting 'cuda-nvvm-12-4' for glob 'cuda*'\n",
            "Note, selecting 'cuda-nvvm-12-5' for glob 'cuda*'\n",
            "Note, selecting 'cuda-nvvm-12-6' for glob 'cuda*'\n",
            "Note, selecting 'cuda-nvvm-12-8' for glob 'cuda*'\n",
            "Note, selecting 'cuda-nvvm-12-9' for glob 'cuda*'\n",
            "Note, selecting 'cuda-memcheck-11-7' for glob 'cuda*'\n",
            "Note, selecting 'cuda-memcheck-11-8' for glob 'cuda*'\n",
            "Note, selecting 'cuda-cudart-11-0' for glob 'cuda*'\n",
            "Note, selecting 'cuda-cudart-11-1' for glob 'cuda*'\n",
            "Note, selecting 'cuda-cudart-11-2' for glob 'cuda*'\n",
            "Note, selecting 'cuda-cudart-11-7' for glob 'cuda*'\n",
            "Note, selecting 'cuda-cudart-11-8' for glob 'cuda*'\n",
            "Note, selecting 'cuda-cudart-12-0' for glob 'cuda*'\n",
            "Note, selecting 'cuda-nvrtc-dev-11-7' for glob 'cuda*'\n",
            "Note, selecting 'cuda-cudart-12-1' for glob 'cuda*'\n",
            "Note, selecting 'cuda-nvrtc-dev-11-8' for glob 'cuda*'\n",
            "Note, selecting 'cuda-cudart-12-2' for glob 'cuda*'\n",
            "Note, selecting 'cuda-cudart-12-3' for glob 'cuda*'\n",
            "Note, selecting 'cuda-cudart-12-4' for glob 'cuda*'\n",
            "Note, selecting 'cuda-cudart-12-5' for glob 'cuda*'\n",
            "Note, selecting 'cuda-cudart-12-6' for glob 'cuda*'\n",
            "Note, selecting 'cuda-cudart-12-8' for glob 'cuda*'\n",
            "Note, selecting 'cuda-cudart-12-9' for glob 'cuda*'\n",
            "Note, selecting 'cuda-nvrtc-dev-12-0' for glob 'cuda*'\n",
            "Note, selecting 'cuda-nvrtc-dev-12-1' for glob 'cuda*'\n",
            "Note, selecting 'cuda-nvrtc-dev-12-2' for glob 'cuda*'\n",
            "Note, selecting 'cuda-nvrtc-dev-12-3' for glob 'cuda*'\n",
            "Note, selecting 'cuda-nvrtc-dev-12-4' for glob 'cuda*'\n",
            "Note, selecting 'cuda-nvrtc-dev-12-5' for glob 'cuda*'\n",
            "Note, selecting 'cuda-nvrtc-dev-12-6' for glob 'cuda*'\n",
            "Note, selecting 'cuda-cudart-13-0' for glob 'cuda*'\n",
            "Note, selecting 'cuda-nvrtc-dev-12-7' for glob 'cuda*'\n",
            "Note, selecting 'cuda-nvrtc-dev-12-8' for glob 'cuda*'\n",
            "Note, selecting 'cuda-nvrtc-dev-12-9' for glob 'cuda*'\n",
            "Note, selecting 'cuda-nvrtc-dev-13-0' for glob 'cuda*'\n",
            "Note, selecting 'cuda-nvprof-11-7' for glob 'cuda*'\n",
            "Note, selecting 'cuda-nvprof-11-8' for glob 'cuda*'\n",
            "Note, selecting 'cuda-nvprof-12-0' for glob 'cuda*'\n",
            "Note, selecting 'cuda-nvprof-12-1' for glob 'cuda*'\n",
            "Note, selecting 'cuda-nvprof-12-2' for glob 'cuda*'\n",
            "Note, selecting 'cuda-nvprof-12-3' for glob 'cuda*'\n",
            "Note, selecting 'cuda-nvprof-12-4' for glob 'cuda*'\n",
            "Note, selecting 'cuda-nvprof-12-5' for glob 'cuda*'\n",
            "Note, selecting 'cuda-nvprof-12-6' for glob 'cuda*'\n",
            "Note, selecting 'cuda-nvprof-12-8' for glob 'cuda*'\n",
            "Note, selecting 'cuda-nvprof-12-9' for glob 'cuda*'\n",
            "Note, selecting 'cuda-sandbox-dev-12-8' for glob 'cuda*'\n",
            "Note, selecting 'cuda-sandbox-dev-12-9' for glob 'cuda*'\n",
            "Note, selecting 'cuda-demo-suite-11-7' for glob 'cuda*'\n",
            "Note, selecting 'cuda-demo-suite-11-8' for glob 'cuda*'\n",
            "Note, selecting 'cuda-sandbox-dev-13-0' for glob 'cuda*'\n",
            "Note, selecting 'cuda-demo-suite-12-0' for glob 'cuda*'\n",
            "Note, selecting 'cuda-demo-suite-12-1' for glob 'cuda*'\n",
            "Note, selecting 'cuda-demo-suite-12-2' for glob 'cuda*'\n",
            "Note, selecting 'cuda-demo-suite-12-3' for glob 'cuda*'\n",
            "Note, selecting 'cuda-demo-suite-12-4' for glob 'cuda*'\n",
            "Note, selecting 'cuda-demo-suite-12-5' for glob 'cuda*'\n",
            "Note, selecting 'cuda-demo-suite-12-6' for glob 'cuda*'\n",
            "Note, selecting 'cuda-demo-suite-12-8' for glob 'cuda*'\n",
            "Note, selecting 'cuda-demo-suite-12-9' for glob 'cuda*'\n",
            "Note, selecting 'cuda' for glob 'cuda*'\n",
            "Note, selecting 'cuda-profiler-api-11-8' for glob 'cuda*'\n",
            "Note, selecting 'cuda-toolkit-12-8-config-common' for glob 'cuda*'\n",
            "Note, selecting 'cuda-profiler-api-12-0' for glob 'cuda*'\n",
            "Note, selecting 'cuda-profiler-api-12-1' for glob 'cuda*'\n",
            "Note, selecting 'cuda-profiler-api-12-2' for glob 'cuda*'\n",
            "Note, selecting 'cuda-profiler-api-12-3' for glob 'cuda*'\n",
            "Note, selecting 'cuda-profiler-api-12-4' for glob 'cuda*'\n",
            "Note, selecting 'cuda-profiler-api-12-5' for glob 'cuda*'\n",
            "Note, selecting 'cuda-profiler-api-12-6' for glob 'cuda*'\n",
            "Note, selecting 'cuda-profiler-api-12-8' for glob 'cuda*'\n",
            "Note, selecting 'cuda-profiler-api-12-9' for glob 'cuda*'\n",
            "Note, selecting 'cuda-profiler-api-13-0' for glob 'cuda*'\n",
            "Note, selecting 'cuda-toolkit-11-7-config-common' for glob 'cuda*'\n",
            "Note, selecting 'cuda-drivers-branch' for glob 'cuda*'\n",
            "Note, selecting 'cuda-nvvp-11-7' for glob 'cuda*'\n",
            "Note, selecting 'cuda-nvvp-11-8' for glob 'cuda*'\n",
            "Note, selecting 'cuda-nvtx-11-7' for glob 'cuda*'\n",
            "Note, selecting 'cuda-nvtx-11-8' for glob 'cuda*'\n",
            "Note, selecting 'cuda-nvvp-12-0' for glob 'cuda*'\n",
            "Note, selecting 'cuda-nvvp-12-1' for glob 'cuda*'\n",
            "Note, selecting 'cuda-nvvp-12-2' for glob 'cuda*'\n",
            "Note, selecting 'cuda-nvvp-12-3' for glob 'cuda*'\n",
            "Note, selecting 'cuda-nvvp-12-4' for glob 'cuda*'\n",
            "Note, selecting 'cuda-nvvp-12-5' for glob 'cuda*'\n",
            "Note, selecting 'cuda-nvvp-12-6' for glob 'cuda*'\n",
            "Note, selecting 'cuda-nvvp-12-8' for glob 'cuda*'\n",
            "Note, selecting 'cuda-nvvp-12-9' for glob 'cuda*'\n",
            "Note, selecting 'cuda-crt-12-2' for glob 'cuda*'\n",
            "Note, selecting 'cuda-crt-12-3' for glob 'cuda*'\n",
            "Note, selecting 'cuda-crt-12-4' for glob 'cuda*'\n",
            "Note, selecting 'cuda-crt-12-5' for glob 'cuda*'\n",
            "Note, selecting 'cuda-crt-12-6' for glob 'cuda*'\n",
            "Note, selecting 'cuda-crt-12-8' for glob 'cuda*'\n",
            "Note, selecting 'cuda-crt-12-9' for glob 'cuda*'\n",
            "Note, selecting 'cuda-nvtx-12-0' for glob 'cuda*'\n",
            "Note, selecting 'cuda-nvtx-12-1' for glob 'cuda*'\n",
            "Note, selecting 'cuda-nvtx-12-2' for glob 'cuda*'\n",
            "Note, selecting 'cuda-nvtx-12-3' for glob 'cuda*'\n",
            "Note, selecting 'cuda-nvtx-12-4' for glob 'cuda*'\n",
            "Note, selecting 'cuda-nvtx-12-5' for glob 'cuda*'\n",
            "Note, selecting 'cuda-nvtx-12-6' for glob 'cuda*'\n",
            "Note, selecting 'cuda-nvtx-12-8' for glob 'cuda*'\n",
            "Note, selecting 'cuda-nvtx-12-9' for glob 'cuda*'\n",
            "Note, selecting 'cuda-crt-13-0' for glob 'cuda*'\n",
            "Note, selecting 'cuda-nvtx-13-0' for glob 'cuda*'\n",
            "Note, selecting 'cuda-nvcc-11-0' for glob 'cuda*'\n",
            "Note, selecting 'cuda-nvcc-11-1' for glob 'cuda*'\n",
            "Note, selecting 'cuda-nvcc-11-2' for glob 'cuda*'\n",
            "Note, selecting 'cuda-nvcc-11-3' for glob 'cuda*'\n",
            "Note, selecting 'cuda-nvcc-11-4' for glob 'cuda*'\n",
            "Note, selecting 'cuda-nvcc-11-5' for glob 'cuda*'\n",
            "Note, selecting 'cuda-nvcc-11-6' for glob 'cuda*'\n",
            "Note, selecting 'cuda-nvcc-11-7' for glob 'cuda*'\n",
            "Note, selecting 'cuda-nvcc-11-8' for glob 'cuda*'\n",
            "Note, selecting 'cuda-nvcc-11-9' for glob 'cuda*'\n",
            "Note, selecting 'cuda-cupti-dev-11-7' for glob 'cuda*'\n",
            "Note, selecting 'cuda-cupti-dev-11-8' for glob 'cuda*'\n",
            "Note, selecting 'cuda-nvcc-12-0' for glob 'cuda*'\n",
            "Note, selecting 'cuda-nvcc-12-1' for glob 'cuda*'\n",
            "Note, selecting 'cuda-nvcc-12-2' for glob 'cuda*'\n",
            "Note, selecting 'cuda-nvcc-12-3' for glob 'cuda*'\n",
            "Note, selecting 'cuda-nvcc-12-4' for glob 'cuda*'\n",
            "Note, selecting 'cuda-nvcc-12-5' for glob 'cuda*'\n",
            "Note, selecting 'cuda-nvcc-12-6' for glob 'cuda*'\n",
            "Note, selecting 'cuda-nvcc-12-7' for glob 'cuda*'\n",
            "Note, selecting 'cuda-nvcc-12-8' for glob 'cuda*'\n",
            "Note, selecting 'cuda-nvcc-12-9' for glob 'cuda*'\n",
            "Note, selecting 'cuda-cupti-dev-12-0' for glob 'cuda*'\n",
            "Note, selecting 'cuda-cupti-dev-12-1' for glob 'cuda*'\n",
            "Note, selecting 'cuda-cupti-dev-12-2' for glob 'cuda*'\n",
            "Note, selecting 'cuda-cupti-dev-12-3' for glob 'cuda*'\n",
            "Note, selecting 'cuda-cupti-dev-12-4' for glob 'cuda*'\n",
            "Note, selecting 'cuda-cupti-dev-12-5' for glob 'cuda*'\n",
            "Note, selecting 'cuda-cupti-dev-12-6' for glob 'cuda*'\n",
            "Note, selecting 'cuda-cupti-dev-12-8' for glob 'cuda*'\n",
            "Note, selecting 'cuda-cupti-dev-12-9' for glob 'cuda*'\n",
            "Note, selecting 'cuda-nvcc-13-0' for glob 'cuda*'\n",
            "Note, selecting 'cuda-nvcc-13-1' for glob 'cuda*'\n",
            "Note, selecting 'cuda-nvcc-13-2' for glob 'cuda*'\n",
            "Note, selecting 'cuda-nvcc-13-3' for glob 'cuda*'\n",
            "Note, selecting 'cuda-nvcc-13-4' for glob 'cuda*'\n",
            "Note, selecting 'cuda-nvcc-13-5' for glob 'cuda*'\n",
            "Note, selecting 'cuda-nvcc-13-6' for glob 'cuda*'\n",
            "Note, selecting 'cuda-nvcc-13-7' for glob 'cuda*'\n",
            "Note, selecting 'cuda-nvcc-13-8' for glob 'cuda*'\n",
            "Note, selecting 'cuda-nvcc-13-9' for glob 'cuda*'\n",
            "Note, selecting 'cuda-toolkit' for glob 'cuda*'\n",
            "Note, selecting 'cuda-compiler-11-7' for glob 'cuda*'\n",
            "Note, selecting 'cuda-compiler-11-8' for glob 'cuda*'\n",
            "Note, selecting 'cuda-cupti-dev-13-0' for glob 'cuda*'\n",
            "Note, selecting 'cuda-compiler-12-0' for glob 'cuda*'\n",
            "Note, selecting 'cuda-compiler-12-1' for glob 'cuda*'\n",
            "Note, selecting 'cuda-compiler-12-2' for glob 'cuda*'\n",
            "Note, selecting 'cuda-compiler-12-3' for glob 'cuda*'\n",
            "Note, selecting 'cuda-compiler-12-4' for glob 'cuda*'\n",
            "Note, selecting 'cuda-compiler-12-5' for glob 'cuda*'\n",
            "Note, selecting 'cuda-compiler-12-6' for glob 'cuda*'\n",
            "Note, selecting 'cuda-compiler-12-8' for glob 'cuda*'\n",
            "Note, selecting 'cuda-compiler-12-9' for glob 'cuda*'\n",
            "Note, selecting 'cuda-compiler-13-0' for glob 'cuda*'\n",
            "Note, selecting 'cuda-toolkit-11-config-common' for glob 'cuda*'\n",
            "Note, selecting 'cuda-toolkit-12' for glob 'cuda*'\n",
            "Note, selecting 'cuda-toolkit-13' for glob 'cuda*'\n",
            "Note, selecting 'cuda-toolkit-12-config-common' for glob 'cuda*'\n",
            "Note, selecting 'cuda-cub-11-7' for glob 'cuda*'\n",
            "Note, selecting 'cuda-cub-11-8' for glob 'cuda*'\n",
            "Note, selecting 'cuda-nvcc-12' for glob 'cuda*'\n",
            "Note, selecting 'cuda-nvcc-13' for glob 'cuda*'\n",
            "Note, selecting 'cuda-cub-12-0' for glob 'cuda*'\n",
            "Note, selecting 'cuda-cub-12-1' for glob 'cuda*'\n",
            "Note, selecting 'cuda-cub-12-2' for glob 'cuda*'\n",
            "Note, selecting 'cuda-cub-12-3' for glob 'cuda*'\n",
            "Note, selecting 'cuda-cub-12-4' for glob 'cuda*'\n",
            "Note, selecting 'cuda-cub-12-5' for glob 'cuda*'\n",
            "Note, selecting 'cuda-cub-12-6' for glob 'cuda*'\n",
            "Note, selecting 'cuda-cub-12-8' for glob 'cuda*'\n",
            "Note, selecting 'cuda-cub-12-9' for glob 'cuda*'\n",
            "Note, selecting 'cuda-nvml-dev-11-7' for glob 'cuda*'\n",
            "Note, selecting 'cuda-nvml-dev-11-8' for glob 'cuda*'\n",
            "Note, selecting 'cuda-toolkit-13-config-common' for glob 'cuda*'\n",
            "Note, selecting 'cuda-cub-13-0' for glob 'cuda*'\n",
            "Note, selecting 'cuda-nvml-dev-12-0' for glob 'cuda*'\n",
            "Note, selecting 'cuda-nvml-dev-12-1' for glob 'cuda*'\n",
            "Note, selecting 'cuda-nvml-dev-12-2' for glob 'cuda*'\n",
            "Note, selecting 'cuda-nvml-dev-12-3' for glob 'cuda*'\n",
            "Note, selecting 'cuda-nvml-dev-12-4' for glob 'cuda*'\n",
            "Note, selecting 'cuda-nvml-dev-12-5' for glob 'cuda*'\n",
            "Note, selecting 'cuda-nvml-dev-12-6' for glob 'cuda*'\n",
            "Note, selecting 'cuda-nvml-dev-12-8' for glob 'cuda*'\n",
            "Note, selecting 'cuda-nvml-dev-12-9' for glob 'cuda*'\n",
            "Note, selecting 'cuda-keyring' for glob 'cuda*'\n",
            "Note, selecting 'cuda-nvml-dev-13-0' for glob 'cuda*'\n",
            "Package 'cuda-license-10-1' is not installed, so not removed\n",
            "Package 'cuda-license-10-2' is not installed, so not removed\n",
            "Note, selecting 'cuda-cccl-11-7' instead of 'cuda-cub-11-7'\n",
            "Note, selecting 'cuda-cccl-11-7' instead of 'cuda-thrust-11-7'\n",
            "Package 'cuda-cudart-11-2' is not installed, so not removed\n",
            "Package 'cuda-drivers-diagnostic' is not installed, so not removed\n",
            "Package 'cuda-drivers-grid' is not installed, so not removed\n",
            "Note, selecting 'cuda-cccl-11-8' instead of 'cuda-cub-11-8'\n",
            "Note, selecting 'cuda-cccl-11-8' instead of 'cuda-thrust-11-8'\n",
            "Package 'cuda-cudart-dev-11-1' is not installed, so not removed\n",
            "Package 'cuda-cudart-dev-11-0' is not installed, so not removed\n",
            "Package 'cuda-cudart-cross-amd64-11-8' is not installed, so not removed\n",
            "Package 'cuda-nvcc-11-1' is not installed, so not removed\n",
            "Package 'cuda-nvcc-11-2' is not installed, so not removed\n",
            "Package 'cuda-nvcc-11-3' is not installed, so not removed\n",
            "Package 'cuda-nvcc-11-4' is not installed, so not removed\n",
            "Package 'cuda-nvcc-11-5' is not installed, so not removed\n",
            "Package 'cuda-nvcc-11-6' is not installed, so not removed\n",
            "Package 'cuda-nvcc-11-9' is not installed, so not removed\n",
            "Package 'cuda-nvcc-11-0' is not installed, so not removed\n",
            "Note, selecting 'cuda-cccl-12-0' instead of 'cuda-cub-12-0'\n",
            "Note, selecting 'cuda-cccl-12-0' instead of 'cuda-thrust-12-0'\n",
            "Note, selecting 'cuda-cccl-12-1' instead of 'cuda-cub-12-1'\n",
            "Note, selecting 'cuda-cccl-12-1' instead of 'cuda-thrust-12-1'\n",
            "Package 'cuda-cudart-cross-amd64-12-0' is not installed, so not removed\n",
            "Package 'cuda-cudart-11-1' is not installed, so not removed\n",
            "Package 'cuda-cudart-11-0' is not installed, so not removed\n",
            "Note, selecting 'cuda-cccl-12-2' instead of 'cuda-cub-12-2'\n",
            "Note, selecting 'cuda-cccl-12-2' instead of 'cuda-thrust-12-2'\n",
            "Note, selecting 'cuda-cccl-12-3' instead of 'cuda-cub-12-3'\n",
            "Note, selecting 'cuda-cccl-12-3' instead of 'cuda-thrust-12-3'\n",
            "Note, selecting 'cuda-cccl-12-4' instead of 'cuda-cub-12-4'\n",
            "Note, selecting 'cuda-cccl-12-4' instead of 'cuda-thrust-12-4'\n",
            "Package 'cuda-cudart-cross-amd64-12-4' is not installed, so not removed\n",
            "Package 'cuda-nvcc-12-7' is not installed, so not removed\n",
            "Note, selecting 'cuda-cccl-12-5' instead of 'cuda-cub-12-5'\n",
            "Note, selecting 'cuda-cccl-12-5' instead of 'cuda-thrust-12-5'\n",
            "Package 'cuda-cudart-cross-amd64-12-5' is not installed, so not removed\n",
            "Note, selecting 'cuda-cccl-12-6' instead of 'cuda-cub-12-6'\n",
            "Note, selecting 'cuda-cccl-12-6' instead of 'cuda-thrust-12-6'\n",
            "Package 'cuda-cudart-cross-amd64-12-6' is not installed, so not removed\n",
            "Package 'cuda-nvrtc-12-7' is not installed, so not removed\n",
            "Package 'cuda-cudart-cross-amd64-12-1' is not installed, so not removed\n",
            "Package 'cuda-cudart-cross-amd64-12-2' is not installed, so not removed\n",
            "Package 'cuda-cudart-cross-amd64-12-3' is not installed, so not removed\n",
            "Package 'cuda-cudart-cross-amd64-12-7' is not installed, so not removed\n",
            "Package 'cuda-cudart-cross-amd64-12-8' is not installed, so not removed\n",
            "Package 'cuda-cudart-cross-amd64-12-9' is not installed, so not removed\n",
            "Note, selecting 'cuda-cccl-12-8' instead of 'cuda-cub-12-8'\n",
            "Note, selecting 'cuda-cccl-12-8' instead of 'cuda-thrust-12-8'\n",
            "Package 'cuda-nvrtc-dev-12-7' is not installed, so not removed\n",
            "Note, selecting 'cuda-cccl-12-9' instead of 'cuda-cub-12-9'\n",
            "Note, selecting 'cuda-cccl-12-9' instead of 'cuda-thrust-12-9'\n",
            "Note, selecting 'cuda-nvcc-12-9' instead of 'cuda-nvcc-12'\n",
            "Note, selecting 'cuda-cccl-13-0' instead of 'cuda-cub-13-0'\n",
            "Note, selecting 'cuda-cccl-13-0' instead of 'cuda-thrust-13-0'\n",
            "Note, selecting 'cuda-nvcc-13-0' instead of 'cuda-nvcc-13'\n",
            "Note, selecting 'nvidia-fabricmanager' instead of 'cuda-drivers-fabricmanager-580'\n",
            "Package 'cuda-cudart-cross-amd64-13-1' is not installed, so not removed\n",
            "Package 'cuda-cudart-cross-amd64-13-2' is not installed, so not removed\n",
            "Package 'cuda-cudart-cross-amd64-13-3' is not installed, so not removed\n",
            "Package 'cuda-cudart-cross-amd64-13-4' is not installed, so not removed\n",
            "Package 'cuda-cudart-cross-amd64-13-5' is not installed, so not removed\n",
            "Package 'cuda-cudart-cross-amd64-13-6' is not installed, so not removed\n",
            "Package 'cuda-cudart-cross-amd64-13-7' is not installed, so not removed\n",
            "Package 'cuda-cudart-cross-amd64-13-8' is not installed, so not removed\n",
            "Package 'cuda-cudart-cross-amd64-13-9' is not installed, so not removed\n",
            "Package 'cuda-cudart-cross-amd64-13-0' is not installed, so not removed\n",
            "Package 'cuda-nvcc-13-1' is not installed, so not removed\n",
            "Package 'cuda-nvcc-13-2' is not installed, so not removed\n",
            "Package 'cuda-nvcc-13-3' is not installed, so not removed\n",
            "Package 'cuda-nvcc-13-4' is not installed, so not removed\n",
            "Package 'cuda-nvcc-13-5' is not installed, so not removed\n",
            "Package 'cuda-nvcc-13-6' is not installed, so not removed\n",
            "Package 'cuda-nvcc-13-7' is not installed, so not removed\n",
            "Package 'cuda-nvcc-13-8' is not installed, so not removed\n",
            "Package 'cuda-nvcc-13-9' is not installed, so not removed\n",
            "Note, selecting 'libcuda-10.2-1' for glob 'libcuda*'\n",
            "Note, selecting 'libcudart.so.12' for glob 'libcuda*'\n",
            "Note, selecting 'libcudart.so.13' for glob 'libcuda*'\n",
            "Note, selecting 'libcuda1-340' for glob 'libcuda*'\n",
            "Note, selecting 'libcuda1-384' for glob 'libcuda*'\n",
            "Note, selecting 'libcuda-5.0-1' for glob 'libcuda*'\n",
            "Note, selecting 'libcuda-11.0-1' for glob 'libcuda*'\n",
            "Note, selecting 'libcuda-11.1-1' for glob 'libcuda*'\n",
            "Note, selecting 'libcuda-11.2-1' for glob 'libcuda*'\n",
            "Note, selecting 'libcuda-11.3-1' for glob 'libcuda*'\n",
            "Note, selecting 'libcuda-5.5-1' for glob 'libcuda*'\n",
            "Note, selecting 'libcuda.so.1' for glob 'libcuda*'\n",
            "Note, selecting 'libcuda-6.0-1' for glob 'libcuda*'\n",
            "Note, selecting 'libcuda-11.4-1' for glob 'libcuda*'\n",
            "Note, selecting 'libcuda-11.5-1' for glob 'libcuda*'\n",
            "Note, selecting 'libcuda-12.0-1' for glob 'libcuda*'\n",
            "Note, selecting 'libcuda-11.6-1' for glob 'libcuda*'\n",
            "Note, selecting 'libcuda-12.1-1' for glob 'libcuda*'\n",
            "Note, selecting 'libcuda-11.7-1' for glob 'libcuda*'\n",
            "Note, selecting 'libcuda-12.2-1' for glob 'libcuda*'\n",
            "Note, selecting 'libcuda-11.8-1' for glob 'libcuda*'\n",
            "Note, selecting 'libcuda-12.3-1' for glob 'libcuda*'\n",
            "Note, selecting 'libcuda-6.5-1' for glob 'libcuda*'\n",
            "Note, selecting 'libcuda-7.0-1' for glob 'libcuda*'\n",
            "Note, selecting 'libcuda-12.4-1' for glob 'libcuda*'\n",
            "Note, selecting 'libcuda-12.5-1' for glob 'libcuda*'\n",
            "Note, selecting 'libcuda-12.6-1' for glob 'libcuda*'\n",
            "Note, selecting 'libcudart11.0' for glob 'libcuda*'\n",
            "Note, selecting 'libcuda-12.7-1' for glob 'libcuda*'\n",
            "Note, selecting 'libcuda-12.8-1' for glob 'libcuda*'\n",
            "Note, selecting 'libcuda-7.5-1' for glob 'libcuda*'\n",
            "Note, selecting 'libcuda-8.0-1' for glob 'libcuda*'\n",
            "Note, selecting 'libcuda-9.0-1' for glob 'libcuda*'\n",
            "Note, selecting 'libcuda-9.1-1' for glob 'libcuda*'\n",
            "Note, selecting 'libcuda-9.2-1' for glob 'libcuda*'\n",
            "Note, selecting 'libcuda1-any' for glob 'libcuda*'\n",
            "Note, selecting 'libcuda.so.11.0-dev' for glob 'libcuda*'\n",
            "Note, selecting 'libcudart.so.11.0-dev' for glob 'libcuda*'\n",
            "Note, selecting 'libcuda.so.12-dev' for glob 'libcuda*'\n",
            "Note, selecting 'libcuda.so.13-dev' for glob 'libcuda*'\n",
            "Note, selecting 'libcudart.so.11.0' for glob 'libcuda*'\n",
            "Note, selecting 'libcudart.so.12-dev' for glob 'libcuda*'\n",
            "Note, selecting 'libcudart.so.13-dev' for glob 'libcuda*'\n",
            "Note, selecting 'libcuda1' for glob 'libcuda*'\n",
            "Note, selecting 'libcuda-10.0-1' for glob 'libcuda*'\n",
            "Note, selecting 'libcuda-10.1-1' for glob 'libcuda*'\n",
            "Package 'libcuda1-any' is not installed, so not removed\n",
            "Note, selecting 'cuda-cudart-13-0' instead of 'libcudart.so.13'\n",
            "Note, selecting 'cuda-cudart-dev-13-0' instead of 'libcudart.so.13-dev'\n",
            "Note, selecting 'cuda-driver-dev-13-0' instead of 'libcuda.so.13-dev'\n",
            "Note, selecting 'nvidia-driver-550-server' for glob 'nvidia*'\n",
            "Note, selecting 'nvidia-firmware-550-server-550.144.03' for glob 'nvidia*'\n",
            "Note, selecting 'nvidia-kernel-source-575-open' for glob 'nvidia*'\n",
            "Note, selecting 'nvidia-firmware-535-535.154.05' for glob 'nvidia*'\n",
            "Note, selecting 'nvidia-docker2' for glob 'nvidia*'\n",
            "Note, selecting 'nvidia-firmware-560-server-560.28.03' for glob 'nvidia*'\n",
            "Note, selecting 'nvidia-firmware-580-580.76.05' for glob 'nvidia*'\n",
            "Note, selecting 'nvidia-driver-570-server' for glob 'nvidia*'\n",
            "Note, selecting 'nvidia-cuda-toolkit-doc' for glob 'nvidia*'\n",
            "Note, selecting 'nvidia-imex' for glob 'nvidia*'\n",
            "Note, selecting 'nvidia-dkms-450-server' for glob 'nvidia*'\n",
            "Note, selecting 'nvidia-firmware-535-server-535.154.05' for glob 'nvidia*'\n",
            "Note, selecting 'nvidia-headless-390' for glob 'nvidia*'\n",
            "Note, selecting 'nvidia-cuda-toolkit-gcc' for glob 'nvidia*'\n",
            "Note, selecting 'nvidia-headless-418' for glob 'nvidia*'\n",
            "Note, selecting 'nvidia-headless-430' for glob 'nvidia*'\n",
            "Note, selecting 'nvidia-headless-435' for glob 'nvidia*'\n",
            "Note, selecting 'nvidia-headless-440' for glob 'nvidia*'\n",
            "Note, selecting 'nvidia-headless-450' for glob 'nvidia*'\n",
            "Note, selecting 'nvidia-headless-455' for glob 'nvidia*'\n",
            "Note, selecting 'nvidia-firmware-560-560.35.03' for glob 'nvidia*'\n",
            "Note, selecting 'nvidia-firmware-560-560.35.05' for glob 'nvidia*'\n",
            "Note, selecting 'nvidia-headless-460' for glob 'nvidia*'\n",
            "Note, selecting 'nvidia-headless-465' for glob 'nvidia*'\n",
            "Note, selecting 'nvidia-headless-470' for glob 'nvidia*'\n",
            "Note, selecting 'nvidia-dkms-470-server' for glob 'nvidia*'\n",
            "Note, selecting 'nvidia-headless-495' for glob 'nvidia*'\n",
            "Note, selecting 'nvidia-headless-510' for glob 'nvidia*'\n",
            "Note, selecting 'nvidia-headless-515' for glob 'nvidia*'\n",
            "Note, selecting 'nvidia-compute-utils-515-server' for glob 'nvidia*'\n",
            "Note, selecting 'nvidia-headless-520' for glob 'nvidia*'\n",
            "Note, selecting 'nvidia-headless-525' for glob 'nvidia*'\n",
            "Note, selecting 'nvidia-headless-530' for glob 'nvidia*'\n",
            "Note, selecting 'nvidia-headless-535' for glob 'nvidia*'\n",
            "Note, selecting 'nvidia-headless-545' for glob 'nvidia*'\n",
            "Note, selecting 'nvidia-headless-550' for glob 'nvidia*'\n",
            "Note, selecting 'nvidia-headless-555' for glob 'nvidia*'\n",
            "Note, selecting 'nvidia-headless-560' for glob 'nvidia*'\n",
            "Note, selecting 'nvidia-headless-565' for glob 'nvidia*'\n",
            "Note, selecting 'nvidia-headless-570' for glob 'nvidia*'\n",
            "Note, selecting 'nvidia-headless-575' for glob 'nvidia*'\n",
            "Note, selecting 'nvidia-headless-580' for glob 'nvidia*'\n",
            "Note, selecting 'nvidia-driver-440-server' for glob 'nvidia*'\n",
            "Note, selecting 'nvidia-driver-555-open' for glob 'nvidia*'\n",
            "Note, selecting 'nvidia-fabricmanager-dev' for glob 'nvidia*'\n",
            "Note, selecting 'nvidia-compute-utils-535-server' for glob 'nvidia*'\n",
            "Note, selecting 'nvidia-325-updates' for glob 'nvidia*'\n",
            "Note, selecting 'nvidia-driver-460-server' for glob 'nvidia*'\n",
            "Note, selecting 'nvidia-primus-vk-common' for glob 'nvidia*'\n",
            "Note, selecting 'nvidia-opencl-dev' for glob 'nvidia*'\n",
            "Note, selecting 'nvidia-kernel-open-515' for glob 'nvidia*'\n",
            "Note, selecting 'nvidia-kernel-open-520' for glob 'nvidia*'\n",
            "Note, selecting 'nvidia-kernel-open-525' for glob 'nvidia*'\n",
            "Note, selecting 'nvidia-kernel-open-530' for glob 'nvidia*'\n",
            "Note, selecting 'nvidia-kernel-open-535' for glob 'nvidia*'\n",
            "Note, selecting 'nvidia-kernel-open-545' for glob 'nvidia*'\n",
            "Note, selecting 'nvidia-kernel-open-550' for glob 'nvidia*'\n",
            "Note, selecting 'nvidia-kernel-open-555' for glob 'nvidia*'\n",
            "Note, selecting 'nvidia-kernel-open-560' for glob 'nvidia*'\n",
            "Note, selecting 'nvidia-kernel-open-565' for glob 'nvidia*'\n",
            "Note, selecting 'nvidia-kernel-open-570' for glob 'nvidia*'\n",
            "Note, selecting 'nvidia-kernel-open-575' for glob 'nvidia*'\n",
            "Note, selecting 'nvidia-headless-no-dkms-565-server' for glob 'nvidia*'\n",
            "Note, selecting 'nvidia-kernel-common-418-server' for glob 'nvidia*'\n",
            "Note, selecting 'nvidia-cg-toolkit' for glob 'nvidia*'\n",
            "Note, selecting 'nvidia-kernel-common-525-server' for glob 'nvidia*'\n",
            "Note, selecting 'nvidia-dkms-510-server' for glob 'nvidia*'\n",
            "Note, selecting 'nvidia-libopencl1-dev' for glob 'nvidia*'\n",
            "Note, selecting 'nvidia-texture-tools' for glob 'nvidia*'\n",
            "Note, selecting 'nvidia-driver-525-open' for glob 'nvidia*'\n",
            "Note, selecting 'nvidia-opencl-icd' for glob 'nvidia*'\n",
            "Note, selecting 'nvidia-kernel-common-565-server' for glob 'nvidia*'\n",
            "Note, selecting 'nvidia-driver-580-server-open' for glob 'nvidia*'\n",
            "Note, selecting 'nvidia-headless-no-dkms-575-open' for glob 'nvidia*'\n",
            "Note, selecting 'nvidia-headless-450-server' for glob 'nvidia*'\n",
            "Note, selecting 'nvidia-compute-utils-390' for glob 'nvidia*'\n",
            "Note, selecting 'nvidia-utils' for glob 'nvidia*'\n",
            "Note, selecting 'nvidia-compute-utils-418' for glob 'nvidia*'\n",
            "Note, selecting 'nvidia-compute-utils-430' for glob 'nvidia*'\n",
            "Note, selecting 'nvidia-compute-utils-435' for glob 'nvidia*'\n",
            "Note, selecting 'nvidia-compute-utils-440' for glob 'nvidia*'\n",
            "Note, selecting 'nvidia-compute-utils-450' for glob 'nvidia*'\n",
            "Note, selecting 'nvidia-compute-utils-455' for glob 'nvidia*'\n",
            "Note, selecting 'nvidia-compute-utils-460' for glob 'nvidia*'\n",
            "Note, selecting 'nvidia-compute-utils-465' for glob 'nvidia*'\n",
            "Note, selecting 'nvidia-compute-utils-470' for glob 'nvidia*'\n",
            "Note, selecting 'nvidia-compute-utils-495' for glob 'nvidia*'\n",
            "Note, selecting 'nvidia-dkms-390' for glob 'nvidia*'\n",
            "Note, selecting 'nvidia-headless-470-server' for glob 'nvidia*'\n",
            "Note, selecting 'nvidia-compute-utils-510' for glob 'nvidia*'\n",
            "Note, selecting 'nvidia-compute-utils-515' for glob 'nvidia*'\n",
            "Note, selecting 'nvidia-compute-utils-520' for glob 'nvidia*'\n",
            "Note, selecting 'nvidia-compute-utils-525' for glob 'nvidia*'\n",
            "Note, selecting 'nvidia-compute-utils-530' for glob 'nvidia*'\n",
            "Note, selecting 'nvidia-compute-utils-535' for glob 'nvidia*'\n",
            "Note, selecting 'nvidia-compute-utils-545' for glob 'nvidia*'\n",
            "Note, selecting 'nvidia-compute-utils-550' for glob 'nvidia*'\n",
            "Note, selecting 'nvidia-compute-utils-555' for glob 'nvidia*'\n",
            "Note, selecting 'nvidia-compute-utils-560' for glob 'nvidia*'\n",
            "Note, selecting 'nvidia-compute-utils-565' for glob 'nvidia*'\n",
            "Note, selecting 'nvidia-compute-utils-570' for glob 'nvidia*'\n",
            "Note, selecting 'nvidia-compute-utils-575' for glob 'nvidia*'\n",
            "Note, selecting 'nvidia-compute-utils-580' for glob 'nvidia*'\n",
            "Note, selecting 'nvidia-dkms-550-open' for glob 'nvidia*'\n",
            "Note, selecting 'nvidia-dkms-418' for glob 'nvidia*'\n",
            "Note, selecting 'nvidia-dkms-430' for glob 'nvidia*'\n",
            "Note, selecting 'nvidia-dkms-435' for glob 'nvidia*'\n",
            "Note, selecting 'nvidia-dkms-440' for glob 'nvidia*'\n",
            "Note, selecting 'nvidia-dkms-450' for glob 'nvidia*'\n",
            "Note, selecting 'nvidia-dkms-455' for glob 'nvidia*'\n",
            "Note, selecting 'nvidia-dkms-460' for glob 'nvidia*'\n",
            "Note, selecting 'nvidia-dkms-465' for glob 'nvidia*'\n",
            "Note, selecting 'nvidia-dkms-470' for glob 'nvidia*'\n",
            "Note, selecting 'nvidia-dkms-495' for glob 'nvidia*'\n",
            "Note, selecting 'nvidia-381-updates' for glob 'nvidia*'\n",
            "Note, selecting 'nvidia-dkms-510' for glob 'nvidia*'\n",
            "Note, selecting 'nvidia-dkms-515' for glob 'nvidia*'\n",
            "Note, selecting 'nvidia-dkms-520' for glob 'nvidia*'\n",
            "Note, selecting 'nvidia-dkms-525' for glob 'nvidia*'\n",
            "Note, selecting 'nvidia-dkms-530' for glob 'nvidia*'\n",
            "Note, selecting 'nvidia-dkms-535' for glob 'nvidia*'\n",
            "Note, selecting 'nvidia-fs' for glob 'nvidia*'\n",
            "Note, selecting 'nvidia-dkms-545' for glob 'nvidia*'\n",
            "Note, selecting 'nvidia-dkms-550' for glob 'nvidia*'\n",
            "Note, selecting 'nvidia-dkms-555' for glob 'nvidia*'\n",
            "Note, selecting 'nvidia-dkms-560' for glob 'nvidia*'\n",
            "Note, selecting 'nvidia-dkms-565' for glob 'nvidia*'\n",
            "Note, selecting 'nvidia-dkms-570' for glob 'nvidia*'\n",
            "Note, selecting 'nvidia-dkms-575' for glob 'nvidia*'\n",
            "Note, selecting 'nvidia-container-runtime' for glob 'nvidia*'\n",
            "Note, selecting 'nvidia-dkms-580' for glob 'nvidia*'\n",
            "Note, selecting 'nvidia-driver-390' for glob 'nvidia*'\n",
            "Note, selecting 'nvidia-driver-410' for glob 'nvidia*'\n",
            "Note, selecting 'nvidia-driver-418' for glob 'nvidia*'\n",
            "Note, selecting 'nvidia-driver-430' for glob 'nvidia*'\n",
            "Note, selecting 'nvidia-driver-435' for glob 'nvidia*'\n",
            "Note, selecting 'nvidia-driver-440' for glob 'nvidia*'\n",
            "Note, selecting 'nvidia-driver-450' for glob 'nvidia*'\n",
            "Note, selecting 'nvidia-driver-455' for glob 'nvidia*'\n",
            "Note, selecting 'nvidia-driver-460' for glob 'nvidia*'\n",
            "Note, selecting 'nvidia-driver-465' for glob 'nvidia*'\n",
            "Note, selecting 'nvidia-driver-470' for glob 'nvidia*'\n",
            "Note, selecting 'nvidia-driver-495' for glob 'nvidia*'\n",
            "Note, selecting 'nvidia-firmware-565-server-565.57.01' for glob 'nvidia*'\n",
            "Note, selecting 'nvidia-headless-550-server-open' for glob 'nvidia*'\n",
            "Note, selecting 'nvidia-driver-510' for glob 'nvidia*'\n",
            "Note, selecting 'nvidia-driver-515' for glob 'nvidia*'\n",
            "Note, selecting 'nvidia-driver-520' for glob 'nvidia*'\n",
            "Note, selecting 'nvidia-driver-525' for glob 'nvidia*'\n",
            "Note, selecting 'nvidia-driver-530' for glob 'nvidia*'\n",
            "Note, selecting 'nvidia-driver-535' for glob 'nvidia*'\n",
            "Note, selecting 'nvidia-driver-545' for glob 'nvidia*'\n",
            "Note, selecting 'nvidia-driver-550' for glob 'nvidia*'\n",
            "Note, selecting 'nvidia-driver-555' for glob 'nvidia*'\n",
            "Note, selecting 'nvidia-driver-560' for glob 'nvidia*'\n",
            "Note, selecting 'nvidia-driver-565' for glob 'nvidia*'\n",
            "Note, selecting 'nvidia-driver-570' for glob 'nvidia*'\n",
            "Note, selecting 'nvidia-driver-575' for glob 'nvidia*'\n",
            "Note, selecting 'nvidia-driver-580' for glob 'nvidia*'\n",
            "Note, selecting 'nvidia-dkms-440-server' for glob 'nvidia*'\n",
            "Note, selecting 'nvidia-firmware-570-server-570.169' for glob 'nvidia*'\n",
            "Note, selecting 'nvidia-firmware-570-server-570.181' for glob 'nvidia*'\n",
            "Note, selecting 'nvidia-open' for glob 'nvidia*'\n",
            "Note, selecting 'nvidia-headless-no-dkms-545-open' for glob 'nvidia*'\n",
            "Note, selecting 'nvidia-headless-560-open' for glob 'nvidia*'\n",
            "Note, selecting 'nvidia-dkms-460-server' for glob 'nvidia*'\n",
            "Note, selecting 'nvidia-headless-510-server' for glob 'nvidia*'\n",
            "Note, selecting 'nvidia-387-updates' for glob 'nvidia*'\n",
            "Note, selecting 'nvidia-driver-570-server-open' for glob 'nvidia*'\n",
            "Note, selecting 'nvidia-firmware-550-server-550.90.07' for glob 'nvidia*'\n",
            "Note, selecting 'nvidia-firmware-550-server-550.90.12' for glob 'nvidia*'\n",
            "Note, selecting 'nvidia-headless-no-dkms-515-server' for glob 'nvidia*'\n",
            "Note, selecting 'nvidia-dkms-520-open' for glob 'nvidia*'\n",
            "Note, selecting 'nvidia-utils-535-server' for glob 'nvidia*'\n",
            "Note, selecting 'nvidia-driver-450-server' for glob 'nvidia*'\n",
            "Note, selecting 'nvidia-headless-no-dkms-535-server' for glob 'nvidia*'\n",
            "Note, selecting 'nvidia-driver-470-server' for glob 'nvidia*'\n",
            "Note, selecting 'nvidia-primus-vk-wrapper' for glob 'nvidia*'\n",
            "Note, selecting 'nvidia-utils-575-server' for glob 'nvidia*'\n",
            "Note, selecting 'nvidia-kernel-common-515-server' for glob 'nvidia*'\n",
            "Note, selecting 'nvidia-kernel-source-535-server-open' for glob 'nvidia*'\n",
            "Note, selecting 'nvidia-headless-575-open' for glob 'nvidia*'\n",
            "Note, selecting 'nvidia-docker' for glob 'nvidia*'\n",
            "Note, selecting 'nvidia-headless-no-dkms-575-server' for glob 'nvidia*'\n",
            "Note, selecting 'nvidia-driver-570-open' for glob 'nvidia*'\n",
            "Note, selecting 'nvidia-kernel-source-575-server-open' for glob 'nvidia*'\n",
            "Note, selecting 'nvidia-kernel-common-535-server' for glob 'nvidia*'\n",
            "Note, selecting 'nvidia-kernel-source-560-open' for glob 'nvidia*'\n",
            "Note, selecting 'nvidia-378-updates' for glob 'nvidia*'\n",
            "Note, selecting 'nvidia-313-updates' for glob 'nvidia*'\n",
            "Note, selecting 'nvidia-driver-560-server-open' for glob 'nvidia*'\n",
            "Note, selecting 'nvidia-headless-440-server' for glob 'nvidia*'\n",
            "Note, selecting 'nvidia-open-560' for glob 'nvidia*'\n",
            "Note, selecting 'nvidia-open-565' for glob 'nvidia*'\n",
            "Note, selecting 'nvidia-open-570' for glob 'nvidia*'\n",
            "Note, selecting 'nvidia-open-575' for glob 'nvidia*'\n",
            "Note, selecting 'nvidia-open-580' for glob 'nvidia*'\n",
            "Note, selecting 'nvidia-headless-460-server' for glob 'nvidia*'\n",
            "Note, selecting 'nvidia-firmware-565-565.77' for glob 'nvidia*'\n",
            "Note, selecting 'nvidia-dkms-570-server-open' for glob 'nvidia*'\n",
            "Note, selecting 'nvidia-utils-390' for glob 'nvidia*'\n",
            "Note, selecting 'nvidia-firmware-575-575.51.03' for glob 'nvidia*'\n",
            "Note, selecting 'nvidia-headless-545-open' for glob 'nvidia*'\n",
            "Note, selecting 'nvidia-utils-418' for glob 'nvidia*'\n",
            "Note, selecting 'nvidia-headless' for glob 'nvidia*'\n",
            "Note, selecting 'nvidia-utils-430' for glob 'nvidia*'\n",
            "Note, selecting 'nvidia-utils-435' for glob 'nvidia*'\n",
            "Note, selecting 'nvidia-utils-440' for glob 'nvidia*'\n",
            "Note, selecting 'nvidia-utils-450' for glob 'nvidia*'\n",
            "Note, selecting 'nvidia-utils-455' for glob 'nvidia*'\n",
            "Note, selecting 'nvidia-utils-460' for glob 'nvidia*'\n",
            "Note, selecting 'nvidia-utils-465' for glob 'nvidia*'\n",
            "Note, selecting 'nvidia-utils-470' for glob 'nvidia*'\n",
            "Note, selecting 'nvidia-utils-495' for glob 'nvidia*'\n",
            "Note, selecting 'nvidia-utils-510' for glob 'nvidia*'\n",
            "Note, selecting 'nvidia-utils-515' for glob 'nvidia*'\n",
            "Note, selecting 'nvidia-utils-520' for glob 'nvidia*'\n",
            "Note, selecting 'nvidia-utils-525' for glob 'nvidia*'\n",
            "Note, selecting 'nvidia-utils-530' for glob 'nvidia*'\n",
            "Note, selecting 'nvidia-utils-535' for glob 'nvidia*'\n",
            "Note, selecting 'nvidia-utils-545' for glob 'nvidia*'\n",
            "Note, selecting 'nvidia-utils-550' for glob 'nvidia*'\n",
            "Note, selecting 'nvidia-utils-555' for glob 'nvidia*'\n",
            "Note, selecting 'nvidia-utils-560' for glob 'nvidia*'\n",
            "Note, selecting 'nvidia-utils-565' for glob 'nvidia*'\n",
            "Note, selecting 'nvidia-utils-570' for glob 'nvidia*'\n",
            "Note, selecting 'nvidia-utils-575' for glob 'nvidia*'\n",
            "Note, selecting 'nvidia-319-updates' for glob 'nvidia*'\n",
            "Note, selecting 'nvidia-utils-580' for glob 'nvidia*'\n",
            "Note, selecting 'nvidia-kernel-source-510-server' for glob 'nvidia*'\n",
            "Note, selecting 'nvidia-kernel-source-530-open' for glob 'nvidia*'\n",
            "Note, selecting 'nvidia-firmware-575-server-575.64.03' for glob 'nvidia*'\n",
            "Note, selecting 'nvidia-firmware-570-server-570.158.01' for glob 'nvidia*'\n",
            "Note, selecting 'nvidia-kernel-source-565-server-open' for glob 'nvidia*'\n",
            "Note, selecting 'nvidia-egl-wayland-common' for glob 'nvidia*'\n",
            "Note, selecting 'nvidia-384-updates' for glob 'nvidia*'\n",
            "Note, selecting 'nvidia-headless-570-server-open' for glob 'nvidia*'\n",
            "Note, selecting 'nvidia-304-updates' for glob 'nvidia*'\n",
            "Note, selecting 'nvidia-kernel-source-550-server' for glob 'nvidia*'\n",
            "Note, selecting 'nvidia-driver-550-server-open' for glob 'nvidia*'\n",
            "Note, selecting 'nvidia-utils-418-server' for glob 'nvidia*'\n",
            "Note, selecting 'nvidia-utils-525-server' for glob 'nvidia*'\n",
            "Note, selecting 'nvidia-firmware-570-server-570.133.07' for glob 'nvidia*'\n",
            "Note, selecting 'nvidia-firmware-570-server-570.133.20' for glob 'nvidia*'\n",
            "Note, selecting 'nvidia-headless-515-open' for glob 'nvidia*'\n",
            "Note, selecting 'nvidia-kernel-source-570-server' for glob 'nvidia*'\n",
            "Note, selecting 'nvidia-firmware-535-535.230.02' for glob 'nvidia*'\n",
            "Note, selecting 'nvidia-headless-no-dkms-418-server' for glob 'nvidia*'\n",
            "Note, selecting 'nvidia-headless-no-dkms-525-server' for glob 'nvidia*'\n",
            "Note, selecting 'nvidia-dkms-570-open' for glob 'nvidia*'\n",
            "Note, selecting 'nvidia-kernel-source-545-open' for glob 'nvidia*'\n",
            "Note, selecting 'nvidia-headless-no-dkms-560-open' for glob 'nvidia*'\n",
            "Note, selecting 'nvidia-xconfig' for glob 'nvidia*'\n",
            "Note, selecting 'nvidia-utils-565-server' for glob 'nvidia*'\n",
            "Note, selecting 'nvidia-firmware-535-server-535.230.02' for glob 'nvidia*'\n",
            "Note, selecting 'nvidia-kernel-source-440-server' for glob 'nvidia*'\n",
            "Note, selecting 'nvidia-375-updates' for glob 'nvidia*'\n",
            "Note, selecting 'nvidia-310-updates' for glob 'nvidia*'\n",
            "Note, selecting 'nvidia-driver-assistant' for glob 'nvidia*'\n",
            "Note, selecting 'nvidia-firmware-535-535.216.01' for glob 'nvidia*'\n",
            "Note, selecting 'nvidia-firmware-535-535.216.03' for glob 'nvidia*'\n",
            "Note, selecting 'nvidia-kernel-source-460-server' for glob 'nvidia*'\n",
            "Note, selecting 'nvidia-kernel-source-515-open' for glob 'nvidia*'\n",
            "Note, selecting 'nvidia-firmware-575-575.57.08' for glob 'nvidia*'\n",
            "Note, selecting 'nvidia-firmware-535-server-535.216.01' for glob 'nvidia*'\n",
            "Note, selecting 'nvidia-firmware-535-server-535.216.03' for glob 'nvidia*'\n",
            "Note, selecting 'nvidia-headless-no-dkms-535-server-open' for glob 'nvidia*'\n",
            "Note, selecting 'nvidia-headless-no-dkms-530-open' for glob 'nvidia*'\n",
            "Note, selecting 'nvidia-dkms-550-server-open' for glob 'nvidia*'\n",
            "Note, selecting 'nvidia-364-updates' for glob 'nvidia*'\n",
            "Note, selecting 'nvidia-headless-no-dkms-575-server-open' for glob 'nvidia*'\n",
            "Note, selecting 'nvidia-hpc-benchmarks-mpich' for glob 'nvidia*'\n",
            "Note, selecting 'nvidia-firmware-535-535.146.02' for glob 'nvidia*'\n",
            "Note, selecting 'nvidia-firmware-575-server' for glob 'nvidia*'\n",
            "Note, selecting 'nvidia-dkms-555-open' for glob 'nvidia*'\n",
            "Note, selecting 'nvidia-gds-11-7' for glob 'nvidia*'\n",
            "Note, selecting 'nvidia-gds-11-8' for glob 'nvidia*'\n",
            "Note, selecting 'nvidia-gds-12-0' for glob 'nvidia*'\n",
            "Note, selecting 'nvidia-gds-12-1' for glob 'nvidia*'\n",
            "Note, selecting 'nvidia-gds-12-2' for glob 'nvidia*'\n",
            "Note, selecting 'nvidia-gds-12-3' for glob 'nvidia*'\n",
            "Note, selecting 'nvidia-gds-12-4' for glob 'nvidia*'\n",
            "Note, selecting 'nvidia-gds-12-5' for glob 'nvidia*'\n",
            "Note, selecting 'nvidia-gds-12-6' for glob 'nvidia*'\n",
            "Note, selecting 'nvidia-gds-12-8' for glob 'nvidia*'\n",
            "Note, selecting 'nvidia-gds-12-9' for glob 'nvidia*'\n",
            "Note, selecting 'nvidia-firmware-535-server-535.146.02' for glob 'nvidia*'\n",
            "Note, selecting 'nvidia-gds-13-0' for glob 'nvidia*'\n",
            "Note, selecting 'nvidia-utils-515-server' for glob 'nvidia*'\n",
            "Note, selecting 'nvidia-dkms-565-server' for glob 'nvidia*'\n",
            "Note, selecting 'nvidia-firmware-545-server-545.29.06' for glob 'nvidia*'\n",
            "Note, selecting 'nvidia-headless-565-open' for glob 'nvidia*'\n",
            "Note, selecting 'nvidia-headless-no-dkms-565-server-open' for glob 'nvidia*'\n",
            "Note, selecting 'nvidia-firmware-550-server-550.67' for glob 'nvidia*'\n",
            "Note, selecting 'nvidia-driver-560-open' for glob 'nvidia*'\n",
            "Note, selecting 'nvidia-driver-555-server' for glob 'nvidia*'\n",
            "Note, selecting 'nvidia-dkms-525-open' for glob 'nvidia*'\n",
            "Note, selecting 'nvidia-driver-575-server' for glob 'nvidia*'\n",
            "Note, selecting 'nvidia-headless-no-dkms-515-open' for glob 'nvidia*'\n",
            "Note, selecting 'nvidia-headless-530-open' for glob 'nvidia*'\n",
            "Note, selecting 'nvidia-kernel-source-450-server' for glob 'nvidia*'\n",
            "Note, selecting 'nvidia-legacy-390xx-opencl-icd' for glob 'nvidia*'\n",
            "Note, selecting 'nvidia-firmware-570-server-570.124.06' for glob 'nvidia*'\n",
            "Note, selecting 'nvidia-firmware-550-550.107.02' for glob 'nvidia*'\n",
            "Note, selecting 'nvidia-kernel-source-470-server' for glob 'nvidia*'\n",
            "Note, selecting 'nvidia-profiler' for glob 'nvidia*'\n",
            "Note, selecting 'nvidia-361-updates' for glob 'nvidia*'\n",
            "Note, selecting 'nvidia-driver-575-open' for glob 'nvidia*'\n",
            "Note, selecting 'nvidia-firmware-535-535.54.03' for glob 'nvidia*'\n",
            "Note, selecting 'nvidia-firmware-550-server-550.107.02' for glob 'nvidia*'\n",
            "Note, selecting 'nvidia-kernel-source-565-open' for glob 'nvidia*'\n",
            "Note, selecting 'nvidia-current-updates' for glob 'nvidia*'\n",
            "Note, selecting 'nvidia-compute-utils-510-server' for glob 'nvidia*'\n",
            "Note, selecting 'nvidia-visual-profiler' for glob 'nvidia*'\n",
            "Note, selecting 'nvidia-dkms-515-server' for glob 'nvidia*'\n",
            "Note, selecting 'nvidia-367-updates' for glob 'nvidia*'\n",
            "Note, selecting 'nvidia-dkms-535-server' for glob 'nvidia*'\n",
            "Note, selecting 'nvidia-compute-utils-550-server' for glob 'nvidia*'\n",
            "Note, selecting 'nvidia-firmware-570-server-570.86.10' for glob 'nvidia*'\n",
            "Note, selecting 'nvidia-firmware-570-server-570.86.15' for glob 'nvidia*'\n",
            "Note, selecting 'nvidia-kernel-common-390' for glob 'nvidia*'\n",
            "Note, selecting 'nvidia-kernel-common-396' for glob 'nvidia*'\n",
            "Note, selecting 'nvidia-driver-545-open' for glob 'nvidia*'\n",
            "Note, selecting 'nvidia-kernel-common-418' for glob 'nvidia*'\n",
            "Note, selecting 'nvidia-kernel-common-430' for glob 'nvidia*'\n",
            "Note, selecting 'nvidia-kernel-common-435' for glob 'nvidia*'\n",
            "Note, selecting 'nvidia-kernel-common-440' for glob 'nvidia*'\n",
            "Note, selecting 'nvidia-kernel-common-450' for glob 'nvidia*'\n",
            "Note, selecting 'nvidia-kernel-common-455' for glob 'nvidia*'\n",
            "Note, selecting 'nvidia-kernel-common-460' for glob 'nvidia*'\n",
            "Note, selecting 'nvidia-kernel-common-465' for glob 'nvidia*'\n",
            "Note, selecting 'nvidia-kernel-common-470' for glob 'nvidia*'\n",
            "Note, selecting 'nvidia-kernel-common-495' for glob 'nvidia*'\n",
            "Note, selecting 'nvidia-kernel-source-535-open' for glob 'nvidia*'\n",
            "Note, selecting 'nvidia-legacy-390xx-smi' for glob 'nvidia*'\n",
            "Note, selecting 'nvidia-prebuilt-kernel' for glob 'nvidia*'\n",
            "Note, selecting 'nvidia-compute-utils-570-server' for glob 'nvidia*'\n",
            "Note, selecting 'nvidia-kernel-common-510' for glob 'nvidia*'\n",
            "Note, selecting 'nvidia-kernel-common-515' for glob 'nvidia*'\n",
            "Note, selecting 'nvidia-kernel-common-520' for glob 'nvidia*'\n",
            "Note, selecting 'nvidia-kernel-common-525' for glob 'nvidia*'\n",
            "Note, selecting 'nvidia-kernel-common-530' for glob 'nvidia*'\n",
            "Note, selecting 'nvidia-kernel-common-535' for glob 'nvidia*'\n",
            "Note, selecting 'nvidia-kernel-common-545' for glob 'nvidia*'\n",
            "Note, selecting 'nvidia-kernel-common-550' for glob 'nvidia*'\n",
            "Note, selecting 'nvidia-kernel-common-555' for glob 'nvidia*'\n",
            "Note, selecting 'nvidia-kernel-common-560' for glob 'nvidia*'\n",
            "Note, selecting 'nvidia-kernel-common-565' for glob 'nvidia*'\n",
            "Note, selecting 'nvidia-kernel-common-570' for glob 'nvidia*'\n",
            "Note, selecting 'nvidia-kernel-common-575' for glob 'nvidia*'\n",
            "Note, selecting 'nvidia-kernel-common-580' for glob 'nvidia*'\n",
            "Note, selecting 'nvidia-driver-418-server' for glob 'nvidia*'\n",
            "Note, selecting 'nvidia-current' for glob 'nvidia*'\n",
            "Note, selecting 'nvidia-compute-utils' for glob 'nvidia*'\n",
            "Note, selecting 'nvidia-firmware-550-550.127.05' for glob 'nvidia*'\n",
            "Note, selecting 'nvidia-firmware-550-550.127.08' for glob 'nvidia*'\n",
            "Note, selecting 'nvidia-driver-525-server' for glob 'nvidia*'\n",
            "Note, selecting 'nvidia-fs-modules' for glob 'nvidia*'\n",
            "Note, selecting 'nvidia-dkms-575-server' for glob 'nvidia*'\n",
            "Note, selecting 'nvidia-egl-gbm1' for glob 'nvidia*'\n",
            "Note, selecting 'nvidia-firmware-550-server-550.127.05' for glob 'nvidia*'\n",
            "Note, selecting 'nvidia-firmware-550-server-550.127.08' for glob 'nvidia*'\n",
            "Note, selecting 'nvidia-firmware-535-535.161.07' for glob 'nvidia*'\n",
            "Note, selecting 'nvidia-firmware-535-535.161.08' for glob 'nvidia*'\n",
            "Note, selecting 'nvidia-firmware-560-server-560.35.03' for glob 'nvidia*'\n",
            "Note, selecting 'nvidia-firmware-560-server-560.35.05' for glob 'nvidia*'\n",
            "Note, selecting 'nvidia-kernel-common' for glob 'nvidia*'\n",
            "Note, selecting 'nvidia-compute-utils-440-server' for glob 'nvidia*'\n",
            "Note, selecting 'nvidia-358-updates' for glob 'nvidia*'\n",
            "Note, selecting 'nvidia-driver-565-server' for glob 'nvidia*'\n",
            "Note, selecting 'nvidia-driver-515-open' for glob 'nvidia*'\n",
            "Note, selecting 'nvidia-dkms-575-open' for glob 'nvidia*'\n",
            "Note, selecting 'nvidia-compute-utils-460-server' for glob 'nvidia*'\n",
            "Note, selecting 'nvidia-firmware-535-server-535.161.07' for glob 'nvidia*'\n",
            "Note, selecting 'nvidia-firmware-535-server-535.161.08' for glob 'nvidia*'\n",
            "Note, selecting 'nvidia-cuda-dev' for glob 'nvidia*'\n",
            "Note, selecting 'nvidia-headless-no-dkms-565-open' for glob 'nvidia*'\n",
            "Note, selecting 'nvidia-headless-580-open' for glob 'nvidia*'\n",
            "Note, selecting 'nvidia-cuda-doc' for glob 'nvidia*'\n",
            "Note, selecting 'nvidia-headless-515-server' for glob 'nvidia*'\n",
            "Note, selecting 'nvidia-fabricmanager' for glob 'nvidia*'\n",
            "Note, selecting 'nvidia-firmware-535-535.171.04' for glob 'nvidia*'\n",
            "Note, selecting 'nvidia-headless-535-server' for glob 'nvidia*'\n",
            "Note, selecting 'nvidia-cuda-gdb' for glob 'nvidia*'\n",
            "Note, selecting 'nvidia-kernel-source-570-server-open' for glob 'nvidia*'\n",
            "Note, selecting 'nvidia-340-dev' for glob 'nvidia*'\n",
            "Note, selecting 'nvidia-firmware-535-server-535.171.04' for glob 'nvidia*'\n",
            "Note, selecting 'nvidia-cuda-toolkit' for glob 'nvidia*'\n",
            "Note, selecting 'nvidia-dkms-545-open' for glob 'nvidia*'\n",
            "Note, selecting 'nvidia-headless-no-dkms-510-server' for glob 'nvidia*'\n",
            "Note, selecting 'nvidia-firmware-560-560.28.03' for glob 'nvidia*'\n",
            "Note, selecting 'nvidia-headless-575-server' for glob 'nvidia*'\n",
            "Note, selecting 'nvidia-headless-no-dkms-535-open' for glob 'nvidia*'\n",
            "Note, selecting 'nvidia-headless-550-open' for glob 'nvidia*'\n",
            "Note, selecting 'nvidia-dkms-418-server' for glob 'nvidia*'\n",
            "Note, selecting 'nvidia-dkms-525-server' for glob 'nvidia*'\n",
            "Note, selecting 'nvidia-kernel-source-580-open' for glob 'nvidia*'\n",
            "Note, selecting 'nvidia-headless-no-dkms-550-server' for glob 'nvidia*'\n",
            "Note, selecting 'nvidia-firmware-535-535.247.01' for glob 'nvidia*'\n",
            "Note, selecting 'nvidia-prime' for glob 'nvidia*'\n",
            "Note, selecting 'nvidia-kernel-common-510-server' for glob 'nvidia*'\n",
            "Note, selecting 'nvidia-firmware-545-545.29.06' for glob 'nvidia*'\n",
            "Note, selecting 'nvidia-kernel-dkms' for glob 'nvidia*'\n",
            "Note, selecting 'nvidia-firmware-550-550.54.14' for glob 'nvidia*'\n",
            "Note, selecting 'nvidia-firmware-550-550.54.15' for glob 'nvidia*'\n",
            "Note, selecting 'nvidia-headless-no-dkms-570-server' for glob 'nvidia*'\n",
            "Note, selecting 'nvidia-driver-515-server' for glob 'nvidia*'\n",
            "Note, selecting 'nvidia-kernel-open-dkms' for glob 'nvidia*'\n",
            "Note, selecting 'nvidia-dkms-515-open' for glob 'nvidia*'\n",
            "Note, selecting 'nvidia-firmware-535-server-535.247.01' for glob 'nvidia*'\n",
            "Note, selecting 'nvidia-355-updates' for glob 'nvidia*'\n",
            "Note, selecting 'nvidia-driver-535-server' for glob 'nvidia*'\n",
            "Note, selecting 'nvidia-kernel-common-550-server' for glob 'nvidia*'\n",
            "Note, selecting 'nvidia-headless-520-open' for glob 'nvidia*'\n",
            "Note, selecting 'nvidia-kernel-common-570-server' for glob 'nvidia*'\n",
            "Note, selecting 'nvidia-kernel-source-550-open' for glob 'nvidia*'\n",
            "Note, selecting 'nvidia-opencl-icd-340' for glob 'nvidia*'\n",
            "Note, selecting 'nvidia-opencl-icd-384' for glob 'nvidia*'\n",
            "Note, selecting 'nvidia-compute-utils-450-server' for glob 'nvidia*'\n",
            "Note, selecting 'nvidia-kernel-open' for glob 'nvidia*'\n",
            "Note, selecting 'nvidia-304' for glob 'nvidia*'\n",
            "Note, selecting 'nvidia-310' for glob 'nvidia*'\n",
            "Note, selecting 'nvidia-313' for glob 'nvidia*'\n",
            "Note, selecting 'nvidia-319' for glob 'nvidia*'\n",
            "Note, selecting 'nvidia-325' for glob 'nvidia*'\n",
            "Note, selecting 'nvidia-331' for glob 'nvidia*'\n",
            "Note, selecting 'nvidia-334' for glob 'nvidia*'\n",
            "Note, selecting 'nvidia-337' for glob 'nvidia*'\n",
            "Note, selecting 'nvidia-340' for glob 'nvidia*'\n",
            "Note, selecting 'nvidia-343' for glob 'nvidia*'\n",
            "Note, selecting 'nvidia-346' for glob 'nvidia*'\n",
            "Note, selecting 'nvidia-349' for glob 'nvidia*'\n",
            "Note, selecting 'nvidia-352' for glob 'nvidia*'\n",
            "Note, selecting 'nvidia-355' for glob 'nvidia*'\n",
            "Note, selecting 'nvidia-358' for glob 'nvidia*'\n",
            "Note, selecting 'nvidia-firmware-580-server-580.65.06' for glob 'nvidia*'\n",
            "Note, selecting 'nvidia-361' for glob 'nvidia*'\n",
            "Note, selecting 'nvidia-364' for glob 'nvidia*'\n",
            "Note, selecting 'nvidia-367' for glob 'nvidia*'\n",
            "Note, selecting 'nvidia-375' for glob 'nvidia*'\n",
            "Note, selecting 'nvidia-378' for glob 'nvidia*'\n",
            "Note, selecting 'nvidia-381' for glob 'nvidia*'\n",
            "Note, selecting 'nvidia-384' for glob 'nvidia*'\n",
            "Note, selecting 'nvidia-387' for glob 'nvidia*'\n",
            "Note, selecting 'nvidia-390' for glob 'nvidia*'\n",
            "Note, selecting 'nvidia-fs-dkms' for glob 'nvidia*'\n",
            "Note, selecting 'nvidia-firmware-565-server-565.77' for glob 'nvidia*'\n",
            "Note, selecting 'nvidia-compute-utils-470-server' for glob 'nvidia*'\n",
            "Note, selecting 'nvidia-kernel-common-440-server' for glob 'nvidia*'\n",
            "Note, selecting 'nvidia-headless-418-server' for glob 'nvidia*'\n",
            "Note, selecting 'nvidia-340-uvm' for glob 'nvidia*'\n",
            "Note, selecting 'nvidia-headless-525-server' for glob 'nvidia*'\n",
            "Note, selecting 'nvidia-kernel-source-575-server' for glob 'nvidia*'\n",
            "Note, selecting 'nvidia-firmware-580-server' for glob 'nvidia*'\n",
            "Note, selecting 'nvidia-firmware-550-server-550.120' for glob 'nvidia*'\n",
            "Note, selecting 'nvidia-headless-535-open' for glob 'nvidia*'\n",
            "Note, selecting 'nvidia-346-updates' for glob 'nvidia*'\n",
            "Note, selecting 'nvidia-fs-prebuilt-kernel' for glob 'nvidia*'\n",
            "Note, selecting 'nvidia-kernel-common-460-server' for glob 'nvidia*'\n",
            "Note, selecting 'nvidia' for glob 'nvidia*'\n",
            "Note, selecting 'nvidia-kernel-source-550-server-open' for glob 'nvidia*'\n",
            "Note, selecting 'nvidia-driver-530-open' for glob 'nvidia*'\n",
            "Note, selecting 'nvidia-kernel-source-520-open' for glob 'nvidia*'\n",
            "Note, selecting 'nvidia-firmware-575-server-575.51.03' for glob 'nvidia*'\n",
            "Note, selecting 'nvidia-headless-535-server-open' for glob 'nvidia*'\n",
            "Note, selecting 'nvidia-headless-no-dkms-580-open' for glob 'nvidia*'\n",
            "Note, selecting 'nvidia-settings' for glob 'nvidia*'\n",
            "Note, selecting 'nvidia-headless-565-server' for glob 'nvidia*'\n",
            "Note, selecting 'nvidia-headless-575-server-open' for glob 'nvidia*'\n",
            "Note, selecting 'nvidia-firmware-570-570.158.01' for glob 'nvidia*'\n",
            "Note, selecting 'nvidia-headless-no-dkms-390' for glob 'nvidia*'\n",
            "Note, selecting 'nvidia-driver-555-server-open' for glob 'nvidia*'\n",
            "Note, selecting 'nvidia-headless-no-dkms-418' for glob 'nvidia*'\n",
            "Note, selecting 'nvidia-headless-no-dkms-430' for glob 'nvidia*'\n",
            "Note, selecting 'nvidia-headless-no-dkms-435' for glob 'nvidia*'\n",
            "Note, selecting 'nvidia-headless-no-dkms-440' for glob 'nvidia*'\n",
            "Note, selecting 'nvidia-headless-no-dkms-450' for glob 'nvidia*'\n",
            "Note, selecting 'nvidia-headless-no-dkms-455' for glob 'nvidia*'\n",
            "Note, selecting 'nvidia-headless-no-dkms-460' for glob 'nvidia*'\n",
            "Note, selecting 'nvidia-headless-no-dkms-465' for glob 'nvidia*'\n",
            "Note, selecting 'nvidia-headless-no-dkms-470' for glob 'nvidia*'\n",
            "Note, selecting 'nvidia-headless-no-dkms-495' for glob 'nvidia*'\n",
            "Note, selecting 'nvidia-container-runtime-hook' for glob 'nvidia*'\n",
            "Note, selecting 'nvidia-cudnn' for glob 'nvidia*'\n",
            "Note, selecting 'nvidia-headless-no-dkms-510' for glob 'nvidia*'\n",
            "Note, selecting 'nvidia-headless-no-dkms-515' for glob 'nvidia*'\n",
            "Note, selecting 'nvidia-headless-no-dkms-520' for glob 'nvidia*'\n",
            "Note, selecting 'nvidia-headless-no-dkms-525' for glob 'nvidia*'\n",
            "Note, selecting 'nvidia-headless-no-dkms-530' for glob 'nvidia*'\n",
            "Note, selecting 'nvidia-headless-no-dkms-535' for glob 'nvidia*'\n",
            "Note, selecting 'nvidia-headless-no-dkms-545' for glob 'nvidia*'\n",
            "Note, selecting 'nvidia-headless-no-dkms-550' for glob 'nvidia*'\n",
            "Note, selecting 'nvidia-headless-no-dkms-555' for glob 'nvidia*'\n",
            "Note, selecting 'nvidia-headless-no-dkms-560' for glob 'nvidia*'\n",
            "Note, selecting 'nvidia-headless-no-dkms-565' for glob 'nvidia*'\n",
            "Note, selecting 'nvidia-headless-no-dkms-570' for glob 'nvidia*'\n",
            "Note, selecting 'nvidia-headless-no-dkms-575' for glob 'nvidia*'\n",
            "Note, selecting 'nvidia-headless-no-dkms-580' for glob 'nvidia*'\n",
            "Note, selecting 'nvidia-352-updates' for glob 'nvidia*'\n",
            "Note, selecting 'nvidia-dkms-560-open' for glob 'nvidia*'\n",
            "Note, selecting 'nvidia-firmware-570-570.133.07' for glob 'nvidia*'\n",
            "Note, selecting 'nvidia-dkms-565-server-open' for glob 'nvidia*'\n",
            "Note, selecting 'nvidia-firmware-570-570.133.20' for glob 'nvidia*'\n",
            "Note, selecting 'nvidia-firmware-555-555.42.02' for glob 'nvidia*'\n",
            "Note, selecting 'nvidia-firmware-555-555.42.06' for glob 'nvidia*'\n",
            "Note, selecting 'nvidia-headless-no-dkms-550-open' for glob 'nvidia*'\n",
            "Note, selecting 'nvidia-firmware-535-535.113.01' for glob 'nvidia*'\n",
            "Note, selecting 'nvidia-libopencl1' for glob 'nvidia*'\n",
            "Note, selecting 'nvidia-fabricmanager-dev-450' for glob 'nvidia*'\n",
            "Note, selecting 'nvidia-fabricmanager-dev-460' for glob 'nvidia*'\n",
            "Note, selecting 'nvidia-fabricmanager-dev-470' for glob 'nvidia*'\n",
            "Note, selecting 'nvidia-firmware-570-570.86.10' for glob 'nvidia*'\n",
            "Note, selecting 'nvidia-firmware-570-570.86.15' for glob 'nvidia*'\n",
            "Note, selecting 'nvidia-firmware-570-570.169' for glob 'nvidia*'\n",
            "Note, selecting 'nvidia-firmware-570-570.181' for glob 'nvidia*'\n",
            "Note, selecting 'nvidia-fabricmanager-dev-510' for glob 'nvidia*'\n",
            "Note, selecting 'nvidia-fabricmanager-dev-515' for glob 'nvidia*'\n",
            "Note, selecting 'nvidia-fabricmanager-dev-520' for glob 'nvidia*'\n",
            "Note, selecting 'nvidia-fabricmanager-dev-525' for glob 'nvidia*'\n",
            "Note, selecting 'nvidia-fabricmanager-dev-530' for glob 'nvidia*'\n",
            "Note, selecting 'nvidia-fabricmanager-dev-535' for glob 'nvidia*'\n",
            "Note, selecting 'nvidia-fabricmanager-dev-545' for glob 'nvidia*'\n",
            "Note, selecting 'nvidia-fabricmanager-dev-550' for glob 'nvidia*'\n",
            "Note, selecting 'nvidia-fabricmanager-dev-555' for glob 'nvidia*'\n",
            "Note, selecting 'nvidia-fabricmanager-dev-560' for glob 'nvidia*'\n",
            "Note, selecting 'nvidia-fabricmanager-dev-565' for glob 'nvidia*'\n",
            "Note, selecting 'nvidia-fabricmanager-dev-570' for glob 'nvidia*'\n",
            "Note, selecting 'nvidia-fabricmanager-dev-575' for glob 'nvidia*'\n",
            "Note, selecting 'nvidia-fabricmanager-dev-580' for glob 'nvidia*'\n",
            "Note, selecting 'nvidia-headless-565-server-open' for glob 'nvidia*'\n",
            "Note, selecting 'nvidia-firmware-535-server-535.113.01' for glob 'nvidia*'\n",
            "Note, selecting 'nvidia-kernel-source-418-server' for glob 'nvidia*'\n",
            "Note, selecting 'nvidia-kernel-source-525-server' for glob 'nvidia*'\n",
            "Note, selecting 'nvidia-headless-no-dkms-450-server' for glob 'nvidia*'\n",
            "Note, selecting 'nvidia-dkms-530-open' for glob 'nvidia*'\n",
            "Note, selecting 'nvidia-headless-no-dkms-470-server' for glob 'nvidia*'\n",
            "Note, selecting 'nvidia-343-updates' for glob 'nvidia*'\n",
            "Note, selecting 'nvidia-headless-no-dkms-520-open' for glob 'nvidia*'\n",
            "Note, selecting 'nvidia-kernel-source-open' for glob 'nvidia*'\n",
            "Note, selecting 'nvidia-kernel-source-565-server' for glob 'nvidia*'\n",
            "Note, selecting 'nvidia-firmware-570-server' for glob 'nvidia*'\n",
            "Note, selecting 'nvidia-firmware-575-server-575.57.08' for glob 'nvidia*'\n",
            "Note, selecting 'nvidia-kernel-common-450-server' for glob 'nvidia*'\n",
            "Note, selecting 'nvidia-firmware-550-server-550.54.14' for glob 'nvidia*'\n",
            "Note, selecting 'nvidia-firmware-550-server-550.54.15' for glob 'nvidia*'\n",
            "Note, selecting 'nvidia-kernel-common-470-server' for glob 'nvidia*'\n",
            "Note, selecting 'nvidia-driver-580-open' for glob 'nvidia*'\n",
            "Note, selecting 'nvidia-utils-510-server' for glob 'nvidia*'\n",
            "Note, selecting 'nvidia-kernel-source-570-open' for glob 'nvidia*'\n",
            "Note, selecting 'nvidia-349-updates' for glob 'nvidia*'\n",
            "Note, selecting 'nvidia-firmware-550-550.67' for glob 'nvidia*'\n",
            "Note, selecting 'nvidia-fabricmanager-450' for glob 'nvidia*'\n",
            "Note, selecting 'nvidia-fabricmanager-460' for glob 'nvidia*'\n",
            "Note, selecting 'nvidia-firmware-555-server-555.42.02' for glob 'nvidia*'\n",
            "Note, selecting 'nvidia-firmware-555-server-555.42.06' for glob 'nvidia*'\n",
            "Note, selecting 'nvidia-fabricmanager-470' for glob 'nvidia*'\n",
            "Note, selecting 'nvidia-fabricmanager-510' for glob 'nvidia*'\n",
            "Note, selecting 'nvidia-fabricmanager-515' for glob 'nvidia*'\n",
            "Note, selecting 'nvidia-fabricmanager-520' for glob 'nvidia*'\n",
            "Note, selecting 'nvidia-fabricmanager-525' for glob 'nvidia*'\n",
            "Note, selecting 'nvidia-fabricmanager-530' for glob 'nvidia*'\n",
            "Note, selecting 'nvidia-fabricmanager-535' for glob 'nvidia*'\n",
            "Note, selecting 'nvidia-fabricmanager-545' for glob 'nvidia*'\n",
            "Note, selecting 'nvidia-fabricmanager-550' for glob 'nvidia*'\n",
            "Note, selecting 'nvidia-fabricmanager-555' for glob 'nvidia*'\n",
            "Note, selecting 'nvidia-fabricmanager-560' for glob 'nvidia*'\n",
            "Note, selecting 'nvidia-fabricmanager-565' for glob 'nvidia*'\n",
            "Note, selecting 'nvidia-fabricmanager-570' for glob 'nvidia*'\n",
            "Note, selecting 'nvidia-fabricmanager-575' for glob 'nvidia*'\n",
            "Note, selecting 'nvidia-fabricmanager-580' for glob 'nvidia*'\n",
            "Note, selecting 'nvidia-334-updates' for glob 'nvidia*'\n",
            "Note, selecting 'nvidia-driver-535-server-open' for glob 'nvidia*'\n",
            "Note, selecting 'nvidia-headless-no-dkms-550-server-open' for glob 'nvidia*'\n",
            "Note, selecting 'nvidia-utils-550-server' for glob 'nvidia*'\n",
            "Note, selecting 'nvidia-container-toolkit' for glob 'nvidia*'\n",
            "Note, selecting 'nvidia-driver-575-server-open' for glob 'nvidia*'\n",
            "Note, selecting 'nvidia-libopencl1-340' for glob 'nvidia*'\n",
            "Note, selecting 'nvidia-libopencl1-384' for glob 'nvidia*'\n",
            "Note, selecting 'nvidia-utils-570-server' for glob 'nvidia*'\n",
            "Note, selecting 'nvidia-hpc-benchmarks-openmpi' for glob 'nvidia*'\n",
            "Note, selecting 'nvidia-firmware-575-575.64.03' for glob 'nvidia*'\n",
            "Note, selecting 'nvidia-headless-555-open' for glob 'nvidia*'\n",
            "Note, selecting 'nvidia-firmware-580-580.65.06' for glob 'nvidia*'\n",
            "Note, selecting 'nvidia-driver-550-open' for glob 'nvidia*'\n",
            "Note, selecting 'nvidia-hpc-benchmarks' for glob 'nvidia*'\n",
            "Note, selecting 'nvidia-container-toolkit-base' for glob 'nvidia*'\n",
            "Note, selecting 'nvidia-utils-440-server' for glob 'nvidia*'\n",
            "Note, selecting 'nvidia-firmware-535-535.129.03' for glob 'nvidia*'\n",
            "Note, selecting 'nvidia-kernel-source-515-server' for glob 'nvidia*'\n",
            "Note, selecting 'nvidia-kernel-source-390' for glob 'nvidia*'\n",
            "Note, selecting 'nvidia-headless-no-dkms-440-server' for glob 'nvidia*'\n",
            "Note, selecting 'nvidia-340-updates' for glob 'nvidia*'\n",
            "Note, selecting 'nvidia-utils-460-server' for glob 'nvidia*'\n",
            "Note, selecting 'nvidia-firmware-580-server-580.76.05' for glob 'nvidia*'\n",
            "Note, selecting 'nvidia-kernel-source-418' for glob 'nvidia*'\n",
            "Note, selecting 'nvidia-kernel-source-430' for glob 'nvidia*'\n",
            "Note, selecting 'nvidia-kernel-source-435' for glob 'nvidia*'\n",
            "Note, selecting 'nvidia-kernel-source-440' for glob 'nvidia*'\n",
            "Note, selecting 'nvidia-kernel-source-450' for glob 'nvidia*'\n",
            "Note, selecting 'nvidia-kernel-source-455' for glob 'nvidia*'\n",
            "Note, selecting 'nvidia-kernel-source-460' for glob 'nvidia*'\n",
            "Note, selecting 'nvidia-kernel-source-465' for glob 'nvidia*'\n",
            "Note, selecting 'nvidia-kernel-source-470' for glob 'nvidia*'\n",
            "Note, selecting 'nvidia-kernel-source-495' for glob 'nvidia*'\n",
            "Note, selecting 'nvidia-kernel-source-510' for glob 'nvidia*'\n",
            "Note, selecting 'nvidia-kernel-source-515' for glob 'nvidia*'\n",
            "Note, selecting 'nvidia-headless-525-open' for glob 'nvidia*'\n",
            "Note, selecting 'nvidia-kernel-source-535-server' for glob 'nvidia*'\n",
            "Note, selecting 'nvidia-kernel-source-520' for glob 'nvidia*'\n",
            "Note, selecting 'nvidia-kernel-source-525' for glob 'nvidia*'\n",
            "Note, selecting 'nvidia-kernel-source-530' for glob 'nvidia*'\n",
            "Note, selecting 'nvidia-kernel-source-535' for glob 'nvidia*'\n",
            "Note, selecting 'nvidia-kernel-source-545' for glob 'nvidia*'\n",
            "Note, selecting 'nvidia-kernel-source-550' for glob 'nvidia*'\n",
            "Note, selecting 'nvidia-kernel-source-555' for glob 'nvidia*'\n",
            "Note, selecting 'nvidia-kernel-source-560' for glob 'nvidia*'\n",
            "Note, selecting 'nvidia-kernel-source-565' for glob 'nvidia*'\n",
            "Note, selecting 'nvidia-kernel-source-570' for glob 'nvidia*'\n",
            "Note, selecting 'nvidia-kernel-source-575' for glob 'nvidia*'\n",
            "Note, selecting 'nvidia-kernel-source-580' for glob 'nvidia*'\n",
            "Note, selecting 'nvidia-headless-no-dkms-460-server' for glob 'nvidia*'\n",
            "Note, selecting 'nvidia-firmware-570-570.124.06' for glob 'nvidia*'\n",
            "Note, selecting 'nvidia-firmware-570' for glob 'nvidia*'\n",
            "Note, selecting 'nvidia-firmware-575' for glob 'nvidia*'\n",
            "Note, selecting 'nvidia-firmware-580' for glob 'nvidia*'\n",
            "Note, selecting 'nvidia-driver-565-open' for glob 'nvidia*'\n",
            "Note, selecting 'nvidia-driver-565-server-open' for glob 'nvidia*'\n",
            "Note, selecting 'nvidia-driver-520-open' for glob 'nvidia*'\n",
            "Note, selecting 'nvidia-dkms-580-open' for glob 'nvidia*'\n",
            "Note, selecting 'nvidia-firmware-535-server-535.129.03' for glob 'nvidia*'\n",
            "Note, selecting 'nvidia-kernel-source-555-open' for glob 'nvidia*'\n",
            "Note, selecting 'nvidia-compute-utils-575-server' for glob 'nvidia*'\n",
            "Note, selecting 'nvidia-firmware-535-535.104.05' for glob 'nvidia*'\n",
            "Note, selecting 'nvidia-firmware-535-535.104.12' for glob 'nvidia*'\n",
            "Note, selecting 'nvidia-dkms-535-server-open' for glob 'nvidia*'\n",
            "Note, selecting 'nvidia-headless-no-dkms-570-open' for glob 'nvidia*'\n",
            "Note, selecting 'nvidia-384-dev' for glob 'nvidia*'\n",
            "Note, selecting 'nvidia-dkms-575-server-open' for glob 'nvidia*'\n",
            "Note, selecting 'nvidia-experimental-304' for glob 'nvidia*'\n",
            "Note, selecting 'nvidia-experimental-310' for glob 'nvidia*'\n",
            "Note, selecting 'nvidia-experimental-313' for glob 'nvidia*'\n",
            "Note, selecting 'nvidia-experimental-319' for glob 'nvidia*'\n",
            "Note, selecting 'nvidia-experimental-325' for glob 'nvidia*'\n",
            "Note, selecting 'nvidia-experimental-331' for glob 'nvidia*'\n",
            "Note, selecting 'nvidia-experimental-334' for glob 'nvidia*'\n",
            "Note, selecting 'nvidia-experimental-337' for glob 'nvidia*'\n",
            "Note, selecting 'nvidia-experimental-340' for glob 'nvidia*'\n",
            "Note, selecting 'nvidia-experimental-343' for glob 'nvidia*'\n",
            "Note, selecting 'nvidia-experimental-346' for glob 'nvidia*'\n",
            "Note, selecting 'nvidia-experimental-349' for glob 'nvidia*'\n",
            "Note, selecting 'nvidia-experimental-352' for glob 'nvidia*'\n",
            "Note, selecting 'nvidia-experimental-355' for glob 'nvidia*'\n",
            "Note, selecting 'nvidia-experimental-358' for glob 'nvidia*'\n",
            "Note, selecting 'nvidia-experimental-361' for glob 'nvidia*'\n",
            "Note, selecting 'nvidia-experimental-364' for glob 'nvidia*'\n",
            "Note, selecting 'nvidia-experimental-367' for glob 'nvidia*'\n",
            "Note, selecting 'nvidia-experimental-375' for glob 'nvidia*'\n",
            "Note, selecting 'nvidia-experimental-378' for glob 'nvidia*'\n",
            "Note, selecting 'nvidia-experimental-381' for glob 'nvidia*'\n",
            "Note, selecting 'nvidia-experimental-384' for glob 'nvidia*'\n",
            "Note, selecting 'nvidia-experimental-387' for glob 'nvidia*'\n",
            "Note, selecting 'nvidia-firmware-535-server-535.104.05' for glob 'nvidia*'\n",
            "Note, selecting 'nvidia-firmware-535-server-535.104.12' for glob 'nvidia*'\n",
            "Note, selecting 'nvidia-dkms-550-server' for glob 'nvidia*'\n",
            "Note, selecting 'nvidia-imex-550' for glob 'nvidia*'\n",
            "Note, selecting 'nvidia-imex-560' for glob 'nvidia*'\n",
            "Note, selecting 'nvidia-imex-565' for glob 'nvidia*'\n",
            "Note, selecting 'nvidia-firmware-550-550.163.01' for glob 'nvidia*'\n",
            "Note, selecting 'nvidia-imex-570' for glob 'nvidia*'\n",
            "Note, selecting 'nvidia-imex-575' for glob 'nvidia*'\n",
            "Note, selecting 'nvidia-imex-580' for glob 'nvidia*'\n",
            "Note, selecting 'nvidia-331-updates' for glob 'nvidia*'\n",
            "Note, selecting 'nvidia-dkms-570-server' for glob 'nvidia*'\n",
            "Note, selecting 'nvidia-firmware-535-535.86.05' for glob 'nvidia*'\n",
            "Note, selecting 'nvidia-driver-535-open' for glob 'nvidia*'\n",
            "Note, selecting 'nvidia-firmware-550-server-550.163.01' for glob 'nvidia*'\n",
            "Note, selecting 'nvidia-kernel-source-525-open' for glob 'nvidia*'\n",
            "Note, selecting 'nvidia-driver-560-server' for glob 'nvidia*'\n",
            "Note, selecting 'nvidia-headless-no-dkms-570-server-open' for glob 'nvidia*'\n",
            "Note, selecting 'nvidia-337-updates' for glob 'nvidia*'\n",
            "Note, selecting 'nvidia-driver-580-server' for glob 'nvidia*'\n",
            "Note, selecting 'nvidia-gds' for glob 'nvidia*'\n",
            "Note, selecting 'nvidia-firmware-535-535.183.01' for glob 'nvidia*'\n",
            "Note, selecting 'nvidia-firmware-535-535.183.06' for glob 'nvidia*'\n",
            "Note, selecting 'nvidia-firmware-550-550.120' for glob 'nvidia*'\n",
            "Note, selecting 'nvidia-firmware-535-server-535.54.03' for glob 'nvidia*'\n",
            "Note, selecting 'nvidia-dkms-565-open' for glob 'nvidia*'\n",
            "Note, selecting 'nvidia-compute-utils-418-server' for glob 'nvidia*'\n",
            "Note, selecting 'nvidia-fs-prebuilt' for glob 'nvidia*'\n",
            "Note, selecting 'nvidia-compute-utils-525-server' for glob 'nvidia*'\n",
            "Note, selecting 'nvidia-headless-no-dkms-555-open' for glob 'nvidia*'\n",
            "Note, selecting 'nvidia-headless-570-open' for glob 'nvidia*'\n",
            "Note, selecting 'nvidia-utils-450-server' for glob 'nvidia*'\n",
            "Note, selecting 'nvidia-firmware-535-server-535.183.01' for glob 'nvidia*'\n",
            "Note, selecting 'nvidia-firmware-535-server-535.183.06' for glob 'nvidia*'\n",
            "Note, selecting 'nvidia-headless-550-server' for glob 'nvidia*'\n",
            "Note, selecting 'nvidia-settings-binary' for glob 'nvidia*'\n",
            "Note, selecting 'nvidia-dkms-kernel' for glob 'nvidia*'\n",
            "Note, selecting 'nvidia-modprobe' for glob 'nvidia*'\n",
            "Note, selecting 'nvidia-utils-470-server' for glob 'nvidia*'\n",
            "Note, selecting 'nvidia-headless-570-server' for glob 'nvidia*'\n",
            "Note, selecting 'nvidia-compute-utils-565-server' for glob 'nvidia*'\n",
            "Note, selecting 'nvidia-cg-dev' for glob 'nvidia*'\n",
            "Note, selecting 'nvidia-dkms-535-open' for glob 'nvidia*'\n",
            "Note, selecting 'nvidia-cg-doc' for glob 'nvidia*'\n",
            "Note, selecting 'nvidia-kernel-source' for glob 'nvidia*'\n",
            "Note, selecting 'nvidia-common' for glob 'nvidia*'\n",
            "Note, selecting 'nvidia-persistenced' for glob 'nvidia*'\n",
            "Note, selecting 'nvidia-firmware-550-550.90.07' for glob 'nvidia*'\n",
            "Note, selecting 'nvidia-firmware-550-550.90.12' for glob 'nvidia*'\n",
            "Note, selecting 'nvidia-firmware-565-565.57.01' for glob 'nvidia*'\n",
            "Note, selecting 'nvidia-headless-no-dkms-525-open' for glob 'nvidia*'\n",
            "Note, selecting 'nvidia-driver-binary' for glob 'nvidia*'\n",
            "Note, selecting 'nvidia-smi' for glob 'nvidia*'\n",
            "Note, selecting 'nvidia-driver-510-server' for glob 'nvidia*'\n",
            "Note, selecting 'nvidia-kernel-common-575-server' for glob 'nvidia*'\n",
            "Note, selecting 'nvidia-firmware-550-550.144.03' for glob 'nvidia*'\n",
            "Package 'nvidia-egl-wayland-common' is not installed, so not removed\n",
            "Note, selecting 'nvidia-settings' instead of 'nvidia-settings-binary'\n",
            "Package 'nvidia-390' is not installed, so not removed\n",
            "Note, selecting 'libnvtt-bin' instead of 'nvidia-texture-tools'\n",
            "Package 'nvidia-libopencl1-dev' is not installed, so not removed\n",
            "Package 'nvidia-current' is not installed, so not removed\n",
            "Package 'nvidia-current-updates' is not installed, so not removed\n",
            "Package 'nvidia-libopencl1' is not installed, so not removed\n",
            "Package 'nvidia' is not installed, so not removed\n",
            "Package 'nvidia-driver-410' is not installed, so not removed\n",
            "Package 'nvidia-387' is not installed, so not removed\n",
            "Package 'nvidia-387-updates' is not installed, so not removed\n",
            "Package 'nvidia-experimental-387' is not installed, so not removed\n",
            "Package 'nvidia-384-updates' is not installed, so not removed\n",
            "Package 'nvidia-experimental-384' is not installed, so not removed\n",
            "Package 'nvidia-381' is not installed, so not removed\n",
            "Package 'nvidia-381-updates' is not installed, so not removed\n",
            "Package 'nvidia-experimental-381' is not installed, so not removed\n",
            "Package 'nvidia-378' is not installed, so not removed\n",
            "Package 'nvidia-378-updates' is not installed, so not removed\n",
            "Package 'nvidia-experimental-378' is not installed, so not removed\n",
            "Package 'nvidia-375' is not installed, so not removed\n",
            "Package 'nvidia-375-updates' is not installed, so not removed\n",
            "Package 'nvidia-experimental-375' is not installed, so not removed\n",
            "Package 'nvidia-367' is not installed, so not removed\n",
            "Package 'nvidia-367-updates' is not installed, so not removed\n",
            "Package 'nvidia-experimental-367' is not installed, so not removed\n",
            "Package 'nvidia-364' is not installed, so not removed\n",
            "Package 'nvidia-364-updates' is not installed, so not removed\n",
            "Package 'nvidia-experimental-364' is not installed, so not removed\n",
            "Package 'nvidia-361' is not installed, so not removed\n",
            "Package 'nvidia-361-updates' is not installed, so not removed\n",
            "Package 'nvidia-experimental-361' is not installed, so not removed\n",
            "Package 'nvidia-358' is not installed, so not removed\n",
            "Package 'nvidia-358-updates' is not installed, so not removed\n",
            "Package 'nvidia-experimental-358' is not installed, so not removed\n",
            "Package 'nvidia-355' is not installed, so not removed\n",
            "Package 'nvidia-355-updates' is not installed, so not removed\n",
            "Package 'nvidia-experimental-355' is not installed, so not removed\n",
            "Package 'nvidia-352' is not installed, so not removed\n",
            "Package 'nvidia-352-updates' is not installed, so not removed\n",
            "Package 'nvidia-experimental-352' is not installed, so not removed\n",
            "Package 'nvidia-349' is not installed, so not removed\n",
            "Package 'nvidia-349-updates' is not installed, so not removed\n",
            "Package 'nvidia-experimental-349' is not installed, so not removed\n",
            "Package 'nvidia-346' is not installed, so not removed\n",
            "Package 'nvidia-346-updates' is not installed, so not removed\n",
            "Package 'nvidia-experimental-346' is not installed, so not removed\n",
            "Package 'nvidia-343' is not installed, so not removed\n",
            "Package 'nvidia-343-updates' is not installed, so not removed\n",
            "Package 'nvidia-experimental-343' is not installed, so not removed\n",
            "Package 'nvidia-340-updates' is not installed, so not removed\n",
            "Package 'nvidia-experimental-340' is not installed, so not removed\n",
            "Package 'nvidia-337' is not installed, so not removed\n",
            "Package 'nvidia-337-updates' is not installed, so not removed\n",
            "Package 'nvidia-experimental-337' is not installed, so not removed\n",
            "Package 'nvidia-334' is not installed, so not removed\n",
            "Package 'nvidia-334-updates' is not installed, so not removed\n",
            "Package 'nvidia-experimental-334' is not installed, so not removed\n",
            "Package 'nvidia-331' is not installed, so not removed\n",
            "Package 'nvidia-331-updates' is not installed, so not removed\n",
            "Package 'nvidia-experimental-331' is not installed, so not removed\n",
            "Package 'nvidia-325' is not installed, so not removed\n",
            "Package 'nvidia-325-updates' is not installed, so not removed\n",
            "Package 'nvidia-experimental-325' is not installed, so not removed\n",
            "Package 'nvidia-319' is not installed, so not removed\n",
            "Package 'nvidia-319-updates' is not installed, so not removed\n",
            "Package 'nvidia-experimental-319' is not installed, so not removed\n",
            "Package 'nvidia-313' is not installed, so not removed\n",
            "Package 'nvidia-313-updates' is not installed, so not removed\n",
            "Package 'nvidia-experimental-313' is not installed, so not removed\n",
            "Package 'nvidia-310' is not installed, so not removed\n",
            "Package 'nvidia-310-updates' is not installed, so not removed\n",
            "Package 'nvidia-experimental-310' is not installed, so not removed\n",
            "Package 'nvidia-304' is not installed, so not removed\n",
            "Package 'nvidia-304-updates' is not installed, so not removed\n",
            "Package 'nvidia-experimental-304' is not installed, so not removed\n",
            "Package 'nvidia-legacy-390xx-opencl-icd' is not installed, so not removed\n",
            "Package 'nvidia-legacy-390xx-smi' is not installed, so not removed\n",
            "Package 'nvidia-cuda-doc' is not installed, so not removed\n",
            "Package 'nvidia-firmware-535-server-535.113.01' is not installed, so not removed\n",
            "Package 'nvidia-firmware-535-server-535.146.02' is not installed, so not removed\n",
            "Package 'nvidia-firmware-535-server-535.171.04' is not installed, so not removed\n",
            "Package 'nvidia-firmware-535-535.104.12' is not installed, so not removed\n",
            "Package 'nvidia-firmware-535-535.161.08' is not installed, so not removed\n",
            "Package 'nvidia-firmware-535-535.183.06' is not installed, so not removed\n",
            "Package 'nvidia-firmware-535-535.216.01' is not installed, so not removed\n",
            "Package 'nvidia-firmware-535-535.216.03' is not installed, so not removed\n",
            "Package 'nvidia-firmware-545-server-545.29.06' is not installed, so not removed\n",
            "Package 'nvidia-firmware-550-server-550.107.02' is not installed, so not removed\n",
            "Package 'nvidia-firmware-550-server-550.120' is not installed, so not removed\n",
            "Package 'nvidia-firmware-550-server-550.67' is not installed, so not removed\n",
            "Package 'nvidia-firmware-570-server-570.133.07' is not installed, so not removed\n",
            "Package 'nvidia-firmware-570-server-570.169' is not installed, so not removed\n",
            "Package 'nvidia-firmware-570-570.158.01' is not installed, so not removed\n",
            "Package 'nvidia-firmware-575-server-575.64.03' is not installed, so not removed\n",
            "Package 'nvidia-firmware-575-575.57.08' is not installed, so not removed\n",
            "Package 'nvidia-fs-prebuilt' is not installed, so not removed\n",
            "Package 'nvidia-kernel-common-396' is not installed, so not removed\n",
            "Package 'nvidia-kernel-dkms' is not installed, so not removed\n",
            "Package 'nvidia-container-runtime-hook' is not installed, so not removed\n",
            "Package 'nvidia-docker' is not installed, so not removed\n",
            "Package 'nvidia-driver-555-server' is not installed, so not removed\n",
            "Package 'nvidia-driver-555-server-open' is not installed, so not removed\n",
            "Package 'nvidia-firmware-555-server-555.42.02' is not installed, so not removed\n",
            "Package 'nvidia-firmware-555-server-555.42.06' is not installed, so not removed\n",
            "Package 'nvidia-driver-560-server' is not installed, so not removed\n",
            "Package 'nvidia-driver-560-server-open' is not installed, so not removed\n",
            "Package 'nvidia-firmware-560-server-560.28.03' is not installed, so not removed\n",
            "Package 'nvidia-firmware-560-server-560.35.03' is not installed, so not removed\n",
            "Package 'nvidia-firmware-550-server-550.90.12' is not installed, so not removed\n",
            "Package 'nvidia-hpc-benchmarks' is not installed, so not removed\n",
            "Package 'nvidia-firmware-560-server-560.35.05' is not installed, so not removed\n",
            "Package 'nvidia-firmware-570-server-570.86.10' is not installed, so not removed\n",
            "Package 'nvidia-firmware-570-server-570.124.06' is not installed, so not removed\n",
            "Package 'nvidia-firmware-575-server-575.51.03' is not installed, so not removed\n",
            "Package 'nvidia-firmware-570-server' is not installed, so not removed\n",
            "Package 'nvidia-firmware-575-server' is not installed, so not removed\n",
            "Package 'nvidia-driver-580-server' is not installed, so not removed\n",
            "Package 'nvidia-driver-580-server-open' is not installed, so not removed\n",
            "Note, selecting 'nvidia-fabricmanager' instead of 'nvidia-fabricmanager-580'\n",
            "Note, selecting 'nvidia-fabricmanager-dev' instead of 'nvidia-fabricmanager-dev-580'\n",
            "Package 'nvidia-firmware-580-server' is not installed, so not removed\n",
            "Package 'nvidia-kernel-open-dkms' is not installed, so not removed\n",
            "Note, selecting 'nvidia-imex' instead of 'nvidia-imex-580'\n",
            "Package 'nvidia-firmware-565-server-565.77' is not installed, so not removed\n",
            "Package 'nvidia-firmware-570-server-570.181' is not installed, so not removed\n",
            "Package 'nvidia-firmware-580-server-580.65.06' is not installed, so not removed\n",
            "Package 'nvidia-firmware-580-server-580.76.05' is not installed, so not removed\n",
            "Package 'nvidia-prime' is not installed, so not removed\n",
            "Package 'nvidia-340' is not installed, so not removed\n",
            "Package 'nvidia-340-dev' is not installed, so not removed\n",
            "Package 'nvidia-340-uvm' is not installed, so not removed\n",
            "Package 'nvidia-compute-utils-418' is not installed, so not removed\n",
            "Package 'nvidia-compute-utils-435' is not installed, so not removed\n",
            "Package 'nvidia-compute-utils-440' is not installed, so not removed\n",
            "Package 'nvidia-compute-utils-450' is not installed, so not removed\n",
            "Package 'nvidia-compute-utils-455' is not installed, so not removed\n",
            "Package 'nvidia-dkms-418' is not installed, so not removed\n",
            "Package 'nvidia-dkms-435' is not installed, so not removed\n",
            "Package 'nvidia-dkms-440' is not installed, so not removed\n",
            "Package 'nvidia-dkms-450' is not installed, so not removed\n",
            "Package 'nvidia-dkms-455' is not installed, so not removed\n",
            "Package 'nvidia-driver-418' is not installed, so not removed\n",
            "Package 'nvidia-driver-435' is not installed, so not removed\n",
            "Package 'nvidia-driver-440' is not installed, so not removed\n",
            "Package 'nvidia-driver-450' is not installed, so not removed\n",
            "Package 'nvidia-driver-455' is not installed, so not removed\n",
            "Package 'nvidia-headless-418' is not installed, so not removed\n",
            "Package 'nvidia-headless-435' is not installed, so not removed\n",
            "Package 'nvidia-headless-440' is not installed, so not removed\n",
            "Package 'nvidia-headless-450' is not installed, so not removed\n",
            "Package 'nvidia-headless-455' is not installed, so not removed\n",
            "Package 'nvidia-headless-no-dkms-418' is not installed, so not removed\n",
            "Package 'nvidia-headless-no-dkms-435' is not installed, so not removed\n",
            "Package 'nvidia-headless-no-dkms-440' is not installed, so not removed\n",
            "Package 'nvidia-headless-no-dkms-450' is not installed, so not removed\n",
            "Package 'nvidia-headless-no-dkms-455' is not installed, so not removed\n",
            "Package 'nvidia-kernel-common-418' is not installed, so not removed\n",
            "Package 'nvidia-kernel-common-435' is not installed, so not removed\n",
            "Package 'nvidia-kernel-common-440' is not installed, so not removed\n",
            "Package 'nvidia-kernel-common-450' is not installed, so not removed\n",
            "Package 'nvidia-kernel-common-455' is not installed, so not removed\n",
            "Package 'nvidia-kernel-source-418' is not installed, so not removed\n",
            "Package 'nvidia-kernel-source-435' is not installed, so not removed\n",
            "Package 'nvidia-kernel-source-440' is not installed, so not removed\n",
            "Package 'nvidia-kernel-source-450' is not installed, so not removed\n",
            "Package 'nvidia-kernel-source-455' is not installed, so not removed\n",
            "Package 'nvidia-utils-418' is not installed, so not removed\n",
            "Package 'nvidia-utils-435' is not installed, so not removed\n",
            "Package 'nvidia-utils-440' is not installed, so not removed\n",
            "Package 'nvidia-utils-450' is not installed, so not removed\n",
            "Package 'nvidia-utils-455' is not installed, so not removed\n",
            "Package 'libcuda1-340' is not installed, so not removed\n",
            "Package 'libcudart11.0' is not installed, so not removed\n",
            "Package 'nvidia-cg-dev' is not installed, so not removed\n",
            "Package 'nvidia-cg-doc' is not installed, so not removed\n",
            "Package 'nvidia-cg-toolkit' is not installed, so not removed\n",
            "Package 'nvidia-cuda-dev' is not installed, so not removed\n",
            "Package 'nvidia-cuda-gdb' is not installed, so not removed\n",
            "Package 'nvidia-cuda-toolkit' is not installed, so not removed\n",
            "Package 'nvidia-cuda-toolkit-doc' is not installed, so not removed\n",
            "Package 'nvidia-cuda-toolkit-gcc' is not installed, so not removed\n",
            "Package 'nvidia-cudnn' is not installed, so not removed\n",
            "Package 'nvidia-libopencl1-340' is not installed, so not removed\n",
            "Package 'nvidia-opencl-icd-340' is not installed, so not removed\n",
            "Package 'nvidia-primus-vk-common' is not installed, so not removed\n",
            "Package 'nvidia-primus-vk-wrapper' is not installed, so not removed\n",
            "Package 'nvidia-profiler' is not installed, so not removed\n",
            "Package 'nvidia-visual-profiler' is not installed, so not removed\n",
            "Package 'cuda-drivers-fabricmanager-515' is not installed, so not removed\n",
            "Package 'nvidia-384' is not installed, so not removed\n",
            "Package 'nvidia-384-dev' is not installed, so not removed\n",
            "Package 'nvidia-compute-utils-390' is not installed, so not removed\n",
            "Package 'nvidia-compute-utils-418-server' is not installed, so not removed\n",
            "Package 'nvidia-compute-utils-440-server' is not installed, so not removed\n",
            "Package 'nvidia-compute-utils-450-server' is not installed, so not removed\n",
            "Package 'nvidia-compute-utils-460' is not installed, so not removed\n",
            "Package 'nvidia-compute-utils-460-server' is not installed, so not removed\n",
            "Package 'nvidia-compute-utils-465' is not installed, so not removed\n",
            "Package 'nvidia-compute-utils-470' is not installed, so not removed\n",
            "Package 'nvidia-compute-utils-470-server' is not installed, so not removed\n",
            "Package 'nvidia-compute-utils-495' is not installed, so not removed\n",
            "Package 'nvidia-compute-utils-510' is not installed, so not removed\n",
            "Package 'nvidia-compute-utils-510-server' is not installed, so not removed\n",
            "Package 'nvidia-compute-utils-515' is not installed, so not removed\n",
            "Package 'nvidia-compute-utils-515-server' is not installed, so not removed\n",
            "Package 'nvidia-compute-utils-520' is not installed, so not removed\n",
            "Package 'nvidia-compute-utils-525' is not installed, so not removed\n",
            "Package 'nvidia-compute-utils-525-server' is not installed, so not removed\n",
            "Package 'nvidia-compute-utils-535-server' is not installed, so not removed\n",
            "Package 'nvidia-compute-utils-545' is not installed, so not removed\n",
            "Package 'nvidia-compute-utils-550-server' is not installed, so not removed\n",
            "Package 'nvidia-compute-utils-565-server' is not installed, so not removed\n",
            "Package 'nvidia-compute-utils-570-server' is not installed, so not removed\n",
            "Package 'nvidia-dkms-390' is not installed, so not removed\n",
            "Package 'nvidia-dkms-418-server' is not installed, so not removed\n",
            "Package 'nvidia-dkms-440-server' is not installed, so not removed\n",
            "Package 'nvidia-dkms-450-server' is not installed, so not removed\n",
            "Package 'nvidia-dkms-460' is not installed, so not removed\n",
            "Package 'nvidia-dkms-460-server' is not installed, so not removed\n",
            "Package 'nvidia-dkms-465' is not installed, so not removed\n",
            "Package 'nvidia-dkms-470' is not installed, so not removed\n",
            "Package 'nvidia-dkms-470-server' is not installed, so not removed\n",
            "Package 'nvidia-dkms-495' is not installed, so not removed\n",
            "Package 'nvidia-dkms-510' is not installed, so not removed\n",
            "Package 'nvidia-dkms-510-server' is not installed, so not removed\n",
            "Package 'nvidia-dkms-515' is not installed, so not removed\n",
            "Package 'nvidia-dkms-515-open' is not installed, so not removed\n",
            "Package 'nvidia-dkms-515-server' is not installed, so not removed\n",
            "Package 'nvidia-dkms-520' is not installed, so not removed\n",
            "Package 'nvidia-dkms-520-open' is not installed, so not removed\n",
            "Package 'nvidia-dkms-525' is not installed, so not removed\n",
            "Package 'nvidia-dkms-525-open' is not installed, so not removed\n",
            "Package 'nvidia-dkms-525-server' is not installed, so not removed\n",
            "Package 'nvidia-dkms-535-open' is not installed, so not removed\n",
            "Package 'nvidia-dkms-535-server' is not installed, so not removed\n",
            "Package 'nvidia-dkms-535-server-open' is not installed, so not removed\n",
            "Package 'nvidia-dkms-545' is not installed, so not removed\n",
            "Package 'nvidia-dkms-545-open' is not installed, so not removed\n",
            "Package 'nvidia-dkms-550-server' is not installed, so not removed\n",
            "Package 'nvidia-dkms-550-server-open' is not installed, so not removed\n",
            "Package 'nvidia-dkms-565-server' is not installed, so not removed\n",
            "Package 'nvidia-dkms-565-server-open' is not installed, so not removed\n",
            "Package 'nvidia-dkms-570-server' is not installed, so not removed\n",
            "Package 'nvidia-dkms-570-server-open' is not installed, so not removed\n",
            "Package 'nvidia-driver-390' is not installed, so not removed\n",
            "Package 'nvidia-driver-418-server' is not installed, so not removed\n",
            "Package 'nvidia-driver-440-server' is not installed, so not removed\n",
            "Package 'nvidia-driver-450-server' is not installed, so not removed\n",
            "Package 'nvidia-driver-460' is not installed, so not removed\n",
            "Package 'nvidia-driver-460-server' is not installed, so not removed\n",
            "Package 'nvidia-driver-465' is not installed, so not removed\n",
            "Package 'nvidia-driver-470' is not installed, so not removed\n",
            "Package 'nvidia-driver-470-server' is not installed, so not removed\n",
            "Package 'nvidia-driver-495' is not installed, so not removed\n",
            "Package 'nvidia-driver-510' is not installed, so not removed\n",
            "Package 'nvidia-driver-510-server' is not installed, so not removed\n",
            "Package 'nvidia-driver-515' is not installed, so not removed\n",
            "Package 'nvidia-driver-515-open' is not installed, so not removed\n",
            "Package 'nvidia-driver-515-server' is not installed, so not removed\n",
            "Package 'nvidia-driver-520' is not installed, so not removed\n",
            "Package 'nvidia-driver-520-open' is not installed, so not removed\n",
            "Package 'nvidia-driver-525' is not installed, so not removed\n",
            "Package 'nvidia-driver-525-open' is not installed, so not removed\n",
            "Package 'nvidia-driver-525-server' is not installed, so not removed\n",
            "Package 'nvidia-driver-535-open' is not installed, so not removed\n",
            "Package 'nvidia-driver-535-server' is not installed, so not removed\n",
            "Package 'nvidia-driver-535-server-open' is not installed, so not removed\n",
            "Package 'nvidia-driver-545' is not installed, so not removed\n",
            "Package 'nvidia-driver-545-open' is not installed, so not removed\n",
            "Package 'nvidia-driver-550-server' is not installed, so not removed\n",
            "Package 'nvidia-driver-550-server-open' is not installed, so not removed\n",
            "Package 'nvidia-driver-565-server' is not installed, so not removed\n",
            "Package 'nvidia-driver-565-server-open' is not installed, so not removed\n",
            "Package 'nvidia-driver-570-server' is not installed, so not removed\n",
            "Package 'nvidia-driver-570-server-open' is not installed, so not removed\n",
            "Package 'nvidia-fabricmanager-515' is not installed, so not removed\n",
            "Package 'nvidia-fabricmanager-dev-515' is not installed, so not removed\n",
            "Package 'nvidia-firmware-535-535.104.05' is not installed, so not removed\n",
            "Package 'nvidia-firmware-535-535.113.01' is not installed, so not removed\n",
            "Package 'nvidia-firmware-535-535.129.03' is not installed, so not removed\n",
            "Package 'nvidia-firmware-535-535.146.02' is not installed, so not removed\n",
            "Package 'nvidia-firmware-535-535.154.05' is not installed, so not removed\n",
            "Package 'nvidia-firmware-535-535.161.07' is not installed, so not removed\n",
            "Package 'nvidia-firmware-535-535.171.04' is not installed, so not removed\n",
            "Package 'nvidia-firmware-535-535.183.01' is not installed, so not removed\n",
            "Package 'nvidia-firmware-535-535.230.02' is not installed, so not removed\n",
            "Package 'nvidia-firmware-535-535.247.01' is not installed, so not removed\n",
            "Package 'nvidia-firmware-535-535.54.03' is not installed, so not removed\n",
            "Package 'nvidia-firmware-535-535.86.05' is not installed, so not removed\n",
            "Package 'nvidia-firmware-535-server-535.104.05' is not installed, so not removed\n",
            "Package 'nvidia-firmware-535-server-535.104.12' is not installed, so not removed\n",
            "Package 'nvidia-firmware-535-server-535.129.03' is not installed, so not removed\n",
            "Package 'nvidia-firmware-535-server-535.154.05' is not installed, so not removed\n",
            "Package 'nvidia-firmware-535-server-535.161.07' is not installed, so not removed\n",
            "Package 'nvidia-firmware-535-server-535.161.08' is not installed, so not removed\n",
            "Package 'nvidia-firmware-535-server-535.183.01' is not installed, so not removed\n",
            "Package 'nvidia-firmware-535-server-535.183.06' is not installed, so not removed\n",
            "Package 'nvidia-firmware-535-server-535.216.01' is not installed, so not removed\n",
            "Package 'nvidia-firmware-535-server-535.216.03' is not installed, so not removed\n",
            "Package 'nvidia-firmware-535-server-535.230.02' is not installed, so not removed\n",
            "Package 'nvidia-firmware-535-server-535.247.01' is not installed, so not removed\n",
            "Package 'nvidia-firmware-535-server-535.54.03' is not installed, so not removed\n",
            "Package 'nvidia-firmware-545-545.29.06' is not installed, so not removed\n",
            "Package 'nvidia-firmware-550-550.107.02' is not installed, so not removed\n",
            "Package 'nvidia-firmware-550-550.120' is not installed, so not removed\n",
            "Package 'nvidia-firmware-550-550.67' is not installed, so not removed\n",
            "Package 'nvidia-firmware-550-server-550.127.05' is not installed, so not removed\n",
            "Package 'nvidia-firmware-550-server-550.127.08' is not installed, so not removed\n",
            "Package 'nvidia-firmware-550-server-550.144.03' is not installed, so not removed\n",
            "Package 'nvidia-firmware-550-server-550.163.01' is not installed, so not removed\n",
            "Package 'nvidia-firmware-550-server-550.54.15' is not installed, so not removed\n",
            "Package 'nvidia-firmware-550-server-550.90.07' is not installed, so not removed\n",
            "Package 'nvidia-firmware-565-server-565.57.01' is not installed, so not removed\n",
            "Package 'nvidia-firmware-570-570.133.07' is not installed, so not removed\n",
            "Package 'nvidia-firmware-570-570.169' is not installed, so not removed\n",
            "Package 'nvidia-firmware-570-server-570.133.20' is not installed, so not removed\n",
            "Package 'nvidia-firmware-570-server-570.158.01' is not installed, so not removed\n",
            "Package 'nvidia-firmware-570-server-570.86.15' is not installed, so not removed\n",
            "Package 'nvidia-headless-390' is not installed, so not removed\n",
            "Package 'nvidia-headless-418-server' is not installed, so not removed\n",
            "Package 'nvidia-headless-440-server' is not installed, so not removed\n",
            "Package 'nvidia-headless-450-server' is not installed, so not removed\n",
            "Package 'nvidia-headless-460' is not installed, so not removed\n",
            "Package 'nvidia-headless-460-server' is not installed, so not removed\n",
            "Package 'nvidia-headless-465' is not installed, so not removed\n",
            "Package 'nvidia-headless-470' is not installed, so not removed\n",
            "Package 'nvidia-headless-470-server' is not installed, so not removed\n",
            "Package 'nvidia-headless-495' is not installed, so not removed\n",
            "Package 'nvidia-headless-510' is not installed, so not removed\n",
            "Package 'nvidia-headless-510-server' is not installed, so not removed\n",
            "Package 'nvidia-headless-515' is not installed, so not removed\n",
            "Package 'nvidia-headless-515-open' is not installed, so not removed\n",
            "Package 'nvidia-headless-515-server' is not installed, so not removed\n",
            "Package 'nvidia-headless-520' is not installed, so not removed\n",
            "Package 'nvidia-headless-520-open' is not installed, so not removed\n",
            "Package 'nvidia-headless-525' is not installed, so not removed\n",
            "Package 'nvidia-headless-525-open' is not installed, so not removed\n",
            "Package 'nvidia-headless-525-server' is not installed, so not removed\n",
            "Package 'nvidia-headless-535-open' is not installed, so not removed\n",
            "Package 'nvidia-headless-535-server' is not installed, so not removed\n",
            "Package 'nvidia-headless-535-server-open' is not installed, so not removed\n",
            "Package 'nvidia-headless-545' is not installed, so not removed\n",
            "Package 'nvidia-headless-545-open' is not installed, so not removed\n",
            "Package 'nvidia-headless-550-server' is not installed, so not removed\n",
            "Package 'nvidia-headless-550-server-open' is not installed, so not removed\n",
            "Package 'nvidia-headless-565-server' is not installed, so not removed\n",
            "Package 'nvidia-headless-565-server-open' is not installed, so not removed\n",
            "Package 'nvidia-headless-570-server' is not installed, so not removed\n",
            "Package 'nvidia-headless-570-server-open' is not installed, so not removed\n",
            "Package 'nvidia-headless-no-dkms-390' is not installed, so not removed\n",
            "Package 'nvidia-headless-no-dkms-418-server' is not installed, so not removed\n",
            "Package 'nvidia-headless-no-dkms-440-server' is not installed, so not removed\n",
            "Package 'nvidia-headless-no-dkms-450-server' is not installed, so not removed\n",
            "Package 'nvidia-headless-no-dkms-460' is not installed, so not removed\n",
            "Package 'nvidia-headless-no-dkms-460-server' is not installed, so not removed\n",
            "Package 'nvidia-headless-no-dkms-465' is not installed, so not removed\n",
            "Package 'nvidia-headless-no-dkms-470' is not installed, so not removed\n",
            "Package 'nvidia-headless-no-dkms-470-server' is not installed, so not removed\n",
            "Package 'nvidia-headless-no-dkms-495' is not installed, so not removed\n",
            "Package 'nvidia-headless-no-dkms-510' is not installed, so not removed\n",
            "Package 'nvidia-headless-no-dkms-510-server' is not installed, so not removed\n",
            "Package 'nvidia-headless-no-dkms-515' is not installed, so not removed\n",
            "Package 'nvidia-headless-no-dkms-515-open' is not installed, so not removed\n",
            "Package 'nvidia-headless-no-dkms-515-server' is not installed, so not removed\n",
            "Package 'nvidia-headless-no-dkms-520' is not installed, so not removed\n",
            "Package 'nvidia-headless-no-dkms-520-open' is not installed, so not removed\n",
            "Package 'nvidia-headless-no-dkms-525' is not installed, so not removed\n",
            "Package 'nvidia-headless-no-dkms-525-open' is not installed, so not removed\n",
            "Package 'nvidia-headless-no-dkms-525-server' is not installed, so not removed\n",
            "Package 'nvidia-headless-no-dkms-535-open' is not installed, so not removed\n",
            "Package 'nvidia-headless-no-dkms-535-server' is not installed, so not removed\n",
            "Package 'nvidia-headless-no-dkms-535-server-open' is not installed, so not removed\n",
            "Package 'nvidia-headless-no-dkms-545' is not installed, so not removed\n",
            "Package 'nvidia-headless-no-dkms-545-open' is not installed, so not removed\n",
            "Package 'nvidia-headless-no-dkms-550-server' is not installed, so not removed\n",
            "Package 'nvidia-headless-no-dkms-550-server-open' is not installed, so not removed\n",
            "Package 'nvidia-headless-no-dkms-565-server' is not installed, so not removed\n",
            "Package 'nvidia-headless-no-dkms-565-server-open' is not installed, so not removed\n",
            "Package 'nvidia-headless-no-dkms-570-server' is not installed, so not removed\n",
            "Package 'nvidia-headless-no-dkms-570-server-open' is not installed, so not removed\n",
            "Package 'nvidia-kernel-common-390' is not installed, so not removed\n",
            "Package 'nvidia-kernel-common-418-server' is not installed, so not removed\n",
            "Package 'nvidia-kernel-common-440-server' is not installed, so not removed\n",
            "Package 'nvidia-kernel-common-450-server' is not installed, so not removed\n",
            "Package 'nvidia-kernel-common-460' is not installed, so not removed\n",
            "Package 'nvidia-kernel-common-460-server' is not installed, so not removed\n",
            "Package 'nvidia-kernel-common-465' is not installed, so not removed\n",
            "Package 'nvidia-kernel-common-470' is not installed, so not removed\n",
            "Package 'nvidia-kernel-common-470-server' is not installed, so not removed\n",
            "Package 'nvidia-kernel-common-495' is not installed, so not removed\n",
            "Package 'nvidia-kernel-common-510' is not installed, so not removed\n",
            "Package 'nvidia-kernel-common-510-server' is not installed, so not removed\n",
            "Package 'nvidia-kernel-common-515' is not installed, so not removed\n",
            "Package 'nvidia-kernel-common-515-server' is not installed, so not removed\n",
            "Package 'nvidia-kernel-common-520' is not installed, so not removed\n",
            "Package 'nvidia-kernel-common-525' is not installed, so not removed\n",
            "Package 'nvidia-kernel-common-525-server' is not installed, so not removed\n",
            "Package 'nvidia-kernel-common-535-server' is not installed, so not removed\n",
            "Package 'nvidia-kernel-common-545' is not installed, so not removed\n",
            "Package 'nvidia-kernel-common-550-server' is not installed, so not removed\n",
            "Package 'nvidia-kernel-common-565-server' is not installed, so not removed\n",
            "Package 'nvidia-kernel-common-570-server' is not installed, so not removed\n",
            "Package 'nvidia-kernel-source-390' is not installed, so not removed\n",
            "Package 'nvidia-kernel-source-418-server' is not installed, so not removed\n",
            "Package 'nvidia-kernel-source-440-server' is not installed, so not removed\n",
            "Package 'nvidia-kernel-source-450-server' is not installed, so not removed\n",
            "Package 'nvidia-kernel-source-460' is not installed, so not removed\n",
            "Package 'nvidia-kernel-source-460-server' is not installed, so not removed\n",
            "Package 'nvidia-kernel-source-465' is not installed, so not removed\n",
            "Package 'nvidia-kernel-source-470' is not installed, so not removed\n",
            "Package 'nvidia-kernel-source-470-server' is not installed, so not removed\n",
            "Package 'nvidia-kernel-source-495' is not installed, so not removed\n",
            "Package 'nvidia-kernel-source-510' is not installed, so not removed\n",
            "Package 'nvidia-kernel-source-510-server' is not installed, so not removed\n",
            "Package 'nvidia-kernel-source-515' is not installed, so not removed\n",
            "Package 'nvidia-kernel-source-515-open' is not installed, so not removed\n",
            "Package 'nvidia-kernel-source-515-server' is not installed, so not removed\n",
            "Package 'nvidia-kernel-source-520' is not installed, so not removed\n",
            "Package 'nvidia-kernel-source-520-open' is not installed, so not removed\n",
            "Package 'nvidia-kernel-source-525' is not installed, so not removed\n",
            "Package 'nvidia-kernel-source-525-open' is not installed, so not removed\n",
            "Package 'nvidia-kernel-source-525-server' is not installed, so not removed\n",
            "Package 'nvidia-kernel-source-535-open' is not installed, so not removed\n",
            "Package 'nvidia-kernel-source-535-server' is not installed, so not removed\n",
            "Package 'nvidia-kernel-source-535-server-open' is not installed, so not removed\n",
            "Package 'nvidia-kernel-source-545' is not installed, so not removed\n",
            "Package 'nvidia-kernel-source-545-open' is not installed, so not removed\n",
            "Package 'nvidia-kernel-source-550-server' is not installed, so not removed\n",
            "Package 'nvidia-kernel-source-550-server-open' is not installed, so not removed\n",
            "Package 'nvidia-kernel-source-565-server' is not installed, so not removed\n",
            "Package 'nvidia-kernel-source-565-server-open' is not installed, so not removed\n",
            "Package 'nvidia-kernel-source-570-server' is not installed, so not removed\n",
            "Package 'nvidia-kernel-source-570-server-open' is not installed, so not removed\n",
            "Package 'nvidia-utils-390' is not installed, so not removed\n",
            "Package 'nvidia-utils-418-server' is not installed, so not removed\n",
            "Package 'nvidia-utils-440-server' is not installed, so not removed\n",
            "Package 'nvidia-utils-450-server' is not installed, so not removed\n",
            "Package 'nvidia-utils-460' is not installed, so not removed\n",
            "Package 'nvidia-utils-460-server' is not installed, so not removed\n",
            "Package 'nvidia-utils-465' is not installed, so not removed\n",
            "Package 'nvidia-utils-470' is not installed, so not removed\n",
            "Package 'nvidia-utils-470-server' is not installed, so not removed\n",
            "Package 'nvidia-utils-495' is not installed, so not removed\n",
            "Package 'nvidia-utils-510' is not installed, so not removed\n",
            "Package 'nvidia-utils-510-server' is not installed, so not removed\n",
            "Package 'nvidia-utils-515' is not installed, so not removed\n",
            "Package 'nvidia-utils-515-server' is not installed, so not removed\n",
            "Package 'nvidia-utils-520' is not installed, so not removed\n",
            "Package 'nvidia-utils-525' is not installed, so not removed\n",
            "Package 'nvidia-utils-525-server' is not installed, so not removed\n",
            "Package 'nvidia-utils-535-server' is not installed, so not removed\n",
            "Package 'nvidia-utils-545' is not installed, so not removed\n",
            "Package 'nvidia-utils-550-server' is not installed, so not removed\n",
            "Package 'nvidia-utils-565-server' is not installed, so not removed\n",
            "Package 'nvidia-utils-570-server' is not installed, so not removed\n",
            "Package 'nvidia-common' is not installed, so not removed\n",
            "Package 'cuda-drivers-fabricmanager-450' is not installed, so not removed\n",
            "Package 'cuda-drivers-fabricmanager-460' is not installed, so not removed\n",
            "Package 'cuda-drivers-fabricmanager-470' is not installed, so not removed\n",
            "Package 'cuda-drivers-fabricmanager-510' is not installed, so not removed\n",
            "Package 'libcuda1-384' is not installed, so not removed\n",
            "Package 'nvidia-compute-utils-575' is not installed, so not removed\n",
            "Package 'nvidia-compute-utils-575-server' is not installed, so not removed\n",
            "Package 'nvidia-dkms-575' is not installed, so not removed\n",
            "Package 'nvidia-dkms-575-open' is not installed, so not removed\n",
            "Package 'nvidia-dkms-575-server' is not installed, so not removed\n",
            "Package 'nvidia-dkms-575-server-open' is not installed, so not removed\n",
            "Package 'nvidia-driver-575' is not installed, so not removed\n",
            "Package 'nvidia-driver-575-open' is not installed, so not removed\n",
            "Package 'nvidia-driver-575-server' is not installed, so not removed\n",
            "Package 'nvidia-driver-575-server-open' is not installed, so not removed\n",
            "Package 'nvidia-fabricmanager-450' is not installed, so not removed\n",
            "Package 'nvidia-fabricmanager-460' is not installed, so not removed\n",
            "Package 'nvidia-fabricmanager-470' is not installed, so not removed\n",
            "Package 'nvidia-fabricmanager-510' is not installed, so not removed\n",
            "Package 'nvidia-fabricmanager-dev-450' is not installed, so not removed\n",
            "Package 'nvidia-fabricmanager-dev-460' is not installed, so not removed\n",
            "Package 'nvidia-fabricmanager-dev-470' is not installed, so not removed\n",
            "Package 'nvidia-fabricmanager-dev-510' is not installed, so not removed\n",
            "Package 'nvidia-firmware-550-server-550.54.14' is not installed, so not removed\n",
            "Package 'nvidia-firmware-575-575.64.03' is not installed, so not removed\n",
            "Package 'nvidia-firmware-575-server-575.57.08' is not installed, so not removed\n",
            "Package 'nvidia-headless-575' is not installed, so not removed\n",
            "Package 'nvidia-headless-575-open' is not installed, so not removed\n",
            "Package 'nvidia-headless-575-server' is not installed, so not removed\n",
            "Package 'nvidia-headless-575-server-open' is not installed, so not removed\n",
            "Package 'nvidia-headless-no-dkms-575' is not installed, so not removed\n",
            "Package 'nvidia-headless-no-dkms-575-open' is not installed, so not removed\n",
            "Package 'nvidia-headless-no-dkms-575-server' is not installed, so not removed\n",
            "Package 'nvidia-headless-no-dkms-575-server-open' is not installed, so not removed\n",
            "Package 'nvidia-kernel-common-575' is not installed, so not removed\n",
            "Package 'nvidia-kernel-common-575-server' is not installed, so not removed\n",
            "Package 'nvidia-kernel-source-575' is not installed, so not removed\n",
            "Package 'nvidia-kernel-source-575-open' is not installed, so not removed\n",
            "Package 'nvidia-kernel-source-575-server' is not installed, so not removed\n",
            "Package 'nvidia-kernel-source-575-server-open' is not installed, so not removed\n",
            "Package 'nvidia-libopencl1-384' is not installed, so not removed\n",
            "Package 'nvidia-opencl-icd-384' is not installed, so not removed\n",
            "Package 'nvidia-utils-575' is not installed, so not removed\n",
            "Package 'nvidia-utils-575-server' is not installed, so not removed\n",
            "Package 'cuda-11-7' is not installed, so not removed\n",
            "Package 'cuda-cccl-11-7' is not installed, so not removed\n",
            "Package 'cuda-command-line-tools-11-7' is not installed, so not removed\n",
            "Package 'cuda-compiler-11-7' is not installed, so not removed\n",
            "Package 'cuda-cudart-11-7' is not installed, so not removed\n",
            "Package 'cuda-cudart-dev-11-7' is not installed, so not removed\n",
            "Package 'cuda-cuobjdump-11-7' is not installed, so not removed\n",
            "Package 'cuda-cupti-11-7' is not installed, so not removed\n",
            "Package 'cuda-cupti-dev-11-7' is not installed, so not removed\n",
            "Package 'cuda-cuxxfilt-11-7' is not installed, so not removed\n",
            "Package 'cuda-demo-suite-11-7' is not installed, so not removed\n",
            "Package 'cuda-documentation-11-7' is not installed, so not removed\n",
            "Package 'cuda-driver-dev-11-7' is not installed, so not removed\n",
            "Package 'cuda-gdb-11-7' is not installed, so not removed\n",
            "Package 'cuda-gdb-src-11-7' is not installed, so not removed\n",
            "Package 'cuda-libraries-11-7' is not installed, so not removed\n",
            "Package 'cuda-libraries-dev-11-7' is not installed, so not removed\n",
            "Package 'cuda-memcheck-11-7' is not installed, so not removed\n",
            "Package 'cuda-minimal-build-11-7' is not installed, so not removed\n",
            "Package 'cuda-nsight-11-7' is not installed, so not removed\n",
            "Package 'cuda-nsight-compute-11-7' is not installed, so not removed\n",
            "Package 'cuda-nsight-systems-11-7' is not installed, so not removed\n",
            "Package 'cuda-nvcc-11-7' is not installed, so not removed\n",
            "Package 'cuda-nvdisasm-11-7' is not installed, so not removed\n",
            "Package 'cuda-nvml-dev-11-7' is not installed, so not removed\n",
            "Package 'cuda-nvprof-11-7' is not installed, so not removed\n",
            "Package 'cuda-nvprune-11-7' is not installed, so not removed\n",
            "Package 'cuda-nvrtc-11-7' is not installed, so not removed\n",
            "Package 'cuda-nvrtc-dev-11-7' is not installed, so not removed\n",
            "Package 'cuda-nvtx-11-7' is not installed, so not removed\n",
            "Package 'cuda-nvvp-11-7' is not installed, so not removed\n",
            "Package 'cuda-runtime-11-7' is not installed, so not removed\n",
            "Package 'cuda-sanitizer-11-7' is not installed, so not removed\n",
            "Package 'cuda-toolkit-11-7' is not installed, so not removed\n",
            "Package 'cuda-toolkit-11-7-config-common' is not installed, so not removed\n",
            "Package 'cuda-tools-11-7' is not installed, so not removed\n",
            "Package 'cuda-visual-tools-11-7' is not installed, so not removed\n",
            "Package 'nvidia-gds-11-7' is not installed, so not removed\n",
            "Package 'cuda-11-8' is not installed, so not removed\n",
            "Package 'cuda-cccl-11-8' is not installed, so not removed\n",
            "Package 'cuda-command-line-tools-11-8' is not installed, so not removed\n",
            "Package 'cuda-compat-11-8' is not installed, so not removed\n",
            "Package 'cuda-compiler-11-8' is not installed, so not removed\n",
            "Package 'cuda-cudart-11-8' is not installed, so not removed\n",
            "Package 'cuda-cudart-dev-11-8' is not installed, so not removed\n",
            "Package 'cuda-cuobjdump-11-8' is not installed, so not removed\n",
            "Package 'cuda-cupti-11-8' is not installed, so not removed\n",
            "Package 'cuda-cupti-dev-11-8' is not installed, so not removed\n",
            "Package 'cuda-cuxxfilt-11-8' is not installed, so not removed\n",
            "Package 'cuda-demo-suite-11-8' is not installed, so not removed\n",
            "Package 'cuda-documentation-11-8' is not installed, so not removed\n",
            "Package 'cuda-driver-dev-11-8' is not installed, so not removed\n",
            "Package 'cuda-drivers-520' is not installed, so not removed\n",
            "Package 'cuda-drivers-fabricmanager-520' is not installed, so not removed\n",
            "Package 'cuda-gdb-11-8' is not installed, so not removed\n",
            "Package 'cuda-gdb-src-11-8' is not installed, so not removed\n",
            "Package 'cuda-libraries-11-8' is not installed, so not removed\n",
            "Package 'cuda-libraries-dev-11-8' is not installed, so not removed\n",
            "Package 'cuda-memcheck-11-8' is not installed, so not removed\n",
            "Package 'cuda-minimal-build-11-8' is not installed, so not removed\n",
            "Package 'cuda-nsight-11-8' is not installed, so not removed\n",
            "Package 'cuda-nsight-compute-11-8' is not installed, so not removed\n",
            "Package 'cuda-nsight-systems-11-8' is not installed, so not removed\n",
            "Package 'cuda-nvcc-11-8' is not installed, so not removed\n",
            "Package 'cuda-nvdisasm-11-8' is not installed, so not removed\n",
            "Package 'cuda-nvml-dev-11-8' is not installed, so not removed\n",
            "Package 'cuda-nvprof-11-8' is not installed, so not removed\n",
            "Package 'cuda-nvprune-11-8' is not installed, so not removed\n",
            "Package 'cuda-nvrtc-11-8' is not installed, so not removed\n",
            "Package 'cuda-nvrtc-dev-11-8' is not installed, so not removed\n",
            "Package 'cuda-nvtx-11-8' is not installed, so not removed\n",
            "Package 'cuda-nvvp-11-8' is not installed, so not removed\n",
            "Package 'cuda-profiler-api-11-8' is not installed, so not removed\n",
            "Package 'cuda-runtime-11-8' is not installed, so not removed\n",
            "Package 'cuda-sanitizer-11-8' is not installed, so not removed\n",
            "Package 'cuda-toolkit-11-8' is not installed, so not removed\n",
            "Package 'cuda-toolkit-11-8-config-common' is not installed, so not removed\n",
            "Package 'cuda-toolkit-11-config-common' is not installed, so not removed\n",
            "Package 'cuda-tools-11-8' is not installed, so not removed\n",
            "Package 'cuda-visual-tools-11-8' is not installed, so not removed\n",
            "Package 'nvidia-fabricmanager-520' is not installed, so not removed\n",
            "Package 'nvidia-fabricmanager-dev-520' is not installed, so not removed\n",
            "Package 'nvidia-gds-11-8' is not installed, so not removed\n",
            "Package 'nvidia-kernel-open-520' is not installed, so not removed\n",
            "Package 'cuda-12-0' is not installed, so not removed\n",
            "Package 'cuda-cccl-12-0' is not installed, so not removed\n",
            "Package 'cuda-command-line-tools-12-0' is not installed, so not removed\n",
            "Package 'cuda-compiler-12-0' is not installed, so not removed\n",
            "Package 'cuda-cudart-12-0' is not installed, so not removed\n",
            "Package 'cuda-cudart-dev-12-0' is not installed, so not removed\n",
            "Package 'cuda-cuobjdump-12-0' is not installed, so not removed\n",
            "Package 'cuda-cupti-12-0' is not installed, so not removed\n",
            "Package 'cuda-cupti-dev-12-0' is not installed, so not removed\n",
            "Package 'cuda-cuxxfilt-12-0' is not installed, so not removed\n",
            "Package 'cuda-demo-suite-12-0' is not installed, so not removed\n",
            "Package 'cuda-documentation-12-0' is not installed, so not removed\n",
            "Package 'cuda-driver-dev-12-0' is not installed, so not removed\n",
            "Package 'cuda-gdb-12-0' is not installed, so not removed\n",
            "Package 'cuda-gdb-src-12-0' is not installed, so not removed\n",
            "Package 'cuda-libraries-12-0' is not installed, so not removed\n",
            "Package 'cuda-libraries-dev-12-0' is not installed, so not removed\n",
            "Package 'cuda-minimal-build-12-0' is not installed, so not removed\n",
            "Package 'cuda-nsight-12-0' is not installed, so not removed\n",
            "Package 'cuda-nsight-compute-12-0' is not installed, so not removed\n",
            "Package 'cuda-nsight-systems-12-0' is not installed, so not removed\n",
            "Package 'cuda-nvcc-12-0' is not installed, so not removed\n",
            "Package 'cuda-nvdisasm-12-0' is not installed, so not removed\n",
            "Package 'cuda-nvml-dev-12-0' is not installed, so not removed\n",
            "Package 'cuda-nvprof-12-0' is not installed, so not removed\n",
            "Package 'cuda-nvprune-12-0' is not installed, so not removed\n",
            "Package 'cuda-nvrtc-12-0' is not installed, so not removed\n",
            "Package 'cuda-nvrtc-dev-12-0' is not installed, so not removed\n",
            "Package 'cuda-nvtx-12-0' is not installed, so not removed\n",
            "Package 'cuda-nvvp-12-0' is not installed, so not removed\n",
            "Package 'cuda-opencl-12-0' is not installed, so not removed\n",
            "Package 'cuda-opencl-dev-12-0' is not installed, so not removed\n",
            "Package 'cuda-profiler-api-12-0' is not installed, so not removed\n",
            "Package 'cuda-runtime-12-0' is not installed, so not removed\n",
            "Package 'cuda-sanitizer-12-0' is not installed, so not removed\n",
            "Package 'cuda-toolkit-12-0' is not installed, so not removed\n",
            "Package 'cuda-toolkit-12-0-config-common' is not installed, so not removed\n",
            "Package 'cuda-tools-12-0' is not installed, so not removed\n",
            "Package 'cuda-visual-tools-12-0' is not installed, so not removed\n",
            "Package 'nvidia-gds-12-0' is not installed, so not removed\n",
            "Package 'cuda-compat-12-1' is not installed, so not removed\n",
            "Package 'cuda-drivers-530' is not installed, so not removed\n",
            "Package 'cuda-drivers-fabricmanager-530' is not installed, so not removed\n",
            "Package 'nvidia-fabricmanager-530' is not installed, so not removed\n",
            "Package 'nvidia-fabricmanager-dev-530' is not installed, so not removed\n",
            "Package 'nvidia-kernel-open-530' is not installed, so not removed\n",
            "Package 'cuda-compat-11-7' is not installed, so not removed\n",
            "Package 'cuda-drivers-515' is not installed, so not removed\n",
            "Package 'nvidia-kernel-open-515' is not installed, so not removed\n",
            "Package 'nvidia-container-runtime' is not installed, so not removed\n",
            "Package 'nvidia-docker2' is not installed, so not removed\n",
            "Package 'cuda-12-1' is not installed, so not removed\n",
            "Package 'cuda-cccl-12-1' is not installed, so not removed\n",
            "Package 'cuda-command-line-tools-12-1' is not installed, so not removed\n",
            "Package 'cuda-compiler-12-1' is not installed, so not removed\n",
            "Package 'cuda-cudart-12-1' is not installed, so not removed\n",
            "Package 'cuda-cudart-dev-12-1' is not installed, so not removed\n",
            "Package 'cuda-cuobjdump-12-1' is not installed, so not removed\n",
            "Package 'cuda-cupti-12-1' is not installed, so not removed\n",
            "Package 'cuda-cupti-dev-12-1' is not installed, so not removed\n",
            "Package 'cuda-cuxxfilt-12-1' is not installed, so not removed\n",
            "Package 'cuda-demo-suite-12-1' is not installed, so not removed\n",
            "Package 'cuda-documentation-12-1' is not installed, so not removed\n",
            "Package 'cuda-driver-dev-12-1' is not installed, so not removed\n",
            "Package 'cuda-gdb-12-1' is not installed, so not removed\n",
            "Package 'cuda-gdb-src-12-1' is not installed, so not removed\n",
            "Package 'cuda-libraries-12-1' is not installed, so not removed\n",
            "Package 'cuda-libraries-dev-12-1' is not installed, so not removed\n",
            "Package 'cuda-minimal-build-12-1' is not installed, so not removed\n",
            "Package 'cuda-nsight-12-1' is not installed, so not removed\n",
            "Package 'cuda-nsight-compute-12-1' is not installed, so not removed\n",
            "Package 'cuda-nsight-systems-12-1' is not installed, so not removed\n",
            "Package 'cuda-nvcc-12-1' is not installed, so not removed\n",
            "Package 'cuda-nvdisasm-12-1' is not installed, so not removed\n",
            "Package 'cuda-nvml-dev-12-1' is not installed, so not removed\n",
            "Package 'cuda-nvprof-12-1' is not installed, so not removed\n",
            "Package 'cuda-nvprune-12-1' is not installed, so not removed\n",
            "Package 'cuda-nvrtc-12-1' is not installed, so not removed\n",
            "Package 'cuda-nvrtc-dev-12-1' is not installed, so not removed\n",
            "Package 'cuda-nvtx-12-1' is not installed, so not removed\n",
            "Package 'cuda-nvvp-12-1' is not installed, so not removed\n",
            "Package 'cuda-opencl-12-1' is not installed, so not removed\n",
            "Package 'cuda-opencl-dev-12-1' is not installed, so not removed\n",
            "Package 'cuda-profiler-api-12-1' is not installed, so not removed\n",
            "Package 'cuda-runtime-12-1' is not installed, so not removed\n",
            "Package 'cuda-sanitizer-12-1' is not installed, so not removed\n",
            "Package 'cuda-toolkit-12-1' is not installed, so not removed\n",
            "Package 'cuda-toolkit-12-1-config-common' is not installed, so not removed\n",
            "Package 'cuda-tools-12-1' is not installed, so not removed\n",
            "Package 'cuda-visual-tools-12-1' is not installed, so not removed\n",
            "Package 'nvidia-gds-12-1' is not installed, so not removed\n",
            "Package 'cuda-12-2' is not installed, so not removed\n",
            "Package 'cuda-cccl-12-2' is not installed, so not removed\n",
            "Package 'cuda-command-line-tools-12-2' is not installed, so not removed\n",
            "Package 'cuda-compiler-12-2' is not installed, so not removed\n",
            "Package 'cuda-crt-12-2' is not installed, so not removed\n",
            "Package 'cuda-cudart-12-2' is not installed, so not removed\n",
            "Package 'cuda-cudart-dev-12-2' is not installed, so not removed\n",
            "Package 'cuda-cuobjdump-12-2' is not installed, so not removed\n",
            "Package 'cuda-cupti-12-2' is not installed, so not removed\n",
            "Package 'cuda-cupti-dev-12-2' is not installed, so not removed\n",
            "Package 'cuda-cuxxfilt-12-2' is not installed, so not removed\n",
            "Package 'cuda-demo-suite-12-2' is not installed, so not removed\n",
            "Package 'cuda-documentation-12-2' is not installed, so not removed\n",
            "Package 'cuda-driver-dev-12-2' is not installed, so not removed\n",
            "Package 'cuda-gdb-12-2' is not installed, so not removed\n",
            "Package 'cuda-gdb-src-12-2' is not installed, so not removed\n",
            "Package 'cuda-libraries-12-2' is not installed, so not removed\n",
            "Package 'cuda-libraries-dev-12-2' is not installed, so not removed\n",
            "Package 'cuda-minimal-build-12-2' is not installed, so not removed\n",
            "Package 'cuda-nsight-12-2' is not installed, so not removed\n",
            "Package 'cuda-nsight-compute-12-2' is not installed, so not removed\n",
            "Package 'cuda-nsight-systems-12-2' is not installed, so not removed\n",
            "Package 'cuda-nvcc-12-2' is not installed, so not removed\n",
            "Package 'cuda-nvdisasm-12-2' is not installed, so not removed\n",
            "Package 'cuda-nvml-dev-12-2' is not installed, so not removed\n",
            "Package 'cuda-nvprof-12-2' is not installed, so not removed\n",
            "Package 'cuda-nvprune-12-2' is not installed, so not removed\n",
            "Package 'cuda-nvrtc-12-2' is not installed, so not removed\n",
            "Package 'cuda-nvrtc-dev-12-2' is not installed, so not removed\n",
            "Package 'cuda-nvtx-12-2' is not installed, so not removed\n",
            "Package 'cuda-nvvm-12-2' is not installed, so not removed\n",
            "Package 'cuda-nvvp-12-2' is not installed, so not removed\n",
            "Package 'cuda-opencl-12-2' is not installed, so not removed\n",
            "Package 'cuda-opencl-dev-12-2' is not installed, so not removed\n",
            "Package 'cuda-profiler-api-12-2' is not installed, so not removed\n",
            "Package 'cuda-runtime-12-2' is not installed, so not removed\n",
            "Package 'cuda-sanitizer-12-2' is not installed, so not removed\n",
            "Package 'cuda-toolkit-12-2' is not installed, so not removed\n",
            "Package 'cuda-toolkit-12-2-config-common' is not installed, so not removed\n",
            "Package 'cuda-tools-12-2' is not installed, so not removed\n",
            "Package 'cuda-visual-tools-12-2' is not installed, so not removed\n",
            "Package 'nvidia-gds-12-2' is not installed, so not removed\n",
            "Package 'cuda-compat-12-0' is not installed, so not removed\n",
            "Package 'cuda-drivers-525' is not installed, so not removed\n",
            "Package 'cuda-drivers-fabricmanager-525' is not installed, so not removed\n",
            "Package 'nvidia-fabricmanager-525' is not installed, so not removed\n",
            "Package 'nvidia-fabricmanager-dev-525' is not installed, so not removed\n",
            "Package 'nvidia-kernel-open-525' is not installed, so not removed\n",
            "Package 'cuda-cccl-12-3' is not installed, so not removed\n",
            "Package 'cuda-compat-12-3' is not installed, so not removed\n",
            "Package 'cuda-cudart-12-3' is not installed, so not removed\n",
            "Package 'cuda-cudart-dev-12-3' is not installed, so not removed\n",
            "Package 'cuda-cuobjdump-12-3' is not installed, so not removed\n",
            "Package 'cuda-cupti-12-3' is not installed, so not removed\n",
            "Package 'cuda-cupti-dev-12-3' is not installed, so not removed\n",
            "Package 'cuda-cuxxfilt-12-3' is not installed, so not removed\n",
            "Package 'cuda-demo-suite-12-3' is not installed, so not removed\n",
            "Package 'cuda-documentation-12-3' is not installed, so not removed\n",
            "Package 'cuda-driver-dev-12-3' is not installed, so not removed\n",
            "Package 'cuda-drivers-545' is not installed, so not removed\n",
            "Package 'cuda-drivers-fabricmanager-545' is not installed, so not removed\n",
            "Package 'cuda-gdb-12-3' is not installed, so not removed\n",
            "Package 'cuda-gdb-src-12-3' is not installed, so not removed\n",
            "Package 'cuda-nsight-12-3' is not installed, so not removed\n",
            "Package 'cuda-nvdisasm-12-3' is not installed, so not removed\n",
            "Package 'cuda-nvml-dev-12-3' is not installed, so not removed\n",
            "Package 'cuda-nvprof-12-3' is not installed, so not removed\n",
            "Package 'cuda-nvprune-12-3' is not installed, so not removed\n",
            "Package 'cuda-nvtx-12-3' is not installed, so not removed\n",
            "Package 'cuda-nvvp-12-3' is not installed, so not removed\n",
            "Package 'cuda-opencl-12-3' is not installed, so not removed\n",
            "Package 'cuda-opencl-dev-12-3' is not installed, so not removed\n",
            "Package 'cuda-profiler-api-12-3' is not installed, so not removed\n",
            "Package 'cuda-sanitizer-12-3' is not installed, so not removed\n",
            "Package 'cuda-toolkit-12-3-config-common' is not installed, so not removed\n",
            "Package 'nvidia-compute-utils-430' is not installed, so not removed\n",
            "Package 'nvidia-dkms-430' is not installed, so not removed\n",
            "Package 'nvidia-driver-430' is not installed, so not removed\n",
            "Package 'nvidia-fabricmanager-545' is not installed, so not removed\n",
            "Package 'nvidia-fabricmanager-dev-545' is not installed, so not removed\n",
            "Package 'nvidia-headless-430' is not installed, so not removed\n",
            "Package 'nvidia-headless-no-dkms-430' is not installed, so not removed\n",
            "Package 'nvidia-kernel-common-430' is not installed, so not removed\n",
            "Package 'nvidia-kernel-open-545' is not installed, so not removed\n",
            "Package 'nvidia-kernel-source-430' is not installed, so not removed\n",
            "Package 'nvidia-utils-430' is not installed, so not removed\n",
            "Package 'cuda-12-3' is not installed, so not removed\n",
            "Package 'cuda-command-line-tools-12-3' is not installed, so not removed\n",
            "Package 'cuda-compiler-12-3' is not installed, so not removed\n",
            "Package 'cuda-crt-12-3' is not installed, so not removed\n",
            "Package 'cuda-libraries-12-3' is not installed, so not removed\n",
            "Package 'cuda-libraries-dev-12-3' is not installed, so not removed\n",
            "Package 'cuda-minimal-build-12-3' is not installed, so not removed\n",
            "Package 'cuda-nsight-compute-12-3' is not installed, so not removed\n",
            "Package 'cuda-nsight-systems-12-3' is not installed, so not removed\n",
            "Package 'cuda-nvcc-12-3' is not installed, so not removed\n",
            "Package 'cuda-nvrtc-12-3' is not installed, so not removed\n",
            "Package 'cuda-nvrtc-dev-12-3' is not installed, so not removed\n",
            "Package 'cuda-nvvm-12-3' is not installed, so not removed\n",
            "Package 'cuda-runtime-12-3' is not installed, so not removed\n",
            "Package 'cuda-toolkit-12-3' is not installed, so not removed\n",
            "Package 'cuda-tools-12-3' is not installed, so not removed\n",
            "Package 'cuda-visual-tools-12-3' is not installed, so not removed\n",
            "Package 'nvidia-gds-12-3' is not installed, so not removed\n",
            "Package 'nvidia-firmware-550-550.54.14' is not installed, so not removed\n",
            "Package 'nvidia-firmware-550-550.54.15' is not installed, so not removed\n",
            "Package 'cuda-12-4' is not installed, so not removed\n",
            "Package 'cuda-cccl-12-4' is not installed, so not removed\n",
            "Package 'cuda-command-line-tools-12-4' is not installed, so not removed\n",
            "Package 'cuda-compiler-12-4' is not installed, so not removed\n",
            "Package 'cuda-crt-12-4' is not installed, so not removed\n",
            "Package 'cuda-cudart-12-4' is not installed, so not removed\n",
            "Package 'cuda-cudart-dev-12-4' is not installed, so not removed\n",
            "Package 'cuda-cuobjdump-12-4' is not installed, so not removed\n",
            "Package 'cuda-cupti-12-4' is not installed, so not removed\n",
            "Package 'cuda-cupti-dev-12-4' is not installed, so not removed\n",
            "Package 'cuda-cuxxfilt-12-4' is not installed, so not removed\n",
            "Package 'cuda-demo-suite-12-4' is not installed, so not removed\n",
            "Package 'cuda-documentation-12-4' is not installed, so not removed\n",
            "Package 'cuda-driver-dev-12-4' is not installed, so not removed\n",
            "Package 'cuda-gdb-12-4' is not installed, so not removed\n",
            "Package 'cuda-gdb-src-12-4' is not installed, so not removed\n",
            "Package 'cuda-libraries-12-4' is not installed, so not removed\n",
            "Package 'cuda-libraries-dev-12-4' is not installed, so not removed\n",
            "Package 'cuda-minimal-build-12-4' is not installed, so not removed\n",
            "Package 'cuda-nsight-12-4' is not installed, so not removed\n",
            "Package 'cuda-nsight-compute-12-4' is not installed, so not removed\n",
            "Package 'cuda-nsight-systems-12-4' is not installed, so not removed\n",
            "Package 'cuda-nvcc-12-4' is not installed, so not removed\n",
            "Package 'cuda-nvdisasm-12-4' is not installed, so not removed\n",
            "Package 'cuda-nvml-dev-12-4' is not installed, so not removed\n",
            "Package 'cuda-nvprof-12-4' is not installed, so not removed\n",
            "Package 'cuda-nvprune-12-4' is not installed, so not removed\n",
            "Package 'cuda-nvrtc-12-4' is not installed, so not removed\n",
            "Package 'cuda-nvrtc-dev-12-4' is not installed, so not removed\n",
            "Package 'cuda-nvtx-12-4' is not installed, so not removed\n",
            "Package 'cuda-nvvm-12-4' is not installed, so not removed\n",
            "Package 'cuda-nvvp-12-4' is not installed, so not removed\n",
            "Package 'cuda-opencl-12-4' is not installed, so not removed\n",
            "Package 'cuda-opencl-dev-12-4' is not installed, so not removed\n",
            "Package 'cuda-profiler-api-12-4' is not installed, so not removed\n",
            "Package 'cuda-runtime-12-4' is not installed, so not removed\n",
            "Package 'cuda-sanitizer-12-4' is not installed, so not removed\n",
            "Package 'cuda-toolkit-12-4' is not installed, so not removed\n",
            "Package 'cuda-toolkit-12-4-config-common' is not installed, so not removed\n",
            "Package 'cuda-tools-12-4' is not installed, so not removed\n",
            "Package 'cuda-visual-tools-12-4' is not installed, so not removed\n",
            "Package 'nvidia-gds-12-4' is not installed, so not removed\n",
            "Package 'nvidia-firmware-555-555.42.02' is not installed, so not removed\n",
            "Package 'nvidia-firmware-550-550.90.07' is not installed, so not removed\n",
            "Package 'cuda-12-5' is not installed, so not removed\n",
            "Package 'cuda-demo-suite-12-5' is not installed, so not removed\n",
            "Package 'cuda-documentation-12-5' is not installed, so not removed\n",
            "Package 'cuda-drivers-555' is not installed, so not removed\n",
            "Package 'cuda-drivers-fabricmanager-555' is not installed, so not removed\n",
            "Package 'cuda-gdb-src-12-5' is not installed, so not removed\n",
            "Package 'cuda-nsight-12-5' is not installed, so not removed\n",
            "Package 'cuda-nsight-systems-12-5' is not installed, so not removed\n",
            "Package 'cuda-nvvp-12-5' is not installed, so not removed\n",
            "Package 'cuda-runtime-12-5' is not installed, so not removed\n",
            "Package 'cuda-toolkit-12-5' is not installed, so not removed\n",
            "Package 'cuda-tools-12-5' is not installed, so not removed\n",
            "Package 'cuda-visual-tools-12-5' is not installed, so not removed\n",
            "Package 'nvidia-compute-utils-555' is not installed, so not removed\n",
            "Package 'nvidia-dkms-555' is not installed, so not removed\n",
            "Package 'nvidia-dkms-555-open' is not installed, so not removed\n",
            "Package 'nvidia-driver-555' is not installed, so not removed\n",
            "Package 'nvidia-driver-555-open' is not installed, so not removed\n",
            "Package 'nvidia-fabricmanager-555' is not installed, so not removed\n",
            "Package 'nvidia-fabricmanager-dev-555' is not installed, so not removed\n",
            "Package 'nvidia-firmware-555-555.42.06' is not installed, so not removed\n",
            "Package 'nvidia-gds-12-5' is not installed, so not removed\n",
            "Package 'nvidia-headless-555' is not installed, so not removed\n",
            "Package 'nvidia-headless-555-open' is not installed, so not removed\n",
            "Package 'nvidia-headless-no-dkms-555' is not installed, so not removed\n",
            "Package 'nvidia-headless-no-dkms-555-open' is not installed, so not removed\n",
            "Package 'nvidia-kernel-common-555' is not installed, so not removed\n",
            "Package 'nvidia-kernel-open-555' is not installed, so not removed\n",
            "Package 'nvidia-kernel-source-555' is not installed, so not removed\n",
            "Package 'nvidia-kernel-source-555-open' is not installed, so not removed\n",
            "Package 'nvidia-utils-555' is not installed, so not removed\n",
            "Package 'nvidia-firmware-560-560.28.03' is not installed, so not removed\n",
            "Package 'nvidia-compute-utils-530' is not installed, so not removed\n",
            "Package 'nvidia-dkms-530' is not installed, so not removed\n",
            "Package 'nvidia-dkms-530-open' is not installed, so not removed\n",
            "Package 'nvidia-driver-530' is not installed, so not removed\n",
            "Package 'nvidia-driver-530-open' is not installed, so not removed\n",
            "Package 'nvidia-firmware-560-560.35.03' is not installed, so not removed\n",
            "Package 'nvidia-headless-530' is not installed, so not removed\n",
            "Package 'nvidia-headless-530-open' is not installed, so not removed\n",
            "Package 'nvidia-headless-no-dkms-530' is not installed, so not removed\n",
            "Package 'nvidia-headless-no-dkms-530-open' is not installed, so not removed\n",
            "Package 'nvidia-kernel-common-530' is not installed, so not removed\n",
            "Package 'nvidia-kernel-source-530' is not installed, so not removed\n",
            "Package 'nvidia-kernel-source-530-open' is not installed, so not removed\n",
            "Package 'nvidia-utils-530' is not installed, so not removed\n",
            "Package 'nvidia-firmware-550-550.90.12' is not installed, so not removed\n",
            "Package 'cuda-cccl-12-6' is not installed, so not removed\n",
            "Package 'cuda-cudart-12-6' is not installed, so not removed\n",
            "Package 'cuda-cudart-dev-12-6' is not installed, so not removed\n",
            "Package 'cuda-cuobjdump-12-6' is not installed, so not removed\n",
            "Package 'cuda-cupti-12-6' is not installed, so not removed\n",
            "Package 'cuda-cupti-dev-12-6' is not installed, so not removed\n",
            "Package 'cuda-cuxxfilt-12-6' is not installed, so not removed\n",
            "Package 'cuda-demo-suite-12-6' is not installed, so not removed\n",
            "Package 'cuda-documentation-12-6' is not installed, so not removed\n",
            "Package 'cuda-driver-dev-12-6' is not installed, so not removed\n",
            "Package 'cuda-gdb-12-6' is not installed, so not removed\n",
            "Package 'cuda-gdb-src-12-6' is not installed, so not removed\n",
            "Package 'cuda-nsight-12-6' is not installed, so not removed\n",
            "Package 'cuda-nvdisasm-12-6' is not installed, so not removed\n",
            "Package 'cuda-nvml-dev-12-6' is not installed, so not removed\n",
            "Package 'cuda-nvprof-12-6' is not installed, so not removed\n",
            "Package 'cuda-nvprune-12-6' is not installed, so not removed\n",
            "Package 'cuda-nvtx-12-6' is not installed, so not removed\n",
            "Package 'cuda-nvvp-12-6' is not installed, so not removed\n",
            "Package 'cuda-opencl-12-6' is not installed, so not removed\n",
            "Package 'cuda-opencl-dev-12-6' is not installed, so not removed\n",
            "Package 'cuda-profiler-api-12-6' is not installed, so not removed\n",
            "Package 'cuda-sanitizer-12-6' is not installed, so not removed\n",
            "Package 'cuda-toolkit-12-6-config-common' is not installed, so not removed\n",
            "Package 'nvidia-firmware-550-550.127.05' is not installed, so not removed\n",
            "Package 'cuda-compat-12-7' is not installed, so not removed\n",
            "Package 'cuda-drivers-565' is not installed, so not removed\n",
            "Package 'cuda-drivers-fabricmanager-565' is not installed, so not removed\n",
            "Package 'nvidia-fabricmanager-565' is not installed, so not removed\n",
            "Package 'nvidia-fabricmanager-dev-565' is not installed, so not removed\n",
            "Package 'nvidia-firmware-565-565.57.01' is not installed, so not removed\n",
            "Package 'nvidia-imex-565' is not installed, so not removed\n",
            "Package 'nvidia-kernel-open-565' is not installed, so not removed\n",
            "Package 'nvidia-open-565' is not installed, so not removed\n",
            "Package 'nvidia-firmware-550-550.127.08' is not installed, so not removed\n",
            "Package 'cuda-12-6' is not installed, so not removed\n",
            "Package 'cuda-command-line-tools-12-6' is not installed, so not removed\n",
            "Package 'cuda-compat-12-6' is not installed, so not removed\n",
            "Package 'cuda-compiler-12-6' is not installed, so not removed\n",
            "Package 'cuda-crt-12-6' is not installed, so not removed\n",
            "Package 'cuda-drivers-560' is not installed, so not removed\n",
            "Package 'cuda-drivers-fabricmanager-560' is not installed, so not removed\n",
            "Package 'cuda-libraries-12-6' is not installed, so not removed\n",
            "Package 'cuda-libraries-dev-12-6' is not installed, so not removed\n",
            "Package 'cuda-minimal-build-12-6' is not installed, so not removed\n",
            "Package 'cuda-nsight-compute-12-6' is not installed, so not removed\n",
            "Package 'cuda-nsight-systems-12-6' is not installed, so not removed\n",
            "Package 'cuda-nvcc-12-6' is not installed, so not removed\n",
            "Package 'cuda-nvrtc-12-6' is not installed, so not removed\n",
            "Package 'cuda-nvrtc-dev-12-6' is not installed, so not removed\n",
            "Package 'cuda-nvvm-12-6' is not installed, so not removed\n",
            "Package 'cuda-runtime-12-6' is not installed, so not removed\n",
            "Package 'cuda-toolkit-12-6' is not installed, so not removed\n",
            "Package 'cuda-tools-12-6' is not installed, so not removed\n",
            "Package 'cuda-visual-tools-12-6' is not installed, so not removed\n",
            "Package 'nvidia-compute-utils-560' is not installed, so not removed\n",
            "Package 'nvidia-dkms-560' is not installed, so not removed\n",
            "Package 'nvidia-dkms-560-open' is not installed, so not removed\n",
            "Package 'nvidia-driver-560' is not installed, so not removed\n",
            "Package 'nvidia-driver-560-open' is not installed, so not removed\n",
            "Package 'nvidia-fabricmanager-560' is not installed, so not removed\n",
            "Package 'nvidia-fabricmanager-dev-560' is not installed, so not removed\n",
            "Package 'nvidia-firmware-560-560.35.05' is not installed, so not removed\n",
            "Package 'nvidia-gds-12-6' is not installed, so not removed\n",
            "Package 'nvidia-headless-560' is not installed, so not removed\n",
            "Package 'nvidia-headless-560-open' is not installed, so not removed\n",
            "Package 'nvidia-headless-no-dkms-560' is not installed, so not removed\n",
            "Package 'nvidia-headless-no-dkms-560-open' is not installed, so not removed\n",
            "Package 'nvidia-imex-560' is not installed, so not removed\n",
            "Package 'nvidia-kernel-common-560' is not installed, so not removed\n",
            "Package 'nvidia-kernel-open-560' is not installed, so not removed\n",
            "Package 'nvidia-kernel-source-560' is not installed, so not removed\n",
            "Package 'nvidia-kernel-source-560-open' is not installed, so not removed\n",
            "Package 'nvidia-open-560' is not installed, so not removed\n",
            "Package 'nvidia-utils-560' is not installed, so not removed\n",
            "Package 'nvidia-firmware-550-550.144.03' is not installed, so not removed\n",
            "Package 'nvidia-firmware-570-570.86.10' is not installed, so not removed\n",
            "Package 'nvidia-firmware-570-570.86.15' is not installed, so not removed\n",
            "Package 'nvidia-firmware-570-570.124.06' is not installed, so not removed\n",
            "Package 'cuda-12-8' is not installed, so not removed\n",
            "Package 'cuda-cccl-12-8' is not installed, so not removed\n",
            "Package 'cuda-command-line-tools-12-8' is not installed, so not removed\n",
            "Package 'cuda-compiler-12-8' is not installed, so not removed\n",
            "Package 'cuda-crt-12-8' is not installed, so not removed\n",
            "Package 'cuda-cudart-12-8' is not installed, so not removed\n",
            "Package 'cuda-cudart-dev-12-8' is not installed, so not removed\n",
            "Package 'cuda-cuobjdump-12-8' is not installed, so not removed\n",
            "Package 'cuda-cupti-12-8' is not installed, so not removed\n",
            "Package 'cuda-cupti-dev-12-8' is not installed, so not removed\n",
            "Package 'cuda-cuxxfilt-12-8' is not installed, so not removed\n",
            "Package 'cuda-demo-suite-12-8' is not installed, so not removed\n",
            "Package 'cuda-documentation-12-8' is not installed, so not removed\n",
            "Package 'cuda-driver-dev-12-8' is not installed, so not removed\n",
            "Package 'cuda-gdb-12-8' is not installed, so not removed\n",
            "Package 'cuda-gdb-src-12-8' is not installed, so not removed\n",
            "Package 'cuda-libraries-12-8' is not installed, so not removed\n",
            "Package 'cuda-libraries-dev-12-8' is not installed, so not removed\n",
            "Package 'cuda-minimal-build-12-8' is not installed, so not removed\n",
            "Package 'cuda-nsight-12-8' is not installed, so not removed\n",
            "Package 'cuda-nsight-compute-12-8' is not installed, so not removed\n",
            "Package 'cuda-nsight-systems-12-8' is not installed, so not removed\n",
            "Package 'cuda-nvcc-12-8' is not installed, so not removed\n",
            "Package 'cuda-nvdisasm-12-8' is not installed, so not removed\n",
            "Package 'cuda-nvml-dev-12-8' is not installed, so not removed\n",
            "Package 'cuda-nvprof-12-8' is not installed, so not removed\n",
            "Package 'cuda-nvprune-12-8' is not installed, so not removed\n",
            "Package 'cuda-nvrtc-12-8' is not installed, so not removed\n",
            "Package 'cuda-nvrtc-dev-12-8' is not installed, so not removed\n",
            "Package 'cuda-nvtx-12-8' is not installed, so not removed\n",
            "Package 'cuda-nvvm-12-8' is not installed, so not removed\n",
            "Package 'cuda-nvvp-12-8' is not installed, so not removed\n",
            "Package 'cuda-opencl-12-8' is not installed, so not removed\n",
            "Package 'cuda-opencl-dev-12-8' is not installed, so not removed\n",
            "Package 'cuda-profiler-api-12-8' is not installed, so not removed\n",
            "Package 'cuda-runtime-12-8' is not installed, so not removed\n",
            "Package 'cuda-sandbox-dev-12-8' is not installed, so not removed\n",
            "Package 'cuda-sanitizer-12-8' is not installed, so not removed\n",
            "Package 'cuda-toolkit-12-8' is not installed, so not removed\n",
            "Package 'cuda-toolkit-12-8-config-common' is not installed, so not removed\n",
            "Package 'cuda-tools-12-8' is not installed, so not removed\n",
            "Package 'cuda-visual-tools-12-8' is not installed, so not removed\n",
            "Package 'nvidia-gds-12-8' is not installed, so not removed\n",
            "Package 'nvidia-hpc-benchmarks-mpich' is not installed, so not removed\n",
            "Package 'nvidia-hpc-benchmarks-openmpi' is not installed, so not removed\n",
            "Package 'cuda-compat-12-4' is not installed, so not removed\n",
            "Package 'cuda-drivers-550' is not installed, so not removed\n",
            "Package 'cuda-drivers-fabricmanager-550' is not installed, so not removed\n",
            "Package 'nvidia-compute-utils-550' is not installed, so not removed\n",
            "Package 'nvidia-dkms-550' is not installed, so not removed\n",
            "Package 'nvidia-dkms-550-open' is not installed, so not removed\n",
            "Package 'nvidia-driver-550' is not installed, so not removed\n",
            "Package 'nvidia-driver-550-open' is not installed, so not removed\n",
            "Package 'nvidia-fabricmanager-550' is not installed, so not removed\n",
            "Package 'nvidia-fabricmanager-dev-550' is not installed, so not removed\n",
            "Package 'nvidia-firmware-550-550.163.01' is not installed, so not removed\n",
            "Package 'nvidia-headless-550' is not installed, so not removed\n",
            "Package 'nvidia-headless-550-open' is not installed, so not removed\n",
            "Package 'nvidia-headless-no-dkms-550' is not installed, so not removed\n",
            "Package 'nvidia-headless-no-dkms-550-open' is not installed, so not removed\n",
            "Package 'nvidia-imex-550' is not installed, so not removed\n",
            "Package 'nvidia-kernel-common-550' is not installed, so not removed\n",
            "Package 'nvidia-kernel-open-550' is not installed, so not removed\n",
            "Package 'nvidia-kernel-source-550' is not installed, so not removed\n",
            "Package 'nvidia-kernel-source-550-open' is not installed, so not removed\n",
            "Package 'nvidia-utils-550' is not installed, so not removed\n",
            "Package 'nvidia-firmware-570-570.133.20' is not installed, so not removed\n",
            "Package 'cuda-cccl-12-9' is not installed, so not removed\n",
            "Package 'cuda-opencl-12-9' is not installed, so not removed\n",
            "Package 'cuda-opencl-dev-12-9' is not installed, so not removed\n",
            "Package 'cuda-sandbox-dev-12-9' is not installed, so not removed\n",
            "Package 'nvidia-firmware-575-575.51.03' is not installed, so not removed\n",
            "Package 'nvidia-kernel-open-575' is not installed, so not removed\n",
            "Package 'nvidia-kernel-open-570' is not installed, so not removed\n",
            "Package 'nvidia-container-toolkit' is not installed, so not removed\n",
            "Package 'nvidia-container-toolkit-base' is not installed, so not removed\n",
            "Package 'cuda-compat-12-8' is not installed, so not removed\n",
            "Package 'cuda-drivers-575' is not installed, so not removed\n",
            "Package 'cuda-drivers-fabricmanager' is not installed, so not removed\n",
            "Package 'cuda-drivers-fabricmanager-575' is not installed, so not removed\n",
            "Package 'nvidia-fabricmanager-575' is not installed, so not removed\n",
            "Package 'nvidia-fabricmanager-dev-575' is not installed, so not removed\n",
            "Package 'nvidia-imex-575' is not installed, so not removed\n",
            "Package 'nvidia-open-575' is not installed, so not removed\n",
            "Package 'cuda-12-9' is not installed, so not removed\n",
            "Package 'cuda-command-line-tools-12-9' is not installed, so not removed\n",
            "Package 'cuda-compat-12-9' is not installed, so not removed\n",
            "Package 'cuda-compiler-12-9' is not installed, so not removed\n",
            "Package 'cuda-crt-12-9' is not installed, so not removed\n",
            "Package 'cuda-cudart-12-9' is not installed, so not removed\n",
            "Package 'cuda-cudart-dev-12-9' is not installed, so not removed\n",
            "Package 'cuda-cuobjdump-12-9' is not installed, so not removed\n",
            "Package 'cuda-cupti-12-9' is not installed, so not removed\n",
            "Package 'cuda-cupti-dev-12-9' is not installed, so not removed\n",
            "Package 'cuda-cuxxfilt-12-9' is not installed, so not removed\n",
            "Package 'cuda-demo-suite-12-9' is not installed, so not removed\n",
            "Package 'cuda-documentation-12-9' is not installed, so not removed\n",
            "Package 'cuda-driver-dev-12-9' is not installed, so not removed\n",
            "Package 'cuda-gdb-12-9' is not installed, so not removed\n",
            "Package 'cuda-gdb-src-12-9' is not installed, so not removed\n",
            "Package 'cuda-libraries-12-9' is not installed, so not removed\n",
            "Package 'cuda-libraries-dev-12-9' is not installed, so not removed\n",
            "Package 'cuda-minimal-build-12-9' is not installed, so not removed\n",
            "Package 'cuda-nsight-12-9' is not installed, so not removed\n",
            "Package 'cuda-nsight-compute-12-9' is not installed, so not removed\n",
            "Package 'cuda-nsight-systems-12-9' is not installed, so not removed\n",
            "Package 'cuda-nvcc-12-9' is not installed, so not removed\n",
            "Package 'cuda-nvdisasm-12-9' is not installed, so not removed\n",
            "Package 'cuda-nvml-dev-12-9' is not installed, so not removed\n",
            "Package 'cuda-nvprof-12-9' is not installed, so not removed\n",
            "Package 'cuda-nvprune-12-9' is not installed, so not removed\n",
            "Package 'cuda-nvrtc-12-9' is not installed, so not removed\n",
            "Package 'cuda-nvrtc-dev-12-9' is not installed, so not removed\n",
            "Package 'cuda-nvtx-12-9' is not installed, so not removed\n",
            "Package 'cuda-nvvm-12-9' is not installed, so not removed\n",
            "Package 'cuda-nvvp-12-9' is not installed, so not removed\n",
            "Package 'cuda-profiler-api-12-9' is not installed, so not removed\n",
            "Package 'cuda-runtime-12-9' is not installed, so not removed\n",
            "Package 'cuda-sanitizer-12-9' is not installed, so not removed\n",
            "Package 'cuda-toolkit-12' is not installed, so not removed\n",
            "Package 'cuda-toolkit-12-9' is not installed, so not removed\n",
            "Package 'cuda-toolkit-12-9-config-common' is not installed, so not removed\n",
            "Package 'cuda-tools-12-9' is not installed, so not removed\n",
            "Package 'cuda-visual-tools-12-9' is not installed, so not removed\n",
            "Package 'nvidia-gds-12-9' is not installed, so not removed\n",
            "Package 'nvidia-firmware-575' is not installed, so not removed\n",
            "Package 'cuda-compat-12-2' is not installed, so not removed\n",
            "Package 'cuda-drivers-535' is not installed, so not removed\n",
            "Package 'cuda-drivers-570' is not installed, so not removed\n",
            "Package 'cuda-drivers-fabricmanager-535' is not installed, so not removed\n",
            "Package 'cuda-drivers-fabricmanager-570' is not installed, so not removed\n",
            "Package 'nvidia-compute-utils-535' is not installed, so not removed\n",
            "Package 'nvidia-dkms-535' is not installed, so not removed\n",
            "Package 'nvidia-driver-535' is not installed, so not removed\n",
            "Package 'nvidia-fabricmanager-535' is not installed, so not removed\n",
            "Package 'nvidia-fabricmanager-570' is not installed, so not removed\n",
            "Package 'nvidia-fabricmanager-dev-535' is not installed, so not removed\n",
            "Package 'nvidia-fabricmanager-dev-570' is not installed, so not removed\n",
            "Package 'nvidia-firmware-570' is not installed, so not removed\n",
            "Package 'nvidia-headless-535' is not installed, so not removed\n",
            "Package 'nvidia-headless-no-dkms-535' is not installed, so not removed\n",
            "Package 'nvidia-imex-570' is not installed, so not removed\n",
            "Package 'nvidia-kernel-common-535' is not installed, so not removed\n",
            "Package 'nvidia-kernel-open-535' is not installed, so not removed\n",
            "Package 'nvidia-kernel-source-535' is not installed, so not removed\n",
            "Package 'nvidia-open-570' is not installed, so not removed\n",
            "Package 'nvidia-utils-535' is not installed, so not removed\n",
            "Package 'cuda' is not installed, so not removed\n",
            "Package 'cuda-13-0' is not installed, so not removed\n",
            "Package 'cuda-cccl-13-0' is not installed, so not removed\n",
            "Package 'cuda-command-line-tools-13-0' is not installed, so not removed\n",
            "Package 'cuda-compiler-13-0' is not installed, so not removed\n",
            "Package 'cuda-crt-13-0' is not installed, so not removed\n",
            "Package 'cuda-ctadvisor-13-0' is not installed, so not removed\n",
            "Package 'cuda-cudart-13-0' is not installed, so not removed\n",
            "Package 'cuda-cudart-dev-13-0' is not installed, so not removed\n",
            "Package 'cuda-culibos-13-0' is not installed, so not removed\n",
            "Package 'cuda-culibos-cross-amd64-13-0' is not installed, so not removed\n",
            "Package 'cuda-culibos-dev-13-0' is not installed, so not removed\n",
            "Package 'cuda-cuobjdump-13-0' is not installed, so not removed\n",
            "Package 'cuda-cupti-13-0' is not installed, so not removed\n",
            "Package 'cuda-cupti-dev-13-0' is not installed, so not removed\n",
            "Package 'cuda-cuxxfilt-13-0' is not installed, so not removed\n",
            "Package 'cuda-documentation-13-0' is not installed, so not removed\n",
            "Package 'cuda-driver-dev-13-0' is not installed, so not removed\n",
            "Package 'cuda-gdb-13-0' is not installed, so not removed\n",
            "Package 'cuda-gdb-src-13-0' is not installed, so not removed\n",
            "Package 'cuda-libraries-13-0' is not installed, so not removed\n",
            "Package 'cuda-libraries-dev-13-0' is not installed, so not removed\n",
            "Package 'cuda-minimal-build-13-0' is not installed, so not removed\n",
            "Package 'cuda-nsight-13-0' is not installed, so not removed\n",
            "Package 'cuda-nsight-compute-13-0' is not installed, so not removed\n",
            "Package 'cuda-nsight-systems-13-0' is not installed, so not removed\n",
            "Package 'cuda-nvcc-13-0' is not installed, so not removed\n",
            "Package 'cuda-nvdisasm-13-0' is not installed, so not removed\n",
            "Package 'cuda-nvml-dev-13-0' is not installed, so not removed\n",
            "Package 'cuda-nvprune-13-0' is not installed, so not removed\n",
            "Package 'cuda-nvrtc-13-0' is not installed, so not removed\n",
            "Package 'cuda-nvrtc-dev-13-0' is not installed, so not removed\n",
            "Package 'cuda-nvtx-13-0' is not installed, so not removed\n",
            "Package 'cuda-opencl-13-0' is not installed, so not removed\n",
            "Package 'cuda-opencl-dev-13-0' is not installed, so not removed\n",
            "Package 'cuda-profiler-api-13-0' is not installed, so not removed\n",
            "Package 'cuda-runtime-13-0' is not installed, so not removed\n",
            "Package 'cuda-sandbox-dev-13-0' is not installed, so not removed\n",
            "Package 'cuda-sanitizer-13-0' is not installed, so not removed\n",
            "Package 'cuda-toolkit' is not installed, so not removed\n",
            "Package 'cuda-toolkit-13-0' is not installed, so not removed\n",
            "Package 'cuda-toolkit-13-0-config-common' is not installed, so not removed\n",
            "Package 'cuda-toolkit-13' is not installed, so not removed\n",
            "Package 'cuda-toolkit-13-config-common' is not installed, so not removed\n",
            "Package 'cuda-tools-13-0' is not installed, so not removed\n",
            "Package 'cuda-visual-tools-13-0' is not installed, so not removed\n",
            "Package 'nvidia-fs' is not installed, so not removed\n",
            "Package 'nvidia-fs-dkms' is not installed, so not removed\n",
            "Package 'nvidia-gds' is not installed, so not removed\n",
            "Package 'nvidia-gds-13-0' is not installed, so not removed\n",
            "Package 'cuda-compat-13-0' is not installed, so not removed\n",
            "Package 'cuda-drivers-580' is not installed, so not removed\n",
            "Package 'cuda-drivers' is not installed, so not removed\n",
            "Package 'nvidia-compute-utils-580' is not installed, so not removed\n",
            "Package 'nvidia-dkms-580' is not installed, so not removed\n",
            "Package 'nvidia-dkms-580-open' is not installed, so not removed\n",
            "Package 'nvidia-driver-580' is not installed, so not removed\n",
            "Package 'nvidia-driver-580-open' is not installed, so not removed\n",
            "Package 'nvidia-driver-assistant' is not installed, so not removed\n",
            "Package 'nvidia-fabricmanager' is not installed, so not removed\n",
            "Package 'nvidia-fabricmanager-dev' is not installed, so not removed\n",
            "Package 'nvidia-firmware-580' is not installed, so not removed\n",
            "Package 'nvidia-headless-580' is not installed, so not removed\n",
            "Package 'nvidia-headless-580-open' is not installed, so not removed\n",
            "Package 'nvidia-headless-no-dkms-580' is not installed, so not removed\n",
            "Package 'nvidia-headless-no-dkms-580-open' is not installed, so not removed\n",
            "Package 'nvidia-imex' is not installed, so not removed\n",
            "Package 'nvidia-kernel-common-580' is not installed, so not removed\n",
            "Package 'nvidia-kernel-source-580' is not installed, so not removed\n",
            "Package 'nvidia-kernel-source-580-open' is not installed, so not removed\n",
            "Package 'nvidia-modprobe' is not installed, so not removed\n",
            "Package 'nvidia-open-580' is not installed, so not removed\n",
            "Package 'nvidia-open' is not installed, so not removed\n",
            "Package 'nvidia-persistenced' is not installed, so not removed\n",
            "Package 'nvidia-settings' is not installed, so not removed\n",
            "Package 'nvidia-utils-580' is not installed, so not removed\n",
            "Package 'nvidia-xconfig' is not installed, so not removed\n",
            "Package 'nvidia-compute-utils-565' is not installed, so not removed\n",
            "Package 'nvidia-compute-utils-570' is not installed, so not removed\n",
            "Package 'nvidia-dkms-565' is not installed, so not removed\n",
            "Package 'nvidia-dkms-565-open' is not installed, so not removed\n",
            "Package 'nvidia-dkms-570' is not installed, so not removed\n",
            "Package 'nvidia-dkms-570-open' is not installed, so not removed\n",
            "Package 'nvidia-driver-565' is not installed, so not removed\n",
            "Package 'nvidia-driver-565-open' is not installed, so not removed\n",
            "Package 'nvidia-driver-570' is not installed, so not removed\n",
            "Package 'nvidia-driver-570-open' is not installed, so not removed\n",
            "Package 'nvidia-firmware-565-565.77' is not installed, so not removed\n",
            "Package 'nvidia-firmware-570-570.181' is not installed, so not removed\n",
            "Package 'nvidia-firmware-580-580.65.06' is not installed, so not removed\n",
            "Package 'nvidia-firmware-580-580.76.05' is not installed, so not removed\n",
            "Package 'nvidia-headless-565' is not installed, so not removed\n",
            "Package 'nvidia-headless-565-open' is not installed, so not removed\n",
            "Package 'nvidia-headless-570' is not installed, so not removed\n",
            "Package 'nvidia-headless-570-open' is not installed, so not removed\n",
            "Package 'nvidia-headless-no-dkms-565' is not installed, so not removed\n",
            "Package 'nvidia-headless-no-dkms-565-open' is not installed, so not removed\n",
            "Package 'nvidia-headless-no-dkms-570' is not installed, so not removed\n",
            "Package 'nvidia-headless-no-dkms-570-open' is not installed, so not removed\n",
            "Package 'nvidia-kernel-common-565' is not installed, so not removed\n",
            "Package 'nvidia-kernel-common-570' is not installed, so not removed\n",
            "Package 'nvidia-kernel-source-565' is not installed, so not removed\n",
            "Package 'nvidia-kernel-source-565-open' is not installed, so not removed\n",
            "Package 'nvidia-kernel-source-570' is not installed, so not removed\n",
            "Package 'nvidia-kernel-source-570-open' is not installed, so not removed\n",
            "Package 'nvidia-utils-565' is not installed, so not removed\n",
            "Package 'nvidia-utils-570' is not installed, so not removed\n",
            "Some packages could not be installed. This may mean that you have\n",
            "requested an impossible situation or if you are using the unstable\n",
            "distribution that some required packages have not yet been created\n",
            "or been moved out of Incoming.\n",
            "The following information may help to resolve the situation:\n",
            "\n",
            "The following packages have unmet dependencies:\n",
            " libcublas-12-5 : Depends: cuda-toolkit-config-common but it is not going to be installed or\n",
            "                           cuda-cudart-11-2 but it is not installable\n",
            "                  Depends: cuda-toolkit-12-config-common but it is not going to be installed or\n",
            "                           cuda-cudart-11-2 but it is not installable\n",
            "                  Depends: cuda-toolkit-12-5-config-common but it is not going to be installed\n",
            "E: Error, pkgProblemResolver::Resolve generated breaks, this may be caused by held packages.\n",
            "No conflicting CUDA packages\n",
            "Reading package lists... Done\n",
            "Building dependency tree... Done\n",
            "Reading state information... Done\n",
            "0 upgraded, 0 newly installed, 0 to remove and 35 not upgraded.\n"
          ]
        }
      ],
      "source": [
        "#Fix Potential Library Conflicts\n",
        "!apt-get remove --purge -y cuda* libcuda* nvidia* || echo \"No conflicting CUDA packages\"\n",
        "!apt-get autoremove -y\n",
        "!apt-get clean"
      ]
    },
    {
      "cell_type": "code",
      "execution_count": 2,
      "metadata": {
        "id": "BdBgVFvnC-ht",
        "colab": {
          "base_uri": "https://localhost:8080/",
          "height": 367
        },
        "outputId": "bb198a29-860b-471c-a52a-cadbc1330b26"
      },
      "outputs": [
        {
          "output_type": "stream",
          "name": "stdout",
          "text": [
            "Found existing installation: protobuf 5.29.5\n",
            "Uninstalling protobuf-5.29.5:\n",
            "  Successfully uninstalled protobuf-5.29.5\n",
            "Collecting protobuf==3.20.3\n",
            "  Downloading protobuf-3.20.3-py2.py3-none-any.whl.metadata (720 bytes)\n",
            "Downloading protobuf-3.20.3-py2.py3-none-any.whl (162 kB)\n",
            "\u001b[2K   \u001b[90m━━━━━━━━━━━━━━━━━━━━━━━━━━━━━━━━━━━━━━━━\u001b[0m \u001b[32m162.1/162.1 kB\u001b[0m \u001b[31m3.1 MB/s\u001b[0m eta \u001b[36m0:00:00\u001b[0m\n",
            "\u001b[?25hInstalling collected packages: protobuf\n",
            "\u001b[31mERROR: pip's dependency resolver does not currently take into account all the packages that are installed. This behaviour is the source of the following dependency conflicts.\n",
            "grpcio-status 1.71.2 requires protobuf<6.0dev,>=5.26.1, but you have protobuf 3.20.3 which is incompatible.\n",
            "ydf 0.13.0 requires protobuf<7.0.0,>=5.29.1, but you have protobuf 3.20.3 which is incompatible.\n",
            "tensorflow-metadata 1.17.2 requires protobuf>=4.25.2; python_version >= \"3.11\", but you have protobuf 3.20.3 which is incompatible.\u001b[0m\u001b[31m\n",
            "\u001b[0mSuccessfully installed protobuf-3.20.3\n"
          ]
        },
        {
          "output_type": "display_data",
          "data": {
            "application/vnd.colab-display-data+json": {
              "pip_warning": {
                "packages": [
                  "google"
                ]
              },
              "id": "13484204b464480b8999889e7ed8ca23"
            }
          },
          "metadata": {}
        }
      ],
      "source": [
        "#Protocol Buffer Fix (for TensorFlow)\n",
        "!pip uninstall -y protobuf\n",
        "!pip install protobuf==3.20.3"
      ]
    },
    {
      "cell_type": "code",
      "execution_count": 3,
      "metadata": {
        "id": "DzOhpbF5DAiq",
        "colab": {
          "base_uri": "https://localhost:8080/"
        },
        "outputId": "1814eee9-d666-4993-c394-2aa8802ed11c"
      },
      "outputs": [
        {
          "output_type": "stream",
          "name": "stdout",
          "text": [
            "Get:1 https://developer.download.nvidia.com/compute/cuda/repos/ubuntu2204/x86_64  InRelease [1,581 B]\n",
            "Hit:2 https://cli.github.com/packages stable InRelease\n",
            "Get:3 https://cloud.r-project.org/bin/linux/ubuntu jammy-cran40/ InRelease [3,632 B]\n",
            "Get:4 https://r2u.stat.illinois.edu/ubuntu jammy InRelease [6,555 B]\n",
            "Get:5 https://developer.download.nvidia.com/compute/cuda/repos/ubuntu2204/x86_64  Packages [2,002 kB]\n",
            "Hit:6 https://ppa.launchpadcontent.net/deadsnakes/ppa/ubuntu jammy InRelease\n",
            "Get:7 http://security.ubuntu.com/ubuntu jammy-security InRelease [129 kB]\n",
            "Hit:8 http://archive.ubuntu.com/ubuntu jammy InRelease\n",
            "Get:9 http://archive.ubuntu.com/ubuntu jammy-updates InRelease [128 kB]\n",
            "Get:10 https://ppa.launchpadcontent.net/graphics-drivers/ppa/ubuntu jammy InRelease [24.3 kB]\n",
            "Get:11 https://cloud.r-project.org/bin/linux/ubuntu jammy-cran40/ Packages [80.4 kB]\n",
            "Get:12 http://archive.ubuntu.com/ubuntu jammy-backports InRelease [127 kB]\n",
            "Hit:13 https://ppa.launchpadcontent.net/ubuntugis/ppa/ubuntu jammy InRelease\n",
            "Get:14 https://r2u.stat.illinois.edu/ubuntu jammy/main amd64 Packages [2,789 kB]\n",
            "Get:15 https://r2u.stat.illinois.edu/ubuntu jammy/main all Packages [9,237 kB]\n",
            "Get:16 http://security.ubuntu.com/ubuntu jammy-security/universe amd64 Packages [1,272 kB]\n",
            "Get:17 http://security.ubuntu.com/ubuntu jammy-security/main amd64 Packages [3,310 kB]\n",
            "Get:18 https://ppa.launchpadcontent.net/graphics-drivers/ppa/ubuntu jammy/main amd64 Packages [43.0 kB]\n",
            "Get:19 http://archive.ubuntu.com/ubuntu jammy-updates/universe amd64 Packages [1,580 kB]\n",
            "Get:20 http://archive.ubuntu.com/ubuntu jammy-updates/main amd64 Packages [3,623 kB]\n",
            "Fetched 24.4 MB in 4s (5,721 kB/s)\n",
            "Reading package lists... Done\n",
            "W: Skipping acquire of configured file 'main/source/Sources' as repository 'https://r2u.stat.illinois.edu/ubuntu jammy InRelease' does not seem to provide it (sources.list entry misspelt?)\n",
            "Reading package lists... Done\n",
            "Building dependency tree... Done\n",
            "Reading state information... Done\n",
            "Calculating upgrade... Done\n",
            "The following packages have been kept back:\n",
            "  libcudnn9-cuda-12 libcudnn9-dev-cuda-12 libnccl-dev libnccl2\n",
            "The following packages will be upgraded:\n",
            "  base-files binutils binutils-common binutils-x86-64-linux-gnu\n",
            "  cuda-toolkit-12-config-common cuda-toolkit-config-common e2fsprogs\n",
            "  libbinutils libc-bin libcap2 libctf-nobfd0 libctf0 libext2fs2 libgnutls30\n",
            "  libldap-2.5-0 libpam-modules libpam-modules-bin libpam-runtime libpam0g\n",
            "  libperl5.34 libseccomp2 libss2 libtasn1-6 libudev1 linux-libc-dev logsave\n",
            "  openssl perl perl-base perl-modules-5.34 python3-pkg-resources r-cran-gargle\n",
            "  r-cran-googlesheets4 r-cran-ragg r-cran-roxygen2 r-cran-textshaping\n",
            "  r-cran-usethis\n",
            "37 upgraded, 0 newly installed, 0 to remove and 4 not upgraded.\n",
            "Need to get 22.7 MB of archives.\n",
            "After this operation, 390 kB of additional disk space will be used.\n",
            "Get:1 https://developer.download.nvidia.com/compute/cuda/repos/ubuntu2204/x86_64  cuda-toolkit-12-config-common 12.9.79-1 [16.6 kB]\n",
            "Get:2 https://developer.download.nvidia.com/compute/cuda/repos/ubuntu2204/x86_64  cuda-toolkit-config-common 13.0.88-1 [17.4 kB]\n",
            "Get:3 https://r2u.stat.illinois.edu/ubuntu jammy/main all r-cran-gargle all 1.6.0-1.ca2204.1 [569 kB]\n",
            "Get:4 https://r2u.stat.illinois.edu/ubuntu jammy/main all r-cran-googlesheets4 all 1.1.2-1.ca2204.1 [515 kB]\n",
            "Get:5 https://r2u.stat.illinois.edu/ubuntu jammy/main amd64 r-cran-textshaping amd64 1.0.3-1.ca2204.1 [168 kB]\n",
            "Get:6 https://r2u.stat.illinois.edu/ubuntu jammy/main amd64 r-cran-ragg amd64 1.5.0-1.ca2204.1 [558 kB]\n",
            "Get:7 https://r2u.stat.illinois.edu/ubuntu jammy/main amd64 r-cran-roxygen2 amd64 7.3.3-1.ca2204.1 [692 kB]\n",
            "Get:8 https://r2u.stat.illinois.edu/ubuntu jammy/main all r-cran-usethis all 3.2.1-1.ca2204.1 [903 kB]\n",
            "Get:9 http://archive.ubuntu.com/ubuntu jammy-updates/main amd64 base-files amd64 12ubuntu4.7 [61.9 kB]\n",
            "Get:10 https://ppa.launchpadcontent.net/ubuntugis/ppa/ubuntu jammy/main amd64 python3-pkg-resources all 68.1.2-2~jammy3 [216 kB]\n",
            "Get:11 http://archive.ubuntu.com/ubuntu jammy-updates/main amd64 libperl5.34 amd64 5.34.0-3ubuntu1.5 [4,797 kB]\n",
            "Get:12 http://archive.ubuntu.com/ubuntu jammy-updates/main amd64 perl amd64 5.34.0-3ubuntu1.5 [232 kB]\n",
            "Get:13 http://archive.ubuntu.com/ubuntu jammy-updates/main amd64 perl-base amd64 5.34.0-3ubuntu1.5 [1,761 kB]\n",
            "Get:14 http://archive.ubuntu.com/ubuntu jammy-updates/main amd64 perl-modules-5.34 all 5.34.0-3ubuntu1.5 [2,977 kB]\n",
            "Get:15 http://archive.ubuntu.com/ubuntu jammy-updates/main amd64 libc-bin amd64 2.35-0ubuntu3.10 [706 kB]\n",
            "Get:16 http://archive.ubuntu.com/ubuntu jammy-updates/main amd64 libpam0g amd64 1.4.0-11ubuntu2.6 [59.9 kB]\n",
            "Get:17 http://archive.ubuntu.com/ubuntu jammy-updates/main amd64 libpam-modules-bin amd64 1.4.0-11ubuntu2.6 [37.4 kB]\n",
            "Get:18 http://archive.ubuntu.com/ubuntu jammy-updates/main amd64 libpam-modules amd64 1.4.0-11ubuntu2.6 [282 kB]\n",
            "Get:19 http://archive.ubuntu.com/ubuntu jammy-updates/main amd64 logsave amd64 1.46.5-2ubuntu1.2 [10.1 kB]\n",
            "Get:20 http://archive.ubuntu.com/ubuntu jammy-updates/main amd64 libext2fs2 amd64 1.46.5-2ubuntu1.2 [208 kB]\n",
            "Get:21 http://archive.ubuntu.com/ubuntu jammy-updates/main amd64 e2fsprogs amd64 1.46.5-2ubuntu1.2 [590 kB]\n",
            "Get:22 http://archive.ubuntu.com/ubuntu jammy-updates/main amd64 libcap2 amd64 1:2.44-1ubuntu0.22.04.2 [18.3 kB]\n",
            "Get:23 http://archive.ubuntu.com/ubuntu jammy-updates/main amd64 libpam-runtime all 1.4.0-11ubuntu2.6 [40.2 kB]\n",
            "Get:24 http://archive.ubuntu.com/ubuntu jammy-updates/main amd64 libudev1 amd64 249.11-0ubuntu3.16 [76.7 kB]\n",
            "Get:25 http://archive.ubuntu.com/ubuntu jammy-updates/main amd64 libtasn1-6 amd64 4.18.0-4ubuntu0.1 [43.5 kB]\n",
            "Get:26 http://archive.ubuntu.com/ubuntu jammy-updates/main amd64 libgnutls30 amd64 3.7.3-4ubuntu1.7 [967 kB]\n",
            "Get:27 http://archive.ubuntu.com/ubuntu jammy-updates/main amd64 libseccomp2 amd64 2.5.3-2ubuntu3~22.04.1 [47.4 kB]\n",
            "Get:28 http://archive.ubuntu.com/ubuntu jammy-updates/main amd64 libss2 amd64 1.46.5-2ubuntu1.2 [12.3 kB]\n",
            "Get:29 http://archive.ubuntu.com/ubuntu jammy-updates/main amd64 openssl amd64 3.0.2-0ubuntu1.19 [1,186 kB]\n",
            "Get:30 http://archive.ubuntu.com/ubuntu jammy-updates/main amd64 libctf0 amd64 2.38-4ubuntu2.8 [103 kB]\n",
            "Get:31 http://archive.ubuntu.com/ubuntu jammy-updates/main amd64 libctf-nobfd0 amd64 2.38-4ubuntu2.8 [108 kB]\n",
            "Get:32 http://archive.ubuntu.com/ubuntu jammy-updates/main amd64 binutils-x86-64-linux-gnu amd64 2.38-4ubuntu2.8 [2,324 kB]\n",
            "Get:33 http://archive.ubuntu.com/ubuntu jammy-updates/main amd64 libbinutils amd64 2.38-4ubuntu2.8 [661 kB]\n",
            "Get:34 http://archive.ubuntu.com/ubuntu jammy-updates/main amd64 binutils amd64 2.38-4ubuntu2.8 [3,196 B]\n",
            "Get:35 http://archive.ubuntu.com/ubuntu jammy-updates/main amd64 binutils-common amd64 2.38-4ubuntu2.8 [223 kB]\n",
            "Get:36 http://archive.ubuntu.com/ubuntu jammy-updates/main amd64 libldap-2.5-0 amd64 2.5.19+dfsg-0ubuntu0.22.04.1 [184 kB]\n",
            "Get:37 http://archive.ubuntu.com/ubuntu jammy-updates/main amd64 linux-libc-dev amd64 5.15.0-153.163 [1,324 kB]\n",
            "Fetched 22.7 MB in 1s (15.8 MB/s)\n",
            "Extracting templates from packages: 100%\n",
            "Preconfiguring packages ...\n",
            "(Reading database ... 126374 files and directories currently installed.)\n",
            "Preparing to unpack .../base-files_12ubuntu4.7_amd64.deb ...\n",
            "Unpacking base-files (12ubuntu4.7) over (12ubuntu4.6) ...\n",
            "Setting up base-files (12ubuntu4.7) ...\n",
            "Installing new version of config file /etc/issue ...\n",
            "Installing new version of config file /etc/issue.net ...\n",
            "Installing new version of config file /etc/lsb-release ...\n",
            "(Reading database ... 126374 files and directories currently installed.)\n",
            "Preparing to unpack .../libperl5.34_5.34.0-3ubuntu1.5_amd64.deb ...\n",
            "Unpacking libperl5.34:amd64 (5.34.0-3ubuntu1.5) over (5.34.0-3ubuntu1.3) ...\n",
            "Preparing to unpack .../perl_5.34.0-3ubuntu1.5_amd64.deb ...\n",
            "Unpacking perl (5.34.0-3ubuntu1.5) over (5.34.0-3ubuntu1.3) ...\n",
            "Preparing to unpack .../perl-base_5.34.0-3ubuntu1.5_amd64.deb ...\n",
            "Unpacking perl-base (5.34.0-3ubuntu1.5) over (5.34.0-3ubuntu1.3) ...\n",
            "Setting up perl-base (5.34.0-3ubuntu1.5) ...\n",
            "(Reading database ... 126374 files and directories currently installed.)\n",
            "Preparing to unpack .../perl-modules-5.34_5.34.0-3ubuntu1.5_all.deb ...\n",
            "Unpacking perl-modules-5.34 (5.34.0-3ubuntu1.5) over (5.34.0-3ubuntu1.3) ...\n",
            "Preparing to unpack .../libc-bin_2.35-0ubuntu3.10_amd64.deb ...\n",
            "Unpacking libc-bin (2.35-0ubuntu3.10) over (2.35-0ubuntu3.8) ...\n",
            "Setting up libc-bin (2.35-0ubuntu3.10) ...\n",
            "/sbin/ldconfig.real: /usr/local/lib/libtbbbind_2_0.so.3 is not a symbolic link\n",
            "\n",
            "/sbin/ldconfig.real: /usr/local/lib/libumf.so.0 is not a symbolic link\n",
            "\n",
            "/sbin/ldconfig.real: /usr/local/lib/libtbbbind_2_5.so.3 is not a symbolic link\n",
            "\n",
            "/sbin/ldconfig.real: /usr/local/lib/libur_adapter_level_zero.so.0 is not a symbolic link\n",
            "\n",
            "/sbin/ldconfig.real: /usr/local/lib/libtbbmalloc.so.2 is not a symbolic link\n",
            "\n",
            "/sbin/ldconfig.real: /usr/local/lib/libtbbbind.so.3 is not a symbolic link\n",
            "\n",
            "/sbin/ldconfig.real: /usr/local/lib/libur_adapter_level_zero_v2.so.0 is not a symbolic link\n",
            "\n",
            "/sbin/ldconfig.real: /usr/local/lib/libtcm.so.1 is not a symbolic link\n",
            "\n",
            "/sbin/ldconfig.real: /usr/local/lib/libhwloc.so.15 is not a symbolic link\n",
            "\n",
            "/sbin/ldconfig.real: /usr/local/lib/libur_adapter_opencl.so.0 is not a symbolic link\n",
            "\n",
            "/sbin/ldconfig.real: /usr/local/lib/libtbb.so.12 is not a symbolic link\n",
            "\n",
            "/sbin/ldconfig.real: /usr/local/lib/libtcm_debug.so.1 is not a symbolic link\n",
            "\n",
            "/sbin/ldconfig.real: /usr/local/lib/libur_loader.so.0 is not a symbolic link\n",
            "\n",
            "/sbin/ldconfig.real: /usr/local/lib/libtbbmalloc_proxy.so.2 is not a symbolic link\n",
            "\n",
            "(Reading database ... 126374 files and directories currently installed.)\n",
            "Preparing to unpack .../libpam0g_1.4.0-11ubuntu2.6_amd64.deb ...\n",
            "Unpacking libpam0g:amd64 (1.4.0-11ubuntu2.6) over (1.4.0-11ubuntu2.4) ...\n",
            "Setting up libpam0g:amd64 (1.4.0-11ubuntu2.6) ...\n",
            "(Reading database ... 126374 files and directories currently installed.)\n",
            "Preparing to unpack .../libpam-modules-bin_1.4.0-11ubuntu2.6_amd64.deb ...\n",
            "Unpacking libpam-modules-bin (1.4.0-11ubuntu2.6) over (1.4.0-11ubuntu2.4) ...\n",
            "Setting up libpam-modules-bin (1.4.0-11ubuntu2.6) ...\n",
            "(Reading database ... 126374 files and directories currently installed.)\n",
            "Preparing to unpack .../libpam-modules_1.4.0-11ubuntu2.6_amd64.deb ...\n",
            "Unpacking libpam-modules:amd64 (1.4.0-11ubuntu2.6) over (1.4.0-11ubuntu2.4) ...\n",
            "Setting up libpam-modules:amd64 (1.4.0-11ubuntu2.6) ...\n",
            "Installing new version of config file /etc/security/namespace.init ...\n",
            "(Reading database ... 126374 files and directories currently installed.)\n",
            "Preparing to unpack .../logsave_1.46.5-2ubuntu1.2_amd64.deb ...\n",
            "Unpacking logsave (1.46.5-2ubuntu1.2) over (1.46.5-2ubuntu1.1) ...\n",
            "Preparing to unpack .../libext2fs2_1.46.5-2ubuntu1.2_amd64.deb ...\n",
            "Unpacking libext2fs2:amd64 (1.46.5-2ubuntu1.2) over (1.46.5-2ubuntu1.1) ...\n",
            "Setting up libext2fs2:amd64 (1.46.5-2ubuntu1.2) ...\n",
            "(Reading database ... 126374 files and directories currently installed.)\n",
            "Preparing to unpack .../e2fsprogs_1.46.5-2ubuntu1.2_amd64.deb ...\n",
            "Unpacking e2fsprogs (1.46.5-2ubuntu1.2) over (1.46.5-2ubuntu1.1) ...\n",
            "Preparing to unpack .../libcap2_1%3a2.44-1ubuntu0.22.04.2_amd64.deb ...\n",
            "Unpacking libcap2:amd64 (1:2.44-1ubuntu0.22.04.2) over (1:2.44-1ubuntu0.22.04.1) ...\n",
            "Setting up libcap2:amd64 (1:2.44-1ubuntu0.22.04.2) ...\n",
            "(Reading database ... 126374 files and directories currently installed.)\n",
            "Preparing to unpack .../libpam-runtime_1.4.0-11ubuntu2.6_all.deb ...\n",
            "Unpacking libpam-runtime (1.4.0-11ubuntu2.6) over (1.4.0-11ubuntu2.4) ...\n",
            "Setting up libpam-runtime (1.4.0-11ubuntu2.6) ...\n",
            "(Reading database ... 126374 files and directories currently installed.)\n",
            "Preparing to unpack .../libudev1_249.11-0ubuntu3.16_amd64.deb ...\n",
            "Unpacking libudev1:amd64 (249.11-0ubuntu3.16) over (249.11-0ubuntu3.12) ...\n",
            "Setting up libudev1:amd64 (249.11-0ubuntu3.16) ...\n",
            "(Reading database ... 126374 files and directories currently installed.)\n",
            "Preparing to unpack .../libtasn1-6_4.18.0-4ubuntu0.1_amd64.deb ...\n",
            "Unpacking libtasn1-6:amd64 (4.18.0-4ubuntu0.1) over (4.18.0-4build1) ...\n",
            "Setting up libtasn1-6:amd64 (4.18.0-4ubuntu0.1) ...\n",
            "(Reading database ... 126374 files and directories currently installed.)\n",
            "Preparing to unpack .../libgnutls30_3.7.3-4ubuntu1.7_amd64.deb ...\n",
            "Unpacking libgnutls30:amd64 (3.7.3-4ubuntu1.7) over (3.7.3-4ubuntu1.5) ...\n",
            "Setting up libgnutls30:amd64 (3.7.3-4ubuntu1.7) ...\n",
            "(Reading database ... 126374 files and directories currently installed.)\n",
            "Preparing to unpack .../libseccomp2_2.5.3-2ubuntu3~22.04.1_amd64.deb ...\n",
            "Unpacking libseccomp2:amd64 (2.5.3-2ubuntu3~22.04.1) over (2.5.3-2ubuntu2) ...\n",
            "Setting up libseccomp2:amd64 (2.5.3-2ubuntu3~22.04.1) ...\n",
            "(Reading database ... 126374 files and directories currently installed.)\n",
            "Preparing to unpack .../00-libss2_1.46.5-2ubuntu1.2_amd64.deb ...\n",
            "Unpacking libss2:amd64 (1.46.5-2ubuntu1.2) over (1.46.5-2ubuntu1.1) ...\n",
            "Preparing to unpack .../01-openssl_3.0.2-0ubuntu1.19_amd64.deb ...\n",
            "Unpacking openssl (3.0.2-0ubuntu1.19) over (3.0.2-0ubuntu1.16) ...\n",
            "Preparing to unpack .../02-libctf0_2.38-4ubuntu2.8_amd64.deb ...\n",
            "Unpacking libctf0:amd64 (2.38-4ubuntu2.8) over (2.38-4ubuntu2.6) ...\n",
            "Preparing to unpack .../03-libctf-nobfd0_2.38-4ubuntu2.8_amd64.deb ...\n",
            "Unpacking libctf-nobfd0:amd64 (2.38-4ubuntu2.8) over (2.38-4ubuntu2.6) ...\n",
            "Preparing to unpack .../04-binutils-x86-64-linux-gnu_2.38-4ubuntu2.8_amd64.deb ...\n",
            "Unpacking binutils-x86-64-linux-gnu (2.38-4ubuntu2.8) over (2.38-4ubuntu2.6) ...\n",
            "Preparing to unpack .../05-libbinutils_2.38-4ubuntu2.8_amd64.deb ...\n",
            "Unpacking libbinutils:amd64 (2.38-4ubuntu2.8) over (2.38-4ubuntu2.6) ...\n",
            "Preparing to unpack .../06-binutils_2.38-4ubuntu2.8_amd64.deb ...\n",
            "Unpacking binutils (2.38-4ubuntu2.8) over (2.38-4ubuntu2.6) ...\n",
            "Preparing to unpack .../07-binutils-common_2.38-4ubuntu2.8_amd64.deb ...\n",
            "Unpacking binutils-common:amd64 (2.38-4ubuntu2.8) over (2.38-4ubuntu2.6) ...\n",
            "Preparing to unpack .../08-cuda-toolkit-12-config-common_12.9.79-1_all.deb ...\n",
            "Unpacking cuda-toolkit-12-config-common (12.9.79-1) over (12.5.82-1) ...\n",
            "Preparing to unpack .../09-cuda-toolkit-config-common_13.0.88-1_all.deb ...\n",
            "Unpacking cuda-toolkit-config-common (13.0.88-1) over (12.5.82-1) ...\n",
            "Preparing to unpack .../10-libldap-2.5-0_2.5.19+dfsg-0ubuntu0.22.04.1_amd64.deb ...\n",
            "Unpacking libldap-2.5-0:amd64 (2.5.19+dfsg-0ubuntu0.22.04.1) over (2.5.17+dfsg-0ubuntu0.22.04.1) ...\n",
            "Preparing to unpack .../11-linux-libc-dev_5.15.0-153.163_amd64.deb ...\n",
            "Unpacking linux-libc-dev:amd64 (5.15.0-153.163) over (5.15.0-113.123) ...\n",
            "Preparing to unpack .../12-python3-pkg-resources_68.1.2-2~jammy3_all.deb ...\n",
            "Unpacking python3-pkg-resources (68.1.2-2~jammy3) over (59.6.0-1.2ubuntu0.22.04.3) ...\n",
            "Preparing to unpack .../13-r-cran-gargle_1.6.0-1.ca2204.1_all.deb ...\n",
            "Unpacking r-cran-gargle (1.6.0-1.ca2204.1) over (1.5.2-1.ca2204.1) ...\n",
            "Preparing to unpack .../14-r-cran-googlesheets4_1.1.2-1.ca2204.1_all.deb ...\n",
            "Unpacking r-cran-googlesheets4 (1.1.2-1.ca2204.1) over (1.1.1-1.ca2204.1) ...\n",
            "Preparing to unpack .../15-r-cran-textshaping_1.0.3-1.ca2204.1_amd64.deb ...\n",
            "Unpacking r-cran-textshaping (1.0.3-1.ca2204.1) over (1.0.1-1.ca2204.1) ...\n",
            "Preparing to unpack .../16-r-cran-ragg_1.5.0-1.ca2204.1_amd64.deb ...\n",
            "Unpacking r-cran-ragg (1.5.0-1.ca2204.1) over (1.4.0-1.ca2204.1) ...\n",
            "Preparing to unpack .../17-r-cran-roxygen2_7.3.3-1.ca2204.1_amd64.deb ...\n",
            "Unpacking r-cran-roxygen2 (7.3.3-1.ca2204.1) over (7.3.2-1.ca2204.1) ...\n",
            "Preparing to unpack .../18-r-cran-usethis_3.2.1-1.ca2204.1_all.deb ...\n",
            "Unpacking r-cran-usethis (3.2.1-1.ca2204.1) over (3.2.0-1.ca2204.1) ...\n",
            "Setting up python3-pkg-resources (68.1.2-2~jammy3) ...\n",
            "Setting up cuda-toolkit-config-common (13.0.88-1) ...\n",
            "Setting up r-cran-gargle (1.6.0-1.ca2204.1) ...\n",
            "Setting up r-cran-usethis (3.2.1-1.ca2204.1) ...\n",
            "Setting up binutils-common:amd64 (2.38-4ubuntu2.8) ...\n",
            "Setting up linux-libc-dev:amd64 (5.15.0-153.163) ...\n",
            "Setting up libctf-nobfd0:amd64 (2.38-4ubuntu2.8) ...\n",
            "Setting up perl-modules-5.34 (5.34.0-3ubuntu1.5) ...\n",
            "Setting up r-cran-textshaping (1.0.3-1.ca2204.1) ...\n",
            "Setting up libldap-2.5-0:amd64 (2.5.19+dfsg-0ubuntu0.22.04.1) ...\n",
            "Setting up r-cran-ragg (1.5.0-1.ca2204.1) ...\n",
            "Setting up libss2:amd64 (1.46.5-2ubuntu1.2) ...\n",
            "Setting up logsave (1.46.5-2ubuntu1.2) ...\n",
            "Setting up r-cran-roxygen2 (7.3.3-1.ca2204.1) ...\n",
            "Setting up r-cran-googlesheets4 (1.1.2-1.ca2204.1) ...\n",
            "Setting up libbinutils:amd64 (2.38-4ubuntu2.8) ...\n",
            "Setting up openssl (3.0.2-0ubuntu1.19) ...\n",
            "Setting up cuda-toolkit-12-config-common (12.9.79-1) ...\n",
            "Setting up libctf0:amd64 (2.38-4ubuntu2.8) ...\n",
            "Setting up libperl5.34:amd64 (5.34.0-3ubuntu1.5) ...\n",
            "Setting up e2fsprogs (1.46.5-2ubuntu1.2) ...\n",
            "Setting up perl (5.34.0-3ubuntu1.5) ...\n",
            "Setting up binutils-x86-64-linux-gnu (2.38-4ubuntu2.8) ...\n",
            "Setting up binutils (2.38-4ubuntu2.8) ...\n",
            "Processing triggers for libc-bin (2.35-0ubuntu3.10) ...\n",
            "/sbin/ldconfig.real: /usr/local/lib/libtbbbind_2_0.so.3 is not a symbolic link\n",
            "\n",
            "/sbin/ldconfig.real: /usr/local/lib/libumf.so.0 is not a symbolic link\n",
            "\n",
            "/sbin/ldconfig.real: /usr/local/lib/libtbbbind_2_5.so.3 is not a symbolic link\n",
            "\n",
            "/sbin/ldconfig.real: /usr/local/lib/libur_adapter_level_zero.so.0 is not a symbolic link\n",
            "\n",
            "/sbin/ldconfig.real: /usr/local/lib/libtbbmalloc.so.2 is not a symbolic link\n",
            "\n",
            "/sbin/ldconfig.real: /usr/local/lib/libtbbbind.so.3 is not a symbolic link\n",
            "\n",
            "/sbin/ldconfig.real: /usr/local/lib/libur_adapter_level_zero_v2.so.0 is not a symbolic link\n",
            "\n",
            "/sbin/ldconfig.real: /usr/local/lib/libtcm.so.1 is not a symbolic link\n",
            "\n",
            "/sbin/ldconfig.real: /usr/local/lib/libhwloc.so.15 is not a symbolic link\n",
            "\n",
            "/sbin/ldconfig.real: /usr/local/lib/libur_adapter_opencl.so.0 is not a symbolic link\n",
            "\n",
            "/sbin/ldconfig.real: /usr/local/lib/libtbb.so.12 is not a symbolic link\n",
            "\n",
            "/sbin/ldconfig.real: /usr/local/lib/libtcm_debug.so.1 is not a symbolic link\n",
            "\n",
            "/sbin/ldconfig.real: /usr/local/lib/libur_loader.so.0 is not a symbolic link\n",
            "\n",
            "/sbin/ldconfig.real: /usr/local/lib/libtbbmalloc_proxy.so.2 is not a symbolic link\n",
            "\n",
            "Processing triggers for man-db (2.10.2-1) ...\n"
          ]
        }
      ],
      "source": [
        "#Update Colab Environment and System Libraries\n",
        "!apt-get update -y && apt-get upgrade -y\n"
      ]
    },
    {
      "cell_type": "code",
      "execution_count": 4,
      "metadata": {
        "id": "0agNVkK_DCf0",
        "colab": {
          "base_uri": "https://localhost:8080/"
        },
        "outputId": "f4e648fa-1a2d-498f-895c-e326a1f2fa21"
      },
      "outputs": [
        {
          "output_type": "stream",
          "name": "stdout",
          "text": [
            "W: Skipping acquire of configured file 'main/source/Sources' as repository 'https://r2u.stat.illinois.edu/ubuntu jammy InRelease' does not seem to provide it (sources.list entry misspelt?)\n",
            "Reading package lists... Done\n",
            "Building dependency tree... Done\n",
            "Reading state information... Done\n",
            "E: Unable to locate package libnppig10\n",
            "E: Unable to locate package libnppc10\n",
            "E: Unable to locate package libnppial10\n"
          ]
        }
      ],
      "source": [
        "#Install Correct Version of CUDA for Colab GPU\n",
        "!apt-get update -qq && apt-get install -y \\\n",
        "    libcusolver11 libcusparse11 libcurand10 libcufft10 libnppig10 libnppc10 libnppial10 \\\n",
        "    cuda-toolkit-12-4"
      ]
    },
    {
      "cell_type": "code",
      "execution_count": 5,
      "metadata": {
        "id": "sSt-4dWIDFOg"
      },
      "outputs": [],
      "source": [
        "#Set Correct CUDA Paths\n",
        "import os\n",
        "os.environ['CUDA_HOME'] = '/usr/local/cuda-12.4'\n",
        "os.environ['PATH'] += ':/usr/local/cuda-12.4/bin'\n",
        "os.environ['LD_LIBRARY_PATH'] += ':/usr/local/cuda-12.4/lib64'\n"
      ]
    },
    {
      "cell_type": "code",
      "execution_count": 6,
      "metadata": {
        "id": "wjt_aeX_DISp",
        "colab": {
          "base_uri": "https://localhost:8080/",
          "height": 1000
        },
        "outputId": "0319c86d-08c0-4662-be8f-f31372dacf69"
      },
      "outputs": [
        {
          "output_type": "stream",
          "name": "stdout",
          "text": [
            "Looking in indexes: https://pypi.org/simple, https://pypi.nvidia.com\n",
            "Collecting cuml-cu12==25.2.0\n",
            "  Downloading https://pypi.nvidia.com/cuml-cu12/cuml_cu12-25.2.0-cp312-cp312-manylinux_2_28_x86_64.whl (9.6 MB)\n",
            "\u001b[2K     \u001b[90m━━━━━━━━━━━━━━━━━━━━━━━━━━━━━━━━━━━━━━━━\u001b[0m \u001b[32m9.6/9.6 MB\u001b[0m \u001b[31m50.0 MB/s\u001b[0m eta \u001b[36m0:00:00\u001b[0m\n",
            "\u001b[?25hCollecting cudf-cu12==25.2.0\n",
            "  Downloading https://pypi.nvidia.com/cudf-cu12/cudf_cu12-25.2.0-cp312-cp312-manylinux_2_24_x86_64.manylinux_2_28_x86_64.whl (2.2 MB)\n",
            "\u001b[2K     \u001b[90m━━━━━━━━━━━━━━━━━━━━━━━━━━━━━━━━━━━━━━━━\u001b[0m \u001b[32m2.2/2.2 MB\u001b[0m \u001b[31m106.1 MB/s\u001b[0m eta \u001b[36m0:00:00\u001b[0m\n",
            "\u001b[?25hRequirement already satisfied: cupy-cuda12x in /usr/local/lib/python3.12/dist-packages (13.3.0)\n",
            "Collecting dask-cuda==25.2.0\n",
            "  Downloading https://pypi.nvidia.com/dask-cuda/dask_cuda-25.2.0-py3-none-any.whl (133 kB)\n",
            "\u001b[2K     \u001b[90m━━━━━━━━━━━━━━━━━━━━━━━━━━━━━━━━━━━━━━\u001b[0m \u001b[32m133.9/133.9 kB\u001b[0m \u001b[31m80.1 MB/s\u001b[0m eta \u001b[36m0:00:00\u001b[0m\n",
            "\u001b[?25hCollecting dask-cudf-cu12==25.2.0\n",
            "  Downloading https://pypi.nvidia.com/dask-cudf-cu12/dask_cudf_cu12-25.2.0-py3-none-any.whl (50 kB)\n",
            "\u001b[2K     \u001b[90m━━━━━━━━━━━━━━━━━━━━━━━━━━━━━━━━━━━━━━━━\u001b[0m \u001b[32m50.4/50.4 kB\u001b[0m \u001b[31m42.4 MB/s\u001b[0m eta \u001b[36m0:00:00\u001b[0m\n",
            "\u001b[?25hRequirement already satisfied: cuda-python<13.0a0,>=12.6.2 in /usr/local/lib/python3.12/dist-packages (from cuml-cu12==25.2.0) (12.6.2.post1)\n",
            "Collecting cuvs-cu12==25.2.* (from cuml-cu12==25.2.0)\n",
            "  Downloading https://pypi.nvidia.com/cuvs-cu12/cuvs_cu12-25.2.1-cp312-cp312-manylinux_2_24_x86_64.manylinux_2_28_x86_64.whl (2.3 MB)\n",
            "\u001b[2K     \u001b[90m━━━━━━━━━━━━━━━━━━━━━━━━━━━━━━━━━━━━━━━━\u001b[0m \u001b[32m2.3/2.3 MB\u001b[0m \u001b[31m49.2 MB/s\u001b[0m eta \u001b[36m0:00:00\u001b[0m\n",
            "\u001b[?25hRequirement already satisfied: joblib>=0.11 in /usr/local/lib/python3.12/dist-packages (from cuml-cu12==25.2.0) (1.5.2)\n",
            "Collecting libcuml-cu12==25.2.* (from cuml-cu12==25.2.0)\n",
            "  Downloading https://pypi.nvidia.com/libcuml-cu12/libcuml_cu12-25.2.1-py3-none-manylinux_2_28_x86_64.whl (405.0 MB)\n",
            "\u001b[2K     \u001b[90m━━━━━━━━━━━━━━━━━━━━━━━━━━━━━━━━━━━━━━\u001b[0m \u001b[32m405.0/405.0 MB\u001b[0m \u001b[31m65.6 MB/s\u001b[0m eta \u001b[36m0:00:00\u001b[0m\n",
            "\u001b[?25hRequirement already satisfied: numba<0.61.0a0,>=0.59.1 in /usr/local/lib/python3.12/dist-packages (from cuml-cu12==25.2.0) (0.60.0)\n",
            "Requirement already satisfied: numpy<3.0a0,>=1.23 in /usr/local/lib/python3.12/dist-packages (from cuml-cu12==25.2.0) (2.0.2)\n",
            "Requirement already satisfied: nvidia-cublas-cu12 in /usr/local/lib/python3.12/dist-packages (from cuml-cu12==25.2.0) (12.6.4.1)\n",
            "Requirement already satisfied: nvidia-cufft-cu12 in /usr/local/lib/python3.12/dist-packages (from cuml-cu12==25.2.0) (11.3.0.4)\n",
            "Requirement already satisfied: nvidia-curand-cu12 in /usr/local/lib/python3.12/dist-packages (from cuml-cu12==25.2.0) (10.3.7.77)\n",
            "Requirement already satisfied: nvidia-cusolver-cu12 in /usr/local/lib/python3.12/dist-packages (from cuml-cu12==25.2.0) (11.7.1.2)\n",
            "Requirement already satisfied: nvidia-cusparse-cu12 in /usr/local/lib/python3.12/dist-packages (from cuml-cu12==25.2.0) (12.5.4.2)\n",
            "Requirement already satisfied: packaging in /usr/local/lib/python3.12/dist-packages (from cuml-cu12==25.2.0) (25.0)\n",
            "Collecting pylibraft-cu12==25.2.* (from cuml-cu12==25.2.0)\n",
            "  Downloading https://pypi.nvidia.com/pylibraft-cu12/pylibraft_cu12-25.2.0-cp312-cp312-manylinux_2_28_x86_64.whl (851 kB)\n",
            "\u001b[2K     \u001b[90m━━━━━━━━━━━━━━━━━━━━━━━━━━━━━━━━━━━━━\u001b[0m \u001b[32m851.2/851.2 kB\u001b[0m \u001b[31m198.6 MB/s\u001b[0m eta \u001b[36m0:00:00\u001b[0m\n",
            "\u001b[?25hCollecting raft-dask-cu12==25.2.* (from cuml-cu12==25.2.0)\n",
            "  Downloading https://pypi.nvidia.com/raft-dask-cu12/raft_dask_cu12-25.2.0-cp312-cp312-manylinux_2_28_x86_64.whl (293.5 MB)\n",
            "\u001b[2K     \u001b[90m━━━━━━━━━━━━━━━━━━━━━━━━━━━━━━━━━━━━━━\u001b[0m \u001b[32m293.5/293.5 MB\u001b[0m \u001b[31m88.3 MB/s\u001b[0m eta \u001b[36m0:00:00\u001b[0m\n",
            "\u001b[?25hCollecting rapids-dask-dependency==25.2.* (from cuml-cu12==25.2.0)\n",
            "  Downloading https://pypi.nvidia.com/rapids-dask-dependency/rapids_dask_dependency-25.2.0-py3-none-any.whl (22 kB)\n",
            "Collecting rmm-cu12==25.2.* (from cuml-cu12==25.2.0)\n",
            "  Downloading https://pypi.nvidia.com/rmm-cu12/rmm_cu12-25.2.0-cp312-cp312-manylinux_2_24_x86_64.manylinux_2_28_x86_64.whl (2.4 MB)\n",
            "\u001b[2K     \u001b[90m━━━━━━━━━━━━━━━━━━━━━━━━━━━━━━━━━━━━━━━━\u001b[0m \u001b[32m2.4/2.4 MB\u001b[0m \u001b[31m194.7 MB/s\u001b[0m eta \u001b[36m0:00:00\u001b[0m\n",
            "\u001b[?25hRequirement already satisfied: scipy>=1.8.0 in /usr/local/lib/python3.12/dist-packages (from cuml-cu12==25.2.0) (1.16.1)\n",
            "Requirement already satisfied: treelite==4.4.1 in /usr/local/lib/python3.12/dist-packages (from cuml-cu12==25.2.0) (4.4.1)\n",
            "Requirement already satisfied: cachetools in /usr/local/lib/python3.12/dist-packages (from cudf-cu12==25.2.0) (5.5.2)\n",
            "Requirement already satisfied: fsspec>=0.6.0 in /usr/local/lib/python3.12/dist-packages (from cudf-cu12==25.2.0) (2025.3.0)\n",
            "Collecting libcudf-cu12==25.2.* (from cudf-cu12==25.2.0)\n",
            "  Downloading https://pypi.nvidia.com/libcudf-cu12/libcudf_cu12-25.2.2-py3-none-manylinux_2_28_x86_64.whl (557.7 MB)\n",
            "\u001b[2K     \u001b[90m━━━━━━━━━━━━━━━━━━━━━━━━━━━━━━━━━━━━━━\u001b[0m \u001b[32m557.7/557.7 MB\u001b[0m \u001b[31m62.1 MB/s\u001b[0m eta \u001b[36m0:00:00\u001b[0m\n",
            "\u001b[?25hCollecting numba-cuda<0.3.0a0,>=0.2.0 (from cudf-cu12==25.2.0)\n",
            "  Downloading numba_cuda-0.2.0-py3-none-any.whl.metadata (1.5 kB)\n",
            "Requirement already satisfied: nvtx>=0.2.1 in /usr/local/lib/python3.12/dist-packages (from cudf-cu12==25.2.0) (0.2.13)\n",
            "Requirement already satisfied: pandas<2.2.4dev0,>=2.0 in /usr/local/lib/python3.12/dist-packages (from cudf-cu12==25.2.0) (2.2.2)\n",
            "Requirement already satisfied: pyarrow<20.0.0a0,>=14.0.0 in /usr/local/lib/python3.12/dist-packages (from cudf-cu12==25.2.0) (18.1.0)\n",
            "Collecting pylibcudf-cu12==25.2.* (from cudf-cu12==25.2.0)\n",
            "  Downloading https://pypi.nvidia.com/pylibcudf-cu12/pylibcudf_cu12-25.2.2-cp312-cp312-manylinux_2_24_x86_64.manylinux_2_28_x86_64.whl (27.2 MB)\n",
            "\u001b[2K     \u001b[90m━━━━━━━━━━━━━━━━━━━━━━━━━━━━━━━━━━━━━━━\u001b[0m \u001b[32m27.2/27.2 MB\u001b[0m \u001b[31m102.7 MB/s\u001b[0m eta \u001b[36m0:00:00\u001b[0m\n",
            "\u001b[?25hRequirement already satisfied: pynvjitlink-cu12 in /usr/local/lib/python3.12/dist-packages (from cudf-cu12==25.2.0) (0.7.0)\n",
            "Requirement already satisfied: rich in /usr/local/lib/python3.12/dist-packages (from cudf-cu12==25.2.0) (13.9.4)\n",
            "Requirement already satisfied: typing_extensions>=4.0.0 in /usr/local/lib/python3.12/dist-packages (from cudf-cu12==25.2.0) (4.15.0)\n",
            "Requirement already satisfied: click>=8.1 in /usr/local/lib/python3.12/dist-packages (from dask-cuda==25.2.0) (8.2.1)\n",
            "Requirement already satisfied: pynvml<13.0.0a0,>=12.0.0 in /usr/local/lib/python3.12/dist-packages (from dask-cuda==25.2.0) (12.0.0)\n",
            "Requirement already satisfied: zict>=2.0.0 in /usr/local/lib/python3.12/dist-packages (from dask-cuda==25.2.0) (3.0.0)\n",
            "Collecting libcuvs-cu12==25.2.* (from cuvs-cu12==25.2.*->cuml-cu12==25.2.0)\n",
            "  Downloading https://pypi.nvidia.com/libcuvs-cu12/libcuvs_cu12-25.2.1-py3-none-manylinux_2_28_x86_64.whl (1184.5 MB)\n",
            "\u001b[2K     \u001b[90m━━━━━━━━━━━━━━━━━━━━━━━━━━━━━━━━━━━━━━━━\u001b[0m \u001b[32m1.2/1.2 GB\u001b[0m \u001b[31m34.9 MB/s\u001b[0m eta \u001b[36m0:00:00\u001b[0m\n",
            "\u001b[?25hCollecting libkvikio-cu12==25.2.* (from libcudf-cu12==25.2.*->cudf-cu12==25.2.0)\n",
            "  Downloading https://pypi.nvidia.com/libkvikio-cu12/libkvikio_cu12-25.2.1-py3-none-manylinux_2_28_x86_64.whl (2.1 MB)\n",
            "\u001b[2K     \u001b[90m━━━━━━━━━━━━━━━━━━━━━━━━━━━━━━━━━━━━━━━━\u001b[0m \u001b[32m2.1/2.1 MB\u001b[0m \u001b[31m189.5 MB/s\u001b[0m eta \u001b[36m0:00:00\u001b[0m\n",
            "\u001b[?25hCollecting nvidia-nvcomp-cu12==4.2.0.11 (from libcudf-cu12==25.2.*->cudf-cu12==25.2.0)\n",
            "  Downloading https://pypi.nvidia.com/nvidia-nvcomp-cu12/nvidia_nvcomp_cu12-4.2.0.11-py3-none-manylinux_2_28_x86_64.whl (46.3 MB)\n",
            "\u001b[2K     \u001b[90m━━━━━━━━━━━━━━━━━━━━━━━━━━━━━━━━━━━━━━━\u001b[0m \u001b[32m46.3/46.3 MB\u001b[0m \u001b[31m152.1 MB/s\u001b[0m eta \u001b[36m0:00:00\u001b[0m\n",
            "\u001b[?25hCollecting libraft-cu12==25.2.* (from libcuml-cu12==25.2.*->cuml-cu12==25.2.0)\n",
            "  Downloading https://pypi.nvidia.com/libraft-cu12/libraft_cu12-25.2.0-py3-none-manylinux_2_28_x86_64.whl (22.3 MB)\n",
            "\u001b[2K     \u001b[90m━━━━━━━━━━━━━━━━━━━━━━━━━━━━━━━━━━━━━━━\u001b[0m \u001b[32m22.3/22.3 MB\u001b[0m \u001b[31m183.8 MB/s\u001b[0m eta \u001b[36m0:00:00\u001b[0m\n",
            "\u001b[?25hCollecting distributed-ucxx-cu12==0.42.* (from raft-dask-cu12==25.2.*->cuml-cu12==25.2.0)\n",
            "  Downloading https://pypi.nvidia.com/distributed-ucxx-cu12/distributed_ucxx_cu12-0.42.0-py3-none-any.whl (24 kB)\n",
            "Collecting ucx-py-cu12==0.42.* (from raft-dask-cu12==25.2.*->cuml-cu12==25.2.0)\n",
            "  Downloading https://pypi.nvidia.com/ucx-py-cu12/ucx_py_cu12-0.42.0-cp312-cp312-manylinux_2_17_x86_64.manylinux2014_x86_64.manylinux_2_28_x86_64.whl (2.2 MB)\n",
            "\u001b[2K     \u001b[90m━━━━━━━━━━━━━━━━━━━━━━━━━━━━━━━━━━━━━━━━\u001b[0m \u001b[32m2.2/2.2 MB\u001b[0m \u001b[31m118.8 MB/s\u001b[0m eta \u001b[36m0:00:00\u001b[0m\n",
            "\u001b[?25hCollecting dask==2024.12.1 (from rapids-dask-dependency==25.2.*->cuml-cu12==25.2.0)\n",
            "  Downloading dask-2024.12.1-py3-none-any.whl.metadata (3.7 kB)\n",
            "Collecting distributed==2024.12.1 (from rapids-dask-dependency==25.2.*->cuml-cu12==25.2.0)\n",
            "  Downloading distributed-2024.12.1-py3-none-any.whl.metadata (3.3 kB)\n",
            "Collecting dask-expr==1.1.21 (from rapids-dask-dependency==25.2.*->cuml-cu12==25.2.0)\n",
            "  Downloading dask_expr-1.1.21-py3-none-any.whl.metadata (2.6 kB)\n",
            "Requirement already satisfied: cloudpickle>=3.0.0 in /usr/local/lib/python3.12/dist-packages (from dask==2024.12.1->rapids-dask-dependency==25.2.*->cuml-cu12==25.2.0) (3.1.1)\n",
            "Requirement already satisfied: partd>=1.4.0 in /usr/local/lib/python3.12/dist-packages (from dask==2024.12.1->rapids-dask-dependency==25.2.*->cuml-cu12==25.2.0) (1.4.2)\n",
            "Requirement already satisfied: pyyaml>=5.3.1 in /usr/local/lib/python3.12/dist-packages (from dask==2024.12.1->rapids-dask-dependency==25.2.*->cuml-cu12==25.2.0) (6.0.2)\n",
            "Requirement already satisfied: toolz>=0.10.0 in /usr/local/lib/python3.12/dist-packages (from dask==2024.12.1->rapids-dask-dependency==25.2.*->cuml-cu12==25.2.0) (0.12.1)\n",
            "Requirement already satisfied: jinja2>=2.10.3 in /usr/local/lib/python3.12/dist-packages (from distributed==2024.12.1->rapids-dask-dependency==25.2.*->cuml-cu12==25.2.0) (3.1.6)\n",
            "Requirement already satisfied: locket>=1.0.0 in /usr/local/lib/python3.12/dist-packages (from distributed==2024.12.1->rapids-dask-dependency==25.2.*->cuml-cu12==25.2.0) (1.0.0)\n",
            "Requirement already satisfied: msgpack>=1.0.2 in /usr/local/lib/python3.12/dist-packages (from distributed==2024.12.1->rapids-dask-dependency==25.2.*->cuml-cu12==25.2.0) (1.1.1)\n",
            "Requirement already satisfied: psutil>=5.8.0 in /usr/local/lib/python3.12/dist-packages (from distributed==2024.12.1->rapids-dask-dependency==25.2.*->cuml-cu12==25.2.0) (5.9.5)\n",
            "Requirement already satisfied: sortedcontainers>=2.0.5 in /usr/local/lib/python3.12/dist-packages (from distributed==2024.12.1->rapids-dask-dependency==25.2.*->cuml-cu12==25.2.0) (2.4.0)\n",
            "Requirement already satisfied: tblib>=1.6.0 in /usr/local/lib/python3.12/dist-packages (from distributed==2024.12.1->rapids-dask-dependency==25.2.*->cuml-cu12==25.2.0) (3.1.0)\n",
            "Requirement already satisfied: tornado>=6.2.0 in /usr/local/lib/python3.12/dist-packages (from distributed==2024.12.1->rapids-dask-dependency==25.2.*->cuml-cu12==25.2.0) (6.4.2)\n",
            "Requirement already satisfied: urllib3>=1.26.5 in /usr/local/lib/python3.12/dist-packages (from distributed==2024.12.1->rapids-dask-dependency==25.2.*->cuml-cu12==25.2.0) (2.5.0)\n",
            "Collecting ucxx-cu12==0.42.* (from distributed-ucxx-cu12==0.42.*->raft-dask-cu12==25.2.*->cuml-cu12==25.2.0)\n",
            "  Downloading https://pypi.nvidia.com/ucxx-cu12/ucxx_cu12-0.42.0-cp312-cp312-manylinux_2_27_x86_64.manylinux_2_28_x86_64.whl (712 kB)\n",
            "\u001b[2K     \u001b[90m━━━━━━━━━━━━━━━━━━━━━━━━━━━━━━━━━━━━━\u001b[0m \u001b[32m712.7/712.7 kB\u001b[0m \u001b[31m125.8 MB/s\u001b[0m eta \u001b[36m0:00:00\u001b[0m\n",
            "\u001b[?25hRequirement already satisfied: libucx-cu12<1.19,>=1.15.0 in /usr/local/lib/python3.12/dist-packages (from ucx-py-cu12==0.42.*->raft-dask-cu12==25.2.*->cuml-cu12==25.2.0) (1.18.1)\n",
            "Collecting libucxx-cu12==0.42.* (from ucxx-cu12==0.42.*->distributed-ucxx-cu12==0.42.*->raft-dask-cu12==25.2.*->cuml-cu12==25.2.0)\n",
            "  Downloading https://pypi.nvidia.com/libucxx-cu12/libucxx_cu12-0.42.0-py3-none-manylinux_2_24_x86_64.manylinux_2_28_x86_64.whl (514 kB)\n",
            "\u001b[2K     \u001b[90m━━━━━━━━━━━━━━━━━━━━━━━━━━━━━━━━━━━━━━\u001b[0m \u001b[32m514.8/514.8 kB\u001b[0m \u001b[31m49.0 MB/s\u001b[0m eta \u001b[36m0:00:00\u001b[0m\n",
            "\u001b[?25hRequirement already satisfied: fastrlock>=0.5 in /usr/local/lib/python3.12/dist-packages (from cupy-cuda12x) (0.8.3)\n",
            "Requirement already satisfied: llvmlite<0.44,>=0.43.0dev0 in /usr/local/lib/python3.12/dist-packages (from numba<0.61.0a0,>=0.59.1->cuml-cu12==25.2.0) (0.43.0)\n",
            "Requirement already satisfied: python-dateutil>=2.8.2 in /usr/local/lib/python3.12/dist-packages (from pandas<2.2.4dev0,>=2.0->cudf-cu12==25.2.0) (2.9.0.post0)\n",
            "Requirement already satisfied: pytz>=2020.1 in /usr/local/lib/python3.12/dist-packages (from pandas<2.2.4dev0,>=2.0->cudf-cu12==25.2.0) (2025.2)\n",
            "Requirement already satisfied: tzdata>=2022.7 in /usr/local/lib/python3.12/dist-packages (from pandas<2.2.4dev0,>=2.0->cudf-cu12==25.2.0) (2025.2)\n",
            "Requirement already satisfied: nvidia-ml-py<13.0.0a0,>=12.0.0 in /usr/local/lib/python3.12/dist-packages (from pynvml<13.0.0a0,>=12.0.0->dask-cuda==25.2.0) (12.575.51)\n",
            "Requirement already satisfied: nvidia-nvjitlink-cu12 in /usr/local/lib/python3.12/dist-packages (from nvidia-cufft-cu12->cuml-cu12==25.2.0) (12.6.85)\n",
            "Requirement already satisfied: markdown-it-py>=2.2.0 in /usr/local/lib/python3.12/dist-packages (from rich->cudf-cu12==25.2.0) (4.0.0)\n",
            "Requirement already satisfied: pygments<3.0.0,>=2.13.0 in /usr/local/lib/python3.12/dist-packages (from rich->cudf-cu12==25.2.0) (2.19.2)\n",
            "Requirement already satisfied: mdurl~=0.1 in /usr/local/lib/python3.12/dist-packages (from markdown-it-py>=2.2.0->rich->cudf-cu12==25.2.0) (0.1.2)\n",
            "Requirement already satisfied: six>=1.5 in /usr/local/lib/python3.12/dist-packages (from python-dateutil>=2.8.2->pandas<2.2.4dev0,>=2.0->cudf-cu12==25.2.0) (1.17.0)\n",
            "Requirement already satisfied: MarkupSafe>=2.0 in /usr/local/lib/python3.12/dist-packages (from jinja2>=2.10.3->distributed==2024.12.1->rapids-dask-dependency==25.2.*->cuml-cu12==25.2.0) (3.0.2)\n",
            "Downloading dask-2024.12.1-py3-none-any.whl (1.3 MB)\n",
            "\u001b[2K   \u001b[90m━━━━━━━━━━━━━━━━━━━━━━━━━━━━━━━━━━━━━━━━\u001b[0m \u001b[32m1.3/1.3 MB\u001b[0m \u001b[31m14.5 MB/s\u001b[0m eta \u001b[36m0:00:00\u001b[0m\n",
            "\u001b[?25hDownloading dask_expr-1.1.21-py3-none-any.whl (244 kB)\n",
            "\u001b[2K   \u001b[90m━━━━━━━━━━━━━━━━━━━━━━━━━━━━━━━━━━━━━━━━\u001b[0m \u001b[32m244.3/244.3 kB\u001b[0m \u001b[31m18.3 MB/s\u001b[0m eta \u001b[36m0:00:00\u001b[0m\n",
            "\u001b[?25hDownloading distributed-2024.12.1-py3-none-any.whl (1.0 MB)\n",
            "\u001b[2K   \u001b[90m━━━━━━━━━━━━━━━━━━━━━━━━━━━━━━━━━━━━━━━━\u001b[0m \u001b[32m1.0/1.0 MB\u001b[0m \u001b[31m45.2 MB/s\u001b[0m eta \u001b[36m0:00:00\u001b[0m\n",
            "\u001b[?25hDownloading numba_cuda-0.2.0-py3-none-any.whl (443 kB)\n",
            "\u001b[2K   \u001b[90m━━━━━━━━━━━━━━━━━━━━━━━━━━━━━━━━━━━━━━━━\u001b[0m \u001b[32m443.7/443.7 kB\u001b[0m \u001b[31m22.5 MB/s\u001b[0m eta \u001b[36m0:00:00\u001b[0m\n",
            "\u001b[?25hInstalling collected packages: libkvikio-cu12, rmm-cu12, nvidia-nvcomp-cu12, libucxx-cu12, ucxx-cu12, ucx-py-cu12, numba-cuda, libcudf-cu12, dask, pylibcudf-cu12, libraft-cu12, distributed, dask-expr, rapids-dask-dependency, pylibraft-cu12, libcuvs-cu12, cudf-cu12, libcuml-cu12, distributed-ucxx-cu12, dask-cudf-cu12, dask-cuda, cuvs-cu12, raft-dask-cu12, cuml-cu12\n",
            "  Attempting uninstall: libkvikio-cu12\n",
            "    Found existing installation: libkvikio-cu12 25.6.0\n",
            "    Uninstalling libkvikio-cu12-25.6.0:\n",
            "      Successfully uninstalled libkvikio-cu12-25.6.0\n",
            "  Attempting uninstall: rmm-cu12\n",
            "    Found existing installation: rmm-cu12 25.6.0\n",
            "    Uninstalling rmm-cu12-25.6.0:\n",
            "      Successfully uninstalled rmm-cu12-25.6.0\n",
            "  Attempting uninstall: libucxx-cu12\n",
            "    Found existing installation: libucxx-cu12 0.44.0\n",
            "    Uninstalling libucxx-cu12-0.44.0:\n",
            "      Successfully uninstalled libucxx-cu12-0.44.0\n",
            "  Attempting uninstall: ucxx-cu12\n",
            "    Found existing installation: ucxx-cu12 0.44.0\n",
            "    Uninstalling ucxx-cu12-0.44.0:\n",
            "      Successfully uninstalled ucxx-cu12-0.44.0\n",
            "  Attempting uninstall: ucx-py-cu12\n",
            "    Found existing installation: ucx-py-cu12 0.44.0\n",
            "    Uninstalling ucx-py-cu12-0.44.0:\n",
            "      Successfully uninstalled ucx-py-cu12-0.44.0\n",
            "  Attempting uninstall: numba-cuda\n",
            "    Found existing installation: numba-cuda 0.11.0\n",
            "    Uninstalling numba-cuda-0.11.0:\n",
            "      Successfully uninstalled numba-cuda-0.11.0\n",
            "  Attempting uninstall: libcudf-cu12\n",
            "    Found existing installation: libcudf-cu12 25.6.0\n",
            "    Uninstalling libcudf-cu12-25.6.0:\n",
            "      Successfully uninstalled libcudf-cu12-25.6.0\n",
            "  Attempting uninstall: dask\n",
            "    Found existing installation: dask 2025.5.0\n",
            "    Uninstalling dask-2025.5.0:\n",
            "      Successfully uninstalled dask-2025.5.0\n",
            "  Attempting uninstall: pylibcudf-cu12\n",
            "    Found existing installation: pylibcudf-cu12 25.6.0\n",
            "    Uninstalling pylibcudf-cu12-25.6.0:\n",
            "      Successfully uninstalled pylibcudf-cu12-25.6.0\n",
            "  Attempting uninstall: libraft-cu12\n",
            "    Found existing installation: libraft-cu12 25.6.0\n",
            "    Uninstalling libraft-cu12-25.6.0:\n",
            "      Successfully uninstalled libraft-cu12-25.6.0\n",
            "  Attempting uninstall: distributed\n",
            "    Found existing installation: distributed 2025.5.0\n",
            "    Uninstalling distributed-2025.5.0:\n",
            "      Successfully uninstalled distributed-2025.5.0\n",
            "  Attempting uninstall: rapids-dask-dependency\n",
            "    Found existing installation: rapids-dask-dependency 25.6.0\n",
            "    Uninstalling rapids-dask-dependency-25.6.0:\n",
            "      Successfully uninstalled rapids-dask-dependency-25.6.0\n",
            "  Attempting uninstall: pylibraft-cu12\n",
            "    Found existing installation: pylibraft-cu12 25.6.0\n",
            "    Uninstalling pylibraft-cu12-25.6.0:\n",
            "      Successfully uninstalled pylibraft-cu12-25.6.0\n",
            "  Attempting uninstall: libcuvs-cu12\n",
            "    Found existing installation: libcuvs-cu12 25.6.1\n",
            "    Uninstalling libcuvs-cu12-25.6.1:\n",
            "      Successfully uninstalled libcuvs-cu12-25.6.1\n",
            "  Attempting uninstall: cudf-cu12\n",
            "    Found existing installation: cudf-cu12 25.6.0\n",
            "    Uninstalling cudf-cu12-25.6.0:\n",
            "      Successfully uninstalled cudf-cu12-25.6.0\n",
            "  Attempting uninstall: libcuml-cu12\n",
            "    Found existing installation: libcuml-cu12 25.6.0\n",
            "    Uninstalling libcuml-cu12-25.6.0:\n",
            "      Successfully uninstalled libcuml-cu12-25.6.0\n",
            "  Attempting uninstall: distributed-ucxx-cu12\n",
            "    Found existing installation: distributed-ucxx-cu12 0.44.0\n",
            "    Uninstalling distributed-ucxx-cu12-0.44.0:\n",
            "      Successfully uninstalled distributed-ucxx-cu12-0.44.0\n",
            "  Attempting uninstall: dask-cudf-cu12\n",
            "    Found existing installation: dask-cudf-cu12 25.6.0\n",
            "    Uninstalling dask-cudf-cu12-25.6.0:\n",
            "      Successfully uninstalled dask-cudf-cu12-25.6.0\n",
            "  Attempting uninstall: dask-cuda\n",
            "    Found existing installation: dask-cuda 25.6.0\n",
            "    Uninstalling dask-cuda-25.6.0:\n",
            "      Successfully uninstalled dask-cuda-25.6.0\n",
            "  Attempting uninstall: cuvs-cu12\n",
            "    Found existing installation: cuvs-cu12 25.6.1\n",
            "    Uninstalling cuvs-cu12-25.6.1:\n",
            "      Successfully uninstalled cuvs-cu12-25.6.1\n",
            "  Attempting uninstall: raft-dask-cu12\n",
            "    Found existing installation: raft-dask-cu12 25.6.0\n",
            "    Uninstalling raft-dask-cu12-25.6.0:\n",
            "      Successfully uninstalled raft-dask-cu12-25.6.0\n",
            "  Attempting uninstall: cuml-cu12\n",
            "    Found existing installation: cuml-cu12 25.6.0\n",
            "    Uninstalling cuml-cu12-25.6.0:\n",
            "      Successfully uninstalled cuml-cu12-25.6.0\n",
            "\u001b[31mERROR: pip's dependency resolver does not currently take into account all the packages that are installed. This behaviour is the source of the following dependency conflicts.\n",
            "pylibcugraph-cu12 25.6.0 requires pylibraft-cu12==25.6.*, but you have pylibraft-cu12 25.2.0 which is incompatible.\n",
            "pylibcugraph-cu12 25.6.0 requires rmm-cu12==25.6.*, but you have rmm-cu12 25.2.0 which is incompatible.\n",
            "cudf-polars-cu12 25.6.0 requires pylibcudf-cu12==25.6.*, but you have pylibcudf-cu12 25.2.2 which is incompatible.\n",
            "libcugraph-cu12 25.6.0 requires libraft-cu12==25.6.*, but you have libraft-cu12 25.2.0 which is incompatible.\u001b[0m\u001b[31m\n",
            "\u001b[0mSuccessfully installed cudf-cu12-25.2.0 cuml-cu12-25.2.0 cuvs-cu12-25.2.1 dask-2024.12.1 dask-cuda-25.2.0 dask-cudf-cu12-25.2.0 dask-expr-1.1.21 distributed-2024.12.1 distributed-ucxx-cu12-0.42.0 libcudf-cu12-25.2.2 libcuml-cu12-25.2.1 libcuvs-cu12-25.2.1 libkvikio-cu12-25.2.1 libraft-cu12-25.2.0 libucxx-cu12-0.42.0 numba-cuda-0.2.0 nvidia-nvcomp-cu12-4.2.0.11 pylibcudf-cu12-25.2.2 pylibraft-cu12-25.2.0 raft-dask-cu12-25.2.0 rapids-dask-dependency-25.2.0 rmm-cu12-25.2.0 ucx-py-cu12-0.42.0 ucxx-cu12-0.42.0\n"
          ]
        },
        {
          "output_type": "display_data",
          "data": {
            "application/vnd.colab-display-data+json": {
              "pip_warning": {
                "packages": [
                  "rapids_dask_dependency"
                ]
              },
              "id": "cee6344452ed44358604eed8e0ab00eb"
            }
          },
          "metadata": {}
        }
      ],
      "source": [
        "#Install RAPIDS and NVIDIA Dependencies\n",
        "!pip install --extra-index-url=https://pypi.nvidia.com \\\n",
        "    cuml-cu12==25.2.0 cudf-cu12==25.2.0 cupy-cuda12x dask-cuda==25.2.0 dask-cudf-cu12==25.2.0\n"
      ]
    },
    {
      "cell_type": "code",
      "execution_count": 1,
      "metadata": {
        "id": "19mK1sF0DMQA",
        "colab": {
          "base_uri": "https://localhost:8080/"
        },
        "outputId": "1133a218-9b20-497a-d626-bb40386dc6b7"
      },
      "outputs": [
        {
          "output_type": "stream",
          "name": "stdout",
          "text": [
            "Collecting tensorflow==2.18.0\n",
            "  Downloading tensorflow-2.18.0-cp312-cp312-manylinux_2_17_x86_64.manylinux2014_x86_64.whl.metadata (4.1 kB)\n",
            "Requirement already satisfied: absl-py>=1.0.0 in /usr/local/lib/python3.12/dist-packages (from tensorflow==2.18.0) (1.4.0)\n",
            "Requirement already satisfied: astunparse>=1.6.0 in /usr/local/lib/python3.12/dist-packages (from tensorflow==2.18.0) (1.6.3)\n",
            "Requirement already satisfied: flatbuffers>=24.3.25 in /usr/local/lib/python3.12/dist-packages (from tensorflow==2.18.0) (25.2.10)\n",
            "Requirement already satisfied: gast!=0.5.0,!=0.5.1,!=0.5.2,>=0.2.1 in /usr/local/lib/python3.12/dist-packages (from tensorflow==2.18.0) (0.6.0)\n",
            "Requirement already satisfied: google-pasta>=0.1.1 in /usr/local/lib/python3.12/dist-packages (from tensorflow==2.18.0) (0.2.0)\n",
            "Requirement already satisfied: libclang>=13.0.0 in /usr/local/lib/python3.12/dist-packages (from tensorflow==2.18.0) (18.1.1)\n",
            "Requirement already satisfied: opt-einsum>=2.3.2 in /usr/local/lib/python3.12/dist-packages (from tensorflow==2.18.0) (3.4.0)\n",
            "Requirement already satisfied: packaging in /usr/local/lib/python3.12/dist-packages (from tensorflow==2.18.0) (25.0)\n",
            "Requirement already satisfied: protobuf!=4.21.0,!=4.21.1,!=4.21.2,!=4.21.3,!=4.21.4,!=4.21.5,<6.0.0dev,>=3.20.3 in /usr/local/lib/python3.12/dist-packages (from tensorflow==2.18.0) (3.20.3)\n",
            "Requirement already satisfied: requests<3,>=2.21.0 in /usr/local/lib/python3.12/dist-packages (from tensorflow==2.18.0) (2.32.4)\n",
            "Requirement already satisfied: setuptools in /usr/local/lib/python3.12/dist-packages (from tensorflow==2.18.0) (75.2.0)\n",
            "Requirement already satisfied: six>=1.12.0 in /usr/local/lib/python3.12/dist-packages (from tensorflow==2.18.0) (1.17.0)\n",
            "Requirement already satisfied: termcolor>=1.1.0 in /usr/local/lib/python3.12/dist-packages (from tensorflow==2.18.0) (3.1.0)\n",
            "Requirement already satisfied: typing-extensions>=3.6.6 in /usr/local/lib/python3.12/dist-packages (from tensorflow==2.18.0) (4.15.0)\n",
            "Requirement already satisfied: wrapt>=1.11.0 in /usr/local/lib/python3.12/dist-packages (from tensorflow==2.18.0) (1.17.3)\n",
            "Requirement already satisfied: grpcio<2.0,>=1.24.3 in /usr/local/lib/python3.12/dist-packages (from tensorflow==2.18.0) (1.74.0)\n",
            "Collecting tensorboard<2.19,>=2.18 (from tensorflow==2.18.0)\n",
            "  Downloading tensorboard-2.18.0-py3-none-any.whl.metadata (1.6 kB)\n",
            "Requirement already satisfied: keras>=3.5.0 in /usr/local/lib/python3.12/dist-packages (from tensorflow==2.18.0) (3.10.0)\n",
            "Requirement already satisfied: numpy<2.1.0,>=1.26.0 in /usr/local/lib/python3.12/dist-packages (from tensorflow==2.18.0) (2.0.2)\n",
            "Requirement already satisfied: h5py>=3.11.0 in /usr/local/lib/python3.12/dist-packages (from tensorflow==2.18.0) (3.14.0)\n",
            "Collecting ml-dtypes<0.5.0,>=0.4.0 (from tensorflow==2.18.0)\n",
            "  Downloading ml_dtypes-0.4.1-cp312-cp312-manylinux_2_17_x86_64.manylinux2014_x86_64.whl.metadata (20 kB)\n",
            "Requirement already satisfied: wheel<1.0,>=0.23.0 in /usr/local/lib/python3.12/dist-packages (from astunparse>=1.6.0->tensorflow==2.18.0) (0.45.1)\n",
            "Requirement already satisfied: rich in /usr/local/lib/python3.12/dist-packages (from keras>=3.5.0->tensorflow==2.18.0) (13.9.4)\n",
            "Requirement already satisfied: namex in /usr/local/lib/python3.12/dist-packages (from keras>=3.5.0->tensorflow==2.18.0) (0.1.0)\n",
            "Requirement already satisfied: optree in /usr/local/lib/python3.12/dist-packages (from keras>=3.5.0->tensorflow==2.18.0) (0.17.0)\n",
            "Requirement already satisfied: charset_normalizer<4,>=2 in /usr/local/lib/python3.12/dist-packages (from requests<3,>=2.21.0->tensorflow==2.18.0) (3.4.3)\n",
            "Requirement already satisfied: idna<4,>=2.5 in /usr/local/lib/python3.12/dist-packages (from requests<3,>=2.21.0->tensorflow==2.18.0) (3.10)\n",
            "Requirement already satisfied: urllib3<3,>=1.21.1 in /usr/local/lib/python3.12/dist-packages (from requests<3,>=2.21.0->tensorflow==2.18.0) (2.5.0)\n",
            "Requirement already satisfied: certifi>=2017.4.17 in /usr/local/lib/python3.12/dist-packages (from requests<3,>=2.21.0->tensorflow==2.18.0) (2025.8.3)\n",
            "Requirement already satisfied: markdown>=2.6.8 in /usr/local/lib/python3.12/dist-packages (from tensorboard<2.19,>=2.18->tensorflow==2.18.0) (3.8.2)\n",
            "Requirement already satisfied: tensorboard-data-server<0.8.0,>=0.7.0 in /usr/local/lib/python3.12/dist-packages (from tensorboard<2.19,>=2.18->tensorflow==2.18.0) (0.7.2)\n",
            "Requirement already satisfied: werkzeug>=1.0.1 in /usr/local/lib/python3.12/dist-packages (from tensorboard<2.19,>=2.18->tensorflow==2.18.0) (3.1.3)\n",
            "Requirement already satisfied: MarkupSafe>=2.1.1 in /usr/local/lib/python3.12/dist-packages (from werkzeug>=1.0.1->tensorboard<2.19,>=2.18->tensorflow==2.18.0) (3.0.2)\n",
            "Requirement already satisfied: markdown-it-py>=2.2.0 in /usr/local/lib/python3.12/dist-packages (from rich->keras>=3.5.0->tensorflow==2.18.0) (4.0.0)\n",
            "Requirement already satisfied: pygments<3.0.0,>=2.13.0 in /usr/local/lib/python3.12/dist-packages (from rich->keras>=3.5.0->tensorflow==2.18.0) (2.19.2)\n",
            "Requirement already satisfied: mdurl~=0.1 in /usr/local/lib/python3.12/dist-packages (from markdown-it-py>=2.2.0->rich->keras>=3.5.0->tensorflow==2.18.0) (0.1.2)\n",
            "Downloading tensorflow-2.18.0-cp312-cp312-manylinux_2_17_x86_64.manylinux2014_x86_64.whl (615.5 MB)\n",
            "\u001b[2K   \u001b[90m━━━━━━━━━━━━━━━━━━━━━━━━━━━━━━━━━━━━━━━━\u001b[0m \u001b[32m615.5/615.5 MB\u001b[0m \u001b[31m1.3 MB/s\u001b[0m eta \u001b[36m0:00:00\u001b[0m\n",
            "\u001b[?25hDownloading ml_dtypes-0.4.1-cp312-cp312-manylinux_2_17_x86_64.manylinux2014_x86_64.whl (2.2 MB)\n",
            "\u001b[2K   \u001b[90m━━━━━━━━━━━━━━━━━━━━━━━━━━━━━━━━━━━━━━━━\u001b[0m \u001b[32m2.2/2.2 MB\u001b[0m \u001b[31m42.2 MB/s\u001b[0m eta \u001b[36m0:00:00\u001b[0m\n",
            "\u001b[?25hDownloading tensorboard-2.18.0-py3-none-any.whl (5.5 MB)\n",
            "\u001b[2K   \u001b[90m━━━━━━━━━━━━━━━━━━━━━━━━━━━━━━━━━━━━━━━━\u001b[0m \u001b[32m5.5/5.5 MB\u001b[0m \u001b[31m61.9 MB/s\u001b[0m eta \u001b[36m0:00:00\u001b[0m\n",
            "\u001b[?25hInstalling collected packages: ml-dtypes, tensorboard, tensorflow\n",
            "  Attempting uninstall: ml-dtypes\n",
            "    Found existing installation: ml_dtypes 0.5.3\n",
            "    Uninstalling ml_dtypes-0.5.3:\n",
            "      Successfully uninstalled ml_dtypes-0.5.3\n",
            "  Attempting uninstall: tensorboard\n",
            "    Found existing installation: tensorboard 2.19.0\n",
            "    Uninstalling tensorboard-2.19.0:\n",
            "      Successfully uninstalled tensorboard-2.19.0\n",
            "  Attempting uninstall: tensorflow\n",
            "    Found existing installation: tensorflow 2.19.0\n",
            "    Uninstalling tensorflow-2.19.0:\n",
            "      Successfully uninstalled tensorflow-2.19.0\n",
            "\u001b[31mERROR: pip's dependency resolver does not currently take into account all the packages that are installed. This behaviour is the source of the following dependency conflicts.\n",
            "tf-keras 2.19.0 requires tensorflow<2.20,>=2.19, but you have tensorflow 2.18.0 which is incompatible.\n",
            "tensorflow-text 2.19.0 requires tensorflow<2.20,>=2.19.0, but you have tensorflow 2.18.0 which is incompatible.\n",
            "tensorflow-decision-forests 1.12.0 requires tensorflow==2.19.0, but you have tensorflow 2.18.0 which is incompatible.\n",
            "tensorstore 0.1.76 requires ml_dtypes>=0.5.0, but you have ml-dtypes 0.4.1 which is incompatible.\u001b[0m\u001b[31m\n",
            "\u001b[0mSuccessfully installed ml-dtypes-0.4.1 tensorboard-2.18.0 tensorflow-2.18.0\n",
            "Requirement already satisfied: gymnasium in /usr/local/lib/python3.12/dist-packages (1.2.0)\n",
            "Collecting gym-anytrading\n",
            "  Downloading gym_anytrading-2.0.0-py3-none-any.whl.metadata (292 bytes)\n",
            "Requirement already satisfied: yfinance in /usr/local/lib/python3.12/dist-packages (0.2.65)\n",
            "Requirement already satisfied: xgboost in /usr/local/lib/python3.12/dist-packages (3.0.4)\n",
            "Requirement already satisfied: joblib in /usr/local/lib/python3.12/dist-packages (1.5.2)\n",
            "Collecting stable-baselines3[extra]\n",
            "  Downloading stable_baselines3-2.7.0-py3-none-any.whl.metadata (4.8 kB)\n",
            "Requirement already satisfied: numpy<3.0,>=1.20 in /usr/local/lib/python3.12/dist-packages (from stable-baselines3[extra]) (2.0.2)\n",
            "Requirement already satisfied: torch<3.0,>=2.3 in /usr/local/lib/python3.12/dist-packages (from stable-baselines3[extra]) (2.8.0+cu126)\n",
            "Requirement already satisfied: cloudpickle in /usr/local/lib/python3.12/dist-packages (from stable-baselines3[extra]) (3.1.1)\n",
            "Requirement already satisfied: pandas in /usr/local/lib/python3.12/dist-packages (from stable-baselines3[extra]) (2.2.2)\n",
            "Requirement already satisfied: matplotlib in /usr/local/lib/python3.12/dist-packages (from stable-baselines3[extra]) (3.10.0)\n",
            "Requirement already satisfied: opencv-python in /usr/local/lib/python3.12/dist-packages (from stable-baselines3[extra]) (4.12.0.88)\n",
            "Requirement already satisfied: pygame in /usr/local/lib/python3.12/dist-packages (from stable-baselines3[extra]) (2.6.1)\n",
            "Requirement already satisfied: tensorboard>=2.9.1 in /usr/local/lib/python3.12/dist-packages (from stable-baselines3[extra]) (2.18.0)\n",
            "Requirement already satisfied: psutil in /usr/local/lib/python3.12/dist-packages (from stable-baselines3[extra]) (5.9.5)\n",
            "Requirement already satisfied: tqdm in /usr/local/lib/python3.12/dist-packages (from stable-baselines3[extra]) (4.67.1)\n",
            "Requirement already satisfied: rich in /usr/local/lib/python3.12/dist-packages (from stable-baselines3[extra]) (13.9.4)\n",
            "Requirement already satisfied: ale-py>=0.9.0 in /usr/local/lib/python3.12/dist-packages (from stable-baselines3[extra]) (0.11.2)\n",
            "Requirement already satisfied: pillow in /usr/local/lib/python3.12/dist-packages (from stable-baselines3[extra]) (11.3.0)\n",
            "Requirement already satisfied: typing-extensions>=4.3.0 in /usr/local/lib/python3.12/dist-packages (from gymnasium) (4.15.0)\n",
            "Requirement already satisfied: farama-notifications>=0.0.1 in /usr/local/lib/python3.12/dist-packages (from gymnasium) (0.0.4)\n",
            "Requirement already satisfied: requests>=2.31 in /usr/local/lib/python3.12/dist-packages (from yfinance) (2.32.4)\n",
            "Requirement already satisfied: multitasking>=0.0.7 in /usr/local/lib/python3.12/dist-packages (from yfinance) (0.0.12)\n",
            "Requirement already satisfied: platformdirs>=2.0.0 in /usr/local/lib/python3.12/dist-packages (from yfinance) (4.4.0)\n",
            "Requirement already satisfied: pytz>=2022.5 in /usr/local/lib/python3.12/dist-packages (from yfinance) (2025.2)\n",
            "Requirement already satisfied: frozendict>=2.3.4 in /usr/local/lib/python3.12/dist-packages (from yfinance) (2.4.6)\n",
            "Requirement already satisfied: peewee>=3.16.2 in /usr/local/lib/python3.12/dist-packages (from yfinance) (3.18.2)\n",
            "Requirement already satisfied: beautifulsoup4>=4.11.1 in /usr/local/lib/python3.12/dist-packages (from yfinance) (4.13.5)\n",
            "Requirement already satisfied: curl_cffi>=0.7 in /usr/local/lib/python3.12/dist-packages (from yfinance) (0.13.0)\n",
            "Requirement already satisfied: protobuf>=3.19.0 in /usr/local/lib/python3.12/dist-packages (from yfinance) (3.20.3)\n",
            "Requirement already satisfied: websockets>=13.0 in /usr/local/lib/python3.12/dist-packages (from yfinance) (15.0.1)\n",
            "Requirement already satisfied: nvidia-nccl-cu12 in /usr/local/lib/python3.12/dist-packages (from xgboost) (2.27.3)\n",
            "Requirement already satisfied: scipy in /usr/local/lib/python3.12/dist-packages (from xgboost) (1.16.1)\n",
            "Requirement already satisfied: soupsieve>1.2 in /usr/local/lib/python3.12/dist-packages (from beautifulsoup4>=4.11.1->yfinance) (2.8)\n",
            "Requirement already satisfied: cffi>=1.12.0 in /usr/local/lib/python3.12/dist-packages (from curl_cffi>=0.7->yfinance) (1.17.1)\n",
            "Requirement already satisfied: certifi>=2024.2.2 in /usr/local/lib/python3.12/dist-packages (from curl_cffi>=0.7->yfinance) (2025.8.3)\n",
            "Requirement already satisfied: contourpy>=1.0.1 in /usr/local/lib/python3.12/dist-packages (from matplotlib->stable-baselines3[extra]) (1.3.3)\n",
            "Requirement already satisfied: cycler>=0.10 in /usr/local/lib/python3.12/dist-packages (from matplotlib->stable-baselines3[extra]) (0.12.1)\n",
            "Requirement already satisfied: fonttools>=4.22.0 in /usr/local/lib/python3.12/dist-packages (from matplotlib->stable-baselines3[extra]) (4.59.2)\n",
            "Requirement already satisfied: kiwisolver>=1.3.1 in /usr/local/lib/python3.12/dist-packages (from matplotlib->stable-baselines3[extra]) (1.4.9)\n",
            "Requirement already satisfied: packaging>=20.0 in /usr/local/lib/python3.12/dist-packages (from matplotlib->stable-baselines3[extra]) (25.0)\n",
            "Requirement already satisfied: pyparsing>=2.3.1 in /usr/local/lib/python3.12/dist-packages (from matplotlib->stable-baselines3[extra]) (3.2.3)\n",
            "Requirement already satisfied: python-dateutil>=2.7 in /usr/local/lib/python3.12/dist-packages (from matplotlib->stable-baselines3[extra]) (2.9.0.post0)\n",
            "Requirement already satisfied: tzdata>=2022.7 in /usr/local/lib/python3.12/dist-packages (from pandas->stable-baselines3[extra]) (2025.2)\n",
            "Requirement already satisfied: charset_normalizer<4,>=2 in /usr/local/lib/python3.12/dist-packages (from requests>=2.31->yfinance) (3.4.3)\n",
            "Requirement already satisfied: idna<4,>=2.5 in /usr/local/lib/python3.12/dist-packages (from requests>=2.31->yfinance) (3.10)\n",
            "Requirement already satisfied: urllib3<3,>=1.21.1 in /usr/local/lib/python3.12/dist-packages (from requests>=2.31->yfinance) (2.5.0)\n",
            "Requirement already satisfied: absl-py>=0.4 in /usr/local/lib/python3.12/dist-packages (from tensorboard>=2.9.1->stable-baselines3[extra]) (1.4.0)\n",
            "Requirement already satisfied: grpcio>=1.48.2 in /usr/local/lib/python3.12/dist-packages (from tensorboard>=2.9.1->stable-baselines3[extra]) (1.74.0)\n",
            "Requirement already satisfied: markdown>=2.6.8 in /usr/local/lib/python3.12/dist-packages (from tensorboard>=2.9.1->stable-baselines3[extra]) (3.8.2)\n",
            "Requirement already satisfied: setuptools>=41.0.0 in /usr/local/lib/python3.12/dist-packages (from tensorboard>=2.9.1->stable-baselines3[extra]) (75.2.0)\n",
            "Requirement already satisfied: six>1.9 in /usr/local/lib/python3.12/dist-packages (from tensorboard>=2.9.1->stable-baselines3[extra]) (1.17.0)\n",
            "Requirement already satisfied: tensorboard-data-server<0.8.0,>=0.7.0 in /usr/local/lib/python3.12/dist-packages (from tensorboard>=2.9.1->stable-baselines3[extra]) (0.7.2)\n",
            "Requirement already satisfied: werkzeug>=1.0.1 in /usr/local/lib/python3.12/dist-packages (from tensorboard>=2.9.1->stable-baselines3[extra]) (3.1.3)\n",
            "Requirement already satisfied: filelock in /usr/local/lib/python3.12/dist-packages (from torch<3.0,>=2.3->stable-baselines3[extra]) (3.19.1)\n",
            "Requirement already satisfied: sympy>=1.13.3 in /usr/local/lib/python3.12/dist-packages (from torch<3.0,>=2.3->stable-baselines3[extra]) (1.13.3)\n",
            "Requirement already satisfied: networkx in /usr/local/lib/python3.12/dist-packages (from torch<3.0,>=2.3->stable-baselines3[extra]) (3.5)\n",
            "Requirement already satisfied: jinja2 in /usr/local/lib/python3.12/dist-packages (from torch<3.0,>=2.3->stable-baselines3[extra]) (3.1.6)\n",
            "Requirement already satisfied: fsspec in /usr/local/lib/python3.12/dist-packages (from torch<3.0,>=2.3->stable-baselines3[extra]) (2025.3.0)\n",
            "Requirement already satisfied: nvidia-cuda-nvrtc-cu12==12.6.77 in /usr/local/lib/python3.12/dist-packages (from torch<3.0,>=2.3->stable-baselines3[extra]) (12.6.77)\n",
            "Requirement already satisfied: nvidia-cuda-runtime-cu12==12.6.77 in /usr/local/lib/python3.12/dist-packages (from torch<3.0,>=2.3->stable-baselines3[extra]) (12.6.77)\n",
            "Requirement already satisfied: nvidia-cuda-cupti-cu12==12.6.80 in /usr/local/lib/python3.12/dist-packages (from torch<3.0,>=2.3->stable-baselines3[extra]) (12.6.80)\n",
            "Requirement already satisfied: nvidia-cudnn-cu12==9.10.2.21 in /usr/local/lib/python3.12/dist-packages (from torch<3.0,>=2.3->stable-baselines3[extra]) (9.10.2.21)\n",
            "Requirement already satisfied: nvidia-cublas-cu12==12.6.4.1 in /usr/local/lib/python3.12/dist-packages (from torch<3.0,>=2.3->stable-baselines3[extra]) (12.6.4.1)\n",
            "Requirement already satisfied: nvidia-cufft-cu12==11.3.0.4 in /usr/local/lib/python3.12/dist-packages (from torch<3.0,>=2.3->stable-baselines3[extra]) (11.3.0.4)\n",
            "Requirement already satisfied: nvidia-curand-cu12==10.3.7.77 in /usr/local/lib/python3.12/dist-packages (from torch<3.0,>=2.3->stable-baselines3[extra]) (10.3.7.77)\n",
            "Requirement already satisfied: nvidia-cusolver-cu12==11.7.1.2 in /usr/local/lib/python3.12/dist-packages (from torch<3.0,>=2.3->stable-baselines3[extra]) (11.7.1.2)\n",
            "Requirement already satisfied: nvidia-cusparse-cu12==12.5.4.2 in /usr/local/lib/python3.12/dist-packages (from torch<3.0,>=2.3->stable-baselines3[extra]) (12.5.4.2)\n",
            "Requirement already satisfied: nvidia-cusparselt-cu12==0.7.1 in /usr/local/lib/python3.12/dist-packages (from torch<3.0,>=2.3->stable-baselines3[extra]) (0.7.1)\n",
            "Requirement already satisfied: nvidia-nvtx-cu12==12.6.77 in /usr/local/lib/python3.12/dist-packages (from torch<3.0,>=2.3->stable-baselines3[extra]) (12.6.77)\n",
            "Requirement already satisfied: nvidia-nvjitlink-cu12==12.6.85 in /usr/local/lib/python3.12/dist-packages (from torch<3.0,>=2.3->stable-baselines3[extra]) (12.6.85)\n",
            "Requirement already satisfied: nvidia-cufile-cu12==1.11.1.6 in /usr/local/lib/python3.12/dist-packages (from torch<3.0,>=2.3->stable-baselines3[extra]) (1.11.1.6)\n",
            "Requirement already satisfied: triton==3.4.0 in /usr/local/lib/python3.12/dist-packages (from torch<3.0,>=2.3->stable-baselines3[extra]) (3.4.0)\n",
            "Requirement already satisfied: markdown-it-py>=2.2.0 in /usr/local/lib/python3.12/dist-packages (from rich->stable-baselines3[extra]) (4.0.0)\n",
            "Requirement already satisfied: pygments<3.0.0,>=2.13.0 in /usr/local/lib/python3.12/dist-packages (from rich->stable-baselines3[extra]) (2.19.2)\n",
            "Requirement already satisfied: pycparser in /usr/local/lib/python3.12/dist-packages (from cffi>=1.12.0->curl_cffi>=0.7->yfinance) (2.22)\n",
            "Requirement already satisfied: mdurl~=0.1 in /usr/local/lib/python3.12/dist-packages (from markdown-it-py>=2.2.0->rich->stable-baselines3[extra]) (0.1.2)\n",
            "Requirement already satisfied: mpmath<1.4,>=1.1.0 in /usr/local/lib/python3.12/dist-packages (from sympy>=1.13.3->torch<3.0,>=2.3->stable-baselines3[extra]) (1.3.0)\n",
            "Requirement already satisfied: MarkupSafe>=2.1.1 in /usr/local/lib/python3.12/dist-packages (from werkzeug>=1.0.1->tensorboard>=2.9.1->stable-baselines3[extra]) (3.0.2)\n",
            "Downloading gym_anytrading-2.0.0-py3-none-any.whl (172 kB)\n",
            "\u001b[2K   \u001b[90m━━━━━━━━━━━━━━━━━━━━━━━━━━━━━━━━━━━━━━━━\u001b[0m \u001b[32m172.2/172.2 kB\u001b[0m \u001b[31m3.2 MB/s\u001b[0m eta \u001b[36m0:00:00\u001b[0m\n",
            "\u001b[?25hDownloading stable_baselines3-2.7.0-py3-none-any.whl (187 kB)\n",
            "\u001b[2K   \u001b[90m━━━━━━━━━━━━━━━━━━━━━━━━━━━━━━━━━━━━━━━━\u001b[0m \u001b[32m187.2/187.2 kB\u001b[0m \u001b[31m11.8 MB/s\u001b[0m eta \u001b[36m0:00:00\u001b[0m\n",
            "\u001b[?25hInstalling collected packages: gym-anytrading, stable-baselines3\n",
            "Successfully installed gym-anytrading-2.0.0 stable-baselines3-2.7.0\n",
            "Requirement already satisfied: matplotlib in /usr/local/lib/python3.12/dist-packages (3.10.0)\n",
            "Requirement already satisfied: scikit-learn in /usr/local/lib/python3.12/dist-packages (1.6.1)\n",
            "Requirement already satisfied: pandas in /usr/local/lib/python3.12/dist-packages (2.2.2)\n",
            "Collecting numba==0.61.0\n",
            "  Downloading numba-0.61.0-cp312-cp312-manylinux2014_x86_64.manylinux_2_17_x86_64.whl.metadata (2.8 kB)\n",
            "Collecting llvmlite<0.45,>=0.44.0dev0 (from numba==0.61.0)\n",
            "  Downloading llvmlite-0.44.0-cp312-cp312-manylinux_2_17_x86_64.manylinux2014_x86_64.whl.metadata (5.0 kB)\n",
            "Requirement already satisfied: numpy<2.2,>=1.24 in /usr/local/lib/python3.12/dist-packages (from numba==0.61.0) (2.0.2)\n",
            "Requirement already satisfied: contourpy>=1.0.1 in /usr/local/lib/python3.12/dist-packages (from matplotlib) (1.3.3)\n",
            "Requirement already satisfied: cycler>=0.10 in /usr/local/lib/python3.12/dist-packages (from matplotlib) (0.12.1)\n",
            "Requirement already satisfied: fonttools>=4.22.0 in /usr/local/lib/python3.12/dist-packages (from matplotlib) (4.59.2)\n",
            "Requirement already satisfied: kiwisolver>=1.3.1 in /usr/local/lib/python3.12/dist-packages (from matplotlib) (1.4.9)\n",
            "Requirement already satisfied: packaging>=20.0 in /usr/local/lib/python3.12/dist-packages (from matplotlib) (25.0)\n",
            "Requirement already satisfied: pillow>=8 in /usr/local/lib/python3.12/dist-packages (from matplotlib) (11.3.0)\n",
            "Requirement already satisfied: pyparsing>=2.3.1 in /usr/local/lib/python3.12/dist-packages (from matplotlib) (3.2.3)\n",
            "Requirement already satisfied: python-dateutil>=2.7 in /usr/local/lib/python3.12/dist-packages (from matplotlib) (2.9.0.post0)\n",
            "Requirement already satisfied: scipy>=1.6.0 in /usr/local/lib/python3.12/dist-packages (from scikit-learn) (1.16.1)\n",
            "Requirement already satisfied: joblib>=1.2.0 in /usr/local/lib/python3.12/dist-packages (from scikit-learn) (1.5.2)\n",
            "Requirement already satisfied: threadpoolctl>=3.1.0 in /usr/local/lib/python3.12/dist-packages (from scikit-learn) (3.6.0)\n",
            "Requirement already satisfied: pytz>=2020.1 in /usr/local/lib/python3.12/dist-packages (from pandas) (2025.2)\n",
            "Requirement already satisfied: tzdata>=2022.7 in /usr/local/lib/python3.12/dist-packages (from pandas) (2025.2)\n",
            "Requirement already satisfied: six>=1.5 in /usr/local/lib/python3.12/dist-packages (from python-dateutil>=2.7->matplotlib) (1.17.0)\n",
            "Downloading numba-0.61.0-cp312-cp312-manylinux2014_x86_64.manylinux_2_17_x86_64.whl (3.9 MB)\n",
            "\u001b[2K   \u001b[90m━━━━━━━━━━━━━━━━━━━━━━━━━━━━━━━━━━━━━━━━\u001b[0m \u001b[32m3.9/3.9 MB\u001b[0m \u001b[31m30.4 MB/s\u001b[0m eta \u001b[36m0:00:00\u001b[0m\n",
            "\u001b[?25hDownloading llvmlite-0.44.0-cp312-cp312-manylinux_2_17_x86_64.manylinux2014_x86_64.whl (42.4 MB)\n",
            "\u001b[2K   \u001b[90m━━━━━━━━━━━━━━━━━━━━━━━━━━━━━━━━━━━━━━━━\u001b[0m \u001b[32m42.4/42.4 MB\u001b[0m \u001b[31m16.3 MB/s\u001b[0m eta \u001b[36m0:00:00\u001b[0m\n",
            "\u001b[?25hInstalling collected packages: llvmlite, numba\n",
            "  Attempting uninstall: llvmlite\n",
            "    Found existing installation: llvmlite 0.43.0\n",
            "    Uninstalling llvmlite-0.43.0:\n",
            "      Successfully uninstalled llvmlite-0.43.0\n",
            "  Attempting uninstall: numba\n",
            "    Found existing installation: numba 0.60.0\n",
            "    Uninstalling numba-0.60.0:\n",
            "      Successfully uninstalled numba-0.60.0\n",
            "\u001b[31mERROR: pip's dependency resolver does not currently take into account all the packages that are installed. This behaviour is the source of the following dependency conflicts.\n",
            "distributed-ucxx-cu12 0.42.0 requires numba<0.61.0a0,>=0.59.1, but you have numba 0.61.0 which is incompatible.\n",
            "cudf-cu12 25.2.0 requires numba<0.61.0a0,>=0.59.1, but you have numba 0.61.0 which is incompatible.\n",
            "cuml-cu12 25.2.0 requires numba<0.61.0a0,>=0.59.1, but you have numba 0.61.0 which is incompatible.\n",
            "dask-cuda 25.2.0 requires numba<0.61.0a0,>=0.59.1, but you have numba 0.61.0 which is incompatible.\u001b[0m\u001b[31m\n",
            "\u001b[0mSuccessfully installed llvmlite-0.44.0 numba-0.61.0\n",
            "Looking in indexes: https://download.pytorch.org/whl/cu124\n",
            "Requirement already satisfied: torch in /usr/local/lib/python3.12/dist-packages (2.8.0+cu126)\n",
            "Requirement already satisfied: torchvision in /usr/local/lib/python3.12/dist-packages (0.23.0+cu126)\n",
            "Requirement already satisfied: torchaudio in /usr/local/lib/python3.12/dist-packages (2.8.0+cu126)\n",
            "Requirement already satisfied: filelock in /usr/local/lib/python3.12/dist-packages (from torch) (3.19.1)\n",
            "Requirement already satisfied: typing-extensions>=4.10.0 in /usr/local/lib/python3.12/dist-packages (from torch) (4.15.0)\n",
            "Requirement already satisfied: setuptools in /usr/local/lib/python3.12/dist-packages (from torch) (75.2.0)\n",
            "Requirement already satisfied: sympy>=1.13.3 in /usr/local/lib/python3.12/dist-packages (from torch) (1.13.3)\n",
            "Requirement already satisfied: networkx in /usr/local/lib/python3.12/dist-packages (from torch) (3.5)\n",
            "Requirement already satisfied: jinja2 in /usr/local/lib/python3.12/dist-packages (from torch) (3.1.6)\n",
            "Requirement already satisfied: fsspec in /usr/local/lib/python3.12/dist-packages (from torch) (2025.3.0)\n",
            "Requirement already satisfied: nvidia-cuda-nvrtc-cu12==12.6.77 in /usr/local/lib/python3.12/dist-packages (from torch) (12.6.77)\n",
            "Requirement already satisfied: nvidia-cuda-runtime-cu12==12.6.77 in /usr/local/lib/python3.12/dist-packages (from torch) (12.6.77)\n",
            "Requirement already satisfied: nvidia-cuda-cupti-cu12==12.6.80 in /usr/local/lib/python3.12/dist-packages (from torch) (12.6.80)\n",
            "Requirement already satisfied: nvidia-cudnn-cu12==9.10.2.21 in /usr/local/lib/python3.12/dist-packages (from torch) (9.10.2.21)\n",
            "Requirement already satisfied: nvidia-cublas-cu12==12.6.4.1 in /usr/local/lib/python3.12/dist-packages (from torch) (12.6.4.1)\n",
            "Requirement already satisfied: nvidia-cufft-cu12==11.3.0.4 in /usr/local/lib/python3.12/dist-packages (from torch) (11.3.0.4)\n",
            "Requirement already satisfied: nvidia-curand-cu12==10.3.7.77 in /usr/local/lib/python3.12/dist-packages (from torch) (10.3.7.77)\n",
            "Requirement already satisfied: nvidia-cusolver-cu12==11.7.1.2 in /usr/local/lib/python3.12/dist-packages (from torch) (11.7.1.2)\n",
            "Requirement already satisfied: nvidia-cusparse-cu12==12.5.4.2 in /usr/local/lib/python3.12/dist-packages (from torch) (12.5.4.2)\n",
            "Requirement already satisfied: nvidia-cusparselt-cu12==0.7.1 in /usr/local/lib/python3.12/dist-packages (from torch) (0.7.1)\n",
            "Requirement already satisfied: nvidia-nccl-cu12==2.27.3 in /usr/local/lib/python3.12/dist-packages (from torch) (2.27.3)\n",
            "Requirement already satisfied: nvidia-nvtx-cu12==12.6.77 in /usr/local/lib/python3.12/dist-packages (from torch) (12.6.77)\n",
            "Requirement already satisfied: nvidia-nvjitlink-cu12==12.6.85 in /usr/local/lib/python3.12/dist-packages (from torch) (12.6.85)\n",
            "Requirement already satisfied: nvidia-cufile-cu12==1.11.1.6 in /usr/local/lib/python3.12/dist-packages (from torch) (1.11.1.6)\n",
            "Requirement already satisfied: triton==3.4.0 in /usr/local/lib/python3.12/dist-packages (from torch) (3.4.0)\n",
            "Requirement already satisfied: numpy in /usr/local/lib/python3.12/dist-packages (from torchvision) (2.0.2)\n",
            "Requirement already satisfied: pillow!=8.3.*,>=5.3.0 in /usr/local/lib/python3.12/dist-packages (from torchvision) (11.3.0)\n",
            "Requirement already satisfied: mpmath<1.4,>=1.1.0 in /usr/local/lib/python3.12/dist-packages (from sympy>=1.13.3->torch) (1.3.0)\n",
            "Requirement already satisfied: MarkupSafe>=2.0 in /usr/local/lib/python3.12/dist-packages (from jinja2->torch) (3.0.2)\n"
          ]
        }
      ],
      "source": [
        "#Install TensorFlow (latest GPU-compatible version)\n",
        "!pip install tensorflow==2.18.0\n",
        "\n",
        "#Install Stable Baselines3 and Trading Libraries\n",
        "!pip install stable-baselines3[extra] gymnasium gym-anytrading yfinance xgboost joblib\n",
        "\n",
        "#Install Miscellaneous Libraries\n",
        "!pip install matplotlib scikit-learn pandas numba==0.61.0\n",
        "\n",
        "#Install PyTorch with GPU Support\n",
        "!pip install torch torchvision torchaudio --index-url https://download.pytorch.org/whl/cu124\n"
      ]
    },
    {
      "cell_type": "code",
      "execution_count": 2,
      "metadata": {
        "id": "ekPXAk5Qzjwl",
        "colab": {
          "base_uri": "https://localhost:8080/"
        },
        "outputId": "9403bbd3-3808-4175-9f59-fdcadc909b8d"
      },
      "outputs": [
        {
          "output_type": "stream",
          "name": "stdout",
          "text": [
            "Requirement already satisfied: tensorflow==2.18.0 in /usr/local/lib/python3.12/dist-packages (2.18.0)\n",
            "Requirement already satisfied: absl-py>=1.0.0 in /usr/local/lib/python3.12/dist-packages (from tensorflow==2.18.0) (1.4.0)\n",
            "Requirement already satisfied: astunparse>=1.6.0 in /usr/local/lib/python3.12/dist-packages (from tensorflow==2.18.0) (1.6.3)\n",
            "Requirement already satisfied: flatbuffers>=24.3.25 in /usr/local/lib/python3.12/dist-packages (from tensorflow==2.18.0) (25.2.10)\n",
            "Requirement already satisfied: gast!=0.5.0,!=0.5.1,!=0.5.2,>=0.2.1 in /usr/local/lib/python3.12/dist-packages (from tensorflow==2.18.0) (0.6.0)\n",
            "Requirement already satisfied: google-pasta>=0.1.1 in /usr/local/lib/python3.12/dist-packages (from tensorflow==2.18.0) (0.2.0)\n",
            "Requirement already satisfied: libclang>=13.0.0 in /usr/local/lib/python3.12/dist-packages (from tensorflow==2.18.0) (18.1.1)\n",
            "Requirement already satisfied: opt-einsum>=2.3.2 in /usr/local/lib/python3.12/dist-packages (from tensorflow==2.18.0) (3.4.0)\n",
            "Requirement already satisfied: packaging in /usr/local/lib/python3.12/dist-packages (from tensorflow==2.18.0) (25.0)\n",
            "Requirement already satisfied: protobuf!=4.21.0,!=4.21.1,!=4.21.2,!=4.21.3,!=4.21.4,!=4.21.5,<6.0.0dev,>=3.20.3 in /usr/local/lib/python3.12/dist-packages (from tensorflow==2.18.0) (3.20.3)\n",
            "Requirement already satisfied: requests<3,>=2.21.0 in /usr/local/lib/python3.12/dist-packages (from tensorflow==2.18.0) (2.32.4)\n",
            "Requirement already satisfied: setuptools in /usr/local/lib/python3.12/dist-packages (from tensorflow==2.18.0) (75.2.0)\n",
            "Requirement already satisfied: six>=1.12.0 in /usr/local/lib/python3.12/dist-packages (from tensorflow==2.18.0) (1.17.0)\n",
            "Requirement already satisfied: termcolor>=1.1.0 in /usr/local/lib/python3.12/dist-packages (from tensorflow==2.18.0) (3.1.0)\n",
            "Requirement already satisfied: typing-extensions>=3.6.6 in /usr/local/lib/python3.12/dist-packages (from tensorflow==2.18.0) (4.15.0)\n",
            "Requirement already satisfied: wrapt>=1.11.0 in /usr/local/lib/python3.12/dist-packages (from tensorflow==2.18.0) (1.17.3)\n",
            "Requirement already satisfied: grpcio<2.0,>=1.24.3 in /usr/local/lib/python3.12/dist-packages (from tensorflow==2.18.0) (1.74.0)\n",
            "Requirement already satisfied: tensorboard<2.19,>=2.18 in /usr/local/lib/python3.12/dist-packages (from tensorflow==2.18.0) (2.18.0)\n",
            "Requirement already satisfied: keras>=3.5.0 in /usr/local/lib/python3.12/dist-packages (from tensorflow==2.18.0) (3.10.0)\n",
            "Requirement already satisfied: numpy<2.1.0,>=1.26.0 in /usr/local/lib/python3.12/dist-packages (from tensorflow==2.18.0) (2.0.2)\n",
            "Requirement already satisfied: h5py>=3.11.0 in /usr/local/lib/python3.12/dist-packages (from tensorflow==2.18.0) (3.14.0)\n",
            "Requirement already satisfied: ml-dtypes<0.5.0,>=0.4.0 in /usr/local/lib/python3.12/dist-packages (from tensorflow==2.18.0) (0.4.1)\n",
            "Requirement already satisfied: wheel<1.0,>=0.23.0 in /usr/local/lib/python3.12/dist-packages (from astunparse>=1.6.0->tensorflow==2.18.0) (0.45.1)\n",
            "Requirement already satisfied: rich in /usr/local/lib/python3.12/dist-packages (from keras>=3.5.0->tensorflow==2.18.0) (13.9.4)\n",
            "Requirement already satisfied: namex in /usr/local/lib/python3.12/dist-packages (from keras>=3.5.0->tensorflow==2.18.0) (0.1.0)\n",
            "Requirement already satisfied: optree in /usr/local/lib/python3.12/dist-packages (from keras>=3.5.0->tensorflow==2.18.0) (0.17.0)\n",
            "Requirement already satisfied: charset_normalizer<4,>=2 in /usr/local/lib/python3.12/dist-packages (from requests<3,>=2.21.0->tensorflow==2.18.0) (3.4.3)\n",
            "Requirement already satisfied: idna<4,>=2.5 in /usr/local/lib/python3.12/dist-packages (from requests<3,>=2.21.0->tensorflow==2.18.0) (3.10)\n",
            "Requirement already satisfied: urllib3<3,>=1.21.1 in /usr/local/lib/python3.12/dist-packages (from requests<3,>=2.21.0->tensorflow==2.18.0) (2.5.0)\n",
            "Requirement already satisfied: certifi>=2017.4.17 in /usr/local/lib/python3.12/dist-packages (from requests<3,>=2.21.0->tensorflow==2.18.0) (2025.8.3)\n",
            "Requirement already satisfied: markdown>=2.6.8 in /usr/local/lib/python3.12/dist-packages (from tensorboard<2.19,>=2.18->tensorflow==2.18.0) (3.8.2)\n",
            "Requirement already satisfied: tensorboard-data-server<0.8.0,>=0.7.0 in /usr/local/lib/python3.12/dist-packages (from tensorboard<2.19,>=2.18->tensorflow==2.18.0) (0.7.2)\n",
            "Requirement already satisfied: werkzeug>=1.0.1 in /usr/local/lib/python3.12/dist-packages (from tensorboard<2.19,>=2.18->tensorflow==2.18.0) (3.1.3)\n",
            "Requirement already satisfied: MarkupSafe>=2.1.1 in /usr/local/lib/python3.12/dist-packages (from werkzeug>=1.0.1->tensorboard<2.19,>=2.18->tensorflow==2.18.0) (3.0.2)\n",
            "Requirement already satisfied: markdown-it-py>=2.2.0 in /usr/local/lib/python3.12/dist-packages (from rich->keras>=3.5.0->tensorflow==2.18.0) (4.0.0)\n",
            "Requirement already satisfied: pygments<3.0.0,>=2.13.0 in /usr/local/lib/python3.12/dist-packages (from rich->keras>=3.5.0->tensorflow==2.18.0) (2.19.2)\n",
            "Requirement already satisfied: mdurl~=0.1 in /usr/local/lib/python3.12/dist-packages (from markdown-it-py>=2.2.0->rich->keras>=3.5.0->tensorflow==2.18.0) (0.1.2)\n"
          ]
        }
      ],
      "source": [
        "#Install TensorFlow (latest GPU-compatible version)\n",
        "!pip install tensorflow==2.18.0\n",
        "\n",
        "#Immediately follow it with:\n",
        "import tensorflow as tf\n",
        "\n",
        "gpus = tf.config.list_physical_devices(\"GPU\")\n",
        "if gpus:\n",
        "    try:\n",
        "        for gpu in gpus:\n",
        "            tf.config.experimental.set_memory_growth(gpu, True)\n",
        "        print(\"TensorFlow GPU memory growth enabled\")\n",
        "    except RuntimeError as e:\n",
        "        print(f\"TensorFlow GPU memory config failed: {e}\")\n"
      ]
    },
    {
      "cell_type": "code",
      "source": [
        "!rm -rf /content/drive"
      ],
      "metadata": {
        "id": "yrANV-maV6v3"
      },
      "execution_count": 3,
      "outputs": []
    },
    {
      "cell_type": "code",
      "execution_count": 4,
      "metadata": {
        "id": "HvIozj1xt4qQ",
        "colab": {
          "base_uri": "https://localhost:8080/"
        },
        "outputId": "0d7c2e12-98c5-448b-b956-4f349a5a1075"
      },
      "outputs": [
        {
          "output_type": "stream",
          "name": "stdout",
          "text": [
            "Mounted at /content/drive\n",
            "2025-09-07 16:32:29,576 | INFO | download_fe | === START: download + feature build ===\n"
          ]
        },
        {
          "output_type": "stream",
          "name": "stderr",
          "text": [
            "INFO:download_fe:=== START: download + feature build ===\n"
          ]
        },
        {
          "output_type": "stream",
          "name": "stdout",
          "text": [
            "2025-09-07 16:32:29,582 | INFO | download_fe | [1/53] AAPL — downloading\n"
          ]
        },
        {
          "output_type": "stream",
          "name": "stderr",
          "text": [
            "INFO:download_fe:[1/53] AAPL — downloading\n"
          ]
        },
        {
          "output_type": "stream",
          "name": "stdout",
          "text": [
            "2025-09-07 16:32:29,584 | INFO | download_fe | [AAPL] Attempt 1: download(period=720d, interval=1h)\n"
          ]
        },
        {
          "output_type": "stream",
          "name": "stderr",
          "text": [
            "INFO:download_fe:[AAPL] Attempt 1: download(period=720d, interval=1h)\n"
          ]
        },
        {
          "output_type": "stream",
          "name": "stdout",
          "text": [
            "2025-09-07 16:32:30,528 | INFO | download_fe | [AAPL] rows=5012 2022-10-21 13:30:00 → 2025-09-05 19:30:00\n"
          ]
        },
        {
          "output_type": "stream",
          "name": "stderr",
          "text": [
            "INFO:download_fe:[AAPL] rows=5012 2022-10-21 13:30:00 → 2025-09-05 19:30:00\n"
          ]
        },
        {
          "output_type": "stream",
          "name": "stdout",
          "text": [
            "2025-09-07 16:32:30,715 | INFO | download_fe | [AAPL] features=5012 rows → ./sac_parity/data/AAPL.parquet\n"
          ]
        },
        {
          "output_type": "stream",
          "name": "stderr",
          "text": [
            "INFO:download_fe:[AAPL] features=5012 rows → ./sac_parity/data/AAPL.parquet\n"
          ]
        },
        {
          "output_type": "stream",
          "name": "stdout",
          "text": [
            "2025-09-07 16:32:31,186 | INFO | download_fe | [2/53] TSLA — downloading\n"
          ]
        },
        {
          "output_type": "stream",
          "name": "stderr",
          "text": [
            "INFO:download_fe:[2/53] TSLA — downloading\n"
          ]
        },
        {
          "output_type": "stream",
          "name": "stdout",
          "text": [
            "2025-09-07 16:32:31,188 | INFO | download_fe | [TSLA] Attempt 1: download(period=720d, interval=1h)\n"
          ]
        },
        {
          "output_type": "stream",
          "name": "stderr",
          "text": [
            "INFO:download_fe:[TSLA] Attempt 1: download(period=720d, interval=1h)\n"
          ]
        },
        {
          "output_type": "stream",
          "name": "stdout",
          "text": [
            "2025-09-07 16:32:31,643 | INFO | download_fe | [TSLA] rows=5012 2022-10-21 13:30:00 → 2025-09-05 19:30:00\n"
          ]
        },
        {
          "output_type": "stream",
          "name": "stderr",
          "text": [
            "INFO:download_fe:[TSLA] rows=5012 2022-10-21 13:30:00 → 2025-09-05 19:30:00\n"
          ]
        },
        {
          "output_type": "stream",
          "name": "stdout",
          "text": [
            "2025-09-07 16:32:31,722 | INFO | download_fe | [TSLA] features=5012 rows → ./sac_parity/data/TSLA.parquet\n"
          ]
        },
        {
          "output_type": "stream",
          "name": "stderr",
          "text": [
            "INFO:download_fe:[TSLA] features=5012 rows → ./sac_parity/data/TSLA.parquet\n"
          ]
        },
        {
          "output_type": "stream",
          "name": "stdout",
          "text": [
            "2025-09-07 16:32:32,192 | INFO | download_fe | [3/53] MSFT — downloading\n"
          ]
        },
        {
          "output_type": "stream",
          "name": "stderr",
          "text": [
            "INFO:download_fe:[3/53] MSFT — downloading\n"
          ]
        },
        {
          "output_type": "stream",
          "name": "stdout",
          "text": [
            "2025-09-07 16:32:32,195 | INFO | download_fe | [MSFT] Attempt 1: download(period=720d, interval=1h)\n"
          ]
        },
        {
          "output_type": "stream",
          "name": "stderr",
          "text": [
            "INFO:download_fe:[MSFT] Attempt 1: download(period=720d, interval=1h)\n"
          ]
        },
        {
          "output_type": "stream",
          "name": "stdout",
          "text": [
            "2025-09-07 16:32:32,763 | INFO | download_fe | [MSFT] rows=5012 2022-10-21 13:30:00 → 2025-09-05 19:30:00\n"
          ]
        },
        {
          "output_type": "stream",
          "name": "stderr",
          "text": [
            "INFO:download_fe:[MSFT] rows=5012 2022-10-21 13:30:00 → 2025-09-05 19:30:00\n"
          ]
        },
        {
          "output_type": "stream",
          "name": "stdout",
          "text": [
            "2025-09-07 16:32:32,847 | INFO | download_fe | [MSFT] features=5012 rows → ./sac_parity/data/MSFT.parquet\n"
          ]
        },
        {
          "output_type": "stream",
          "name": "stderr",
          "text": [
            "INFO:download_fe:[MSFT] features=5012 rows → ./sac_parity/data/MSFT.parquet\n"
          ]
        },
        {
          "output_type": "stream",
          "name": "stdout",
          "text": [
            "2025-09-07 16:32:33,311 | INFO | download_fe | [4/53] GOOGL — downloading\n"
          ]
        },
        {
          "output_type": "stream",
          "name": "stderr",
          "text": [
            "INFO:download_fe:[4/53] GOOGL — downloading\n"
          ]
        },
        {
          "output_type": "stream",
          "name": "stdout",
          "text": [
            "2025-09-07 16:32:33,313 | INFO | download_fe | [GOOGL] Attempt 1: download(period=720d, interval=1h)\n"
          ]
        },
        {
          "output_type": "stream",
          "name": "stderr",
          "text": [
            "INFO:download_fe:[GOOGL] Attempt 1: download(period=720d, interval=1h)\n"
          ]
        },
        {
          "output_type": "stream",
          "name": "stdout",
          "text": [
            "2025-09-07 16:32:33,765 | INFO | download_fe | [GOOGL] rows=5012 2022-10-21 13:30:00 → 2025-09-05 19:30:00\n"
          ]
        },
        {
          "output_type": "stream",
          "name": "stderr",
          "text": [
            "INFO:download_fe:[GOOGL] rows=5012 2022-10-21 13:30:00 → 2025-09-05 19:30:00\n"
          ]
        },
        {
          "output_type": "stream",
          "name": "stdout",
          "text": [
            "2025-09-07 16:32:33,833 | INFO | download_fe | [GOOGL] features=5012 rows → ./sac_parity/data/GOOGL.parquet\n"
          ]
        },
        {
          "output_type": "stream",
          "name": "stderr",
          "text": [
            "INFO:download_fe:[GOOGL] features=5012 rows → ./sac_parity/data/GOOGL.parquet\n"
          ]
        },
        {
          "output_type": "stream",
          "name": "stdout",
          "text": [
            "2025-09-07 16:32:34,298 | INFO | download_fe | [5/53] AMZN — downloading\n"
          ]
        },
        {
          "output_type": "stream",
          "name": "stderr",
          "text": [
            "INFO:download_fe:[5/53] AMZN — downloading\n"
          ]
        },
        {
          "output_type": "stream",
          "name": "stdout",
          "text": [
            "2025-09-07 16:32:34,300 | INFO | download_fe | [AMZN] Attempt 1: download(period=720d, interval=1h)\n"
          ]
        },
        {
          "output_type": "stream",
          "name": "stderr",
          "text": [
            "INFO:download_fe:[AMZN] Attempt 1: download(period=720d, interval=1h)\n"
          ]
        },
        {
          "output_type": "stream",
          "name": "stdout",
          "text": [
            "2025-09-07 16:32:34,816 | INFO | download_fe | [AMZN] rows=5012 2022-10-21 13:30:00 → 2025-09-05 19:30:00\n"
          ]
        },
        {
          "output_type": "stream",
          "name": "stderr",
          "text": [
            "INFO:download_fe:[AMZN] rows=5012 2022-10-21 13:30:00 → 2025-09-05 19:30:00\n"
          ]
        },
        {
          "output_type": "stream",
          "name": "stdout",
          "text": [
            "2025-09-07 16:32:34,932 | INFO | download_fe | [AMZN] features=5012 rows → ./sac_parity/data/AMZN.parquet\n"
          ]
        },
        {
          "output_type": "stream",
          "name": "stderr",
          "text": [
            "INFO:download_fe:[AMZN] features=5012 rows → ./sac_parity/data/AMZN.parquet\n"
          ]
        },
        {
          "output_type": "stream",
          "name": "stdout",
          "text": [
            "2025-09-07 16:32:35,458 | INFO | download_fe | [6/53] NVDA — downloading\n"
          ]
        },
        {
          "output_type": "stream",
          "name": "stderr",
          "text": [
            "INFO:download_fe:[6/53] NVDA — downloading\n"
          ]
        },
        {
          "output_type": "stream",
          "name": "stdout",
          "text": [
            "2025-09-07 16:32:35,461 | INFO | download_fe | [NVDA] Attempt 1: download(period=720d, interval=1h)\n"
          ]
        },
        {
          "output_type": "stream",
          "name": "stderr",
          "text": [
            "INFO:download_fe:[NVDA] Attempt 1: download(period=720d, interval=1h)\n"
          ]
        },
        {
          "output_type": "stream",
          "name": "stdout",
          "text": [
            "2025-09-07 16:32:36,476 | INFO | download_fe | [NVDA] rows=5012 2022-10-21 13:30:00 → 2025-09-05 19:30:00\n"
          ]
        },
        {
          "output_type": "stream",
          "name": "stderr",
          "text": [
            "INFO:download_fe:[NVDA] rows=5012 2022-10-21 13:30:00 → 2025-09-05 19:30:00\n"
          ]
        },
        {
          "output_type": "stream",
          "name": "stdout",
          "text": [
            "2025-09-07 16:32:36,545 | INFO | download_fe | [NVDA] features=5012 rows → ./sac_parity/data/NVDA.parquet\n"
          ]
        },
        {
          "output_type": "stream",
          "name": "stderr",
          "text": [
            "INFO:download_fe:[NVDA] features=5012 rows → ./sac_parity/data/NVDA.parquet\n"
          ]
        },
        {
          "output_type": "stream",
          "name": "stdout",
          "text": [
            "2025-09-07 16:32:37,011 | INFO | download_fe | [7/53] META — downloading\n"
          ]
        },
        {
          "output_type": "stream",
          "name": "stderr",
          "text": [
            "INFO:download_fe:[7/53] META — downloading\n"
          ]
        },
        {
          "output_type": "stream",
          "name": "stdout",
          "text": [
            "2025-09-07 16:32:37,012 | INFO | download_fe | [META] Attempt 1: download(period=720d, interval=1h)\n"
          ]
        },
        {
          "output_type": "stream",
          "name": "stderr",
          "text": [
            "INFO:download_fe:[META] Attempt 1: download(period=720d, interval=1h)\n"
          ]
        },
        {
          "output_type": "stream",
          "name": "stdout",
          "text": [
            "2025-09-07 16:32:37,519 | INFO | download_fe | [META] rows=5012 2022-10-21 13:30:00 → 2025-09-05 19:30:00\n"
          ]
        },
        {
          "output_type": "stream",
          "name": "stderr",
          "text": [
            "INFO:download_fe:[META] rows=5012 2022-10-21 13:30:00 → 2025-09-05 19:30:00\n"
          ]
        },
        {
          "output_type": "stream",
          "name": "stdout",
          "text": [
            "2025-09-07 16:32:37,588 | INFO | download_fe | [META] features=5012 rows → ./sac_parity/data/META.parquet\n"
          ]
        },
        {
          "output_type": "stream",
          "name": "stderr",
          "text": [
            "INFO:download_fe:[META] features=5012 rows → ./sac_parity/data/META.parquet\n"
          ]
        },
        {
          "output_type": "stream",
          "name": "stdout",
          "text": [
            "2025-09-07 16:32:38,051 | INFO | download_fe | [8/53] BRK-B — downloading\n"
          ]
        },
        {
          "output_type": "stream",
          "name": "stderr",
          "text": [
            "INFO:download_fe:[8/53] BRK-B — downloading\n"
          ]
        },
        {
          "output_type": "stream",
          "name": "stdout",
          "text": [
            "2025-09-07 16:32:38,053 | INFO | download_fe | [BRK-B] Attempt 1: download(period=720d, interval=1h)\n"
          ]
        },
        {
          "output_type": "stream",
          "name": "stderr",
          "text": [
            "INFO:download_fe:[BRK-B] Attempt 1: download(period=720d, interval=1h)\n"
          ]
        },
        {
          "output_type": "stream",
          "name": "stdout",
          "text": [
            "2025-09-07 16:32:38,457 | INFO | download_fe | [BRK-B] rows=5012 2022-10-21 13:30:00 → 2025-09-05 19:30:00\n"
          ]
        },
        {
          "output_type": "stream",
          "name": "stderr",
          "text": [
            "INFO:download_fe:[BRK-B] rows=5012 2022-10-21 13:30:00 → 2025-09-05 19:30:00\n"
          ]
        },
        {
          "output_type": "stream",
          "name": "stdout",
          "text": [
            "2025-09-07 16:32:38,528 | INFO | download_fe | [BRK-B] features=5012 rows → ./sac_parity/data/BRK-B.parquet\n"
          ]
        },
        {
          "output_type": "stream",
          "name": "stderr",
          "text": [
            "INFO:download_fe:[BRK-B] features=5012 rows → ./sac_parity/data/BRK-B.parquet\n"
          ]
        },
        {
          "output_type": "stream",
          "name": "stdout",
          "text": [
            "2025-09-07 16:32:38,994 | INFO | download_fe | [9/53] JPM — downloading\n"
          ]
        },
        {
          "output_type": "stream",
          "name": "stderr",
          "text": [
            "INFO:download_fe:[9/53] JPM — downloading\n"
          ]
        },
        {
          "output_type": "stream",
          "name": "stdout",
          "text": [
            "2025-09-07 16:32:38,995 | INFO | download_fe | [JPM] Attempt 1: download(period=720d, interval=1h)\n"
          ]
        },
        {
          "output_type": "stream",
          "name": "stderr",
          "text": [
            "INFO:download_fe:[JPM] Attempt 1: download(period=720d, interval=1h)\n"
          ]
        },
        {
          "output_type": "stream",
          "name": "stdout",
          "text": [
            "2025-09-07 16:32:39,653 | INFO | download_fe | [JPM] rows=5012 2022-10-21 13:30:00 → 2025-09-05 19:30:00\n"
          ]
        },
        {
          "output_type": "stream",
          "name": "stderr",
          "text": [
            "INFO:download_fe:[JPM] rows=5012 2022-10-21 13:30:00 → 2025-09-05 19:30:00\n"
          ]
        },
        {
          "output_type": "stream",
          "name": "stdout",
          "text": [
            "2025-09-07 16:32:39,746 | INFO | download_fe | [JPM] features=5012 rows → ./sac_parity/data/JPM.parquet\n"
          ]
        },
        {
          "output_type": "stream",
          "name": "stderr",
          "text": [
            "INFO:download_fe:[JPM] features=5012 rows → ./sac_parity/data/JPM.parquet\n"
          ]
        },
        {
          "output_type": "stream",
          "name": "stdout",
          "text": [
            "2025-09-07 16:32:40,275 | INFO | download_fe | [10/53] JNJ — downloading\n"
          ]
        },
        {
          "output_type": "stream",
          "name": "stderr",
          "text": [
            "INFO:download_fe:[10/53] JNJ — downloading\n"
          ]
        },
        {
          "output_type": "stream",
          "name": "stdout",
          "text": [
            "2025-09-07 16:32:40,277 | INFO | download_fe | [JNJ] Attempt 1: download(period=720d, interval=1h)\n"
          ]
        },
        {
          "output_type": "stream",
          "name": "stderr",
          "text": [
            "INFO:download_fe:[JNJ] Attempt 1: download(period=720d, interval=1h)\n"
          ]
        },
        {
          "output_type": "stream",
          "name": "stdout",
          "text": [
            "2025-09-07 16:32:41,084 | INFO | download_fe | [JNJ] rows=5012 2022-10-21 13:30:00 → 2025-09-05 19:30:00\n"
          ]
        },
        {
          "output_type": "stream",
          "name": "stderr",
          "text": [
            "INFO:download_fe:[JNJ] rows=5012 2022-10-21 13:30:00 → 2025-09-05 19:30:00\n"
          ]
        },
        {
          "output_type": "stream",
          "name": "stdout",
          "text": [
            "2025-09-07 16:32:41,201 | INFO | download_fe | [JNJ] features=5012 rows → ./sac_parity/data/JNJ.parquet\n"
          ]
        },
        {
          "output_type": "stream",
          "name": "stderr",
          "text": [
            "INFO:download_fe:[JNJ] features=5012 rows → ./sac_parity/data/JNJ.parquet\n"
          ]
        },
        {
          "output_type": "stream",
          "name": "stdout",
          "text": [
            "2025-09-07 16:32:41,741 | INFO | download_fe | [11/53] XOM — downloading\n"
          ]
        },
        {
          "output_type": "stream",
          "name": "stderr",
          "text": [
            "INFO:download_fe:[11/53] XOM — downloading\n"
          ]
        },
        {
          "output_type": "stream",
          "name": "stdout",
          "text": [
            "2025-09-07 16:32:41,743 | INFO | download_fe | [XOM] Attempt 1: download(period=720d, interval=1h)\n"
          ]
        },
        {
          "output_type": "stream",
          "name": "stderr",
          "text": [
            "INFO:download_fe:[XOM] Attempt 1: download(period=720d, interval=1h)\n"
          ]
        },
        {
          "output_type": "stream",
          "name": "stdout",
          "text": [
            "2025-09-07 16:32:42,415 | INFO | download_fe | [XOM] rows=5012 2022-10-21 13:30:00 → 2025-09-05 19:30:00\n"
          ]
        },
        {
          "output_type": "stream",
          "name": "stderr",
          "text": [
            "INFO:download_fe:[XOM] rows=5012 2022-10-21 13:30:00 → 2025-09-05 19:30:00\n"
          ]
        },
        {
          "output_type": "stream",
          "name": "stdout",
          "text": [
            "2025-09-07 16:32:42,483 | INFO | download_fe | [XOM] features=5012 rows → ./sac_parity/data/XOM.parquet\n"
          ]
        },
        {
          "output_type": "stream",
          "name": "stderr",
          "text": [
            "INFO:download_fe:[XOM] features=5012 rows → ./sac_parity/data/XOM.parquet\n"
          ]
        },
        {
          "output_type": "stream",
          "name": "stdout",
          "text": [
            "2025-09-07 16:32:42,949 | INFO | download_fe | [12/53] V — downloading\n"
          ]
        },
        {
          "output_type": "stream",
          "name": "stderr",
          "text": [
            "INFO:download_fe:[12/53] V — downloading\n"
          ]
        },
        {
          "output_type": "stream",
          "name": "stdout",
          "text": [
            "2025-09-07 16:32:42,951 | INFO | download_fe | [V] Attempt 1: download(period=720d, interval=1h)\n"
          ]
        },
        {
          "output_type": "stream",
          "name": "stderr",
          "text": [
            "INFO:download_fe:[V] Attempt 1: download(period=720d, interval=1h)\n"
          ]
        },
        {
          "output_type": "stream",
          "name": "stdout",
          "text": [
            "2025-09-07 16:32:43,496 | INFO | download_fe | [V] rows=5012 2022-10-21 13:30:00 → 2025-09-05 19:30:00\n"
          ]
        },
        {
          "output_type": "stream",
          "name": "stderr",
          "text": [
            "INFO:download_fe:[V] rows=5012 2022-10-21 13:30:00 → 2025-09-05 19:30:00\n"
          ]
        },
        {
          "output_type": "stream",
          "name": "stdout",
          "text": [
            "2025-09-07 16:32:43,565 | INFO | download_fe | [V] features=5012 rows → ./sac_parity/data/V.parquet\n"
          ]
        },
        {
          "output_type": "stream",
          "name": "stderr",
          "text": [
            "INFO:download_fe:[V] features=5012 rows → ./sac_parity/data/V.parquet\n"
          ]
        },
        {
          "output_type": "stream",
          "name": "stdout",
          "text": [
            "2025-09-07 16:32:44,030 | INFO | download_fe | [13/53] PG — downloading\n"
          ]
        },
        {
          "output_type": "stream",
          "name": "stderr",
          "text": [
            "INFO:download_fe:[13/53] PG — downloading\n"
          ]
        },
        {
          "output_type": "stream",
          "name": "stdout",
          "text": [
            "2025-09-07 16:32:44,032 | INFO | download_fe | [PG] Attempt 1: download(period=720d, interval=1h)\n"
          ]
        },
        {
          "output_type": "stream",
          "name": "stderr",
          "text": [
            "INFO:download_fe:[PG] Attempt 1: download(period=720d, interval=1h)\n"
          ]
        },
        {
          "output_type": "stream",
          "name": "stdout",
          "text": [
            "2025-09-07 16:32:44,716 | INFO | download_fe | [PG] rows=5012 2022-10-21 13:30:00 → 2025-09-05 19:30:00\n"
          ]
        },
        {
          "output_type": "stream",
          "name": "stderr",
          "text": [
            "INFO:download_fe:[PG] rows=5012 2022-10-21 13:30:00 → 2025-09-05 19:30:00\n"
          ]
        },
        {
          "output_type": "stream",
          "name": "stdout",
          "text": [
            "2025-09-07 16:32:44,789 | INFO | download_fe | [PG] features=5012 rows → ./sac_parity/data/PG.parquet\n"
          ]
        },
        {
          "output_type": "stream",
          "name": "stderr",
          "text": [
            "INFO:download_fe:[PG] features=5012 rows → ./sac_parity/data/PG.parquet\n"
          ]
        },
        {
          "output_type": "stream",
          "name": "stdout",
          "text": [
            "2025-09-07 16:32:45,253 | INFO | download_fe | [14/53] UNH — downloading\n"
          ]
        },
        {
          "output_type": "stream",
          "name": "stderr",
          "text": [
            "INFO:download_fe:[14/53] UNH — downloading\n"
          ]
        },
        {
          "output_type": "stream",
          "name": "stdout",
          "text": [
            "2025-09-07 16:32:45,255 | INFO | download_fe | [UNH] Attempt 1: download(period=720d, interval=1h)\n"
          ]
        },
        {
          "output_type": "stream",
          "name": "stderr",
          "text": [
            "INFO:download_fe:[UNH] Attempt 1: download(period=720d, interval=1h)\n"
          ]
        },
        {
          "output_type": "stream",
          "name": "stdout",
          "text": [
            "2025-09-07 16:32:45,835 | INFO | download_fe | [UNH] rows=5012 2022-10-21 13:30:00 → 2025-09-05 19:30:00\n"
          ]
        },
        {
          "output_type": "stream",
          "name": "stderr",
          "text": [
            "INFO:download_fe:[UNH] rows=5012 2022-10-21 13:30:00 → 2025-09-05 19:30:00\n"
          ]
        },
        {
          "output_type": "stream",
          "name": "stdout",
          "text": [
            "2025-09-07 16:32:45,905 | INFO | download_fe | [UNH] features=5012 rows → ./sac_parity/data/UNH.parquet\n"
          ]
        },
        {
          "output_type": "stream",
          "name": "stderr",
          "text": [
            "INFO:download_fe:[UNH] features=5012 rows → ./sac_parity/data/UNH.parquet\n"
          ]
        },
        {
          "output_type": "stream",
          "name": "stdout",
          "text": [
            "2025-09-07 16:32:46,374 | INFO | download_fe | [15/53] MA — downloading\n"
          ]
        },
        {
          "output_type": "stream",
          "name": "stderr",
          "text": [
            "INFO:download_fe:[15/53] MA — downloading\n"
          ]
        },
        {
          "output_type": "stream",
          "name": "stdout",
          "text": [
            "2025-09-07 16:32:46,376 | INFO | download_fe | [MA] Attempt 1: download(period=720d, interval=1h)\n"
          ]
        },
        {
          "output_type": "stream",
          "name": "stderr",
          "text": [
            "INFO:download_fe:[MA] Attempt 1: download(period=720d, interval=1h)\n"
          ]
        },
        {
          "output_type": "stream",
          "name": "stdout",
          "text": [
            "2025-09-07 16:32:46,951 | INFO | download_fe | [MA] rows=5012 2022-10-21 13:30:00 → 2025-09-05 19:30:00\n"
          ]
        },
        {
          "output_type": "stream",
          "name": "stderr",
          "text": [
            "INFO:download_fe:[MA] rows=5012 2022-10-21 13:30:00 → 2025-09-05 19:30:00\n"
          ]
        },
        {
          "output_type": "stream",
          "name": "stdout",
          "text": [
            "2025-09-07 16:32:47,022 | INFO | download_fe | [MA] features=5012 rows → ./sac_parity/data/MA.parquet\n"
          ]
        },
        {
          "output_type": "stream",
          "name": "stderr",
          "text": [
            "INFO:download_fe:[MA] features=5012 rows → ./sac_parity/data/MA.parquet\n"
          ]
        },
        {
          "output_type": "stream",
          "name": "stdout",
          "text": [
            "2025-09-07 16:32:47,494 | INFO | download_fe | [16/53] HD — downloading\n"
          ]
        },
        {
          "output_type": "stream",
          "name": "stderr",
          "text": [
            "INFO:download_fe:[16/53] HD — downloading\n"
          ]
        },
        {
          "output_type": "stream",
          "name": "stdout",
          "text": [
            "2025-09-07 16:32:47,495 | INFO | download_fe | [HD] Attempt 1: download(period=720d, interval=1h)\n"
          ]
        },
        {
          "output_type": "stream",
          "name": "stderr",
          "text": [
            "INFO:download_fe:[HD] Attempt 1: download(period=720d, interval=1h)\n"
          ]
        },
        {
          "output_type": "stream",
          "name": "stdout",
          "text": [
            "2025-09-07 16:32:48,102 | INFO | download_fe | [HD] rows=5012 2022-10-21 13:30:00 → 2025-09-05 19:30:00\n"
          ]
        },
        {
          "output_type": "stream",
          "name": "stderr",
          "text": [
            "INFO:download_fe:[HD] rows=5012 2022-10-21 13:30:00 → 2025-09-05 19:30:00\n"
          ]
        },
        {
          "output_type": "stream",
          "name": "stdout",
          "text": [
            "2025-09-07 16:32:48,176 | INFO | download_fe | [HD] features=5012 rows → ./sac_parity/data/HD.parquet\n"
          ]
        },
        {
          "output_type": "stream",
          "name": "stderr",
          "text": [
            "INFO:download_fe:[HD] features=5012 rows → ./sac_parity/data/HD.parquet\n"
          ]
        },
        {
          "output_type": "stream",
          "name": "stdout",
          "text": [
            "2025-09-07 16:32:48,704 | INFO | download_fe | [17/53] LLY — downloading\n"
          ]
        },
        {
          "output_type": "stream",
          "name": "stderr",
          "text": [
            "INFO:download_fe:[17/53] LLY — downloading\n"
          ]
        },
        {
          "output_type": "stream",
          "name": "stdout",
          "text": [
            "2025-09-07 16:32:48,706 | INFO | download_fe | [LLY] Attempt 1: download(period=720d, interval=1h)\n"
          ]
        },
        {
          "output_type": "stream",
          "name": "stderr",
          "text": [
            "INFO:download_fe:[LLY] Attempt 1: download(period=720d, interval=1h)\n"
          ]
        },
        {
          "output_type": "stream",
          "name": "stdout",
          "text": [
            "2025-09-07 16:32:49,278 | INFO | download_fe | [LLY] rows=5012 2022-10-21 13:30:00 → 2025-09-05 19:30:00\n"
          ]
        },
        {
          "output_type": "stream",
          "name": "stderr",
          "text": [
            "INFO:download_fe:[LLY] rows=5012 2022-10-21 13:30:00 → 2025-09-05 19:30:00\n"
          ]
        },
        {
          "output_type": "stream",
          "name": "stdout",
          "text": [
            "2025-09-07 16:32:49,352 | INFO | download_fe | [LLY] features=5012 rows → ./sac_parity/data/LLY.parquet\n"
          ]
        },
        {
          "output_type": "stream",
          "name": "stderr",
          "text": [
            "INFO:download_fe:[LLY] features=5012 rows → ./sac_parity/data/LLY.parquet\n"
          ]
        },
        {
          "output_type": "stream",
          "name": "stdout",
          "text": [
            "2025-09-07 16:32:49,834 | INFO | download_fe | [18/53] MRK — downloading\n"
          ]
        },
        {
          "output_type": "stream",
          "name": "stderr",
          "text": [
            "INFO:download_fe:[18/53] MRK — downloading\n"
          ]
        },
        {
          "output_type": "stream",
          "name": "stdout",
          "text": [
            "2025-09-07 16:32:49,836 | INFO | download_fe | [MRK] Attempt 1: download(period=720d, interval=1h)\n"
          ]
        },
        {
          "output_type": "stream",
          "name": "stderr",
          "text": [
            "INFO:download_fe:[MRK] Attempt 1: download(period=720d, interval=1h)\n"
          ]
        },
        {
          "output_type": "stream",
          "name": "stdout",
          "text": [
            "2025-09-07 16:32:50,489 | INFO | download_fe | [MRK] rows=5012 2022-10-21 13:30:00 → 2025-09-05 19:30:00\n"
          ]
        },
        {
          "output_type": "stream",
          "name": "stderr",
          "text": [
            "INFO:download_fe:[MRK] rows=5012 2022-10-21 13:30:00 → 2025-09-05 19:30:00\n"
          ]
        },
        {
          "output_type": "stream",
          "name": "stdout",
          "text": [
            "2025-09-07 16:32:50,557 | INFO | download_fe | [MRK] features=5012 rows → ./sac_parity/data/MRK.parquet\n"
          ]
        },
        {
          "output_type": "stream",
          "name": "stderr",
          "text": [
            "INFO:download_fe:[MRK] features=5012 rows → ./sac_parity/data/MRK.parquet\n"
          ]
        },
        {
          "output_type": "stream",
          "name": "stdout",
          "text": [
            "2025-09-07 16:32:51,026 | INFO | download_fe | [19/53] PEP — downloading\n"
          ]
        },
        {
          "output_type": "stream",
          "name": "stderr",
          "text": [
            "INFO:download_fe:[19/53] PEP — downloading\n"
          ]
        },
        {
          "output_type": "stream",
          "name": "stdout",
          "text": [
            "2025-09-07 16:32:51,028 | INFO | download_fe | [PEP] Attempt 1: download(period=720d, interval=1h)\n"
          ]
        },
        {
          "output_type": "stream",
          "name": "stderr",
          "text": [
            "INFO:download_fe:[PEP] Attempt 1: download(period=720d, interval=1h)\n"
          ]
        },
        {
          "output_type": "stream",
          "name": "stdout",
          "text": [
            "2025-09-07 16:32:51,697 | INFO | download_fe | [PEP] rows=5012 2022-10-21 13:30:00 → 2025-09-05 19:30:00\n"
          ]
        },
        {
          "output_type": "stream",
          "name": "stderr",
          "text": [
            "INFO:download_fe:[PEP] rows=5012 2022-10-21 13:30:00 → 2025-09-05 19:30:00\n"
          ]
        },
        {
          "output_type": "stream",
          "name": "stdout",
          "text": [
            "2025-09-07 16:32:51,770 | INFO | download_fe | [PEP] features=5012 rows → ./sac_parity/data/PEP.parquet\n"
          ]
        },
        {
          "output_type": "stream",
          "name": "stderr",
          "text": [
            "INFO:download_fe:[PEP] features=5012 rows → ./sac_parity/data/PEP.parquet\n"
          ]
        },
        {
          "output_type": "stream",
          "name": "stdout",
          "text": [
            "2025-09-07 16:32:52,250 | INFO | download_fe | [20/53] KO — downloading\n"
          ]
        },
        {
          "output_type": "stream",
          "name": "stderr",
          "text": [
            "INFO:download_fe:[20/53] KO — downloading\n"
          ]
        },
        {
          "output_type": "stream",
          "name": "stdout",
          "text": [
            "2025-09-07 16:32:52,252 | INFO | download_fe | [KO] Attempt 1: download(period=720d, interval=1h)\n"
          ]
        },
        {
          "output_type": "stream",
          "name": "stderr",
          "text": [
            "INFO:download_fe:[KO] Attempt 1: download(period=720d, interval=1h)\n"
          ]
        },
        {
          "output_type": "stream",
          "name": "stdout",
          "text": [
            "2025-09-07 16:32:53,075 | INFO | download_fe | [KO] rows=5012 2022-10-21 13:30:00 → 2025-09-05 19:30:00\n"
          ]
        },
        {
          "output_type": "stream",
          "name": "stderr",
          "text": [
            "INFO:download_fe:[KO] rows=5012 2022-10-21 13:30:00 → 2025-09-05 19:30:00\n"
          ]
        },
        {
          "output_type": "stream",
          "name": "stdout",
          "text": [
            "2025-09-07 16:32:53,176 | INFO | download_fe | [KO] features=5012 rows → ./sac_parity/data/KO.parquet\n"
          ]
        },
        {
          "output_type": "stream",
          "name": "stderr",
          "text": [
            "INFO:download_fe:[KO] features=5012 rows → ./sac_parity/data/KO.parquet\n"
          ]
        },
        {
          "output_type": "stream",
          "name": "stdout",
          "text": [
            "2025-09-07 16:32:53,707 | INFO | download_fe | [21/53] BAC — downloading\n"
          ]
        },
        {
          "output_type": "stream",
          "name": "stderr",
          "text": [
            "INFO:download_fe:[21/53] BAC — downloading\n"
          ]
        },
        {
          "output_type": "stream",
          "name": "stdout",
          "text": [
            "2025-09-07 16:32:53,709 | INFO | download_fe | [BAC] Attempt 1: download(period=720d, interval=1h)\n"
          ]
        },
        {
          "output_type": "stream",
          "name": "stderr",
          "text": [
            "INFO:download_fe:[BAC] Attempt 1: download(period=720d, interval=1h)\n"
          ]
        },
        {
          "output_type": "stream",
          "name": "stdout",
          "text": [
            "2025-09-07 16:32:54,436 | INFO | download_fe | [BAC] rows=5012 2022-10-21 13:30:00 → 2025-09-05 19:30:00\n"
          ]
        },
        {
          "output_type": "stream",
          "name": "stderr",
          "text": [
            "INFO:download_fe:[BAC] rows=5012 2022-10-21 13:30:00 → 2025-09-05 19:30:00\n"
          ]
        },
        {
          "output_type": "stream",
          "name": "stdout",
          "text": [
            "2025-09-07 16:32:54,538 | INFO | download_fe | [BAC] features=5012 rows → ./sac_parity/data/BAC.parquet\n"
          ]
        },
        {
          "output_type": "stream",
          "name": "stderr",
          "text": [
            "INFO:download_fe:[BAC] features=5012 rows → ./sac_parity/data/BAC.parquet\n"
          ]
        },
        {
          "output_type": "stream",
          "name": "stdout",
          "text": [
            "2025-09-07 16:32:55,110 | INFO | download_fe | [22/53] ABBV — downloading\n"
          ]
        },
        {
          "output_type": "stream",
          "name": "stderr",
          "text": [
            "INFO:download_fe:[22/53] ABBV — downloading\n"
          ]
        },
        {
          "output_type": "stream",
          "name": "stdout",
          "text": [
            "2025-09-07 16:32:55,112 | INFO | download_fe | [ABBV] Attempt 1: download(period=720d, interval=1h)\n"
          ]
        },
        {
          "output_type": "stream",
          "name": "stderr",
          "text": [
            "INFO:download_fe:[ABBV] Attempt 1: download(period=720d, interval=1h)\n"
          ]
        },
        {
          "output_type": "stream",
          "name": "stdout",
          "text": [
            "2025-09-07 16:32:55,615 | INFO | download_fe | [ABBV] rows=5012 2022-10-21 13:30:00 → 2025-09-05 19:30:00\n"
          ]
        },
        {
          "output_type": "stream",
          "name": "stderr",
          "text": [
            "INFO:download_fe:[ABBV] rows=5012 2022-10-21 13:30:00 → 2025-09-05 19:30:00\n"
          ]
        },
        {
          "output_type": "stream",
          "name": "stdout",
          "text": [
            "2025-09-07 16:32:55,705 | INFO | download_fe | [ABBV] features=5012 rows → ./sac_parity/data/ABBV.parquet\n"
          ]
        },
        {
          "output_type": "stream",
          "name": "stderr",
          "text": [
            "INFO:download_fe:[ABBV] features=5012 rows → ./sac_parity/data/ABBV.parquet\n"
          ]
        },
        {
          "output_type": "stream",
          "name": "stdout",
          "text": [
            "2025-09-07 16:32:56,174 | INFO | download_fe | [23/53] AVGO — downloading\n"
          ]
        },
        {
          "output_type": "stream",
          "name": "stderr",
          "text": [
            "INFO:download_fe:[23/53] AVGO — downloading\n"
          ]
        },
        {
          "output_type": "stream",
          "name": "stdout",
          "text": [
            "2025-09-07 16:32:56,176 | INFO | download_fe | [AVGO] Attempt 1: download(period=720d, interval=1h)\n"
          ]
        },
        {
          "output_type": "stream",
          "name": "stderr",
          "text": [
            "INFO:download_fe:[AVGO] Attempt 1: download(period=720d, interval=1h)\n"
          ]
        },
        {
          "output_type": "stream",
          "name": "stdout",
          "text": [
            "2025-09-07 16:32:57,287 | INFO | download_fe | [AVGO] rows=5012 2022-10-21 13:30:00 → 2025-09-05 19:30:00\n"
          ]
        },
        {
          "output_type": "stream",
          "name": "stderr",
          "text": [
            "INFO:download_fe:[AVGO] rows=5012 2022-10-21 13:30:00 → 2025-09-05 19:30:00\n"
          ]
        },
        {
          "output_type": "stream",
          "name": "stdout",
          "text": [
            "2025-09-07 16:32:57,356 | INFO | download_fe | [AVGO] features=5012 rows → ./sac_parity/data/AVGO.parquet\n"
          ]
        },
        {
          "output_type": "stream",
          "name": "stderr",
          "text": [
            "INFO:download_fe:[AVGO] features=5012 rows → ./sac_parity/data/AVGO.parquet\n"
          ]
        },
        {
          "output_type": "stream",
          "name": "stdout",
          "text": [
            "2025-09-07 16:32:57,820 | INFO | download_fe | [24/53] PFE — downloading\n"
          ]
        },
        {
          "output_type": "stream",
          "name": "stderr",
          "text": [
            "INFO:download_fe:[24/53] PFE — downloading\n"
          ]
        },
        {
          "output_type": "stream",
          "name": "stdout",
          "text": [
            "2025-09-07 16:32:57,821 | INFO | download_fe | [PFE] Attempt 1: download(period=720d, interval=1h)\n"
          ]
        },
        {
          "output_type": "stream",
          "name": "stderr",
          "text": [
            "INFO:download_fe:[PFE] Attempt 1: download(period=720d, interval=1h)\n"
          ]
        },
        {
          "output_type": "stream",
          "name": "stdout",
          "text": [
            "2025-09-07 16:32:58,357 | INFO | download_fe | [PFE] rows=5012 2022-10-21 13:30:00 → 2025-09-05 19:30:00\n"
          ]
        },
        {
          "output_type": "stream",
          "name": "stderr",
          "text": [
            "INFO:download_fe:[PFE] rows=5012 2022-10-21 13:30:00 → 2025-09-05 19:30:00\n"
          ]
        },
        {
          "output_type": "stream",
          "name": "stdout",
          "text": [
            "2025-09-07 16:32:58,425 | INFO | download_fe | [PFE] features=5012 rows → ./sac_parity/data/PFE.parquet\n"
          ]
        },
        {
          "output_type": "stream",
          "name": "stderr",
          "text": [
            "INFO:download_fe:[PFE] features=5012 rows → ./sac_parity/data/PFE.parquet\n"
          ]
        },
        {
          "output_type": "stream",
          "name": "stdout",
          "text": [
            "2025-09-07 16:32:58,892 | INFO | download_fe | [25/53] COST — downloading\n"
          ]
        },
        {
          "output_type": "stream",
          "name": "stderr",
          "text": [
            "INFO:download_fe:[25/53] COST — downloading\n"
          ]
        },
        {
          "output_type": "stream",
          "name": "stdout",
          "text": [
            "2025-09-07 16:32:58,893 | INFO | download_fe | [COST] Attempt 1: download(period=720d, interval=1h)\n"
          ]
        },
        {
          "output_type": "stream",
          "name": "stderr",
          "text": [
            "INFO:download_fe:[COST] Attempt 1: download(period=720d, interval=1h)\n"
          ]
        },
        {
          "output_type": "stream",
          "name": "stdout",
          "text": [
            "2025-09-07 16:32:59,452 | INFO | download_fe | [COST] rows=5012 2022-10-21 13:30:00 → 2025-09-05 19:30:00\n"
          ]
        },
        {
          "output_type": "stream",
          "name": "stderr",
          "text": [
            "INFO:download_fe:[COST] rows=5012 2022-10-21 13:30:00 → 2025-09-05 19:30:00\n"
          ]
        },
        {
          "output_type": "stream",
          "name": "stdout",
          "text": [
            "2025-09-07 16:32:59,521 | INFO | download_fe | [COST] features=5012 rows → ./sac_parity/data/COST.parquet\n"
          ]
        },
        {
          "output_type": "stream",
          "name": "stderr",
          "text": [
            "INFO:download_fe:[COST] features=5012 rows → ./sac_parity/data/COST.parquet\n"
          ]
        },
        {
          "output_type": "stream",
          "name": "stdout",
          "text": [
            "2025-09-07 16:32:59,998 | INFO | download_fe | [26/53] CSCO — downloading\n"
          ]
        },
        {
          "output_type": "stream",
          "name": "stderr",
          "text": [
            "INFO:download_fe:[26/53] CSCO — downloading\n"
          ]
        },
        {
          "output_type": "stream",
          "name": "stdout",
          "text": [
            "2025-09-07 16:33:00,002 | INFO | download_fe | [CSCO] Attempt 1: download(period=720d, interval=1h)\n"
          ]
        },
        {
          "output_type": "stream",
          "name": "stderr",
          "text": [
            "INFO:download_fe:[CSCO] Attempt 1: download(period=720d, interval=1h)\n"
          ]
        },
        {
          "output_type": "stream",
          "name": "stdout",
          "text": [
            "2025-09-07 16:33:00,597 | INFO | download_fe | [CSCO] rows=5012 2022-10-21 13:30:00 → 2025-09-05 19:30:00\n"
          ]
        },
        {
          "output_type": "stream",
          "name": "stderr",
          "text": [
            "INFO:download_fe:[CSCO] rows=5012 2022-10-21 13:30:00 → 2025-09-05 19:30:00\n"
          ]
        },
        {
          "output_type": "stream",
          "name": "stdout",
          "text": [
            "2025-09-07 16:33:00,669 | INFO | download_fe | [CSCO] features=5012 rows → ./sac_parity/data/CSCO.parquet\n"
          ]
        },
        {
          "output_type": "stream",
          "name": "stderr",
          "text": [
            "INFO:download_fe:[CSCO] features=5012 rows → ./sac_parity/data/CSCO.parquet\n"
          ]
        },
        {
          "output_type": "stream",
          "name": "stdout",
          "text": [
            "2025-09-07 16:33:01,155 | INFO | download_fe | [27/53] TMO — downloading\n"
          ]
        },
        {
          "output_type": "stream",
          "name": "stderr",
          "text": [
            "INFO:download_fe:[27/53] TMO — downloading\n"
          ]
        },
        {
          "output_type": "stream",
          "name": "stdout",
          "text": [
            "2025-09-07 16:33:01,157 | INFO | download_fe | [TMO] Attempt 1: download(period=720d, interval=1h)\n"
          ]
        },
        {
          "output_type": "stream",
          "name": "stderr",
          "text": [
            "INFO:download_fe:[TMO] Attempt 1: download(period=720d, interval=1h)\n"
          ]
        },
        {
          "output_type": "stream",
          "name": "stdout",
          "text": [
            "2025-09-07 16:33:01,692 | INFO | download_fe | [TMO] rows=5012 2022-10-21 13:30:00 → 2025-09-05 19:30:00\n"
          ]
        },
        {
          "output_type": "stream",
          "name": "stderr",
          "text": [
            "INFO:download_fe:[TMO] rows=5012 2022-10-21 13:30:00 → 2025-09-05 19:30:00\n"
          ]
        },
        {
          "output_type": "stream",
          "name": "stdout",
          "text": [
            "2025-09-07 16:33:01,765 | INFO | download_fe | [TMO] features=5012 rows → ./sac_parity/data/TMO.parquet\n"
          ]
        },
        {
          "output_type": "stream",
          "name": "stderr",
          "text": [
            "INFO:download_fe:[TMO] features=5012 rows → ./sac_parity/data/TMO.parquet\n"
          ]
        },
        {
          "output_type": "stream",
          "name": "stdout",
          "text": [
            "2025-09-07 16:33:02,250 | INFO | download_fe | [28/53] ABT — downloading\n"
          ]
        },
        {
          "output_type": "stream",
          "name": "stderr",
          "text": [
            "INFO:download_fe:[28/53] ABT — downloading\n"
          ]
        },
        {
          "output_type": "stream",
          "name": "stdout",
          "text": [
            "2025-09-07 16:33:02,252 | INFO | download_fe | [ABT] Attempt 1: download(period=720d, interval=1h)\n"
          ]
        },
        {
          "output_type": "stream",
          "name": "stderr",
          "text": [
            "INFO:download_fe:[ABT] Attempt 1: download(period=720d, interval=1h)\n"
          ]
        },
        {
          "output_type": "stream",
          "name": "stdout",
          "text": [
            "2025-09-07 16:33:02,793 | INFO | download_fe | [ABT] rows=5012 2022-10-21 13:30:00 → 2025-09-05 19:30:00\n"
          ]
        },
        {
          "output_type": "stream",
          "name": "stderr",
          "text": [
            "INFO:download_fe:[ABT] rows=5012 2022-10-21 13:30:00 → 2025-09-05 19:30:00\n"
          ]
        },
        {
          "output_type": "stream",
          "name": "stdout",
          "text": [
            "2025-09-07 16:33:02,862 | INFO | download_fe | [ABT] features=5012 rows → ./sac_parity/data/ABT.parquet\n"
          ]
        },
        {
          "output_type": "stream",
          "name": "stderr",
          "text": [
            "INFO:download_fe:[ABT] features=5012 rows → ./sac_parity/data/ABT.parquet\n"
          ]
        },
        {
          "output_type": "stream",
          "name": "stdout",
          "text": [
            "2025-09-07 16:33:03,345 | INFO | download_fe | [29/53] ACN — downloading\n"
          ]
        },
        {
          "output_type": "stream",
          "name": "stderr",
          "text": [
            "INFO:download_fe:[29/53] ACN — downloading\n"
          ]
        },
        {
          "output_type": "stream",
          "name": "stdout",
          "text": [
            "2025-09-07 16:33:03,347 | INFO | download_fe | [ACN] Attempt 1: download(period=720d, interval=1h)\n"
          ]
        },
        {
          "output_type": "stream",
          "name": "stderr",
          "text": [
            "INFO:download_fe:[ACN] Attempt 1: download(period=720d, interval=1h)\n"
          ]
        },
        {
          "output_type": "stream",
          "name": "stdout",
          "text": [
            "2025-09-07 16:33:03,878 | INFO | download_fe | [ACN] rows=5012 2022-10-21 13:30:00 → 2025-09-05 19:30:00\n"
          ]
        },
        {
          "output_type": "stream",
          "name": "stderr",
          "text": [
            "INFO:download_fe:[ACN] rows=5012 2022-10-21 13:30:00 → 2025-09-05 19:30:00\n"
          ]
        },
        {
          "output_type": "stream",
          "name": "stdout",
          "text": [
            "2025-09-07 16:33:03,963 | INFO | download_fe | [ACN] features=5012 rows → ./sac_parity/data/ACN.parquet\n"
          ]
        },
        {
          "output_type": "stream",
          "name": "stderr",
          "text": [
            "INFO:download_fe:[ACN] features=5012 rows → ./sac_parity/data/ACN.parquet\n"
          ]
        },
        {
          "output_type": "stream",
          "name": "stdout",
          "text": [
            "2025-09-07 16:33:04,440 | INFO | download_fe | [30/53] WMT — downloading\n"
          ]
        },
        {
          "output_type": "stream",
          "name": "stderr",
          "text": [
            "INFO:download_fe:[30/53] WMT — downloading\n"
          ]
        },
        {
          "output_type": "stream",
          "name": "stdout",
          "text": [
            "2025-09-07 16:33:04,442 | INFO | download_fe | [WMT] Attempt 1: download(period=720d, interval=1h)\n"
          ]
        },
        {
          "output_type": "stream",
          "name": "stderr",
          "text": [
            "INFO:download_fe:[WMT] Attempt 1: download(period=720d, interval=1h)\n"
          ]
        },
        {
          "output_type": "stream",
          "name": "stdout",
          "text": [
            "2025-09-07 16:33:05,743 | INFO | download_fe | [WMT] rows=5012 2022-10-21 13:30:00 → 2025-09-05 19:30:00\n"
          ]
        },
        {
          "output_type": "stream",
          "name": "stderr",
          "text": [
            "INFO:download_fe:[WMT] rows=5012 2022-10-21 13:30:00 → 2025-09-05 19:30:00\n"
          ]
        },
        {
          "output_type": "stream",
          "name": "stdout",
          "text": [
            "2025-09-07 16:33:05,841 | INFO | download_fe | [WMT] features=5012 rows → ./sac_parity/data/WMT.parquet\n"
          ]
        },
        {
          "output_type": "stream",
          "name": "stderr",
          "text": [
            "INFO:download_fe:[WMT] features=5012 rows → ./sac_parity/data/WMT.parquet\n"
          ]
        },
        {
          "output_type": "stream",
          "name": "stdout",
          "text": [
            "2025-09-07 16:33:06,404 | INFO | download_fe | [31/53] MCD — downloading\n"
          ]
        },
        {
          "output_type": "stream",
          "name": "stderr",
          "text": [
            "INFO:download_fe:[31/53] MCD — downloading\n"
          ]
        },
        {
          "output_type": "stream",
          "name": "stdout",
          "text": [
            "2025-09-07 16:33:06,410 | INFO | download_fe | [MCD] Attempt 1: download(period=720d, interval=1h)\n"
          ]
        },
        {
          "output_type": "stream",
          "name": "stderr",
          "text": [
            "INFO:download_fe:[MCD] Attempt 1: download(period=720d, interval=1h)\n"
          ]
        },
        {
          "output_type": "stream",
          "name": "stdout",
          "text": [
            "2025-09-07 16:33:07,241 | INFO | download_fe | [MCD] rows=5012 2022-10-21 13:30:00 → 2025-09-05 19:30:00\n"
          ]
        },
        {
          "output_type": "stream",
          "name": "stderr",
          "text": [
            "INFO:download_fe:[MCD] rows=5012 2022-10-21 13:30:00 → 2025-09-05 19:30:00\n"
          ]
        },
        {
          "output_type": "stream",
          "name": "stdout",
          "text": [
            "2025-09-07 16:33:07,342 | INFO | download_fe | [MCD] features=5012 rows → ./sac_parity/data/MCD.parquet\n"
          ]
        },
        {
          "output_type": "stream",
          "name": "stderr",
          "text": [
            "INFO:download_fe:[MCD] features=5012 rows → ./sac_parity/data/MCD.parquet\n"
          ]
        },
        {
          "output_type": "stream",
          "name": "stdout",
          "text": [
            "2025-09-07 16:33:07,890 | INFO | download_fe | [32/53] ADBE — downloading\n"
          ]
        },
        {
          "output_type": "stream",
          "name": "stderr",
          "text": [
            "INFO:download_fe:[32/53] ADBE — downloading\n"
          ]
        },
        {
          "output_type": "stream",
          "name": "stdout",
          "text": [
            "2025-09-07 16:33:07,893 | INFO | download_fe | [ADBE] Attempt 1: download(period=720d, interval=1h)\n"
          ]
        },
        {
          "output_type": "stream",
          "name": "stderr",
          "text": [
            "INFO:download_fe:[ADBE] Attempt 1: download(period=720d, interval=1h)\n"
          ]
        },
        {
          "output_type": "stream",
          "name": "stdout",
          "text": [
            "2025-09-07 16:33:08,340 | INFO | download_fe | [ADBE] rows=5012 2022-10-21 13:30:00 → 2025-09-05 19:30:00\n"
          ]
        },
        {
          "output_type": "stream",
          "name": "stderr",
          "text": [
            "INFO:download_fe:[ADBE] rows=5012 2022-10-21 13:30:00 → 2025-09-05 19:30:00\n"
          ]
        },
        {
          "output_type": "stream",
          "name": "stdout",
          "text": [
            "2025-09-07 16:33:08,410 | INFO | download_fe | [ADBE] features=5012 rows → ./sac_parity/data/ADBE.parquet\n"
          ]
        },
        {
          "output_type": "stream",
          "name": "stderr",
          "text": [
            "INFO:download_fe:[ADBE] features=5012 rows → ./sac_parity/data/ADBE.parquet\n"
          ]
        },
        {
          "output_type": "stream",
          "name": "stdout",
          "text": [
            "2025-09-07 16:33:08,883 | INFO | download_fe | [33/53] DHR — downloading\n"
          ]
        },
        {
          "output_type": "stream",
          "name": "stderr",
          "text": [
            "INFO:download_fe:[33/53] DHR — downloading\n"
          ]
        },
        {
          "output_type": "stream",
          "name": "stdout",
          "text": [
            "2025-09-07 16:33:08,885 | INFO | download_fe | [DHR] Attempt 1: download(period=720d, interval=1h)\n"
          ]
        },
        {
          "output_type": "stream",
          "name": "stderr",
          "text": [
            "INFO:download_fe:[DHR] Attempt 1: download(period=720d, interval=1h)\n"
          ]
        },
        {
          "output_type": "stream",
          "name": "stdout",
          "text": [
            "2025-09-07 16:33:09,690 | INFO | download_fe | [DHR] rows=5012 2022-10-21 13:30:00 → 2025-09-05 19:30:00\n"
          ]
        },
        {
          "output_type": "stream",
          "name": "stderr",
          "text": [
            "INFO:download_fe:[DHR] rows=5012 2022-10-21 13:30:00 → 2025-09-05 19:30:00\n"
          ]
        },
        {
          "output_type": "stream",
          "name": "stdout",
          "text": [
            "2025-09-07 16:33:09,762 | INFO | download_fe | [DHR] features=5012 rows → ./sac_parity/data/DHR.parquet\n"
          ]
        },
        {
          "output_type": "stream",
          "name": "stderr",
          "text": [
            "INFO:download_fe:[DHR] features=5012 rows → ./sac_parity/data/DHR.parquet\n"
          ]
        },
        {
          "output_type": "stream",
          "name": "stdout",
          "text": [
            "2025-09-07 16:33:10,240 | INFO | download_fe | [34/53] CRM — downloading\n"
          ]
        },
        {
          "output_type": "stream",
          "name": "stderr",
          "text": [
            "INFO:download_fe:[34/53] CRM — downloading\n"
          ]
        },
        {
          "output_type": "stream",
          "name": "stdout",
          "text": [
            "2025-09-07 16:33:10,242 | INFO | download_fe | [CRM] Attempt 1: download(period=720d, interval=1h)\n"
          ]
        },
        {
          "output_type": "stream",
          "name": "stderr",
          "text": [
            "INFO:download_fe:[CRM] Attempt 1: download(period=720d, interval=1h)\n"
          ]
        },
        {
          "output_type": "stream",
          "name": "stdout",
          "text": [
            "2025-09-07 16:33:10,827 | INFO | download_fe | [CRM] rows=5012 2022-10-21 13:30:00 → 2025-09-05 19:30:00\n"
          ]
        },
        {
          "output_type": "stream",
          "name": "stderr",
          "text": [
            "INFO:download_fe:[CRM] rows=5012 2022-10-21 13:30:00 → 2025-09-05 19:30:00\n"
          ]
        },
        {
          "output_type": "stream",
          "name": "stdout",
          "text": [
            "2025-09-07 16:33:10,907 | INFO | download_fe | [CRM] features=5012 rows → ./sac_parity/data/CRM.parquet\n"
          ]
        },
        {
          "output_type": "stream",
          "name": "stderr",
          "text": [
            "INFO:download_fe:[CRM] features=5012 rows → ./sac_parity/data/CRM.parquet\n"
          ]
        },
        {
          "output_type": "stream",
          "name": "stdout",
          "text": [
            "2025-09-07 16:33:11,383 | INFO | download_fe | [35/53] NKE — downloading\n"
          ]
        },
        {
          "output_type": "stream",
          "name": "stderr",
          "text": [
            "INFO:download_fe:[35/53] NKE — downloading\n"
          ]
        },
        {
          "output_type": "stream",
          "name": "stdout",
          "text": [
            "2025-09-07 16:33:11,386 | INFO | download_fe | [NKE] Attempt 1: download(period=720d, interval=1h)\n"
          ]
        },
        {
          "output_type": "stream",
          "name": "stderr",
          "text": [
            "INFO:download_fe:[NKE] Attempt 1: download(period=720d, interval=1h)\n"
          ]
        },
        {
          "output_type": "stream",
          "name": "stdout",
          "text": [
            "2025-09-07 16:33:12,000 | INFO | download_fe | [NKE] rows=5012 2022-10-21 13:30:00 → 2025-09-05 19:30:00\n"
          ]
        },
        {
          "output_type": "stream",
          "name": "stderr",
          "text": [
            "INFO:download_fe:[NKE] rows=5012 2022-10-21 13:30:00 → 2025-09-05 19:30:00\n"
          ]
        },
        {
          "output_type": "stream",
          "name": "stdout",
          "text": [
            "2025-09-07 16:33:12,071 | INFO | download_fe | [NKE] features=5012 rows → ./sac_parity/data/NKE.parquet\n"
          ]
        },
        {
          "output_type": "stream",
          "name": "stderr",
          "text": [
            "INFO:download_fe:[NKE] features=5012 rows → ./sac_parity/data/NKE.parquet\n"
          ]
        },
        {
          "output_type": "stream",
          "name": "stdout",
          "text": [
            "2025-09-07 16:33:12,551 | INFO | download_fe | [36/53] INTC — downloading\n"
          ]
        },
        {
          "output_type": "stream",
          "name": "stderr",
          "text": [
            "INFO:download_fe:[36/53] INTC — downloading\n"
          ]
        },
        {
          "output_type": "stream",
          "name": "stdout",
          "text": [
            "2025-09-07 16:33:12,553 | INFO | download_fe | [INTC] Attempt 1: download(period=720d, interval=1h)\n"
          ]
        },
        {
          "output_type": "stream",
          "name": "stderr",
          "text": [
            "INFO:download_fe:[INTC] Attempt 1: download(period=720d, interval=1h)\n"
          ]
        },
        {
          "output_type": "stream",
          "name": "stdout",
          "text": [
            "2025-09-07 16:33:13,098 | INFO | download_fe | [INTC] rows=5012 2022-10-21 13:30:00 → 2025-09-05 19:30:00\n"
          ]
        },
        {
          "output_type": "stream",
          "name": "stderr",
          "text": [
            "INFO:download_fe:[INTC] rows=5012 2022-10-21 13:30:00 → 2025-09-05 19:30:00\n"
          ]
        },
        {
          "output_type": "stream",
          "name": "stdout",
          "text": [
            "2025-09-07 16:33:13,176 | INFO | download_fe | [INTC] features=5012 rows → ./sac_parity/data/INTC.parquet\n"
          ]
        },
        {
          "output_type": "stream",
          "name": "stderr",
          "text": [
            "INFO:download_fe:[INTC] features=5012 rows → ./sac_parity/data/INTC.parquet\n"
          ]
        },
        {
          "output_type": "stream",
          "name": "stdout",
          "text": [
            "2025-09-07 16:33:13,661 | INFO | download_fe | [37/53] QCOM — downloading\n"
          ]
        },
        {
          "output_type": "stream",
          "name": "stderr",
          "text": [
            "INFO:download_fe:[37/53] QCOM — downloading\n"
          ]
        },
        {
          "output_type": "stream",
          "name": "stdout",
          "text": [
            "2025-09-07 16:33:13,663 | INFO | download_fe | [QCOM] Attempt 1: download(period=720d, interval=1h)\n"
          ]
        },
        {
          "output_type": "stream",
          "name": "stderr",
          "text": [
            "INFO:download_fe:[QCOM] Attempt 1: download(period=720d, interval=1h)\n"
          ]
        },
        {
          "output_type": "stream",
          "name": "stdout",
          "text": [
            "2025-09-07 16:33:14,233 | INFO | download_fe | [QCOM] rows=5012 2022-10-21 13:30:00 → 2025-09-05 19:30:00\n"
          ]
        },
        {
          "output_type": "stream",
          "name": "stderr",
          "text": [
            "INFO:download_fe:[QCOM] rows=5012 2022-10-21 13:30:00 → 2025-09-05 19:30:00\n"
          ]
        },
        {
          "output_type": "stream",
          "name": "stdout",
          "text": [
            "2025-09-07 16:33:14,303 | INFO | download_fe | [QCOM] features=5012 rows → ./sac_parity/data/QCOM.parquet\n"
          ]
        },
        {
          "output_type": "stream",
          "name": "stderr",
          "text": [
            "INFO:download_fe:[QCOM] features=5012 rows → ./sac_parity/data/QCOM.parquet\n"
          ]
        },
        {
          "output_type": "stream",
          "name": "stdout",
          "text": [
            "2025-09-07 16:33:14,781 | INFO | download_fe | [38/53] NEE — downloading\n"
          ]
        },
        {
          "output_type": "stream",
          "name": "stderr",
          "text": [
            "INFO:download_fe:[38/53] NEE — downloading\n"
          ]
        },
        {
          "output_type": "stream",
          "name": "stdout",
          "text": [
            "2025-09-07 16:33:14,784 | INFO | download_fe | [NEE] Attempt 1: download(period=720d, interval=1h)\n"
          ]
        },
        {
          "output_type": "stream",
          "name": "stderr",
          "text": [
            "INFO:download_fe:[NEE] Attempt 1: download(period=720d, interval=1h)\n"
          ]
        },
        {
          "output_type": "stream",
          "name": "stdout",
          "text": [
            "2025-09-07 16:33:15,361 | INFO | download_fe | [NEE] rows=5012 2022-10-21 13:30:00 → 2025-09-05 19:30:00\n"
          ]
        },
        {
          "output_type": "stream",
          "name": "stderr",
          "text": [
            "INFO:download_fe:[NEE] rows=5012 2022-10-21 13:30:00 → 2025-09-05 19:30:00\n"
          ]
        },
        {
          "output_type": "stream",
          "name": "stdout",
          "text": [
            "2025-09-07 16:33:15,446 | INFO | download_fe | [NEE] features=5012 rows → ./sac_parity/data/NEE.parquet\n"
          ]
        },
        {
          "output_type": "stream",
          "name": "stderr",
          "text": [
            "INFO:download_fe:[NEE] features=5012 rows → ./sac_parity/data/NEE.parquet\n"
          ]
        },
        {
          "output_type": "stream",
          "name": "stdout",
          "text": [
            "2025-09-07 16:33:15,925 | INFO | download_fe | [39/53] AMD — downloading\n"
          ]
        },
        {
          "output_type": "stream",
          "name": "stderr",
          "text": [
            "INFO:download_fe:[39/53] AMD — downloading\n"
          ]
        },
        {
          "output_type": "stream",
          "name": "stdout",
          "text": [
            "2025-09-07 16:33:15,927 | INFO | download_fe | [AMD] Attempt 1: download(period=720d, interval=1h)\n"
          ]
        },
        {
          "output_type": "stream",
          "name": "stderr",
          "text": [
            "INFO:download_fe:[AMD] Attempt 1: download(period=720d, interval=1h)\n"
          ]
        },
        {
          "output_type": "stream",
          "name": "stdout",
          "text": [
            "2025-09-07 16:33:16,339 | INFO | download_fe | [AMD] rows=5012 2022-10-21 13:30:00 → 2025-09-05 19:30:00\n"
          ]
        },
        {
          "output_type": "stream",
          "name": "stderr",
          "text": [
            "INFO:download_fe:[AMD] rows=5012 2022-10-21 13:30:00 → 2025-09-05 19:30:00\n"
          ]
        },
        {
          "output_type": "stream",
          "name": "stdout",
          "text": [
            "2025-09-07 16:33:16,408 | INFO | download_fe | [AMD] features=5012 rows → ./sac_parity/data/AMD.parquet\n"
          ]
        },
        {
          "output_type": "stream",
          "name": "stderr",
          "text": [
            "INFO:download_fe:[AMD] features=5012 rows → ./sac_parity/data/AMD.parquet\n"
          ]
        },
        {
          "output_type": "stream",
          "name": "stdout",
          "text": [
            "2025-09-07 16:33:16,893 | INFO | download_fe | [40/53] TXN — downloading\n"
          ]
        },
        {
          "output_type": "stream",
          "name": "stderr",
          "text": [
            "INFO:download_fe:[40/53] TXN — downloading\n"
          ]
        },
        {
          "output_type": "stream",
          "name": "stdout",
          "text": [
            "2025-09-07 16:33:16,895 | INFO | download_fe | [TXN] Attempt 1: download(period=720d, interval=1h)\n"
          ]
        },
        {
          "output_type": "stream",
          "name": "stderr",
          "text": [
            "INFO:download_fe:[TXN] Attempt 1: download(period=720d, interval=1h)\n"
          ]
        },
        {
          "output_type": "stream",
          "name": "stdout",
          "text": [
            "2025-09-07 16:33:17,561 | INFO | download_fe | [TXN] rows=5012 2022-10-21 13:30:00 → 2025-09-05 19:30:00\n"
          ]
        },
        {
          "output_type": "stream",
          "name": "stderr",
          "text": [
            "INFO:download_fe:[TXN] rows=5012 2022-10-21 13:30:00 → 2025-09-05 19:30:00\n"
          ]
        },
        {
          "output_type": "stream",
          "name": "stdout",
          "text": [
            "2025-09-07 16:33:17,632 | INFO | download_fe | [TXN] features=5012 rows → ./sac_parity/data/TXN.parquet\n"
          ]
        },
        {
          "output_type": "stream",
          "name": "stderr",
          "text": [
            "INFO:download_fe:[TXN] features=5012 rows → ./sac_parity/data/TXN.parquet\n"
          ]
        },
        {
          "output_type": "stream",
          "name": "stdout",
          "text": [
            "2025-09-07 16:33:18,109 | INFO | download_fe | [41/53] AMGN — downloading\n"
          ]
        },
        {
          "output_type": "stream",
          "name": "stderr",
          "text": [
            "INFO:download_fe:[41/53] AMGN — downloading\n"
          ]
        },
        {
          "output_type": "stream",
          "name": "stdout",
          "text": [
            "2025-09-07 16:33:18,111 | INFO | download_fe | [AMGN] Attempt 1: download(period=720d, interval=1h)\n"
          ]
        },
        {
          "output_type": "stream",
          "name": "stderr",
          "text": [
            "INFO:download_fe:[AMGN] Attempt 1: download(period=720d, interval=1h)\n"
          ]
        },
        {
          "output_type": "stream",
          "name": "stdout",
          "text": [
            "2025-09-07 16:33:18,730 | INFO | download_fe | [AMGN] rows=5012 2022-10-21 13:30:00 → 2025-09-05 19:30:00\n"
          ]
        },
        {
          "output_type": "stream",
          "name": "stderr",
          "text": [
            "INFO:download_fe:[AMGN] rows=5012 2022-10-21 13:30:00 → 2025-09-05 19:30:00\n"
          ]
        },
        {
          "output_type": "stream",
          "name": "stdout",
          "text": [
            "2025-09-07 16:33:18,827 | INFO | download_fe | [AMGN] features=5012 rows → ./sac_parity/data/AMGN.parquet\n"
          ]
        },
        {
          "output_type": "stream",
          "name": "stderr",
          "text": [
            "INFO:download_fe:[AMGN] features=5012 rows → ./sac_parity/data/AMGN.parquet\n"
          ]
        },
        {
          "output_type": "stream",
          "name": "stdout",
          "text": [
            "2025-09-07 16:33:19,361 | INFO | download_fe | [42/53] UPS — downloading\n"
          ]
        },
        {
          "output_type": "stream",
          "name": "stderr",
          "text": [
            "INFO:download_fe:[42/53] UPS — downloading\n"
          ]
        },
        {
          "output_type": "stream",
          "name": "stdout",
          "text": [
            "2025-09-07 16:33:19,362 | INFO | download_fe | [UPS] Attempt 1: download(period=720d, interval=1h)\n"
          ]
        },
        {
          "output_type": "stream",
          "name": "stderr",
          "text": [
            "INFO:download_fe:[UPS] Attempt 1: download(period=720d, interval=1h)\n"
          ]
        },
        {
          "output_type": "stream",
          "name": "stdout",
          "text": [
            "2025-09-07 16:33:20,004 | INFO | download_fe | [UPS] rows=5012 2022-10-21 13:30:00 → 2025-09-05 19:30:00\n"
          ]
        },
        {
          "output_type": "stream",
          "name": "stderr",
          "text": [
            "INFO:download_fe:[UPS] rows=5012 2022-10-21 13:30:00 → 2025-09-05 19:30:00\n"
          ]
        },
        {
          "output_type": "stream",
          "name": "stdout",
          "text": [
            "2025-09-07 16:33:20,095 | INFO | download_fe | [UPS] features=5012 rows → ./sac_parity/data/UPS.parquet\n"
          ]
        },
        {
          "output_type": "stream",
          "name": "stderr",
          "text": [
            "INFO:download_fe:[UPS] features=5012 rows → ./sac_parity/data/UPS.parquet\n"
          ]
        },
        {
          "output_type": "stream",
          "name": "stdout",
          "text": [
            "2025-09-07 16:33:20,629 | INFO | download_fe | [43/53] LIN — downloading\n"
          ]
        },
        {
          "output_type": "stream",
          "name": "stderr",
          "text": [
            "INFO:download_fe:[43/53] LIN — downloading\n"
          ]
        },
        {
          "output_type": "stream",
          "name": "stdout",
          "text": [
            "2025-09-07 16:33:20,631 | INFO | download_fe | [LIN] Attempt 1: download(period=720d, interval=1h)\n"
          ]
        },
        {
          "output_type": "stream",
          "name": "stderr",
          "text": [
            "INFO:download_fe:[LIN] Attempt 1: download(period=720d, interval=1h)\n"
          ]
        },
        {
          "output_type": "stream",
          "name": "stdout",
          "text": [
            "2025-09-07 16:33:21,407 | INFO | download_fe | [LIN] rows=5012 2022-10-21 13:30:00 → 2025-09-05 19:30:00\n"
          ]
        },
        {
          "output_type": "stream",
          "name": "stderr",
          "text": [
            "INFO:download_fe:[LIN] rows=5012 2022-10-21 13:30:00 → 2025-09-05 19:30:00\n"
          ]
        },
        {
          "output_type": "stream",
          "name": "stdout",
          "text": [
            "2025-09-07 16:33:21,477 | INFO | download_fe | [LIN] features=5012 rows → ./sac_parity/data/LIN.parquet\n"
          ]
        },
        {
          "output_type": "stream",
          "name": "stderr",
          "text": [
            "INFO:download_fe:[LIN] features=5012 rows → ./sac_parity/data/LIN.parquet\n"
          ]
        },
        {
          "output_type": "stream",
          "name": "stdout",
          "text": [
            "2025-09-07 16:33:21,962 | INFO | download_fe | [44/53] PM — downloading\n"
          ]
        },
        {
          "output_type": "stream",
          "name": "stderr",
          "text": [
            "INFO:download_fe:[44/53] PM — downloading\n"
          ]
        },
        {
          "output_type": "stream",
          "name": "stdout",
          "text": [
            "2025-09-07 16:33:21,964 | INFO | download_fe | [PM] Attempt 1: download(period=720d, interval=1h)\n"
          ]
        },
        {
          "output_type": "stream",
          "name": "stderr",
          "text": [
            "INFO:download_fe:[PM] Attempt 1: download(period=720d, interval=1h)\n"
          ]
        },
        {
          "output_type": "stream",
          "name": "stdout",
          "text": [
            "2025-09-07 16:33:22,528 | INFO | download_fe | [PM] rows=5012 2022-10-21 13:30:00 → 2025-09-05 19:30:00\n"
          ]
        },
        {
          "output_type": "stream",
          "name": "stderr",
          "text": [
            "INFO:download_fe:[PM] rows=5012 2022-10-21 13:30:00 → 2025-09-05 19:30:00\n"
          ]
        },
        {
          "output_type": "stream",
          "name": "stdout",
          "text": [
            "2025-09-07 16:33:22,597 | INFO | download_fe | [PM] features=5012 rows → ./sac_parity/data/PM.parquet\n"
          ]
        },
        {
          "output_type": "stream",
          "name": "stderr",
          "text": [
            "INFO:download_fe:[PM] features=5012 rows → ./sac_parity/data/PM.parquet\n"
          ]
        },
        {
          "output_type": "stream",
          "name": "stdout",
          "text": [
            "2025-09-07 16:33:23,086 | INFO | download_fe | [45/53] UNP — downloading\n"
          ]
        },
        {
          "output_type": "stream",
          "name": "stderr",
          "text": [
            "INFO:download_fe:[45/53] UNP — downloading\n"
          ]
        },
        {
          "output_type": "stream",
          "name": "stdout",
          "text": [
            "2025-09-07 16:33:23,089 | INFO | download_fe | [UNP] Attempt 1: download(period=720d, interval=1h)\n"
          ]
        },
        {
          "output_type": "stream",
          "name": "stderr",
          "text": [
            "INFO:download_fe:[UNP] Attempt 1: download(period=720d, interval=1h)\n"
          ]
        },
        {
          "output_type": "stream",
          "name": "stdout",
          "text": [
            "2025-09-07 16:33:23,653 | INFO | download_fe | [UNP] rows=5012 2022-10-21 13:30:00 → 2025-09-05 19:30:00\n"
          ]
        },
        {
          "output_type": "stream",
          "name": "stderr",
          "text": [
            "INFO:download_fe:[UNP] rows=5012 2022-10-21 13:30:00 → 2025-09-05 19:30:00\n"
          ]
        },
        {
          "output_type": "stream",
          "name": "stdout",
          "text": [
            "2025-09-07 16:33:23,722 | INFO | download_fe | [UNP] features=5012 rows → ./sac_parity/data/UNP.parquet\n"
          ]
        },
        {
          "output_type": "stream",
          "name": "stderr",
          "text": [
            "INFO:download_fe:[UNP] features=5012 rows → ./sac_parity/data/UNP.parquet\n"
          ]
        },
        {
          "output_type": "stream",
          "name": "stdout",
          "text": [
            "2025-09-07 16:33:24,213 | INFO | download_fe | [46/53] BMY — downloading\n"
          ]
        },
        {
          "output_type": "stream",
          "name": "stderr",
          "text": [
            "INFO:download_fe:[46/53] BMY — downloading\n"
          ]
        },
        {
          "output_type": "stream",
          "name": "stdout",
          "text": [
            "2025-09-07 16:33:24,215 | INFO | download_fe | [BMY] Attempt 1: download(period=720d, interval=1h)\n"
          ]
        },
        {
          "output_type": "stream",
          "name": "stderr",
          "text": [
            "INFO:download_fe:[BMY] Attempt 1: download(period=720d, interval=1h)\n"
          ]
        },
        {
          "output_type": "stream",
          "name": "stdout",
          "text": [
            "2025-09-07 16:33:24,875 | INFO | download_fe | [BMY] rows=5012 2022-10-21 13:30:00 → 2025-09-05 19:30:00\n"
          ]
        },
        {
          "output_type": "stream",
          "name": "stderr",
          "text": [
            "INFO:download_fe:[BMY] rows=5012 2022-10-21 13:30:00 → 2025-09-05 19:30:00\n"
          ]
        },
        {
          "output_type": "stream",
          "name": "stdout",
          "text": [
            "2025-09-07 16:33:24,946 | INFO | download_fe | [BMY] features=5012 rows → ./sac_parity/data/BMY.parquet\n"
          ]
        },
        {
          "output_type": "stream",
          "name": "stderr",
          "text": [
            "INFO:download_fe:[BMY] features=5012 rows → ./sac_parity/data/BMY.parquet\n"
          ]
        },
        {
          "output_type": "stream",
          "name": "stdout",
          "text": [
            "2025-09-07 16:33:25,422 | INFO | download_fe | [47/53] LOW — downloading\n"
          ]
        },
        {
          "output_type": "stream",
          "name": "stderr",
          "text": [
            "INFO:download_fe:[47/53] LOW — downloading\n"
          ]
        },
        {
          "output_type": "stream",
          "name": "stdout",
          "text": [
            "2025-09-07 16:33:25,424 | INFO | download_fe | [LOW] Attempt 1: download(period=720d, interval=1h)\n"
          ]
        },
        {
          "output_type": "stream",
          "name": "stderr",
          "text": [
            "INFO:download_fe:[LOW] Attempt 1: download(period=720d, interval=1h)\n"
          ]
        },
        {
          "output_type": "stream",
          "name": "stdout",
          "text": [
            "2025-09-07 16:33:25,973 | INFO | download_fe | [LOW] rows=5012 2022-10-21 13:30:00 → 2025-09-05 19:30:00\n"
          ]
        },
        {
          "output_type": "stream",
          "name": "stderr",
          "text": [
            "INFO:download_fe:[LOW] rows=5012 2022-10-21 13:30:00 → 2025-09-05 19:30:00\n"
          ]
        },
        {
          "output_type": "stream",
          "name": "stdout",
          "text": [
            "2025-09-07 16:33:26,041 | INFO | download_fe | [LOW] features=5012 rows → ./sac_parity/data/LOW.parquet\n"
          ]
        },
        {
          "output_type": "stream",
          "name": "stderr",
          "text": [
            "INFO:download_fe:[LOW] features=5012 rows → ./sac_parity/data/LOW.parquet\n"
          ]
        },
        {
          "output_type": "stream",
          "name": "stdout",
          "text": [
            "2025-09-07 16:33:26,517 | INFO | download_fe | [48/53] RTX — downloading\n"
          ]
        },
        {
          "output_type": "stream",
          "name": "stderr",
          "text": [
            "INFO:download_fe:[48/53] RTX — downloading\n"
          ]
        },
        {
          "output_type": "stream",
          "name": "stdout",
          "text": [
            "2025-09-07 16:33:26,519 | INFO | download_fe | [RTX] Attempt 1: download(period=720d, interval=1h)\n"
          ]
        },
        {
          "output_type": "stream",
          "name": "stderr",
          "text": [
            "INFO:download_fe:[RTX] Attempt 1: download(period=720d, interval=1h)\n"
          ]
        },
        {
          "output_type": "stream",
          "name": "stdout",
          "text": [
            "2025-09-07 16:33:27,191 | INFO | download_fe | [RTX] rows=5012 2022-10-21 13:30:00 → 2025-09-05 19:30:00\n"
          ]
        },
        {
          "output_type": "stream",
          "name": "stderr",
          "text": [
            "INFO:download_fe:[RTX] rows=5012 2022-10-21 13:30:00 → 2025-09-05 19:30:00\n"
          ]
        },
        {
          "output_type": "stream",
          "name": "stdout",
          "text": [
            "2025-09-07 16:33:27,261 | INFO | download_fe | [RTX] features=5012 rows → ./sac_parity/data/RTX.parquet\n"
          ]
        },
        {
          "output_type": "stream",
          "name": "stderr",
          "text": [
            "INFO:download_fe:[RTX] features=5012 rows → ./sac_parity/data/RTX.parquet\n"
          ]
        },
        {
          "output_type": "stream",
          "name": "stdout",
          "text": [
            "2025-09-07 16:33:27,734 | INFO | download_fe | [49/53] CVX — downloading\n"
          ]
        },
        {
          "output_type": "stream",
          "name": "stderr",
          "text": [
            "INFO:download_fe:[49/53] CVX — downloading\n"
          ]
        },
        {
          "output_type": "stream",
          "name": "stdout",
          "text": [
            "2025-09-07 16:33:27,736 | INFO | download_fe | [CVX] Attempt 1: download(period=720d, interval=1h)\n"
          ]
        },
        {
          "output_type": "stream",
          "name": "stderr",
          "text": [
            "INFO:download_fe:[CVX] Attempt 1: download(period=720d, interval=1h)\n"
          ]
        },
        {
          "output_type": "stream",
          "name": "stdout",
          "text": [
            "2025-09-07 16:33:28,342 | INFO | download_fe | [CVX] rows=5012 2022-10-21 13:30:00 → 2025-09-05 19:30:00\n"
          ]
        },
        {
          "output_type": "stream",
          "name": "stderr",
          "text": [
            "INFO:download_fe:[CVX] rows=5012 2022-10-21 13:30:00 → 2025-09-05 19:30:00\n"
          ]
        },
        {
          "output_type": "stream",
          "name": "stdout",
          "text": [
            "2025-09-07 16:33:28,413 | INFO | download_fe | [CVX] features=5012 rows → ./sac_parity/data/CVX.parquet\n"
          ]
        },
        {
          "output_type": "stream",
          "name": "stderr",
          "text": [
            "INFO:download_fe:[CVX] features=5012 rows → ./sac_parity/data/CVX.parquet\n"
          ]
        },
        {
          "output_type": "stream",
          "name": "stdout",
          "text": [
            "2025-09-07 16:33:28,890 | INFO | download_fe | [50/53] IBM — downloading\n"
          ]
        },
        {
          "output_type": "stream",
          "name": "stderr",
          "text": [
            "INFO:download_fe:[50/53] IBM — downloading\n"
          ]
        },
        {
          "output_type": "stream",
          "name": "stdout",
          "text": [
            "2025-09-07 16:33:28,892 | INFO | download_fe | [IBM] Attempt 1: download(period=720d, interval=1h)\n"
          ]
        },
        {
          "output_type": "stream",
          "name": "stderr",
          "text": [
            "INFO:download_fe:[IBM] Attempt 1: download(period=720d, interval=1h)\n"
          ]
        },
        {
          "output_type": "stream",
          "name": "stdout",
          "text": [
            "2025-09-07 16:33:29,501 | INFO | download_fe | [IBM] rows=5012 2022-10-21 13:30:00 → 2025-09-05 19:30:00\n"
          ]
        },
        {
          "output_type": "stream",
          "name": "stderr",
          "text": [
            "INFO:download_fe:[IBM] rows=5012 2022-10-21 13:30:00 → 2025-09-05 19:30:00\n"
          ]
        },
        {
          "output_type": "stream",
          "name": "stdout",
          "text": [
            "2025-09-07 16:33:29,570 | INFO | download_fe | [IBM] features=5012 rows → ./sac_parity/data/IBM.parquet\n"
          ]
        },
        {
          "output_type": "stream",
          "name": "stderr",
          "text": [
            "INFO:download_fe:[IBM] features=5012 rows → ./sac_parity/data/IBM.parquet\n"
          ]
        },
        {
          "output_type": "stream",
          "name": "stdout",
          "text": [
            "2025-09-07 16:33:30,060 | INFO | download_fe | [51/53] GE — downloading\n"
          ]
        },
        {
          "output_type": "stream",
          "name": "stderr",
          "text": [
            "INFO:download_fe:[51/53] GE — downloading\n"
          ]
        },
        {
          "output_type": "stream",
          "name": "stdout",
          "text": [
            "2025-09-07 16:33:30,062 | INFO | download_fe | [GE] Attempt 1: download(period=720d, interval=1h)\n"
          ]
        },
        {
          "output_type": "stream",
          "name": "stderr",
          "text": [
            "INFO:download_fe:[GE] Attempt 1: download(period=720d, interval=1h)\n"
          ]
        },
        {
          "output_type": "stream",
          "name": "stdout",
          "text": [
            "2025-09-07 16:33:31,095 | INFO | download_fe | [GE] rows=5012 2022-10-21 13:30:00 → 2025-09-05 19:30:00\n"
          ]
        },
        {
          "output_type": "stream",
          "name": "stderr",
          "text": [
            "INFO:download_fe:[GE] rows=5012 2022-10-21 13:30:00 → 2025-09-05 19:30:00\n"
          ]
        },
        {
          "output_type": "stream",
          "name": "stdout",
          "text": [
            "2025-09-07 16:33:31,172 | INFO | download_fe | [GE] features=5012 rows → ./sac_parity/data/GE.parquet\n"
          ]
        },
        {
          "output_type": "stream",
          "name": "stderr",
          "text": [
            "INFO:download_fe:[GE] features=5012 rows → ./sac_parity/data/GE.parquet\n"
          ]
        },
        {
          "output_type": "stream",
          "name": "stdout",
          "text": [
            "2025-09-07 16:33:31,668 | INFO | download_fe | [52/53] SBUX — downloading\n"
          ]
        },
        {
          "output_type": "stream",
          "name": "stderr",
          "text": [
            "INFO:download_fe:[52/53] SBUX — downloading\n"
          ]
        },
        {
          "output_type": "stream",
          "name": "stdout",
          "text": [
            "2025-09-07 16:33:31,670 | INFO | download_fe | [SBUX] Attempt 1: download(period=720d, interval=1h)\n"
          ]
        },
        {
          "output_type": "stream",
          "name": "stderr",
          "text": [
            "INFO:download_fe:[SBUX] Attempt 1: download(period=720d, interval=1h)\n"
          ]
        },
        {
          "output_type": "stream",
          "name": "stdout",
          "text": [
            "2025-09-07 16:33:32,353 | INFO | download_fe | [SBUX] rows=5012 2022-10-21 13:30:00 → 2025-09-05 19:30:00\n"
          ]
        },
        {
          "output_type": "stream",
          "name": "stderr",
          "text": [
            "INFO:download_fe:[SBUX] rows=5012 2022-10-21 13:30:00 → 2025-09-05 19:30:00\n"
          ]
        },
        {
          "output_type": "stream",
          "name": "stdout",
          "text": [
            "2025-09-07 16:33:32,450 | INFO | download_fe | [SBUX] features=5012 rows → ./sac_parity/data/SBUX.parquet\n"
          ]
        },
        {
          "output_type": "stream",
          "name": "stderr",
          "text": [
            "INFO:download_fe:[SBUX] features=5012 rows → ./sac_parity/data/SBUX.parquet\n"
          ]
        },
        {
          "output_type": "stream",
          "name": "stdout",
          "text": [
            "2025-09-07 16:33:33,002 | INFO | download_fe | [53/53] ORCL — downloading\n"
          ]
        },
        {
          "output_type": "stream",
          "name": "stderr",
          "text": [
            "INFO:download_fe:[53/53] ORCL — downloading\n"
          ]
        },
        {
          "output_type": "stream",
          "name": "stdout",
          "text": [
            "2025-09-07 16:33:33,004 | INFO | download_fe | [ORCL] Attempt 1: download(period=720d, interval=1h)\n"
          ]
        },
        {
          "output_type": "stream",
          "name": "stderr",
          "text": [
            "INFO:download_fe:[ORCL] Attempt 1: download(period=720d, interval=1h)\n"
          ]
        },
        {
          "output_type": "stream",
          "name": "stdout",
          "text": [
            "2025-09-07 16:33:33,858 | INFO | download_fe | [ORCL] rows=5012 2022-10-21 13:30:00 → 2025-09-05 19:30:00\n"
          ]
        },
        {
          "output_type": "stream",
          "name": "stderr",
          "text": [
            "INFO:download_fe:[ORCL] rows=5012 2022-10-21 13:30:00 → 2025-09-05 19:30:00\n"
          ]
        },
        {
          "output_type": "stream",
          "name": "stdout",
          "text": [
            "2025-09-07 16:33:34,371 | INFO | download_fe | [ORCL] features=5012 rows → ./sac_parity/data/ORCL.parquet\n"
          ]
        },
        {
          "output_type": "stream",
          "name": "stderr",
          "text": [
            "INFO:download_fe:[ORCL] features=5012 rows → ./sac_parity/data/ORCL.parquet\n"
          ]
        },
        {
          "output_type": "stream",
          "name": "stdout",
          "text": [
            "2025-09-07 16:34:10,325 | INFO | download_fe | Artifact: multi_stock_feature_engineered_dataset.csv | exists=True | size=138,779,317 bytes | modified=Sun Sep  7 16:34:10 2025 | cols=['Datetime', 'Adj Close', 'Close', 'High', 'Low', 'Open', 'Repaired?', 'Volume']\n"
          ]
        },
        {
          "output_type": "stream",
          "name": "stderr",
          "text": [
            "INFO:download_fe:Artifact: multi_stock_feature_engineered_dataset.csv | exists=True | size=138,779,317 bytes | modified=Sun Sep  7 16:34:10 2025 | cols=['Datetime', 'Adj Close', 'Close', 'High', 'Low', 'Open', 'Repaired?', 'Volume']\n"
          ]
        },
        {
          "output_type": "stream",
          "name": "stdout",
          "text": [
            "2025-09-07 16:34:10,327 | INFO | download_fe | Head preview:\n",
            "           Datetime  Adj Close      Close       High        Low       Open  Repaired?   Volume Symbol    ret_1  ret_3  ret_5  ret_10  logret_1  ma_5  ma_10  ma_20   ema_10   ema_20  std_10  std_20  ema10_ratio  ema20_ratio  z_close_20  rsi_14  stoch_k  stoch_d      macd  macd_signal  macd_hist  bb_perc_b  bb_bandwidth  atr_14  vol_ma_20  vol_std_20  vol_z_20  vol_change_1  hl_spread  oc_spread  ema10_gt_ema20  denoised_close  Vol20  Ret20  Regime4\n",
            "2022-10-21 13:30:00 142.314845 144.560806 145.339996 142.649002 143.250000       True 22262474   AAPL  0.00000    0.0    0.0     0.0  0.000000   0.0    0.0    0.0 144.5608 144.5608     0.0     0.0     0.000000     0.000000         0.0     0.0      0.0      0.0  0.000000     0.000000   0.000000        0.0           0.0     0.0        0.0         0.0       0.0      0.000000   0.018615   0.009150             0.0      144.936577    0.0    0.0        0\n",
            "2022-10-21 14:30:00 142.008867 144.250000 145.130005 143.550003 144.574997       True 11839350   AAPL -0.00215    0.0    0.0     0.0 -0.002152   0.0    0.0    0.0 144.5043 144.5312     0.0     0.0     0.001763     0.001949         0.0     0.0      0.0      0.0 -0.024794    -0.004959  -0.019835        0.0           0.0     0.0        0.0         0.0       0.0     -0.468193   0.010953  -0.002248             0.0      144.936577    0.0    0.0        0\n"
          ]
        },
        {
          "output_type": "stream",
          "name": "stderr",
          "text": [
            "INFO:download_fe:Head preview:\n",
            "           Datetime  Adj Close      Close       High        Low       Open  Repaired?   Volume Symbol    ret_1  ret_3  ret_5  ret_10  logret_1  ma_5  ma_10  ma_20   ema_10   ema_20  std_10  std_20  ema10_ratio  ema20_ratio  z_close_20  rsi_14  stoch_k  stoch_d      macd  macd_signal  macd_hist  bb_perc_b  bb_bandwidth  atr_14  vol_ma_20  vol_std_20  vol_z_20  vol_change_1  hl_spread  oc_spread  ema10_gt_ema20  denoised_close  Vol20  Ret20  Regime4\n",
            "2022-10-21 13:30:00 142.314845 144.560806 145.339996 142.649002 143.250000       True 22262474   AAPL  0.00000    0.0    0.0     0.0  0.000000   0.0    0.0    0.0 144.5608 144.5608     0.0     0.0     0.000000     0.000000         0.0     0.0      0.0      0.0  0.000000     0.000000   0.000000        0.0           0.0     0.0        0.0         0.0       0.0      0.000000   0.018615   0.009150             0.0      144.936577    0.0    0.0        0\n",
            "2022-10-21 14:30:00 142.008867 144.250000 145.130005 143.550003 144.574997       True 11839350   AAPL -0.00215    0.0    0.0     0.0 -0.002152   0.0    0.0    0.0 144.5043 144.5312     0.0     0.0     0.001763     0.001949         0.0     0.0      0.0      0.0 -0.024794    -0.004959  -0.019835        0.0           0.0     0.0        0.0         0.0       0.0     -0.468193   0.010953  -0.002248             0.0      144.936577    0.0    0.0        0\n"
          ]
        },
        {
          "output_type": "stream",
          "name": "stdout",
          "text": [
            "2025-09-07 16:34:10,364 | INFO | download_fe | Artifact: /content/drive/MyDrive/Results_May_2025/results_sac_walkforward/multi_stock_feature_engineered_dataset.csv | exists=True | size=138,779,317 bytes | modified=Sun Sep  7 16:33:53 2025 | cols=['Datetime', 'Adj Close', 'Close', 'High', 'Low', 'Open', 'Repaired?', 'Volume']\n"
          ]
        },
        {
          "output_type": "stream",
          "name": "stderr",
          "text": [
            "INFO:download_fe:Artifact: /content/drive/MyDrive/Results_May_2025/results_sac_walkforward/multi_stock_feature_engineered_dataset.csv | exists=True | size=138,779,317 bytes | modified=Sun Sep  7 16:33:53 2025 | cols=['Datetime', 'Adj Close', 'Close', 'High', 'Low', 'Open', 'Repaired?', 'Volume']\n"
          ]
        },
        {
          "output_type": "stream",
          "name": "stdout",
          "text": [
            "2025-09-07 16:34:10,366 | INFO | download_fe | Head preview:\n",
            "           Datetime  Adj Close      Close       High        Low       Open  Repaired?   Volume Symbol    ret_1  ret_3  ret_5  ret_10  logret_1  ma_5  ma_10  ma_20   ema_10   ema_20  std_10  std_20  ema10_ratio  ema20_ratio  z_close_20  rsi_14  stoch_k  stoch_d      macd  macd_signal  macd_hist  bb_perc_b  bb_bandwidth  atr_14  vol_ma_20  vol_std_20  vol_z_20  vol_change_1  hl_spread  oc_spread  ema10_gt_ema20  denoised_close  Vol20  Ret20  Regime4\n",
            "2022-10-21 13:30:00 142.314845 144.560806 145.339996 142.649002 143.250000       True 22262474   AAPL  0.00000    0.0    0.0     0.0  0.000000   0.0    0.0    0.0 144.5608 144.5608     0.0     0.0     0.000000     0.000000         0.0     0.0      0.0      0.0  0.000000     0.000000   0.000000        0.0           0.0     0.0        0.0         0.0       0.0      0.000000   0.018615   0.009150             0.0      144.936577    0.0    0.0        0\n",
            "2022-10-21 14:30:00 142.008867 144.250000 145.130005 143.550003 144.574997       True 11839350   AAPL -0.00215    0.0    0.0     0.0 -0.002152   0.0    0.0    0.0 144.5043 144.5312     0.0     0.0     0.001763     0.001949         0.0     0.0      0.0      0.0 -0.024794    -0.004959  -0.019835        0.0           0.0     0.0        0.0         0.0       0.0     -0.468193   0.010953  -0.002248             0.0      144.936577    0.0    0.0        0\n"
          ]
        },
        {
          "output_type": "stream",
          "name": "stderr",
          "text": [
            "INFO:download_fe:Head preview:\n",
            "           Datetime  Adj Close      Close       High        Low       Open  Repaired?   Volume Symbol    ret_1  ret_3  ret_5  ret_10  logret_1  ma_5  ma_10  ma_20   ema_10   ema_20  std_10  std_20  ema10_ratio  ema20_ratio  z_close_20  rsi_14  stoch_k  stoch_d      macd  macd_signal  macd_hist  bb_perc_b  bb_bandwidth  atr_14  vol_ma_20  vol_std_20  vol_z_20  vol_change_1  hl_spread  oc_spread  ema10_gt_ema20  denoised_close  Vol20  Ret20  Regime4\n",
            "2022-10-21 13:30:00 142.314845 144.560806 145.339996 142.649002 143.250000       True 22262474   AAPL  0.00000    0.0    0.0     0.0  0.000000   0.0    0.0    0.0 144.5608 144.5608     0.0     0.0     0.000000     0.000000         0.0     0.0      0.0      0.0  0.000000     0.000000   0.000000        0.0           0.0     0.0        0.0         0.0       0.0      0.000000   0.018615   0.009150             0.0      144.936577    0.0    0.0        0\n",
            "2022-10-21 14:30:00 142.008867 144.250000 145.130005 143.550003 144.574997       True 11839350   AAPL -0.00215    0.0    0.0     0.0 -0.002152   0.0    0.0    0.0 144.5043 144.5312     0.0     0.0     0.001763     0.001949         0.0     0.0      0.0      0.0 -0.024794    -0.004959  -0.019835        0.0           0.0     0.0        0.0         0.0       0.0     -0.468193   0.010953  -0.002248             0.0      144.936577    0.0    0.0        0\n"
          ]
        },
        {
          "output_type": "stream",
          "name": "stdout",
          "text": [
            "2025-09-07 16:34:10,368 | INFO | download_fe | Saved combined CSV → /content/drive/MyDrive/Results_May_2025/results_sac_walkforward/multi_stock_feature_engineered_dataset.csv (rows=265636)\n"
          ]
        },
        {
          "output_type": "stream",
          "name": "stderr",
          "text": [
            "INFO:download_fe:Saved combined CSV → /content/drive/MyDrive/Results_May_2025/results_sac_walkforward/multi_stock_feature_engineered_dataset.csv (rows=265636)\n"
          ]
        },
        {
          "output_type": "stream",
          "name": "stdout",
          "text": [
            "2025-09-07 16:34:10,386 | INFO | download_fe | Built features shape: (265636, 44)\n"
          ]
        },
        {
          "output_type": "stream",
          "name": "stderr",
          "text": [
            "INFO:download_fe:Built features shape: (265636, 44)\n"
          ]
        },
        {
          "output_type": "stream",
          "name": "stdout",
          "text": [
            "2025-09-07 16:34:10,394 | INFO | download_fe | Check: /content/drive/MyDrive/Results_May_2025/results_sac_walkforward/multi_stock_feature_engineered_dataset.csv | exists=True\n"
          ]
        },
        {
          "output_type": "stream",
          "name": "stderr",
          "text": [
            "INFO:download_fe:Check: /content/drive/MyDrive/Results_May_2025/results_sac_walkforward/multi_stock_feature_engineered_dataset.csv | exists=True\n"
          ]
        },
        {
          "output_type": "stream",
          "name": "stdout",
          "text": [
            "2025-09-07 16:34:10,397 | INFO | download_fe |   size=138,779,317 bytes | modified=Sun Sep  7 16:33:53 2025\n"
          ]
        },
        {
          "output_type": "stream",
          "name": "stderr",
          "text": [
            "INFO:download_fe:  size=138,779,317 bytes | modified=Sun Sep  7 16:33:53 2025\n"
          ]
        },
        {
          "output_type": "stream",
          "name": "stdout",
          "text": [
            "2025-09-07 16:34:10,417 | INFO | download_fe |   cols: ['Datetime', 'Adj Close', 'Close', 'High', 'Low', 'Open', 'Repaired?', 'Volume', 'Symbol', 'ret_1']\n"
          ]
        },
        {
          "output_type": "stream",
          "name": "stderr",
          "text": [
            "INFO:download_fe:  cols: ['Datetime', 'Adj Close', 'Close', 'High', 'Low', 'Open', 'Repaired?', 'Volume', 'Symbol', 'ret_1']\n"
          ]
        },
        {
          "output_type": "stream",
          "name": "stdout",
          "text": [
            "2025-09-07 16:34:10,442 | INFO | download_fe | \n",
            "           Datetime  Adj Close      Close       High        Low       Open  Repaired?   Volume Symbol    ret_1  ret_3  ret_5  ret_10  logret_1  ma_5  ma_10  ma_20   ema_10   ema_20  std_10  std_20  ema10_ratio  ema20_ratio  z_close_20  rsi_14  stoch_k  stoch_d      macd  macd_signal  macd_hist  bb_perc_b  bb_bandwidth  atr_14  vol_ma_20  vol_std_20  vol_z_20  vol_change_1  hl_spread  oc_spread  ema10_gt_ema20  denoised_close  Vol20  Ret20  Regime4\n",
            "2022-10-21 13:30:00 142.314845 144.560806 145.339996 142.649002 143.250000       True 22262474   AAPL  0.00000    0.0    0.0     0.0  0.000000   0.0    0.0    0.0 144.5608 144.5608     0.0     0.0     0.000000     0.000000         0.0     0.0      0.0      0.0  0.000000     0.000000   0.000000        0.0           0.0     0.0        0.0         0.0       0.0      0.000000   0.018615   0.009150             0.0      144.936577    0.0    0.0        0\n",
            "2022-10-21 14:30:00 142.008867 144.250000 145.130005 143.550003 144.574997       True 11839350   AAPL -0.00215    0.0    0.0     0.0 -0.002152   0.0    0.0    0.0 144.5043 144.5312     0.0     0.0     0.001763     0.001949         0.0     0.0      0.0      0.0 -0.024794    -0.004959  -0.019835        0.0           0.0     0.0        0.0         0.0       0.0     -0.468193   0.010953  -0.002248             0.0      144.936577    0.0    0.0        0\n"
          ]
        },
        {
          "output_type": "stream",
          "name": "stderr",
          "text": [
            "INFO:download_fe:\n",
            "           Datetime  Adj Close      Close       High        Low       Open  Repaired?   Volume Symbol    ret_1  ret_3  ret_5  ret_10  logret_1  ma_5  ma_10  ma_20   ema_10   ema_20  std_10  std_20  ema10_ratio  ema20_ratio  z_close_20  rsi_14  stoch_k  stoch_d      macd  macd_signal  macd_hist  bb_perc_b  bb_bandwidth  atr_14  vol_ma_20  vol_std_20  vol_z_20  vol_change_1  hl_spread  oc_spread  ema10_gt_ema20  denoised_close  Vol20  Ret20  Regime4\n",
            "2022-10-21 13:30:00 142.314845 144.560806 145.339996 142.649002 143.250000       True 22262474   AAPL  0.00000    0.0    0.0     0.0  0.000000   0.0    0.0    0.0 144.5608 144.5608     0.0     0.0     0.000000     0.000000         0.0     0.0      0.0      0.0  0.000000     0.000000   0.000000        0.0           0.0     0.0        0.0         0.0       0.0      0.000000   0.018615   0.009150             0.0      144.936577    0.0    0.0        0\n",
            "2022-10-21 14:30:00 142.008867 144.250000 145.130005 143.550003 144.574997       True 11839350   AAPL -0.00215    0.0    0.0     0.0 -0.002152   0.0    0.0    0.0 144.5043 144.5312     0.0     0.0     0.001763     0.001949         0.0     0.0      0.0      0.0 -0.024794    -0.004959  -0.019835        0.0           0.0     0.0        0.0         0.0       0.0     -0.468193   0.010953  -0.002248             0.0      144.936577    0.0    0.0        0\n"
          ]
        },
        {
          "output_type": "stream",
          "name": "stdout",
          "text": [
            "2025-09-07 16:34:10,444 | INFO | download_fe | Check: multi_stock_feature_engineered_dataset.csv | exists=True\n"
          ]
        },
        {
          "output_type": "stream",
          "name": "stderr",
          "text": [
            "INFO:download_fe:Check: multi_stock_feature_engineered_dataset.csv | exists=True\n"
          ]
        },
        {
          "output_type": "stream",
          "name": "stdout",
          "text": [
            "2025-09-07 16:34:10,448 | INFO | download_fe |   size=138,779,317 bytes | modified=Sun Sep  7 16:34:10 2025\n"
          ]
        },
        {
          "output_type": "stream",
          "name": "stderr",
          "text": [
            "INFO:download_fe:  size=138,779,317 bytes | modified=Sun Sep  7 16:34:10 2025\n"
          ]
        },
        {
          "output_type": "stream",
          "name": "stdout",
          "text": [
            "2025-09-07 16:34:10,458 | INFO | download_fe |   cols: ['Datetime', 'Adj Close', 'Close', 'High', 'Low', 'Open', 'Repaired?', 'Volume', 'Symbol', 'ret_1']\n"
          ]
        },
        {
          "output_type": "stream",
          "name": "stderr",
          "text": [
            "INFO:download_fe:  cols: ['Datetime', 'Adj Close', 'Close', 'High', 'Low', 'Open', 'Repaired?', 'Volume', 'Symbol', 'ret_1']\n"
          ]
        },
        {
          "output_type": "stream",
          "name": "stdout",
          "text": [
            "2025-09-07 16:34:10,479 | INFO | download_fe | \n",
            "           Datetime  Adj Close      Close       High        Low       Open  Repaired?   Volume Symbol    ret_1  ret_3  ret_5  ret_10  logret_1  ma_5  ma_10  ma_20   ema_10   ema_20  std_10  std_20  ema10_ratio  ema20_ratio  z_close_20  rsi_14  stoch_k  stoch_d      macd  macd_signal  macd_hist  bb_perc_b  bb_bandwidth  atr_14  vol_ma_20  vol_std_20  vol_z_20  vol_change_1  hl_spread  oc_spread  ema10_gt_ema20  denoised_close  Vol20  Ret20  Regime4\n",
            "2022-10-21 13:30:00 142.314845 144.560806 145.339996 142.649002 143.250000       True 22262474   AAPL  0.00000    0.0    0.0     0.0  0.000000   0.0    0.0    0.0 144.5608 144.5608     0.0     0.0     0.000000     0.000000         0.0     0.0      0.0      0.0  0.000000     0.000000   0.000000        0.0           0.0     0.0        0.0         0.0       0.0      0.000000   0.018615   0.009150             0.0      144.936577    0.0    0.0        0\n",
            "2022-10-21 14:30:00 142.008867 144.250000 145.130005 143.550003 144.574997       True 11839350   AAPL -0.00215    0.0    0.0     0.0 -0.002152   0.0    0.0    0.0 144.5043 144.5312     0.0     0.0     0.001763     0.001949         0.0     0.0      0.0      0.0 -0.024794    -0.004959  -0.019835        0.0           0.0     0.0        0.0         0.0       0.0     -0.468193   0.010953  -0.002248             0.0      144.936577    0.0    0.0        0\n"
          ]
        },
        {
          "output_type": "stream",
          "name": "stderr",
          "text": [
            "INFO:download_fe:\n",
            "           Datetime  Adj Close      Close       High        Low       Open  Repaired?   Volume Symbol    ret_1  ret_3  ret_5  ret_10  logret_1  ma_5  ma_10  ma_20   ema_10   ema_20  std_10  std_20  ema10_ratio  ema20_ratio  z_close_20  rsi_14  stoch_k  stoch_d      macd  macd_signal  macd_hist  bb_perc_b  bb_bandwidth  atr_14  vol_ma_20  vol_std_20  vol_z_20  vol_change_1  hl_spread  oc_spread  ema10_gt_ema20  denoised_close  Vol20  Ret20  Regime4\n",
            "2022-10-21 13:30:00 142.314845 144.560806 145.339996 142.649002 143.250000       True 22262474   AAPL  0.00000    0.0    0.0     0.0  0.000000   0.0    0.0    0.0 144.5608 144.5608     0.0     0.0     0.000000     0.000000         0.0     0.0      0.0      0.0  0.000000     0.000000   0.000000        0.0           0.0     0.0        0.0         0.0       0.0      0.000000   0.018615   0.009150             0.0      144.936577    0.0    0.0        0\n",
            "2022-10-21 14:30:00 142.008867 144.250000 145.130005 143.550003 144.574997       True 11839350   AAPL -0.00215    0.0    0.0     0.0 -0.002152   0.0    0.0    0.0 144.5043 144.5312     0.0     0.0     0.001763     0.001949         0.0     0.0      0.0      0.0 -0.024794    -0.004959  -0.019835        0.0           0.0     0.0        0.0         0.0       0.0     -0.468193   0.010953  -0.002248             0.0      144.936577    0.0    0.0        0\n"
          ]
        },
        {
          "output_type": "stream",
          "name": "stdout",
          "text": [
            "2025-09-07 16:34:10,481 | INFO | download_fe | Logs also written to: ./sac_parity/logs/download_fe.log\n"
          ]
        },
        {
          "output_type": "stream",
          "name": "stderr",
          "text": [
            "INFO:download_fe:Logs also written to: ./sac_parity/logs/download_fe.log\n"
          ]
        }
      ],
      "source": [
        "import os, gc, time, logging, sys, re\n",
        "from datetime import datetime\n",
        "import numpy as np\n",
        "import pandas as pd\n",
        "import yfinance as yf\n",
        "import pywt\n",
        "\n",
        "# ---------------- Paths ----------------\n",
        "BASE_DIR   = \"./sac_parity\"\n",
        "DATA_DIR   = os.path.join(BASE_DIR, \"data\")\n",
        "LOG_DIR    = os.path.join(BASE_DIR, \"logs\")\n",
        "os.makedirs(DATA_DIR, exist_ok=True)\n",
        "os.makedirs(LOG_DIR, exist_ok=True)\n",
        "\n",
        "# Try to use Google Drive in Colab; otherwise use local CWD\n",
        "try:\n",
        "    from google.colab import drive  # type: ignore\n",
        "    drive.mount('/content/drive', force_remount=False)\n",
        "    DRIVE_BASE = \"/content/drive/MyDrive\"\n",
        "except Exception:\n",
        "    DRIVE_BASE = os.getcwd()\n",
        "\n",
        "RESULTS_DIR = os.path.join(DRIVE_BASE, \"Results_May_2025\", \"results_sac_walkforward\")\n",
        "os.makedirs(RESULTS_DIR, exist_ok=True)\n",
        "FEATURE_CSV = os.path.join(RESULTS_DIR, \"multi_stock_feature_engineered_dataset.csv\")\n",
        "\n",
        "# ---------------- Logger ----------------\n",
        "def setup_logger(name=\"download_fe\", level=logging.INFO):\n",
        "    logger = logging.getLogger(name)\n",
        "    logger.setLevel(level)\n",
        "    # Avoid duplicate handlers if this script/cell runs more than once\n",
        "    logger.handlers = []\n",
        "    fmt = logging.Formatter(\"%(asctime)s | %(levelname)s | %(name)s | %(message)s\")\n",
        "\n",
        "    sh = logging.StreamHandler(sys.stdout)\n",
        "    sh.setFormatter(fmt); sh.setLevel(level)\n",
        "    logger.addHandler(sh)\n",
        "\n",
        "    fh = logging.FileHandler(os.path.join(LOG_DIR, f\"{name}.log\"))\n",
        "    fh.setFormatter(fmt); fh.setLevel(level)\n",
        "    logger.addHandler(fh)\n",
        "    return logger\n",
        "\n",
        "log = setup_logger(\"download_fe\", level=logging.INFO)\n",
        "\n",
        "# ---------------- Feature Toggles ----------------\n",
        "USE_SENTIMENT  = False   # placeholder (constant 0.0 if False)\n",
        "USE_REGIME     = True\n",
        "USE_WAVELET    = True\n",
        "USE_GREEKS     = False   # not used in this script; kept for parity\n",
        "\n",
        "# ---------------- Data Params ----------------\n",
        "INTERVAL    = \"1h\"   # yfinance interval\n",
        "PERIOD_DAYS = 720    # how many days of history to pull\n",
        "\n",
        "# ---------------- Universe ----------------\n",
        "TICKERS = [\n",
        "    'AAPL','TSLA','MSFT','GOOGL','AMZN','NVDA','META','BRK-B','JPM','JNJ',\n",
        "    'XOM','V','PG','UNH','MA','HD','LLY','MRK','PEP','KO',\n",
        "    'BAC','ABBV','AVGO','PFE','COST','CSCO','TMO','ABT','ACN','WMT',\n",
        "    'MCD','ADBE','DHR','CRM','NKE','INTC','QCOM','NEE','AMD','TXN',\n",
        "    'AMGN','UPS','LIN','PM','UNP','BMY','LOW','RTX','CVX','IBM',\n",
        "    'GE','SBUX','ORCL'\n",
        "]\n",
        "SYMBOLS = TICKERS  # override elsewhere if needed (e.g., short tests)\n",
        "\n",
        "# ---------------- Helpers: schema + datetime ----------------\n",
        "def _force_datetime_column(df: pd.DataFrame) -> pd.DataFrame:\n",
        "    \"\"\"Ensure tz-naive 'Datetime' exists, deduplicate and sort by Datetime.\"\"\"\n",
        "    if isinstance(df.index, pd.DatetimeIndex):\n",
        "        # Remove timezone to keep consistent CSV/Parquet\n",
        "        try:\n",
        "            df.index = df.index.tz_convert(None)\n",
        "        except Exception:\n",
        "            try:\n",
        "                df.index = df.index.tz_localize(None)\n",
        "            except Exception:\n",
        "                pass\n",
        "        df.index.name = 'Datetime'\n",
        "        df = df.reset_index()\n",
        "    else:\n",
        "        df = df.reset_index()\n",
        "        first = df.columns[0]\n",
        "        if np.issubdtype(df[first].dtype, np.datetime64):\n",
        "            df = df.rename(columns={first: 'Datetime'})\n",
        "        elif 'Date' in df.columns:\n",
        "            df['Datetime'] = pd.to_datetime(df['Date'])\n",
        "        elif 'Datetime' not in df.columns:\n",
        "            df['Datetime'] = pd.to_datetime(df[first], errors='coerce')\n",
        "\n",
        "    if 'Datetime' not in df.columns:\n",
        "        raise KeyError(\"Failed to construct 'Datetime' from data.\")\n",
        "    df['Datetime'] = pd.to_datetime(df['Datetime'])\n",
        "    return df.drop_duplicates(subset=['Datetime']).sort_values('Datetime').reset_index(drop=True)\n",
        "\n",
        "def _normalize_ohlcv(df_in: pd.DataFrame, ticker: str) -> pd.DataFrame:\n",
        "    \"\"\"Flatten MultiIndex, strip ticker prefixes/suffixes, map to canonical OHLCV names.\"\"\"\n",
        "    df = df_in.copy()\n",
        "    if isinstance(df.columns, pd.MultiIndex):\n",
        "        df.columns = [\" \".join([str(p) for p in col if p]) for col in df.columns]\n",
        "    df.columns = [re.sub(r\"\\s+\", \" \", str(c)).strip() for c in df.columns]\n",
        "\n",
        "    tkr = ticker.upper().replace(\"-\", \"[- ]?\")\n",
        "    cleaned = {}\n",
        "    for c in df.columns:\n",
        "        cu = c.upper()\n",
        "        cu = re.sub(rf\"^(?:{tkr})[\\s/_-]+\", \"\", cu)\n",
        "        cu = re.sub(rf\"[\\s/_-]+(?:{tkr})$\", \"\", cu)\n",
        "        cleaned[c] = cu.title()\n",
        "    if any(cleaned[c] != c for c in df.columns):\n",
        "        df = df.rename(columns=cleaned)\n",
        "\n",
        "    cols_ci = {c.lower(): c for c in df.columns}\n",
        "    wants = {\n",
        "        \"Open\":      [\"open\"],\n",
        "        \"High\":      [\"high\"],\n",
        "        \"Low\":       [\"low\"],\n",
        "        \"Close\":     [\"close\",\"last\",\"close*\"],\n",
        "        \"Adj Close\": [\"adj close\",\"adj_close\",\"adjclose\",\"adjusted close\"],\n",
        "        \"Volume\":    [\"volume\",\"vol\"]\n",
        "    }\n",
        "    rename_map = {}\n",
        "    for desired, alts in wants.items():\n",
        "        if desired.lower() in cols_ci:\n",
        "            rename_map[cols_ci[desired.lower()]] = desired\n",
        "        else:\n",
        "            for a in alts:\n",
        "                if a in cols_ci:\n",
        "                    rename_map[cols_ci[a]] = desired\n",
        "                    break\n",
        "    if rename_map:\n",
        "        df = df.rename(columns=rename_map)\n",
        "    return df\n",
        "\n",
        "# ---------------- Downloader (retry + history() fallback) ----------------\n",
        "def download_stock_data(ticker, interval=\"1h\", period_days=720, max_retries=5, sleep_base=3):\n",
        "    \"\"\"\n",
        "    Robust yfinance intraday downloader.\n",
        "    Guarantees: Open, High, Low, Close, Volume (+Adj Close), Datetime, Symbol.\n",
        "    \"\"\"\n",
        "    period_str = f\"{int(period_days)}d\"\n",
        "\n",
        "    def _post(df: pd.DataFrame) -> pd.DataFrame:\n",
        "        df = _normalize_ohlcv(df, ticker)\n",
        "        df = _force_datetime_column(df)\n",
        "        needed = {'Open', 'High', 'Low', 'Close', 'Volume'}\n",
        "        missing = needed - set(df.columns)\n",
        "        if missing:\n",
        "            raise ValueError(f\"Missing OHLCV columns after normalize: {missing}\")\n",
        "        if 'Adj Close' not in df.columns:\n",
        "            df['Adj Close'] = df['Close']\n",
        "        return df\n",
        "\n",
        "    for attempt in range(1, max_retries + 1):\n",
        "        try:\n",
        "            log.info(f\"[{ticker}] Attempt {attempt}: download(period={period_str}, interval={interval})\")\n",
        "            df = yf.download(\n",
        "                tickers=ticker,\n",
        "                period=period_str,\n",
        "                interval=interval,\n",
        "                progress=False,\n",
        "                auto_adjust=False,\n",
        "                group_by='column',\n",
        "                threads=False,\n",
        "                prepost=False,\n",
        "                repair=True\n",
        "            )\n",
        "            if df is None or df.empty:\n",
        "                raise ValueError(\"Empty data from download()\")\n",
        "            df = _post(df)\n",
        "            df['Symbol'] = ticker\n",
        "            log.info(f\"[{ticker}] rows={len(df)} {df['Datetime'].min()} → {df['Datetime'].max()}\")\n",
        "            return df\n",
        "\n",
        "        except Exception as e1:\n",
        "            log.warning(f\"[{ticker}] download() error: {e1} | trying Ticker().history()\")\n",
        "            try:\n",
        "                hist = yf.Ticker(ticker).history(\n",
        "                    period=period_str,\n",
        "                    interval=interval,\n",
        "                    auto_adjust=False,\n",
        "                    actions=False\n",
        "                )\n",
        "                if hist is None or hist.empty:\n",
        "                    raise ValueError(\"Empty data from history()\")\n",
        "                df = _post(hist)\n",
        "                df['Symbol'] = ticker\n",
        "                log.info(f\"[{ticker}] (fallback) rows={len(df)} {df['Datetime'].min()} → {df['Datetime'].max()}\")\n",
        "                return df\n",
        "            except Exception as e2:\n",
        "                wait = sleep_base * attempt\n",
        "                log.warning(f\"[{ticker}] history() error: {e2} | retrying in {wait}s\")\n",
        "                time.sleep(wait)\n",
        "\n",
        "    log.error(f\"[{ticker}] Failed after {max_retries} attempts.\")\n",
        "    return None\n",
        "\n",
        "# ---------------- Feature Engineering (parity) ----------------\n",
        "def denoise_wavelet(series, wavelet='db1', level=2):\n",
        "    s = pd.Series(series).astype(float).ffill().bfill().to_numpy()\n",
        "    try:\n",
        "        coeffs = pywt.wavedec(s, wavelet, mode='symmetric', level=level)\n",
        "        # hard smoothing: zero high-frequency detail\n",
        "        for i in range(1, len(coeffs)):\n",
        "            coeffs[i] = np.zeros_like(coeffs[i])\n",
        "        rec = pywt.waverec(coeffs, wavelet, mode='symmetric')\n",
        "        return pd.Series(rec[:len(s)], index=series.index)\n",
        "    except Exception as e:\n",
        "        log.warning(f\"Wavelet denoise failed ({e}); returning raw series.\")\n",
        "        return pd.Series(s, index=series.index)\n",
        "\n",
        "def add_regime(df: pd.DataFrame) -> pd.DataFrame:\n",
        "    df['Vol20'] = df['Close'].pct_change().rolling(20).std()\n",
        "    df['Ret20'] = df['Close'].pct_change(20)\n",
        "    vol_hi   = (df['Vol20'] > df['Vol20'].median()).astype(int)\n",
        "    trend_hi = (df['Ret20'].abs() > df['Ret20'].abs().median()).astype(int)\n",
        "    df['Regime4'] = vol_hi * 2 + trend_hi  # 0..3\n",
        "    return df\n",
        "\n",
        "def compute_enhanced_features(df: pd.DataFrame) -> tuple[pd.DataFrame, list]:\n",
        "    \"\"\"\n",
        "    Returns (feature_df, FEATURES) with PPO-parity indicators for SAC.\n",
        "    Input df must contain: Datetime, Symbol, Open, High, Low, Close, Volume.\n",
        "    \"\"\"\n",
        "    df = df.copy()\n",
        "    req = {\"Open\", \"High\", \"Low\", \"Close\", \"Volume\"}\n",
        "    assert req.issubset(df.columns), f\"OHLCV columns missing: {req - set(df.columns)}\"\n",
        "\n",
        "    # Work in float64 for stability, cast to float32 at the end\n",
        "    close = df[\"Close\"].astype(\"float64\")\n",
        "    high  = df[\"High\"].astype(\"float64\")\n",
        "    low   = df[\"Low\"].astype(\"float64\")\n",
        "    open_ = df[\"Open\"].astype(\"float64\")\n",
        "    vol   = (df[\"Volume\"].astype(\"float64\") + 1.0)  # avoid div-by-zero\n",
        "\n",
        "    # --- Returns & lags ---\n",
        "    df[\"ret_1\"]     = close.pct_change(1)\n",
        "    df[\"ret_3\"]     = close.pct_change(3)\n",
        "    df[\"ret_5\"]     = close.pct_change(5)\n",
        "    df[\"ret_10\"]    = close.pct_change(10)\n",
        "    df[\"logret_1\"]  = np.log(close).diff(1)\n",
        "\n",
        "    # --- Moving avgs / vol ---\n",
        "    df[\"ma_5\"]      = close.rolling(5).mean()\n",
        "    df[\"ma_10\"]     = close.rolling(10).mean()\n",
        "    df[\"ma_20\"]     = close.rolling(20).mean()\n",
        "    df[\"ema_10\"]    = close.ewm(span=10, adjust=False).mean()\n",
        "    df[\"ema_20\"]    = close.ewm(span=20, adjust=False).mean()\n",
        "    df[\"std_10\"]    = close.rolling(10).std()\n",
        "    df[\"std_20\"]    = close.rolling(20).std()\n",
        "\n",
        "    # Normalize some to price\n",
        "    df[\"ema10_ratio\"] = df[\"ema_10\"] / close - 1.0\n",
        "    df[\"ema20_ratio\"] = df[\"ema_20\"] / close - 1.0\n",
        "\n",
        "    # --- Z-score of price ---\n",
        "    df[\"z_close_20\"] = (close - df[\"ma_20\"]) / df[\"std_20\"].replace(0, np.nan)\n",
        "\n",
        "    # --- RSI(14) ---\n",
        "    delta      = close.diff()\n",
        "    up         = delta.clip(lower=0.0)\n",
        "    down       = -delta.clip(upper=0.0)\n",
        "    roll_up    = up.ewm(alpha=1/14, adjust=False).mean()\n",
        "    roll_down  = down.ewm(alpha=1/14, adjust=False).mean()\n",
        "    rs         = roll_up / roll_down.replace(0, np.nan)\n",
        "    df[\"rsi_14\"] = 100 - (100 / (1 + rs))\n",
        "\n",
        "    # --- Stochastic(14,3) with guarded denominator ---\n",
        "    ll14       = low.rolling(14).min()\n",
        "    hh14       = high.rolling(14).max()\n",
        "    den_14     = (hh14 - ll14).replace(0, np.nan)\n",
        "    df[\"stoch_k\"] = 100 * (close - ll14) / den_14\n",
        "    df[\"stoch_d\"] = df[\"stoch_k\"].rolling(3).mean()\n",
        "\n",
        "    # --- MACD (12,26,9) ---\n",
        "    ema12         = close.ewm(span=12, adjust=False).mean()\n",
        "    ema26         = close.ewm(span=26, adjust=False).mean()\n",
        "    macd          = ema12 - ema26\n",
        "    macd_sig      = macd.ewm(span=9, adjust=False).mean()\n",
        "    df[\"macd\"]        = macd\n",
        "    df[\"macd_signal\"] = macd_sig\n",
        "    df[\"macd_hist\"]   = macd - macd_sig\n",
        "\n",
        "    # --- Bollinger Bands (20,2) with guards ---\n",
        "    bb_mid      = df[\"ma_20\"]\n",
        "    bb_std      = df[\"std_20\"]\n",
        "    bb_up       = bb_mid + 2 * bb_std\n",
        "    bb_lo       = bb_mid - 2 * bb_std\n",
        "    band_width  = (bb_up - bb_lo)\n",
        "    df[\"bb_perc_b\"]   = (close - bb_lo) / band_width.replace(0, np.nan)\n",
        "    df[\"bb_bandwidth\"] = band_width / bb_mid.replace(0, np.nan)\n",
        "\n",
        "    # --- ATR(14) (rolling mean of True Range) ---\n",
        "    prev_close  = close.shift(1)\n",
        "    tr = np.maximum(high - low,\n",
        "                    np.maximum((high - prev_close).abs(), (low - prev_close).abs()))\n",
        "    df[\"atr_14\"] = tr.rolling(14).mean()\n",
        "\n",
        "    # --- Volume features ---\n",
        "    df[\"vol_ma_20\"]    = vol.rolling(20).mean()\n",
        "    df[\"vol_std_20\"]   = vol.rolling(20).std()\n",
        "    df[\"vol_z_20\"]     = (vol - df[\"vol_ma_20\"]) / df[\"vol_std_20\"].replace(0, np.nan)\n",
        "    df[\"vol_change_1\"] = vol.pct_change(1)\n",
        "\n",
        "    # --- Spreads / micro-structure-ish ---\n",
        "    df[\"hl_spread\"] = (high - low) / close.replace(0, np.nan)\n",
        "    df[\"oc_spread\"] = (close - open_) / open_.replace(0, np.nan)\n",
        "\n",
        "    # --- Simple cross signal (numeric) ---\n",
        "    df[\"ema10_gt_ema20\"] = (df[\"ema_10\"] > df[\"ema_20\"]).astype(\"float32\")\n",
        "\n",
        "    # Optional extras\n",
        "    if USE_WAVELET:\n",
        "        df[\"denoised_close\"] = denoise_wavelet(pd.Series(close, index=df.index))\n",
        "    if USE_REGIME:\n",
        "        df = add_regime(df)  # adds 'Regime4'\n",
        "\n",
        "    # Replace infs, then fill remaining NaNs from rolling warm-ups\n",
        "    df.replace([np.inf, -np.inf], np.nan, inplace=True)\n",
        "    df.fillna(0.0, inplace=True)\n",
        "\n",
        "    # Explicit feature list (order matters)\n",
        "    FEATURES = [\n",
        "        \"ret_1\",\"ret_3\",\"ret_5\",\"ret_10\",\"logret_1\",\n",
        "        \"ma_5\",\"ma_10\",\"ma_20\",\"ema_10\",\"ema_20\",\"ema10_ratio\",\"ema20_ratio\",\n",
        "        \"std_10\",\"std_20\",\"z_close_20\",\n",
        "        \"rsi_14\",\"stoch_k\",\"stoch_d\",\n",
        "        \"macd\",\"macd_signal\",\"macd_hist\",\n",
        "        \"bb_perc_b\",\"bb_bandwidth\",\n",
        "        \"atr_14\",\n",
        "        \"vol_ma_20\",\"vol_std_20\",\"vol_z_20\",\"vol_change_1\",\n",
        "        \"hl_spread\",\"oc_spread\",\"ema10_gt_ema20\",\n",
        "    ]\n",
        "\n",
        "    # Ensure feature dtypes are float32 for speed\n",
        "    df[FEATURES] = df[FEATURES].astype(\"float32\")\n",
        "\n",
        "    return df, FEATURES\n",
        "\n",
        "# ---------------- Orchestrator ----------------\n",
        "def build_features_if_needed() -> pd.DataFrame:\n",
        "    \"\"\"\n",
        "    If FEATURE_CSV exists, load and return it (no download).\n",
        "    Else:\n",
        "      - download each SYMBOL,\n",
        "      - compute enhanced features,\n",
        "      - save per-symbol Parquet to DATA_DIR,\n",
        "      - write combined CSV to FEATURE_CSV and also a local copy,\n",
        "      - return combined DataFrame.\n",
        "    \"\"\"\n",
        "    if os.path.exists(FEATURE_CSV):\n",
        "        log.info(f\"Using existing features CSV: {FEATURE_CSV}\")\n",
        "        d = pd.read_csv(FEATURE_CSV)\n",
        "        d['Datetime'] = pd.to_datetime(d['Datetime'])\n",
        "        return d\n",
        "\n",
        "    all_dfs = []\n",
        "    for i, ticker in enumerate(SYMBOLS, 1):\n",
        "        log.info(f\"[{i}/{len(SYMBOLS)}] {ticker} — downloading\")\n",
        "        raw = download_stock_data(ticker, interval=INTERVAL, period_days=PERIOD_DAYS)\n",
        "        if raw is None or raw.empty:\n",
        "            log.warning(f\"[{ticker}] no data; skipping.\")\n",
        "            continue\n",
        "        try:\n",
        "            feats, _ = compute_enhanced_features(raw)\n",
        "            if feats is not None and not feats.empty:\n",
        "                all_dfs.append(feats)\n",
        "                out_parq = os.path.join(DATA_DIR, f\"{ticker}.parquet\")\n",
        "                feats.to_parquet(out_parq, index=False)\n",
        "                log.info(f\"[{ticker}] features={len(feats)} rows → {out_parq}\")\n",
        "            else:\n",
        "                log.warning(f\"[{ticker}] empty features; skipped.\")\n",
        "        except Exception as e:\n",
        "            log.error(f\"[{ticker}] FE failed: {e}\")\n",
        "        finally:\n",
        "            del raw\n",
        "            try: del feats\n",
        "            except: pass\n",
        "            gc.collect()\n",
        "            time.sleep(0.2)\n",
        "\n",
        "    if not all_dfs:\n",
        "        raise RuntimeError(\"No usable data found for any ticker.\")\n",
        "\n",
        "    full = pd.concat(all_dfs, ignore_index=True)\n",
        "    # Save to Drive path and a local mirror\n",
        "    local_out = \"multi_stock_feature_engineered_dataset.csv\"\n",
        "    full.to_csv(FEATURE_CSV, index=False)  # Drive/mounted path\n",
        "    full.to_csv(local_out, index=False)    # local copy for training\n",
        "\n",
        "    # Verify artifacts (logger only; no prints)\n",
        "    for p in (local_out, FEATURE_CSV):\n",
        "        exists = os.path.exists(p)\n",
        "        if not exists:\n",
        "            log.error(\"Artifact missing: %s\", p)\n",
        "            continue\n",
        "        sz = os.path.getsize(p)\n",
        "        tm = time.ctime(os.path.getmtime(p))\n",
        "        try:\n",
        "            head = pd.read_csv(p, nrows=2)\n",
        "            cols = list(head.columns)\n",
        "            sample = head.to_string(index=False)\n",
        "        except Exception as e:\n",
        "            cols, sample = [], f\"<read error: {e}>\"\n",
        "        log.info(\"Artifact: %s | exists=%s | size=%s bytes | modified=%s | cols=%s\",\n",
        "                 p, exists, f\"{sz:,}\", tm, cols[:8])\n",
        "        log.info(\"Head preview:\\n%s\", sample)\n",
        "\n",
        "    log.info(\"Saved combined CSV → %s (rows=%d)\", FEATURE_CSV, len(full))\n",
        "    return full\n",
        "\n",
        "# --------------- Runner / Diagnostics ---------------\n",
        "def _probe(path, nrows=2):\n",
        "    ok = os.path.exists(path)\n",
        "    log.info(\"Check: %s | exists=%s\", path, ok)\n",
        "    if not ok:\n",
        "        return\n",
        "    sz = os.path.getsize(path)\n",
        "    tm = time.ctime(os.path.getmtime(path))\n",
        "    log.info(\"  size=%s bytes | modified=%s\", f\"{sz:,}\", tm)\n",
        "    try:\n",
        "        head = pd.read_csv(path, nrows=nrows)\n",
        "        log.info(\"  cols: %s\", list(head.columns)[:10])\n",
        "        log.info(\"\\n%s\", head.to_string(index=False))\n",
        "    except Exception as e:\n",
        "        log.warning(\"  head() failed: %s\", e)\n",
        "\n",
        "if __name__ == \"__main__\":\n",
        "    # Ensure logs are visible\n",
        "    log.setLevel(logging.INFO)\n",
        "    for h in log.handlers:\n",
        "        h.setLevel(logging.INFO)\n",
        "\n",
        "    log.info(\"=== START: download + feature build ===\")\n",
        "    try:\n",
        "        df_built = build_features_if_needed()   # triggers download + FE\n",
        "        log.info(\"Built features shape: %s\", getattr(df_built, \"shape\", None))\n",
        "    except Exception as e:\n",
        "        log.exception(\"Build failed: %s\", e)\n",
        "\n",
        "    # Prove both CSVs (Drive mirror + local)\n",
        "    _probe(FEATURE_CSV)\n",
        "    _probe(\"multi_stock_feature_engineered_dataset.csv\")\n",
        "    log.info(\"Logs also written to: %s\", os.path.join(LOG_DIR, \"download_fe.log\"))\n"
      ]
    },
    {
      "cell_type": "code",
      "execution_count": 5,
      "metadata": {
        "id": "P2QYuTBaDQJw",
        "colab": {
          "base_uri": "https://localhost:8080/"
        },
        "outputId": "bb9745ce-2bbe-4a2b-cccc-6a5bb8272e78"
      },
      "outputs": [
        {
          "output_type": "stream",
          "name": "stderr",
          "text": [
            "Gym has been unmaintained since 2022 and does not support NumPy 2.0 amongst other critical functionality.\n",
            "Please upgrade to Gymnasium, the maintained drop-in replacement of Gym, or contact the authors of your software and request that they upgrade.\n",
            "See the migration guide at https://gymnasium.farama.org/introduction/migration_guide/ for additional information.\n",
            "/usr/local/lib/python3.12/dist-packages/jupyter_client/session.py:203: DeprecationWarning: datetime.datetime.utcnow() is deprecated and scheduled for removal in a future version. Use timezone-aware objects to represent datetimes in UTC: datetime.datetime.now(datetime.UTC).\n",
            "  return datetime.utcnow().replace(tzinfo=utc)\n"
          ]
        }
      ],
      "source": [
        "# --- strict determinism block (very top) ---\n",
        "import os, random\n",
        "os.environ[\"PYTHONHASHSEED\"] = \"42\"\n",
        "os.environ.setdefault(\"OMP_NUM_THREADS\", \"1\")\n",
        "os.environ.setdefault(\"MKL_NUM_THREADS\", \"1\")\n",
        "os.environ.setdefault(\"OPENBLAS_NUM_THREADS\", \"1\")\n",
        "os.environ.setdefault(\"NUMEXPR_NUM_THREADS\", \"1\")\n",
        "os.environ[\"CUBLAS_WORKSPACE_CONFIG\"] = \":16:8\"\n",
        "\n",
        "import numpy as np\n",
        "import torch\n",
        "\n",
        "try:\n",
        "    torch.set_num_interop_threads(1)\n",
        "except RuntimeError:\n",
        "    pass\n",
        "try:\n",
        "    torch.set_num_threads(1)\n",
        "except RuntimeError:\n",
        "    pass\n",
        "\n",
        "SEED = 42\n",
        "random.seed(SEED)\n",
        "np.random.seed(SEED)\n",
        "torch.manual_seed(SEED)\n",
        "if torch.cuda.is_available():\n",
        "    torch.cuda.manual_seed_all(SEED)\n",
        "    torch.backends.cuda.matmul.allow_tf32 = False\n",
        "    torch.backends.cudnn.allow_tf32 = False\n",
        "torch.backends.cudnn.deterministic = True\n",
        "torch.backends.cudnn.benchmark = False\n",
        "try:\n",
        "    torch.use_deterministic_algorithms(True)\n",
        "except Exception:\n",
        "    pass\n",
        "\n",
        "# ---- libs used below (import after the determinism block) ----\n",
        "import gc, time, joblib, json, re, sys, logging, warnings, pywt\n",
        "import pandas as pd\n",
        "import matplotlib.pyplot as plt\n",
        "import yfinance as yf\n",
        "from datetime import datetime, timedelta, timezone\n",
        "import heapq\n",
        "try:\n",
        "    gc.freeze()\n",
        "except AttributeError:\n",
        "    pass\n",
        "\n",
        "\n",
        "# gymnasium + SB3\n",
        "import gymnasium as gym\n",
        "from gymnasium.spaces import Box\n",
        "from stable_baselines3 import SAC\n",
        "from stable_baselines3.common.vec_env import DummyVecEnv, VecNormalize\n",
        "from stable_baselines3.common.monitor import Monitor\n",
        "from stable_baselines3.common.callbacks import EvalCallback, StopTrainingOnNoModelImprovement\n",
        "from stable_baselines3.common.utils import set_random_seed\n",
        "\n",
        "# sklearn\n",
        "from sklearn.preprocessing import StandardScaler\n",
        "from sklearn.metrics import accuracy_score, precision_score, recall_score, f1_score\n",
        "\n",
        "warnings.filterwarnings(\"ignore\", message=\".*Gym has been unmaintained.*\")\n",
        "warnings.filterwarnings(\"ignore\", category=DeprecationWarning, module=\"jupyter_client.session\")\n",
        "\n",
        "# Seed SB3 utilities (matches PPO pattern)\n",
        "set_random_seed(SEED)\n",
        "\n",
        "TOP_N_WINDOWS = 3\n",
        "\n",
        "# ========= Logging =========\n",
        "TEST_MODE = True\n",
        "FAST_TEST = True  # define first so it can influence LOG_LEVEL\n",
        "LOG_LEVEL = os.getenv(\"LOG_LEVEL\", \"INFO\").upper()\n",
        "if FAST_TEST and LOG_LEVEL == \"INFO\":\n",
        "    LOG_LEVEL = \"WARNING\"  # quiet during fast smoke tests\n",
        "\n",
        "logging.basicConfig(\n",
        "    level=getattr(logging, LOG_LEVEL, logging.INFO),\n",
        "    format=\":%(asctime)s | %(levelname)s | %(name)s | %(message)s\",\n",
        "    handlers=[logging.StreamHandler(sys.stdout), logging.FileHandler(\"sac_run.log\", mode=\"a\")],\n",
        ")\n",
        "log = logging.getLogger(\"SAC-Resume\")\n",
        "\n",
        "# Where to save results (Colab-style path by default; override via env)\n",
        "DRIVE_BASE = os.getenv(\"DRIVE_BASE\", \"/content/drive/MyDrive\")\n",
        "os.makedirs(DRIVE_BASE, exist_ok=True)\n",
        "\n",
        "BASE_DIR   = \"./sac_parity\"\n",
        "DATA_DIR   = os.path.join(BASE_DIR, \"data\")\n",
        "LOG_DIR    = os.path.join(BASE_DIR, \"logs\")\n",
        "os.makedirs(DATA_DIR, exist_ok=True)\n",
        "os.makedirs(LOG_DIR, exist_ok=True)\n",
        "os.makedirs(DRIVE_BASE, exist_ok=True)\n",
        "\n",
        "RESULTS_DIR = os.path.join(DRIVE_BASE, \"Results_May_2025\", \"results_sac_walkforward\")\n",
        "SAVE_DIR    = os.path.join(RESULTS_DIR, \"models_sac\")\n",
        "for p in [RESULTS_DIR, SAVE_DIR]:\n",
        "    os.makedirs(p, exist_ok=True)\n",
        "\n",
        "# Canonical CSV (in Results folder) + Drive mirror + local mirror\n",
        "FEATURE_CSV_RESULTS = os.path.join(RESULTS_DIR, \"multi_stock_feature_engineered_dataset.csv\")\n",
        "FEATURE_CSV_DRIVE   = os.path.join(DRIVE_BASE, \"trading_data\", \"multi_stock_feature_engineered_dataset.csv\")\n",
        "FEATURE_CSV_LOCAL   = \"multi_stock_feature_engineered_dataset.csv\"\n",
        "os.makedirs(os.path.dirname(FEATURE_CSV_DRIVE), exist_ok=True)\n",
        "\n",
        "# ========= Feature Toggles / Data Params =========\n",
        "USE_SENTIMENT  = False\n",
        "USE_REGIME     = True\n",
        "USE_WAVELET    = True\n",
        "USE_GREEKS     = True  # placeholder (unused here)\n",
        "\n",
        "# Action → exposure hygiene\n",
        "DEAD_BAND        = 0.05   # |a| < DEAD_BAND -> 0 exposure (reduces micro-churn)\n",
        "MIN_TRADE_DELTA  = 0.02   # ignore exposure changes smaller than this\n",
        "\n",
        "# Risk controls (Phase 3)\n",
        "STOP_LOSS_PCT    = 0.03   # 3% adverse move from entry triggers forced flat\n",
        "TAKE_PROFIT_PCT  = 0.06   # 6% favorable move from entry triggers forced flat\n",
        "COOLDOWN_STEPS   = 5      # steps to remain flat after SL/TP or attempted flip\n",
        "\n",
        "\n",
        "# ========= Device & Policy (unchanged) =========\n",
        "device = torch.device(\"cuda\" if torch.cuda.is_available() else \"cpu\")\n",
        "policy_kwargs = dict(net_arch=[64, 64])\n",
        "\n",
        "INTERVAL    = \"1h\"\n",
        "PERIOD_DAYS = 720\n",
        "\n",
        "# ========= Universe =========\n",
        "TICKERS = [\n",
        "    'AAPL','TSLA','MSFT','GOOGL','AMZN','NVDA','META','BRK-B','JPM','JNJ',\n",
        "    'XOM','V','PG','UNH','MA','HD','LLY','MRK','PEP','KO',\n",
        "    'BAC','ABBV','AVGO','PFE','COST','CSCO','TMO','ABT','ACN','WMT',\n",
        "    'MCD','ADBE','DHR','CRM','NKE','INTC','QCOM','NEE','AMD','TXN',\n",
        "    'AMGN','UPS','LIN','PM','UNP','BMY','LOW','RTX','CVX','IBM',\n",
        "    'GE','SBUX','ORCL'\n",
        "]\n",
        "SYMBOLS = TICKERS[:]  # can override for short tests\n",
        "\n",
        "fast_names = {\n",
        "    \"TSLA\",\"NVDA\",\"AMD\",\"AVGO\",\"AAPL\",\"MSFT\",\"AMZN\",\"GOOGL\",\"META\",\"ADBE\",\"CRM\",\n",
        "    \"INTC\",\"QCOM\",\"TXN\",\"ORCL\",\"NEE\",\"GE\",\"XOM\",\"CVX\",\"LLY\",\"NKE\",\"SBUX\"\n",
        "}\n",
        "slow_names = {\n",
        "    \"BRK-B\",\"JPM\",\"BAC\",\"JNJ\",\"UNH\",\"MRK\",\"PFE\",\"ABBV\",\"ABT\",\"AMGN\",\"PG\",\"PEP\",\"KO\",\n",
        "    \"V\",\"MA\",\"WMT\",\"MCD\",\"TMO\",\"DHR\",\"ACN\",\"IBM\",\"LIN\",\"PM\",\"RTX\",\"UPS\",\"UNP\",\"COST\",\"HD\",\"LOW\"\n",
        "}\n",
        "\n",
        "def pick_bucket(symbol: str) -> str:\n",
        "    if symbol in fast_names: return \"FAST\"\n",
        "    if symbol in slow_names: return \"SLOW\"\n",
        "    return \"MED\"\n",
        "\n",
        "# ========= Helpers: schema + datetime =========\n",
        "def _force_datetime_column(df: pd.DataFrame) -> pd.DataFrame:\n",
        "    \"\"\"Ensure tz-naive 'Datetime' exists, dedup and sort.\"\"\"\n",
        "    if isinstance(df.index, pd.DatetimeIndex):\n",
        "        try:\n",
        "            df.index = df.index.tz_convert(None)\n",
        "        except Exception:\n",
        "            try:\n",
        "                df.index = df.index.tz_localize(None)\n",
        "            except Exception:\n",
        "                pass\n",
        "        df.index.name = 'Datetime'\n",
        "        df = df.reset_index()\n",
        "    else:\n",
        "        df = df.reset_index()\n",
        "        first = df.columns[0]\n",
        "        if np.issubdtype(df[first].dtype, np.datetime64):\n",
        "            df = df.rename(columns={first: 'Datetime'})\n",
        "        elif 'Date' in df.columns:\n",
        "            df['Datetime'] = pd.to_datetime(df['Date'])\n",
        "        elif 'Datetime' not in df.columns:\n",
        "            df['Datetime'] = pd.to_datetime(df[first], errors='coerce')\n",
        "    if 'Datetime' not in df.columns:\n",
        "        raise KeyError(\"Failed to construct 'Datetime' from data.\")\n",
        "    df['Datetime'] = pd.to_datetime(df['Datetime'])\n",
        "    return df.drop_duplicates(subset=['Datetime']).sort_values('Datetime').reset_index(drop=True)\n",
        "\n",
        "def _normalize_ohlcv(df_in: pd.DataFrame, ticker: str) -> pd.DataFrame:\n",
        "    \"\"\"Flatten MultiIndex, strip ticker prefixes/suffixes, map to canonical OHLCV names.\"\"\"\n",
        "    df = df_in.copy()\n",
        "    if isinstance(df.columns, pd.MultiIndex):\n",
        "        df.columns = [\" \".join([str(p) for p in col if p]) for col in df.columns]\n",
        "    df.columns = [re.sub(r\"\\s+\", \" \", str(c)).strip() for c in df.columns]\n",
        "    tkr = ticker.upper().replace(\"-\", \"[- ]?\")\n",
        "    cleaned = {}\n",
        "    for c in df.columns:\n",
        "        cu = c.upper()\n",
        "        cu = re.sub(rf\"^(?:{tkr})[\\s/_-]+\", \"\", cu)\n",
        "        cu = re.sub(rf\"[\\s/_-]+(?:{tkr})$\", \"\", cu)\n",
        "        cleaned[c] = cu.title()\n",
        "    if any(cleaned[c] != c for c in df.columns):\n",
        "        df = df.rename(columns=cleaned)\n",
        "    cols_ci = {c.lower(): c for c in df.columns}\n",
        "    wants = {\n",
        "        \"Open\":      [\"open\"],\n",
        "        \"High\":      [\"high\"],\n",
        "        \"Low\":       [\"low\"],\n",
        "        \"Close\":     [\"close\",\"last\",\"close*\"],\n",
        "        \"Adj Close\": [\"adj close\",\"adj_close\",\"adjclose\",\"adjusted close\"],\n",
        "        \"Volume\":    [\"volume\",\"vol\"]\n",
        "    }\n",
        "    rename_map = {}\n",
        "    for desired, alts in wants.items():\n",
        "        if desired.lower() in cols_ci:\n",
        "            rename_map[cols_ci[desired.lower()]] = desired\n",
        "        else:\n",
        "            for a in alts:\n",
        "                if a in cols_ci:\n",
        "                    rename_map[cols_ci[a]] = desired\n",
        "                    break\n",
        "    if rename_map:\n",
        "        df = df.rename(columns=rename_map)\n",
        "    return df\n",
        "\n",
        "# ========= Downloader (retry + history() fallback) =========\n",
        "def download_stock_data(ticker, interval=\"1h\", period_days=720, max_retries=5, sleep_base=3):\n",
        "    \"\"\"\n",
        "    Robust yfinance intraday downloader.\n",
        "    Guarantees: Open, High, Low, Close, Volume (+Adj Close), Datetime, Symbol.\n",
        "    \"\"\"\n",
        "    period_str = f\"{int(period_days)}d\"\n",
        "\n",
        "    def _post(df: pd.DataFrame) -> pd.DataFrame:\n",
        "        df = _normalize_ohlcv(df, ticker)\n",
        "        df = _force_datetime_column(df)\n",
        "        needed = {'Open', 'High', 'Low', 'Close', 'Volume'}\n",
        "        missing = needed - set(df.columns)\n",
        "        if missing:\n",
        "            raise ValueError(f\"Missing OHLCV columns after normalize: {missing}\")\n",
        "        if 'Adj Close' not in df.columns:\n",
        "            df['Adj Close'] = df['Close']\n",
        "        return df\n",
        "\n",
        "    for attempt in range(1, max_retries + 1):\n",
        "        try:\n",
        "            log.info(f\"[{ticker}] Attempt {attempt}: download({period_str}, {interval})\")\n",
        "            df = yf.download(\n",
        "                tickers=ticker, period=period_str, interval=interval,\n",
        "                progress=False, auto_adjust=False, group_by='column',\n",
        "                threads=False, prepost=False, repair=True\n",
        "            )\n",
        "            if df is None or df.empty:\n",
        "                raise ValueError(\"Empty data from download()\")\n",
        "            df = _post(df); df['Symbol'] = ticker\n",
        "            log.info(f\"[{ticker}] rows={len(df)} {df['Datetime'].min()}→{df['Datetime'].max()}\")\n",
        "            return df\n",
        "        except Exception as e1:\n",
        "            log.warning(f\"[{ticker}] download error: {e1} | trying history()\")\n",
        "            try:\n",
        "                hist = yf.Ticker(ticker).history(\n",
        "                    period=period_str, interval=interval,\n",
        "                    auto_adjust=False, actions=False\n",
        "                )\n",
        "                if hist is None or hist.empty:\n",
        "                    raise ValueError(\"Empty data from history()\")\n",
        "                df = _post(hist); df['Symbol'] = ticker\n",
        "                log.info(f\"[{ticker}] (fallback) rows={len(df)} {df['Datetime'].min()}→{df['Datetime'].max()}\")\n",
        "                return df\n",
        "            except Exception as e2:\n",
        "                wait = sleep_base * attempt\n",
        "                log.warning(f\"[{ticker}] history() error: {e2} | retrying in {wait}s\")\n",
        "                time.sleep(wait)\n",
        "\n",
        "    log.error(f\"[{ticker}] Failed after {max_retries} attempts.\")\n",
        "    return None\n",
        "\n",
        "# ========= Feature Engineering =========\n",
        "def denoise_wavelet(series, wavelet='db1', level=2):\n",
        "    s = pd.Series(series).astype(float).ffill().bfill().to_numpy()\n",
        "    try:\n",
        "        coeffs = pywt.wavedec(s, wavelet, mode='symmetric', level=level)\n",
        "        for i in range(1, len(coeffs)):\n",
        "            coeffs[i] = np.zeros_like(coeffs[i])\n",
        "        rec = pywt.waverec(coeffs, wavelet, mode='symmetric')\n",
        "        return pd.Series(rec[:len(s)], index=series.index)\n",
        "    except Exception as e:\n",
        "        log.warning(f\"Wavelet denoise failed ({e}); returning raw series.\")\n",
        "        return pd.Series(s, index=series.index)\n",
        "\n",
        "def add_regime(df: pd.DataFrame) -> pd.DataFrame:\n",
        "    df['Vol20'] = df['Close'].pct_change().rolling(20).std()\n",
        "    df['Ret20'] = df['Close'].pct_change(20)\n",
        "    vol_hi   = (df['Vol20'] > df['Vol20'].median()).astype(int)\n",
        "    trend_hi = (df['Ret20'].abs() > df['Ret20'].abs().median()).astype(int)\n",
        "    df['Regime4'] = vol_hi * 2 + trend_hi  # 0..3\n",
        "    return df\n",
        "\n",
        "def compute_enhanced_features(df: pd.DataFrame) -> tuple[pd.DataFrame, list]:\n",
        "    \"\"\"\n",
        "    Returns (feature_df, FEATURES).\n",
        "    Input must contain: Datetime, Symbol, Open, High, Low, Close, Volume.\n",
        "    \"\"\"\n",
        "    df = df.copy()\n",
        "    req = {\"Open\", \"High\", \"Low\", \"Close\", \"Volume\"}\n",
        "    assert req.issubset(df.columns), f\"OHLCV columns missing: {req - set(df.columns)}\"\n",
        "\n",
        "    close = df[\"Close\"].astype(\"float64\")\n",
        "    high  = df[\"High\"].astype(\"float64\")\n",
        "    low   = df[\"Low\"].astype(\"float64\")\n",
        "    open_ = df[\"Open\"].astype(\"float64\")\n",
        "    vol   = (df[\"Volume\"].astype(\"float64\") + 1.0)\n",
        "\n",
        "    # Returns & lags\n",
        "    df[\"ret_1\"]     = close.pct_change(1)\n",
        "    df[\"ret_3\"]     = close.pct_change(3)\n",
        "    df[\"ret_5\"]     = close.pct_change(5)\n",
        "    df[\"ret_10\"]    = close.pct_change(10)\n",
        "    df[\"logret_1\"]  = np.log(close).diff(1)\n",
        "\n",
        "    # MAs / vol\n",
        "    df[\"ma_5\"]      = close.rolling(5).mean()\n",
        "    df[\"ma_10\"]     = close.rolling(10).mean()\n",
        "    df[\"ma_20\"]     = close.rolling(20).mean()\n",
        "    df[\"ema_10\"]    = close.ewm(span=10, adjust=False).mean()\n",
        "    df[\"ema_20\"]    = close.ewm(span=20, adjust=False).mean()\n",
        "    df[\"std_10\"]    = close.rolling(10).std()\n",
        "    df[\"std_20\"]    = close.rolling(20).std()\n",
        "\n",
        "    df[\"ema10_ratio\"] = df[\"ema_10\"] / close - 1.0\n",
        "    df[\"ema20_ratio\"] = df[\"ema_20\"] / close - 1.0\n",
        "\n",
        "    df[\"z_close_20\"] = (close - df[\"ma_20\"]) / df[\"std_20\"].replace(0, np.nan)\n",
        "\n",
        "    # RSI(14)\n",
        "    delta      = close.diff()\n",
        "    up         = delta.clip(lower=0.0)\n",
        "    down       = -delta.clip(upper=0.0)\n",
        "    roll_up    = up.ewm(alpha=1/14, adjust=False).mean()\n",
        "    roll_down  = down.ewm(alpha=1/14, adjust=False).mean()\n",
        "    rs         = roll_up / roll_down.replace(0, np.nan)\n",
        "    df[\"rsi_14\"] = 100 - (100 / (1 + rs))\n",
        "\n",
        "    # Stoch(14,3)\n",
        "    ll14       = low.rolling(14).min()\n",
        "    hh14       = high.rolling(14).max()\n",
        "    den_14     = (hh14 - ll14).replace(0, np.nan)\n",
        "    df[\"stoch_k\"] = 100 * (close - ll14) / den_14\n",
        "    df[\"stoch_d\"] = df[\"stoch_k\"].rolling(3).mean()\n",
        "\n",
        "    # MACD\n",
        "    ema12         = close.ewm(span=12, adjust=False).mean()\n",
        "    ema26         = close.ewm(span=26, adjust=False).mean()\n",
        "    macd          = ema12 - ema26\n",
        "    macd_sig      = macd.ewm(span=9, adjust=False).mean()\n",
        "    df[\"macd\"]        = macd\n",
        "    df[\"macd_signal\"] = macd_sig\n",
        "    df[\"macd_hist\"]   = macd - macd_sig\n",
        "\n",
        "    # Bollinger(20,2)\n",
        "    bb_mid      = df[\"ma_20\"]\n",
        "    bb_std      = df[\"std_20\"]\n",
        "    bb_up       = bb_mid + 2 * bb_std\n",
        "    bb_lo       = bb_mid - 2 * bb_std\n",
        "    band_width  = (bb_up - bb_lo)\n",
        "    df[\"bb_perc_b\"]   = (close - bb_lo) / band_width.replace(0, np.nan)\n",
        "    df[\"bb_bandwidth\"] = band_width / bb_mid.replace(0, np.nan)\n",
        "\n",
        "    # ATR(14)\n",
        "    prev_close  = close.shift(1)\n",
        "    tr = np.maximum(high - low,\n",
        "                    np.maximum((high - prev_close).abs(), (low - prev_close).abs()))\n",
        "    df[\"atr_14\"] = tr.rolling(14).mean()\n",
        "\n",
        "    # Volume features\n",
        "    df[\"vol_ma_20\"]    = vol.rolling(20).mean()\n",
        "    df[\"vol_std_20\"]   = vol.rolling(20).std()\n",
        "    df[\"vol_z_20\"]     = (vol - df[\"vol_ma_20\"]) / df[\"vol_std_20\"].replace(0, np.nan)\n",
        "    df[\"vol_change_1\"] = vol.pct_change(1)\n",
        "\n",
        "    # Spreads\n",
        "    df[\"hl_spread\"] = (high - low) / close.replace(0, np.nan)\n",
        "    df[\"oc_spread\"] = (close - open_) / open_.replace(0, np.nan)\n",
        "\n",
        "    # Simple cross\n",
        "    df[\"ema10_gt_ema20\"] = (df[\"ema_10\"] > df[\"ema_20\"]).astype(\"float32\")\n",
        "\n",
        "    if USE_WAVELET:\n",
        "        df[\"denoised_close\"] = denoise_wavelet(pd.Series(close, index=df.index))\n",
        "    if USE_REGIME:\n",
        "        df = add_regime(df)  # adds 'Regime4'\n",
        "\n",
        "    # Clean + dtypes\n",
        "    df.replace([np.inf, -np.inf], np.nan, inplace=True)\n",
        "    df.fillna(0.0, inplace=True)\n",
        "\n",
        "    FEATURES = [\n",
        "        \"ret_1\",\"ret_3\",\"ret_5\",\"ret_10\",\"logret_1\",\n",
        "        \"ma_5\",\"ma_10\",\"ma_20\",\"ema_10\",\"ema_20\",\"ema10_ratio\",\"ema20_ratio\",\n",
        "        \"std_10\",\"std_20\",\"z_close_20\",\n",
        "        \"rsi_14\",\"stoch_k\",\"stoch_d\",\n",
        "        \"macd\",\"macd_signal\",\"macd_hist\",\n",
        "        \"bb_perc_b\",\"bb_bandwidth\",\n",
        "        \"atr_14\",\n",
        "        \"vol_ma_20\",\"vol_std_20\",\"vol_z_20\",\"vol_change_1\",\n",
        "        \"hl_spread\",\"oc_spread\",\"ema10_gt_ema20\",\n",
        "    ]\n",
        "    df[FEATURES] = df[FEATURES].astype(\"float32\")\n",
        "    return df, FEATURES\n",
        "\n",
        "# ========= Orchestrator (download + features + save) =========\n",
        "def build_features_if_needed() -> pd.DataFrame:\n",
        "    \"\"\"\n",
        "    If any features CSV exists, load and return it.\n",
        "    Else: download, engineer, save to RESULTS/Drive/local, and return.\n",
        "    \"\"\"\n",
        "    for candidate in [FEATURE_CSV_LOCAL, FEATURE_CSV_RESULTS, FEATURE_CSV_DRIVE]:\n",
        "        if os.path.exists(candidate):\n",
        "            log.info(f\"Using existing features CSV: {candidate}\")\n",
        "            d = pd.read_csv(candidate)\n",
        "            d[\"Datetime\"] = pd.to_datetime(d[\"Datetime\"])\n",
        "            return d\n",
        "\n",
        "    all_dfs = []\n",
        "    for i, ticker in enumerate(SYMBOLS, 1):\n",
        "        log.info(f\"[{i}/{len(SYMBOLS)}] {ticker} — downloading\")\n",
        "        raw = download_stock_data(ticker, interval=INTERVAL, period_days=PERIOD_DAYS)\n",
        "        if raw is None or raw.empty:\n",
        "            log.warning(f\"[{ticker}] no data; skipping.\")\n",
        "            continue\n",
        "        try:\n",
        "            feats, _ = compute_enhanced_features(raw)\n",
        "            if feats is not None and not feats.empty:\n",
        "                all_dfs.append(feats)\n",
        "                out_parq = os.path.join(DATA_DIR, f\"{ticker}.parquet\")\n",
        "                feats.to_parquet(out_parq, index=False)\n",
        "                log.info(f\"[{ticker}] features={len(feats)} rows → {out_parq}\")\n",
        "            else:\n",
        "                log.warning(f\"[{ticker}] empty features; skipped.\")\n",
        "        except Exception as e:\n",
        "            log.error(f\"[{ticker}] FE failed: {e}\")\n",
        "        finally:\n",
        "            del raw\n",
        "            try: del feats\n",
        "            except: pass\n",
        "            gc.collect()\n",
        "            time.sleep(0.2)\n",
        "\n",
        "    if not all_dfs:\n",
        "        raise RuntimeError(\"No usable data found for any ticker.\")\n",
        "\n",
        "    full = pd.concat(all_dfs, ignore_index=True)\n",
        "    del all_dfs\n",
        "    gc.collect()\n",
        "    # Save to all mirrors\n",
        "    full.to_csv(FEATURE_CSV_RESULTS, index=False)\n",
        "    full.to_csv(FEATURE_CSV_DRIVE,   index=False)\n",
        "    full.to_csv(FEATURE_CSV_LOCAL,   index=False)\n",
        "    # Verify artifacts\n",
        "    def _probe_artifact(path):\n",
        "        ok = os.path.exists(path)\n",
        "        log.info(\"Artifact: %s | exists=%s\", path, ok)\n",
        "        if not ok: return\n",
        "        sz = os.path.getsize(path)\n",
        "        tm = time.ctime(os.path.getmtime(path))\n",
        "        try:\n",
        "            head = pd.read_csv(path, nrows=2)\n",
        "            cols = list(head.columns)\n",
        "            sample = head.to_string(index=False)\n",
        "        except Exception as e:\n",
        "            cols, sample = [], f\"<read error: {e}>\"\n",
        "        log.info(\"  size=%s bytes | modified=%s | cols=%s\", f\"{sz:,}\", tm, cols[:10])\n",
        "        log.info(\"  head:\\n%s\", sample)\n",
        "\n",
        "    for pth in [FEATURE_CSV_RESULTS, FEATURE_CSV_DRIVE, FEATURE_CSV_LOCAL]:\n",
        "        _probe_artifact(pth)\n",
        "    log.info(\"Saved combined CSV → %s (rows=%d)\", FEATURE_CSV_RESULTS, len(full))\n",
        "    return full\n",
        "# ========= SAC side toggles/knobs =========\n",
        "ENABLE_PLOTS   = False\n",
        "ENABLE_SLO     = True\n",
        "LIVE_MODE      = False\n",
        "SIM_LATENCY_MS = 0\n",
        "BROKER         = \"log\"\n",
        "USE_REGIME_TRAIN = False\n",
        "USE_SENTIMENT_TRAIN = False\n",
        "ENABLE_WAVELET_TRAIN = False\n",
        "\n",
        "# ---- Phase 4: reward shaping toggles ----\n",
        "ENABLE_WHIPSAW_PENALTY   = True     # penalize flips/attempted flips\n",
        "WHIPSAW_PENALTY          = 0.001    # ~10 bps hit to step reward\n",
        "ENABLE_COOLDOWN_PENALTY  = True     # small per-step penalty while cooling down\n",
        "COOLDOWN_STEP_PENALTY    = 0.0002   # ~2 bps per cooldown step\n",
        "\n",
        "\n",
        "MAX_EXPOSURE    = 1.0\n",
        "COMMISSION_BPS  = 1.0\n",
        "SLIPPAGE_BPS    = 2.0\n",
        "INITIAL_CAPITAL = 100_000.0\n",
        "\n",
        "CANDIDATE_WS   = [8, 10, 12, 16, 24]\n",
        "TOP_N_WINDOWS  = 1 if TEST_MODE else 3\n",
        "PROBE_STEPS    = 300 if TEST_MODE else 1500\n",
        "MAX_PROBE_EVAL = 400\n",
        "\n",
        "LOG_TRADES_TRAIN  = False\n",
        "LOG_TRADES_EVALCB = False\n",
        "LOG_TRADES_FINAL  = True\n",
        "\n",
        "FAST = dict(\n",
        "    learning_rate=3e-4, batch_size=256, train_freq=1, gradient_steps=1,\n",
        "    gamma=0.99, tau=0.02, target_update_interval=1, ent_coef=\"auto\",\n",
        "    buffer_size=int(1e6), learning_starts=10_000,\n",
        "\n",
        ")\n",
        "SLOW = dict(\n",
        "    learning_rate=1e-4, batch_size=512, train_freq=4, gradient_steps=2,\n",
        "    gamma=0.995, tau=0.01, target_update_interval=2, ent_coef=\"auto\",\n",
        "    buffer_size=int(2e6), learning_starts=20_000,\n",
        "\n",
        ")\n",
        "\n",
        "if FAST_TEST:\n",
        "    CANDIDATE_WS   = [10]\n",
        "    TOP_N_WINDOWS  = 1\n",
        "    PROBE_STEPS    = 100\n",
        "    MAX_PROBE_EVAL = 150\n",
        "    MIN_TRAIN_STEPS   = 1000\n",
        "    USE_EVAL_CALLBACK = False\n",
        "    FAST[\"buffer_size\"] = 50_000; FAST[\"batch_size\"] = 128\n",
        "    SLOW[\"buffer_size\"] = 50_000; SLOW[\"batch_size\"] = 128\n",
        "    LOG_TRADES_FINAL = False\n",
        "\n",
        "def get_sac_cfg(symbol: str) -> dict:\n",
        "    if symbol in fast_names:\n",
        "        bucket = \"FAST\"; base = FAST\n",
        "    elif symbol in slow_names:\n",
        "        bucket = \"SLOW\"; base = SLOW\n",
        "    else:\n",
        "        bucket = \"DEFAULT\"; base = FAST\n",
        "    log.info(\"Config bucket for %s -> %s\", symbol, bucket)\n",
        "    return base | {\"_bucket\": bucket}\n",
        "\n",
        "# ========= DIAGNOSTICS: start download/feature build + file proofs =========\n",
        "log.info(\"yfinance version: %s\", getattr(yf, \"__version__\", \"unknown\"))\n",
        "log.info(\"pandas version: %s\", pd.__version__)\n",
        "\n",
        "# Force creation (writes RESULTS/DRIVE/LOCAL)\n",
        "_ = build_features_if_needed()\n",
        "\n",
        "# Resolve the dataset path to read from\n",
        "CANDIDATES_DATA = [FEATURE_CSV_LOCAL, FEATURE_CSV_RESULTS, FEATURE_CSV_DRIVE]\n",
        "DATA_PATH = next((p for p in CANDIDATES_DATA if os.path.exists(p)), None)\n",
        "if DATA_PATH is None:\n",
        "    raise FileNotFoundError(\"multi_stock_feature_engineered_dataset.csv not found after build.\")\n",
        "log.info(\"Resolved DATA_PATH: %s\", DATA_PATH)\n",
        "\n",
        "def _probe(path, nrows=5):\n",
        "    exists = os.path.exists(path)\n",
        "    log.info(\"Checking: %s | exists=%s\", path, exists)\n",
        "    if not exists: return\n",
        "    sz = os.path.getsize(path); tm = time.ctime(os.path.getmtime(path))\n",
        "    log.info(\"  size: %s bytes | modified: %s\", f\"{sz:,}\", tm)\n",
        "    try:\n",
        "        head = pd.read_csv(path, nrows=nrows)\n",
        "        log.info(\"  columns (first 10): %s ...\", list(head.columns)[:10])\n",
        "        log.info(\"\\n%s\", head.head(2).to_string(index=False))\n",
        "    except Exception as e:\n",
        "        log.warning(\"  peek failed: %s\", e)\n",
        "\n",
        "_probe(DATA_PATH)\n",
        "_probe(FEATURE_CSV_RESULTS)\n",
        "_probe(FEATURE_CSV_DRIVE)\n",
        "_probe(FEATURE_CSV_LOCAL)\n",
        "\n",
        "# Write Excel mirrors (optional)\n",
        "try:\n",
        "    df_check = pd.read_csv(DATA_PATH)\n",
        "    local_xlsx = \"multi_stock_feature_engineered_dataset.xlsx\"\n",
        "    drive_dir  = os.path.join(DRIVE_BASE, \"trading_data\")\n",
        "    os.makedirs(drive_dir, exist_ok=True)\n",
        "    drive_xlsx = os.path.join(drive_dir, \"multi_stock_feature_engineered_dataset.xlsx\")\n",
        "    df_check.to_excel(local_xlsx, index=False)\n",
        "    df_check.to_excel(drive_xlsx, index=False)\n",
        "    log.info(\"Saved Excel mirrors:\\n- %s\\n- %s\", local_xlsx, drive_xlsx)\n",
        "    del df_check\n",
        "    gc.collect()\n",
        "\n",
        "except Exception as e:\n",
        "    log.warning(\"Excel export skipped: %s\", e)\n",
        "\n",
        "# Optional high-level summary\n",
        "try:\n",
        "    df_diag = pd.read_csv(DATA_PATH)\n",
        "    if \"Datetime\" in df_diag.columns:\n",
        "        df_diag[\"Datetime\"] = pd.to_datetime(df_diag[\"Datetime\"], errors=\"coerce\")\n",
        "        dmin, dmax = df_diag[\"Datetime\"].min(), df_diag[\"Datetime\"].max()\n",
        "        log.info(\"Combined dataset shape: %s\", df_diag.shape)\n",
        "        log.info(\"Range: %s → %s\", dmin, dmax)\n",
        "        if \"Symbol\" in df_diag.columns:\n",
        "            counts = df_diag[\"Symbol\"].value_counts().sort_index()\n",
        "            log.info(\"Per-ticker counts:\\n%s\", counts.to_string())\n",
        "        if df_diag.isna().any().any():\n",
        "            na_cols = df_diag.columns[df_diag.isna().any()].tolist()\n",
        "            log.warning(\"NaNs detected in columns: %s\", na_cols)\n",
        "        else:\n",
        "            log.info(\"No NaNs detected.\")\n",
        "except Exception as e:\n",
        "    log.warning(\"Summary skipped: %s\", e)\n",
        "if 'df_diag' in locals():\n",
        "    del df_diag\n",
        "gc.collect()\n",
        "\n",
        "# ========= Resume: detect already-trained symbols from SAVE_DIR =========\n",
        "os.makedirs(SAVE_DIR, exist_ok=True)\n",
        "pat = re.compile(r\"^sac_([A-Za-z0-9\\-]+)(?:_.*)?\\.zip$\", re.IGNORECASE)\n",
        "\n",
        "df = pd.read_csv(DATA_PATH)\n",
        "if \"Datetime\" in df.columns:\n",
        "    df[\"Datetime\"] = pd.to_datetime(df[\"Datetime\"], utc=True)\n",
        "\n",
        "\n",
        "symbols_all = sorted({str(s).upper() for s in df[\"Symbol\"].unique()})\n",
        "completed_symbols = sorted({\n",
        "    pat.match(f).group(1).upper()\n",
        "    for f in os.listdir(SAVE_DIR) if pat.match(f)\n",
        "})\n",
        "remaining_symbols = [s for s in symbols_all if s not in completed_symbols]\n",
        "\n",
        "log.info(\"Completed: %d symbols | Remaining: %d symbols\", len(completed_symbols), len(remaining_symbols))\n",
        "log.info(\"Completed (first 10): %s\", completed_symbols[:10])\n",
        "log.info(\"Remaining (first 10): %s\", remaining_symbols[:10])\n",
        "\n",
        "# Ensure subdirs\n",
        "for sub in [\"scalers\", \"features\", \"signals\", \"plots\", \"vecnorms\", \"tmp\", \"model_info\"]:\n",
        "    os.makedirs(os.path.join(RESULTS_DIR, sub), exist_ok=True)\n",
        "\n",
        "# Run-level inference config\n",
        "inference_cfg_path = os.path.join(RESULTS_DIR, \"inference_config.json\")\n",
        "if not os.path.exists(inference_cfg_path):\n",
        "    run_infer_cfg = {\n",
        "        \"algo\": \"SAC\",\n",
        "        \"action_mode\": \"deterministic\",\n",
        "        \"conf_source\": \"none\",\n",
        "        \"conf_thresh\": None,\n",
        "        \"n_eval_runs\": 1,\n",
        "        \"created_at\": datetime.now().isoformat(),\n",
        "    }\n",
        "    with open(inference_cfg_path, \"w\") as f:\n",
        "        json.dump(run_infer_cfg, f, indent=2)\n",
        "    log.info(\"Wrote inference_config.json -> %s\", inference_cfg_path)\n",
        "\n",
        "# Optional live helper\n",
        "def latest_df_for_symbol(symbol: str, horizon_days: int = 5, interval: str = \"1m\"):\n",
        "    end = datetime.now(timezone.utc)\n",
        "    start = end - timedelta(days=horizon_days)\n",
        "    df_live = yf.download(\n",
        "        symbol, start=start.strftime(\"%Y-%m-%d\"), end=end.strftime(\"%Y-%m-%d\"),\n",
        "        interval=interval, progress=False, auto_adjust=False,\n",
        "    )\n",
        "    if df_live is None or df_live.empty:\n",
        "        log.warning(\"latest_df_for_symbol: no data for %s\", symbol); return None\n",
        "    df_live = df_live.reset_index()\n",
        "    if \"Datetime\" not in df_live.columns:\n",
        "        ts_col = df_live.columns[0]\n",
        "        df_live = df_live.rename(columns={ts_col: \"Datetime\"})\n",
        "    df_live[\"Datetime\"] = pd.to_datetime(df_live[\"Datetime\"], utc=True)\n",
        "    df_live[\"Symbol\"] = symbol\n",
        "    try:\n",
        "        feats, _ = compute_enhanced_features(df_live)\n",
        "        return feats\n",
        "    except Exception as e:\n",
        "        log.exception(\"Feature engineering failed for live %s: %s\", symbol, e)\n",
        "        return None\n",
        "\n",
        "log.info(\n",
        "    \"Toggles | TEST_MODE=%s ENABLE_PLOTS=%s ENABLE_SLO=%s LIVE_MODE=%s SIM_LATENCY_MS=%s \"\n",
        "    \"BROKER=%s USE_REGIME_TRAIN=%s USE_SENTIMENT_TRAIN=%s ENABLE_WAVELET_TRAIN=%s\",\n",
        "    TEST_MODE, ENABLE_PLOTS, ENABLE_SLO, LIVE_MODE, SIM_LATENCY_MS,\n",
        "    BROKER, USE_REGIME_TRAIN, USE_SENTIMENT_TRAIN, ENABLE_WAVELET_TRAIN\n",
        ")\n",
        "\n",
        "# If build function returns a DataFrame, prefer that:\n",
        "try:\n",
        "    df = build_features_if_needed()\n",
        "    if isinstance(df, str):  # not expected, but guard\n",
        "        df = pd.read_csv(df)\n",
        "except Exception:\n",
        "    df = pd.read_csv(DATA_PATH)\n",
        "df[\"Datetime\"] = pd.to_datetime(df[\"Datetime\"], utc=True)\n",
        "# ---- features.json (active numeric columns excluding Symbol/Datetime/Close) ----\n",
        "try:\n",
        "    feature_cols = [\n",
        "        c for c in df.columns\n",
        "        if c not in [\"Symbol\", \"Datetime\", \"Close\"]\n",
        "        and np.issubdtype(df[c].dtype, np.number)\n",
        "    ]\n",
        "    feat_manifest = {\n",
        "        \"created_at\": datetime.now().isoformat(),\n",
        "        \"algorithm\": \"SAC\",\n",
        "        \"feature_count\": len(feature_cols),\n",
        "        \"features\": feature_cols,\n",
        "        \"note\": \"These are the columns the env uses as observations.\"\n",
        "    }\n",
        "    with open(os.path.join(RESULTS_DIR, \"features.json\"), \"w\") as f:\n",
        "        json.dump(feat_manifest, f, indent=2)\n",
        "    log.info(\"Wrote features.json with %d features\", len(feature_cols))\n",
        "except Exception as e:\n",
        "    log.warning(\"features.json write skipped: %s\", e)\n",
        "\n",
        "# ========= Time windows =========\n",
        "max_ts = df[\"Datetime\"].max()\n",
        "test_end_dt    = max_ts\n",
        "train_start_dt = test_end_dt - timedelta(days=729)\n",
        "train_end_dt   = train_start_dt + timedelta(days=365)\n",
        "test_start_dt  = train_end_dt\n",
        "\n",
        "train_start = train_start_dt.strftime(\"%Y-%m-%d\")\n",
        "train_end   = train_end_dt.strftime(\"%Y-%m-%d\")\n",
        "test_start  = test_start_dt.strftime(\"%Y-%m-%d\")\n",
        "test_end    = test_end_dt.strftime(\"%Y-%m-%d\")\n",
        "\n",
        "train_start_ts = pd.to_datetime(train_start, utc=True)\n",
        "train_end_ts   = pd.to_datetime(train_end,   utc=True)\n",
        "test_start_ts  = pd.to_datetime(test_start,  utc=True)\n",
        "test_end_ts    = pd.to_datetime(test_end,    utc=True)\n",
        "\n",
        "log.info(\"Bounds UTC | train=[%s, %s) test=[%s, %s]\",\n",
        "         train_start_ts, train_end_ts, test_start_ts, test_end_ts)\n",
        "\n",
        "# ========= Choose run_symbols =========\n",
        "run_symbols = remaining_symbols\n",
        "if TEST_MODE:\n",
        "    fast_avail = [s for s in remaining_symbols if s in fast_names]\n",
        "    slow_avail = [s for s in remaining_symbols if s in slow_names]\n",
        "    pick_fast  = fast_avail[0] if fast_avail else (remaining_symbols[0] if remaining_symbols else None)\n",
        "    pick_slow  = next((s for s in slow_avail if s != pick_fast), None) if slow_avail else None\n",
        "    run_symbols = [s for s in [pick_fast, pick_slow] if s is not None]\n",
        "    log.info(\"TEST_MODE: limiting run to (FAST, SLOW) = %s\", run_symbols)\n",
        "if FAST_TEST:\n",
        "    run_symbols = run_symbols[:1]\n",
        "    log.info(\"FAST_TEST: limiting to one symbol -> %s\", run_symbols)\n",
        "\n",
        "# ========= Device & Policy =========\n",
        "device = torch.device(\"cuda\" if torch.cuda.is_available() else \"cpu\")\n",
        "policy_kwargs = dict(net_arch=[64, 64])\n",
        "\n",
        "class ContinuousTradingEnv(gym.Env):\n",
        "    \"\"\"\n",
        "    Continuous exposure env with costs + risk controls.\n",
        "\n",
        "      Phase 2:\n",
        "        - Action a in [-1,1] -> exposure in [-MAX_EXPOSURE, MAX_EXPOSURE]\n",
        "        - Deadband around zero, min trade delta\n",
        "        - Commission + slippage (bps) on position change notional\n",
        "\n",
        "      Phase 3:\n",
        "        - Stop-loss / Take-profit based on entry price\n",
        "        - Cooldown after forced exits or attempted flip (optional)\n",
        "    \"\"\"\n",
        "    metadata = {\"render_modes\": []}\n",
        "\n",
        "    def __init__(\n",
        "        self, df: pd.DataFrame, frame_bound: tuple, window_size: int,\n",
        "        max_exposure: float = MAX_EXPOSURE,\n",
        "        commission_bps: float = COMMISSION_BPS,\n",
        "        slippage_bps: float = SLIPPAGE_BPS,\n",
        "        initial_capital: float = INITIAL_CAPITAL,\n",
        "        log_trades: bool = True,\n",
        "        # Phase 2/3 params\n",
        "        dead_band: float = 0.0,\n",
        "        min_trade_delta: float = 0.0,\n",
        "        stop_loss_pct: float | None = None,\n",
        "        take_profit_pct: float | None = None,\n",
        "        cooldown_steps: int = 0,\n",
        "        # ---- Phase 4: reward shaping ----\n",
        "        whipsaw_penalty: float = 0.0,\n",
        "        cooldown_step_penalty: float = 0.0,\n",
        "    ):\n",
        "\n",
        "        super().__init__()\n",
        "        assert \"Close\" in df.columns and \"Datetime\" in df.columns, \"DataFrame must have Close & Datetime\"\n",
        "        self.raw_df = df.sort_values(\"Datetime\").reset_index(drop=True).copy()\n",
        "        self.window_size = int(window_size)\n",
        "        self.start_tick, self.end_tick = int(frame_bound[0]), int(frame_bound[1])\n",
        "        assert self.end_tick <= len(self.raw_df), \"frame_bound[1] exceeds data length\"\n",
        "        assert self.start_tick >= self.window_size, \"start tick must be >= window_size\"\n",
        "\n",
        "        self.prices = self.raw_df[\"Close\"].values.astype(np.float64)\n",
        "        feats = self.raw_df.drop(columns=[\"Symbol\", \"Datetime\", \"Close\"], errors=\"ignore\")\n",
        "        feats = feats.select_dtypes(include=[np.number]).astype(np.float32).values\n",
        "        self.features = feats\n",
        "        n_feat = self.features.shape[1]\n",
        "\n",
        "        self.action_space = Box(low=-1.0, high=1.0, shape=(1,), dtype=np.float32)\n",
        "        self.observation_space = Box(low=-np.inf, high=np.inf, shape=(self.window_size, n_feat), dtype=np.float32)\n",
        "\n",
        "        # Costs & exposure\n",
        "        self.max_exposure = float(max_exposure)\n",
        "        self.bps_total = (float(commission_bps) + float(slippage_bps)) / 10_000.0\n",
        "        self.initial_capital = float(initial_capital)\n",
        "\n",
        "        # Phase 2/3 settings\n",
        "        self.dead_band = float(dead_band)\n",
        "        self.min_trade_delta = float(min_trade_delta)\n",
        "        self.stop_loss_pct = float(stop_loss_pct) if stop_loss_pct is not None else None\n",
        "        self.take_profit_pct = float(take_profit_pct) if take_profit_pct is not None else None\n",
        "        self.cooldown_steps = int(cooldown_steps)\n",
        "        # Phase 4 penalties\n",
        "        self.whipsaw_penalty = float(whipsaw_penalty)\n",
        "        self.cooldown_step_penalty = float(cooldown_step_penalty)\n",
        "        self.log_trades = bool(log_trades)\n",
        "        self.log_every = 500 if TEST_MODE else 2000\n",
        "\n",
        "        # Runtime state\n",
        "        self.current_tick = None\n",
        "        self.position = None\n",
        "        self.portfolio_value = None\n",
        "        self.entry_price = None            # for SL/TP\n",
        "        self.cooldown_until = -1           # tick index until which entries are blocked\n",
        "        self.done_tick = self.end_tick - 1\n",
        "\n",
        "    def _obs(self):\n",
        "        start = self.current_tick - self.window_size\n",
        "        obs = self.features[start:self.current_tick]\n",
        "        return obs.astype(np.float32)\n",
        "\n",
        "    def reset(self, *, seed=None, options=None):\n",
        "        super().reset(seed=seed)\n",
        "        self.current_tick = max(self.start_tick, self.window_size)\n",
        "        self.position = 0.0\n",
        "        self.portfolio_value = self.initial_capital\n",
        "        self.entry_price = None\n",
        "        self.cooldown_until = -1\n",
        "        obs = self._obs()\n",
        "        info = {\n",
        "            \"portfolio_value\": float(self.portfolio_value),\n",
        "            \"position\": float(self.position),\n",
        "            \"price\": float(self.prices[self.current_tick]),\n",
        "            \"trade_cost\": 0.0,\n",
        "            \"risk_event\": None,\n",
        "            \"cooldown_left\": 0,\n",
        "            \"entry_price\": None,\n",
        "        }\n",
        "        return obs, info\n",
        "\n",
        "    # ---- helpers (Phase 3) ----\n",
        "    def _pnl_from_entry(self, price_now: float) -> float:\n",
        "        \"\"\"Signed P&L % vs entry, positive if in the trade's favor.\"\"\"\n",
        "        if self.entry_price is None or self.entry_price <= 0 or self.position == 0.0:\n",
        "            return 0.0\n",
        "        side = 1.0 if self.position > 0 else -1.0\n",
        "        return side * (price_now / self.entry_price - 1.0)\n",
        "\n",
        "    def _apply_risk_controls(self, price_t: float, proposed_pos: float):\n",
        "        \"\"\"\n",
        "        Returns (final_target_pos, event, cooldown_left).\n",
        "        - Blocks sign flips by forcing flat and starting cooldown\n",
        "        - Applies SL/TP by forcing flat and starting cooldown\n",
        "        - Enforces cooldown (no new entries while cooling down)\n",
        "        \"\"\"\n",
        "        event = None\n",
        "        cooldown_left = max(0, self.cooldown_until - self.current_tick)\n",
        "\n",
        "        # If cooling down already, stay/force flat until cooldown ends\n",
        "        if self.position == 0.0 and self.current_tick < self.cooldown_until:\n",
        "            return 0.0, \"cooldown\", cooldown_left\n",
        "\n",
        "        # Sign-flip guard: from long->short or short->long in one step\n",
        "        if (\n",
        "            self.cooldown_steps > 0 and\n",
        "            self.position != 0.0 and\n",
        "            np.sign(proposed_pos) != np.sign(self.position) and\n",
        "            abs(proposed_pos) >= self.min_trade_delta\n",
        "        ):\n",
        "            self.cooldown_until = self.current_tick + self.cooldown_steps\n",
        "            return 0.0, \"flip_block\", self.cooldown_steps\n",
        "\n",
        "        # SL / TP checks (only while in a position)\n",
        "        if self.position != 0.0:\n",
        "            pnl_entry = self._pnl_from_entry(price_t)\n",
        "            if (self.stop_loss_pct is not None) and (pnl_entry <= -self.stop_loss_pct):\n",
        "                self.cooldown_until = self.current_tick + self.cooldown_steps\n",
        "                return 0.0, \"stop_loss\", self.cooldown_steps\n",
        "            if (self.take_profit_pct is not None) and (pnl_entry >= self.take_profit_pct):\n",
        "                self.cooldown_until = self.current_tick + self.cooldown_steps\n",
        "                return 0.0, \"take_profit\", self.cooldown_steps\n",
        "\n",
        "        # No intervention\n",
        "        return proposed_pos, event, cooldown_left\n",
        "\n",
        "    def step(self, action):\n",
        "        # ----- proposed exposure from action (Phase 2) -----\n",
        "        a = float(np.array(action).reshape(-1)[0])\n",
        "        if abs(a) < self.dead_band:\n",
        "            a = 0.0\n",
        "        target_pos = float(np.clip(a, -1.0, 1.0)) * self.max_exposure\n",
        "        target_pos = float(np.clip(target_pos, -self.max_exposure, self.max_exposure))\n",
        "\n",
        "        # ignore tiny nudges\n",
        "        if abs(target_pos - (0.0 if self.position is None else self.position)) < self.min_trade_delta:\n",
        "            target_pos = self.position\n",
        "\n",
        "        price_t   = float(self.prices[self.current_tick])\n",
        "        old_pos   = float(0.0 if self.position is None else self.position)\n",
        "\n",
        "        # ----- Phase 3: risk controls override -----\n",
        "        target_pos, risk_event, cooldown_left = self._apply_risk_controls(price_t, target_pos)\n",
        "\n",
        "        # ----- transaction cost on position change -----\n",
        "        base_cash = self.portfolio_value if self.portfolio_value else self.initial_capital\n",
        "        trade_notional = abs(target_pos - old_pos) * base_cash\n",
        "        trade_cost = self.bps_total * trade_notional\n",
        "\n",
        "        # apply trade & costs\n",
        "        self.position = float(target_pos)\n",
        "        self.portfolio_value = float(base_cash - trade_cost)\n",
        "        if not np.isfinite(self.portfolio_value) or self.portfolio_value <= 0.0:\n",
        "            self.portfolio_value = max(1e-8, float(self.portfolio_value))\n",
        "\n",
        "        # ----- step return -----\n",
        "        next_tick = self.current_tick + 1\n",
        "        terminated = next_tick >= len(self.prices) or self.current_tick >= self.done_tick\n",
        "        price_tp1 = float(self.prices[min(next_tick, len(self.prices) - 1)])\n",
        "        ret = 0.0 if price_t <= 0 else (price_tp1 / price_t - 1.0)\n",
        "        v_prev = self.portfolio_value\n",
        "        self.portfolio_value = v_prev * (1.0 + self.position * ret)\n",
        "\n",
        "        # reward is post-cost step return\n",
        "        reward = 0.0 if v_prev <= 0 else (self.portfolio_value - v_prev) / v_prev\n",
        "\n",
        "        # ---- Phase 4: reward shaping penalties ----\n",
        "        penalty = 0.0\n",
        "        if self.whipsaw_penalty > 0.0:\n",
        "            # penalize actual sign flip (if cooldown disabled) or attempted flip blocked by cooldown\n",
        "            if (old_pos != 0.0 and self.position != 0.0 and np.sign(old_pos) != np.sign(self.position)):\n",
        "                penalty += self.whipsaw_penalty\n",
        "            if risk_event == \"flip_block\":\n",
        "                penalty += self.whipsaw_penalty\n",
        "        # small per-step penalty while cooling down\n",
        "        if self.cooldown_step_penalty > 0.0 and self.current_tick < self.cooldown_until:\n",
        "            penalty += self.cooldown_step_penalty\n",
        "\n",
        "        reward = float(np.clip(reward - penalty, -1.0, 1.0))\n",
        "\n",
        "        # ----- entry/exit bookkeeping -----\n",
        "        if old_pos == 0.0 and self.position != 0.0:\n",
        "            self.entry_price = price_t\n",
        "        if self.position == 0.0:\n",
        "            self.entry_price = None\n",
        "\n",
        "        # optional logs\n",
        "        if self.log_trades and (abs(target_pos - old_pos) > 1e-9 or risk_event):\n",
        "            log.info(\n",
        "                \"t=%d | px=%.4f | pos %.3f→%.3f | notional=%.2f | cost=%.2f bps=%.2f | risk=%s | cd=%d | V=%.2f\",\n",
        "                self.current_tick, price_t, old_pos, self.position,\n",
        "                trade_notional, trade_cost, self.bps_total * 10_000.0,\n",
        "                (risk_event or \"none\"), int(cooldown_left), self.portfolio_value\n",
        "            )\n",
        "\n",
        "        # advance\n",
        "        self.current_tick = next_tick\n",
        "        obs = self._obs()\n",
        "        info = {\n",
        "            \"portfolio_value\": float(self.portfolio_value),\n",
        "            \"position\": float(self.position),\n",
        "            \"price\": float(price_tp1),\n",
        "            \"trade_cost\": float(trade_cost),\n",
        "            \"risk_event\": risk_event,\n",
        "            \"cooldown_left\": int(max(0, self.cooldown_until - self.current_tick)) if self.cooldown_until >= 0 else 0,\n",
        "            \"entry_price\": None if self.entry_price is None else float(self.entry_price),\n",
        "        }\n",
        "        truncated = False\n",
        "        return obs.astype(np.float32), reward, bool(terminated), bool(truncated), info\n",
        "\n",
        "\n",
        "# ========= factories (pass Phase 2/3 params) =========\n",
        "def _risk_kwargs():\n",
        "    return dict(\n",
        "        dead_band=DEAD_BAND,\n",
        "        min_trade_delta=MIN_TRADE_DELTA,\n",
        "        stop_loss_pct=(STOP_LOSS_PCT if ENABLE_SLO else None),\n",
        "        take_profit_pct=(TAKE_PROFIT_PCT if ENABLE_SLO else None),\n",
        "        cooldown_steps=(COOLDOWN_STEPS if ENABLE_SLO else 0),\n",
        "    )\n",
        "def _reward_kwargs():\n",
        "    return dict(\n",
        "        whipsaw_penalty=(WHIPSAW_PENALTY if ENABLE_WHIPSAW_PENALTY else 0.0),\n",
        "        cooldown_step_penalty=(COOLDOWN_STEP_PENALTY if ENABLE_COOLDOWN_PENALTY else 0.0),\n",
        "    )\n",
        "\n",
        "def make_train_env():\n",
        "    return ContinuousTradingEnv(\n",
        "        train_df, frame_bound=(WS_USE, len(train_df)), window_size=WS_USE,\n",
        "        max_exposure=MAX_EXPOSURE, commission_bps=COMMISSION_BPS,\n",
        "        slippage_bps=SLIPPAGE_BPS, initial_capital=INITIAL_CAPITAL,\n",
        "        log_trades=LOG_TRADES_TRAIN, **_risk_kwargs(), **_reward_kwargs()\n",
        "\n",
        "    )\n",
        "\n",
        "def make_test_env_for_callback():\n",
        "    return ContinuousTradingEnv(\n",
        "        test_df, frame_bound=(WS_USE, len(test_df)), window_size=WS_USE,\n",
        "        max_exposure=MAX_EXPOSURE, commission_bps=COMMISSION_BPS,\n",
        "        slippage_bps=SLIPPAGE_BPS, initial_capital=INITIAL_CAPITAL,\n",
        "        log_trades=LOG_TRADES_EVALCB, **_risk_kwargs(), **_reward_kwargs()\n",
        "\n",
        "    )\n",
        "\n",
        "for symbol in run_symbols:\n",
        "    sac_cfg = get_sac_cfg(symbol)\n",
        "    sdf = df[df[\"Symbol\"] == symbol].sort_values(\"Datetime\")\n",
        "    train_df = sdf[(sdf[\"Datetime\"] >= train_start_ts) & (sdf[\"Datetime\"] <  train_end_ts)].reset_index(drop=True)\n",
        "    test_df  = sdf[(sdf[\"Datetime\"] >= test_start_ts)  & (sdf[\"Datetime\"] <= test_end_ts)].reset_index(drop=True)\n",
        "    # >>> WS sweep block goes here <<<\n",
        "    if torch.cuda.is_available():\n",
        "        torch.cuda.empty_cache()\n",
        "\n",
        "    # ==== WS sweep (train+eval per window size, rank by Sharpe) ====\n",
        "    def train_eval_for_ws(ws: int):\n",
        "        # --- factories bound to this ws ---\n",
        "        def make_train_env():\n",
        "            return ContinuousTradingEnv(\n",
        "                train_df, frame_bound=(ws, len(train_df)), window_size=ws,\n",
        "                max_exposure=MAX_EXPOSURE, commission_bps=COMMISSION_BPS,\n",
        "                slippage_bps=SLIPPAGE_BPS, initial_capital=INITIAL_CAPITAL,\n",
        "                log_trades=LOG_TRADES_TRAIN, **_risk_kwargs(), **_reward_kwargs()\n",
        "\n",
        "            )\n",
        "\n",
        "        def make_test_env_for_callback():\n",
        "            return ContinuousTradingEnv(\n",
        "                test_df, frame_bound=(ws, len(test_df)), window_size=ws,\n",
        "                max_exposure=MAX_EXPOSURE, commission_bps=COMMISSION_BPS,\n",
        "                slippage_bps=SLIPPAGE_BPS, initial_capital=INITIAL_CAPITAL,\n",
        "                log_trades=LOG_TRADES_EVALCB, **_risk_kwargs(), **_reward_kwargs()\n",
        "\n",
        "            )\n",
        "\n",
        "        def make_test_env_for_final():\n",
        "            return ContinuousTradingEnv(\n",
        "                test_df, frame_bound=(ws, len(test_df)), window_size=ws,\n",
        "                max_exposure=MAX_EXPOSURE, commission_bps=COMMISSION_BPS,\n",
        "                slippage_bps=SLIPPAGE_BPS, initial_capital=INITIAL_CAPITAL,\n",
        "                log_trades=LOG_TRADES_FINAL, **_risk_kwargs(), **_reward_kwargs()\n",
        "\n",
        "            )\n",
        "\n",
        "        # --- vec wrapper(s) ---\n",
        "        train_env = DummyVecEnv([make_train_env])\n",
        "        train_env = VecNormalize(train_env, training=True, norm_obs=True, norm_reward=False, clip_obs=10.0)\n",
        "        train_env.seed(SEED); _ = train_env.reset()\n",
        "\n",
        "        eval_env  = DummyVecEnv([lambda: Monitor(make_test_env_for_callback())])\n",
        "        eval_env  = VecNormalize(eval_env, training=False, norm_obs=True, norm_reward=False, clip_obs=10.0)\n",
        "        eval_env.obs_rms = train_env.obs_rms\n",
        "        eval_env.seed(SEED); _ = eval_env.reset()\n",
        "\n",
        "        # --- SAC config (bucketed) ---\n",
        "        loc_cfg = sac_cfg.copy()\n",
        "        if TEST_MODE:\n",
        "            loc_cfg[\"learning_starts\"] = 0\n",
        "\n",
        "        model = SAC(\n",
        "            \"MlpPolicy\", train_env, device=device, policy_kwargs=policy_kwargs, verbose=0,\n",
        "            learning_rate=loc_cfg[\"learning_rate\"], batch_size=loc_cfg[\"batch_size\"],\n",
        "            train_freq=loc_cfg[\"train_freq\"], gradient_steps=loc_cfg[\"gradient_steps\"],\n",
        "            gamma=loc_cfg[\"gamma\"], tau=loc_cfg[\"tau\"], ent_coef=loc_cfg[\"ent_coef\"],\n",
        "            target_update_interval=loc_cfg[\"target_update_interval\"],\n",
        "            buffer_size=loc_cfg[\"buffer_size\"], learning_starts=loc_cfg[\"learning_starts\"], seed=SEED,\n",
        "        )\n",
        "\n",
        "        # --- schedule (reuse your fast/full logic) ---\n",
        "        if FAST_TEST:\n",
        "            eval_every  = 1_000\n",
        "            total_steps = max(200, min(MIN_TRAIN_STEPS, len(train_df)))\n",
        "            loc_cfg[\"learning_starts\"] = 0\n",
        "            callback = None if not USE_EVAL_CALLBACK else EvalCallback(\n",
        "                eval_env, best_model_save_path=os.path.join(RESULTS_DIR, \"tmp\", f\"best_{symbol}_ws{ws}\"),\n",
        "                eval_freq=eval_every, n_eval_episodes=1,\n",
        "                callback_after_eval=StopTrainingOnNoModelImprovement(1, 2, verbose=0), verbose=0,\n",
        "            )\n",
        "        else:\n",
        "            eval_every  = 1_000 if TEST_MODE else 5_000\n",
        "            total_steps = (min(4_000, len(train_df) * 2) if TEST_MODE else min(25_000, len(train_df) * 10))\n",
        "            if TEST_MODE: loc_cfg[\"learning_starts\"] = 0\n",
        "            callback = EvalCallback(\n",
        "                eval_env, best_model_save_path=os.path.join(RESULTS_DIR, \"tmp\", f\"best_{symbol}_ws{ws}\"),\n",
        "                eval_freq=eval_every, n_eval_episodes=1,\n",
        "                callback_after_eval=StopTrainingOnNoModelImprovement(2, 4, verbose=0), verbose=0,\n",
        "            )\n",
        "\n",
        "        model.learn(total_timesteps=total_steps, callback=callback)\n",
        "\n",
        "        # --- save artifacts with WS suffix ---\n",
        "        model_path = f\"{SAVE_DIR}/sac_{symbol}_ws{ws}\"\n",
        "        vec_path   = f\"{RESULTS_DIR}/vecnorms/{symbol}_ws{ws}_vecnorm.pkl\"\n",
        "        model.save(model_path)\n",
        "        train_env.save(vec_path)\n",
        "        # ---- model_info.json (artifact shell) ----\n",
        "        try:\n",
        "            # safe defaults if not defined above\n",
        "            ENABLE_WHIPSAW_PENALTY   = globals().get(\"ENABLE_WHIPSAW_PENALTY\", False)\n",
        "            WHIPSAW_PENALTY          = float(globals().get(\"WHIPSAW_PENALTY\", 0.0))\n",
        "            ENABLE_COOLDOWN_PENALTY  = globals().get(\"ENABLE_COOLDOWN_PENALTY\", False)\n",
        "            COOLDOWN_STEP_PENALTY    = float(globals().get(\"COOLDOWN_STEP_PENALTY\", 0.0))\n",
        "\n",
        "            model_info = {\n",
        "                \"created_at\": datetime.now().isoformat(),\n",
        "                \"algorithm\": \"SAC\",\n",
        "                \"symbol\": symbol,\n",
        "                \"ws\": int(ws),\n",
        "                \"bucket\": sac_cfg.get(\"_bucket\", \"UNKNOWN\"),\n",
        "                \"seed\": int(SEED),\n",
        "\n",
        "                # <-- reflect reward shaping here\n",
        "                \"reward_shaping\": {\n",
        "                    \"whipsaw\": {\n",
        "                        \"enabled\": bool(ENABLE_WHIPSAW_PENALTY),\n",
        "                        \"penalty\": float(WHIPSAW_PENALTY if ENABLE_WHIPSAW_PENALTY else 0.0)\n",
        "                    },\n",
        "                    \"cooldown\": {\n",
        "                        \"enabled\": bool(ENABLE_COOLDOWN_PENALTY),\n",
        "                        \"step_penalty\": float(COOLDOWN_STEP_PENALTY if ENABLE_COOLDOWN_PENALTY else 0.0),\n",
        "                        \"cooldown_steps\": int(COOLDOWN_STEPS if ENABLE_SLO else 0)\n",
        "                    }\n",
        "                },\n",
        "\n",
        "                \"policy\": {\n",
        "                    \"type\": \"MlpPolicy\",\n",
        "                    \"net_arch\": policy_kwargs.get(\"net_arch\", None),\n",
        "                },\n",
        "                \"hyperparams\": {\n",
        "                    \"learning_rate\": float(loc_cfg[\"learning_rate\"]),\n",
        "                    \"batch_size\": int(loc_cfg[\"batch_size\"]),\n",
        "                    \"train_freq\": int(loc_cfg[\"train_freq\"]),\n",
        "                    \"gradient_steps\": int(loc_cfg[\"gradient_steps\"]),\n",
        "                    \"gamma\": float(loc_cfg[\"gamma\"]),\n",
        "                    \"tau\": float(loc_cfg[\"tau\"]),\n",
        "                    \"ent_coef\": loc_cfg[\"ent_coef\"],\n",
        "                    \"buffer_size\": int(loc_cfg[\"buffer_size\"]),\n",
        "                    \"learning_starts\": int(loc_cfg[\"learning_starts\"]),\n",
        "                    \"target_update_interval\": int(loc_cfg[\"target_update_interval\"]),\n",
        "                },\n",
        "                \"env_params\": {\n",
        "                    \"window_size\": int(ws),\n",
        "                    \"max_exposure\": float(MAX_EXPOSURE),\n",
        "                    \"commission_bps\": float(COMMISSION_BPS),\n",
        "                    \"slippage_bps\": float(SLIPPAGE_BPS),\n",
        "                    \"initial_capital\": float(INITIAL_CAPITAL),\n",
        "                    \"dead_band\": float(DEAD_BAND),\n",
        "                    \"min_trade_delta\": float(MIN_TRADE_DELTA),\n",
        "                    \"stop_loss_pct\": (float(STOP_LOSS_PCT) if ENABLE_SLO else None),\n",
        "                    \"take_profit_pct\": (float(TAKE_PROFIT_PCT) if ENABLE_SLO else None),\n",
        "                    \"cooldown_steps\": int(COOLDOWN_STEPS if ENABLE_SLO else 0),\n",
        "                },\n",
        "                \"training\": {\n",
        "                    \"total_steps\": int(total_steps),\n",
        "                    \"eval_every\": int(eval_every),\n",
        "                    \"use_eval_callback\": bool(USE_EVAL_CALLBACK if FAST_TEST else True),\n",
        "                    \"test_mode\": bool(TEST_MODE),\n",
        "                    \"fast_test\": bool(FAST_TEST),\n",
        "                },\n",
        "                \"artifacts\": {\n",
        "                    \"model_zip\": model_path + \".zip\",\n",
        "                    \"vecnorm_pkl\": vec_path,\n",
        "                    # signals_csv will be added after rollout\n",
        "                },\n",
        "            }\n",
        "            mi_dir = os.path.join(RESULTS_DIR, \"model_info\")\n",
        "            os.makedirs(mi_dir, exist_ok=True)\n",
        "            mi_path = os.path.join(mi_dir, f\"sac_{symbol}_ws{ws}_model_info.json\")\n",
        "            with open(mi_path, \"w\") as f:\n",
        "                json.dump(model_info, f, indent=2)\n",
        "            log.info(\"Wrote model_info.json -> %s\", mi_path)\n",
        "        except Exception as e:\n",
        "            log.warning(\"model_info.json write skipped: %s\", e)\n",
        "\n",
        "        # --- clean eval + rollout to get NAV for Sharpe ranking ---\n",
        "        final_eval_raw = DummyVecEnv([make_test_env_for_final])\n",
        "        final_eval_raw.seed(SEED)\n",
        "        final_eval = VecNormalize.load(vec_path, final_eval_raw)\n",
        "        final_eval.training = False\n",
        "        final_eval.norm_reward = False\n",
        "        final_eval.obs_rms = train_env.obs_rms\n",
        "        final_eval.seed(SEED)\n",
        "        obs = final_eval.reset()\n",
        "\n",
        "        portfolio, positions = [], []\n",
        "        buy_hold = float(INITIAL_CAPITAL) * (test_df[\"Close\"].iloc[-1] / test_df[\"Close\"].iloc[0])\n",
        "\n",
        "        for i in range(len(test_df)):\n",
        "            action, _ = model.predict(obs, deterministic=True)\n",
        "            obs, _, dones, infos = final_eval.step(action)\n",
        "            info0 = infos[0]\n",
        "            portfolio.append(float(info0.get(\"portfolio_value\", np.nan)))\n",
        "            positions.append(float(info0.get(\"position\", 0.0)))\n",
        "            if bool(dones[0]):\n",
        "                break\n",
        "\n",
        "        # save signals for this ws\n",
        "        aligned_len = min(len(test_df), len(portfolio))\n",
        "        signals_path = f\"{RESULTS_DIR}/signals/{symbol}_ws{ws}_sac_signals.csv\"\n",
        "        test_eval_df = test_df.iloc[:aligned_len].copy()\n",
        "        test_eval_df[\"Position\"] = positions[:aligned_len]\n",
        "        test_eval_df[\"Portfolio\"] = portfolio[:aligned_len]\n",
        "        test_eval_df.to_csv(signals_path, index=False)\n",
        "        try:\n",
        "            with open(mi_path, \"r\") as f:\n",
        "                _mi = json.load(f)\n",
        "            _mi.setdefault(\"artifacts\", {})[\"signals_csv\"] = signals_path\n",
        "            with open(mi_path, \"w\") as f:\n",
        "                json.dump(_mi, f, indent=2)\n",
        "        except Exception as e:\n",
        "            log.warning(\"Could not update model_info with signals_csv: %s\", e)\n",
        "\n",
        "\n",
        "        # ---- metrics (Sharpe + extended) ----\n",
        "        final_value = portfolio[-1] if portfolio else INITIAL_CAPITAL\n",
        "        ret_series  = pd.Series(portfolio, dtype=\"float64\").pct_change().dropna()\n",
        "        sharpe = (ret_series.mean() / ret_series.std()) * np.sqrt(252) if (len(ret_series) > 1 and ret_series.std() > 0) else 0.0\n",
        "\n",
        "        # Max drawdown & Calmar\n",
        "        equity = pd.Series(portfolio, dtype=\"float64\")\n",
        "        roll_max = equity.cummax()\n",
        "        dd = (equity / roll_max) - 1.0\n",
        "        max_dd = float(dd.min()) if len(dd) else 0.0  # negative number (e.g., -0.23)\n",
        "        dur_days = (test_eval_df[\"Datetime\"].iloc[aligned_len-1] - test_eval_df[\"Datetime\"].iloc[0]).total_seconds() / 86400.0 if aligned_len > 1 else 0.0\n",
        "        ann_ret = ((final_value / float(INITIAL_CAPITAL)) ** (365.0 / max(dur_days, 1e-9)) - 1.0) if dur_days > 0 else 0.0\n",
        "        calmar = (ann_ret / abs(max_dd)) if (max_dd < 0.0 and abs(max_dd) > 1e-12) else float(\"nan\")\n",
        "\n",
        "        # Trades (entry when |pos| crosses 0 → nonzero; exit when it returns to 0; treat sign flip as close+open)\n",
        "        trades = []\n",
        "        entry_val = None\n",
        "        prev_pos = 0.0\n",
        "        for i in range(aligned_len):\n",
        "            p = float(positions[i])\n",
        "            if prev_pos == 0.0 and abs(p) > 0.0:\n",
        "                entry_val = float(portfolio[i])\n",
        "            # sign flip → close and re-open\n",
        "            if prev_pos != 0.0 and abs(p) > 0.0 and np.sign(prev_pos) != np.sign(p):\n",
        "                if entry_val and entry_val > 0.0:\n",
        "                    trades.append( (float(portfolio[i]) - entry_val) / entry_val )\n",
        "                entry_val = float(portfolio[i])  # new entry same tick\n",
        "            # flat → close\n",
        "            if prev_pos != 0.0 and abs(p) == 0.0 and entry_val and entry_val > 0.0:\n",
        "                trades.append( (float(portfolio[i]) - entry_val) / entry_val )\n",
        "                entry_val = None\n",
        "            prev_pos = p\n",
        "        trade_count = int(len(trades))\n",
        "        hit_ratio = (float(np.mean(np.array(trades) > 0.0)) if trade_count > 0 else float(\"nan\"))\n",
        "        avg_trade_pnl = (float(np.mean(trades)) if trade_count > 0 else float(\"nan\"))\n",
        "\n",
        "        # Turnover & time-in-market\n",
        "        pos_arr = np.array(positions[:aligned_len], dtype=\"float64\")\n",
        "        turnover = float(np.sum(np.abs(np.diff(pos_arr)))) if aligned_len > 1 else 0.0\n",
        "        time_in_mkt = float(np.mean(np.abs(pos_arr) > 0.0)) if aligned_len > 0 else 0.0\n",
        "        # persist WS metrics JSON\n",
        "        try:\n",
        "            metrics = {\n",
        "                \"symbol\": symbol,\n",
        "                \"ws\": int(ws),\n",
        "                \"final_value\": float(final_value),\n",
        "                \"buy_hold\": float(buy_hold),\n",
        "                \"sharpe\": float(sharpe),\n",
        "                \"max_drawdown\": float(max_dd),\n",
        "                \"calmar\": float(calmar),\n",
        "                \"trade_count\": trade_count,\n",
        "                \"hit_ratio\": hit_ratio,\n",
        "                \"avg_trade_pnl\": avg_trade_pnl,\n",
        "                \"turnover\": turnover,\n",
        "                \"time_in_market\": time_in_mkt,\n",
        "            }\n",
        "            mi_dir = os.path.join(RESULTS_DIR, \"model_info\")\n",
        "            os.makedirs(mi_dir, exist_ok=True)\n",
        "            with open(os.path.join(mi_dir, f\"sac_{symbol}_ws{ws}_metrics.json\"), \"w\") as f:\n",
        "                json.dump(metrics, f, indent=2)\n",
        "        except Exception as e:\n",
        "            log.warning(\"WS metrics JSON write skipped: %s\", e)\n",
        "        try:\n",
        "            del final_eval, final_eval_raw, eval_env, train_env, model\n",
        "        except NameError:\n",
        "            pass\n",
        "        gc.collect()\n",
        "        if torch.cuda.is_available():\n",
        "            torch.cuda.empty_cache()\n",
        "\n",
        "        return dict(\n",
        "            ws=ws,\n",
        "            sharpe=float(sharpe),\n",
        "            final_value=float(final_value),\n",
        "            buy_hold=float(buy_hold),\n",
        "\n",
        "            # ---- extended metrics ----\n",
        "            max_dd=float(max_dd),\n",
        "            calmar=float(calmar) if np.isfinite(calmar) else None,\n",
        "            trade_count=int(trade_count),\n",
        "            hit_ratio=(float(hit_ratio) if trade_count > 0 else None),\n",
        "            avg_trade_pnl=(float(avg_trade_pnl) if trade_count > 0 else None),\n",
        "            turnover=float(turnover),\n",
        "            time_in_mkt=float(time_in_mkt),\n",
        "\n",
        "            # artifacts\n",
        "            model_zip=model_path + \".zip\",\n",
        "            vecnorm_pkl=vec_path,\n",
        "            signals_csv=signals_path\n",
        "        )\n",
        "\n",
        "    # === run sweep ===\n",
        "    results_ws = []\n",
        "    top_heap = []\n",
        "\n",
        "    # helper(s) MUST be outside any try/except\n",
        "    def _nan_if_none(x):\n",
        "        if x is None:\n",
        "            return float(\"nan\")\n",
        "        try:\n",
        "            xf = float(x)\n",
        "        except (TypeError, ValueError):\n",
        "            return float(\"nan\")\n",
        "        return xf if np.isfinite(xf) else float(\"nan\")\n",
        "\n",
        "    def _safe_round(x, ndigits):\n",
        "        x = _nan_if_none(x)\n",
        "        return round(x, ndigits) if np.isfinite(x) else float(\"nan\")\n",
        "\n",
        "    TOP_N_WINDOWS = 3  # final override (keep top 3)\n",
        "\n",
        "    for WS in CANDIDATE_WS:\n",
        "        try:\n",
        "            res = train_eval_for_ws(WS)\n",
        "\n",
        "            results_ws.append({\n",
        "                \"Symbol\": symbol,\n",
        "                \"WS\": WS,\n",
        "                \"Sharpe\": _safe_round(res[\"sharpe\"], 3),\n",
        "                \"SAC_Portfolio\": _safe_round(res[\"final_value\"], 2),\n",
        "                \"BuyHold\": _safe_round(res[\"buy_hold\"], 2),\n",
        "                \"MaxDD\": _safe_round(res.get(\"max_dd\"), 4),\n",
        "                \"Calmar\": _safe_round(res.get(\"calmar\"), 3),\n",
        "                \"TradeCount\": int(res.get(\"trade_count\", 0)),\n",
        "                \"HitRatio\": _safe_round(res.get(\"hit_ratio\"), 3),\n",
        "                \"AvgTradePnL\": _safe_round(res.get(\"avg_trade_pnl\"), 4),\n",
        "                \"Turnover\": _safe_round(res.get(\"turnover\", 0.0), 3),\n",
        "                \"TimeInMkt\": _safe_round(res.get(\"time_in_mkt\", 0.0), 3),\n",
        "                \"ModelZip\": res[\"model_zip\"],\n",
        "                \"VecNorm\": res[\"vecnorm_pkl\"],\n",
        "                \"SignalsCSV\": res[\"signals_csv\"],\n",
        "            })\n",
        "\n",
        "            # maintain top-N by Sharpe\n",
        "            heapq.heappush(top_heap, (res[\"sharpe\"], WS, res))\n",
        "            if len(top_heap) > TOP_N_WINDOWS:\n",
        "                heapq.heappop(top_heap)\n",
        "\n",
        "        except Exception as e:\n",
        "            log.warning(f\"WS={WS} failed: {e}\")\n",
        "\n",
        "    # save per-symbol WS sweep summary\n",
        "    ws_summary_path = os.path.join(RESULTS_DIR, f\"{symbol}_sac_ws_sweep_summary.csv\")\n",
        "    pd.DataFrame(results_ws).sort_values(\"Sharpe\", ascending=False).to_csv(ws_summary_path, index=False)\n",
        "    try:\n",
        "        ws_json_path = ws_summary_path.replace(\".csv\", \".json\")\n",
        "        with open(ws_json_path, \"w\") as f:\n",
        "            json.dump(sorted(results_ws, key=lambda r: r.get(\"Sharpe\", -1), reverse=True), f, indent=2)\n",
        "        log.info(\"Wrote WS sweep JSON -> %s\", ws_json_path)\n",
        "    except Exception as e:\n",
        "        log.warning(\"WS sweep JSON write skipped: %s\", e)\n",
        "\n",
        "    # report winners (like PPO)\n",
        "    top_sorted = sorted(top_heap, key=lambda t: t[0], reverse=True)\n",
        "    log.info(\n",
        "        f\"Top {min(TOP_N_WINDOWS, len(top_sorted))} window sizes for {symbol}: \" +\n",
        "        \", \".join([f\"WS={w} (Sharpe={s:.3f})\" for s, w, _ in top_sorted])\n",
        "    )\n",
        "    del results_ws, top_heap, top_sorted\n",
        "    gc.collect()\n",
        "    if torch.cuda.is_available():\n",
        "        torch.cuda.empty_cache()\n"
      ]
    }
  ],
  "metadata": {
    "colab": {
      "provenance": [],
      "include_colab_link": true
    },
    "kernelspec": {
      "display_name": "Python 3",
      "name": "python3"
    },
    "language_info": {
      "name": "python"
    }
  },
  "nbformat": 4,
  "nbformat_minor": 0
}