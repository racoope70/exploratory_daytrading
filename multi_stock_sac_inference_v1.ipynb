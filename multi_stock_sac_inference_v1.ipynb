{
  "cells": [
    {
      "cell_type": "markdown",
      "metadata": {
        "id": "view-in-github",
        "colab_type": "text"
      },
      "source": [
        "<a href=\"https://colab.research.google.com/github/racoope70/exploratory_daytrading/blob/main/multi_stock_sac_inference_v1.ipynb\" target=\"_parent\"><img src=\"https://colab.research.google.com/assets/colab-badge.svg\" alt=\"Open In Colab\"/></a>"
      ]
    },
    {
      "cell_type": "code",
      "execution_count": null,
      "metadata": {
        "colab": {
          "base_uri": "https://localhost:8080/"
        },
        "id": "rWICIz6OC5A7",
        "outputId": "9e800214-2c87-4790-f75c-7c03db64661b"
      },
      "outputs": [
        {
          "name": "stdout",
          "output_type": "stream",
          "text": [
            "Reading package lists... Done\n",
            "Building dependency tree... Done\n",
            "Reading state information... Done\n",
            "Note, selecting 'cuda-toolkit-12-4-config-common' for glob 'cuda*'\n",
            "Note, selecting 'cuda-cudart-dev-11-0' for glob 'cuda*'\n",
            "Note, selecting 'cuda-cudart-dev-11-1' for glob 'cuda*'\n",
            "Note, selecting 'cuda-cudart-dev-11-7' for glob 'cuda*'\n",
            "Note, selecting 'cuda-cudart-dev-11-8' for glob 'cuda*'\n",
            "Note, selecting 'cuda-toolkit-12-5-config-common' for glob 'cuda*'\n",
            "Note, selecting 'cuda-cudart-dev-12-0' for glob 'cuda*'\n",
            "Note, selecting 'cuda-cudart-dev-12-1' for glob 'cuda*'\n",
            "Note, selecting 'cuda-cudart-dev-12-2' for glob 'cuda*'\n",
            "Note, selecting 'cuda-cudart-dev-12-3' for glob 'cuda*'\n",
            "Note, selecting 'cuda-cudart-dev-12-4' for glob 'cuda*'\n",
            "Note, selecting 'cuda-cudart-dev-12-5' for glob 'cuda*'\n",
            "Note, selecting 'cuda-cudart-dev-12-6' for glob 'cuda*'\n",
            "Note, selecting 'cuda-cudart-dev-12-8' for glob 'cuda*'\n",
            "Note, selecting 'cuda-cudart-dev-12-9' for glob 'cuda*'\n",
            "Note, selecting 'cuda-cudart-dev-13-0' for glob 'cuda*'\n",
            "Note, selecting 'cuda-toolkit-12-6-config-common' for glob 'cuda*'\n",
            "Note, selecting 'cuda-opencl-dev-12-0' for glob 'cuda*'\n",
            "Note, selecting 'cuda-opencl-dev-12-1' for glob 'cuda*'\n",
            "Note, selecting 'cuda-opencl-dev-12-2' for glob 'cuda*'\n",
            "Note, selecting 'cuda-opencl-dev-12-3' for glob 'cuda*'\n",
            "Note, selecting 'cuda-opencl-dev-12-4' for glob 'cuda*'\n",
            "Note, selecting 'cuda-opencl-dev-12-5' for glob 'cuda*'\n",
            "Note, selecting 'cuda-opencl-dev-12-6' for glob 'cuda*'\n",
            "Note, selecting 'cuda-opencl-dev-12-8' for glob 'cuda*'\n",
            "Note, selecting 'cuda-opencl-dev-12-9' for glob 'cuda*'\n",
            "Note, selecting 'cuda-opencl-dev-13-0' for glob 'cuda*'\n",
            "Note, selecting 'cuda-gdb-11-7' for glob 'cuda*'\n",
            "Note, selecting 'cuda-gdb-11-8' for glob 'cuda*'\n",
            "Note, selecting 'cuda-gdb-12-0' for glob 'cuda*'\n",
            "Note, selecting 'cuda-gdb-12-1' for glob 'cuda*'\n",
            "Note, selecting 'cuda-gdb-12-2' for glob 'cuda*'\n",
            "Note, selecting 'cuda-gdb-12-3' for glob 'cuda*'\n",
            "Note, selecting 'cuda-gdb-12-4' for glob 'cuda*'\n",
            "Note, selecting 'cuda-gdb-12-5' for glob 'cuda*'\n",
            "Note, selecting 'cuda-gdb-12-6' for glob 'cuda*'\n",
            "Note, selecting 'cuda-gdb-12-8' for glob 'cuda*'\n",
            "Note, selecting 'cuda-gdb-12-9' for glob 'cuda*'\n",
            "Note, selecting 'cuda-gdb-13-0' for glob 'cuda*'\n",
            "Note, selecting 'cuda-opencl-12-0' for glob 'cuda*'\n",
            "Note, selecting 'cuda-opencl-12-1' for glob 'cuda*'\n",
            "Note, selecting 'cuda-opencl-12-2' for glob 'cuda*'\n",
            "Note, selecting 'cuda-opencl-12-3' for glob 'cuda*'\n",
            "Note, selecting 'cuda-opencl-12-4' for glob 'cuda*'\n",
            "Note, selecting 'cuda-opencl-12-5' for glob 'cuda*'\n",
            "Note, selecting 'cuda-opencl-12-6' for glob 'cuda*'\n",
            "Note, selecting 'cuda-opencl-12-8' for glob 'cuda*'\n",
            "Note, selecting 'cuda-opencl-12-9' for glob 'cuda*'\n",
            "Note, selecting 'cuda-opencl-13-0' for glob 'cuda*'\n",
            "Note, selecting 'cuda-drivers-diagnostic' for glob 'cuda*'\n",
            "Note, selecting 'cuda-libraries-11-7' for glob 'cuda*'\n",
            "Note, selecting 'cuda-libraries-11-8' for glob 'cuda*'\n",
            "Note, selecting 'cuda-libraries-12-0' for glob 'cuda*'\n",
            "Note, selecting 'cuda-libraries-12-1' for glob 'cuda*'\n",
            "Note, selecting 'cuda-libraries-12-2' for glob 'cuda*'\n",
            "Note, selecting 'cuda-libraries-12-3' for glob 'cuda*'\n",
            "Note, selecting 'cuda-libraries-12-4' for glob 'cuda*'\n",
            "Note, selecting 'cuda-libraries-12-5' for glob 'cuda*'\n",
            "Note, selecting 'cuda-libraries-12-6' for glob 'cuda*'\n",
            "Note, selecting 'cuda-libraries-12-8' for glob 'cuda*'\n",
            "Note, selecting 'cuda-libraries-12-9' for glob 'cuda*'\n",
            "Note, selecting 'cuda-nsight-compute-11-7' for glob 'cuda*'\n",
            "Note, selecting 'cuda-nsight-compute-11-8' for glob 'cuda*'\n",
            "Note, selecting 'cuda-libraries-13-0' for glob 'cuda*'\n",
            "Note, selecting 'cuda-nsight-compute-12-0' for glob 'cuda*'\n",
            "Note, selecting 'cuda-nsight-compute-12-1' for glob 'cuda*'\n",
            "Note, selecting 'cuda-nsight-compute-12-2' for glob 'cuda*'\n",
            "Note, selecting 'cuda-nsight-compute-12-3' for glob 'cuda*'\n",
            "Note, selecting 'cuda-nsight-compute-12-4' for glob 'cuda*'\n",
            "Note, selecting 'cuda-nsight-compute-12-5' for glob 'cuda*'\n",
            "Note, selecting 'cuda-nsight-compute-12-6' for glob 'cuda*'\n",
            "Note, selecting 'cuda-nsight-compute-12-8' for glob 'cuda*'\n",
            "Note, selecting 'cuda-nsight-compute-12-9' for glob 'cuda*'\n",
            "Note, selecting 'cuda-nsight-compute-13-0' for glob 'cuda*'\n",
            "Note, selecting 'cuda-toolkit-12-1-config-common' for glob 'cuda*'\n",
            "Note, selecting 'cuda-nsight-11-7' for glob 'cuda*'\n",
            "Note, selecting 'cuda-nsight-11-8' for glob 'cuda*'\n",
            "Note, selecting 'cuda-tools-11-7' for glob 'cuda*'\n",
            "Note, selecting 'cuda-tools-11-8' for glob 'cuda*'\n",
            "Note, selecting 'cuda-culibos-13-0' for glob 'cuda*'\n",
            "Note, selecting 'cuda-nsight-12-0' for glob 'cuda*'\n",
            "Note, selecting 'cuda-nsight-12-1' for glob 'cuda*'\n",
            "Note, selecting 'cuda-nsight-12-2' for glob 'cuda*'\n",
            "Note, selecting 'cuda-nsight-12-3' for glob 'cuda*'\n",
            "Note, selecting 'cuda-nsight-12-4' for glob 'cuda*'\n",
            "Note, selecting 'cuda-nsight-12-5' for glob 'cuda*'\n",
            "Note, selecting 'cuda-nsight-12-6' for glob 'cuda*'\n",
            "Note, selecting 'cuda-nsight-12-8' for glob 'cuda*'\n",
            "Note, selecting 'cuda-nsight-12-9' for glob 'cuda*'\n",
            "Note, selecting 'cuda-tools-12-0' for glob 'cuda*'\n",
            "Note, selecting 'cuda-tools-12-1' for glob 'cuda*'\n",
            "Note, selecting 'cuda-tools-12-2' for glob 'cuda*'\n",
            "Note, selecting 'cuda-tools-12-3' for glob 'cuda*'\n",
            "Note, selecting 'cuda-tools-12-4' for glob 'cuda*'\n",
            "Note, selecting 'cuda-tools-12-5' for glob 'cuda*'\n",
            "Note, selecting 'cuda-tools-12-6' for glob 'cuda*'\n",
            "Note, selecting 'cuda-tools-12-8' for glob 'cuda*'\n",
            "Note, selecting 'cuda-tools-12-9' for glob 'cuda*'\n",
            "Note, selecting 'cuda-toolkit-12-2-config-common' for glob 'cuda*'\n",
            "Note, selecting 'cuda-nsight-13-0' for glob 'cuda*'\n",
            "Note, selecting 'cuda-tools-13-0' for glob 'cuda*'\n",
            "Note, selecting 'cuda-toolkit-12-3-config-common' for glob 'cuda*'\n",
            "Note, selecting 'cuda-culibos-cross-amd64-13-0' for glob 'cuda*'\n",
            "Note, selecting 'cuda-cuobjdump-11-7' for glob 'cuda*'\n",
            "Note, selecting 'cuda-cuobjdump-11-8' for glob 'cuda*'\n",
            "Note, selecting 'cuda-drivers-fabricmanager-branch' for glob 'cuda*'\n",
            "Note, selecting 'cuda-cuobjdump-12-0' for glob 'cuda*'\n",
            "Note, selecting 'cuda-cuobjdump-12-1' for glob 'cuda*'\n",
            "Note, selecting 'cuda-cuobjdump-12-2' for glob 'cuda*'\n",
            "Note, selecting 'cuda-cuobjdump-12-3' for glob 'cuda*'\n",
            "Note, selecting 'cuda-cuobjdump-12-4' for glob 'cuda*'\n",
            "Note, selecting 'cuda-cuobjdump-12-5' for glob 'cuda*'\n",
            "Note, selecting 'cuda-cuobjdump-12-6' for glob 'cuda*'\n",
            "Note, selecting 'cuda-cuobjdump-12-8' for glob 'cuda*'\n",
            "Note, selecting 'cuda-cuobjdump-12-9' for glob 'cuda*'\n",
            "Note, selecting 'cuda-libraries-dev-11-7' for glob 'cuda*'\n",
            "Note, selecting 'cuda-libraries-dev-11-8' for glob 'cuda*'\n",
            "Note, selecting 'cuda-toolkit-11-7' for glob 'cuda*'\n",
            "Note, selecting 'cuda-toolkit-11-8' for glob 'cuda*'\n",
            "Note, selecting 'cuda-cuobjdump-13-0' for glob 'cuda*'\n",
            "Note, selecting 'cuda-libraries-dev-12-0' for glob 'cuda*'\n",
            "Note, selecting 'cuda-libraries-dev-12-1' for glob 'cuda*'\n",
            "Note, selecting 'cuda-libraries-dev-12-2' for glob 'cuda*'\n",
            "Note, selecting 'cuda-libraries-dev-12-3' for glob 'cuda*'\n",
            "Note, selecting 'cuda-libraries-dev-12-4' for glob 'cuda*'\n",
            "Note, selecting 'cuda-libraries-dev-12-5' for glob 'cuda*'\n",
            "Note, selecting 'cuda-libraries-dev-12-6' for glob 'cuda*'\n",
            "Note, selecting 'cuda-libraries-dev-12-8' for glob 'cuda*'\n",
            "Note, selecting 'cuda-libraries-dev-12-9' for glob 'cuda*'\n",
            "Note, selecting 'cuda-toolkit-12-0' for glob 'cuda*'\n",
            "Note, selecting 'cuda-toolkit-12-1' for glob 'cuda*'\n",
            "Note, selecting 'cuda-toolkit-12-2' for glob 'cuda*'\n",
            "Note, selecting 'cuda-toolkit-12-3' for glob 'cuda*'\n",
            "Note, selecting 'cuda-toolkit-12-4' for glob 'cuda*'\n",
            "Note, selecting 'cuda-toolkit-12-5' for glob 'cuda*'\n",
            "Note, selecting 'cuda-toolkit-12-6' for glob 'cuda*'\n",
            "Note, selecting 'cuda-toolkit-12-8' for glob 'cuda*'\n",
            "Note, selecting 'cuda-toolkit-12-9' for glob 'cuda*'\n",
            "Note, selecting 'cuda-libraries-dev-13-0' for glob 'cuda*'\n",
            "Note, selecting 'cuda-toolkit-13-0' for glob 'cuda*'\n",
            "Note, selecting 'cuda-compat-11-7' for glob 'cuda*'\n",
            "Note, selecting 'cuda-compat-11-8' for glob 'cuda*'\n",
            "Note, selecting 'cuda-compat-12-0' for glob 'cuda*'\n",
            "Note, selecting 'cuda-compat-12-1' for glob 'cuda*'\n",
            "Note, selecting 'cuda-compat-12-2' for glob 'cuda*'\n",
            "Note, selecting 'cuda-compat-12-3' for glob 'cuda*'\n",
            "Note, selecting 'cuda-compat-12-4' for glob 'cuda*'\n",
            "Note, selecting 'cuda-compat-12-5' for glob 'cuda*'\n",
            "Note, selecting 'cuda-compat-12-6' for glob 'cuda*'\n",
            "Note, selecting 'cuda-compat-12-7' for glob 'cuda*'\n",
            "Note, selecting 'cuda-compat-12-8' for glob 'cuda*'\n",
            "Note, selecting 'cuda-compat-12-9' for glob 'cuda*'\n",
            "Note, selecting 'cuda-compat-13-0' for glob 'cuda*'\n",
            "Note, selecting 'cuda-driver-dev-11-7' for glob 'cuda*'\n",
            "Note, selecting 'cuda-driver-dev-11-8' for glob 'cuda*'\n",
            "Note, selecting 'cuda-toolkit-config-common' for glob 'cuda*'\n",
            "Note, selecting 'cuda-driver-dev-12-0' for glob 'cuda*'\n",
            "Note, selecting 'cuda-driver-dev-12-1' for glob 'cuda*'\n",
            "Note, selecting 'cuda-driver-dev-12-2' for glob 'cuda*'\n",
            "Note, selecting 'cuda-driver-dev-12-3' for glob 'cuda*'\n",
            "Note, selecting 'cuda-driver-dev-12-4' for glob 'cuda*'\n",
            "Note, selecting 'cuda-driver-dev-12-5' for glob 'cuda*'\n",
            "Note, selecting 'cuda-driver-dev-12-6' for glob 'cuda*'\n",
            "Note, selecting 'cuda-driver-dev-12-8' for glob 'cuda*'\n",
            "Note, selecting 'cuda-driver-dev-12-9' for glob 'cuda*'\n",
            "Note, selecting 'cuda-minimal-build-11-7' for glob 'cuda*'\n",
            "Note, selecting 'cuda-minimal-build-11-8' for glob 'cuda*'\n",
            "Note, selecting 'cuda-nsight-systems-11-7' for glob 'cuda*'\n",
            "Note, selecting 'cuda-nsight-systems-11-8' for glob 'cuda*'\n",
            "Note, selecting 'cuda-driver-dev-13-0' for glob 'cuda*'\n",
            "Note, selecting 'cuda-minimal-build-12-0' for glob 'cuda*'\n",
            "Note, selecting 'cuda-minimal-build-12-1' for glob 'cuda*'\n",
            "Note, selecting 'cuda-minimal-build-12-2' for glob 'cuda*'\n",
            "Note, selecting 'cuda-minimal-build-12-3' for glob 'cuda*'\n",
            "Note, selecting 'cuda-minimal-build-12-4' for glob 'cuda*'\n",
            "Note, selecting 'cuda-minimal-build-12-5' for glob 'cuda*'\n",
            "Note, selecting 'cuda-minimal-build-12-6' for glob 'cuda*'\n",
            "Note, selecting 'cuda-minimal-build-12-8' for glob 'cuda*'\n",
            "Note, selecting 'cuda-minimal-build-12-9' for glob 'cuda*'\n",
            "Note, selecting 'cuda-nsight-systems-12-0' for glob 'cuda*'\n",
            "Note, selecting 'cuda-nsight-systems-12-1' for glob 'cuda*'\n",
            "Note, selecting 'cuda-nsight-systems-12-2' for glob 'cuda*'\n",
            "Note, selecting 'cuda-nsight-systems-12-3' for glob 'cuda*'\n",
            "Note, selecting 'cuda-nsight-systems-12-4' for glob 'cuda*'\n",
            "Note, selecting 'cuda-nsight-systems-12-5' for glob 'cuda*'\n",
            "Note, selecting 'cuda-nsight-systems-12-6' for glob 'cuda*'\n",
            "Note, selecting 'cuda-nsight-systems-12-8' for glob 'cuda*'\n",
            "Note, selecting 'cuda-nsight-systems-12-9' for glob 'cuda*'\n",
            "Note, selecting 'cuda-minimal-build-13-0' for glob 'cuda*'\n",
            "Note, selecting 'cuda-nsight-systems-13-0' for glob 'cuda*'\n",
            "Note, selecting 'cuda-drivers' for glob 'cuda*'\n",
            "Note, selecting 'cuda-nvrtc-11-7' for glob 'cuda*'\n",
            "Note, selecting 'cuda-nvrtc-11-8' for glob 'cuda*'\n",
            "Note, selecting 'cuda-command-line-tools-11-7' for glob 'cuda*'\n",
            "Note, selecting 'cuda-command-line-tools-11-8' for glob 'cuda*'\n",
            "Note, selecting 'cuda-nvrtc-12-0' for glob 'cuda*'\n",
            "Note, selecting 'cuda-nvrtc-12-1' for glob 'cuda*'\n",
            "Note, selecting 'cuda-nvrtc-12-2' for glob 'cuda*'\n",
            "Note, selecting 'cuda-nvrtc-12-3' for glob 'cuda*'\n",
            "Note, selecting 'cuda-nvrtc-12-4' for glob 'cuda*'\n",
            "Note, selecting 'cuda-nvrtc-12-5' for glob 'cuda*'\n",
            "Note, selecting 'cuda-nvrtc-12-6' for glob 'cuda*'\n",
            "Note, selecting 'cuda-nvrtc-12-7' for glob 'cuda*'\n",
            "Note, selecting 'cuda-nvrtc-12-8' for glob 'cuda*'\n",
            "Note, selecting 'cuda-nvrtc-12-9' for glob 'cuda*'\n",
            "Note, selecting 'cuda-command-line-tools-12-0' for glob 'cuda*'\n",
            "Note, selecting 'cuda-command-line-tools-12-1' for glob 'cuda*'\n",
            "Note, selecting 'cuda-command-line-tools-12-2' for glob 'cuda*'\n",
            "Note, selecting 'cuda-command-line-tools-12-3' for glob 'cuda*'\n",
            "Note, selecting 'cuda-command-line-tools-12-4' for glob 'cuda*'\n",
            "Note, selecting 'cuda-command-line-tools-12-5' for glob 'cuda*'\n",
            "Note, selecting 'cuda-command-line-tools-12-6' for glob 'cuda*'\n",
            "Note, selecting 'cuda-command-line-tools-12-8' for glob 'cuda*'\n",
            "Note, selecting 'cuda-command-line-tools-12-9' for glob 'cuda*'\n",
            "Note, selecting 'cuda-nvdisasm-11-7' for glob 'cuda*'\n",
            "Note, selecting 'cuda-nvdisasm-11-8' for glob 'cuda*'\n",
            "Note, selecting 'cuda-nvrtc-13-0' for glob 'cuda*'\n",
            "Note, selecting 'cuda-command-line-tools-13-0' for glob 'cuda*'\n",
            "Note, selecting 'cuda-nvdisasm-12-0' for glob 'cuda*'\n",
            "Note, selecting 'cuda-nvdisasm-12-1' for glob 'cuda*'\n",
            "Note, selecting 'cuda-nvdisasm-12-2' for glob 'cuda*'\n",
            "Note, selecting 'cuda-nvdisasm-12-3' for glob 'cuda*'\n",
            "Note, selecting 'cuda-nvdisasm-12-4' for glob 'cuda*'\n",
            "Note, selecting 'cuda-nvdisasm-12-5' for glob 'cuda*'\n",
            "Note, selecting 'cuda-nvdisasm-12-6' for glob 'cuda*'\n",
            "Note, selecting 'cuda-nvdisasm-12-8' for glob 'cuda*'\n",
            "Note, selecting 'cuda-nvdisasm-12-9' for glob 'cuda*'\n",
            "Note, selecting 'cuda-nvdisasm-13-0' for glob 'cuda*'\n",
            "Note, selecting 'cuda-drivers-fabricmanager-450' for glob 'cuda*'\n",
            "Note, selecting 'cuda-drivers-fabricmanager-460' for glob 'cuda*'\n",
            "Note, selecting 'cuda-drivers-fabricmanager-470' for glob 'cuda*'\n",
            "Note, selecting 'cuda-drivers-fabricmanager-510' for glob 'cuda*'\n",
            "Note, selecting 'cuda-drivers-fabricmanager-515' for glob 'cuda*'\n",
            "Note, selecting 'cuda-drivers-fabricmanager-520' for glob 'cuda*'\n",
            "Note, selecting 'cuda-drivers-fabricmanager-525' for glob 'cuda*'\n",
            "Note, selecting 'cuda-drivers-fabricmanager-530' for glob 'cuda*'\n",
            "Note, selecting 'cuda-drivers-fabricmanager-535' for glob 'cuda*'\n",
            "Note, selecting 'cuda-drivers-fabricmanager-545' for glob 'cuda*'\n",
            "Note, selecting 'cuda-drivers-fabricmanager-550' for glob 'cuda*'\n",
            "Note, selecting 'cuda-drivers-fabricmanager-555' for glob 'cuda*'\n",
            "Note, selecting 'cuda-drivers-fabricmanager-560' for glob 'cuda*'\n",
            "Note, selecting 'cuda-drivers-fabricmanager-565' for glob 'cuda*'\n",
            "Note, selecting 'cuda-drivers-fabricmanager-570' for glob 'cuda*'\n",
            "Note, selecting 'cuda-drivers-fabricmanager-575' for glob 'cuda*'\n",
            "Note, selecting 'cuda-drivers-fabricmanager-580' for glob 'cuda*'\n",
            "Note, selecting 'cuda-toolkit-13-0-config-common' for glob 'cuda*'\n",
            "Note, selecting 'cuda-sanitizer-11-7' for glob 'cuda*'\n",
            "Note, selecting 'cuda-sanitizer-11-8' for glob 'cuda*'\n",
            "Note, selecting 'cuda-sanitizer-12-0' for glob 'cuda*'\n",
            "Note, selecting 'cuda-sanitizer-12-1' for glob 'cuda*'\n",
            "Note, selecting 'cuda-sanitizer-12-2' for glob 'cuda*'\n",
            "Note, selecting 'cuda-sanitizer-12-3' for glob 'cuda*'\n",
            "Note, selecting 'cuda-sanitizer-12-4' for glob 'cuda*'\n",
            "Note, selecting 'cuda-sanitizer-12-5' for glob 'cuda*'\n",
            "Note, selecting 'cuda-sanitizer-12-6' for glob 'cuda*'\n",
            "Note, selecting 'cuda-sanitizer-12-8' for glob 'cuda*'\n",
            "Note, selecting 'cuda-sanitizer-12-9' for glob 'cuda*'\n",
            "Note, selecting 'cuda-toolkit-12-0-config-common' for glob 'cuda*'\n",
            "Note, selecting 'cuda-sanitizer-13-0' for glob 'cuda*'\n",
            "Note, selecting 'cuda-documentation-11-7' for glob 'cuda*'\n",
            "Note, selecting 'cuda-documentation-11-8' for glob 'cuda*'\n",
            "Note, selecting 'cuda-gdb-src-11-7' for glob 'cuda*'\n",
            "Note, selecting 'cuda-gdb-src-11-8' for glob 'cuda*'\n",
            "Note, selecting 'cuda-documentation-12-0' for glob 'cuda*'\n",
            "Note, selecting 'cuda-documentation-12-1' for glob 'cuda*'\n",
            "Note, selecting 'cuda-documentation-12-2' for glob 'cuda*'\n",
            "Note, selecting 'cuda-documentation-12-3' for glob 'cuda*'\n",
            "Note, selecting 'cuda-documentation-12-4' for glob 'cuda*'\n",
            "Note, selecting 'cuda-documentation-12-5' for glob 'cuda*'\n",
            "Note, selecting 'cuda-documentation-12-6' for glob 'cuda*'\n",
            "Note, selecting 'cuda-documentation-12-8' for glob 'cuda*'\n",
            "Note, selecting 'cuda-documentation-12-9' for glob 'cuda*'\n",
            "Note, selecting 'cuda-gdb-src-12-0' for glob 'cuda*'\n",
            "Note, selecting 'cuda-gdb-src-12-1' for glob 'cuda*'\n",
            "Note, selecting 'cuda-gdb-src-12-2' for glob 'cuda*'\n",
            "Note, selecting 'cuda-gdb-src-12-3' for glob 'cuda*'\n",
            "Note, selecting 'cuda-gdb-src-12-4' for glob 'cuda*'\n",
            "Note, selecting 'cuda-gdb-src-12-5' for glob 'cuda*'\n",
            "Note, selecting 'cuda-gdb-src-12-6' for glob 'cuda*'\n",
            "Note, selecting 'cuda-gdb-src-12-8' for glob 'cuda*'\n",
            "Note, selecting 'cuda-gdb-src-12-9' for glob 'cuda*'\n",
            "Note, selecting 'cuda-documentation-13-0' for glob 'cuda*'\n",
            "Note, selecting 'cuda-gdb-src-13-0' for glob 'cuda*'\n",
            "Note, selecting 'cuda-thrust-11-7' for glob 'cuda*'\n",
            "Note, selecting 'cuda-thrust-11-8' for glob 'cuda*'\n",
            "Note, selecting 'cuda-thrust-12-0' for glob 'cuda*'\n",
            "Note, selecting 'cuda-thrust-12-1' for glob 'cuda*'\n",
            "Note, selecting 'cuda-thrust-12-2' for glob 'cuda*'\n",
            "Note, selecting 'cuda-thrust-12-3' for glob 'cuda*'\n",
            "Note, selecting 'cuda-thrust-12-4' for glob 'cuda*'\n",
            "Note, selecting 'cuda-thrust-12-5' for glob 'cuda*'\n",
            "Note, selecting 'cuda-thrust-12-6' for glob 'cuda*'\n",
            "Note, selecting 'cuda-thrust-12-8' for glob 'cuda*'\n",
            "Note, selecting 'cuda-thrust-12-9' for glob 'cuda*'\n",
            "Note, selecting 'cuda-drivers-fabricmanager' for glob 'cuda*'\n",
            "Note, selecting 'cuda-thrust-13-0' for glob 'cuda*'\n",
            "Note, selecting 'cuda-cuxxfilt-11-7' for glob 'cuda*'\n",
            "Note, selecting 'cuda-cuxxfilt-11-8' for glob 'cuda*'\n",
            "Note, selecting 'cuda-cuxxfilt-12-0' for glob 'cuda*'\n",
            "Note, selecting 'cuda-cuxxfilt-12-1' for glob 'cuda*'\n",
            "Note, selecting 'cuda-cuxxfilt-12-2' for glob 'cuda*'\n",
            "Note, selecting 'cuda-cuxxfilt-12-3' for glob 'cuda*'\n",
            "Note, selecting 'cuda-cuxxfilt-12-4' for glob 'cuda*'\n",
            "Note, selecting 'cuda-cuxxfilt-12-5' for glob 'cuda*'\n",
            "Note, selecting 'cuda-cuxxfilt-12-6' for glob 'cuda*'\n",
            "Note, selecting 'cuda-cuxxfilt-12-8' for glob 'cuda*'\n",
            "Note, selecting 'cuda-cuxxfilt-12-9' for glob 'cuda*'\n",
            "Note, selecting 'cuda-cuxxfilt-13-0' for glob 'cuda*'\n",
            "Note, selecting 'cuda-drivers-grid' for glob 'cuda*'\n",
            "Note, selecting 'cuda-cudart-cross-amd64-11-8' for glob 'cuda*'\n",
            "Note, selecting 'cuda-culibos-dev-13-0' for glob 'cuda*'\n",
            "Note, selecting 'cuda-cudart-cross-amd64-12-0' for glob 'cuda*'\n",
            "Note, selecting 'cuda-cudart-cross-amd64-12-1' for glob 'cuda*'\n",
            "Note, selecting 'cuda-cudart-cross-amd64-12-2' for glob 'cuda*'\n",
            "Note, selecting 'cuda-cudart-cross-amd64-12-3' for glob 'cuda*'\n",
            "Note, selecting 'cuda-cudart-cross-amd64-12-4' for glob 'cuda*'\n",
            "Note, selecting 'cuda-cudart-cross-amd64-12-5' for glob 'cuda*'\n",
            "Note, selecting 'cuda-cudart-cross-amd64-12-6' for glob 'cuda*'\n",
            "Note, selecting 'cuda-cudart-cross-amd64-12-7' for glob 'cuda*'\n",
            "Note, selecting 'cuda-cudart-cross-amd64-12-8' for glob 'cuda*'\n",
            "Note, selecting 'cuda-cudart-cross-amd64-12-9' for glob 'cuda*'\n",
            "Note, selecting 'cuda-cudart-cross-amd64-13-0' for glob 'cuda*'\n",
            "Note, selecting 'cuda-cudart-cross-amd64-13-1' for glob 'cuda*'\n",
            "Note, selecting 'cuda-cudart-cross-amd64-13-2' for glob 'cuda*'\n",
            "Note, selecting 'cuda-cudart-cross-amd64-13-3' for glob 'cuda*'\n",
            "Note, selecting 'cuda-cudart-cross-amd64-13-4' for glob 'cuda*'\n",
            "Note, selecting 'cuda-cudart-cross-amd64-13-5' for glob 'cuda*'\n",
            "Note, selecting 'cuda-cudart-cross-amd64-13-6' for glob 'cuda*'\n",
            "Note, selecting 'cuda-cudart-cross-amd64-13-7' for glob 'cuda*'\n",
            "Note, selecting 'cuda-cudart-cross-amd64-13-8' for glob 'cuda*'\n",
            "Note, selecting 'cuda-cudart-cross-amd64-13-9' for glob 'cuda*'\n",
            "Note, selecting 'cuda-cccl-11-7' for glob 'cuda*'\n",
            "Note, selecting 'cuda-cccl-11-8' for glob 'cuda*'\n",
            "Note, selecting 'cuda-cccl-12-0' for glob 'cuda*'\n",
            "Note, selecting 'cuda-cccl-12-1' for glob 'cuda*'\n",
            "Note, selecting 'cuda-cccl-12-2' for glob 'cuda*'\n",
            "Note, selecting 'cuda-cccl-12-3' for glob 'cuda*'\n",
            "Note, selecting 'cuda-cccl-12-4' for glob 'cuda*'\n",
            "Note, selecting 'cuda-cccl-12-5' for glob 'cuda*'\n",
            "Note, selecting 'cuda-cccl-12-6' for glob 'cuda*'\n",
            "Note, selecting 'cuda-cccl-12-8' for glob 'cuda*'\n",
            "Note, selecting 'cuda-cccl-12-9' for glob 'cuda*'\n",
            "Note, selecting 'cuda-cupti-11-7' for glob 'cuda*'\n",
            "Note, selecting 'cuda-cupti-11-8' for glob 'cuda*'\n",
            "Note, selecting 'cuda-cccl-13-0' for glob 'cuda*'\n",
            "Note, selecting 'cuda-cupti-12-0' for glob 'cuda*'\n",
            "Note, selecting 'cuda-cupti-12-1' for glob 'cuda*'\n",
            "Note, selecting 'cuda-cupti-12-2' for glob 'cuda*'\n",
            "Note, selecting 'cuda-cupti-12-3' for glob 'cuda*'\n",
            "Note, selecting 'cuda-cupti-12-4' for glob 'cuda*'\n",
            "Note, selecting 'cuda-cupti-12-5' for glob 'cuda*'\n",
            "Note, selecting 'cuda-cupti-12-6' for glob 'cuda*'\n",
            "Note, selecting 'cuda-cupti-12-8' for glob 'cuda*'\n",
            "Note, selecting 'cuda-cupti-12-9' for glob 'cuda*'\n",
            "Note, selecting 'cuda-cupti-13-0' for glob 'cuda*'\n",
            "Note, selecting 'cuda-ctadvisor-13-0' for glob 'cuda*'\n",
            "Note, selecting 'cuda-visual-tools-11-7' for glob 'cuda*'\n",
            "Note, selecting 'cuda-visual-tools-11-8' for glob 'cuda*'\n",
            "Note, selecting 'cuda-visual-tools-12-0' for glob 'cuda*'\n",
            "Note, selecting 'cuda-visual-tools-12-1' for glob 'cuda*'\n",
            "Note, selecting 'cuda-visual-tools-12-2' for glob 'cuda*'\n",
            "Note, selecting 'cuda-visual-tools-12-3' for glob 'cuda*'\n",
            "Note, selecting 'cuda-visual-tools-12-4' for glob 'cuda*'\n",
            "Note, selecting 'cuda-visual-tools-12-5' for glob 'cuda*'\n",
            "Note, selecting 'cuda-visual-tools-12-6' for glob 'cuda*'\n",
            "Note, selecting 'cuda-visual-tools-12-8' for glob 'cuda*'\n",
            "Note, selecting 'cuda-visual-tools-12-9' for glob 'cuda*'\n",
            "Note, selecting 'cuda-visual-tools-13-0' for glob 'cuda*'\n",
            "Note, selecting 'cuda-drivers-515' for glob 'cuda*'\n",
            "Note, selecting 'cuda-drivers-520' for glob 'cuda*'\n",
            "Note, selecting 'cuda-drivers-525' for glob 'cuda*'\n",
            "Note, selecting 'cuda-drivers-530' for glob 'cuda*'\n",
            "Note, selecting 'cuda-drivers-535' for glob 'cuda*'\n",
            "Note, selecting 'cuda-drivers-545' for glob 'cuda*'\n",
            "Note, selecting 'cuda-drivers-550' for glob 'cuda*'\n",
            "Note, selecting 'cuda-drivers-555' for glob 'cuda*'\n",
            "Note, selecting 'cuda-drivers-560' for glob 'cuda*'\n",
            "Note, selecting 'cuda-drivers-565' for glob 'cuda*'\n",
            "Note, selecting 'cuda-drivers-570' for glob 'cuda*'\n",
            "Note, selecting 'cuda-drivers-575' for glob 'cuda*'\n",
            "Note, selecting 'cuda-drivers-580' for glob 'cuda*'\n",
            "Note, selecting 'cuda-toolkit-12-9-config-common' for glob 'cuda*'\n",
            "Note, selecting 'cuda-toolkit-11-8-config-common' for glob 'cuda*'\n",
            "Note, selecting 'cuda-11-7' for glob 'cuda*'\n",
            "Note, selecting 'cuda-11-8' for glob 'cuda*'\n",
            "Note, selecting 'cuda-12-0' for glob 'cuda*'\n",
            "Note, selecting 'cuda-12-1' for glob 'cuda*'\n",
            "Note, selecting 'cuda-12-2' for glob 'cuda*'\n",
            "Note, selecting 'cuda-12-3' for glob 'cuda*'\n",
            "Note, selecting 'cuda-12-4' for glob 'cuda*'\n",
            "Note, selecting 'cuda-12-5' for glob 'cuda*'\n",
            "Note, selecting 'cuda-12-6' for glob 'cuda*'\n",
            "Note, selecting 'cuda-12-8' for glob 'cuda*'\n",
            "Note, selecting 'cuda-12-9' for glob 'cuda*'\n",
            "Note, selecting 'cuda-nvprune-11-7' for glob 'cuda*'\n",
            "Note, selecting 'cuda-nvprune-11-8' for glob 'cuda*'\n",
            "Note, selecting 'cuda-13-0' for glob 'cuda*'\n",
            "Note, selecting 'cuda-nvprune-12-0' for glob 'cuda*'\n",
            "Note, selecting 'cuda-nvprune-12-1' for glob 'cuda*'\n",
            "Note, selecting 'cuda-nvprune-12-2' for glob 'cuda*'\n",
            "Note, selecting 'cuda-nvprune-12-3' for glob 'cuda*'\n",
            "Note, selecting 'cuda-nvprune-12-4' for glob 'cuda*'\n",
            "Note, selecting 'cuda-nvprune-12-5' for glob 'cuda*'\n",
            "Note, selecting 'cuda-nvprune-12-6' for glob 'cuda*'\n",
            "Note, selecting 'cuda-nvprune-12-8' for glob 'cuda*'\n",
            "Note, selecting 'cuda-nvprune-12-9' for glob 'cuda*'\n",
            "Note, selecting 'cuda-license-10-1' for glob 'cuda*'\n",
            "Note, selecting 'cuda-license-10-2' for glob 'cuda*'\n",
            "Note, selecting 'cuda-nvprune-13-0' for glob 'cuda*'\n",
            "Note, selecting 'cuda-runtime-11-7' for glob 'cuda*'\n",
            "Note, selecting 'cuda-runtime-11-8' for glob 'cuda*'\n",
            "Note, selecting 'cuda-runtime-12-0' for glob 'cuda*'\n",
            "Note, selecting 'cuda-runtime-12-1' for glob 'cuda*'\n",
            "Note, selecting 'cuda-runtime-12-2' for glob 'cuda*'\n",
            "Note, selecting 'cuda-runtime-12-3' for glob 'cuda*'\n",
            "Note, selecting 'cuda-runtime-12-4' for glob 'cuda*'\n",
            "Note, selecting 'cuda-runtime-12-5' for glob 'cuda*'\n",
            "Note, selecting 'cuda-runtime-12-6' for glob 'cuda*'\n",
            "Note, selecting 'cuda-runtime-12-8' for glob 'cuda*'\n",
            "Note, selecting 'cuda-runtime-12-9' for glob 'cuda*'\n",
            "Note, selecting 'cuda-runtime-13-0' for glob 'cuda*'\n",
            "Note, selecting 'cuda-nvvm-12-2' for glob 'cuda*'\n",
            "Note, selecting 'cuda-nvvm-12-3' for glob 'cuda*'\n",
            "Note, selecting 'cuda-nvvm-12-4' for glob 'cuda*'\n",
            "Note, selecting 'cuda-nvvm-12-5' for glob 'cuda*'\n",
            "Note, selecting 'cuda-nvvm-12-6' for glob 'cuda*'\n",
            "Note, selecting 'cuda-nvvm-12-8' for glob 'cuda*'\n",
            "Note, selecting 'cuda-nvvm-12-9' for glob 'cuda*'\n",
            "Note, selecting 'cuda-memcheck-11-7' for glob 'cuda*'\n",
            "Note, selecting 'cuda-memcheck-11-8' for glob 'cuda*'\n",
            "Note, selecting 'cuda-cudart-11-0' for glob 'cuda*'\n",
            "Note, selecting 'cuda-cudart-11-1' for glob 'cuda*'\n",
            "Note, selecting 'cuda-cudart-11-2' for glob 'cuda*'\n",
            "Note, selecting 'cuda-cudart-11-7' for glob 'cuda*'\n",
            "Note, selecting 'cuda-cudart-11-8' for glob 'cuda*'\n",
            "Note, selecting 'cuda-cudart-12-0' for glob 'cuda*'\n",
            "Note, selecting 'cuda-nvrtc-dev-11-7' for glob 'cuda*'\n",
            "Note, selecting 'cuda-cudart-12-1' for glob 'cuda*'\n",
            "Note, selecting 'cuda-nvrtc-dev-11-8' for glob 'cuda*'\n",
            "Note, selecting 'cuda-cudart-12-2' for glob 'cuda*'\n",
            "Note, selecting 'cuda-cudart-12-3' for glob 'cuda*'\n",
            "Note, selecting 'cuda-cudart-12-4' for glob 'cuda*'\n",
            "Note, selecting 'cuda-cudart-12-5' for glob 'cuda*'\n",
            "Note, selecting 'cuda-cudart-12-6' for glob 'cuda*'\n",
            "Note, selecting 'cuda-cudart-12-8' for glob 'cuda*'\n",
            "Note, selecting 'cuda-cudart-12-9' for glob 'cuda*'\n",
            "Note, selecting 'cuda-nvrtc-dev-12-0' for glob 'cuda*'\n",
            "Note, selecting 'cuda-nvrtc-dev-12-1' for glob 'cuda*'\n",
            "Note, selecting 'cuda-nvrtc-dev-12-2' for glob 'cuda*'\n",
            "Note, selecting 'cuda-nvrtc-dev-12-3' for glob 'cuda*'\n",
            "Note, selecting 'cuda-nvrtc-dev-12-4' for glob 'cuda*'\n",
            "Note, selecting 'cuda-nvrtc-dev-12-5' for glob 'cuda*'\n",
            "Note, selecting 'cuda-nvrtc-dev-12-6' for glob 'cuda*'\n",
            "Note, selecting 'cuda-cudart-13-0' for glob 'cuda*'\n",
            "Note, selecting 'cuda-nvrtc-dev-12-7' for glob 'cuda*'\n",
            "Note, selecting 'cuda-nvrtc-dev-12-8' for glob 'cuda*'\n",
            "Note, selecting 'cuda-nvrtc-dev-12-9' for glob 'cuda*'\n",
            "Note, selecting 'cuda-nvrtc-dev-13-0' for glob 'cuda*'\n",
            "Note, selecting 'cuda-nvprof-11-7' for glob 'cuda*'\n",
            "Note, selecting 'cuda-nvprof-11-8' for glob 'cuda*'\n",
            "Note, selecting 'cuda-nvprof-12-0' for glob 'cuda*'\n",
            "Note, selecting 'cuda-nvprof-12-1' for glob 'cuda*'\n",
            "Note, selecting 'cuda-nvprof-12-2' for glob 'cuda*'\n",
            "Note, selecting 'cuda-nvprof-12-3' for glob 'cuda*'\n",
            "Note, selecting 'cuda-nvprof-12-4' for glob 'cuda*'\n",
            "Note, selecting 'cuda-nvprof-12-5' for glob 'cuda*'\n",
            "Note, selecting 'cuda-nvprof-12-6' for glob 'cuda*'\n",
            "Note, selecting 'cuda-nvprof-12-8' for glob 'cuda*'\n",
            "Note, selecting 'cuda-nvprof-12-9' for glob 'cuda*'\n",
            "Note, selecting 'cuda-sandbox-dev-12-8' for glob 'cuda*'\n",
            "Note, selecting 'cuda-sandbox-dev-12-9' for glob 'cuda*'\n",
            "Note, selecting 'cuda-demo-suite-11-7' for glob 'cuda*'\n",
            "Note, selecting 'cuda-demo-suite-11-8' for glob 'cuda*'\n",
            "Note, selecting 'cuda-sandbox-dev-13-0' for glob 'cuda*'\n",
            "Note, selecting 'cuda-demo-suite-12-0' for glob 'cuda*'\n",
            "Note, selecting 'cuda-demo-suite-12-1' for glob 'cuda*'\n",
            "Note, selecting 'cuda-demo-suite-12-2' for glob 'cuda*'\n",
            "Note, selecting 'cuda-demo-suite-12-3' for glob 'cuda*'\n",
            "Note, selecting 'cuda-demo-suite-12-4' for glob 'cuda*'\n",
            "Note, selecting 'cuda-demo-suite-12-5' for glob 'cuda*'\n",
            "Note, selecting 'cuda-demo-suite-12-6' for glob 'cuda*'\n",
            "Note, selecting 'cuda-demo-suite-12-8' for glob 'cuda*'\n",
            "Note, selecting 'cuda-demo-suite-12-9' for glob 'cuda*'\n",
            "Note, selecting 'cuda' for glob 'cuda*'\n",
            "Note, selecting 'cuda-profiler-api-11-8' for glob 'cuda*'\n",
            "Note, selecting 'cuda-toolkit-12-8-config-common' for glob 'cuda*'\n",
            "Note, selecting 'cuda-profiler-api-12-0' for glob 'cuda*'\n",
            "Note, selecting 'cuda-profiler-api-12-1' for glob 'cuda*'\n",
            "Note, selecting 'cuda-profiler-api-12-2' for glob 'cuda*'\n",
            "Note, selecting 'cuda-profiler-api-12-3' for glob 'cuda*'\n",
            "Note, selecting 'cuda-profiler-api-12-4' for glob 'cuda*'\n",
            "Note, selecting 'cuda-profiler-api-12-5' for glob 'cuda*'\n",
            "Note, selecting 'cuda-profiler-api-12-6' for glob 'cuda*'\n",
            "Note, selecting 'cuda-profiler-api-12-7' for glob 'cuda*'\n",
            "Note, selecting 'cuda-profiler-api-12-8' for glob 'cuda*'\n",
            "Note, selecting 'cuda-profiler-api-12-9' for glob 'cuda*'\n",
            "Note, selecting 'cuda-profiler-api-13-0' for glob 'cuda*'\n",
            "Note, selecting 'cuda-profiler-api-13-1' for glob 'cuda*'\n",
            "Note, selecting 'cuda-profiler-api-13-2' for glob 'cuda*'\n",
            "Note, selecting 'cuda-profiler-api-13-3' for glob 'cuda*'\n",
            "Note, selecting 'cuda-profiler-api-13-4' for glob 'cuda*'\n",
            "Note, selecting 'cuda-profiler-api-13-5' for glob 'cuda*'\n",
            "Note, selecting 'cuda-profiler-api-13-6' for glob 'cuda*'\n",
            "Note, selecting 'cuda-profiler-api-13-7' for glob 'cuda*'\n",
            "Note, selecting 'cuda-profiler-api-13-8' for glob 'cuda*'\n",
            "Note, selecting 'cuda-profiler-api-13-9' for glob 'cuda*'\n",
            "Note, selecting 'cuda-toolkit-11-7-config-common' for glob 'cuda*'\n",
            "Note, selecting 'cuda-drivers-branch' for glob 'cuda*'\n",
            "Note, selecting 'cuda-nvvp-11-7' for glob 'cuda*'\n",
            "Note, selecting 'cuda-nvvp-11-8' for glob 'cuda*'\n",
            "Note, selecting 'cuda-profiler-api-cross-amd64-12-0' for glob 'cuda*'\n",
            "Note, selecting 'cuda-profiler-api-cross-amd64-12-1' for glob 'cuda*'\n",
            "Note, selecting 'cuda-profiler-api-cross-amd64-12-2' for glob 'cuda*'\n",
            "Note, selecting 'cuda-profiler-api-cross-amd64-12-3' for glob 'cuda*'\n",
            "Note, selecting 'cuda-profiler-api-cross-amd64-12-4' for glob 'cuda*'\n",
            "Note, selecting 'cuda-profiler-api-cross-amd64-12-5' for glob 'cuda*'\n",
            "Note, selecting 'cuda-profiler-api-cross-amd64-12-6' for glob 'cuda*'\n",
            "Note, selecting 'cuda-profiler-api-cross-amd64-12-7' for glob 'cuda*'\n",
            "Note, selecting 'cuda-profiler-api-cross-amd64-12-8' for glob 'cuda*'\n",
            "Note, selecting 'cuda-profiler-api-cross-amd64-12-9' for glob 'cuda*'\n",
            "Note, selecting 'cuda-nvtx-11-7' for glob 'cuda*'\n",
            "Note, selecting 'cuda-nvtx-11-8' for glob 'cuda*'\n",
            "Note, selecting 'cuda-nvvp-12-0' for glob 'cuda*'\n",
            "Note, selecting 'cuda-nvvp-12-1' for glob 'cuda*'\n",
            "Note, selecting 'cuda-nvvp-12-2' for glob 'cuda*'\n",
            "Note, selecting 'cuda-nvvp-12-3' for glob 'cuda*'\n",
            "Note, selecting 'cuda-nvvp-12-4' for glob 'cuda*'\n",
            "Note, selecting 'cuda-nvvp-12-5' for glob 'cuda*'\n",
            "Note, selecting 'cuda-nvvp-12-6' for glob 'cuda*'\n",
            "Note, selecting 'cuda-nvvp-12-8' for glob 'cuda*'\n",
            "Note, selecting 'cuda-nvvp-12-9' for glob 'cuda*'\n",
            "Note, selecting 'cuda-crt-12-2' for glob 'cuda*'\n",
            "Note, selecting 'cuda-crt-12-3' for glob 'cuda*'\n",
            "Note, selecting 'cuda-crt-12-4' for glob 'cuda*'\n",
            "Note, selecting 'cuda-crt-12-5' for glob 'cuda*'\n",
            "Note, selecting 'cuda-crt-12-6' for glob 'cuda*'\n",
            "Note, selecting 'cuda-crt-12-8' for glob 'cuda*'\n",
            "Note, selecting 'cuda-crt-12-9' for glob 'cuda*'\n",
            "Note, selecting 'cuda-profiler-api-cross-amd64-13-0' for glob 'cuda*'\n",
            "Note, selecting 'cuda-profiler-api-cross-amd64-13-1' for glob 'cuda*'\n",
            "Note, selecting 'cuda-profiler-api-cross-amd64-13-2' for glob 'cuda*'\n",
            "Note, selecting 'cuda-profiler-api-cross-amd64-13-3' for glob 'cuda*'\n",
            "Note, selecting 'cuda-profiler-api-cross-amd64-13-4' for glob 'cuda*'\n",
            "Note, selecting 'cuda-profiler-api-cross-amd64-13-5' for glob 'cuda*'\n",
            "Note, selecting 'cuda-profiler-api-cross-amd64-13-6' for glob 'cuda*'\n",
            "Note, selecting 'cuda-profiler-api-cross-amd64-13-7' for glob 'cuda*'\n",
            "Note, selecting 'cuda-profiler-api-cross-amd64-13-8' for glob 'cuda*'\n",
            "Note, selecting 'cuda-profiler-api-cross-amd64-13-9' for glob 'cuda*'\n",
            "Note, selecting 'cuda-nvtx-12-0' for glob 'cuda*'\n",
            "Note, selecting 'cuda-nvtx-12-1' for glob 'cuda*'\n",
            "Note, selecting 'cuda-nvtx-12-2' for glob 'cuda*'\n",
            "Note, selecting 'cuda-nvtx-12-3' for glob 'cuda*'\n",
            "Note, selecting 'cuda-nvtx-12-4' for glob 'cuda*'\n",
            "Note, selecting 'cuda-nvtx-12-5' for glob 'cuda*'\n",
            "Note, selecting 'cuda-nvtx-12-6' for glob 'cuda*'\n",
            "Note, selecting 'cuda-nvtx-12-8' for glob 'cuda*'\n",
            "Note, selecting 'cuda-nvtx-12-9' for glob 'cuda*'\n",
            "Note, selecting 'cuda-crt-13-0' for glob 'cuda*'\n",
            "Note, selecting 'cuda-nvtx-13-0' for glob 'cuda*'\n",
            "Note, selecting 'cuda-nvcc-11-0' for glob 'cuda*'\n",
            "Note, selecting 'cuda-nvcc-11-1' for glob 'cuda*'\n",
            "Note, selecting 'cuda-nvcc-11-2' for glob 'cuda*'\n",
            "Note, selecting 'cuda-nvcc-11-3' for glob 'cuda*'\n",
            "Note, selecting 'cuda-nvcc-11-4' for glob 'cuda*'\n",
            "Note, selecting 'cuda-nvcc-11-5' for glob 'cuda*'\n",
            "Note, selecting 'cuda-nvcc-11-6' for glob 'cuda*'\n",
            "Note, selecting 'cuda-nvcc-11-7' for glob 'cuda*'\n",
            "Note, selecting 'cuda-nvcc-11-8' for glob 'cuda*'\n",
            "Note, selecting 'cuda-nvcc-11-9' for glob 'cuda*'\n",
            "Note, selecting 'cuda-cupti-dev-11-7' for glob 'cuda*'\n",
            "Note, selecting 'cuda-cupti-dev-11-8' for glob 'cuda*'\n",
            "Note, selecting 'cuda-nvcc-12-0' for glob 'cuda*'\n",
            "Note, selecting 'cuda-nvcc-12-1' for glob 'cuda*'\n",
            "Note, selecting 'cuda-nvcc-12-2' for glob 'cuda*'\n",
            "Note, selecting 'cuda-nvcc-12-3' for glob 'cuda*'\n",
            "Note, selecting 'cuda-nvcc-12-4' for glob 'cuda*'\n",
            "Note, selecting 'cuda-nvcc-12-5' for glob 'cuda*'\n",
            "Note, selecting 'cuda-nvcc-12-6' for glob 'cuda*'\n",
            "Note, selecting 'cuda-nvcc-12-7' for glob 'cuda*'\n",
            "Note, selecting 'cuda-nvcc-12-8' for glob 'cuda*'\n",
            "Note, selecting 'cuda-nvcc-12-9' for glob 'cuda*'\n",
            "Note, selecting 'cuda-cupti-dev-12-0' for glob 'cuda*'\n",
            "Note, selecting 'cuda-cupti-dev-12-1' for glob 'cuda*'\n",
            "Note, selecting 'cuda-cupti-dev-12-2' for glob 'cuda*'\n",
            "Note, selecting 'cuda-cupti-dev-12-3' for glob 'cuda*'\n",
            "Note, selecting 'cuda-cupti-dev-12-4' for glob 'cuda*'\n",
            "Note, selecting 'cuda-cupti-dev-12-5' for glob 'cuda*'\n",
            "Note, selecting 'cuda-cupti-dev-12-6' for glob 'cuda*'\n",
            "Note, selecting 'cuda-cupti-dev-12-8' for glob 'cuda*'\n",
            "Note, selecting 'cuda-cupti-dev-12-9' for glob 'cuda*'\n",
            "Note, selecting 'cuda-nvcc-13-0' for glob 'cuda*'\n",
            "Note, selecting 'cuda-nvcc-13-1' for glob 'cuda*'\n",
            "Note, selecting 'cuda-nvcc-13-2' for glob 'cuda*'\n",
            "Note, selecting 'cuda-nvcc-13-3' for glob 'cuda*'\n",
            "Note, selecting 'cuda-nvcc-13-4' for glob 'cuda*'\n",
            "Note, selecting 'cuda-nvcc-13-5' for glob 'cuda*'\n",
            "Note, selecting 'cuda-nvcc-13-6' for glob 'cuda*'\n",
            "Note, selecting 'cuda-nvcc-13-7' for glob 'cuda*'\n",
            "Note, selecting 'cuda-nvcc-13-8' for glob 'cuda*'\n",
            "Note, selecting 'cuda-nvcc-13-9' for glob 'cuda*'\n",
            "Note, selecting 'cuda-toolkit' for glob 'cuda*'\n",
            "Note, selecting 'cuda-compiler-11-7' for glob 'cuda*'\n",
            "Note, selecting 'cuda-compiler-11-8' for glob 'cuda*'\n",
            "Note, selecting 'cuda-cupti-dev-13-0' for glob 'cuda*'\n",
            "Note, selecting 'cuda-compiler-12-0' for glob 'cuda*'\n",
            "Note, selecting 'cuda-compiler-12-1' for glob 'cuda*'\n",
            "Note, selecting 'cuda-compiler-12-2' for glob 'cuda*'\n",
            "Note, selecting 'cuda-compiler-12-3' for glob 'cuda*'\n",
            "Note, selecting 'cuda-compiler-12-4' for glob 'cuda*'\n",
            "Note, selecting 'cuda-compiler-12-5' for glob 'cuda*'\n",
            "Note, selecting 'cuda-compiler-12-6' for glob 'cuda*'\n",
            "Note, selecting 'cuda-compiler-12-8' for glob 'cuda*'\n",
            "Note, selecting 'cuda-compiler-12-9' for glob 'cuda*'\n",
            "Note, selecting 'cuda-compiler-13-0' for glob 'cuda*'\n",
            "Note, selecting 'cuda-toolkit-11-config-common' for glob 'cuda*'\n",
            "Note, selecting 'cuda-toolkit-12' for glob 'cuda*'\n",
            "Note, selecting 'cuda-toolkit-13' for glob 'cuda*'\n",
            "Note, selecting 'cuda-toolkit-12-config-common' for glob 'cuda*'\n",
            "Note, selecting 'cuda-cub-11-7' for glob 'cuda*'\n",
            "Note, selecting 'cuda-cub-11-8' for glob 'cuda*'\n",
            "Note, selecting 'cuda-nvcc-12' for glob 'cuda*'\n",
            "Note, selecting 'cuda-nvcc-13' for glob 'cuda*'\n",
            "Note, selecting 'cuda-cub-12-0' for glob 'cuda*'\n",
            "Note, selecting 'cuda-cub-12-1' for glob 'cuda*'\n",
            "Note, selecting 'cuda-cub-12-2' for glob 'cuda*'\n",
            "Note, selecting 'cuda-cub-12-3' for glob 'cuda*'\n",
            "Note, selecting 'cuda-cub-12-4' for glob 'cuda*'\n",
            "Note, selecting 'cuda-cub-12-5' for glob 'cuda*'\n",
            "Note, selecting 'cuda-cub-12-6' for glob 'cuda*'\n",
            "Note, selecting 'cuda-cub-12-8' for glob 'cuda*'\n",
            "Note, selecting 'cuda-cub-12-9' for glob 'cuda*'\n",
            "Note, selecting 'cuda-nvml-dev-11-7' for glob 'cuda*'\n",
            "Note, selecting 'cuda-nvml-dev-11-8' for glob 'cuda*'\n",
            "Note, selecting 'cuda-toolkit-13-config-common' for glob 'cuda*'\n",
            "Note, selecting 'cuda-cub-13-0' for glob 'cuda*'\n",
            "Note, selecting 'cuda-nvml-dev-12-0' for glob 'cuda*'\n",
            "Note, selecting 'cuda-nvml-dev-12-1' for glob 'cuda*'\n",
            "Note, selecting 'cuda-nvml-dev-12-2' for glob 'cuda*'\n",
            "Note, selecting 'cuda-nvml-dev-12-3' for glob 'cuda*'\n",
            "Note, selecting 'cuda-nvml-dev-12-4' for glob 'cuda*'\n",
            "Note, selecting 'cuda-nvml-dev-12-5' for glob 'cuda*'\n",
            "Note, selecting 'cuda-nvml-dev-12-6' for glob 'cuda*'\n",
            "Note, selecting 'cuda-nvml-dev-12-8' for glob 'cuda*'\n",
            "Note, selecting 'cuda-nvml-dev-12-9' for glob 'cuda*'\n",
            "Note, selecting 'cuda-keyring' for glob 'cuda*'\n",
            "Note, selecting 'cuda-nvml-dev-13-0' for glob 'cuda*'\n",
            "Package 'cuda-license-10-1' is not installed, so not removed\n",
            "Package 'cuda-license-10-2' is not installed, so not removed\n",
            "Note, selecting 'cuda-cccl-11-7' instead of 'cuda-cub-11-7'\n",
            "Note, selecting 'cuda-cccl-11-7' instead of 'cuda-thrust-11-7'\n",
            "Package 'cuda-cudart-11-2' is not installed, so not removed\n",
            "Package 'cuda-drivers-diagnostic' is not installed, so not removed\n",
            "Package 'cuda-drivers-grid' is not installed, so not removed\n",
            "Note, selecting 'cuda-cccl-11-8' instead of 'cuda-cub-11-8'\n",
            "Note, selecting 'cuda-cccl-11-8' instead of 'cuda-thrust-11-8'\n",
            "Package 'cuda-cudart-dev-11-1' is not installed, so not removed\n",
            "Package 'cuda-cudart-dev-11-0' is not installed, so not removed\n",
            "Package 'cuda-cudart-cross-amd64-11-8' is not installed, so not removed\n",
            "Package 'cuda-nvcc-11-1' is not installed, so not removed\n",
            "Package 'cuda-nvcc-11-2' is not installed, so not removed\n",
            "Package 'cuda-nvcc-11-3' is not installed, so not removed\n",
            "Package 'cuda-nvcc-11-4' is not installed, so not removed\n",
            "Package 'cuda-nvcc-11-5' is not installed, so not removed\n",
            "Package 'cuda-nvcc-11-6' is not installed, so not removed\n",
            "Package 'cuda-nvcc-11-9' is not installed, so not removed\n",
            "Package 'cuda-nvcc-11-0' is not installed, so not removed\n",
            "Note, selecting 'cuda-cccl-12-0' instead of 'cuda-cub-12-0'\n",
            "Note, selecting 'cuda-cccl-12-0' instead of 'cuda-thrust-12-0'\n",
            "Note, selecting 'cuda-cccl-12-1' instead of 'cuda-cub-12-1'\n",
            "Note, selecting 'cuda-cccl-12-1' instead of 'cuda-thrust-12-1'\n",
            "Package 'cuda-cudart-cross-amd64-12-0' is not installed, so not removed\n",
            "Package 'cuda-cudart-11-1' is not installed, so not removed\n",
            "Package 'cuda-cudart-11-0' is not installed, so not removed\n",
            "Note, selecting 'cuda-cccl-12-2' instead of 'cuda-cub-12-2'\n",
            "Note, selecting 'cuda-cccl-12-2' instead of 'cuda-thrust-12-2'\n",
            "Note, selecting 'cuda-cccl-12-3' instead of 'cuda-cub-12-3'\n",
            "Note, selecting 'cuda-cccl-12-3' instead of 'cuda-thrust-12-3'\n",
            "Note, selecting 'cuda-cccl-12-4' instead of 'cuda-cub-12-4'\n",
            "Note, selecting 'cuda-cccl-12-4' instead of 'cuda-thrust-12-4'\n",
            "Package 'cuda-cudart-cross-amd64-12-4' is not installed, so not removed\n",
            "Package 'cuda-nvcc-12-7' is not installed, so not removed\n",
            "Note, selecting 'cuda-cccl-12-5' instead of 'cuda-cub-12-5'\n",
            "Note, selecting 'cuda-cccl-12-5' instead of 'cuda-thrust-12-5'\n",
            "Package 'cuda-cudart-cross-amd64-12-5' is not installed, so not removed\n",
            "Note, selecting 'cuda-cccl-12-6' instead of 'cuda-cub-12-6'\n",
            "Note, selecting 'cuda-cccl-12-6' instead of 'cuda-thrust-12-6'\n",
            "Package 'cuda-cudart-cross-amd64-12-6' is not installed, so not removed\n",
            "Package 'cuda-nvrtc-12-7' is not installed, so not removed\n",
            "Package 'cuda-cudart-cross-amd64-12-1' is not installed, so not removed\n",
            "Package 'cuda-cudart-cross-amd64-12-2' is not installed, so not removed\n",
            "Package 'cuda-cudart-cross-amd64-12-3' is not installed, so not removed\n",
            "Package 'cuda-cudart-cross-amd64-12-7' is not installed, so not removed\n",
            "Package 'cuda-cudart-cross-amd64-12-8' is not installed, so not removed\n",
            "Package 'cuda-cudart-cross-amd64-12-9' is not installed, so not removed\n",
            "Note, selecting 'cuda-cccl-12-8' instead of 'cuda-cub-12-8'\n",
            "Note, selecting 'cuda-cccl-12-8' instead of 'cuda-thrust-12-8'\n",
            "Package 'cuda-nvrtc-dev-12-7' is not installed, so not removed\n",
            "Note, selecting 'cuda-cccl-12-9' instead of 'cuda-cub-12-9'\n",
            "Note, selecting 'cuda-cccl-12-9' instead of 'cuda-thrust-12-9'\n",
            "Note, selecting 'cuda-nvcc-12-9' instead of 'cuda-nvcc-12'\n",
            "Note, selecting 'cuda-cccl-13-0' instead of 'cuda-cub-13-0'\n",
            "Note, selecting 'cuda-cccl-13-0' instead of 'cuda-thrust-13-0'\n",
            "Note, selecting 'cuda-nvcc-13-0' instead of 'cuda-nvcc-13'\n",
            "Package 'cuda-cudart-cross-amd64-13-1' is not installed, so not removed\n",
            "Package 'cuda-cudart-cross-amd64-13-2' is not installed, so not removed\n",
            "Package 'cuda-cudart-cross-amd64-13-3' is not installed, so not removed\n",
            "Package 'cuda-cudart-cross-amd64-13-4' is not installed, so not removed\n",
            "Package 'cuda-cudart-cross-amd64-13-5' is not installed, so not removed\n",
            "Package 'cuda-cudart-cross-amd64-13-6' is not installed, so not removed\n",
            "Package 'cuda-cudart-cross-amd64-13-7' is not installed, so not removed\n",
            "Package 'cuda-cudart-cross-amd64-13-8' is not installed, so not removed\n",
            "Package 'cuda-cudart-cross-amd64-13-9' is not installed, so not removed\n",
            "Package 'cuda-cudart-cross-amd64-13-0' is not installed, so not removed\n",
            "Package 'cuda-nvcc-13-1' is not installed, so not removed\n",
            "Package 'cuda-nvcc-13-2' is not installed, so not removed\n",
            "Package 'cuda-nvcc-13-3' is not installed, so not removed\n",
            "Package 'cuda-nvcc-13-4' is not installed, so not removed\n",
            "Package 'cuda-nvcc-13-5' is not installed, so not removed\n",
            "Package 'cuda-nvcc-13-6' is not installed, so not removed\n",
            "Package 'cuda-nvcc-13-7' is not installed, so not removed\n",
            "Package 'cuda-nvcc-13-8' is not installed, so not removed\n",
            "Package 'cuda-nvcc-13-9' is not installed, so not removed\n",
            "Package 'cuda-profiler-api-12-7' is not installed, so not removed\n",
            "Package 'cuda-profiler-api-cross-amd64-12-9' is not installed, so not removed\n",
            "Package 'cuda-profiler-api-cross-amd64-12-8' is not installed, so not removed\n",
            "Package 'cuda-profiler-api-cross-amd64-12-7' is not installed, so not removed\n",
            "Package 'cuda-profiler-api-cross-amd64-12-6' is not installed, so not removed\n",
            "Package 'cuda-profiler-api-cross-amd64-12-5' is not installed, so not removed\n",
            "Package 'cuda-profiler-api-cross-amd64-12-4' is not installed, so not removed\n",
            "Package 'cuda-profiler-api-cross-amd64-12-3' is not installed, so not removed\n",
            "Package 'cuda-profiler-api-cross-amd64-12-2' is not installed, so not removed\n",
            "Package 'cuda-profiler-api-cross-amd64-12-1' is not installed, so not removed\n",
            "Package 'cuda-profiler-api-cross-amd64-12-0' is not installed, so not removed\n",
            "Package 'cuda-profiler-api-13-9' is not installed, so not removed\n",
            "Package 'cuda-profiler-api-13-8' is not installed, so not removed\n",
            "Package 'cuda-profiler-api-13-7' is not installed, so not removed\n",
            "Package 'cuda-profiler-api-13-6' is not installed, so not removed\n",
            "Package 'cuda-profiler-api-13-5' is not installed, so not removed\n",
            "Package 'cuda-profiler-api-13-4' is not installed, so not removed\n",
            "Package 'cuda-profiler-api-13-3' is not installed, so not removed\n",
            "Package 'cuda-profiler-api-13-2' is not installed, so not removed\n",
            "Package 'cuda-profiler-api-13-1' is not installed, so not removed\n",
            "Package 'cuda-profiler-api-cross-amd64-13-9' is not installed, so not removed\n",
            "Package 'cuda-profiler-api-cross-amd64-13-8' is not installed, so not removed\n",
            "Package 'cuda-profiler-api-cross-amd64-13-7' is not installed, so not removed\n",
            "Package 'cuda-profiler-api-cross-amd64-13-6' is not installed, so not removed\n",
            "Package 'cuda-profiler-api-cross-amd64-13-5' is not installed, so not removed\n",
            "Package 'cuda-profiler-api-cross-amd64-13-4' is not installed, so not removed\n",
            "Package 'cuda-profiler-api-cross-amd64-13-3' is not installed, so not removed\n",
            "Package 'cuda-profiler-api-cross-amd64-13-2' is not installed, so not removed\n",
            "Package 'cuda-profiler-api-cross-amd64-13-1' is not installed, so not removed\n",
            "Package 'cuda-profiler-api-cross-amd64-13-0' is not installed, so not removed\n",
            "Note, selecting 'libcuda-10.2-1' for glob 'libcuda*'\n",
            "Note, selecting 'libcudart.so.12' for glob 'libcuda*'\n",
            "Note, selecting 'libcudart.so.13' for glob 'libcuda*'\n",
            "Note, selecting 'libcuda1-340' for glob 'libcuda*'\n",
            "Note, selecting 'libcuda1-384' for glob 'libcuda*'\n",
            "Note, selecting 'libcuda-5.0-1' for glob 'libcuda*'\n",
            "Note, selecting 'libcuda-11.0-1' for glob 'libcuda*'\n",
            "Note, selecting 'libcuda-11.1-1' for glob 'libcuda*'\n",
            "Note, selecting 'libcuda-11.2-1' for glob 'libcuda*'\n",
            "Note, selecting 'libcuda-11.3-1' for glob 'libcuda*'\n",
            "Note, selecting 'libcuda-5.5-1' for glob 'libcuda*'\n",
            "Note, selecting 'libcuda.so.1' for glob 'libcuda*'\n",
            "Note, selecting 'libcuda-6.0-1' for glob 'libcuda*'\n",
            "Note, selecting 'libcuda-11.4-1' for glob 'libcuda*'\n",
            "Note, selecting 'libcuda-11.5-1' for glob 'libcuda*'\n",
            "Note, selecting 'libcuda-12.0-1' for glob 'libcuda*'\n",
            "Note, selecting 'libcuda-11.6-1' for glob 'libcuda*'\n",
            "Note, selecting 'libcuda-12.1-1' for glob 'libcuda*'\n",
            "Note, selecting 'libcuda-11.7-1' for glob 'libcuda*'\n",
            "Note, selecting 'libcuda-12.2-1' for glob 'libcuda*'\n",
            "Note, selecting 'libcuda-11.8-1' for glob 'libcuda*'\n",
            "Note, selecting 'libcuda-12.3-1' for glob 'libcuda*'\n",
            "Note, selecting 'libcuda-6.5-1' for glob 'libcuda*'\n",
            "Note, selecting 'libcuda-7.0-1' for glob 'libcuda*'\n",
            "Note, selecting 'libcuda-12.4-1' for glob 'libcuda*'\n",
            "Note, selecting 'libcuda-12.5-1' for glob 'libcuda*'\n",
            "Note, selecting 'libcuda-12.6-1' for glob 'libcuda*'\n",
            "Note, selecting 'libcudart11.0' for glob 'libcuda*'\n",
            "Note, selecting 'libcuda-12.7-1' for glob 'libcuda*'\n",
            "Note, selecting 'libcuda-12.8-1' for glob 'libcuda*'\n",
            "Note, selecting 'libcuda-7.5-1' for glob 'libcuda*'\n",
            "Note, selecting 'libcuda-8.0-1' for glob 'libcuda*'\n",
            "Note, selecting 'libcuda-9.0-1' for glob 'libcuda*'\n",
            "Note, selecting 'libcuda-9.1-1' for glob 'libcuda*'\n",
            "Note, selecting 'libcuda-9.2-1' for glob 'libcuda*'\n",
            "Note, selecting 'libcuda1-any' for glob 'libcuda*'\n",
            "Note, selecting 'libcuda.so.11.0-dev' for glob 'libcuda*'\n",
            "Note, selecting 'libcudart.so.11.0-dev' for glob 'libcuda*'\n",
            "Note, selecting 'libcuda.so.12-dev' for glob 'libcuda*'\n",
            "Note, selecting 'libcuda.so.13-dev' for glob 'libcuda*'\n",
            "Note, selecting 'libcudart.so.11.0' for glob 'libcuda*'\n",
            "Note, selecting 'libcudart.so.12-dev' for glob 'libcuda*'\n",
            "Note, selecting 'libcudart.so.13-dev' for glob 'libcuda*'\n",
            "Note, selecting 'libcuda1' for glob 'libcuda*'\n",
            "Note, selecting 'libcuda-10.0-1' for glob 'libcuda*'\n",
            "Note, selecting 'libcuda-10.1-1' for glob 'libcuda*'\n",
            "Package 'libcuda1-any' is not installed, so not removed\n",
            "Note, selecting 'cuda-cudart-13-0' instead of 'libcudart.so.13'\n",
            "Note, selecting 'cuda-cudart-dev-13-0' instead of 'libcudart.so.13-dev'\n",
            "Note, selecting 'cuda-driver-dev-13-0' instead of 'libcuda.so.13-dev'\n",
            "Note, selecting 'nvidia-dkms-580-server' for glob 'nvidia*'\n",
            "Note, selecting 'nvidia-driver-550-server' for glob 'nvidia*'\n",
            "Note, selecting 'nvidia-firmware-550-server-550.144.03' for glob 'nvidia*'\n",
            "Note, selecting 'nvidia-kernel-source-575-open' for glob 'nvidia*'\n",
            "Note, selecting 'nvidia-firmware-535-535.154.05' for glob 'nvidia*'\n",
            "Note, selecting 'nvidia-docker2' for glob 'nvidia*'\n",
            "Note, selecting 'nvidia-firmware-560-server-560.28.03' for glob 'nvidia*'\n",
            "Note, selecting 'nvidia-driver-570-server' for glob 'nvidia*'\n",
            "Note, selecting 'nvidia-cuda-toolkit-doc' for glob 'nvidia*'\n",
            "Note, selecting 'nvidia-imex' for glob 'nvidia*'\n",
            "Note, selecting 'nvidia-dkms-450-server' for glob 'nvidia*'\n",
            "Note, selecting 'nvidia-firmware-535-server-535.154.05' for glob 'nvidia*'\n",
            "Note, selecting 'nvidia-headless-390' for glob 'nvidia*'\n",
            "Note, selecting 'nvidia-cuda-toolkit-gcc' for glob 'nvidia*'\n",
            "Note, selecting 'nvidia-headless-418' for glob 'nvidia*'\n",
            "Note, selecting 'nvidia-headless-430' for glob 'nvidia*'\n",
            "Note, selecting 'nvidia-headless-435' for glob 'nvidia*'\n",
            "Note, selecting 'nvidia-headless-440' for glob 'nvidia*'\n",
            "Note, selecting 'nvidia-headless-450' for glob 'nvidia*'\n",
            "Note, selecting 'nvidia-headless-455' for glob 'nvidia*'\n",
            "Note, selecting 'nvidia-firmware-560-560.35.03' for glob 'nvidia*'\n",
            "Note, selecting 'nvidia-firmware-560-560.35.05' for glob 'nvidia*'\n",
            "Note, selecting 'nvidia-headless-460' for glob 'nvidia*'\n",
            "Note, selecting 'nvidia-headless-465' for glob 'nvidia*'\n",
            "Note, selecting 'nvidia-headless-470' for glob 'nvidia*'\n",
            "Note, selecting 'nvidia-dkms-470-server' for glob 'nvidia*'\n",
            "Note, selecting 'nvidia-headless-495' for glob 'nvidia*'\n",
            "Note, selecting 'nvidia-headless-510' for glob 'nvidia*'\n",
            "Note, selecting 'nvidia-headless-515' for glob 'nvidia*'\n",
            "Note, selecting 'nvidia-compute-utils-515-server' for glob 'nvidia*'\n",
            "Note, selecting 'nvidia-headless-520' for glob 'nvidia*'\n",
            "Note, selecting 'nvidia-headless-525' for glob 'nvidia*'\n",
            "Note, selecting 'nvidia-headless-530' for glob 'nvidia*'\n",
            "Note, selecting 'nvidia-headless-535' for glob 'nvidia*'\n",
            "Note, selecting 'nvidia-headless-545' for glob 'nvidia*'\n",
            "Note, selecting 'nvidia-headless-550' for glob 'nvidia*'\n",
            "Note, selecting 'nvidia-headless-555' for glob 'nvidia*'\n",
            "Note, selecting 'nvidia-headless-560' for glob 'nvidia*'\n",
            "Note, selecting 'nvidia-headless-565' for glob 'nvidia*'\n",
            "Note, selecting 'nvidia-headless-570' for glob 'nvidia*'\n",
            "Note, selecting 'nvidia-headless-575' for glob 'nvidia*'\n",
            "Note, selecting 'nvidia-headless-580' for glob 'nvidia*'\n",
            "Note, selecting 'nvidia-driver-440-server' for glob 'nvidia*'\n",
            "Note, selecting 'nvidia-driver-555-open' for glob 'nvidia*'\n",
            "Note, selecting 'nvidia-fabricmanager-dev' for glob 'nvidia*'\n",
            "Note, selecting 'nvidia-compute-utils-535-server' for glob 'nvidia*'\n",
            "Note, selecting 'nvidia-325-updates' for glob 'nvidia*'\n",
            "Note, selecting 'nvidia-driver-460-server' for glob 'nvidia*'\n",
            "Note, selecting 'nvidia-primus-vk-common' for glob 'nvidia*'\n",
            "Note, selecting 'nvidia-opencl-dev' for glob 'nvidia*'\n",
            "Note, selecting 'nvidia-kernel-open-515' for glob 'nvidia*'\n",
            "Note, selecting 'nvidia-kernel-open-520' for glob 'nvidia*'\n",
            "Note, selecting 'nvidia-kernel-open-525' for glob 'nvidia*'\n",
            "Note, selecting 'nvidia-kernel-open-530' for glob 'nvidia*'\n",
            "Note, selecting 'nvidia-kernel-open-535' for glob 'nvidia*'\n",
            "Note, selecting 'nvidia-kernel-open-545' for glob 'nvidia*'\n",
            "Note, selecting 'nvidia-kernel-open-550' for glob 'nvidia*'\n",
            "Note, selecting 'nvidia-kernel-open-555' for glob 'nvidia*'\n",
            "Note, selecting 'nvidia-kernel-open-560' for glob 'nvidia*'\n",
            "Note, selecting 'nvidia-kernel-open-565' for glob 'nvidia*'\n",
            "Note, selecting 'nvidia-kernel-open-570' for glob 'nvidia*'\n",
            "Note, selecting 'nvidia-kernel-open-575' for glob 'nvidia*'\n",
            "Note, selecting 'nvidia-headless-no-dkms-565-server' for glob 'nvidia*'\n",
            "Note, selecting 'nvidia-kernel-common-418-server' for glob 'nvidia*'\n",
            "Note, selecting 'nvidia-cg-toolkit' for glob 'nvidia*'\n",
            "Note, selecting 'nvidia-kernel-common-525-server' for glob 'nvidia*'\n",
            "Note, selecting 'nvidia-headless-580-server' for glob 'nvidia*'\n",
            "Note, selecting 'nvidia-dkms-510-server' for glob 'nvidia*'\n",
            "Note, selecting 'nvidia-libopencl1-dev' for glob 'nvidia*'\n",
            "Note, selecting 'nvidia-texture-tools' for glob 'nvidia*'\n",
            "Note, selecting 'nvidia-driver-525-open' for glob 'nvidia*'\n",
            "Note, selecting 'nvidia-opencl-icd' for glob 'nvidia*'\n",
            "Note, selecting 'nvidia-kernel-common-565-server' for glob 'nvidia*'\n",
            "Note, selecting 'nvidia-driver-580-server-open' for glob 'nvidia*'\n",
            "Note, selecting 'nvidia-headless-no-dkms-575-open' for glob 'nvidia*'\n",
            "Note, selecting 'nvidia-headless-450-server' for glob 'nvidia*'\n",
            "Note, selecting 'nvidia-compute-utils-390' for glob 'nvidia*'\n",
            "Note, selecting 'nvidia-utils' for glob 'nvidia*'\n",
            "Note, selecting 'nvidia-compute-utils-418' for glob 'nvidia*'\n",
            "Note, selecting 'nvidia-compute-utils-430' for glob 'nvidia*'\n",
            "Note, selecting 'nvidia-compute-utils-435' for glob 'nvidia*'\n",
            "Note, selecting 'nvidia-compute-utils-440' for glob 'nvidia*'\n",
            "Note, selecting 'nvidia-compute-utils-450' for glob 'nvidia*'\n",
            "Note, selecting 'nvidia-compute-utils-455' for glob 'nvidia*'\n",
            "Note, selecting 'nvidia-compute-utils-460' for glob 'nvidia*'\n",
            "Note, selecting 'nvidia-compute-utils-465' for glob 'nvidia*'\n",
            "Note, selecting 'nvidia-compute-utils-470' for glob 'nvidia*'\n",
            "Note, selecting 'nvidia-compute-utils-495' for glob 'nvidia*'\n",
            "Note, selecting 'nvidia-dkms-390' for glob 'nvidia*'\n",
            "Note, selecting 'nvidia-headless-470-server' for glob 'nvidia*'\n",
            "Note, selecting 'nvidia-compute-utils-510' for glob 'nvidia*'\n",
            "Note, selecting 'nvidia-compute-utils-515' for glob 'nvidia*'\n",
            "Note, selecting 'nvidia-compute-utils-520' for glob 'nvidia*'\n",
            "Note, selecting 'nvidia-compute-utils-525' for glob 'nvidia*'\n",
            "Note, selecting 'nvidia-compute-utils-530' for glob 'nvidia*'\n",
            "Note, selecting 'nvidia-compute-utils-535' for glob 'nvidia*'\n",
            "Note, selecting 'nvidia-compute-utils-545' for glob 'nvidia*'\n",
            "Note, selecting 'nvidia-compute-utils-550' for glob 'nvidia*'\n",
            "Note, selecting 'nvidia-compute-utils-555' for glob 'nvidia*'\n",
            "Note, selecting 'nvidia-compute-utils-560' for glob 'nvidia*'\n",
            "Note, selecting 'nvidia-compute-utils-565' for glob 'nvidia*'\n",
            "Note, selecting 'nvidia-compute-utils-570' for glob 'nvidia*'\n",
            "Note, selecting 'nvidia-compute-utils-575' for glob 'nvidia*'\n",
            "Note, selecting 'nvidia-compute-utils-580' for glob 'nvidia*'\n",
            "Note, selecting 'nvidia-dkms-550-open' for glob 'nvidia*'\n",
            "Note, selecting 'nvidia-dkms-418' for glob 'nvidia*'\n",
            "Note, selecting 'nvidia-dkms-430' for glob 'nvidia*'\n",
            "Note, selecting 'nvidia-dkms-435' for glob 'nvidia*'\n",
            "Note, selecting 'nvidia-dkms-440' for glob 'nvidia*'\n",
            "Note, selecting 'nvidia-dkms-450' for glob 'nvidia*'\n",
            "Note, selecting 'nvidia-dkms-455' for glob 'nvidia*'\n",
            "Note, selecting 'nvidia-dkms-460' for glob 'nvidia*'\n",
            "Note, selecting 'nvidia-dkms-465' for glob 'nvidia*'\n",
            "Note, selecting 'nvidia-dkms-470' for glob 'nvidia*'\n",
            "Note, selecting 'nvidia-dkms-495' for glob 'nvidia*'\n",
            "Note, selecting 'nvidia-381-updates' for glob 'nvidia*'\n",
            "Note, selecting 'nvidia-dkms-510' for glob 'nvidia*'\n",
            "Note, selecting 'nvidia-dkms-515' for glob 'nvidia*'\n",
            "Note, selecting 'nvidia-dkms-520' for glob 'nvidia*'\n",
            "Note, selecting 'nvidia-dkms-525' for glob 'nvidia*'\n",
            "Note, selecting 'nvidia-dkms-530' for glob 'nvidia*'\n",
            "Note, selecting 'nvidia-dkms-535' for glob 'nvidia*'\n",
            "Note, selecting 'nvidia-fs' for glob 'nvidia*'\n",
            "Note, selecting 'nvidia-dkms-545' for glob 'nvidia*'\n",
            "Note, selecting 'nvidia-dkms-550' for glob 'nvidia*'\n",
            "Note, selecting 'nvidia-dkms-555' for glob 'nvidia*'\n",
            "Note, selecting 'nvidia-dkms-560' for glob 'nvidia*'\n",
            "Note, selecting 'nvidia-dkms-565' for glob 'nvidia*'\n",
            "Note, selecting 'nvidia-dkms-570' for glob 'nvidia*'\n",
            "Note, selecting 'nvidia-dkms-575' for glob 'nvidia*'\n",
            "Note, selecting 'nvidia-container-runtime' for glob 'nvidia*'\n",
            "Note, selecting 'nvidia-dkms-580' for glob 'nvidia*'\n",
            "Note, selecting 'nvidia-driver-390' for glob 'nvidia*'\n",
            "Note, selecting 'nvidia-driver-410' for glob 'nvidia*'\n",
            "Note, selecting 'nvidia-driver-418' for glob 'nvidia*'\n",
            "Note, selecting 'nvidia-driver-430' for glob 'nvidia*'\n",
            "Note, selecting 'nvidia-driver-435' for glob 'nvidia*'\n",
            "Note, selecting 'nvidia-driver-440' for glob 'nvidia*'\n",
            "Note, selecting 'nvidia-driver-450' for glob 'nvidia*'\n",
            "Note, selecting 'nvidia-driver-455' for glob 'nvidia*'\n",
            "Note, selecting 'nvidia-driver-460' for glob 'nvidia*'\n",
            "Note, selecting 'nvidia-driver-465' for glob 'nvidia*'\n",
            "Note, selecting 'nvidia-driver-470' for glob 'nvidia*'\n",
            "Note, selecting 'nvidia-driver-495' for glob 'nvidia*'\n",
            "Note, selecting 'nvidia-firmware-565-server-565.57.01' for glob 'nvidia*'\n",
            "Note, selecting 'nvidia-headless-550-server-open' for glob 'nvidia*'\n",
            "Note, selecting 'nvidia-driver-510' for glob 'nvidia*'\n",
            "Note, selecting 'nvidia-driver-515' for glob 'nvidia*'\n",
            "Note, selecting 'nvidia-driver-520' for glob 'nvidia*'\n",
            "Note, selecting 'nvidia-driver-525' for glob 'nvidia*'\n",
            "Note, selecting 'nvidia-driver-530' for glob 'nvidia*'\n",
            "Note, selecting 'nvidia-driver-535' for glob 'nvidia*'\n",
            "Note, selecting 'nvidia-driver-545' for glob 'nvidia*'\n",
            "Note, selecting 'nvidia-driver-550' for glob 'nvidia*'\n",
            "Note, selecting 'nvidia-driver-555' for glob 'nvidia*'\n",
            "Note, selecting 'nvidia-driver-560' for glob 'nvidia*'\n",
            "Note, selecting 'nvidia-driver-565' for glob 'nvidia*'\n",
            "Note, selecting 'nvidia-driver-570' for glob 'nvidia*'\n",
            "Note, selecting 'nvidia-driver-575' for glob 'nvidia*'\n",
            "Note, selecting 'nvidia-driver-580' for glob 'nvidia*'\n",
            "Note, selecting 'nvidia-dkms-440-server' for glob 'nvidia*'\n",
            "Note, selecting 'nvidia-firmware-570-server-570.169' for glob 'nvidia*'\n",
            "Note, selecting 'nvidia-firmware-570-server-570.181' for glob 'nvidia*'\n",
            "Note, selecting 'nvidia-firmware-580-server-580.82.09' for glob 'nvidia*'\n",
            "Note, selecting 'nvidia-open' for glob 'nvidia*'\n",
            "Note, selecting 'nvidia-headless-no-dkms-545-open' for glob 'nvidia*'\n",
            "Note, selecting 'nvidia-headless-560-open' for glob 'nvidia*'\n",
            "Note, selecting 'nvidia-dkms-460-server' for glob 'nvidia*'\n",
            "Note, selecting 'nvidia-headless-510-server' for glob 'nvidia*'\n",
            "Note, selecting 'nvidia-387-updates' for glob 'nvidia*'\n",
            "Note, selecting 'nvidia-driver-570-server-open' for glob 'nvidia*'\n",
            "Note, selecting 'nvidia-firmware-550-server-550.90.07' for glob 'nvidia*'\n",
            "Note, selecting 'nvidia-firmware-550-server-550.90.12' for glob 'nvidia*'\n",
            "Note, selecting 'nvidia-headless-no-dkms-515-server' for glob 'nvidia*'\n",
            "Note, selecting 'nvidia-dkms-520-open' for glob 'nvidia*'\n",
            "Note, selecting 'nvidia-utils-535-server' for glob 'nvidia*'\n",
            "Note, selecting 'nvidia-kernel-source-580-server' for glob 'nvidia*'\n",
            "Note, selecting 'nvidia-driver-450-server' for glob 'nvidia*'\n",
            "Note, selecting 'nvidia-headless-no-dkms-535-server' for glob 'nvidia*'\n",
            "Note, selecting 'nvidia-dkms-580-server-open' for glob 'nvidia*'\n",
            "Note, selecting 'nvidia-driver-470-server' for glob 'nvidia*'\n",
            "Note, selecting 'nvidia-primus-vk-wrapper' for glob 'nvidia*'\n",
            "Note, selecting 'nvidia-utils-575-server' for glob 'nvidia*'\n",
            "Note, selecting 'nvidia-kernel-common-515-server' for glob 'nvidia*'\n",
            "Note, selecting 'nvidia-kernel-source-535-server-open' for glob 'nvidia*'\n",
            "Note, selecting 'nvidia-headless-575-open' for glob 'nvidia*'\n",
            "Note, selecting 'nvidia-docker' for glob 'nvidia*'\n",
            "Note, selecting 'nvidia-headless-no-dkms-575-server' for glob 'nvidia*'\n",
            "Note, selecting 'nvidia-driver-570-open' for glob 'nvidia*'\n",
            "Note, selecting 'nvidia-kernel-source-575-server-open' for glob 'nvidia*'\n",
            "Note, selecting 'nvidia-kernel-common-535-server' for glob 'nvidia*'\n",
            "Note, selecting 'nvidia-headless-580-server-open' for glob 'nvidia*'\n",
            "Note, selecting 'nvidia-kernel-source-560-open' for glob 'nvidia*'\n",
            "Note, selecting 'nvidia-378-updates' for glob 'nvidia*'\n",
            "Note, selecting 'nvidia-313-updates' for glob 'nvidia*'\n",
            "Note, selecting 'nvidia-driver-560-server-open' for glob 'nvidia*'\n",
            "Note, selecting 'nvidia-headless-440-server' for glob 'nvidia*'\n",
            "Note, selecting 'nvidia-firmware-570-server-570.172.08' for glob 'nvidia*'\n",
            "Note, selecting 'nvidia-open-560' for glob 'nvidia*'\n",
            "Note, selecting 'nvidia-open-565' for glob 'nvidia*'\n",
            "Note, selecting 'nvidia-open-570' for glob 'nvidia*'\n",
            "Note, selecting 'nvidia-open-575' for glob 'nvidia*'\n",
            "Note, selecting 'nvidia-open-580' for glob 'nvidia*'\n",
            "Note, selecting 'nvidia-headless-460-server' for glob 'nvidia*'\n",
            "Note, selecting 'nvidia-firmware-565-565.77' for glob 'nvidia*'\n",
            "Note, selecting 'nvidia-dkms-570-server-open' for glob 'nvidia*'\n",
            "Note, selecting 'nvidia-utils-390' for glob 'nvidia*'\n",
            "Note, selecting 'nvidia-firmware-575-575.51.03' for glob 'nvidia*'\n",
            "Note, selecting 'nvidia-headless-545-open' for glob 'nvidia*'\n",
            "Note, selecting 'nvidia-utils-418' for glob 'nvidia*'\n",
            "Note, selecting 'nvidia-headless' for glob 'nvidia*'\n",
            "Note, selecting 'nvidia-utils-430' for glob 'nvidia*'\n",
            "Note, selecting 'nvidia-utils-435' for glob 'nvidia*'\n",
            "Note, selecting 'nvidia-utils-440' for glob 'nvidia*'\n",
            "Note, selecting 'nvidia-utils-450' for glob 'nvidia*'\n",
            "Note, selecting 'nvidia-utils-455' for glob 'nvidia*'\n",
            "Note, selecting 'nvidia-utils-460' for glob 'nvidia*'\n",
            "Note, selecting 'nvidia-utils-465' for glob 'nvidia*'\n",
            "Note, selecting 'nvidia-utils-470' for glob 'nvidia*'\n",
            "Note, selecting 'nvidia-utils-495' for glob 'nvidia*'\n",
            "Note, selecting 'nvidia-utils-510' for glob 'nvidia*'\n",
            "Note, selecting 'nvidia-utils-515' for glob 'nvidia*'\n",
            "Note, selecting 'nvidia-utils-520' for glob 'nvidia*'\n",
            "Note, selecting 'nvidia-utils-525' for glob 'nvidia*'\n",
            "Note, selecting 'nvidia-utils-530' for glob 'nvidia*'\n",
            "Note, selecting 'nvidia-utils-535' for glob 'nvidia*'\n",
            "Note, selecting 'nvidia-utils-545' for glob 'nvidia*'\n",
            "Note, selecting 'nvidia-utils-550' for glob 'nvidia*'\n",
            "Note, selecting 'nvidia-utils-555' for glob 'nvidia*'\n",
            "Note, selecting 'nvidia-utils-560' for glob 'nvidia*'\n",
            "Note, selecting 'nvidia-utils-565' for glob 'nvidia*'\n",
            "Note, selecting 'nvidia-utils-570' for glob 'nvidia*'\n",
            "Note, selecting 'nvidia-utils-575' for glob 'nvidia*'\n",
            "Note, selecting 'nvidia-319-updates' for glob 'nvidia*'\n",
            "Note, selecting 'nvidia-utils-580' for glob 'nvidia*'\n",
            "Note, selecting 'nvidia-kernel-source-510-server' for glob 'nvidia*'\n",
            "Note, selecting 'nvidia-kernel-source-530-open' for glob 'nvidia*'\n",
            "Note, selecting 'nvidia-firmware-575-server-575.64.03' for glob 'nvidia*'\n",
            "Note, selecting 'nvidia-firmware-570-server-570.158.01' for glob 'nvidia*'\n",
            "Note, selecting 'nvidia-kernel-source-565-server-open' for glob 'nvidia*'\n",
            "Note, selecting 'nvidia-egl-wayland-common' for glob 'nvidia*'\n",
            "Note, selecting 'nvidia-384-updates' for glob 'nvidia*'\n",
            "Note, selecting 'nvidia-headless-570-server-open' for glob 'nvidia*'\n",
            "Note, selecting 'nvidia-304-updates' for glob 'nvidia*'\n",
            "Note, selecting 'nvidia-firmware-570-570.195.03' for glob 'nvidia*'\n",
            "Note, selecting 'nvidia-kernel-source-550-server' for glob 'nvidia*'\n",
            "Note, selecting 'nvidia-driver-550-server-open' for glob 'nvidia*'\n",
            "Note, selecting 'nvidia-utils-418-server' for glob 'nvidia*'\n",
            "Note, selecting 'nvidia-utils-525-server' for glob 'nvidia*'\n",
            "Note, selecting 'nvidia-firmware-570-server-570.133.07' for glob 'nvidia*'\n",
            "Note, selecting 'nvidia-firmware-570-server-570.133.20' for glob 'nvidia*'\n",
            "Note, selecting 'nvidia-headless-515-open' for glob 'nvidia*'\n",
            "Note, selecting 'nvidia-kernel-source-570-server' for glob 'nvidia*'\n",
            "Note, selecting 'nvidia-firmware-535-535.230.02' for glob 'nvidia*'\n",
            "Note, selecting 'nvidia-headless-no-dkms-418-server' for glob 'nvidia*'\n",
            "Note, selecting 'nvidia-headless-no-dkms-525-server' for glob 'nvidia*'\n",
            "Note, selecting 'nvidia-dkms-570-open' for glob 'nvidia*'\n",
            "Note, selecting 'nvidia-kernel-source-545-open' for glob 'nvidia*'\n",
            "Note, selecting 'nvidia-headless-no-dkms-560-open' for glob 'nvidia*'\n",
            "Note, selecting 'nvidia-xconfig' for glob 'nvidia*'\n",
            "Note, selecting 'nvidia-utils-565-server' for glob 'nvidia*'\n",
            "Note, selecting 'nvidia-firmware-535-server-535.230.02' for glob 'nvidia*'\n",
            "Note, selecting 'nvidia-kernel-source-440-server' for glob 'nvidia*'\n",
            "Note, selecting 'nvidia-375-updates' for glob 'nvidia*'\n",
            "Note, selecting 'nvidia-310-updates' for glob 'nvidia*'\n",
            "Note, selecting 'nvidia-driver-assistant' for glob 'nvidia*'\n",
            "Note, selecting 'nvidia-firmware-535-535.216.01' for glob 'nvidia*'\n",
            "Note, selecting 'nvidia-firmware-535-535.216.03' for glob 'nvidia*'\n",
            "Note, selecting 'nvidia-kernel-source-460-server' for glob 'nvidia*'\n",
            "Note, selecting 'nvidia-kernel-source-515-open' for glob 'nvidia*'\n",
            "Note, selecting 'nvidia-firmware-575-575.57.08' for glob 'nvidia*'\n",
            "Note, selecting 'nvidia-firmware-535-server-535.216.01' for glob 'nvidia*'\n",
            "Note, selecting 'nvidia-firmware-535-server-535.216.03' for glob 'nvidia*'\n",
            "Note, selecting 'nvidia-firmware-580-580.82.09' for glob 'nvidia*'\n",
            "Note, selecting 'nvidia-headless-no-dkms-535-server-open' for glob 'nvidia*'\n",
            "Note, selecting 'nvidia-headless-no-dkms-530-open' for glob 'nvidia*'\n",
            "Note, selecting 'nvidia-dkms-550-server-open' for glob 'nvidia*'\n",
            "Note, selecting 'nvidia-364-updates' for glob 'nvidia*'\n",
            "Note, selecting 'nvidia-headless-no-dkms-575-server-open' for glob 'nvidia*'\n",
            "Note, selecting 'nvidia-hpc-benchmarks-mpich' for glob 'nvidia*'\n",
            "Note, selecting 'nvidia-firmware-535-535.146.02' for glob 'nvidia*'\n",
            "Note, selecting 'nvidia-firmware-575-server' for glob 'nvidia*'\n",
            "Note, selecting 'nvidia-dkms-555-open' for glob 'nvidia*'\n",
            "Note, selecting 'nvidia-gds-11-7' for glob 'nvidia*'\n",
            "Note, selecting 'nvidia-gds-11-8' for glob 'nvidia*'\n",
            "Note, selecting 'nvidia-gds-12-0' for glob 'nvidia*'\n",
            "Note, selecting 'nvidia-gds-12-1' for glob 'nvidia*'\n",
            "Note, selecting 'nvidia-gds-12-2' for glob 'nvidia*'\n",
            "Note, selecting 'nvidia-gds-12-3' for glob 'nvidia*'\n",
            "Note, selecting 'nvidia-gds-12-4' for glob 'nvidia*'\n",
            "Note, selecting 'nvidia-gds-12-5' for glob 'nvidia*'\n",
            "Note, selecting 'nvidia-gds-12-6' for glob 'nvidia*'\n",
            "Note, selecting 'nvidia-gds-12-8' for glob 'nvidia*'\n",
            "Note, selecting 'nvidia-gds-12-9' for glob 'nvidia*'\n",
            "Note, selecting 'nvidia-firmware-535-server-535.146.02' for glob 'nvidia*'\n",
            "Note, selecting 'nvidia-gds-13-0' for glob 'nvidia*'\n",
            "Note, selecting 'nvidia-utils-515-server' for glob 'nvidia*'\n",
            "Note, selecting 'nvidia-dkms-565-server' for glob 'nvidia*'\n",
            "Note, selecting 'nvidia-compute-utils-580-server' for glob 'nvidia*'\n",
            "Note, selecting 'nvidia-firmware-545-server-545.29.06' for glob 'nvidia*'\n",
            "Note, selecting 'nvidia-headless-565-open' for glob 'nvidia*'\n",
            "Note, selecting 'nvidia-headless-no-dkms-565-server-open' for glob 'nvidia*'\n",
            "Note, selecting 'nvidia-firmware-550-server-550.67' for glob 'nvidia*'\n",
            "Note, selecting 'nvidia-driver-560-open' for glob 'nvidia*'\n",
            "Note, selecting 'nvidia-driver-555-server' for glob 'nvidia*'\n",
            "Note, selecting 'nvidia-dkms-525-open' for glob 'nvidia*'\n",
            "Note, selecting 'nvidia-driver-575-server' for glob 'nvidia*'\n",
            "Note, selecting 'nvidia-headless-no-dkms-515-open' for glob 'nvidia*'\n",
            "Note, selecting 'nvidia-headless-530-open' for glob 'nvidia*'\n",
            "Note, selecting 'nvidia-kernel-source-450-server' for glob 'nvidia*'\n",
            "Note, selecting 'nvidia-legacy-390xx-opencl-icd' for glob 'nvidia*'\n",
            "Note, selecting 'nvidia-firmware-570-server-570.124.06' for glob 'nvidia*'\n",
            "Note, selecting 'nvidia-firmware-550-550.107.02' for glob 'nvidia*'\n",
            "Note, selecting 'nvidia-kernel-source-470-server' for glob 'nvidia*'\n",
            "Note, selecting 'nvidia-profiler' for glob 'nvidia*'\n",
            "Note, selecting 'nvidia-361-updates' for glob 'nvidia*'\n",
            "Note, selecting 'nvidia-driver-575-open' for glob 'nvidia*'\n",
            "Note, selecting 'nvidia-firmware-535-535.54.03' for glob 'nvidia*'\n",
            "Note, selecting 'nvidia-firmware-550-server-550.107.02' for glob 'nvidia*'\n",
            "Note, selecting 'nvidia-kernel-source-565-open' for glob 'nvidia*'\n",
            "Note, selecting 'nvidia-current-updates' for glob 'nvidia*'\n",
            "Note, selecting 'nvidia-compute-utils-510-server' for glob 'nvidia*'\n",
            "Note, selecting 'nvidia-visual-profiler' for glob 'nvidia*'\n",
            "Note, selecting 'nvidia-dkms-515-server' for glob 'nvidia*'\n",
            "Note, selecting 'nvidia-367-updates' for glob 'nvidia*'\n",
            "Note, selecting 'nvidia-dkms-535-server' for glob 'nvidia*'\n",
            "Note, selecting 'nvidia-compute-utils-550-server' for glob 'nvidia*'\n",
            "Note, selecting 'nvidia-firmware-570-server-570.86.10' for glob 'nvidia*'\n",
            "Note, selecting 'nvidia-firmware-570-server-570.86.15' for glob 'nvidia*'\n",
            "Note, selecting 'nvidia-kernel-common-390' for glob 'nvidia*'\n",
            "Note, selecting 'nvidia-kernel-common-396' for glob 'nvidia*'\n",
            "Note, selecting 'nvidia-driver-545-open' for glob 'nvidia*'\n",
            "Note, selecting 'nvidia-kernel-common-418' for glob 'nvidia*'\n",
            "Note, selecting 'nvidia-kernel-common-430' for glob 'nvidia*'\n",
            "Note, selecting 'nvidia-kernel-common-435' for glob 'nvidia*'\n",
            "Note, selecting 'nvidia-kernel-common-440' for glob 'nvidia*'\n",
            "Note, selecting 'nvidia-kernel-common-450' for glob 'nvidia*'\n",
            "Note, selecting 'nvidia-kernel-common-455' for glob 'nvidia*'\n",
            "Note, selecting 'nvidia-kernel-common-460' for glob 'nvidia*'\n",
            "Note, selecting 'nvidia-kernel-common-465' for glob 'nvidia*'\n",
            "Note, selecting 'nvidia-kernel-common-470' for glob 'nvidia*'\n",
            "Note, selecting 'nvidia-kernel-common-495' for glob 'nvidia*'\n",
            "Note, selecting 'nvidia-kernel-source-535-open' for glob 'nvidia*'\n",
            "Note, selecting 'nvidia-legacy-390xx-smi' for glob 'nvidia*'\n",
            "Note, selecting 'nvidia-prebuilt-kernel' for glob 'nvidia*'\n",
            "Note, selecting 'nvidia-compute-utils-570-server' for glob 'nvidia*'\n",
            "Note, selecting 'nvidia-kernel-common-510' for glob 'nvidia*'\n",
            "Note, selecting 'nvidia-kernel-common-515' for glob 'nvidia*'\n",
            "Note, selecting 'nvidia-kernel-common-520' for glob 'nvidia*'\n",
            "Note, selecting 'nvidia-kernel-common-525' for glob 'nvidia*'\n",
            "Note, selecting 'nvidia-kernel-common-530' for glob 'nvidia*'\n",
            "Note, selecting 'nvidia-kernel-common-535' for glob 'nvidia*'\n",
            "Note, selecting 'nvidia-kernel-common-545' for glob 'nvidia*'\n",
            "Note, selecting 'nvidia-kernel-common-550' for glob 'nvidia*'\n",
            "Note, selecting 'nvidia-kernel-common-555' for glob 'nvidia*'\n",
            "Note, selecting 'nvidia-kernel-common-560' for glob 'nvidia*'\n",
            "Note, selecting 'nvidia-kernel-common-565' for glob 'nvidia*'\n",
            "Note, selecting 'nvidia-kernel-common-570' for glob 'nvidia*'\n",
            "Note, selecting 'nvidia-kernel-common-575' for glob 'nvidia*'\n",
            "Note, selecting 'nvidia-kernel-common-580' for glob 'nvidia*'\n",
            "Note, selecting 'nvidia-driver-418-server' for glob 'nvidia*'\n",
            "Note, selecting 'nvidia-current' for glob 'nvidia*'\n",
            "Note, selecting 'nvidia-compute-utils' for glob 'nvidia*'\n",
            "Note, selecting 'nvidia-firmware-550-550.127.05' for glob 'nvidia*'\n",
            "Note, selecting 'nvidia-firmware-550-550.127.08' for glob 'nvidia*'\n",
            "Note, selecting 'nvidia-driver-525-server' for glob 'nvidia*'\n",
            "Note, selecting 'nvidia-fs-modules' for glob 'nvidia*'\n",
            "Note, selecting 'nvidia-dkms-575-server' for glob 'nvidia*'\n",
            "Note, selecting 'nvidia-kernel-source-580-server-open' for glob 'nvidia*'\n",
            "Note, selecting 'nvidia-egl-gbm1' for glob 'nvidia*'\n",
            "Note, selecting 'nvidia-firmware-550-server-550.127.05' for glob 'nvidia*'\n",
            "Note, selecting 'nvidia-firmware-550-server-550.127.08' for glob 'nvidia*'\n",
            "Note, selecting 'nvidia-firmware-535-535.161.07' for glob 'nvidia*'\n",
            "Note, selecting 'nvidia-firmware-535-535.161.08' for glob 'nvidia*'\n",
            "Note, selecting 'nvidia-firmware-560-server-560.35.03' for glob 'nvidia*'\n",
            "Note, selecting 'nvidia-firmware-560-server-560.35.05' for glob 'nvidia*'\n",
            "Note, selecting 'nvidia-kernel-common' for glob 'nvidia*'\n",
            "Note, selecting 'nvidia-compute-utils-440-server' for glob 'nvidia*'\n",
            "Note, selecting 'nvidia-358-updates' for glob 'nvidia*'\n",
            "Note, selecting 'nvidia-driver-565-server' for glob 'nvidia*'\n",
            "Note, selecting 'nvidia-kernel-common-580-server' for glob 'nvidia*'\n",
            "Note, selecting 'nvidia-driver-515-open' for glob 'nvidia*'\n",
            "Note, selecting 'nvidia-dkms-575-open' for glob 'nvidia*'\n",
            "Note, selecting 'nvidia-compute-utils-460-server' for glob 'nvidia*'\n",
            "Note, selecting 'nvidia-firmware-535-server-535.161.07' for glob 'nvidia*'\n",
            "Note, selecting 'nvidia-firmware-535-server-535.161.08' for glob 'nvidia*'\n",
            "Note, selecting 'nvidia-cuda-dev' for glob 'nvidia*'\n",
            "Note, selecting 'nvidia-headless-no-dkms-565-open' for glob 'nvidia*'\n",
            "Note, selecting 'nvidia-headless-580-open' for glob 'nvidia*'\n",
            "Note, selecting 'nvidia-cuda-doc' for glob 'nvidia*'\n",
            "Note, selecting 'nvidia-headless-515-server' for glob 'nvidia*'\n",
            "Note, selecting 'nvidia-fabricmanager' for glob 'nvidia*'\n",
            "Note, selecting 'nvidia-firmware-535-535.171.04' for glob 'nvidia*'\n",
            "Note, selecting 'nvidia-headless-535-server' for glob 'nvidia*'\n",
            "Note, selecting 'nvidia-cuda-gdb' for glob 'nvidia*'\n",
            "Note, selecting 'nvidia-kernel-source-570-server-open' for glob 'nvidia*'\n",
            "Note, selecting 'nvidia-340-dev' for glob 'nvidia*'\n",
            "Note, selecting 'nvidia-firmware-535-535.261.03' for glob 'nvidia*'\n",
            "Note, selecting 'nvidia-firmware-535-server-535.171.04' for glob 'nvidia*'\n",
            "Note, selecting 'nvidia-cuda-toolkit' for glob 'nvidia*'\n",
            "Note, selecting 'nvidia-dkms-545-open' for glob 'nvidia*'\n",
            "Note, selecting 'nvidia-headless-no-dkms-510-server' for glob 'nvidia*'\n",
            "Note, selecting 'nvidia-firmware-560-560.28.03' for glob 'nvidia*'\n",
            "Note, selecting 'nvidia-headless-575-server' for glob 'nvidia*'\n",
            "Note, selecting 'nvidia-headless-no-dkms-535-open' for glob 'nvidia*'\n",
            "Note, selecting 'nvidia-headless-550-open' for glob 'nvidia*'\n",
            "Note, selecting 'nvidia-firmware-535-server-535.261.03' for glob 'nvidia*'\n",
            "Note, selecting 'nvidia-dkms-418-server' for glob 'nvidia*'\n",
            "Note, selecting 'nvidia-dkms-525-server' for glob 'nvidia*'\n",
            "Note, selecting 'nvidia-kernel-source-580-open' for glob 'nvidia*'\n",
            "Note, selecting 'nvidia-headless-no-dkms-550-server' for glob 'nvidia*'\n",
            "Note, selecting 'nvidia-firmware-535-535.247.01' for glob 'nvidia*'\n",
            "Note, selecting 'nvidia-prime' for glob 'nvidia*'\n",
            "Note, selecting 'nvidia-kernel-common-510-server' for glob 'nvidia*'\n",
            "Note, selecting 'nvidia-firmware-545-545.29.06' for glob 'nvidia*'\n",
            "Note, selecting 'nvidia-kernel-dkms' for glob 'nvidia*'\n",
            "Note, selecting 'nvidia-firmware-550-550.54.14' for glob 'nvidia*'\n",
            "Note, selecting 'nvidia-firmware-550-550.54.15' for glob 'nvidia*'\n",
            "Note, selecting 'nvidia-headless-no-dkms-570-server' for glob 'nvidia*'\n",
            "Note, selecting 'nvidia-driver-515-server' for glob 'nvidia*'\n",
            "Note, selecting 'nvidia-kernel-open-dkms' for glob 'nvidia*'\n",
            "Note, selecting 'nvidia-dkms-515-open' for glob 'nvidia*'\n",
            "Note, selecting 'nvidia-firmware-535-server-535.247.01' for glob 'nvidia*'\n",
            "Note, selecting 'nvidia-355-updates' for glob 'nvidia*'\n",
            "Note, selecting 'nvidia-driver-535-server' for glob 'nvidia*'\n",
            "Note, selecting 'nvidia-kernel-common-550-server' for glob 'nvidia*'\n",
            "Note, selecting 'nvidia-headless-520-open' for glob 'nvidia*'\n",
            "Note, selecting 'nvidia-kernel-common-570-server' for glob 'nvidia*'\n",
            "Note, selecting 'nvidia-kernel-source-550-open' for glob 'nvidia*'\n",
            "Note, selecting 'nvidia-opencl-icd-340' for glob 'nvidia*'\n",
            "Note, selecting 'nvidia-opencl-icd-384' for glob 'nvidia*'\n",
            "Note, selecting 'nvidia-compute-utils-450-server' for glob 'nvidia*'\n",
            "Note, selecting 'nvidia-kernel-open' for glob 'nvidia*'\n",
            "Note, selecting 'nvidia-304' for glob 'nvidia*'\n",
            "Note, selecting 'nvidia-310' for glob 'nvidia*'\n",
            "Note, selecting 'nvidia-313' for glob 'nvidia*'\n",
            "Note, selecting 'nvidia-319' for glob 'nvidia*'\n",
            "Note, selecting 'nvidia-325' for glob 'nvidia*'\n",
            "Note, selecting 'nvidia-331' for glob 'nvidia*'\n",
            "Note, selecting 'nvidia-334' for glob 'nvidia*'\n",
            "Note, selecting 'nvidia-337' for glob 'nvidia*'\n",
            "Note, selecting 'nvidia-340' for glob 'nvidia*'\n",
            "Note, selecting 'nvidia-343' for glob 'nvidia*'\n",
            "Note, selecting 'nvidia-346' for glob 'nvidia*'\n",
            "Note, selecting 'nvidia-349' for glob 'nvidia*'\n",
            "Note, selecting 'nvidia-352' for glob 'nvidia*'\n",
            "Note, selecting 'nvidia-355' for glob 'nvidia*'\n",
            "Note, selecting 'nvidia-358' for glob 'nvidia*'\n",
            "Note, selecting 'nvidia-firmware-580-server-580.65.06' for glob 'nvidia*'\n",
            "Note, selecting 'nvidia-361' for glob 'nvidia*'\n",
            "Note, selecting 'nvidia-364' for glob 'nvidia*'\n",
            "Note, selecting 'nvidia-367' for glob 'nvidia*'\n",
            "Note, selecting 'nvidia-375' for glob 'nvidia*'\n",
            "Note, selecting 'nvidia-378' for glob 'nvidia*'\n",
            "Note, selecting 'nvidia-381' for glob 'nvidia*'\n",
            "Note, selecting 'nvidia-384' for glob 'nvidia*'\n",
            "Note, selecting 'nvidia-387' for glob 'nvidia*'\n",
            "Note, selecting 'nvidia-390' for glob 'nvidia*'\n",
            "Note, selecting 'nvidia-fs-dkms' for glob 'nvidia*'\n",
            "Note, selecting 'nvidia-firmware-565-server-565.77' for glob 'nvidia*'\n",
            "Note, selecting 'nvidia-compute-utils-470-server' for glob 'nvidia*'\n",
            "Note, selecting 'nvidia-kernel-common-440-server' for glob 'nvidia*'\n",
            "Note, selecting 'nvidia-headless-418-server' for glob 'nvidia*'\n",
            "Note, selecting 'nvidia-firmware-570-570.172.08' for glob 'nvidia*'\n",
            "Note, selecting 'nvidia-340-uvm' for glob 'nvidia*'\n",
            "Note, selecting 'nvidia-headless-525-server' for glob 'nvidia*'\n",
            "Note, selecting 'nvidia-kernel-source-575-server' for glob 'nvidia*'\n",
            "Note, selecting 'nvidia-firmware-580-server' for glob 'nvidia*'\n",
            "Note, selecting 'nvidia-firmware-550-server-550.120' for glob 'nvidia*'\n",
            "Note, selecting 'nvidia-headless-535-open' for glob 'nvidia*'\n",
            "Note, selecting 'nvidia-346-updates' for glob 'nvidia*'\n",
            "Note, selecting 'nvidia-fs-prebuilt-kernel' for glob 'nvidia*'\n",
            "Note, selecting 'nvidia-kernel-common-460-server' for glob 'nvidia*'\n",
            "Note, selecting 'nvidia' for glob 'nvidia*'\n",
            "Note, selecting 'nvidia-kernel-source-550-server-open' for glob 'nvidia*'\n",
            "Note, selecting 'nvidia-driver-530-open' for glob 'nvidia*'\n",
            "Note, selecting 'nvidia-kernel-source-520-open' for glob 'nvidia*'\n",
            "Note, selecting 'nvidia-firmware-575-server-575.51.03' for glob 'nvidia*'\n",
            "Note, selecting 'nvidia-headless-535-server-open' for glob 'nvidia*'\n",
            "Note, selecting 'nvidia-headless-no-dkms-580-open' for glob 'nvidia*'\n",
            "Note, selecting 'nvidia-settings' for glob 'nvidia*'\n",
            "Note, selecting 'nvidia-headless-565-server' for glob 'nvidia*'\n",
            "Note, selecting 'nvidia-headless-575-server-open' for glob 'nvidia*'\n",
            "Note, selecting 'nvidia-firmware-570-570.158.01' for glob 'nvidia*'\n",
            "Note, selecting 'nvidia-headless-no-dkms-390' for glob 'nvidia*'\n",
            "Note, selecting 'nvidia-driver-555-server-open' for glob 'nvidia*'\n",
            "Note, selecting 'nvidia-headless-no-dkms-418' for glob 'nvidia*'\n",
            "Note, selecting 'nvidia-headless-no-dkms-430' for glob 'nvidia*'\n",
            "Note, selecting 'nvidia-headless-no-dkms-435' for glob 'nvidia*'\n",
            "Note, selecting 'nvidia-headless-no-dkms-440' for glob 'nvidia*'\n",
            "Note, selecting 'nvidia-headless-no-dkms-450' for glob 'nvidia*'\n",
            "Note, selecting 'nvidia-headless-no-dkms-455' for glob 'nvidia*'\n",
            "Note, selecting 'nvidia-headless-no-dkms-460' for glob 'nvidia*'\n",
            "Note, selecting 'nvidia-headless-no-dkms-465' for glob 'nvidia*'\n",
            "Note, selecting 'nvidia-headless-no-dkms-470' for glob 'nvidia*'\n",
            "Note, selecting 'nvidia-headless-no-dkms-495' for glob 'nvidia*'\n",
            "Note, selecting 'nvidia-container-runtime-hook' for glob 'nvidia*'\n",
            "Note, selecting 'nvidia-cudnn' for glob 'nvidia*'\n",
            "Note, selecting 'nvidia-headless-no-dkms-510' for glob 'nvidia*'\n",
            "Note, selecting 'nvidia-headless-no-dkms-515' for glob 'nvidia*'\n",
            "Note, selecting 'nvidia-headless-no-dkms-520' for glob 'nvidia*'\n",
            "Note, selecting 'nvidia-headless-no-dkms-525' for glob 'nvidia*'\n",
            "Note, selecting 'nvidia-headless-no-dkms-530' for glob 'nvidia*'\n",
            "Note, selecting 'nvidia-headless-no-dkms-535' for glob 'nvidia*'\n",
            "Note, selecting 'nvidia-headless-no-dkms-545' for glob 'nvidia*'\n",
            "Note, selecting 'nvidia-headless-no-dkms-550' for glob 'nvidia*'\n",
            "Note, selecting 'nvidia-headless-no-dkms-555' for glob 'nvidia*'\n",
            "Note, selecting 'nvidia-headless-no-dkms-560' for glob 'nvidia*'\n",
            "Note, selecting 'nvidia-headless-no-dkms-565' for glob 'nvidia*'\n",
            "Note, selecting 'nvidia-headless-no-dkms-570' for glob 'nvidia*'\n",
            "Note, selecting 'nvidia-headless-no-dkms-575' for glob 'nvidia*'\n",
            "Note, selecting 'nvidia-headless-no-dkms-580' for glob 'nvidia*'\n",
            "Note, selecting 'nvidia-352-updates' for glob 'nvidia*'\n",
            "Note, selecting 'nvidia-dkms-560-open' for glob 'nvidia*'\n",
            "Note, selecting 'nvidia-firmware-570-570.133.07' for glob 'nvidia*'\n",
            "Note, selecting 'nvidia-dkms-565-server-open' for glob 'nvidia*'\n",
            "Note, selecting 'nvidia-firmware-570-570.133.20' for glob 'nvidia*'\n",
            "Note, selecting 'nvidia-utils-580-server' for glob 'nvidia*'\n",
            "Note, selecting 'nvidia-firmware-555-555.42.02' for glob 'nvidia*'\n",
            "Note, selecting 'nvidia-firmware-555-555.42.06' for glob 'nvidia*'\n",
            "Note, selecting 'nvidia-headless-no-dkms-580-server' for glob 'nvidia*'\n",
            "Note, selecting 'nvidia-headless-no-dkms-550-open' for glob 'nvidia*'\n",
            "Note, selecting 'nvidia-firmware-535-535.113.01' for glob 'nvidia*'\n",
            "Note, selecting 'nvidia-libopencl1' for glob 'nvidia*'\n",
            "Note, selecting 'nvidia-fabricmanager-dev-450' for glob 'nvidia*'\n",
            "Note, selecting 'nvidia-fabricmanager-dev-460' for glob 'nvidia*'\n",
            "Note, selecting 'nvidia-fabricmanager-dev-470' for glob 'nvidia*'\n",
            "Note, selecting 'nvidia-firmware-570-570.86.10' for glob 'nvidia*'\n",
            "Note, selecting 'nvidia-firmware-570-570.86.15' for glob 'nvidia*'\n",
            "Note, selecting 'nvidia-firmware-570-570.169' for glob 'nvidia*'\n",
            "Note, selecting 'nvidia-firmware-570-570.181' for glob 'nvidia*'\n",
            "Note, selecting 'nvidia-firmware-580-server-580.95.05' for glob 'nvidia*'\n",
            "Note, selecting 'nvidia-fabricmanager-dev-510' for glob 'nvidia*'\n",
            "Note, selecting 'nvidia-fabricmanager-dev-515' for glob 'nvidia*'\n",
            "Note, selecting 'nvidia-fabricmanager-dev-520' for glob 'nvidia*'\n",
            "Note, selecting 'nvidia-fabricmanager-dev-525' for glob 'nvidia*'\n",
            "Note, selecting 'nvidia-fabricmanager-dev-530' for glob 'nvidia*'\n",
            "Note, selecting 'nvidia-fabricmanager-dev-535' for glob 'nvidia*'\n",
            "Note, selecting 'nvidia-fabricmanager-dev-545' for glob 'nvidia*'\n",
            "Note, selecting 'nvidia-fabricmanager-dev-550' for glob 'nvidia*'\n",
            "Note, selecting 'nvidia-fabricmanager-dev-555' for glob 'nvidia*'\n",
            "Note, selecting 'nvidia-fabricmanager-dev-560' for glob 'nvidia*'\n",
            "Note, selecting 'nvidia-fabricmanager-dev-565' for glob 'nvidia*'\n",
            "Note, selecting 'nvidia-fabricmanager-dev-570' for glob 'nvidia*'\n",
            "Note, selecting 'nvidia-fabricmanager-dev-575' for glob 'nvidia*'\n",
            "Note, selecting 'nvidia-fabricmanager-dev-580' for glob 'nvidia*'\n",
            "Note, selecting 'nvidia-headless-565-server-open' for glob 'nvidia*'\n",
            "Note, selecting 'nvidia-firmware-535-server-535.113.01' for glob 'nvidia*'\n",
            "Note, selecting 'nvidia-kernel-source-418-server' for glob 'nvidia*'\n",
            "Note, selecting 'nvidia-kernel-source-525-server' for glob 'nvidia*'\n",
            "Note, selecting 'nvidia-headless-no-dkms-450-server' for glob 'nvidia*'\n",
            "Note, selecting 'nvidia-dkms-530-open' for glob 'nvidia*'\n",
            "Note, selecting 'nvidia-headless-no-dkms-470-server' for glob 'nvidia*'\n",
            "Note, selecting 'nvidia-343-updates' for glob 'nvidia*'\n",
            "Note, selecting 'nvidia-headless-no-dkms-520-open' for glob 'nvidia*'\n",
            "Note, selecting 'nvidia-kernel-source-open' for glob 'nvidia*'\n",
            "Note, selecting 'nvidia-kernel-source-565-server' for glob 'nvidia*'\n",
            "Note, selecting 'nvidia-firmware-570-server' for glob 'nvidia*'\n",
            "Note, selecting 'nvidia-firmware-575-server-575.57.08' for glob 'nvidia*'\n",
            "Note, selecting 'nvidia-kernel-common-450-server' for glob 'nvidia*'\n",
            "Note, selecting 'nvidia-firmware-550-server-550.54.14' for glob 'nvidia*'\n",
            "Note, selecting 'nvidia-firmware-550-server-550.54.15' for glob 'nvidia*'\n",
            "Note, selecting 'nvidia-kernel-common-470-server' for glob 'nvidia*'\n",
            "Note, selecting 'nvidia-driver-580-open' for glob 'nvidia*'\n",
            "Note, selecting 'nvidia-utils-510-server' for glob 'nvidia*'\n",
            "Note, selecting 'nvidia-kernel-source-570-open' for glob 'nvidia*'\n",
            "Note, selecting 'nvidia-349-updates' for glob 'nvidia*'\n",
            "Note, selecting 'nvidia-firmware-550-550.67' for glob 'nvidia*'\n",
            "Note, selecting 'nvidia-fabricmanager-450' for glob 'nvidia*'\n",
            "Note, selecting 'nvidia-fabricmanager-460' for glob 'nvidia*'\n",
            "Note, selecting 'nvidia-firmware-555-server-555.42.02' for glob 'nvidia*'\n",
            "Note, selecting 'nvidia-firmware-555-server-555.42.06' for glob 'nvidia*'\n",
            "Note, selecting 'nvidia-fabricmanager-470' for glob 'nvidia*'\n",
            "Note, selecting 'nvidia-fabricmanager-510' for glob 'nvidia*'\n",
            "Note, selecting 'nvidia-fabricmanager-515' for glob 'nvidia*'\n",
            "Note, selecting 'nvidia-fabricmanager-520' for glob 'nvidia*'\n",
            "Note, selecting 'nvidia-fabricmanager-525' for glob 'nvidia*'\n",
            "Note, selecting 'nvidia-fabricmanager-530' for glob 'nvidia*'\n",
            "Note, selecting 'nvidia-fabricmanager-535' for glob 'nvidia*'\n",
            "Note, selecting 'nvidia-fabricmanager-545' for glob 'nvidia*'\n",
            "Note, selecting 'nvidia-fabricmanager-550' for glob 'nvidia*'\n",
            "Note, selecting 'nvidia-fabricmanager-555' for glob 'nvidia*'\n",
            "Note, selecting 'nvidia-fabricmanager-560' for glob 'nvidia*'\n",
            "Note, selecting 'nvidia-fabricmanager-565' for glob 'nvidia*'\n",
            "Note, selecting 'nvidia-fabricmanager-570' for glob 'nvidia*'\n",
            "Note, selecting 'nvidia-fabricmanager-575' for glob 'nvidia*'\n",
            "Note, selecting 'nvidia-fabricmanager-580' for glob 'nvidia*'\n",
            "Note, selecting 'nvidia-334-updates' for glob 'nvidia*'\n",
            "Note, selecting 'nvidia-driver-535-server-open' for glob 'nvidia*'\n",
            "Note, selecting 'nvidia-headless-no-dkms-550-server-open' for glob 'nvidia*'\n",
            "Note, selecting 'nvidia-utils-550-server' for glob 'nvidia*'\n",
            "Note, selecting 'nvidia-container-toolkit' for glob 'nvidia*'\n",
            "Note, selecting 'nvidia-driver-575-server-open' for glob 'nvidia*'\n",
            "Note, selecting 'nvidia-libopencl1-340' for glob 'nvidia*'\n",
            "Note, selecting 'nvidia-libopencl1-384' for glob 'nvidia*'\n",
            "Note, selecting 'nvidia-utils-570-server' for glob 'nvidia*'\n",
            "Note, selecting 'nvidia-hpc-benchmarks-openmpi' for glob 'nvidia*'\n",
            "Note, selecting 'nvidia-firmware-575-575.64.03' for glob 'nvidia*'\n",
            "Note, selecting 'nvidia-headless-555-open' for glob 'nvidia*'\n",
            "Note, selecting 'nvidia-firmware-580-580.65.06' for glob 'nvidia*'\n",
            "Note, selecting 'nvidia-driver-550-open' for glob 'nvidia*'\n",
            "Note, selecting 'nvidia-hpc-benchmarks' for glob 'nvidia*'\n",
            "Note, selecting 'nvidia-firmware-570-server-570.195.03' for glob 'nvidia*'\n",
            "Note, selecting 'nvidia-container-toolkit-base' for glob 'nvidia*'\n",
            "Note, selecting 'nvidia-utils-440-server' for glob 'nvidia*'\n",
            "Note, selecting 'nvidia-firmware-535-535.129.03' for glob 'nvidia*'\n",
            "Note, selecting 'nvidia-kernel-source-515-server' for glob 'nvidia*'\n",
            "Note, selecting 'nvidia-kernel-source-390' for glob 'nvidia*'\n",
            "Note, selecting 'nvidia-headless-no-dkms-440-server' for glob 'nvidia*'\n",
            "Note, selecting 'nvidia-340-updates' for glob 'nvidia*'\n",
            "Note, selecting 'nvidia-utils-460-server' for glob 'nvidia*'\n",
            "Note, selecting 'nvidia-kernel-source-418' for glob 'nvidia*'\n",
            "Note, selecting 'nvidia-kernel-source-430' for glob 'nvidia*'\n",
            "Note, selecting 'nvidia-kernel-source-435' for glob 'nvidia*'\n",
            "Note, selecting 'nvidia-kernel-source-440' for glob 'nvidia*'\n",
            "Note, selecting 'nvidia-kernel-source-450' for glob 'nvidia*'\n",
            "Note, selecting 'nvidia-kernel-source-455' for glob 'nvidia*'\n",
            "Note, selecting 'nvidia-kernel-source-460' for glob 'nvidia*'\n",
            "Note, selecting 'nvidia-kernel-source-465' for glob 'nvidia*'\n",
            "Note, selecting 'nvidia-kernel-source-470' for glob 'nvidia*'\n",
            "Note, selecting 'nvidia-kernel-source-495' for glob 'nvidia*'\n",
            "Note, selecting 'nvidia-kernel-source-510' for glob 'nvidia*'\n",
            "Note, selecting 'nvidia-kernel-source-515' for glob 'nvidia*'\n",
            "Note, selecting 'nvidia-headless-525-open' for glob 'nvidia*'\n",
            "Note, selecting 'nvidia-kernel-source-535-server' for glob 'nvidia*'\n",
            "Note, selecting 'nvidia-kernel-source-520' for glob 'nvidia*'\n",
            "Note, selecting 'nvidia-kernel-source-525' for glob 'nvidia*'\n",
            "Note, selecting 'nvidia-kernel-source-530' for glob 'nvidia*'\n",
            "Note, selecting 'nvidia-kernel-source-535' for glob 'nvidia*'\n",
            "Note, selecting 'nvidia-kernel-source-545' for glob 'nvidia*'\n",
            "Note, selecting 'nvidia-kernel-source-550' for glob 'nvidia*'\n",
            "Note, selecting 'nvidia-kernel-source-555' for glob 'nvidia*'\n",
            "Note, selecting 'nvidia-kernel-source-560' for glob 'nvidia*'\n",
            "Note, selecting 'nvidia-kernel-source-565' for glob 'nvidia*'\n",
            "Note, selecting 'nvidia-kernel-source-570' for glob 'nvidia*'\n",
            "Note, selecting 'nvidia-kernel-source-575' for glob 'nvidia*'\n",
            "Note, selecting 'nvidia-kernel-source-580' for glob 'nvidia*'\n",
            "Note, selecting 'nvidia-headless-no-dkms-460-server' for glob 'nvidia*'\n",
            "Note, selecting 'nvidia-firmware-570-570.124.06' for glob 'nvidia*'\n",
            "Note, selecting 'nvidia-firmware-570' for glob 'nvidia*'\n",
            "Note, selecting 'nvidia-firmware-575' for glob 'nvidia*'\n",
            "Note, selecting 'nvidia-firmware-580' for glob 'nvidia*'\n",
            "Note, selecting 'nvidia-driver-565-open' for glob 'nvidia*'\n",
            "Note, selecting 'nvidia-driver-565-server-open' for glob 'nvidia*'\n",
            "Note, selecting 'nvidia-driver-520-open' for glob 'nvidia*'\n",
            "Note, selecting 'nvidia-dkms-580-open' for glob 'nvidia*'\n",
            "Note, selecting 'nvidia-firmware-535-server-535.129.03' for glob 'nvidia*'\n",
            "Note, selecting 'nvidia-headless-no-dkms-580-server-open' for glob 'nvidia*'\n",
            "Note, selecting 'nvidia-kernel-source-555-open' for glob 'nvidia*'\n",
            "Note, selecting 'nvidia-compute-utils-575-server' for glob 'nvidia*'\n",
            "Note, selecting 'nvidia-firmware-535-535.104.05' for glob 'nvidia*'\n",
            "Note, selecting 'nvidia-firmware-535-535.104.12' for glob 'nvidia*'\n",
            "Note, selecting 'nvidia-dkms-535-server-open' for glob 'nvidia*'\n",
            "Note, selecting 'nvidia-driver-cuda' for glob 'nvidia*'\n",
            "Note, selecting 'nvidia-headless-no-dkms-570-open' for glob 'nvidia*'\n",
            "Note, selecting 'nvidia-384-dev' for glob 'nvidia*'\n",
            "Note, selecting 'nvidia-dkms-575-server-open' for glob 'nvidia*'\n",
            "Note, selecting 'nvidia-experimental-304' for glob 'nvidia*'\n",
            "Note, selecting 'nvidia-experimental-310' for glob 'nvidia*'\n",
            "Note, selecting 'nvidia-experimental-313' for glob 'nvidia*'\n",
            "Note, selecting 'nvidia-experimental-319' for glob 'nvidia*'\n",
            "Note, selecting 'nvidia-experimental-325' for glob 'nvidia*'\n",
            "Note, selecting 'nvidia-experimental-331' for glob 'nvidia*'\n",
            "Note, selecting 'nvidia-experimental-334' for glob 'nvidia*'\n",
            "Note, selecting 'nvidia-experimental-337' for glob 'nvidia*'\n",
            "Note, selecting 'nvidia-experimental-340' for glob 'nvidia*'\n",
            "Note, selecting 'nvidia-experimental-343' for glob 'nvidia*'\n",
            "Note, selecting 'nvidia-experimental-346' for glob 'nvidia*'\n",
            "Note, selecting 'nvidia-experimental-349' for glob 'nvidia*'\n",
            "Note, selecting 'nvidia-experimental-352' for glob 'nvidia*'\n",
            "Note, selecting 'nvidia-experimental-355' for glob 'nvidia*'\n",
            "Note, selecting 'nvidia-experimental-358' for glob 'nvidia*'\n",
            "Note, selecting 'nvidia-experimental-361' for glob 'nvidia*'\n",
            "Note, selecting 'nvidia-experimental-364' for glob 'nvidia*'\n",
            "Note, selecting 'nvidia-experimental-367' for glob 'nvidia*'\n",
            "Note, selecting 'nvidia-experimental-375' for glob 'nvidia*'\n",
            "Note, selecting 'nvidia-experimental-378' for glob 'nvidia*'\n",
            "Note, selecting 'nvidia-experimental-381' for glob 'nvidia*'\n",
            "Note, selecting 'nvidia-experimental-384' for glob 'nvidia*'\n",
            "Note, selecting 'nvidia-experimental-387' for glob 'nvidia*'\n",
            "Note, selecting 'nvidia-firmware-535-server-535.104.05' for glob 'nvidia*'\n",
            "Note, selecting 'nvidia-firmware-535-server-535.104.12' for glob 'nvidia*'\n",
            "Note, selecting 'nvidia-dkms-550-server' for glob 'nvidia*'\n",
            "Note, selecting 'nvidia-imex-550' for glob 'nvidia*'\n",
            "Note, selecting 'nvidia-imex-560' for glob 'nvidia*'\n",
            "Note, selecting 'nvidia-imex-565' for glob 'nvidia*'\n",
            "Note, selecting 'nvidia-firmware-550-550.163.01' for glob 'nvidia*'\n",
            "Note, selecting 'nvidia-imex-570' for glob 'nvidia*'\n",
            "Note, selecting 'nvidia-imex-575' for glob 'nvidia*'\n",
            "Note, selecting 'nvidia-imex-580' for glob 'nvidia*'\n",
            "Note, selecting 'nvidia-331-updates' for glob 'nvidia*'\n",
            "Note, selecting 'nvidia-dkms-570-server' for glob 'nvidia*'\n",
            "Note, selecting 'nvidia-firmware-535-535.86.05' for glob 'nvidia*'\n",
            "Note, selecting 'nvidia-driver-535-open' for glob 'nvidia*'\n",
            "Note, selecting 'nvidia-firmware-550-server-550.163.01' for glob 'nvidia*'\n",
            "Note, selecting 'nvidia-kernel-source-525-open' for glob 'nvidia*'\n",
            "Note, selecting 'nvidia-firmware-580-580.95.05' for glob 'nvidia*'\n",
            "Note, selecting 'nvidia-driver-560-server' for glob 'nvidia*'\n",
            "Note, selecting 'nvidia-headless-no-dkms-570-server-open' for glob 'nvidia*'\n",
            "Note, selecting 'nvidia-337-updates' for glob 'nvidia*'\n",
            "Note, selecting 'nvidia-driver-580-server' for glob 'nvidia*'\n",
            "Note, selecting 'nvidia-gds' for glob 'nvidia*'\n",
            "Note, selecting 'nvidia-firmware-535-535.183.01' for glob 'nvidia*'\n",
            "Note, selecting 'nvidia-firmware-535-535.183.06' for glob 'nvidia*'\n",
            "Note, selecting 'nvidia-firmware-550-550.120' for glob 'nvidia*'\n",
            "Note, selecting 'nvidia-firmware-535-server-535.54.03' for glob 'nvidia*'\n",
            "Note, selecting 'nvidia-dkms-565-open' for glob 'nvidia*'\n",
            "Note, selecting 'nvidia-compute-utils-418-server' for glob 'nvidia*'\n",
            "Note, selecting 'nvidia-fs-prebuilt' for glob 'nvidia*'\n",
            "Note, selecting 'nvidia-compute-utils-525-server' for glob 'nvidia*'\n",
            "Note, selecting 'nvidia-headless-no-dkms-555-open' for glob 'nvidia*'\n",
            "Note, selecting 'nvidia-headless-570-open' for glob 'nvidia*'\n",
            "Note, selecting 'nvidia-utils-450-server' for glob 'nvidia*'\n",
            "Note, selecting 'nvidia-firmware-535-server-535.183.01' for glob 'nvidia*'\n",
            "Note, selecting 'nvidia-firmware-535-server-535.183.06' for glob 'nvidia*'\n",
            "Note, selecting 'nvidia-headless-550-server' for glob 'nvidia*'\n",
            "Note, selecting 'nvidia-settings-binary' for glob 'nvidia*'\n",
            "Note, selecting 'nvidia-dkms-kernel' for glob 'nvidia*'\n",
            "Note, selecting 'nvidia-modprobe' for glob 'nvidia*'\n",
            "Note, selecting 'nvidia-utils-470-server' for glob 'nvidia*'\n",
            "Note, selecting 'nvidia-headless-570-server' for glob 'nvidia*'\n",
            "Note, selecting 'nvidia-compute-utils-565-server' for glob 'nvidia*'\n",
            "Note, selecting 'nvidia-cg-dev' for glob 'nvidia*'\n",
            "Note, selecting 'nvidia-dkms-535-open' for glob 'nvidia*'\n",
            "Note, selecting 'nvidia-cg-doc' for glob 'nvidia*'\n",
            "Note, selecting 'nvidia-kernel-source' for glob 'nvidia*'\n",
            "Note, selecting 'nvidia-common' for glob 'nvidia*'\n",
            "Note, selecting 'nvidia-persistenced' for glob 'nvidia*'\n",
            "Note, selecting 'nvidia-firmware-550-550.90.07' for glob 'nvidia*'\n",
            "Note, selecting 'nvidia-firmware-550-550.90.12' for glob 'nvidia*'\n",
            "Note, selecting 'nvidia-firmware-565-565.57.01' for glob 'nvidia*'\n",
            "Note, selecting 'nvidia-headless-no-dkms-525-open' for glob 'nvidia*'\n",
            "Note, selecting 'nvidia-driver-binary' for glob 'nvidia*'\n",
            "Note, selecting 'nvidia-smi' for glob 'nvidia*'\n",
            "Note, selecting 'nvidia-driver-510-server' for glob 'nvidia*'\n",
            "Note, selecting 'nvidia-kernel-common-575-server' for glob 'nvidia*'\n",
            "Note, selecting 'nvidia-firmware-550-550.144.03' for glob 'nvidia*'\n",
            "Package 'nvidia-egl-wayland-common' is not installed, so not removed\n",
            "Note, selecting 'nvidia-settings' instead of 'nvidia-settings-binary'\n",
            "Package 'nvidia-390' is not installed, so not removed\n",
            "Note, selecting 'libnvtt-bin' instead of 'nvidia-texture-tools'\n",
            "Package 'nvidia-libopencl1-dev' is not installed, so not removed\n",
            "Package 'nvidia-current' is not installed, so not removed\n",
            "Package 'nvidia-current-updates' is not installed, so not removed\n",
            "Package 'nvidia-libopencl1' is not installed, so not removed\n",
            "Package 'nvidia' is not installed, so not removed\n",
            "Package 'nvidia-driver-410' is not installed, so not removed\n",
            "Package 'nvidia-387' is not installed, so not removed\n",
            "Package 'nvidia-387-updates' is not installed, so not removed\n",
            "Package 'nvidia-experimental-387' is not installed, so not removed\n",
            "Package 'nvidia-384-updates' is not installed, so not removed\n",
            "Package 'nvidia-experimental-384' is not installed, so not removed\n",
            "Package 'nvidia-381' is not installed, so not removed\n",
            "Package 'nvidia-381-updates' is not installed, so not removed\n",
            "Package 'nvidia-experimental-381' is not installed, so not removed\n",
            "Package 'nvidia-378' is not installed, so not removed\n",
            "Package 'nvidia-378-updates' is not installed, so not removed\n",
            "Package 'nvidia-experimental-378' is not installed, so not removed\n",
            "Package 'nvidia-375' is not installed, so not removed\n",
            "Package 'nvidia-375-updates' is not installed, so not removed\n",
            "Package 'nvidia-experimental-375' is not installed, so not removed\n",
            "Package 'nvidia-367' is not installed, so not removed\n",
            "Package 'nvidia-367-updates' is not installed, so not removed\n",
            "Package 'nvidia-experimental-367' is not installed, so not removed\n",
            "Package 'nvidia-364' is not installed, so not removed\n",
            "Package 'nvidia-364-updates' is not installed, so not removed\n",
            "Package 'nvidia-experimental-364' is not installed, so not removed\n",
            "Package 'nvidia-361' is not installed, so not removed\n",
            "Package 'nvidia-361-updates' is not installed, so not removed\n",
            "Package 'nvidia-experimental-361' is not installed, so not removed\n",
            "Package 'nvidia-358' is not installed, so not removed\n",
            "Package 'nvidia-358-updates' is not installed, so not removed\n",
            "Package 'nvidia-experimental-358' is not installed, so not removed\n",
            "Package 'nvidia-355' is not installed, so not removed\n",
            "Package 'nvidia-355-updates' is not installed, so not removed\n",
            "Package 'nvidia-experimental-355' is not installed, so not removed\n",
            "Package 'nvidia-352' is not installed, so not removed\n",
            "Package 'nvidia-352-updates' is not installed, so not removed\n",
            "Package 'nvidia-experimental-352' is not installed, so not removed\n",
            "Package 'nvidia-349' is not installed, so not removed\n",
            "Package 'nvidia-349-updates' is not installed, so not removed\n",
            "Package 'nvidia-experimental-349' is not installed, so not removed\n",
            "Package 'nvidia-346' is not installed, so not removed\n",
            "Package 'nvidia-346-updates' is not installed, so not removed\n",
            "Package 'nvidia-experimental-346' is not installed, so not removed\n",
            "Package 'nvidia-343' is not installed, so not removed\n",
            "Package 'nvidia-343-updates' is not installed, so not removed\n",
            "Package 'nvidia-experimental-343' is not installed, so not removed\n",
            "Package 'nvidia-340-updates' is not installed, so not removed\n",
            "Package 'nvidia-experimental-340' is not installed, so not removed\n",
            "Package 'nvidia-337' is not installed, so not removed\n",
            "Package 'nvidia-337-updates' is not installed, so not removed\n",
            "Package 'nvidia-experimental-337' is not installed, so not removed\n",
            "Package 'nvidia-334' is not installed, so not removed\n",
            "Package 'nvidia-334-updates' is not installed, so not removed\n",
            "Package 'nvidia-experimental-334' is not installed, so not removed\n",
            "Package 'nvidia-331' is not installed, so not removed\n",
            "Package 'nvidia-331-updates' is not installed, so not removed\n",
            "Package 'nvidia-experimental-331' is not installed, so not removed\n",
            "Package 'nvidia-325' is not installed, so not removed\n",
            "Package 'nvidia-325-updates' is not installed, so not removed\n",
            "Package 'nvidia-experimental-325' is not installed, so not removed\n",
            "Package 'nvidia-319' is not installed, so not removed\n",
            "Package 'nvidia-319-updates' is not installed, so not removed\n",
            "Package 'nvidia-experimental-319' is not installed, so not removed\n",
            "Package 'nvidia-313' is not installed, so not removed\n",
            "Package 'nvidia-313-updates' is not installed, so not removed\n",
            "Package 'nvidia-experimental-313' is not installed, so not removed\n",
            "Package 'nvidia-310' is not installed, so not removed\n",
            "Package 'nvidia-310-updates' is not installed, so not removed\n",
            "Package 'nvidia-experimental-310' is not installed, so not removed\n",
            "Package 'nvidia-304' is not installed, so not removed\n",
            "Package 'nvidia-304-updates' is not installed, so not removed\n",
            "Package 'nvidia-experimental-304' is not installed, so not removed\n",
            "Package 'nvidia-legacy-390xx-opencl-icd' is not installed, so not removed\n",
            "Package 'nvidia-legacy-390xx-smi' is not installed, so not removed\n",
            "Package 'nvidia-cuda-doc' is not installed, so not removed\n",
            "Package 'nvidia-firmware-535-server-535.113.01' is not installed, so not removed\n",
            "Package 'nvidia-firmware-535-server-535.146.02' is not installed, so not removed\n",
            "Package 'nvidia-firmware-535-server-535.171.04' is not installed, so not removed\n",
            "Package 'nvidia-firmware-535-535.104.12' is not installed, so not removed\n",
            "Package 'nvidia-firmware-535-535.161.08' is not installed, so not removed\n",
            "Package 'nvidia-firmware-535-535.183.06' is not installed, so not removed\n",
            "Package 'nvidia-firmware-535-535.216.01' is not installed, so not removed\n",
            "Package 'nvidia-firmware-535-535.216.03' is not installed, so not removed\n",
            "Package 'nvidia-firmware-535-535.261.03' is not installed, so not removed\n",
            "Package 'nvidia-firmware-545-server-545.29.06' is not installed, so not removed\n",
            "Package 'nvidia-firmware-550-server-550.107.02' is not installed, so not removed\n",
            "Package 'nvidia-firmware-550-server-550.120' is not installed, so not removed\n",
            "Package 'nvidia-firmware-550-server-550.67' is not installed, so not removed\n",
            "Package 'nvidia-firmware-570-server-570.133.07' is not installed, so not removed\n",
            "Package 'nvidia-firmware-570-server-570.169' is not installed, so not removed\n",
            "Package 'nvidia-firmware-570-570.158.01' is not installed, so not removed\n",
            "Package 'nvidia-firmware-575-server-575.64.03' is not installed, so not removed\n",
            "Package 'nvidia-firmware-575-575.57.08' is not installed, so not removed\n",
            "Package 'nvidia-fs-prebuilt' is not installed, so not removed\n",
            "Package 'nvidia-kernel-common-396' is not installed, so not removed\n",
            "Package 'nvidia-kernel-dkms' is not installed, so not removed\n",
            "Package 'nvidia-container-runtime-hook' is not installed, so not removed\n",
            "Package 'nvidia-docker' is not installed, so not removed\n",
            "Package 'nvidia-driver-555-server' is not installed, so not removed\n",
            "Package 'nvidia-driver-555-server-open' is not installed, so not removed\n",
            "Package 'nvidia-firmware-555-server-555.42.02' is not installed, so not removed\n",
            "Package 'nvidia-firmware-555-server-555.42.06' is not installed, so not removed\n",
            "Package 'nvidia-driver-560-server' is not installed, so not removed\n",
            "Package 'nvidia-driver-560-server-open' is not installed, so not removed\n",
            "Package 'nvidia-firmware-560-server-560.28.03' is not installed, so not removed\n",
            "Package 'nvidia-firmware-560-server-560.35.03' is not installed, so not removed\n",
            "Package 'nvidia-firmware-550-server-550.90.12' is not installed, so not removed\n",
            "Package 'nvidia-hpc-benchmarks' is not installed, so not removed\n",
            "Package 'nvidia-firmware-560-server-560.35.05' is not installed, so not removed\n",
            "Package 'nvidia-firmware-570-server-570.86.10' is not installed, so not removed\n",
            "Package 'nvidia-firmware-570-server-570.124.06' is not installed, so not removed\n",
            "Package 'nvidia-firmware-575-server-575.51.03' is not installed, so not removed\n",
            "Package 'nvidia-firmware-570-server' is not installed, so not removed\n",
            "Package 'nvidia-firmware-575-server' is not installed, so not removed\n",
            "Package 'nvidia-firmware-580-server' is not installed, so not removed\n",
            "Package 'nvidia-kernel-open-dkms' is not installed, so not removed\n",
            "Package 'nvidia-driver-cuda' is not installed, so not removed\n",
            "Package 'nvidia-firmware-565-server-565.77' is not installed, so not removed\n",
            "Package 'nvidia-firmware-570-server-570.181' is not installed, so not removed\n",
            "Package 'nvidia-firmware-570-server-570.195.03' is not installed, so not removed\n",
            "Package 'nvidia-firmware-580-server-580.82.09' is not installed, so not removed\n",
            "Package 'nvidia-firmware-580-server-580.95.05' is not installed, so not removed\n",
            "Package 'nvidia-prime' is not installed, so not removed\n",
            "Package 'nvidia-340' is not installed, so not removed\n",
            "Package 'nvidia-340-dev' is not installed, so not removed\n",
            "Package 'nvidia-340-uvm' is not installed, so not removed\n",
            "Package 'nvidia-compute-utils-418' is not installed, so not removed\n",
            "Package 'nvidia-compute-utils-435' is not installed, so not removed\n",
            "Package 'nvidia-compute-utils-440' is not installed, so not removed\n",
            "Package 'nvidia-compute-utils-450' is not installed, so not removed\n",
            "Package 'nvidia-compute-utils-455' is not installed, so not removed\n",
            "Package 'nvidia-dkms-418' is not installed, so not removed\n",
            "Package 'nvidia-dkms-435' is not installed, so not removed\n",
            "Package 'nvidia-dkms-440' is not installed, so not removed\n",
            "Package 'nvidia-dkms-450' is not installed, so not removed\n",
            "Package 'nvidia-dkms-455' is not installed, so not removed\n",
            "Package 'nvidia-driver-418' is not installed, so not removed\n",
            "Package 'nvidia-driver-435' is not installed, so not removed\n",
            "Package 'nvidia-driver-440' is not installed, so not removed\n",
            "Package 'nvidia-driver-450' is not installed, so not removed\n",
            "Package 'nvidia-driver-455' is not installed, so not removed\n",
            "Package 'nvidia-headless-418' is not installed, so not removed\n",
            "Package 'nvidia-headless-435' is not installed, so not removed\n",
            "Package 'nvidia-headless-440' is not installed, so not removed\n",
            "Package 'nvidia-headless-450' is not installed, so not removed\n",
            "Package 'nvidia-headless-455' is not installed, so not removed\n",
            "Package 'nvidia-headless-no-dkms-418' is not installed, so not removed\n",
            "Package 'nvidia-headless-no-dkms-435' is not installed, so not removed\n",
            "Package 'nvidia-headless-no-dkms-440' is not installed, so not removed\n",
            "Package 'nvidia-headless-no-dkms-450' is not installed, so not removed\n",
            "Package 'nvidia-headless-no-dkms-455' is not installed, so not removed\n",
            "Package 'nvidia-kernel-common-418' is not installed, so not removed\n",
            "Package 'nvidia-kernel-common-435' is not installed, so not removed\n",
            "Package 'nvidia-kernel-common-440' is not installed, so not removed\n",
            "Package 'nvidia-kernel-common-450' is not installed, so not removed\n",
            "Package 'nvidia-kernel-common-455' is not installed, so not removed\n",
            "Package 'nvidia-kernel-source-418' is not installed, so not removed\n",
            "Package 'nvidia-kernel-source-435' is not installed, so not removed\n",
            "Package 'nvidia-kernel-source-440' is not installed, so not removed\n",
            "Package 'nvidia-kernel-source-450' is not installed, so not removed\n",
            "Package 'nvidia-kernel-source-455' is not installed, so not removed\n",
            "Package 'nvidia-utils-418' is not installed, so not removed\n",
            "Package 'nvidia-utils-435' is not installed, so not removed\n",
            "Package 'nvidia-utils-440' is not installed, so not removed\n",
            "Package 'nvidia-utils-450' is not installed, so not removed\n",
            "Package 'nvidia-utils-455' is not installed, so not removed\n",
            "Package 'libcuda1-340' is not installed, so not removed\n",
            "Package 'libcudart11.0' is not installed, so not removed\n",
            "Package 'nvidia-cg-dev' is not installed, so not removed\n",
            "Package 'nvidia-cg-doc' is not installed, so not removed\n",
            "Package 'nvidia-cg-toolkit' is not installed, so not removed\n",
            "Package 'nvidia-cuda-dev' is not installed, so not removed\n",
            "Package 'nvidia-cuda-gdb' is not installed, so not removed\n",
            "Package 'nvidia-cuda-toolkit' is not installed, so not removed\n",
            "Package 'nvidia-cuda-toolkit-doc' is not installed, so not removed\n",
            "Package 'nvidia-cuda-toolkit-gcc' is not installed, so not removed\n",
            "Package 'nvidia-cudnn' is not installed, so not removed\n",
            "Package 'nvidia-libopencl1-340' is not installed, so not removed\n",
            "Package 'nvidia-opencl-icd-340' is not installed, so not removed\n",
            "Package 'nvidia-primus-vk-common' is not installed, so not removed\n",
            "Package 'nvidia-primus-vk-wrapper' is not installed, so not removed\n",
            "Package 'nvidia-profiler' is not installed, so not removed\n",
            "Package 'nvidia-visual-profiler' is not installed, so not removed\n",
            "Package 'cuda-drivers-fabricmanager-515' is not installed, so not removed\n",
            "Package 'nvidia-384' is not installed, so not removed\n",
            "Package 'nvidia-384-dev' is not installed, so not removed\n",
            "Package 'nvidia-compute-utils-390' is not installed, so not removed\n",
            "Package 'nvidia-compute-utils-418-server' is not installed, so not removed\n",
            "Package 'nvidia-compute-utils-440-server' is not installed, so not removed\n",
            "Package 'nvidia-compute-utils-450-server' is not installed, so not removed\n",
            "Package 'nvidia-compute-utils-460' is not installed, so not removed\n",
            "Package 'nvidia-compute-utils-460-server' is not installed, so not removed\n",
            "Package 'nvidia-compute-utils-465' is not installed, so not removed\n",
            "Package 'nvidia-compute-utils-470' is not installed, so not removed\n",
            "Package 'nvidia-compute-utils-470-server' is not installed, so not removed\n",
            "Package 'nvidia-compute-utils-495' is not installed, so not removed\n",
            "Package 'nvidia-compute-utils-510' is not installed, so not removed\n",
            "Package 'nvidia-compute-utils-510-server' is not installed, so not removed\n",
            "Package 'nvidia-compute-utils-515' is not installed, so not removed\n",
            "Package 'nvidia-compute-utils-515-server' is not installed, so not removed\n",
            "Package 'nvidia-compute-utils-520' is not installed, so not removed\n",
            "Package 'nvidia-compute-utils-525' is not installed, so not removed\n",
            "Package 'nvidia-compute-utils-525-server' is not installed, so not removed\n",
            "Package 'nvidia-compute-utils-535-server' is not installed, so not removed\n",
            "Package 'nvidia-compute-utils-545' is not installed, so not removed\n",
            "Package 'nvidia-compute-utils-550-server' is not installed, so not removed\n",
            "Package 'nvidia-compute-utils-565-server' is not installed, so not removed\n",
            "Package 'nvidia-compute-utils-570-server' is not installed, so not removed\n",
            "Package 'nvidia-compute-utils-580-server' is not installed, so not removed\n",
            "Package 'nvidia-dkms-390' is not installed, so not removed\n",
            "Package 'nvidia-dkms-418-server' is not installed, so not removed\n",
            "Package 'nvidia-dkms-440-server' is not installed, so not removed\n",
            "Package 'nvidia-dkms-450-server' is not installed, so not removed\n",
            "Package 'nvidia-dkms-460' is not installed, so not removed\n",
            "Package 'nvidia-dkms-460-server' is not installed, so not removed\n",
            "Package 'nvidia-dkms-465' is not installed, so not removed\n",
            "Package 'nvidia-dkms-470' is not installed, so not removed\n",
            "Package 'nvidia-dkms-470-server' is not installed, so not removed\n",
            "Package 'nvidia-dkms-495' is not installed, so not removed\n",
            "Package 'nvidia-dkms-510' is not installed, so not removed\n",
            "Package 'nvidia-dkms-510-server' is not installed, so not removed\n",
            "Package 'nvidia-dkms-515' is not installed, so not removed\n",
            "Package 'nvidia-dkms-515-open' is not installed, so not removed\n",
            "Package 'nvidia-dkms-515-server' is not installed, so not removed\n",
            "Package 'nvidia-dkms-520' is not installed, so not removed\n",
            "Package 'nvidia-dkms-520-open' is not installed, so not removed\n",
            "Package 'nvidia-dkms-525' is not installed, so not removed\n",
            "Package 'nvidia-dkms-525-open' is not installed, so not removed\n",
            "Package 'nvidia-dkms-525-server' is not installed, so not removed\n",
            "Package 'nvidia-dkms-535-open' is not installed, so not removed\n",
            "Package 'nvidia-dkms-535-server' is not installed, so not removed\n",
            "Package 'nvidia-dkms-535-server-open' is not installed, so not removed\n",
            "Package 'nvidia-dkms-545' is not installed, so not removed\n",
            "Package 'nvidia-dkms-545-open' is not installed, so not removed\n",
            "Package 'nvidia-dkms-550-server' is not installed, so not removed\n",
            "Package 'nvidia-dkms-550-server-open' is not installed, so not removed\n",
            "Package 'nvidia-dkms-565-server' is not installed, so not removed\n",
            "Package 'nvidia-dkms-565-server-open' is not installed, so not removed\n",
            "Package 'nvidia-dkms-570-server' is not installed, so not removed\n",
            "Package 'nvidia-dkms-570-server-open' is not installed, so not removed\n",
            "Package 'nvidia-dkms-580-server' is not installed, so not removed\n",
            "Package 'nvidia-dkms-580-server-open' is not installed, so not removed\n",
            "Package 'nvidia-driver-390' is not installed, so not removed\n",
            "Package 'nvidia-driver-418-server' is not installed, so not removed\n",
            "Package 'nvidia-driver-440-server' is not installed, so not removed\n",
            "Package 'nvidia-driver-450-server' is not installed, so not removed\n",
            "Package 'nvidia-driver-460' is not installed, so not removed\n",
            "Package 'nvidia-driver-460-server' is not installed, so not removed\n",
            "Package 'nvidia-driver-465' is not installed, so not removed\n",
            "Package 'nvidia-driver-470' is not installed, so not removed\n",
            "Package 'nvidia-driver-470-server' is not installed, so not removed\n",
            "Package 'nvidia-driver-495' is not installed, so not removed\n",
            "Package 'nvidia-driver-510' is not installed, so not removed\n",
            "Package 'nvidia-driver-510-server' is not installed, so not removed\n",
            "Package 'nvidia-driver-515' is not installed, so not removed\n",
            "Package 'nvidia-driver-515-open' is not installed, so not removed\n",
            "Package 'nvidia-driver-515-server' is not installed, so not removed\n",
            "Package 'nvidia-driver-520' is not installed, so not removed\n",
            "Package 'nvidia-driver-520-open' is not installed, so not removed\n",
            "Package 'nvidia-driver-525' is not installed, so not removed\n",
            "Package 'nvidia-driver-525-open' is not installed, so not removed\n",
            "Package 'nvidia-driver-525-server' is not installed, so not removed\n",
            "Package 'nvidia-driver-535-open' is not installed, so not removed\n",
            "Package 'nvidia-driver-535-server' is not installed, so not removed\n",
            "Package 'nvidia-driver-535-server-open' is not installed, so not removed\n",
            "Package 'nvidia-driver-545' is not installed, so not removed\n",
            "Package 'nvidia-driver-545-open' is not installed, so not removed\n",
            "Package 'nvidia-driver-550-server' is not installed, so not removed\n",
            "Package 'nvidia-driver-550-server-open' is not installed, so not removed\n",
            "Package 'nvidia-driver-565-server' is not installed, so not removed\n",
            "Package 'nvidia-driver-565-server-open' is not installed, so not removed\n",
            "Package 'nvidia-driver-570-server' is not installed, so not removed\n",
            "Package 'nvidia-driver-570-server-open' is not installed, so not removed\n",
            "Package 'nvidia-driver-580-server' is not installed, so not removed\n",
            "Package 'nvidia-driver-580-server-open' is not installed, so not removed\n",
            "Package 'nvidia-fabricmanager-515' is not installed, so not removed\n",
            "Package 'nvidia-fabricmanager-dev-515' is not installed, so not removed\n",
            "Package 'nvidia-firmware-535-535.104.05' is not installed, so not removed\n",
            "Package 'nvidia-firmware-535-535.113.01' is not installed, so not removed\n",
            "Package 'nvidia-firmware-535-535.129.03' is not installed, so not removed\n",
            "Package 'nvidia-firmware-535-535.146.02' is not installed, so not removed\n",
            "Package 'nvidia-firmware-535-535.154.05' is not installed, so not removed\n",
            "Package 'nvidia-firmware-535-535.161.07' is not installed, so not removed\n",
            "Package 'nvidia-firmware-535-535.171.04' is not installed, so not removed\n",
            "Package 'nvidia-firmware-535-535.183.01' is not installed, so not removed\n",
            "Package 'nvidia-firmware-535-535.230.02' is not installed, so not removed\n",
            "Package 'nvidia-firmware-535-535.247.01' is not installed, so not removed\n",
            "Package 'nvidia-firmware-535-535.54.03' is not installed, so not removed\n",
            "Package 'nvidia-firmware-535-535.86.05' is not installed, so not removed\n",
            "Package 'nvidia-firmware-535-server-535.104.05' is not installed, so not removed\n",
            "Package 'nvidia-firmware-535-server-535.104.12' is not installed, so not removed\n",
            "Package 'nvidia-firmware-535-server-535.129.03' is not installed, so not removed\n",
            "Package 'nvidia-firmware-535-server-535.154.05' is not installed, so not removed\n",
            "Package 'nvidia-firmware-535-server-535.161.07' is not installed, so not removed\n",
            "Package 'nvidia-firmware-535-server-535.161.08' is not installed, so not removed\n",
            "Package 'nvidia-firmware-535-server-535.183.01' is not installed, so not removed\n",
            "Package 'nvidia-firmware-535-server-535.183.06' is not installed, so not removed\n",
            "Package 'nvidia-firmware-535-server-535.216.01' is not installed, so not removed\n",
            "Package 'nvidia-firmware-535-server-535.216.03' is not installed, so not removed\n",
            "Package 'nvidia-firmware-535-server-535.230.02' is not installed, so not removed\n",
            "Package 'nvidia-firmware-535-server-535.247.01' is not installed, so not removed\n",
            "Package 'nvidia-firmware-535-server-535.261.03' is not installed, so not removed\n",
            "Package 'nvidia-firmware-535-server-535.54.03' is not installed, so not removed\n",
            "Package 'nvidia-firmware-545-545.29.06' is not installed, so not removed\n",
            "Package 'nvidia-firmware-550-550.107.02' is not installed, so not removed\n",
            "Package 'nvidia-firmware-550-550.120' is not installed, so not removed\n",
            "Package 'nvidia-firmware-550-550.67' is not installed, so not removed\n",
            "Package 'nvidia-firmware-550-server-550.127.05' is not installed, so not removed\n",
            "Package 'nvidia-firmware-550-server-550.127.08' is not installed, so not removed\n",
            "Package 'nvidia-firmware-550-server-550.144.03' is not installed, so not removed\n",
            "Package 'nvidia-firmware-550-server-550.163.01' is not installed, so not removed\n",
            "Package 'nvidia-firmware-550-server-550.54.15' is not installed, so not removed\n",
            "Package 'nvidia-firmware-550-server-550.90.07' is not installed, so not removed\n",
            "Package 'nvidia-firmware-565-server-565.57.01' is not installed, so not removed\n",
            "Package 'nvidia-firmware-570-570.133.07' is not installed, so not removed\n",
            "Package 'nvidia-firmware-570-570.169' is not installed, so not removed\n",
            "Package 'nvidia-firmware-570-570.172.08' is not installed, so not removed\n",
            "Package 'nvidia-firmware-570-server-570.133.20' is not installed, so not removed\n",
            "Package 'nvidia-firmware-570-server-570.158.01' is not installed, so not removed\n",
            "Package 'nvidia-firmware-570-server-570.172.08' is not installed, so not removed\n",
            "Package 'nvidia-firmware-570-server-570.86.15' is not installed, so not removed\n",
            "Package 'nvidia-firmware-580-580.65.06' is not installed, so not removed\n",
            "Package 'nvidia-firmware-580-server-580.65.06' is not installed, so not removed\n",
            "Package 'nvidia-headless-390' is not installed, so not removed\n",
            "Package 'nvidia-headless-418-server' is not installed, so not removed\n",
            "Package 'nvidia-headless-440-server' is not installed, so not removed\n",
            "Package 'nvidia-headless-450-server' is not installed, so not removed\n",
            "Package 'nvidia-headless-460' is not installed, so not removed\n",
            "Package 'nvidia-headless-460-server' is not installed, so not removed\n",
            "Package 'nvidia-headless-465' is not installed, so not removed\n",
            "Package 'nvidia-headless-470' is not installed, so not removed\n",
            "Package 'nvidia-headless-470-server' is not installed, so not removed\n",
            "Package 'nvidia-headless-495' is not installed, so not removed\n",
            "Package 'nvidia-headless-510' is not installed, so not removed\n",
            "Package 'nvidia-headless-510-server' is not installed, so not removed\n",
            "Package 'nvidia-headless-515' is not installed, so not removed\n",
            "Package 'nvidia-headless-515-open' is not installed, so not removed\n",
            "Package 'nvidia-headless-515-server' is not installed, so not removed\n",
            "Package 'nvidia-headless-520' is not installed, so not removed\n",
            "Package 'nvidia-headless-520-open' is not installed, so not removed\n",
            "Package 'nvidia-headless-525' is not installed, so not removed\n",
            "Package 'nvidia-headless-525-open' is not installed, so not removed\n",
            "Package 'nvidia-headless-525-server' is not installed, so not removed\n",
            "Package 'nvidia-headless-535-open' is not installed, so not removed\n",
            "Package 'nvidia-headless-535-server' is not installed, so not removed\n",
            "Package 'nvidia-headless-535-server-open' is not installed, so not removed\n",
            "Package 'nvidia-headless-545' is not installed, so not removed\n",
            "Package 'nvidia-headless-545-open' is not installed, so not removed\n",
            "Package 'nvidia-headless-550-server' is not installed, so not removed\n",
            "Package 'nvidia-headless-550-server-open' is not installed, so not removed\n",
            "Package 'nvidia-headless-565-server' is not installed, so not removed\n",
            "Package 'nvidia-headless-565-server-open' is not installed, so not removed\n",
            "Package 'nvidia-headless-570-server' is not installed, so not removed\n",
            "Package 'nvidia-headless-570-server-open' is not installed, so not removed\n",
            "Package 'nvidia-headless-580-server' is not installed, so not removed\n",
            "Package 'nvidia-headless-580-server-open' is not installed, so not removed\n",
            "Package 'nvidia-headless-no-dkms-390' is not installed, so not removed\n",
            "Package 'nvidia-headless-no-dkms-418-server' is not installed, so not removed\n",
            "Package 'nvidia-headless-no-dkms-440-server' is not installed, so not removed\n",
            "Package 'nvidia-headless-no-dkms-450-server' is not installed, so not removed\n",
            "Package 'nvidia-headless-no-dkms-460' is not installed, so not removed\n",
            "Package 'nvidia-headless-no-dkms-460-server' is not installed, so not removed\n",
            "Package 'nvidia-headless-no-dkms-465' is not installed, so not removed\n",
            "Package 'nvidia-headless-no-dkms-470' is not installed, so not removed\n",
            "Package 'nvidia-headless-no-dkms-470-server' is not installed, so not removed\n",
            "Package 'nvidia-headless-no-dkms-495' is not installed, so not removed\n",
            "Package 'nvidia-headless-no-dkms-510' is not installed, so not removed\n",
            "Package 'nvidia-headless-no-dkms-510-server' is not installed, so not removed\n",
            "Package 'nvidia-headless-no-dkms-515' is not installed, so not removed\n",
            "Package 'nvidia-headless-no-dkms-515-open' is not installed, so not removed\n",
            "Package 'nvidia-headless-no-dkms-515-server' is not installed, so not removed\n",
            "Package 'nvidia-headless-no-dkms-520' is not installed, so not removed\n",
            "Package 'nvidia-headless-no-dkms-520-open' is not installed, so not removed\n",
            "Package 'nvidia-headless-no-dkms-525' is not installed, so not removed\n",
            "Package 'nvidia-headless-no-dkms-525-open' is not installed, so not removed\n",
            "Package 'nvidia-headless-no-dkms-525-server' is not installed, so not removed\n",
            "Package 'nvidia-headless-no-dkms-535-open' is not installed, so not removed\n",
            "Package 'nvidia-headless-no-dkms-535-server' is not installed, so not removed\n",
            "Package 'nvidia-headless-no-dkms-535-server-open' is not installed, so not removed\n",
            "Package 'nvidia-headless-no-dkms-545' is not installed, so not removed\n",
            "Package 'nvidia-headless-no-dkms-545-open' is not installed, so not removed\n",
            "Package 'nvidia-headless-no-dkms-550-server' is not installed, so not removed\n",
            "Package 'nvidia-headless-no-dkms-550-server-open' is not installed, so not removed\n",
            "Package 'nvidia-headless-no-dkms-565-server' is not installed, so not removed\n",
            "Package 'nvidia-headless-no-dkms-565-server-open' is not installed, so not removed\n",
            "Package 'nvidia-headless-no-dkms-570-server' is not installed, so not removed\n",
            "Package 'nvidia-headless-no-dkms-570-server-open' is not installed, so not removed\n",
            "Package 'nvidia-headless-no-dkms-580-server' is not installed, so not removed\n",
            "Package 'nvidia-headless-no-dkms-580-server-open' is not installed, so not removed\n",
            "Package 'nvidia-kernel-common-390' is not installed, so not removed\n",
            "Package 'nvidia-kernel-common-418-server' is not installed, so not removed\n",
            "Package 'nvidia-kernel-common-440-server' is not installed, so not removed\n",
            "Package 'nvidia-kernel-common-450-server' is not installed, so not removed\n",
            "Package 'nvidia-kernel-common-460' is not installed, so not removed\n",
            "Package 'nvidia-kernel-common-460-server' is not installed, so not removed\n",
            "Package 'nvidia-kernel-common-465' is not installed, so not removed\n",
            "Package 'nvidia-kernel-common-470' is not installed, so not removed\n",
            "Package 'nvidia-kernel-common-470-server' is not installed, so not removed\n",
            "Package 'nvidia-kernel-common-495' is not installed, so not removed\n",
            "Package 'nvidia-kernel-common-510' is not installed, so not removed\n",
            "Package 'nvidia-kernel-common-510-server' is not installed, so not removed\n",
            "Package 'nvidia-kernel-common-515' is not installed, so not removed\n",
            "Package 'nvidia-kernel-common-515-server' is not installed, so not removed\n",
            "Package 'nvidia-kernel-common-520' is not installed, so not removed\n",
            "Package 'nvidia-kernel-common-525' is not installed, so not removed\n",
            "Package 'nvidia-kernel-common-525-server' is not installed, so not removed\n",
            "Package 'nvidia-kernel-common-535-server' is not installed, so not removed\n",
            "Package 'nvidia-kernel-common-545' is not installed, so not removed\n",
            "Package 'nvidia-kernel-common-550-server' is not installed, so not removed\n",
            "Package 'nvidia-kernel-common-565-server' is not installed, so not removed\n",
            "Package 'nvidia-kernel-common-570-server' is not installed, so not removed\n",
            "Package 'nvidia-kernel-common-580-server' is not installed, so not removed\n",
            "Package 'nvidia-kernel-source-390' is not installed, so not removed\n",
            "Package 'nvidia-kernel-source-418-server' is not installed, so not removed\n",
            "Package 'nvidia-kernel-source-440-server' is not installed, so not removed\n",
            "Package 'nvidia-kernel-source-450-server' is not installed, so not removed\n",
            "Package 'nvidia-kernel-source-460' is not installed, so not removed\n",
            "Package 'nvidia-kernel-source-460-server' is not installed, so not removed\n",
            "Package 'nvidia-kernel-source-465' is not installed, so not removed\n",
            "Package 'nvidia-kernel-source-470' is not installed, so not removed\n",
            "Package 'nvidia-kernel-source-470-server' is not installed, so not removed\n",
            "Package 'nvidia-kernel-source-495' is not installed, so not removed\n",
            "Package 'nvidia-kernel-source-510' is not installed, so not removed\n",
            "Package 'nvidia-kernel-source-510-server' is not installed, so not removed\n",
            "Package 'nvidia-kernel-source-515' is not installed, so not removed\n",
            "Package 'nvidia-kernel-source-515-open' is not installed, so not removed\n",
            "Package 'nvidia-kernel-source-515-server' is not installed, so not removed\n",
            "Package 'nvidia-kernel-source-520' is not installed, so not removed\n",
            "Package 'nvidia-kernel-source-520-open' is not installed, so not removed\n",
            "Package 'nvidia-kernel-source-525' is not installed, so not removed\n",
            "Package 'nvidia-kernel-source-525-open' is not installed, so not removed\n",
            "Package 'nvidia-kernel-source-525-server' is not installed, so not removed\n",
            "Package 'nvidia-kernel-source-535-open' is not installed, so not removed\n",
            "Package 'nvidia-kernel-source-535-server' is not installed, so not removed\n",
            "Package 'nvidia-kernel-source-535-server-open' is not installed, so not removed\n",
            "Package 'nvidia-kernel-source-545' is not installed, so not removed\n",
            "Package 'nvidia-kernel-source-545-open' is not installed, so not removed\n",
            "Package 'nvidia-kernel-source-550-server' is not installed, so not removed\n",
            "Package 'nvidia-kernel-source-550-server-open' is not installed, so not removed\n",
            "Package 'nvidia-kernel-source-565-server' is not installed, so not removed\n",
            "Package 'nvidia-kernel-source-565-server-open' is not installed, so not removed\n",
            "Package 'nvidia-kernel-source-570-server' is not installed, so not removed\n",
            "Package 'nvidia-kernel-source-570-server-open' is not installed, so not removed\n",
            "Package 'nvidia-kernel-source-580-server' is not installed, so not removed\n",
            "Package 'nvidia-kernel-source-580-server-open' is not installed, so not removed\n",
            "Package 'nvidia-utils-390' is not installed, so not removed\n",
            "Package 'nvidia-utils-418-server' is not installed, so not removed\n",
            "Package 'nvidia-utils-440-server' is not installed, so not removed\n",
            "Package 'nvidia-utils-450-server' is not installed, so not removed\n",
            "Package 'nvidia-utils-460' is not installed, so not removed\n",
            "Package 'nvidia-utils-460-server' is not installed, so not removed\n",
            "Package 'nvidia-utils-465' is not installed, so not removed\n",
            "Package 'nvidia-utils-470' is not installed, so not removed\n",
            "Package 'nvidia-utils-470-server' is not installed, so not removed\n",
            "Package 'nvidia-utils-495' is not installed, so not removed\n",
            "Package 'nvidia-utils-510' is not installed, so not removed\n",
            "Package 'nvidia-utils-510-server' is not installed, so not removed\n",
            "Package 'nvidia-utils-515' is not installed, so not removed\n",
            "Package 'nvidia-utils-515-server' is not installed, so not removed\n",
            "Package 'nvidia-utils-520' is not installed, so not removed\n",
            "Package 'nvidia-utils-525' is not installed, so not removed\n",
            "Package 'nvidia-utils-525-server' is not installed, so not removed\n",
            "Package 'nvidia-utils-535-server' is not installed, so not removed\n",
            "Package 'nvidia-utils-545' is not installed, so not removed\n",
            "Package 'nvidia-utils-550-server' is not installed, so not removed\n",
            "Package 'nvidia-utils-565-server' is not installed, so not removed\n",
            "Package 'nvidia-utils-570-server' is not installed, so not removed\n",
            "Package 'nvidia-utils-580-server' is not installed, so not removed\n",
            "Package 'nvidia-common' is not installed, so not removed\n",
            "Package 'cuda-drivers-fabricmanager-450' is not installed, so not removed\n",
            "Package 'cuda-drivers-fabricmanager-460' is not installed, so not removed\n",
            "Package 'cuda-drivers-fabricmanager-470' is not installed, so not removed\n",
            "Package 'cuda-drivers-fabricmanager-510' is not installed, so not removed\n",
            "Package 'cuda-drivers-fabricmanager-580' is not installed, so not removed\n",
            "Package 'libcuda1-384' is not installed, so not removed\n",
            "Package 'nvidia-compute-utils-575' is not installed, so not removed\n",
            "Package 'nvidia-compute-utils-575-server' is not installed, so not removed\n",
            "Package 'nvidia-dkms-575' is not installed, so not removed\n",
            "Package 'nvidia-dkms-575-open' is not installed, so not removed\n",
            "Package 'nvidia-dkms-575-server' is not installed, so not removed\n",
            "Package 'nvidia-dkms-575-server-open' is not installed, so not removed\n",
            "Package 'nvidia-driver-575' is not installed, so not removed\n",
            "Package 'nvidia-driver-575-open' is not installed, so not removed\n",
            "Package 'nvidia-driver-575-server' is not installed, so not removed\n",
            "Package 'nvidia-driver-575-server-open' is not installed, so not removed\n",
            "Package 'nvidia-fabricmanager-450' is not installed, so not removed\n",
            "Package 'nvidia-fabricmanager-460' is not installed, so not removed\n",
            "Package 'nvidia-fabricmanager-470' is not installed, so not removed\n",
            "Package 'nvidia-fabricmanager-510' is not installed, so not removed\n",
            "Package 'nvidia-fabricmanager-580' is not installed, so not removed\n",
            "Package 'nvidia-fabricmanager-dev-450' is not installed, so not removed\n",
            "Package 'nvidia-fabricmanager-dev-460' is not installed, so not removed\n",
            "Package 'nvidia-fabricmanager-dev-470' is not installed, so not removed\n",
            "Package 'nvidia-fabricmanager-dev-510' is not installed, so not removed\n",
            "Package 'nvidia-fabricmanager-dev-580' is not installed, so not removed\n",
            "Package 'nvidia-firmware-550-server-550.54.14' is not installed, so not removed\n",
            "Package 'nvidia-firmware-575-575.64.03' is not installed, so not removed\n",
            "Package 'nvidia-firmware-575-server-575.57.08' is not installed, so not removed\n",
            "Package 'nvidia-headless-575' is not installed, so not removed\n",
            "Package 'nvidia-headless-575-open' is not installed, so not removed\n",
            "Package 'nvidia-headless-575-server' is not installed, so not removed\n",
            "Package 'nvidia-headless-575-server-open' is not installed, so not removed\n",
            "Package 'nvidia-headless-no-dkms-575' is not installed, so not removed\n",
            "Package 'nvidia-headless-no-dkms-575-open' is not installed, so not removed\n",
            "Package 'nvidia-headless-no-dkms-575-server' is not installed, so not removed\n",
            "Package 'nvidia-headless-no-dkms-575-server-open' is not installed, so not removed\n",
            "Package 'nvidia-imex-580' is not installed, so not removed\n",
            "Package 'nvidia-kernel-common-575' is not installed, so not removed\n",
            "Package 'nvidia-kernel-common-575-server' is not installed, so not removed\n",
            "Package 'nvidia-kernel-source-575' is not installed, so not removed\n",
            "Package 'nvidia-kernel-source-575-open' is not installed, so not removed\n",
            "Package 'nvidia-kernel-source-575-server' is not installed, so not removed\n",
            "Package 'nvidia-kernel-source-575-server-open' is not installed, so not removed\n",
            "Package 'nvidia-libopencl1-384' is not installed, so not removed\n",
            "Package 'nvidia-opencl-icd-384' is not installed, so not removed\n",
            "Package 'nvidia-utils-575' is not installed, so not removed\n",
            "Package 'nvidia-utils-575-server' is not installed, so not removed\n",
            "Package 'cuda-11-7' is not installed, so not removed\n",
            "Package 'cuda-cccl-11-7' is not installed, so not removed\n",
            "Package 'cuda-command-line-tools-11-7' is not installed, so not removed\n",
            "Package 'cuda-compiler-11-7' is not installed, so not removed\n",
            "Package 'cuda-cudart-11-7' is not installed, so not removed\n",
            "Package 'cuda-cudart-dev-11-7' is not installed, so not removed\n",
            "Package 'cuda-cuobjdump-11-7' is not installed, so not removed\n",
            "Package 'cuda-cupti-11-7' is not installed, so not removed\n",
            "Package 'cuda-cupti-dev-11-7' is not installed, so not removed\n",
            "Package 'cuda-cuxxfilt-11-7' is not installed, so not removed\n",
            "Package 'cuda-demo-suite-11-7' is not installed, so not removed\n",
            "Package 'cuda-documentation-11-7' is not installed, so not removed\n",
            "Package 'cuda-driver-dev-11-7' is not installed, so not removed\n",
            "Package 'cuda-gdb-11-7' is not installed, so not removed\n",
            "Package 'cuda-gdb-src-11-7' is not installed, so not removed\n",
            "Package 'cuda-libraries-11-7' is not installed, so not removed\n",
            "Package 'cuda-libraries-dev-11-7' is not installed, so not removed\n",
            "Package 'cuda-memcheck-11-7' is not installed, so not removed\n",
            "Package 'cuda-minimal-build-11-7' is not installed, so not removed\n",
            "Package 'cuda-nsight-11-7' is not installed, so not removed\n",
            "Package 'cuda-nsight-compute-11-7' is not installed, so not removed\n",
            "Package 'cuda-nsight-systems-11-7' is not installed, so not removed\n",
            "Package 'cuda-nvcc-11-7' is not installed, so not removed\n",
            "Package 'cuda-nvdisasm-11-7' is not installed, so not removed\n",
            "Package 'cuda-nvml-dev-11-7' is not installed, so not removed\n",
            "Package 'cuda-nvprof-11-7' is not installed, so not removed\n",
            "Package 'cuda-nvprune-11-7' is not installed, so not removed\n",
            "Package 'cuda-nvrtc-11-7' is not installed, so not removed\n",
            "Package 'cuda-nvrtc-dev-11-7' is not installed, so not removed\n",
            "Package 'cuda-nvtx-11-7' is not installed, so not removed\n",
            "Package 'cuda-nvvp-11-7' is not installed, so not removed\n",
            "Package 'cuda-runtime-11-7' is not installed, so not removed\n",
            "Package 'cuda-sanitizer-11-7' is not installed, so not removed\n",
            "Package 'cuda-toolkit-11-7' is not installed, so not removed\n",
            "Package 'cuda-toolkit-11-7-config-common' is not installed, so not removed\n",
            "Package 'cuda-tools-11-7' is not installed, so not removed\n",
            "Package 'cuda-visual-tools-11-7' is not installed, so not removed\n",
            "Package 'nvidia-gds-11-7' is not installed, so not removed\n",
            "Package 'cuda-11-8' is not installed, so not removed\n",
            "Package 'cuda-cccl-11-8' is not installed, so not removed\n",
            "Package 'cuda-command-line-tools-11-8' is not installed, so not removed\n",
            "Package 'cuda-compat-11-8' is not installed, so not removed\n",
            "Package 'cuda-compiler-11-8' is not installed, so not removed\n",
            "Package 'cuda-cudart-11-8' is not installed, so not removed\n",
            "Package 'cuda-cudart-dev-11-8' is not installed, so not removed\n",
            "Package 'cuda-cuobjdump-11-8' is not installed, so not removed\n",
            "Package 'cuda-cupti-11-8' is not installed, so not removed\n",
            "Package 'cuda-cupti-dev-11-8' is not installed, so not removed\n",
            "Package 'cuda-cuxxfilt-11-8' is not installed, so not removed\n",
            "Package 'cuda-demo-suite-11-8' is not installed, so not removed\n",
            "Package 'cuda-documentation-11-8' is not installed, so not removed\n",
            "Package 'cuda-driver-dev-11-8' is not installed, so not removed\n",
            "Package 'cuda-drivers-520' is not installed, so not removed\n",
            "Package 'cuda-drivers-fabricmanager-520' is not installed, so not removed\n",
            "Package 'cuda-gdb-11-8' is not installed, so not removed\n",
            "Package 'cuda-gdb-src-11-8' is not installed, so not removed\n",
            "Package 'cuda-libraries-11-8' is not installed, so not removed\n",
            "Package 'cuda-libraries-dev-11-8' is not installed, so not removed\n",
            "Package 'cuda-memcheck-11-8' is not installed, so not removed\n",
            "Package 'cuda-minimal-build-11-8' is not installed, so not removed\n",
            "Package 'cuda-nsight-11-8' is not installed, so not removed\n",
            "Package 'cuda-nsight-compute-11-8' is not installed, so not removed\n",
            "Package 'cuda-nsight-systems-11-8' is not installed, so not removed\n",
            "Package 'cuda-nvcc-11-8' is not installed, so not removed\n",
            "Package 'cuda-nvdisasm-11-8' is not installed, so not removed\n",
            "Package 'cuda-nvml-dev-11-8' is not installed, so not removed\n",
            "Package 'cuda-nvprof-11-8' is not installed, so not removed\n",
            "Package 'cuda-nvprune-11-8' is not installed, so not removed\n",
            "Package 'cuda-nvrtc-11-8' is not installed, so not removed\n",
            "Package 'cuda-nvrtc-dev-11-8' is not installed, so not removed\n",
            "Package 'cuda-nvtx-11-8' is not installed, so not removed\n",
            "Package 'cuda-nvvp-11-8' is not installed, so not removed\n",
            "Package 'cuda-profiler-api-11-8' is not installed, so not removed\n",
            "Package 'cuda-runtime-11-8' is not installed, so not removed\n",
            "Package 'cuda-sanitizer-11-8' is not installed, so not removed\n",
            "Package 'cuda-toolkit-11-8' is not installed, so not removed\n",
            "Package 'cuda-toolkit-11-8-config-common' is not installed, so not removed\n",
            "Package 'cuda-toolkit-11-config-common' is not installed, so not removed\n",
            "Package 'cuda-tools-11-8' is not installed, so not removed\n",
            "Package 'cuda-visual-tools-11-8' is not installed, so not removed\n",
            "Package 'nvidia-fabricmanager-520' is not installed, so not removed\n",
            "Package 'nvidia-fabricmanager-dev-520' is not installed, so not removed\n",
            "Package 'nvidia-gds-11-8' is not installed, so not removed\n",
            "Package 'nvidia-kernel-open-520' is not installed, so not removed\n",
            "Package 'cuda-12-0' is not installed, so not removed\n",
            "Package 'cuda-cccl-12-0' is not installed, so not removed\n",
            "Package 'cuda-command-line-tools-12-0' is not installed, so not removed\n",
            "Package 'cuda-compiler-12-0' is not installed, so not removed\n",
            "Package 'cuda-cudart-12-0' is not installed, so not removed\n",
            "Package 'cuda-cudart-dev-12-0' is not installed, so not removed\n",
            "Package 'cuda-cuobjdump-12-0' is not installed, so not removed\n",
            "Package 'cuda-cupti-12-0' is not installed, so not removed\n",
            "Package 'cuda-cupti-dev-12-0' is not installed, so not removed\n",
            "Package 'cuda-cuxxfilt-12-0' is not installed, so not removed\n",
            "Package 'cuda-demo-suite-12-0' is not installed, so not removed\n",
            "Package 'cuda-documentation-12-0' is not installed, so not removed\n",
            "Package 'cuda-driver-dev-12-0' is not installed, so not removed\n",
            "Package 'cuda-gdb-12-0' is not installed, so not removed\n",
            "Package 'cuda-gdb-src-12-0' is not installed, so not removed\n",
            "Package 'cuda-libraries-12-0' is not installed, so not removed\n",
            "Package 'cuda-libraries-dev-12-0' is not installed, so not removed\n",
            "Package 'cuda-minimal-build-12-0' is not installed, so not removed\n",
            "Package 'cuda-nsight-12-0' is not installed, so not removed\n",
            "Package 'cuda-nsight-compute-12-0' is not installed, so not removed\n",
            "Package 'cuda-nsight-systems-12-0' is not installed, so not removed\n",
            "Package 'cuda-nvcc-12-0' is not installed, so not removed\n",
            "Package 'cuda-nvdisasm-12-0' is not installed, so not removed\n",
            "Package 'cuda-nvml-dev-12-0' is not installed, so not removed\n",
            "Package 'cuda-nvprof-12-0' is not installed, so not removed\n",
            "Package 'cuda-nvprune-12-0' is not installed, so not removed\n",
            "Package 'cuda-nvrtc-12-0' is not installed, so not removed\n",
            "Package 'cuda-nvrtc-dev-12-0' is not installed, so not removed\n",
            "Package 'cuda-nvtx-12-0' is not installed, so not removed\n",
            "Package 'cuda-nvvp-12-0' is not installed, so not removed\n",
            "Package 'cuda-opencl-12-0' is not installed, so not removed\n",
            "Package 'cuda-opencl-dev-12-0' is not installed, so not removed\n",
            "Package 'cuda-profiler-api-12-0' is not installed, so not removed\n",
            "Package 'cuda-runtime-12-0' is not installed, so not removed\n",
            "Package 'cuda-sanitizer-12-0' is not installed, so not removed\n",
            "Package 'cuda-toolkit-12-0' is not installed, so not removed\n",
            "Package 'cuda-toolkit-12-0-config-common' is not installed, so not removed\n",
            "Package 'cuda-tools-12-0' is not installed, so not removed\n",
            "Package 'cuda-visual-tools-12-0' is not installed, so not removed\n",
            "Package 'nvidia-gds-12-0' is not installed, so not removed\n",
            "Package 'cuda-compat-12-1' is not installed, so not removed\n",
            "Package 'cuda-drivers-530' is not installed, so not removed\n",
            "Package 'cuda-drivers-fabricmanager-530' is not installed, so not removed\n",
            "Package 'nvidia-fabricmanager-530' is not installed, so not removed\n",
            "Package 'nvidia-fabricmanager-dev-530' is not installed, so not removed\n",
            "Package 'nvidia-kernel-open-530' is not installed, so not removed\n",
            "Package 'cuda-compat-11-7' is not installed, so not removed\n",
            "Package 'cuda-drivers-515' is not installed, so not removed\n",
            "Package 'nvidia-kernel-open-515' is not installed, so not removed\n",
            "Package 'nvidia-container-runtime' is not installed, so not removed\n",
            "Package 'nvidia-docker2' is not installed, so not removed\n",
            "Package 'cuda-12-1' is not installed, so not removed\n",
            "Package 'cuda-cccl-12-1' is not installed, so not removed\n",
            "Package 'cuda-command-line-tools-12-1' is not installed, so not removed\n",
            "Package 'cuda-compiler-12-1' is not installed, so not removed\n",
            "Package 'cuda-cudart-12-1' is not installed, so not removed\n",
            "Package 'cuda-cudart-dev-12-1' is not installed, so not removed\n",
            "Package 'cuda-cuobjdump-12-1' is not installed, so not removed\n",
            "Package 'cuda-cupti-12-1' is not installed, so not removed\n",
            "Package 'cuda-cupti-dev-12-1' is not installed, so not removed\n",
            "Package 'cuda-cuxxfilt-12-1' is not installed, so not removed\n",
            "Package 'cuda-demo-suite-12-1' is not installed, so not removed\n",
            "Package 'cuda-documentation-12-1' is not installed, so not removed\n",
            "Package 'cuda-driver-dev-12-1' is not installed, so not removed\n",
            "Package 'cuda-gdb-12-1' is not installed, so not removed\n",
            "Package 'cuda-gdb-src-12-1' is not installed, so not removed\n",
            "Package 'cuda-libraries-12-1' is not installed, so not removed\n",
            "Package 'cuda-libraries-dev-12-1' is not installed, so not removed\n",
            "Package 'cuda-minimal-build-12-1' is not installed, so not removed\n",
            "Package 'cuda-nsight-12-1' is not installed, so not removed\n",
            "Package 'cuda-nsight-compute-12-1' is not installed, so not removed\n",
            "Package 'cuda-nsight-systems-12-1' is not installed, so not removed\n",
            "Package 'cuda-nvcc-12-1' is not installed, so not removed\n",
            "Package 'cuda-nvdisasm-12-1' is not installed, so not removed\n",
            "Package 'cuda-nvml-dev-12-1' is not installed, so not removed\n",
            "Package 'cuda-nvprof-12-1' is not installed, so not removed\n",
            "Package 'cuda-nvprune-12-1' is not installed, so not removed\n",
            "Package 'cuda-nvrtc-12-1' is not installed, so not removed\n",
            "Package 'cuda-nvrtc-dev-12-1' is not installed, so not removed\n",
            "Package 'cuda-nvtx-12-1' is not installed, so not removed\n",
            "Package 'cuda-nvvp-12-1' is not installed, so not removed\n",
            "Package 'cuda-opencl-12-1' is not installed, so not removed\n",
            "Package 'cuda-opencl-dev-12-1' is not installed, so not removed\n",
            "Package 'cuda-profiler-api-12-1' is not installed, so not removed\n",
            "Package 'cuda-runtime-12-1' is not installed, so not removed\n",
            "Package 'cuda-sanitizer-12-1' is not installed, so not removed\n",
            "Package 'cuda-toolkit-12-1' is not installed, so not removed\n",
            "Package 'cuda-toolkit-12-1-config-common' is not installed, so not removed\n",
            "Package 'cuda-tools-12-1' is not installed, so not removed\n",
            "Package 'cuda-visual-tools-12-1' is not installed, so not removed\n",
            "Package 'nvidia-gds-12-1' is not installed, so not removed\n",
            "Package 'cuda-12-2' is not installed, so not removed\n",
            "Package 'cuda-cccl-12-2' is not installed, so not removed\n",
            "Package 'cuda-command-line-tools-12-2' is not installed, so not removed\n",
            "Package 'cuda-compiler-12-2' is not installed, so not removed\n",
            "Package 'cuda-crt-12-2' is not installed, so not removed\n",
            "Package 'cuda-cudart-12-2' is not installed, so not removed\n",
            "Package 'cuda-cudart-dev-12-2' is not installed, so not removed\n",
            "Package 'cuda-cuobjdump-12-2' is not installed, so not removed\n",
            "Package 'cuda-cupti-12-2' is not installed, so not removed\n",
            "Package 'cuda-cupti-dev-12-2' is not installed, so not removed\n",
            "Package 'cuda-cuxxfilt-12-2' is not installed, so not removed\n",
            "Package 'cuda-demo-suite-12-2' is not installed, so not removed\n",
            "Package 'cuda-documentation-12-2' is not installed, so not removed\n",
            "Package 'cuda-driver-dev-12-2' is not installed, so not removed\n",
            "Package 'cuda-gdb-12-2' is not installed, so not removed\n",
            "Package 'cuda-gdb-src-12-2' is not installed, so not removed\n",
            "Package 'cuda-libraries-12-2' is not installed, so not removed\n",
            "Package 'cuda-libraries-dev-12-2' is not installed, so not removed\n",
            "Package 'cuda-minimal-build-12-2' is not installed, so not removed\n",
            "Package 'cuda-nsight-12-2' is not installed, so not removed\n",
            "Package 'cuda-nsight-compute-12-2' is not installed, so not removed\n",
            "Package 'cuda-nsight-systems-12-2' is not installed, so not removed\n",
            "Package 'cuda-nvcc-12-2' is not installed, so not removed\n",
            "Package 'cuda-nvdisasm-12-2' is not installed, so not removed\n",
            "Package 'cuda-nvml-dev-12-2' is not installed, so not removed\n",
            "Package 'cuda-nvprof-12-2' is not installed, so not removed\n",
            "Package 'cuda-nvprune-12-2' is not installed, so not removed\n",
            "Package 'cuda-nvrtc-12-2' is not installed, so not removed\n",
            "Package 'cuda-nvrtc-dev-12-2' is not installed, so not removed\n",
            "Package 'cuda-nvtx-12-2' is not installed, so not removed\n",
            "Package 'cuda-nvvm-12-2' is not installed, so not removed\n",
            "Package 'cuda-nvvp-12-2' is not installed, so not removed\n",
            "Package 'cuda-opencl-12-2' is not installed, so not removed\n",
            "Package 'cuda-opencl-dev-12-2' is not installed, so not removed\n",
            "Package 'cuda-profiler-api-12-2' is not installed, so not removed\n",
            "Package 'cuda-runtime-12-2' is not installed, so not removed\n",
            "Package 'cuda-sanitizer-12-2' is not installed, so not removed\n",
            "Package 'cuda-toolkit-12-2' is not installed, so not removed\n",
            "Package 'cuda-toolkit-12-2-config-common' is not installed, so not removed\n",
            "Package 'cuda-tools-12-2' is not installed, so not removed\n",
            "Package 'cuda-visual-tools-12-2' is not installed, so not removed\n",
            "Package 'nvidia-gds-12-2' is not installed, so not removed\n",
            "Package 'cuda-compat-12-0' is not installed, so not removed\n",
            "Package 'cuda-drivers-525' is not installed, so not removed\n",
            "Package 'cuda-drivers-fabricmanager-525' is not installed, so not removed\n",
            "Package 'nvidia-fabricmanager-525' is not installed, so not removed\n",
            "Package 'nvidia-fabricmanager-dev-525' is not installed, so not removed\n",
            "Package 'nvidia-kernel-open-525' is not installed, so not removed\n",
            "Package 'cuda-cccl-12-3' is not installed, so not removed\n",
            "Package 'cuda-compat-12-3' is not installed, so not removed\n",
            "Package 'cuda-cudart-12-3' is not installed, so not removed\n",
            "Package 'cuda-cudart-dev-12-3' is not installed, so not removed\n",
            "Package 'cuda-cuobjdump-12-3' is not installed, so not removed\n",
            "Package 'cuda-cupti-12-3' is not installed, so not removed\n",
            "Package 'cuda-cupti-dev-12-3' is not installed, so not removed\n",
            "Package 'cuda-cuxxfilt-12-3' is not installed, so not removed\n",
            "Package 'cuda-demo-suite-12-3' is not installed, so not removed\n",
            "Package 'cuda-documentation-12-3' is not installed, so not removed\n",
            "Package 'cuda-driver-dev-12-3' is not installed, so not removed\n",
            "Package 'cuda-drivers-545' is not installed, so not removed\n",
            "Package 'cuda-drivers-fabricmanager-545' is not installed, so not removed\n",
            "Package 'cuda-gdb-12-3' is not installed, so not removed\n",
            "Package 'cuda-gdb-src-12-3' is not installed, so not removed\n",
            "Package 'cuda-nsight-12-3' is not installed, so not removed\n",
            "Package 'cuda-nvdisasm-12-3' is not installed, so not removed\n",
            "Package 'cuda-nvml-dev-12-3' is not installed, so not removed\n",
            "Package 'cuda-nvprof-12-3' is not installed, so not removed\n",
            "Package 'cuda-nvprune-12-3' is not installed, so not removed\n",
            "Package 'cuda-nvtx-12-3' is not installed, so not removed\n",
            "Package 'cuda-nvvp-12-3' is not installed, so not removed\n",
            "Package 'cuda-opencl-12-3' is not installed, so not removed\n",
            "Package 'cuda-opencl-dev-12-3' is not installed, so not removed\n",
            "Package 'cuda-profiler-api-12-3' is not installed, so not removed\n",
            "Package 'cuda-sanitizer-12-3' is not installed, so not removed\n",
            "Package 'cuda-toolkit-12-3-config-common' is not installed, so not removed\n",
            "Package 'nvidia-compute-utils-430' is not installed, so not removed\n",
            "Package 'nvidia-dkms-430' is not installed, so not removed\n",
            "Package 'nvidia-driver-430' is not installed, so not removed\n",
            "Package 'nvidia-fabricmanager-545' is not installed, so not removed\n",
            "Package 'nvidia-fabricmanager-dev-545' is not installed, so not removed\n",
            "Package 'nvidia-headless-430' is not installed, so not removed\n",
            "Package 'nvidia-headless-no-dkms-430' is not installed, so not removed\n",
            "Package 'nvidia-kernel-common-430' is not installed, so not removed\n",
            "Package 'nvidia-kernel-open-545' is not installed, so not removed\n",
            "Package 'nvidia-kernel-source-430' is not installed, so not removed\n",
            "Package 'nvidia-utils-430' is not installed, so not removed\n",
            "Package 'cuda-12-3' is not installed, so not removed\n",
            "Package 'cuda-command-line-tools-12-3' is not installed, so not removed\n",
            "Package 'cuda-compiler-12-3' is not installed, so not removed\n",
            "Package 'cuda-crt-12-3' is not installed, so not removed\n",
            "Package 'cuda-libraries-12-3' is not installed, so not removed\n",
            "Package 'cuda-libraries-dev-12-3' is not installed, so not removed\n",
            "Package 'cuda-minimal-build-12-3' is not installed, so not removed\n",
            "Package 'cuda-nsight-compute-12-3' is not installed, so not removed\n",
            "Package 'cuda-nsight-systems-12-3' is not installed, so not removed\n",
            "Package 'cuda-nvcc-12-3' is not installed, so not removed\n",
            "Package 'cuda-nvrtc-12-3' is not installed, so not removed\n",
            "Package 'cuda-nvrtc-dev-12-3' is not installed, so not removed\n",
            "Package 'cuda-nvvm-12-3' is not installed, so not removed\n",
            "Package 'cuda-runtime-12-3' is not installed, so not removed\n",
            "Package 'cuda-toolkit-12-3' is not installed, so not removed\n",
            "Package 'cuda-tools-12-3' is not installed, so not removed\n",
            "Package 'cuda-visual-tools-12-3' is not installed, so not removed\n",
            "Package 'nvidia-gds-12-3' is not installed, so not removed\n",
            "Package 'nvidia-firmware-550-550.54.14' is not installed, so not removed\n",
            "Package 'nvidia-firmware-550-550.54.15' is not installed, so not removed\n",
            "Package 'cuda-12-4' is not installed, so not removed\n",
            "Package 'cuda-cccl-12-4' is not installed, so not removed\n",
            "Package 'cuda-command-line-tools-12-4' is not installed, so not removed\n",
            "Package 'cuda-compiler-12-4' is not installed, so not removed\n",
            "Package 'cuda-crt-12-4' is not installed, so not removed\n",
            "Package 'cuda-cudart-12-4' is not installed, so not removed\n",
            "Package 'cuda-cudart-dev-12-4' is not installed, so not removed\n",
            "Package 'cuda-cuobjdump-12-4' is not installed, so not removed\n",
            "Package 'cuda-cupti-12-4' is not installed, so not removed\n",
            "Package 'cuda-cupti-dev-12-4' is not installed, so not removed\n",
            "Package 'cuda-cuxxfilt-12-4' is not installed, so not removed\n",
            "Package 'cuda-demo-suite-12-4' is not installed, so not removed\n",
            "Package 'cuda-documentation-12-4' is not installed, so not removed\n",
            "Package 'cuda-driver-dev-12-4' is not installed, so not removed\n",
            "Package 'cuda-gdb-12-4' is not installed, so not removed\n",
            "Package 'cuda-gdb-src-12-4' is not installed, so not removed\n",
            "Package 'cuda-libraries-12-4' is not installed, so not removed\n",
            "Package 'cuda-libraries-dev-12-4' is not installed, so not removed\n",
            "Package 'cuda-minimal-build-12-4' is not installed, so not removed\n",
            "Package 'cuda-nsight-12-4' is not installed, so not removed\n",
            "Package 'cuda-nsight-compute-12-4' is not installed, so not removed\n",
            "Package 'cuda-nsight-systems-12-4' is not installed, so not removed\n",
            "Package 'cuda-nvcc-12-4' is not installed, so not removed\n",
            "Package 'cuda-nvdisasm-12-4' is not installed, so not removed\n",
            "Package 'cuda-nvml-dev-12-4' is not installed, so not removed\n",
            "Package 'cuda-nvprof-12-4' is not installed, so not removed\n",
            "Package 'cuda-nvprune-12-4' is not installed, so not removed\n",
            "Package 'cuda-nvrtc-12-4' is not installed, so not removed\n",
            "Package 'cuda-nvrtc-dev-12-4' is not installed, so not removed\n",
            "Package 'cuda-nvtx-12-4' is not installed, so not removed\n",
            "Package 'cuda-nvvm-12-4' is not installed, so not removed\n",
            "Package 'cuda-nvvp-12-4' is not installed, so not removed\n",
            "Package 'cuda-opencl-12-4' is not installed, so not removed\n",
            "Package 'cuda-opencl-dev-12-4' is not installed, so not removed\n",
            "Package 'cuda-profiler-api-12-4' is not installed, so not removed\n",
            "Package 'cuda-runtime-12-4' is not installed, so not removed\n",
            "Package 'cuda-sanitizer-12-4' is not installed, so not removed\n",
            "Package 'cuda-toolkit-12-4' is not installed, so not removed\n",
            "Package 'cuda-toolkit-12-4-config-common' is not installed, so not removed\n",
            "Package 'cuda-tools-12-4' is not installed, so not removed\n",
            "Package 'cuda-visual-tools-12-4' is not installed, so not removed\n",
            "Package 'nvidia-gds-12-4' is not installed, so not removed\n",
            "Package 'nvidia-firmware-555-555.42.02' is not installed, so not removed\n",
            "Package 'nvidia-firmware-550-550.90.07' is not installed, so not removed\n",
            "Package 'cuda-12-5' is not installed, so not removed\n",
            "Package 'cuda-demo-suite-12-5' is not installed, so not removed\n",
            "Package 'cuda-documentation-12-5' is not installed, so not removed\n",
            "Package 'cuda-drivers-555' is not installed, so not removed\n",
            "Package 'cuda-drivers-fabricmanager-555' is not installed, so not removed\n",
            "Package 'cuda-gdb-src-12-5' is not installed, so not removed\n",
            "Package 'cuda-nsight-12-5' is not installed, so not removed\n",
            "Package 'cuda-nsight-systems-12-5' is not installed, so not removed\n",
            "Package 'cuda-nvvp-12-5' is not installed, so not removed\n",
            "Package 'cuda-runtime-12-5' is not installed, so not removed\n",
            "Package 'cuda-toolkit-12-5' is not installed, so not removed\n",
            "Package 'cuda-tools-12-5' is not installed, so not removed\n",
            "Package 'cuda-visual-tools-12-5' is not installed, so not removed\n",
            "Package 'nvidia-compute-utils-555' is not installed, so not removed\n",
            "Package 'nvidia-dkms-555' is not installed, so not removed\n",
            "Package 'nvidia-dkms-555-open' is not installed, so not removed\n",
            "Package 'nvidia-driver-555' is not installed, so not removed\n",
            "Package 'nvidia-driver-555-open' is not installed, so not removed\n",
            "Package 'nvidia-fabricmanager-555' is not installed, so not removed\n",
            "Package 'nvidia-fabricmanager-dev-555' is not installed, so not removed\n",
            "Package 'nvidia-firmware-555-555.42.06' is not installed, so not removed\n",
            "Package 'nvidia-gds-12-5' is not installed, so not removed\n",
            "Package 'nvidia-headless-555' is not installed, so not removed\n",
            "Package 'nvidia-headless-555-open' is not installed, so not removed\n",
            "Package 'nvidia-headless-no-dkms-555' is not installed, so not removed\n",
            "Package 'nvidia-headless-no-dkms-555-open' is not installed, so not removed\n",
            "Package 'nvidia-kernel-common-555' is not installed, so not removed\n",
            "Package 'nvidia-kernel-open-555' is not installed, so not removed\n",
            "Package 'nvidia-kernel-source-555' is not installed, so not removed\n",
            "Package 'nvidia-kernel-source-555-open' is not installed, so not removed\n",
            "Package 'nvidia-utils-555' is not installed, so not removed\n",
            "Package 'nvidia-firmware-560-560.28.03' is not installed, so not removed\n",
            "Package 'nvidia-compute-utils-530' is not installed, so not removed\n",
            "Package 'nvidia-dkms-530' is not installed, so not removed\n",
            "Package 'nvidia-dkms-530-open' is not installed, so not removed\n",
            "Package 'nvidia-driver-530' is not installed, so not removed\n",
            "Package 'nvidia-driver-530-open' is not installed, so not removed\n",
            "Package 'nvidia-firmware-560-560.35.03' is not installed, so not removed\n",
            "Package 'nvidia-headless-530' is not installed, so not removed\n",
            "Package 'nvidia-headless-530-open' is not installed, so not removed\n",
            "Package 'nvidia-headless-no-dkms-530' is not installed, so not removed\n",
            "Package 'nvidia-headless-no-dkms-530-open' is not installed, so not removed\n",
            "Package 'nvidia-kernel-common-530' is not installed, so not removed\n",
            "Package 'nvidia-kernel-source-530' is not installed, so not removed\n",
            "Package 'nvidia-kernel-source-530-open' is not installed, so not removed\n",
            "Package 'nvidia-utils-530' is not installed, so not removed\n",
            "Package 'nvidia-firmware-550-550.90.12' is not installed, so not removed\n",
            "Package 'cuda-cccl-12-6' is not installed, so not removed\n",
            "Package 'cuda-cudart-12-6' is not installed, so not removed\n",
            "Package 'cuda-cudart-dev-12-6' is not installed, so not removed\n",
            "Package 'cuda-cuobjdump-12-6' is not installed, so not removed\n",
            "Package 'cuda-cupti-12-6' is not installed, so not removed\n",
            "Package 'cuda-cupti-dev-12-6' is not installed, so not removed\n",
            "Package 'cuda-cuxxfilt-12-6' is not installed, so not removed\n",
            "Package 'cuda-demo-suite-12-6' is not installed, so not removed\n",
            "Package 'cuda-documentation-12-6' is not installed, so not removed\n",
            "Package 'cuda-driver-dev-12-6' is not installed, so not removed\n",
            "Package 'cuda-gdb-12-6' is not installed, so not removed\n",
            "Package 'cuda-gdb-src-12-6' is not installed, so not removed\n",
            "Package 'cuda-nsight-12-6' is not installed, so not removed\n",
            "Package 'cuda-nvdisasm-12-6' is not installed, so not removed\n",
            "Package 'cuda-nvml-dev-12-6' is not installed, so not removed\n",
            "Package 'cuda-nvprof-12-6' is not installed, so not removed\n",
            "Package 'cuda-nvprune-12-6' is not installed, so not removed\n",
            "Package 'cuda-nvtx-12-6' is not installed, so not removed\n",
            "Package 'cuda-nvvp-12-6' is not installed, so not removed\n",
            "Package 'cuda-opencl-12-6' is not installed, so not removed\n",
            "Package 'cuda-opencl-dev-12-6' is not installed, so not removed\n",
            "Package 'cuda-profiler-api-12-6' is not installed, so not removed\n",
            "Package 'cuda-sanitizer-12-6' is not installed, so not removed\n",
            "Package 'cuda-toolkit-12-6-config-common' is not installed, so not removed\n",
            "Package 'nvidia-firmware-550-550.127.05' is not installed, so not removed\n",
            "Package 'cuda-compat-12-7' is not installed, so not removed\n",
            "Package 'cuda-drivers-565' is not installed, so not removed\n",
            "Package 'cuda-drivers-fabricmanager-565' is not installed, so not removed\n",
            "Package 'nvidia-fabricmanager-565' is not installed, so not removed\n",
            "Package 'nvidia-fabricmanager-dev-565' is not installed, so not removed\n",
            "Package 'nvidia-firmware-565-565.57.01' is not installed, so not removed\n",
            "Package 'nvidia-imex-565' is not installed, so not removed\n",
            "Package 'nvidia-kernel-open-565' is not installed, so not removed\n",
            "Package 'nvidia-open-565' is not installed, so not removed\n",
            "Package 'nvidia-firmware-550-550.127.08' is not installed, so not removed\n",
            "Package 'cuda-12-6' is not installed, so not removed\n",
            "Package 'cuda-command-line-tools-12-6' is not installed, so not removed\n",
            "Package 'cuda-compat-12-6' is not installed, so not removed\n",
            "Package 'cuda-compiler-12-6' is not installed, so not removed\n",
            "Package 'cuda-crt-12-6' is not installed, so not removed\n",
            "Package 'cuda-drivers-560' is not installed, so not removed\n",
            "Package 'cuda-drivers-fabricmanager-560' is not installed, so not removed\n",
            "Package 'cuda-libraries-12-6' is not installed, so not removed\n",
            "Package 'cuda-libraries-dev-12-6' is not installed, so not removed\n",
            "Package 'cuda-minimal-build-12-6' is not installed, so not removed\n",
            "Package 'cuda-nsight-compute-12-6' is not installed, so not removed\n",
            "Package 'cuda-nsight-systems-12-6' is not installed, so not removed\n",
            "Package 'cuda-nvcc-12-6' is not installed, so not removed\n",
            "Package 'cuda-nvrtc-12-6' is not installed, so not removed\n",
            "Package 'cuda-nvrtc-dev-12-6' is not installed, so not removed\n",
            "Package 'cuda-nvvm-12-6' is not installed, so not removed\n",
            "Package 'cuda-runtime-12-6' is not installed, so not removed\n",
            "Package 'cuda-toolkit-12-6' is not installed, so not removed\n",
            "Package 'cuda-tools-12-6' is not installed, so not removed\n",
            "Package 'cuda-visual-tools-12-6' is not installed, so not removed\n",
            "Package 'nvidia-compute-utils-560' is not installed, so not removed\n",
            "Package 'nvidia-dkms-560' is not installed, so not removed\n",
            "Package 'nvidia-dkms-560-open' is not installed, so not removed\n",
            "Package 'nvidia-driver-560' is not installed, so not removed\n",
            "Package 'nvidia-driver-560-open' is not installed, so not removed\n",
            "Package 'nvidia-fabricmanager-560' is not installed, so not removed\n",
            "Package 'nvidia-fabricmanager-dev-560' is not installed, so not removed\n",
            "Package 'nvidia-firmware-560-560.35.05' is not installed, so not removed\n",
            "Package 'nvidia-gds-12-6' is not installed, so not removed\n",
            "Package 'nvidia-headless-560' is not installed, so not removed\n",
            "Package 'nvidia-headless-560-open' is not installed, so not removed\n",
            "Package 'nvidia-headless-no-dkms-560' is not installed, so not removed\n",
            "Package 'nvidia-headless-no-dkms-560-open' is not installed, so not removed\n",
            "Package 'nvidia-imex-560' is not installed, so not removed\n",
            "Package 'nvidia-kernel-common-560' is not installed, so not removed\n",
            "Package 'nvidia-kernel-open-560' is not installed, so not removed\n",
            "Package 'nvidia-kernel-source-560' is not installed, so not removed\n",
            "Package 'nvidia-kernel-source-560-open' is not installed, so not removed\n",
            "Package 'nvidia-open-560' is not installed, so not removed\n",
            "Package 'nvidia-utils-560' is not installed, so not removed\n",
            "Package 'nvidia-firmware-550-550.144.03' is not installed, so not removed\n",
            "Package 'nvidia-firmware-570-570.86.10' is not installed, so not removed\n",
            "Package 'nvidia-firmware-570-570.86.15' is not installed, so not removed\n",
            "Package 'nvidia-firmware-570-570.124.06' is not installed, so not removed\n",
            "Package 'cuda-12-8' is not installed, so not removed\n",
            "Package 'cuda-cccl-12-8' is not installed, so not removed\n",
            "Package 'cuda-command-line-tools-12-8' is not installed, so not removed\n",
            "Package 'cuda-compiler-12-8' is not installed, so not removed\n",
            "Package 'cuda-crt-12-8' is not installed, so not removed\n",
            "Package 'cuda-cudart-12-8' is not installed, so not removed\n",
            "Package 'cuda-cudart-dev-12-8' is not installed, so not removed\n",
            "Package 'cuda-cuobjdump-12-8' is not installed, so not removed\n",
            "Package 'cuda-cupti-12-8' is not installed, so not removed\n",
            "Package 'cuda-cupti-dev-12-8' is not installed, so not removed\n",
            "Package 'cuda-cuxxfilt-12-8' is not installed, so not removed\n",
            "Package 'cuda-demo-suite-12-8' is not installed, so not removed\n",
            "Package 'cuda-documentation-12-8' is not installed, so not removed\n",
            "Package 'cuda-driver-dev-12-8' is not installed, so not removed\n",
            "Package 'cuda-gdb-12-8' is not installed, so not removed\n",
            "Package 'cuda-gdb-src-12-8' is not installed, so not removed\n",
            "Package 'cuda-libraries-12-8' is not installed, so not removed\n",
            "Package 'cuda-libraries-dev-12-8' is not installed, so not removed\n",
            "Package 'cuda-minimal-build-12-8' is not installed, so not removed\n",
            "Package 'cuda-nsight-12-8' is not installed, so not removed\n",
            "Package 'cuda-nsight-compute-12-8' is not installed, so not removed\n",
            "Package 'cuda-nsight-systems-12-8' is not installed, so not removed\n",
            "Package 'cuda-nvcc-12-8' is not installed, so not removed\n",
            "Package 'cuda-nvdisasm-12-8' is not installed, so not removed\n",
            "Package 'cuda-nvml-dev-12-8' is not installed, so not removed\n",
            "Package 'cuda-nvprof-12-8' is not installed, so not removed\n",
            "Package 'cuda-nvprune-12-8' is not installed, so not removed\n",
            "Package 'cuda-nvrtc-12-8' is not installed, so not removed\n",
            "Package 'cuda-nvrtc-dev-12-8' is not installed, so not removed\n",
            "Package 'cuda-nvtx-12-8' is not installed, so not removed\n",
            "Package 'cuda-nvvm-12-8' is not installed, so not removed\n",
            "Package 'cuda-nvvp-12-8' is not installed, so not removed\n",
            "Package 'cuda-opencl-12-8' is not installed, so not removed\n",
            "Package 'cuda-opencl-dev-12-8' is not installed, so not removed\n",
            "Package 'cuda-profiler-api-12-8' is not installed, so not removed\n",
            "Package 'cuda-runtime-12-8' is not installed, so not removed\n",
            "Package 'cuda-sandbox-dev-12-8' is not installed, so not removed\n",
            "Package 'cuda-sanitizer-12-8' is not installed, so not removed\n",
            "Package 'cuda-toolkit-12-8' is not installed, so not removed\n",
            "Package 'cuda-toolkit-12-8-config-common' is not installed, so not removed\n",
            "Package 'cuda-tools-12-8' is not installed, so not removed\n",
            "Package 'cuda-visual-tools-12-8' is not installed, so not removed\n",
            "Package 'nvidia-gds-12-8' is not installed, so not removed\n",
            "Package 'cuda-compat-12-4' is not installed, so not removed\n",
            "Package 'cuda-drivers-550' is not installed, so not removed\n",
            "Package 'cuda-drivers-fabricmanager-550' is not installed, so not removed\n",
            "Package 'nvidia-compute-utils-550' is not installed, so not removed\n",
            "Package 'nvidia-dkms-550' is not installed, so not removed\n",
            "Package 'nvidia-dkms-550-open' is not installed, so not removed\n",
            "Package 'nvidia-driver-550' is not installed, so not removed\n",
            "Package 'nvidia-driver-550-open' is not installed, so not removed\n",
            "Package 'nvidia-fabricmanager-550' is not installed, so not removed\n",
            "Package 'nvidia-fabricmanager-dev-550' is not installed, so not removed\n",
            "Package 'nvidia-firmware-550-550.163.01' is not installed, so not removed\n",
            "Package 'nvidia-headless-550' is not installed, so not removed\n",
            "Package 'nvidia-headless-550-open' is not installed, so not removed\n",
            "Package 'nvidia-headless-no-dkms-550' is not installed, so not removed\n",
            "Package 'nvidia-headless-no-dkms-550-open' is not installed, so not removed\n",
            "Package 'nvidia-imex-550' is not installed, so not removed\n",
            "Package 'nvidia-kernel-common-550' is not installed, so not removed\n",
            "Package 'nvidia-kernel-open-550' is not installed, so not removed\n",
            "Package 'nvidia-kernel-source-550' is not installed, so not removed\n",
            "Package 'nvidia-kernel-source-550-open' is not installed, so not removed\n",
            "Package 'nvidia-utils-550' is not installed, so not removed\n",
            "Package 'nvidia-firmware-570-570.133.20' is not installed, so not removed\n",
            "Package 'cuda-cccl-12-9' is not installed, so not removed\n",
            "Package 'cuda-opencl-12-9' is not installed, so not removed\n",
            "Package 'cuda-opencl-dev-12-9' is not installed, so not removed\n",
            "Package 'cuda-sandbox-dev-12-9' is not installed, so not removed\n",
            "Package 'nvidia-firmware-575-575.51.03' is not installed, so not removed\n",
            "Package 'nvidia-kernel-open-575' is not installed, so not removed\n",
            "Package 'nvidia-kernel-open-570' is not installed, so not removed\n",
            "Package 'nvidia-container-toolkit' is not installed, so not removed\n",
            "Package 'nvidia-container-toolkit-base' is not installed, so not removed\n",
            "Package 'cuda-compat-12-8' is not installed, so not removed\n",
            "Package 'cuda-drivers-575' is not installed, so not removed\n",
            "Package 'cuda-drivers-fabricmanager' is not installed, so not removed\n",
            "Package 'cuda-drivers-fabricmanager-575' is not installed, so not removed\n",
            "Package 'nvidia-fabricmanager-575' is not installed, so not removed\n",
            "Package 'nvidia-fabricmanager-dev-575' is not installed, so not removed\n",
            "Package 'nvidia-imex-575' is not installed, so not removed\n",
            "Package 'nvidia-open-575' is not installed, so not removed\n",
            "Package 'cuda-12-9' is not installed, so not removed\n",
            "Package 'cuda-command-line-tools-12-9' is not installed, so not removed\n",
            "Package 'cuda-compat-12-9' is not installed, so not removed\n",
            "Package 'cuda-compiler-12-9' is not installed, so not removed\n",
            "Package 'cuda-crt-12-9' is not installed, so not removed\n",
            "Package 'cuda-cudart-12-9' is not installed, so not removed\n",
            "Package 'cuda-cudart-dev-12-9' is not installed, so not removed\n",
            "Package 'cuda-cuobjdump-12-9' is not installed, so not removed\n",
            "Package 'cuda-cupti-12-9' is not installed, so not removed\n",
            "Package 'cuda-cupti-dev-12-9' is not installed, so not removed\n",
            "Package 'cuda-cuxxfilt-12-9' is not installed, so not removed\n",
            "Package 'cuda-demo-suite-12-9' is not installed, so not removed\n",
            "Package 'cuda-documentation-12-9' is not installed, so not removed\n",
            "Package 'cuda-driver-dev-12-9' is not installed, so not removed\n",
            "Package 'cuda-gdb-12-9' is not installed, so not removed\n",
            "Package 'cuda-gdb-src-12-9' is not installed, so not removed\n",
            "Package 'cuda-libraries-12-9' is not installed, so not removed\n",
            "Package 'cuda-libraries-dev-12-9' is not installed, so not removed\n",
            "Package 'cuda-minimal-build-12-9' is not installed, so not removed\n",
            "Package 'cuda-nsight-12-9' is not installed, so not removed\n",
            "Package 'cuda-nsight-compute-12-9' is not installed, so not removed\n",
            "Package 'cuda-nsight-systems-12-9' is not installed, so not removed\n",
            "Package 'cuda-nvcc-12-9' is not installed, so not removed\n",
            "Package 'cuda-nvdisasm-12-9' is not installed, so not removed\n",
            "Package 'cuda-nvml-dev-12-9' is not installed, so not removed\n",
            "Package 'cuda-nvprof-12-9' is not installed, so not removed\n",
            "Package 'cuda-nvprune-12-9' is not installed, so not removed\n",
            "Package 'cuda-nvrtc-12-9' is not installed, so not removed\n",
            "Package 'cuda-nvrtc-dev-12-9' is not installed, so not removed\n",
            "Package 'cuda-nvtx-12-9' is not installed, so not removed\n",
            "Package 'cuda-nvvm-12-9' is not installed, so not removed\n",
            "Package 'cuda-nvvp-12-9' is not installed, so not removed\n",
            "Package 'cuda-profiler-api-12-9' is not installed, so not removed\n",
            "Package 'cuda-runtime-12-9' is not installed, so not removed\n",
            "Package 'cuda-sanitizer-12-9' is not installed, so not removed\n",
            "Package 'cuda-toolkit-12' is not installed, so not removed\n",
            "Package 'cuda-toolkit-12-9' is not installed, so not removed\n",
            "Package 'cuda-toolkit-12-9-config-common' is not installed, so not removed\n",
            "Package 'cuda-tools-12-9' is not installed, so not removed\n",
            "Package 'cuda-visual-tools-12-9' is not installed, so not removed\n",
            "Package 'nvidia-gds-12-9' is not installed, so not removed\n",
            "Package 'nvidia-firmware-575' is not installed, so not removed\n",
            "Package 'nvidia-fs' is not installed, so not removed\n",
            "Package 'nvidia-fs-dkms' is not installed, so not removed\n",
            "Package 'cuda-cccl-13-0' is not installed, so not removed\n",
            "Package 'cuda-crt-13-0' is not installed, so not removed\n",
            "Package 'cuda-ctadvisor-13-0' is not installed, so not removed\n",
            "Package 'cuda-culibos-13-0' is not installed, so not removed\n",
            "Package 'cuda-culibos-cross-amd64-13-0' is not installed, so not removed\n",
            "Package 'cuda-culibos-dev-13-0' is not installed, so not removed\n",
            "Package 'cuda-cuobjdump-13-0' is not installed, so not removed\n",
            "Package 'cuda-cupti-13-0' is not installed, so not removed\n",
            "Package 'cuda-cupti-dev-13-0' is not installed, so not removed\n",
            "Package 'cuda-cuxxfilt-13-0' is not installed, so not removed\n",
            "Package 'cuda-documentation-13-0' is not installed, so not removed\n",
            "Package 'cuda-gdb-13-0' is not installed, so not removed\n",
            "Package 'cuda-gdb-src-13-0' is not installed, so not removed\n",
            "Package 'cuda-nsight-13-0' is not installed, so not removed\n",
            "Package 'cuda-nvcc-13-0' is not installed, so not removed\n",
            "Package 'cuda-nvdisasm-13-0' is not installed, so not removed\n",
            "Package 'cuda-nvml-dev-13-0' is not installed, so not removed\n",
            "Package 'cuda-nvprune-13-0' is not installed, so not removed\n",
            "Package 'cuda-nvrtc-13-0' is not installed, so not removed\n",
            "Package 'cuda-nvrtc-dev-13-0' is not installed, so not removed\n",
            "Package 'cuda-nvtx-13-0' is not installed, so not removed\n",
            "Package 'cuda-opencl-13-0' is not installed, so not removed\n",
            "Package 'cuda-opencl-dev-13-0' is not installed, so not removed\n",
            "Package 'cuda-profiler-api-13-0' is not installed, so not removed\n",
            "Package 'cuda-sandbox-dev-13-0' is not installed, so not removed\n",
            "Package 'cuda-sanitizer-13-0' is not installed, so not removed\n",
            "Package 'cuda-compat-12-2' is not installed, so not removed\n",
            "Package 'cuda-drivers-535' is not installed, so not removed\n",
            "Package 'cuda-drivers-570' is not installed, so not removed\n",
            "Package 'cuda-drivers-fabricmanager-535' is not installed, so not removed\n",
            "Package 'cuda-drivers-fabricmanager-570' is not installed, so not removed\n",
            "Package 'nvidia-compute-utils-535' is not installed, so not removed\n",
            "Package 'nvidia-compute-utils-570' is not installed, so not removed\n",
            "Package 'nvidia-dkms-535' is not installed, so not removed\n",
            "Package 'nvidia-dkms-570' is not installed, so not removed\n",
            "Package 'nvidia-dkms-570-open' is not installed, so not removed\n",
            "Package 'nvidia-driver-535' is not installed, so not removed\n",
            "Package 'nvidia-driver-570' is not installed, so not removed\n",
            "Package 'nvidia-driver-570-open' is not installed, so not removed\n",
            "Package 'nvidia-fabricmanager-535' is not installed, so not removed\n",
            "Package 'nvidia-fabricmanager-570' is not installed, so not removed\n",
            "Package 'nvidia-fabricmanager-dev-535' is not installed, so not removed\n",
            "Package 'nvidia-fabricmanager-dev-570' is not installed, so not removed\n",
            "Package 'nvidia-firmware-570' is not installed, so not removed\n",
            "Package 'nvidia-headless-535' is not installed, so not removed\n",
            "Package 'nvidia-headless-570' is not installed, so not removed\n",
            "Package 'nvidia-headless-570-open' is not installed, so not removed\n",
            "Package 'nvidia-headless-no-dkms-535' is not installed, so not removed\n",
            "Package 'nvidia-headless-no-dkms-570' is not installed, so not removed\n",
            "Package 'nvidia-headless-no-dkms-570-open' is not installed, so not removed\n",
            "Package 'nvidia-imex-570' is not installed, so not removed\n",
            "Package 'nvidia-kernel-common-535' is not installed, so not removed\n",
            "Package 'nvidia-kernel-common-570' is not installed, so not removed\n",
            "Package 'nvidia-kernel-open-535' is not installed, so not removed\n",
            "Package 'nvidia-kernel-source-535' is not installed, so not removed\n",
            "Package 'nvidia-kernel-source-570' is not installed, so not removed\n",
            "Package 'nvidia-kernel-source-570-open' is not installed, so not removed\n",
            "Package 'nvidia-open-570' is not installed, so not removed\n",
            "Package 'nvidia-utils-535' is not installed, so not removed\n",
            "Package 'nvidia-utils-570' is not installed, so not removed\n",
            "Package 'cuda-compat-13-0' is not installed, so not removed\n",
            "Package 'cuda-drivers-580' is not installed, so not removed\n",
            "Package 'cuda-drivers' is not installed, so not removed\n",
            "Package 'nvidia-compute-utils-580' is not installed, so not removed\n",
            "Package 'nvidia-dkms-580' is not installed, so not removed\n",
            "Package 'nvidia-dkms-580-open' is not installed, so not removed\n",
            "Package 'nvidia-driver-580' is not installed, so not removed\n",
            "Package 'nvidia-driver-580-open' is not installed, so not removed\n",
            "Package 'nvidia-driver-assistant' is not installed, so not removed\n",
            "Package 'nvidia-fabricmanager' is not installed, so not removed\n",
            "Package 'nvidia-fabricmanager-dev' is not installed, so not removed\n",
            "Package 'nvidia-firmware-580' is not installed, so not removed\n",
            "Package 'nvidia-headless-580' is not installed, so not removed\n",
            "Package 'nvidia-headless-580-open' is not installed, so not removed\n",
            "Package 'nvidia-headless-no-dkms-580' is not installed, so not removed\n",
            "Package 'nvidia-headless-no-dkms-580-open' is not installed, so not removed\n",
            "Package 'nvidia-hpc-benchmarks-mpich' is not installed, so not removed\n",
            "Package 'nvidia-hpc-benchmarks-openmpi' is not installed, so not removed\n",
            "Package 'nvidia-imex' is not installed, so not removed\n",
            "Package 'nvidia-kernel-common-580' is not installed, so not removed\n",
            "Package 'nvidia-kernel-source-580' is not installed, so not removed\n",
            "Package 'nvidia-kernel-source-580-open' is not installed, so not removed\n",
            "Package 'nvidia-modprobe' is not installed, so not removed\n",
            "Package 'nvidia-open-580' is not installed, so not removed\n",
            "Package 'nvidia-open' is not installed, so not removed\n",
            "Package 'nvidia-persistenced' is not installed, so not removed\n",
            "Package 'nvidia-settings' is not installed, so not removed\n",
            "Package 'nvidia-utils-580' is not installed, so not removed\n",
            "Package 'nvidia-xconfig' is not installed, so not removed\n",
            "Package 'cuda-13-0' is not installed, so not removed\n",
            "Package 'cuda' is not installed, so not removed\n",
            "Package 'cuda-command-line-tools-13-0' is not installed, so not removed\n",
            "Package 'cuda-compiler-13-0' is not installed, so not removed\n",
            "Package 'cuda-cudart-13-0' is not installed, so not removed\n",
            "Package 'cuda-cudart-dev-13-0' is not installed, so not removed\n",
            "Package 'cuda-driver-dev-13-0' is not installed, so not removed\n",
            "Package 'cuda-libraries-13-0' is not installed, so not removed\n",
            "Package 'cuda-libraries-dev-13-0' is not installed, so not removed\n",
            "Package 'cuda-minimal-build-13-0' is not installed, so not removed\n",
            "Package 'cuda-nsight-compute-13-0' is not installed, so not removed\n",
            "Package 'cuda-nsight-systems-13-0' is not installed, so not removed\n",
            "Package 'cuda-runtime-13-0' is not installed, so not removed\n",
            "Package 'cuda-toolkit-13-0' is not installed, so not removed\n",
            "Package 'cuda-toolkit' is not installed, so not removed\n",
            "Package 'cuda-toolkit-13-0-config-common' is not installed, so not removed\n",
            "Package 'cuda-toolkit-13' is not installed, so not removed\n",
            "Package 'cuda-toolkit-13-config-common' is not installed, so not removed\n",
            "Package 'cuda-tools-13-0' is not installed, so not removed\n",
            "Package 'cuda-visual-tools-13-0' is not installed, so not removed\n",
            "Package 'nvidia-gds-13-0' is not installed, so not removed\n",
            "Package 'nvidia-gds' is not installed, so not removed\n",
            "Package 'nvidia-compute-utils-565' is not installed, so not removed\n",
            "Package 'nvidia-dkms-565' is not installed, so not removed\n",
            "Package 'nvidia-dkms-565-open' is not installed, so not removed\n",
            "Package 'nvidia-driver-565' is not installed, so not removed\n",
            "Package 'nvidia-driver-565-open' is not installed, so not removed\n",
            "Package 'nvidia-firmware-565-565.77' is not installed, so not removed\n",
            "Package 'nvidia-firmware-570-570.181' is not installed, so not removed\n",
            "Package 'nvidia-firmware-570-570.195.03' is not installed, so not removed\n",
            "Package 'nvidia-firmware-580-580.82.09' is not installed, so not removed\n",
            "Package 'nvidia-firmware-580-580.95.05' is not installed, so not removed\n",
            "Package 'nvidia-headless-565' is not installed, so not removed\n",
            "Package 'nvidia-headless-565-open' is not installed, so not removed\n",
            "Package 'nvidia-headless-no-dkms-565' is not installed, so not removed\n",
            "Package 'nvidia-headless-no-dkms-565-open' is not installed, so not removed\n",
            "Package 'nvidia-kernel-common-565' is not installed, so not removed\n",
            "Package 'nvidia-kernel-source-565' is not installed, so not removed\n",
            "Package 'nvidia-kernel-source-565-open' is not installed, so not removed\n",
            "Package 'nvidia-utils-565' is not installed, so not removed\n",
            "Some packages could not be installed. This may mean that you have\n",
            "requested an impossible situation or if you are using the unstable\n",
            "distribution that some required packages have not yet been created\n",
            "or been moved out of Incoming.\n",
            "The following information may help to resolve the situation:\n",
            "\n",
            "The following packages have unmet dependencies:\n",
            " libcublas-12-5 : Depends: cuda-toolkit-config-common but it is not going to be installed or\n",
            "                           cuda-cudart-11-2 but it is not installable\n",
            "                  Depends: cuda-toolkit-12-config-common but it is not going to be installed or\n",
            "                           cuda-cudart-11-2 but it is not installable\n",
            "                  Depends: cuda-toolkit-12-5-config-common but it is not going to be installed\n",
            "E: Error, pkgProblemResolver::Resolve generated breaks, this may be caused by held packages.\n",
            "No conflicting CUDA packages\n",
            "Reading package lists... Done\n",
            "Building dependency tree... Done\n",
            "Reading state information... Done\n",
            "0 upgraded, 0 newly installed, 0 to remove and 38 not upgraded.\n"
          ]
        }
      ],
      "source": [
        "#Fix Potential Library Conflicts\n",
        "!apt-get remove --purge -y cuda* libcuda* nvidia* || echo \"No conflicting CUDA packages\"\n",
        "!apt-get autoremove -y\n",
        "!apt-get clean"
      ]
    },
    {
      "cell_type": "code",
      "execution_count": null,
      "metadata": {
        "colab": {
          "base_uri": "https://localhost:8080/",
          "height": 385
        },
        "id": "BdBgVFvnC-ht",
        "outputId": "e1fec693-1d92-47c2-ea4e-a4c863e4c598"
      },
      "outputs": [
        {
          "name": "stdout",
          "output_type": "stream",
          "text": [
            "Found existing installation: protobuf 5.29.5\n",
            "Uninstalling protobuf-5.29.5:\n",
            "  Successfully uninstalled protobuf-5.29.5\n",
            "Collecting protobuf==3.20.3\n",
            "  Downloading protobuf-3.20.3-py2.py3-none-any.whl.metadata (720 bytes)\n",
            "Downloading protobuf-3.20.3-py2.py3-none-any.whl (162 kB)\n",
            "\u001b[2K   \u001b[90m━━━━━━━━━━━━━━━━━━━━━━━━━━━━━━━━━━━━━━━━\u001b[0m \u001b[32m162.1/162.1 kB\u001b[0m \u001b[31m3.6 MB/s\u001b[0m eta \u001b[36m0:00:00\u001b[0m\n",
            "\u001b[?25hInstalling collected packages: protobuf\n",
            "\u001b[31mERROR: pip's dependency resolver does not currently take into account all the packages that are installed. This behaviour is the source of the following dependency conflicts.\n",
            "ydf 0.13.0 requires protobuf<7.0.0,>=5.29.1, but you have protobuf 3.20.3 which is incompatible.\n",
            "opentelemetry-proto 1.37.0 requires protobuf<7.0,>=5.0, but you have protobuf 3.20.3 which is incompatible.\n",
            "tensorflow-metadata 1.17.2 requires protobuf>=4.25.2; python_version >= \"3.11\", but you have protobuf 3.20.3 which is incompatible.\n",
            "grpcio-status 1.71.2 requires protobuf<6.0dev,>=5.26.1, but you have protobuf 3.20.3 which is incompatible.\u001b[0m\u001b[31m\n",
            "\u001b[0mSuccessfully installed protobuf-3.20.3\n"
          ]
        },
        {
          "data": {
            "application/vnd.colab-display-data+json": {
              "id": "e2d60fe726d945318e166401f07a6bf3",
              "pip_warning": {
                "packages": [
                  "google"
                ]
              }
            }
          },
          "metadata": {},
          "output_type": "display_data"
        }
      ],
      "source": [
        "#Protocol Buffer Fix (for TensorFlow)\n",
        "!pip uninstall -y protobuf\n",
        "!pip install protobuf==3.20.3"
      ]
    },
    {
      "cell_type": "code",
      "execution_count": null,
      "metadata": {
        "colab": {
          "base_uri": "https://localhost:8080/"
        },
        "id": "DzOhpbF5DAiq",
        "outputId": "899114b5-310e-421f-85ba-cd2cb3014a34"
      },
      "outputs": [
        {
          "name": "stdout",
          "output_type": "stream",
          "text": [
            "Hit:1 http://archive.ubuntu.com/ubuntu jammy InRelease\n",
            "Get:2 http://archive.ubuntu.com/ubuntu jammy-updates InRelease [128 kB]\n",
            "Get:3 http://archive.ubuntu.com/ubuntu jammy-backports InRelease [127 kB]\n",
            "Get:4 http://security.ubuntu.com/ubuntu jammy-security InRelease [129 kB]\n",
            "Get:5 https://cloud.r-project.org/bin/linux/ubuntu jammy-cran40/ InRelease [3,632 B]\n",
            "Hit:6 https://cli.github.com/packages stable InRelease\n",
            "Get:7 https://r2u.stat.illinois.edu/ubuntu jammy InRelease [6,555 B]\n",
            "Hit:8 https://developer.download.nvidia.com/compute/cuda/repos/ubuntu2204/x86_64  InRelease\n",
            "Hit:9 https://ppa.launchpadcontent.net/deadsnakes/ppa/ubuntu jammy InRelease\n",
            "Hit:10 https://ppa.launchpadcontent.net/graphics-drivers/ppa/ubuntu jammy InRelease\n",
            "Hit:11 https://ppa.launchpadcontent.net/ubuntugis/ppa/ubuntu jammy InRelease\n",
            "Get:12 http://archive.ubuntu.com/ubuntu jammy-updates/restricted amd64 Packages [5,988 kB]\n",
            "Get:13 http://archive.ubuntu.com/ubuntu jammy-updates/universe amd64 Packages [1,594 kB]\n",
            "Get:14 http://archive.ubuntu.com/ubuntu jammy-updates/multiverse amd64 Packages [69.2 kB]\n",
            "Get:15 http://archive.ubuntu.com/ubuntu jammy-updates/main amd64 Packages [3,778 kB]\n",
            "Get:16 http://security.ubuntu.com/ubuntu jammy-security/universe amd64 Packages [1,287 kB]\n",
            "Get:17 https://r2u.stat.illinois.edu/ubuntu jammy/main amd64 Packages [2,812 kB]\n",
            "Get:18 https://r2u.stat.illinois.edu/ubuntu jammy/main all Packages [9,374 kB]\n",
            "Fetched 25.3 MB in 6s (4,304 kB/s)\n",
            "Reading package lists... Done\n",
            "W: Skipping acquire of configured file 'main/source/Sources' as repository 'https://r2u.stat.illinois.edu/ubuntu jammy InRelease' does not seem to provide it (sources.list entry misspelt?)\n",
            "Reading package lists... Done\n",
            "Building dependency tree... Done\n",
            "Reading state information... Done\n",
            "Calculating upgrade... Done\n",
            "The following packages have been kept back:\n",
            "  libcudnn9-cuda-12 libcudnn9-dev-cuda-12 libnccl-dev libnccl2\n",
            "  linux-headers-generic\n",
            "The following packages will be upgraded:\n",
            "  base-files binutils binutils-common binutils-x86-64-linux-gnu\n",
            "  cuda-toolkit-12-config-common cuda-toolkit-config-common dpkg dpkg-dev\n",
            "  e2fsprogs libbinutils libc-bin libcap2 libctf-nobfd0 libctf0 libdpkg-perl\n",
            "  libext2fs2 libgnutls30 libldap-2.5-0 libpam-modules libpam-modules-bin\n",
            "  libpam-runtime libpam0g libperl5.34 libseccomp2 libss2 libtasn1-6 libudev1\n",
            "  linux-libc-dev logsave openssl perl perl-base perl-modules-5.34\n",
            "  python3-pkg-resources r-cran-hms\n",
            "35 upgraded, 0 newly installed, 0 to remove and 5 not upgraded.\n",
            "Need to get 21.8 MB of archives.\n",
            "After this operation, 360 kB of additional disk space will be used.\n",
            "Get:1 https://r2u.stat.illinois.edu/ubuntu jammy/main all r-cran-hms all 1.1.4-1.ca2204.1 [104 kB]\n",
            "Get:2 http://archive.ubuntu.com/ubuntu jammy-updates/main amd64 base-files amd64 12ubuntu4.7 [61.9 kB]\n",
            "Get:3 https://developer.download.nvidia.com/compute/cuda/repos/ubuntu2204/x86_64  cuda-toolkit-12-config-common 12.9.79-1 [16.6 kB]\n",
            "Get:4 https://ppa.launchpadcontent.net/ubuntugis/ppa/ubuntu jammy/main amd64 python3-pkg-resources all 68.1.2-2~jammy3 [216 kB]\n",
            "Get:5 http://archive.ubuntu.com/ubuntu jammy-updates/main amd64 dpkg amd64 1.21.1ubuntu2.6 [1,239 kB]\n",
            "Get:6 https://developer.download.nvidia.com/compute/cuda/repos/ubuntu2204/x86_64  cuda-toolkit-config-common 13.0.96-1 [17.4 kB]\n",
            "Get:7 http://archive.ubuntu.com/ubuntu jammy-updates/main amd64 libperl5.34 amd64 5.34.0-3ubuntu1.5 [4,797 kB]\n",
            "Get:8 http://archive.ubuntu.com/ubuntu jammy-updates/main amd64 perl amd64 5.34.0-3ubuntu1.5 [232 kB]\n",
            "Get:9 http://archive.ubuntu.com/ubuntu jammy-updates/main amd64 perl-base amd64 5.34.0-3ubuntu1.5 [1,761 kB]\n",
            "Get:10 http://archive.ubuntu.com/ubuntu jammy-updates/main amd64 perl-modules-5.34 all 5.34.0-3ubuntu1.5 [2,977 kB]\n",
            "Get:11 http://archive.ubuntu.com/ubuntu jammy-updates/main amd64 libc-bin amd64 2.35-0ubuntu3.11 [706 kB]\n",
            "Get:12 http://archive.ubuntu.com/ubuntu jammy-updates/main amd64 libpam0g amd64 1.4.0-11ubuntu2.6 [59.9 kB]\n",
            "Get:13 http://archive.ubuntu.com/ubuntu jammy-updates/main amd64 libpam-modules-bin amd64 1.4.0-11ubuntu2.6 [37.4 kB]\n",
            "Get:14 http://archive.ubuntu.com/ubuntu jammy-updates/main amd64 libpam-modules amd64 1.4.0-11ubuntu2.6 [282 kB]\n",
            "Get:15 http://archive.ubuntu.com/ubuntu jammy-updates/main amd64 logsave amd64 1.46.5-2ubuntu1.2 [10.1 kB]\n",
            "Get:16 http://archive.ubuntu.com/ubuntu jammy-updates/main amd64 libext2fs2 amd64 1.46.5-2ubuntu1.2 [208 kB]\n",
            "Get:17 http://archive.ubuntu.com/ubuntu jammy-updates/main amd64 e2fsprogs amd64 1.46.5-2ubuntu1.2 [590 kB]\n",
            "Get:18 http://archive.ubuntu.com/ubuntu jammy-updates/main amd64 libcap2 amd64 1:2.44-1ubuntu0.22.04.2 [18.3 kB]\n",
            "Get:19 http://archive.ubuntu.com/ubuntu jammy-updates/main amd64 libpam-runtime all 1.4.0-11ubuntu2.6 [40.2 kB]\n",
            "Get:20 http://archive.ubuntu.com/ubuntu jammy-updates/main amd64 libudev1 amd64 249.11-0ubuntu3.17 [76.7 kB]\n",
            "Get:21 http://archive.ubuntu.com/ubuntu jammy-updates/main amd64 libtasn1-6 amd64 4.18.0-4ubuntu0.1 [43.5 kB]\n",
            "Get:22 http://archive.ubuntu.com/ubuntu jammy-updates/main amd64 libgnutls30 amd64 3.7.3-4ubuntu1.7 [967 kB]\n",
            "Get:23 http://archive.ubuntu.com/ubuntu jammy-updates/main amd64 libseccomp2 amd64 2.5.3-2ubuntu3~22.04.1 [47.4 kB]\n",
            "Get:24 http://archive.ubuntu.com/ubuntu jammy-updates/main amd64 libss2 amd64 1.46.5-2ubuntu1.2 [12.3 kB]\n",
            "Get:25 http://archive.ubuntu.com/ubuntu jammy-updates/main amd64 openssl amd64 3.0.2-0ubuntu1.20 [1,185 kB]\n",
            "Get:26 http://archive.ubuntu.com/ubuntu jammy-updates/main amd64 libctf0 amd64 2.38-4ubuntu2.8 [103 kB]\n",
            "Get:27 http://archive.ubuntu.com/ubuntu jammy-updates/main amd64 libctf-nobfd0 amd64 2.38-4ubuntu2.8 [108 kB]\n",
            "Get:28 http://archive.ubuntu.com/ubuntu jammy-updates/main amd64 binutils-x86-64-linux-gnu amd64 2.38-4ubuntu2.8 [2,324 kB]\n",
            "Get:29 http://archive.ubuntu.com/ubuntu jammy-updates/main amd64 libbinutils amd64 2.38-4ubuntu2.8 [661 kB]\n",
            "Get:30 http://archive.ubuntu.com/ubuntu jammy-updates/main amd64 binutils amd64 2.38-4ubuntu2.8 [3,196 B]\n",
            "Get:31 http://archive.ubuntu.com/ubuntu jammy-updates/main amd64 binutils-common amd64 2.38-4ubuntu2.8 [223 kB]\n",
            "Get:32 http://archive.ubuntu.com/ubuntu jammy-updates/main amd64 dpkg-dev all 1.21.1ubuntu2.6 [922 kB]\n",
            "Get:33 http://archive.ubuntu.com/ubuntu jammy-updates/main amd64 libdpkg-perl all 1.21.1ubuntu2.6 [237 kB]\n",
            "Get:34 http://archive.ubuntu.com/ubuntu jammy-updates/main amd64 libldap-2.5-0 amd64 2.5.19+dfsg-0ubuntu0.22.04.1 [184 kB]\n",
            "Get:35 http://archive.ubuntu.com/ubuntu jammy-updates/main amd64 linux-libc-dev amd64 5.15.0-160.170 [1,330 kB]\n",
            "Fetched 21.8 MB in 2s (12.5 MB/s)\n",
            "Extracting templates from packages: 100%\n",
            "Preconfiguring packages ...\n",
            "(Reading database ... 126675 files and directories currently installed.)\n",
            "Preparing to unpack .../base-files_12ubuntu4.7_amd64.deb ...\n",
            "Unpacking base-files (12ubuntu4.7) over (12ubuntu4.6) ...\n",
            "Setting up base-files (12ubuntu4.7) ...\n",
            "Installing new version of config file /etc/issue ...\n",
            "Installing new version of config file /etc/issue.net ...\n",
            "Installing new version of config file /etc/lsb-release ...\n",
            "(Reading database ... 126675 files and directories currently installed.)\n",
            "Preparing to unpack .../dpkg_1.21.1ubuntu2.6_amd64.deb ...\n",
            "Unpacking dpkg (1.21.1ubuntu2.6) over (1.21.1ubuntu2.3) ...\n",
            "Setting up dpkg (1.21.1ubuntu2.6) ...\n",
            "(Reading database ... 126675 files and directories currently installed.)\n",
            "Preparing to unpack .../libperl5.34_5.34.0-3ubuntu1.5_amd64.deb ...\n",
            "Unpacking libperl5.34:amd64 (5.34.0-3ubuntu1.5) over (5.34.0-3ubuntu1.3) ...\n",
            "Preparing to unpack .../perl_5.34.0-3ubuntu1.5_amd64.deb ...\n",
            "Unpacking perl (5.34.0-3ubuntu1.5) over (5.34.0-3ubuntu1.3) ...\n",
            "Preparing to unpack .../perl-base_5.34.0-3ubuntu1.5_amd64.deb ...\n",
            "Unpacking perl-base (5.34.0-3ubuntu1.5) over (5.34.0-3ubuntu1.3) ...\n",
            "Setting up perl-base (5.34.0-3ubuntu1.5) ...\n",
            "(Reading database ... 126675 files and directories currently installed.)\n",
            "Preparing to unpack .../perl-modules-5.34_5.34.0-3ubuntu1.5_all.deb ...\n",
            "Unpacking perl-modules-5.34 (5.34.0-3ubuntu1.5) over (5.34.0-3ubuntu1.3) ...\n",
            "Preparing to unpack .../libc-bin_2.35-0ubuntu3.11_amd64.deb ...\n",
            "Unpacking libc-bin (2.35-0ubuntu3.11) over (2.35-0ubuntu3.8) ...\n",
            "Setting up libc-bin (2.35-0ubuntu3.11) ...\n",
            "/sbin/ldconfig.real: /usr/local/lib/libtcm_debug.so.1 is not a symbolic link\n",
            "\n",
            "/sbin/ldconfig.real: /usr/local/lib/libtbbbind_2_0.so.3 is not a symbolic link\n",
            "\n",
            "/sbin/ldconfig.real: /usr/local/lib/libur_loader.so.0 is not a symbolic link\n",
            "\n",
            "/sbin/ldconfig.real: /usr/local/lib/libur_adapter_level_zero.so.0 is not a symbolic link\n",
            "\n",
            "/sbin/ldconfig.real: /usr/local/lib/libtbbmalloc_proxy.so.2 is not a symbolic link\n",
            "\n",
            "/sbin/ldconfig.real: /usr/local/lib/libumf.so.0 is not a symbolic link\n",
            "\n",
            "/sbin/ldconfig.real: /usr/local/lib/libtbbmalloc.so.2 is not a symbolic link\n",
            "\n",
            "/sbin/ldconfig.real: /usr/local/lib/libtbb.so.12 is not a symbolic link\n",
            "\n",
            "/sbin/ldconfig.real: /usr/local/lib/libur_adapter_level_zero_v2.so.0 is not a symbolic link\n",
            "\n",
            "/sbin/ldconfig.real: /usr/local/lib/libtbbbind_2_5.so.3 is not a symbolic link\n",
            "\n",
            "/sbin/ldconfig.real: /usr/local/lib/libhwloc.so.15 is not a symbolic link\n",
            "\n",
            "/sbin/ldconfig.real: /usr/local/lib/libtbbbind.so.3 is not a symbolic link\n",
            "\n",
            "/sbin/ldconfig.real: /usr/local/lib/libtcm.so.1 is not a symbolic link\n",
            "\n",
            "/sbin/ldconfig.real: /usr/local/lib/libur_adapter_opencl.so.0 is not a symbolic link\n",
            "\n",
            "(Reading database ... 126675 files and directories currently installed.)\n",
            "Preparing to unpack .../libpam0g_1.4.0-11ubuntu2.6_amd64.deb ...\n",
            "Unpacking libpam0g:amd64 (1.4.0-11ubuntu2.6) over (1.4.0-11ubuntu2.4) ...\n",
            "Setting up libpam0g:amd64 (1.4.0-11ubuntu2.6) ...\n",
            "(Reading database ... 126675 files and directories currently installed.)\n",
            "Preparing to unpack .../libpam-modules-bin_1.4.0-11ubuntu2.6_amd64.deb ...\n",
            "Unpacking libpam-modules-bin (1.4.0-11ubuntu2.6) over (1.4.0-11ubuntu2.4) ...\n",
            "Setting up libpam-modules-bin (1.4.0-11ubuntu2.6) ...\n",
            "(Reading database ... 126675 files and directories currently installed.)\n",
            "Preparing to unpack .../libpam-modules_1.4.0-11ubuntu2.6_amd64.deb ...\n",
            "Unpacking libpam-modules:amd64 (1.4.0-11ubuntu2.6) over (1.4.0-11ubuntu2.4) ...\n",
            "Setting up libpam-modules:amd64 (1.4.0-11ubuntu2.6) ...\n",
            "Installing new version of config file /etc/security/namespace.init ...\n",
            "(Reading database ... 126675 files and directories currently installed.)\n",
            "Preparing to unpack .../logsave_1.46.5-2ubuntu1.2_amd64.deb ...\n",
            "Unpacking logsave (1.46.5-2ubuntu1.2) over (1.46.5-2ubuntu1.1) ...\n",
            "Preparing to unpack .../libext2fs2_1.46.5-2ubuntu1.2_amd64.deb ...\n",
            "Unpacking libext2fs2:amd64 (1.46.5-2ubuntu1.2) over (1.46.5-2ubuntu1.1) ...\n",
            "Setting up libext2fs2:amd64 (1.46.5-2ubuntu1.2) ...\n",
            "(Reading database ... 126675 files and directories currently installed.)\n",
            "Preparing to unpack .../e2fsprogs_1.46.5-2ubuntu1.2_amd64.deb ...\n",
            "Unpacking e2fsprogs (1.46.5-2ubuntu1.2) over (1.46.5-2ubuntu1.1) ...\n",
            "Preparing to unpack .../libcap2_1%3a2.44-1ubuntu0.22.04.2_amd64.deb ...\n",
            "Unpacking libcap2:amd64 (1:2.44-1ubuntu0.22.04.2) over (1:2.44-1ubuntu0.22.04.1) ...\n",
            "Setting up libcap2:amd64 (1:2.44-1ubuntu0.22.04.2) ...\n",
            "(Reading database ... 126675 files and directories currently installed.)\n",
            "Preparing to unpack .../libpam-runtime_1.4.0-11ubuntu2.6_all.deb ...\n",
            "Unpacking libpam-runtime (1.4.0-11ubuntu2.6) over (1.4.0-11ubuntu2.4) ...\n",
            "Setting up libpam-runtime (1.4.0-11ubuntu2.6) ...\n",
            "(Reading database ... 126675 files and directories currently installed.)\n",
            "Preparing to unpack .../libudev1_249.11-0ubuntu3.17_amd64.deb ...\n",
            "Unpacking libudev1:amd64 (249.11-0ubuntu3.17) over (249.11-0ubuntu3.12) ...\n",
            "Setting up libudev1:amd64 (249.11-0ubuntu3.17) ...\n",
            "(Reading database ... 126675 files and directories currently installed.)\n",
            "Preparing to unpack .../libtasn1-6_4.18.0-4ubuntu0.1_amd64.deb ...\n",
            "Unpacking libtasn1-6:amd64 (4.18.0-4ubuntu0.1) over (4.18.0-4build1) ...\n",
            "Setting up libtasn1-6:amd64 (4.18.0-4ubuntu0.1) ...\n",
            "(Reading database ... 126675 files and directories currently installed.)\n",
            "Preparing to unpack .../libgnutls30_3.7.3-4ubuntu1.7_amd64.deb ...\n",
            "Unpacking libgnutls30:amd64 (3.7.3-4ubuntu1.7) over (3.7.3-4ubuntu1.5) ...\n",
            "Setting up libgnutls30:amd64 (3.7.3-4ubuntu1.7) ...\n",
            "(Reading database ... 126675 files and directories currently installed.)\n",
            "Preparing to unpack .../libseccomp2_2.5.3-2ubuntu3~22.04.1_amd64.deb ...\n",
            "Unpacking libseccomp2:amd64 (2.5.3-2ubuntu3~22.04.1) over (2.5.3-2ubuntu2) ...\n",
            "Setting up libseccomp2:amd64 (2.5.3-2ubuntu3~22.04.1) ...\n",
            "(Reading database ... 126675 files and directories currently installed.)\n",
            "Preparing to unpack .../00-libss2_1.46.5-2ubuntu1.2_amd64.deb ...\n",
            "Unpacking libss2:amd64 (1.46.5-2ubuntu1.2) over (1.46.5-2ubuntu1.1) ...\n",
            "Preparing to unpack .../01-openssl_3.0.2-0ubuntu1.20_amd64.deb ...\n",
            "Unpacking openssl (3.0.2-0ubuntu1.20) over (3.0.2-0ubuntu1.16) ...\n",
            "Preparing to unpack .../02-libctf0_2.38-4ubuntu2.8_amd64.deb ...\n",
            "Unpacking libctf0:amd64 (2.38-4ubuntu2.8) over (2.38-4ubuntu2.6) ...\n",
            "Preparing to unpack .../03-libctf-nobfd0_2.38-4ubuntu2.8_amd64.deb ...\n",
            "Unpacking libctf-nobfd0:amd64 (2.38-4ubuntu2.8) over (2.38-4ubuntu2.6) ...\n",
            "Preparing to unpack .../04-binutils-x86-64-linux-gnu_2.38-4ubuntu2.8_amd64.deb ...\n",
            "Unpacking binutils-x86-64-linux-gnu (2.38-4ubuntu2.8) over (2.38-4ubuntu2.6) ...\n",
            "Preparing to unpack .../05-libbinutils_2.38-4ubuntu2.8_amd64.deb ...\n",
            "Unpacking libbinutils:amd64 (2.38-4ubuntu2.8) over (2.38-4ubuntu2.6) ...\n",
            "Preparing to unpack .../06-binutils_2.38-4ubuntu2.8_amd64.deb ...\n",
            "Unpacking binutils (2.38-4ubuntu2.8) over (2.38-4ubuntu2.6) ...\n",
            "Preparing to unpack .../07-binutils-common_2.38-4ubuntu2.8_amd64.deb ...\n",
            "Unpacking binutils-common:amd64 (2.38-4ubuntu2.8) over (2.38-4ubuntu2.6) ...\n",
            "Preparing to unpack .../08-cuda-toolkit-12-config-common_12.9.79-1_all.deb ...\n",
            "Unpacking cuda-toolkit-12-config-common (12.9.79-1) over (12.5.82-1) ...\n",
            "Preparing to unpack .../09-cuda-toolkit-config-common_13.0.96-1_all.deb ...\n",
            "Unpacking cuda-toolkit-config-common (13.0.96-1) over (12.5.82-1) ...\n",
            "Preparing to unpack .../10-dpkg-dev_1.21.1ubuntu2.6_all.deb ...\n",
            "Unpacking dpkg-dev (1.21.1ubuntu2.6) over (1.21.1ubuntu2.3) ...\n",
            "Preparing to unpack .../11-libdpkg-perl_1.21.1ubuntu2.6_all.deb ...\n",
            "Unpacking libdpkg-perl (1.21.1ubuntu2.6) over (1.21.1ubuntu2.3) ...\n",
            "Preparing to unpack .../12-libldap-2.5-0_2.5.19+dfsg-0ubuntu0.22.04.1_amd64.deb ...\n",
            "Unpacking libldap-2.5-0:amd64 (2.5.19+dfsg-0ubuntu0.22.04.1) over (2.5.17+dfsg-0ubuntu0.22.04.1) ...\n",
            "Preparing to unpack .../13-linux-libc-dev_5.15.0-160.170_amd64.deb ...\n",
            "Unpacking linux-libc-dev:amd64 (5.15.0-160.170) over (5.15.0-113.123) ...\n",
            "Preparing to unpack .../14-python3-pkg-resources_68.1.2-2~jammy3_all.deb ...\n",
            "Unpacking python3-pkg-resources (68.1.2-2~jammy3) over (59.6.0-1.2ubuntu0.22.04.3) ...\n",
            "Preparing to unpack .../15-r-cran-hms_1.1.4-1.ca2204.1_all.deb ...\n",
            "Unpacking r-cran-hms (1.1.4-1.ca2204.1) over (1.1.3-1.ca2204.1) ...\n",
            "Setting up python3-pkg-resources (68.1.2-2~jammy3) ...\n",
            "Setting up cuda-toolkit-config-common (13.0.96-1) ...\n",
            "Setting up binutils-common:amd64 (2.38-4ubuntu2.8) ...\n",
            "Setting up linux-libc-dev:amd64 (5.15.0-160.170) ...\n",
            "Setting up libctf-nobfd0:amd64 (2.38-4ubuntu2.8) ...\n",
            "Setting up perl-modules-5.34 (5.34.0-3ubuntu1.5) ...\n",
            "Setting up libldap-2.5-0:amd64 (2.5.19+dfsg-0ubuntu0.22.04.1) ...\n",
            "Setting up r-cran-hms (1.1.4-1.ca2204.1) ...\n",
            "Setting up libss2:amd64 (1.46.5-2ubuntu1.2) ...\n",
            "Setting up logsave (1.46.5-2ubuntu1.2) ...\n",
            "Setting up libbinutils:amd64 (2.38-4ubuntu2.8) ...\n",
            "Setting up openssl (3.0.2-0ubuntu1.20) ...\n",
            "Setting up cuda-toolkit-12-config-common (12.9.79-1) ...\n",
            "Setting up libctf0:amd64 (2.38-4ubuntu2.8) ...\n",
            "Setting up libperl5.34:amd64 (5.34.0-3ubuntu1.5) ...\n",
            "Setting up e2fsprogs (1.46.5-2ubuntu1.2) ...\n",
            "Setting up perl (5.34.0-3ubuntu1.5) ...\n",
            "Setting up libdpkg-perl (1.21.1ubuntu2.6) ...\n",
            "Setting up binutils-x86-64-linux-gnu (2.38-4ubuntu2.8) ...\n",
            "Setting up binutils (2.38-4ubuntu2.8) ...\n",
            "Setting up dpkg-dev (1.21.1ubuntu2.6) ...\n",
            "Processing triggers for man-db (2.10.2-1) ...\n",
            "Processing triggers for libc-bin (2.35-0ubuntu3.11) ...\n",
            "/sbin/ldconfig.real: /usr/local/lib/libtcm_debug.so.1 is not a symbolic link\n",
            "\n",
            "/sbin/ldconfig.real: /usr/local/lib/libtbbbind_2_0.so.3 is not a symbolic link\n",
            "\n",
            "/sbin/ldconfig.real: /usr/local/lib/libur_loader.so.0 is not a symbolic link\n",
            "\n",
            "/sbin/ldconfig.real: /usr/local/lib/libur_adapter_level_zero.so.0 is not a symbolic link\n",
            "\n",
            "/sbin/ldconfig.real: /usr/local/lib/libtbbmalloc_proxy.so.2 is not a symbolic link\n",
            "\n",
            "/sbin/ldconfig.real: /usr/local/lib/libumf.so.0 is not a symbolic link\n",
            "\n",
            "/sbin/ldconfig.real: /usr/local/lib/libtbbmalloc.so.2 is not a symbolic link\n",
            "\n",
            "/sbin/ldconfig.real: /usr/local/lib/libtbb.so.12 is not a symbolic link\n",
            "\n",
            "/sbin/ldconfig.real: /usr/local/lib/libur_adapter_level_zero_v2.so.0 is not a symbolic link\n",
            "\n",
            "/sbin/ldconfig.real: /usr/local/lib/libtbbbind_2_5.so.3 is not a symbolic link\n",
            "\n",
            "/sbin/ldconfig.real: /usr/local/lib/libhwloc.so.15 is not a symbolic link\n",
            "\n",
            "/sbin/ldconfig.real: /usr/local/lib/libtbbbind.so.3 is not a symbolic link\n",
            "\n",
            "/sbin/ldconfig.real: /usr/local/lib/libtcm.so.1 is not a symbolic link\n",
            "\n",
            "/sbin/ldconfig.real: /usr/local/lib/libur_adapter_opencl.so.0 is not a symbolic link\n",
            "\n"
          ]
        }
      ],
      "source": [
        "#Update Colab Environment and System Libraries\n",
        "!apt-get update -y && apt-get upgrade -y\n"
      ]
    },
    {
      "cell_type": "code",
      "execution_count": null,
      "metadata": {
        "colab": {
          "base_uri": "https://localhost:8080/"
        },
        "id": "0agNVkK_DCf0",
        "outputId": "3b74b104-7253-40b6-be7f-ab12687cdc77"
      },
      "outputs": [
        {
          "name": "stdout",
          "output_type": "stream",
          "text": [
            "W: Skipping acquire of configured file 'main/source/Sources' as repository 'https://r2u.stat.illinois.edu/ubuntu jammy InRelease' does not seem to provide it (sources.list entry misspelt?)\n",
            "Reading package lists... Done\n",
            "Building dependency tree... Done\n",
            "Reading state information... Done\n",
            "E: Unable to locate package libnppig10\n",
            "E: Unable to locate package libnppc10\n",
            "E: Unable to locate package libnppial10\n"
          ]
        }
      ],
      "source": [
        "#Install Correct Version of CUDA for Colab GPU\n",
        "!apt-get update -qq && apt-get install -y \\\n",
        "    libcusolver11 libcusparse11 libcurand10 libcufft10 libnppig10 libnppc10 libnppial10 \\\n",
        "    cuda-toolkit-12-4"
      ]
    },
    {
      "cell_type": "code",
      "execution_count": null,
      "metadata": {
        "id": "sSt-4dWIDFOg"
      },
      "outputs": [],
      "source": [
        "#Set Correct CUDA Paths\n",
        "import os\n",
        "os.environ['CUDA_HOME'] = '/usr/local/cuda-12.4'\n",
        "os.environ['PATH'] += ':/usr/local/cuda-12.4/bin'\n",
        "os.environ['LD_LIBRARY_PATH'] += ':/usr/local/cuda-12.4/lib64'\n"
      ]
    },
    {
      "cell_type": "code",
      "execution_count": null,
      "metadata": {
        "colab": {
          "base_uri": "https://localhost:8080/",
          "height": 1000
        },
        "id": "wjt_aeX_DISp",
        "outputId": "f808c73b-de53-47ce-d6a4-148dd60ac4a6"
      },
      "outputs": [
        {
          "name": "stdout",
          "output_type": "stream",
          "text": [
            "Looking in indexes: https://pypi.org/simple, https://pypi.nvidia.com\n",
            "Collecting cuml-cu12==25.2.0\n",
            "  Downloading https://pypi.nvidia.com/cuml-cu12/cuml_cu12-25.2.0-cp312-cp312-manylinux_2_28_x86_64.whl (9.6 MB)\n",
            "\u001b[2K     \u001b[90m━━━━━━━━━━━━━━━━━━━━━━━━━━━━━━━━━━━━━━━━\u001b[0m \u001b[32m9.6/9.6 MB\u001b[0m \u001b[31m42.2 MB/s\u001b[0m eta \u001b[36m0:00:00\u001b[0m\n",
            "\u001b[?25hCollecting cudf-cu12==25.2.0\n",
            "  Downloading https://pypi.nvidia.com/cudf-cu12/cudf_cu12-25.2.0-cp312-cp312-manylinux_2_24_x86_64.manylinux_2_28_x86_64.whl (2.2 MB)\n",
            "\u001b[2K     \u001b[90m━━━━━━━━━━━━━━━━━━━━━━━━━━━━━━━━━━━━━━━━\u001b[0m \u001b[32m2.2/2.2 MB\u001b[0m \u001b[31m32.8 MB/s\u001b[0m eta \u001b[36m0:00:00\u001b[0m\n",
            "\u001b[?25hRequirement already satisfied: cupy-cuda12x in /usr/local/lib/python3.12/dist-packages (13.3.0)\n",
            "Collecting dask-cuda==25.2.0\n",
            "  Downloading https://pypi.nvidia.com/dask-cuda/dask_cuda-25.2.0-py3-none-any.whl (133 kB)\n",
            "\u001b[2K     \u001b[90m━━━━━━━━━━━━━━━━━━━━━━━━━━━━━━━━━━━━━\u001b[0m \u001b[32m133.9/133.9 kB\u001b[0m \u001b[31m100.7 MB/s\u001b[0m eta \u001b[36m0:00:00\u001b[0m\n",
            "\u001b[?25hCollecting dask-cudf-cu12==25.2.0\n",
            "  Downloading https://pypi.nvidia.com/dask-cudf-cu12/dask_cudf_cu12-25.2.0-py3-none-any.whl (50 kB)\n",
            "\u001b[2K     \u001b[90m━━━━━━━━━━━━━━━━━━━━━━━━━━━━━━━━━━━━━━━━\u001b[0m \u001b[32m50.4/50.4 kB\u001b[0m \u001b[31m50.1 MB/s\u001b[0m eta \u001b[36m0:00:00\u001b[0m\n",
            "\u001b[?25hRequirement already satisfied: cuda-python<13.0a0,>=12.6.2 in /usr/local/lib/python3.12/dist-packages (from cuml-cu12==25.2.0) (12.6.2.post1)\n",
            "Collecting cuvs-cu12==25.2.* (from cuml-cu12==25.2.0)\n",
            "  Downloading https://pypi.nvidia.com/cuvs-cu12/cuvs_cu12-25.2.1-cp312-cp312-manylinux_2_24_x86_64.manylinux_2_28_x86_64.whl (2.3 MB)\n",
            "\u001b[2K     \u001b[90m━━━━━━━━━━━━━━━━━━━━━━━━━━━━━━━━━━━━━━━━\u001b[0m \u001b[32m2.3/2.3 MB\u001b[0m \u001b[31m211.6 MB/s\u001b[0m eta \u001b[36m0:00:00\u001b[0m\n",
            "\u001b[?25hRequirement already satisfied: joblib>=0.11 in /usr/local/lib/python3.12/dist-packages (from cuml-cu12==25.2.0) (1.5.2)\n",
            "Collecting libcuml-cu12==25.2.* (from cuml-cu12==25.2.0)\n",
            "  Downloading https://pypi.nvidia.com/libcuml-cu12/libcuml_cu12-25.2.1-py3-none-manylinux_2_28_x86_64.whl (405.0 MB)\n",
            "\u001b[2K     \u001b[90m━━━━━━━━━━━━━━━━━━━━━━━━━━━━━━━━━━━━━━\u001b[0m \u001b[32m405.0/405.0 MB\u001b[0m \u001b[31m59.4 MB/s\u001b[0m eta \u001b[36m0:00:00\u001b[0m\n",
            "\u001b[?25hRequirement already satisfied: numba<0.61.0a0,>=0.59.1 in /usr/local/lib/python3.12/dist-packages (from cuml-cu12==25.2.0) (0.60.0)\n",
            "Requirement already satisfied: numpy<3.0a0,>=1.23 in /usr/local/lib/python3.12/dist-packages (from cuml-cu12==25.2.0) (2.0.2)\n",
            "Requirement already satisfied: nvidia-cublas-cu12 in /usr/local/lib/python3.12/dist-packages (from cuml-cu12==25.2.0) (12.6.4.1)\n",
            "Requirement already satisfied: nvidia-cufft-cu12 in /usr/local/lib/python3.12/dist-packages (from cuml-cu12==25.2.0) (11.3.0.4)\n",
            "Requirement already satisfied: nvidia-curand-cu12 in /usr/local/lib/python3.12/dist-packages (from cuml-cu12==25.2.0) (10.3.7.77)\n",
            "Requirement already satisfied: nvidia-cusolver-cu12 in /usr/local/lib/python3.12/dist-packages (from cuml-cu12==25.2.0) (11.7.1.2)\n",
            "Requirement already satisfied: nvidia-cusparse-cu12 in /usr/local/lib/python3.12/dist-packages (from cuml-cu12==25.2.0) (12.5.4.2)\n",
            "Requirement already satisfied: packaging in /usr/local/lib/python3.12/dist-packages (from cuml-cu12==25.2.0) (25.0)\n",
            "Collecting pylibraft-cu12==25.2.* (from cuml-cu12==25.2.0)\n",
            "  Downloading https://pypi.nvidia.com/pylibraft-cu12/pylibraft_cu12-25.2.0-cp312-cp312-manylinux_2_28_x86_64.whl (851 kB)\n",
            "\u001b[2K     \u001b[90m━━━━━━━━━━━━━━━━━━━━━━━━━━━━━━━━━━━━━\u001b[0m \u001b[32m851.2/851.2 kB\u001b[0m \u001b[31m165.1 MB/s\u001b[0m eta \u001b[36m0:00:00\u001b[0m\n",
            "\u001b[?25hCollecting raft-dask-cu12==25.2.* (from cuml-cu12==25.2.0)\n",
            "  Downloading https://pypi.nvidia.com/raft-dask-cu12/raft_dask_cu12-25.2.0-cp312-cp312-manylinux_2_28_x86_64.whl (293.5 MB)\n",
            "\u001b[2K     \u001b[90m━━━━━━━━━━━━━━━━━━━━━━━━━━━━━━━━━━━━━━\u001b[0m \u001b[32m293.5/293.5 MB\u001b[0m \u001b[31m63.9 MB/s\u001b[0m eta \u001b[36m0:00:00\u001b[0m\n",
            "\u001b[?25hCollecting rapids-dask-dependency==25.2.* (from cuml-cu12==25.2.0)\n",
            "  Downloading https://pypi.nvidia.com/rapids-dask-dependency/rapids_dask_dependency-25.2.0-py3-none-any.whl (22 kB)\n",
            "Collecting rmm-cu12==25.2.* (from cuml-cu12==25.2.0)\n",
            "  Downloading https://pypi.nvidia.com/rmm-cu12/rmm_cu12-25.2.0-cp312-cp312-manylinux_2_24_x86_64.manylinux_2_28_x86_64.whl (2.4 MB)\n",
            "\u001b[2K     \u001b[90m━━━━━━━━━━━━━━━━━━━━━━━━━━━━━━━━━━━━━━━━\u001b[0m \u001b[32m2.4/2.4 MB\u001b[0m \u001b[31m99.9 MB/s\u001b[0m eta \u001b[36m0:00:00\u001b[0m\n",
            "\u001b[?25hRequirement already satisfied: scipy>=1.8.0 in /usr/local/lib/python3.12/dist-packages (from cuml-cu12==25.2.0) (1.16.2)\n",
            "Requirement already satisfied: treelite==4.4.1 in /usr/local/lib/python3.12/dist-packages (from cuml-cu12==25.2.0) (4.4.1)\n",
            "Requirement already satisfied: cachetools in /usr/local/lib/python3.12/dist-packages (from cudf-cu12==25.2.0) (5.5.2)\n",
            "Requirement already satisfied: fsspec>=0.6.0 in /usr/local/lib/python3.12/dist-packages (from cudf-cu12==25.2.0) (2025.3.0)\n",
            "Collecting libcudf-cu12==25.2.* (from cudf-cu12==25.2.0)\n",
            "  Downloading https://pypi.nvidia.com/libcudf-cu12/libcudf_cu12-25.2.2-py3-none-manylinux_2_28_x86_64.whl (557.7 MB)\n",
            "\u001b[2K     \u001b[90m━━━━━━━━━━━━━━━━━━━━━━━━━━━━━━━━━━━━━━\u001b[0m \u001b[32m557.7/557.7 MB\u001b[0m \u001b[31m16.3 MB/s\u001b[0m eta \u001b[36m0:00:00\u001b[0m\n",
            "\u001b[?25hCollecting numba-cuda<0.3.0a0,>=0.2.0 (from cudf-cu12==25.2.0)\n",
            "  Downloading numba_cuda-0.2.0-py3-none-any.whl.metadata (1.5 kB)\n",
            "Requirement already satisfied: nvtx>=0.2.1 in /usr/local/lib/python3.12/dist-packages (from cudf-cu12==25.2.0) (0.2.13)\n",
            "Requirement already satisfied: pandas<2.2.4dev0,>=2.0 in /usr/local/lib/python3.12/dist-packages (from cudf-cu12==25.2.0) (2.2.2)\n",
            "Requirement already satisfied: pyarrow<20.0.0a0,>=14.0.0 in /usr/local/lib/python3.12/dist-packages (from cudf-cu12==25.2.0) (18.1.0)\n",
            "Collecting pylibcudf-cu12==25.2.* (from cudf-cu12==25.2.0)\n",
            "  Downloading https://pypi.nvidia.com/pylibcudf-cu12/pylibcudf_cu12-25.2.2-cp312-cp312-manylinux_2_24_x86_64.manylinux_2_28_x86_64.whl (27.2 MB)\n",
            "\u001b[2K     \u001b[90m━━━━━━━━━━━━━━━━━━━━━━━━━━━━━━━━━━━━━━━━\u001b[0m \u001b[32m27.2/27.2 MB\u001b[0m \u001b[31m22.4 MB/s\u001b[0m eta \u001b[36m0:00:00\u001b[0m\n",
            "\u001b[?25hRequirement already satisfied: pynvjitlink-cu12 in /usr/local/lib/python3.12/dist-packages (from cudf-cu12==25.2.0) (0.7.0)\n",
            "Requirement already satisfied: rich in /usr/local/lib/python3.12/dist-packages (from cudf-cu12==25.2.0) (13.9.4)\n",
            "Requirement already satisfied: typing_extensions>=4.0.0 in /usr/local/lib/python3.12/dist-packages (from cudf-cu12==25.2.0) (4.15.0)\n",
            "Requirement already satisfied: click>=8.1 in /usr/local/lib/python3.12/dist-packages (from dask-cuda==25.2.0) (8.3.0)\n",
            "Requirement already satisfied: pynvml<13.0.0a0,>=12.0.0 in /usr/local/lib/python3.12/dist-packages (from dask-cuda==25.2.0) (12.0.0)\n",
            "Requirement already satisfied: zict>=2.0.0 in /usr/local/lib/python3.12/dist-packages (from dask-cuda==25.2.0) (3.0.0)\n",
            "Collecting libcuvs-cu12==25.2.* (from cuvs-cu12==25.2.*->cuml-cu12==25.2.0)\n",
            "  Downloading https://pypi.nvidia.com/libcuvs-cu12/libcuvs_cu12-25.2.1-py3-none-manylinux_2_28_x86_64.whl (1184.5 MB)\n",
            "\u001b[2K     \u001b[90m━━━━━━━━━━━━━━━━━━━━━━━━━━━━━━━━━━━━━━━━\u001b[0m \u001b[32m1.2/1.2 GB\u001b[0m \u001b[31m31.5 MB/s\u001b[0m eta \u001b[36m0:00:00\u001b[0m\n",
            "\u001b[?25hCollecting libkvikio-cu12==25.2.* (from libcudf-cu12==25.2.*->cudf-cu12==25.2.0)\n",
            "  Downloading https://pypi.nvidia.com/libkvikio-cu12/libkvikio_cu12-25.2.1-py3-none-manylinux_2_28_x86_64.whl (2.1 MB)\n",
            "\u001b[2K     \u001b[90m━━━━━━━━━━━━━━━━━━━━━━━━━━━━━━━━━━━━━━━━\u001b[0m \u001b[32m2.1/2.1 MB\u001b[0m \u001b[31m46.8 MB/s\u001b[0m eta \u001b[36m0:00:00\u001b[0m\n",
            "\u001b[?25hCollecting nvidia-nvcomp-cu12==4.2.0.11 (from libcudf-cu12==25.2.*->cudf-cu12==25.2.0)\n",
            "  Downloading https://pypi.nvidia.com/nvidia-nvcomp-cu12/nvidia_nvcomp_cu12-4.2.0.11-py3-none-manylinux_2_28_x86_64.whl (46.3 MB)\n",
            "\u001b[2K     \u001b[90m━━━━━━━━━━━━━━━━━━━━━━━━━━━━━━━━━━━━━━━\u001b[0m \u001b[32m46.3/46.3 MB\u001b[0m \u001b[31m107.3 MB/s\u001b[0m eta \u001b[36m0:00:00\u001b[0m\n",
            "\u001b[?25hCollecting libraft-cu12==25.2.* (from libcuml-cu12==25.2.*->cuml-cu12==25.2.0)\n",
            "  Downloading https://pypi.nvidia.com/libraft-cu12/libraft_cu12-25.2.0-py3-none-manylinux_2_28_x86_64.whl (22.3 MB)\n",
            "\u001b[2K     \u001b[90m━━━━━━━━━━━━━━━━━━━━━━━━━━━━━━━━━━━━━━━\u001b[0m \u001b[32m22.3/22.3 MB\u001b[0m \u001b[31m112.2 MB/s\u001b[0m eta \u001b[36m0:00:00\u001b[0m\n",
            "\u001b[?25hCollecting distributed-ucxx-cu12==0.42.* (from raft-dask-cu12==25.2.*->cuml-cu12==25.2.0)\n",
            "  Downloading https://pypi.nvidia.com/distributed-ucxx-cu12/distributed_ucxx_cu12-0.42.0-py3-none-any.whl (24 kB)\n",
            "Collecting ucx-py-cu12==0.42.* (from raft-dask-cu12==25.2.*->cuml-cu12==25.2.0)\n",
            "  Downloading https://pypi.nvidia.com/ucx-py-cu12/ucx_py_cu12-0.42.0-cp312-cp312-manylinux_2_17_x86_64.manylinux2014_x86_64.manylinux_2_28_x86_64.whl (2.2 MB)\n",
            "\u001b[2K     \u001b[90m━━━━━━━━━━━━━━━━━━━━━━━━━━━━━━━━━━━━━━━━\u001b[0m \u001b[32m2.2/2.2 MB\u001b[0m \u001b[31m174.7 MB/s\u001b[0m eta \u001b[36m0:00:00\u001b[0m\n",
            "\u001b[?25hCollecting dask==2024.12.1 (from rapids-dask-dependency==25.2.*->cuml-cu12==25.2.0)\n",
            "\u001b[33m  WARNING: Retrying (Retry(total=4, connect=None, read=None, redirect=None, status=None)) after connection broken by 'ProtocolError('Connection aborted.', RemoteDisconnected('Remote end closed connection without response'))': /packages/6d/5a/cdc78a77bb1c7290fd1ccfe6001437f99a2af63e28343299abd09336236e/dask-2024.12.1-py3-none-any.whl.metadata\u001b[0m\u001b[33m\n",
            "\u001b[0m  Downloading dask-2024.12.1-py3-none-any.whl.metadata (3.7 kB)\n",
            "Collecting distributed==2024.12.1 (from rapids-dask-dependency==25.2.*->cuml-cu12==25.2.0)\n",
            "  Downloading distributed-2024.12.1-py3-none-any.whl.metadata (3.3 kB)\n",
            "Collecting dask-expr==1.1.21 (from rapids-dask-dependency==25.2.*->cuml-cu12==25.2.0)\n",
            "  Downloading dask_expr-1.1.21-py3-none-any.whl.metadata (2.6 kB)\n",
            "Requirement already satisfied: cloudpickle>=3.0.0 in /usr/local/lib/python3.12/dist-packages (from dask==2024.12.1->rapids-dask-dependency==25.2.*->cuml-cu12==25.2.0) (3.1.1)\n",
            "Requirement already satisfied: partd>=1.4.0 in /usr/local/lib/python3.12/dist-packages (from dask==2024.12.1->rapids-dask-dependency==25.2.*->cuml-cu12==25.2.0) (1.4.2)\n",
            "Requirement already satisfied: pyyaml>=5.3.1 in /usr/local/lib/python3.12/dist-packages (from dask==2024.12.1->rapids-dask-dependency==25.2.*->cuml-cu12==25.2.0) (6.0.3)\n",
            "Requirement already satisfied: toolz>=0.10.0 in /usr/local/lib/python3.12/dist-packages (from dask==2024.12.1->rapids-dask-dependency==25.2.*->cuml-cu12==25.2.0) (0.12.1)\n",
            "Requirement already satisfied: jinja2>=2.10.3 in /usr/local/lib/python3.12/dist-packages (from distributed==2024.12.1->rapids-dask-dependency==25.2.*->cuml-cu12==25.2.0) (3.1.6)\n",
            "Requirement already satisfied: locket>=1.0.0 in /usr/local/lib/python3.12/dist-packages (from distributed==2024.12.1->rapids-dask-dependency==25.2.*->cuml-cu12==25.2.0) (1.0.0)\n",
            "Requirement already satisfied: msgpack>=1.0.2 in /usr/local/lib/python3.12/dist-packages (from distributed==2024.12.1->rapids-dask-dependency==25.2.*->cuml-cu12==25.2.0) (1.1.2)\n",
            "Requirement already satisfied: psutil>=5.8.0 in /usr/local/lib/python3.12/dist-packages (from distributed==2024.12.1->rapids-dask-dependency==25.2.*->cuml-cu12==25.2.0) (5.9.5)\n",
            "Requirement already satisfied: sortedcontainers>=2.0.5 in /usr/local/lib/python3.12/dist-packages (from distributed==2024.12.1->rapids-dask-dependency==25.2.*->cuml-cu12==25.2.0) (2.4.0)\n",
            "Requirement already satisfied: tblib>=1.6.0 in /usr/local/lib/python3.12/dist-packages (from distributed==2024.12.1->rapids-dask-dependency==25.2.*->cuml-cu12==25.2.0) (3.1.0)\n",
            "Requirement already satisfied: tornado>=6.2.0 in /usr/local/lib/python3.12/dist-packages (from distributed==2024.12.1->rapids-dask-dependency==25.2.*->cuml-cu12==25.2.0) (6.5.1)\n",
            "Requirement already satisfied: urllib3>=1.26.5 in /usr/local/lib/python3.12/dist-packages (from distributed==2024.12.1->rapids-dask-dependency==25.2.*->cuml-cu12==25.2.0) (2.5.0)\n",
            "Collecting ucxx-cu12==0.42.* (from distributed-ucxx-cu12==0.42.*->raft-dask-cu12==25.2.*->cuml-cu12==25.2.0)\n",
            "  Downloading https://pypi.nvidia.com/ucxx-cu12/ucxx_cu12-0.42.0-cp312-cp312-manylinux_2_27_x86_64.manylinux_2_28_x86_64.whl (712 kB)\n",
            "\u001b[2K     \u001b[90m━━━━━━━━━━━━━━━━━━━━━━━━━━━━━━━━━━━━━\u001b[0m \u001b[32m712.7/712.7 kB\u001b[0m \u001b[31m177.7 MB/s\u001b[0m eta \u001b[36m0:00:00\u001b[0m\n",
            "\u001b[?25hRequirement already satisfied: libucx-cu12<1.19,>=1.15.0 in /usr/local/lib/python3.12/dist-packages (from ucx-py-cu12==0.42.*->raft-dask-cu12==25.2.*->cuml-cu12==25.2.0) (1.18.1)\n",
            "Collecting libucxx-cu12==0.42.* (from ucxx-cu12==0.42.*->distributed-ucxx-cu12==0.42.*->raft-dask-cu12==25.2.*->cuml-cu12==25.2.0)\n",
            "  Downloading https://pypi.nvidia.com/libucxx-cu12/libucxx_cu12-0.42.0-py3-none-manylinux_2_24_x86_64.manylinux_2_28_x86_64.whl (514 kB)\n",
            "\u001b[2K     \u001b[90m━━━━━━━━━━━━━━━━━━━━━━━━━━━━━━━━━━━━━\u001b[0m \u001b[32m514.8/514.8 kB\u001b[0m \u001b[31m202.7 MB/s\u001b[0m eta \u001b[36m0:00:00\u001b[0m\n",
            "\u001b[?25hRequirement already satisfied: fastrlock>=0.5 in /usr/local/lib/python3.12/dist-packages (from cupy-cuda12x) (0.8.3)\n",
            "Requirement already satisfied: llvmlite<0.44,>=0.43.0dev0 in /usr/local/lib/python3.12/dist-packages (from numba<0.61.0a0,>=0.59.1->cuml-cu12==25.2.0) (0.43.0)\n",
            "Requirement already satisfied: python-dateutil>=2.8.2 in /usr/local/lib/python3.12/dist-packages (from pandas<2.2.4dev0,>=2.0->cudf-cu12==25.2.0) (2.9.0.post0)\n",
            "Requirement already satisfied: pytz>=2020.1 in /usr/local/lib/python3.12/dist-packages (from pandas<2.2.4dev0,>=2.0->cudf-cu12==25.2.0) (2025.2)\n",
            "Requirement already satisfied: tzdata>=2022.7 in /usr/local/lib/python3.12/dist-packages (from pandas<2.2.4dev0,>=2.0->cudf-cu12==25.2.0) (2025.2)\n",
            "Requirement already satisfied: nvidia-ml-py<13.0.0a0,>=12.0.0 in /usr/local/lib/python3.12/dist-packages (from pynvml<13.0.0a0,>=12.0.0->dask-cuda==25.2.0) (12.575.51)\n",
            "Requirement already satisfied: nvidia-nvjitlink-cu12 in /usr/local/lib/python3.12/dist-packages (from nvidia-cufft-cu12->cuml-cu12==25.2.0) (12.6.85)\n",
            "Requirement already satisfied: markdown-it-py>=2.2.0 in /usr/local/lib/python3.12/dist-packages (from rich->cudf-cu12==25.2.0) (4.0.0)\n",
            "Requirement already satisfied: pygments<3.0.0,>=2.13.0 in /usr/local/lib/python3.12/dist-packages (from rich->cudf-cu12==25.2.0) (2.19.2)\n",
            "Requirement already satisfied: mdurl~=0.1 in /usr/local/lib/python3.12/dist-packages (from markdown-it-py>=2.2.0->rich->cudf-cu12==25.2.0) (0.1.2)\n",
            "Requirement already satisfied: six>=1.5 in /usr/local/lib/python3.12/dist-packages (from python-dateutil>=2.8.2->pandas<2.2.4dev0,>=2.0->cudf-cu12==25.2.0) (1.17.0)\n",
            "Requirement already satisfied: MarkupSafe>=2.0 in /usr/local/lib/python3.12/dist-packages (from jinja2>=2.10.3->distributed==2024.12.1->rapids-dask-dependency==25.2.*->cuml-cu12==25.2.0) (3.0.3)\n",
            "Downloading dask-2024.12.1-py3-none-any.whl (1.3 MB)\n",
            "\u001b[2K   \u001b[90m━━━━━━━━━━━━━━━━━━━━━━━━━━━━━━━━━━━━━━━━\u001b[0m \u001b[32m1.3/1.3 MB\u001b[0m \u001b[31m15.9 MB/s\u001b[0m eta \u001b[36m0:00:00\u001b[0m\n",
            "\u001b[?25hDownloading dask_expr-1.1.21-py3-none-any.whl (244 kB)\n",
            "\u001b[2K   \u001b[90m━━━━━━━━━━━━━━━━━━━━━━━━━━━━━━━━━━━━━━━━\u001b[0m \u001b[32m244.3/244.3 kB\u001b[0m \u001b[31m16.9 MB/s\u001b[0m eta \u001b[36m0:00:00\u001b[0m\n",
            "\u001b[?25hDownloading distributed-2024.12.1-py3-none-any.whl (1.0 MB)\n",
            "\u001b[2K   \u001b[90m━━━━━━━━━━━━━━━━━━━━━━━━━━━━━━━━━━━━━━━━\u001b[0m \u001b[32m1.0/1.0 MB\u001b[0m \u001b[31m44.7 MB/s\u001b[0m eta \u001b[36m0:00:00\u001b[0m\n",
            "\u001b[?25hDownloading numba_cuda-0.2.0-py3-none-any.whl (443 kB)\n",
            "\u001b[2K   \u001b[90m━━━━━━━━━━━━━━━━━━━━━━━━━━━━━━━━━━━━━━━━\u001b[0m \u001b[32m443.7/443.7 kB\u001b[0m \u001b[31m28.7 MB/s\u001b[0m eta \u001b[36m0:00:00\u001b[0m\n",
            "\u001b[?25hInstalling collected packages: libkvikio-cu12, rmm-cu12, nvidia-nvcomp-cu12, libucxx-cu12, ucxx-cu12, ucx-py-cu12, numba-cuda, libcudf-cu12, dask, pylibcudf-cu12, libraft-cu12, distributed, dask-expr, rapids-dask-dependency, pylibraft-cu12, libcuvs-cu12, cudf-cu12, libcuml-cu12, distributed-ucxx-cu12, dask-cudf-cu12, dask-cuda, cuvs-cu12, raft-dask-cu12, cuml-cu12\n",
            "  Attempting uninstall: libkvikio-cu12\n",
            "    Found existing installation: libkvikio-cu12 25.6.0\n",
            "    Uninstalling libkvikio-cu12-25.6.0:\n",
            "      Successfully uninstalled libkvikio-cu12-25.6.0\n",
            "  Attempting uninstall: rmm-cu12\n",
            "    Found existing installation: rmm-cu12 25.6.0\n",
            "    Uninstalling rmm-cu12-25.6.0:\n",
            "      Successfully uninstalled rmm-cu12-25.6.0\n",
            "  Attempting uninstall: libucxx-cu12\n",
            "    Found existing installation: libucxx-cu12 0.44.0\n",
            "    Uninstalling libucxx-cu12-0.44.0:\n",
            "      Successfully uninstalled libucxx-cu12-0.44.0\n",
            "  Attempting uninstall: ucxx-cu12\n",
            "    Found existing installation: ucxx-cu12 0.44.0\n",
            "    Uninstalling ucxx-cu12-0.44.0:\n",
            "      Successfully uninstalled ucxx-cu12-0.44.0\n",
            "  Attempting uninstall: ucx-py-cu12\n",
            "    Found existing installation: ucx-py-cu12 0.44.0\n",
            "    Uninstalling ucx-py-cu12-0.44.0:\n",
            "      Successfully uninstalled ucx-py-cu12-0.44.0\n",
            "  Attempting uninstall: numba-cuda\n",
            "    Found existing installation: numba-cuda 0.11.0\n",
            "    Uninstalling numba-cuda-0.11.0:\n",
            "      Successfully uninstalled numba-cuda-0.11.0\n",
            "  Attempting uninstall: libcudf-cu12\n",
            "    Found existing installation: libcudf-cu12 25.6.0\n",
            "    Uninstalling libcudf-cu12-25.6.0:\n",
            "      Successfully uninstalled libcudf-cu12-25.6.0\n",
            "  Attempting uninstall: dask\n",
            "    Found existing installation: dask 2025.5.0\n",
            "    Uninstalling dask-2025.5.0:\n",
            "      Successfully uninstalled dask-2025.5.0\n",
            "  Attempting uninstall: pylibcudf-cu12\n",
            "    Found existing installation: pylibcudf-cu12 25.6.0\n",
            "    Uninstalling pylibcudf-cu12-25.6.0:\n",
            "      Successfully uninstalled pylibcudf-cu12-25.6.0\n",
            "  Attempting uninstall: libraft-cu12\n",
            "    Found existing installation: libraft-cu12 25.6.0\n",
            "    Uninstalling libraft-cu12-25.6.0:\n",
            "      Successfully uninstalled libraft-cu12-25.6.0\n",
            "  Attempting uninstall: distributed\n",
            "    Found existing installation: distributed 2025.5.0\n",
            "    Uninstalling distributed-2025.5.0:\n",
            "      Successfully uninstalled distributed-2025.5.0\n",
            "  Attempting uninstall: rapids-dask-dependency\n",
            "    Found existing installation: rapids-dask-dependency 25.6.0\n",
            "    Uninstalling rapids-dask-dependency-25.6.0:\n",
            "      Successfully uninstalled rapids-dask-dependency-25.6.0\n",
            "  Attempting uninstall: pylibraft-cu12\n",
            "    Found existing installation: pylibraft-cu12 25.6.0\n",
            "    Uninstalling pylibraft-cu12-25.6.0:\n",
            "      Successfully uninstalled pylibraft-cu12-25.6.0\n",
            "  Attempting uninstall: libcuvs-cu12\n",
            "    Found existing installation: libcuvs-cu12 25.6.1\n",
            "    Uninstalling libcuvs-cu12-25.6.1:\n",
            "      Successfully uninstalled libcuvs-cu12-25.6.1\n",
            "  Attempting uninstall: cudf-cu12\n",
            "    Found existing installation: cudf-cu12 25.6.0\n",
            "    Uninstalling cudf-cu12-25.6.0:\n",
            "      Successfully uninstalled cudf-cu12-25.6.0\n",
            "  Attempting uninstall: libcuml-cu12\n",
            "    Found existing installation: libcuml-cu12 25.6.0\n",
            "    Uninstalling libcuml-cu12-25.6.0:\n",
            "      Successfully uninstalled libcuml-cu12-25.6.0\n",
            "  Attempting uninstall: distributed-ucxx-cu12\n",
            "    Found existing installation: distributed-ucxx-cu12 0.44.0\n",
            "    Uninstalling distributed-ucxx-cu12-0.44.0:\n",
            "      Successfully uninstalled distributed-ucxx-cu12-0.44.0\n",
            "  Attempting uninstall: dask-cudf-cu12\n",
            "    Found existing installation: dask-cudf-cu12 25.6.0\n",
            "    Uninstalling dask-cudf-cu12-25.6.0:\n",
            "      Successfully uninstalled dask-cudf-cu12-25.6.0\n",
            "  Attempting uninstall: dask-cuda\n",
            "    Found existing installation: dask-cuda 25.6.0\n",
            "    Uninstalling dask-cuda-25.6.0:\n",
            "      Successfully uninstalled dask-cuda-25.6.0\n",
            "  Attempting uninstall: cuvs-cu12\n",
            "    Found existing installation: cuvs-cu12 25.6.1\n",
            "    Uninstalling cuvs-cu12-25.6.1:\n",
            "      Successfully uninstalled cuvs-cu12-25.6.1\n",
            "  Attempting uninstall: raft-dask-cu12\n",
            "    Found existing installation: raft-dask-cu12 25.6.0\n",
            "    Uninstalling raft-dask-cu12-25.6.0:\n",
            "      Successfully uninstalled raft-dask-cu12-25.6.0\n",
            "  Attempting uninstall: cuml-cu12\n",
            "    Found existing installation: cuml-cu12 25.6.0\n",
            "    Uninstalling cuml-cu12-25.6.0:\n",
            "      Successfully uninstalled cuml-cu12-25.6.0\n",
            "\u001b[31mERROR: pip's dependency resolver does not currently take into account all the packages that are installed. This behaviour is the source of the following dependency conflicts.\n",
            "libcugraph-cu12 25.6.0 requires libraft-cu12==25.6.*, but you have libraft-cu12 25.2.0 which is incompatible.\n",
            "pylibcugraph-cu12 25.6.0 requires pylibraft-cu12==25.6.*, but you have pylibraft-cu12 25.2.0 which is incompatible.\n",
            "pylibcugraph-cu12 25.6.0 requires rmm-cu12==25.6.*, but you have rmm-cu12 25.2.0 which is incompatible.\n",
            "cudf-polars-cu12 25.6.0 requires pylibcudf-cu12==25.6.*, but you have pylibcudf-cu12 25.2.2 which is incompatible.\u001b[0m\u001b[31m\n",
            "\u001b[0mSuccessfully installed cudf-cu12-25.2.0 cuml-cu12-25.2.0 cuvs-cu12-25.2.1 dask-2024.12.1 dask-cuda-25.2.0 dask-cudf-cu12-25.2.0 dask-expr-1.1.21 distributed-2024.12.1 distributed-ucxx-cu12-0.42.0 libcudf-cu12-25.2.2 libcuml-cu12-25.2.1 libcuvs-cu12-25.2.1 libkvikio-cu12-25.2.1 libraft-cu12-25.2.0 libucxx-cu12-0.42.0 numba-cuda-0.2.0 nvidia-nvcomp-cu12-4.2.0.11 pylibcudf-cu12-25.2.2 pylibraft-cu12-25.2.0 raft-dask-cu12-25.2.0 rapids-dask-dependency-25.2.0 rmm-cu12-25.2.0 ucx-py-cu12-0.42.0 ucxx-cu12-0.42.0\n"
          ]
        },
        {
          "data": {
            "application/vnd.colab-display-data+json": {
              "id": "b22055338e414cbba910dea26aecf4c0",
              "pip_warning": {
                "packages": [
                  "rapids_dask_dependency"
                ]
              }
            }
          },
          "metadata": {},
          "output_type": "display_data"
        }
      ],
      "source": [
        "#Install RAPIDS and NVIDIA Dependencies\n",
        "!pip install --extra-index-url=https://pypi.nvidia.com \\\n",
        "    cuml-cu12==25.2.0 cudf-cu12==25.2.0 cupy-cuda12x dask-cuda==25.2.0 dask-cudf-cu12==25.2.0\n"
      ]
    },
    {
      "cell_type": "code",
      "execution_count": null,
      "metadata": {
        "colab": {
          "base_uri": "https://localhost:8080/"
        },
        "id": "19mK1sF0DMQA",
        "outputId": "9d823e2c-3274-4089-c358-52e7545a0c2f"
      },
      "outputs": [
        {
          "name": "stdout",
          "output_type": "stream",
          "text": [
            "Collecting tensorflow==2.18.0\n",
            "  Downloading tensorflow-2.18.0-cp312-cp312-manylinux_2_17_x86_64.manylinux2014_x86_64.whl.metadata (4.1 kB)\n",
            "Requirement already satisfied: absl-py>=1.0.0 in /usr/local/lib/python3.12/dist-packages (from tensorflow==2.18.0) (1.4.0)\n",
            "Requirement already satisfied: astunparse>=1.6.0 in /usr/local/lib/python3.12/dist-packages (from tensorflow==2.18.0) (1.6.3)\n",
            "Requirement already satisfied: flatbuffers>=24.3.25 in /usr/local/lib/python3.12/dist-packages (from tensorflow==2.18.0) (25.9.23)\n",
            "Requirement already satisfied: gast!=0.5.0,!=0.5.1,!=0.5.2,>=0.2.1 in /usr/local/lib/python3.12/dist-packages (from tensorflow==2.18.0) (0.6.0)\n",
            "Requirement already satisfied: google-pasta>=0.1.1 in /usr/local/lib/python3.12/dist-packages (from tensorflow==2.18.0) (0.2.0)\n",
            "Requirement already satisfied: libclang>=13.0.0 in /usr/local/lib/python3.12/dist-packages (from tensorflow==2.18.0) (18.1.1)\n",
            "Requirement already satisfied: opt-einsum>=2.3.2 in /usr/local/lib/python3.12/dist-packages (from tensorflow==2.18.0) (3.4.0)\n",
            "Requirement already satisfied: packaging in /usr/local/lib/python3.12/dist-packages (from tensorflow==2.18.0) (25.0)\n",
            "Requirement already satisfied: protobuf!=4.21.0,!=4.21.1,!=4.21.2,!=4.21.3,!=4.21.4,!=4.21.5,<6.0.0dev,>=3.20.3 in /usr/local/lib/python3.12/dist-packages (from tensorflow==2.18.0) (3.20.3)\n",
            "Requirement already satisfied: requests<3,>=2.21.0 in /usr/local/lib/python3.12/dist-packages (from tensorflow==2.18.0) (2.32.4)\n",
            "Requirement already satisfied: setuptools in /usr/local/lib/python3.12/dist-packages (from tensorflow==2.18.0) (75.2.0)\n",
            "Requirement already satisfied: six>=1.12.0 in /usr/local/lib/python3.12/dist-packages (from tensorflow==2.18.0) (1.17.0)\n",
            "Requirement already satisfied: termcolor>=1.1.0 in /usr/local/lib/python3.12/dist-packages (from tensorflow==2.18.0) (3.1.0)\n",
            "Requirement already satisfied: typing-extensions>=3.6.6 in /usr/local/lib/python3.12/dist-packages (from tensorflow==2.18.0) (4.15.0)\n",
            "Requirement already satisfied: wrapt>=1.11.0 in /usr/local/lib/python3.12/dist-packages (from tensorflow==2.18.0) (1.17.3)\n",
            "Requirement already satisfied: grpcio<2.0,>=1.24.3 in /usr/local/lib/python3.12/dist-packages (from tensorflow==2.18.0) (1.75.1)\n",
            "Collecting tensorboard<2.19,>=2.18 (from tensorflow==2.18.0)\n",
            "  Downloading tensorboard-2.18.0-py3-none-any.whl.metadata (1.6 kB)\n",
            "Requirement already satisfied: keras>=3.5.0 in /usr/local/lib/python3.12/dist-packages (from tensorflow==2.18.0) (3.10.0)\n",
            "Requirement already satisfied: numpy<2.1.0,>=1.26.0 in /usr/local/lib/python3.12/dist-packages (from tensorflow==2.18.0) (2.0.2)\n",
            "Requirement already satisfied: h5py>=3.11.0 in /usr/local/lib/python3.12/dist-packages (from tensorflow==2.18.0) (3.15.0)\n",
            "Collecting ml-dtypes<0.5.0,>=0.4.0 (from tensorflow==2.18.0)\n",
            "  Downloading ml_dtypes-0.4.1-cp312-cp312-manylinux_2_17_x86_64.manylinux2014_x86_64.whl.metadata (20 kB)\n",
            "Requirement already satisfied: wheel<1.0,>=0.23.0 in /usr/local/lib/python3.12/dist-packages (from astunparse>=1.6.0->tensorflow==2.18.0) (0.45.1)\n",
            "Requirement already satisfied: rich in /usr/local/lib/python3.12/dist-packages (from keras>=3.5.0->tensorflow==2.18.0) (13.9.4)\n",
            "Requirement already satisfied: namex in /usr/local/lib/python3.12/dist-packages (from keras>=3.5.0->tensorflow==2.18.0) (0.1.0)\n",
            "Requirement already satisfied: optree in /usr/local/lib/python3.12/dist-packages (from keras>=3.5.0->tensorflow==2.18.0) (0.17.0)\n",
            "Requirement already satisfied: charset_normalizer<4,>=2 in /usr/local/lib/python3.12/dist-packages (from requests<3,>=2.21.0->tensorflow==2.18.0) (3.4.4)\n",
            "Requirement already satisfied: idna<4,>=2.5 in /usr/local/lib/python3.12/dist-packages (from requests<3,>=2.21.0->tensorflow==2.18.0) (3.11)\n",
            "Requirement already satisfied: urllib3<3,>=1.21.1 in /usr/local/lib/python3.12/dist-packages (from requests<3,>=2.21.0->tensorflow==2.18.0) (2.5.0)\n",
            "Requirement already satisfied: certifi>=2017.4.17 in /usr/local/lib/python3.12/dist-packages (from requests<3,>=2.21.0->tensorflow==2.18.0) (2025.10.5)\n",
            "Requirement already satisfied: markdown>=2.6.8 in /usr/local/lib/python3.12/dist-packages (from tensorboard<2.19,>=2.18->tensorflow==2.18.0) (3.9)\n",
            "Requirement already satisfied: tensorboard-data-server<0.8.0,>=0.7.0 in /usr/local/lib/python3.12/dist-packages (from tensorboard<2.19,>=2.18->tensorflow==2.18.0) (0.7.2)\n",
            "Requirement already satisfied: werkzeug>=1.0.1 in /usr/local/lib/python3.12/dist-packages (from tensorboard<2.19,>=2.18->tensorflow==2.18.0) (3.1.3)\n",
            "Requirement already satisfied: MarkupSafe>=2.1.1 in /usr/local/lib/python3.12/dist-packages (from werkzeug>=1.0.1->tensorboard<2.19,>=2.18->tensorflow==2.18.0) (3.0.3)\n",
            "Requirement already satisfied: markdown-it-py>=2.2.0 in /usr/local/lib/python3.12/dist-packages (from rich->keras>=3.5.0->tensorflow==2.18.0) (4.0.0)\n",
            "Requirement already satisfied: pygments<3.0.0,>=2.13.0 in /usr/local/lib/python3.12/dist-packages (from rich->keras>=3.5.0->tensorflow==2.18.0) (2.19.2)\n",
            "Requirement already satisfied: mdurl~=0.1 in /usr/local/lib/python3.12/dist-packages (from markdown-it-py>=2.2.0->rich->keras>=3.5.0->tensorflow==2.18.0) (0.1.2)\n",
            "Downloading tensorflow-2.18.0-cp312-cp312-manylinux_2_17_x86_64.manylinux2014_x86_64.whl (615.5 MB)\n",
            "\u001b[2K   \u001b[90m━━━━━━━━━━━━━━━━━━━━━━━━━━━━━━━━━━━━━━━\u001b[0m \u001b[32m615.5/615.5 MB\u001b[0m \u001b[31m781.1 kB/s\u001b[0m eta \u001b[36m0:00:00\u001b[0m\n",
            "\u001b[?25hDownloading ml_dtypes-0.4.1-cp312-cp312-manylinux_2_17_x86_64.manylinux2014_x86_64.whl (2.2 MB)\n",
            "\u001b[2K   \u001b[90m━━━━━━━━━━━━━━━━━━━━━━━━━━━━━━━━━━━━━━━━\u001b[0m \u001b[32m2.2/2.2 MB\u001b[0m \u001b[31m68.6 MB/s\u001b[0m eta \u001b[36m0:00:00\u001b[0m\n",
            "\u001b[?25hDownloading tensorboard-2.18.0-py3-none-any.whl (5.5 MB)\n",
            "\u001b[2K   \u001b[90m━━━━━━━━━━━━━━━━━━━━━━━━━━━━━━━━━━━━━━━━\u001b[0m \u001b[32m5.5/5.5 MB\u001b[0m \u001b[31m97.6 MB/s\u001b[0m eta \u001b[36m0:00:00\u001b[0m\n",
            "\u001b[?25hInstalling collected packages: ml-dtypes, tensorboard, tensorflow\n",
            "  Attempting uninstall: ml-dtypes\n",
            "    Found existing installation: ml_dtypes 0.5.3\n",
            "    Uninstalling ml_dtypes-0.5.3:\n",
            "      Successfully uninstalled ml_dtypes-0.5.3\n",
            "  Attempting uninstall: tensorboard\n",
            "    Found existing installation: tensorboard 2.19.0\n",
            "    Uninstalling tensorboard-2.19.0:\n",
            "      Successfully uninstalled tensorboard-2.19.0\n",
            "  Attempting uninstall: tensorflow\n",
            "    Found existing installation: tensorflow 2.19.0\n",
            "    Uninstalling tensorflow-2.19.0:\n",
            "      Successfully uninstalled tensorflow-2.19.0\n",
            "\u001b[31mERROR: pip's dependency resolver does not currently take into account all the packages that are installed. This behaviour is the source of the following dependency conflicts.\n",
            "tf-keras 2.19.0 requires tensorflow<2.20,>=2.19, but you have tensorflow 2.18.0 which is incompatible.\n",
            "tensorstore 0.1.78 requires ml_dtypes>=0.5.0, but you have ml-dtypes 0.4.1 which is incompatible.\n",
            "tensorflow-text 2.19.0 requires tensorflow<2.20,>=2.19.0, but you have tensorflow 2.18.0 which is incompatible.\n",
            "tensorflow-decision-forests 1.12.0 requires tensorflow==2.19.0, but you have tensorflow 2.18.0 which is incompatible.\u001b[0m\u001b[31m\n",
            "\u001b[0mSuccessfully installed ml-dtypes-0.4.1 tensorboard-2.18.0 tensorflow-2.18.0\n",
            "Requirement already satisfied: gymnasium in /usr/local/lib/python3.12/dist-packages (1.2.1)\n",
            "Collecting gym-anytrading\n",
            "  Downloading gym_anytrading-2.0.0-py3-none-any.whl.metadata (292 bytes)\n",
            "Requirement already satisfied: yfinance in /usr/local/lib/python3.12/dist-packages (0.2.66)\n",
            "Requirement already satisfied: xgboost in /usr/local/lib/python3.12/dist-packages (3.0.5)\n",
            "Requirement already satisfied: joblib in /usr/local/lib/python3.12/dist-packages (1.5.2)\n",
            "Collecting stable-baselines3[extra]\n",
            "  Downloading stable_baselines3-2.7.0-py3-none-any.whl.metadata (4.8 kB)\n",
            "Requirement already satisfied: numpy<3.0,>=1.20 in /usr/local/lib/python3.12/dist-packages (from stable-baselines3[extra]) (2.0.2)\n",
            "Requirement already satisfied: torch<3.0,>=2.3 in /usr/local/lib/python3.12/dist-packages (from stable-baselines3[extra]) (2.8.0+cu126)\n",
            "Requirement already satisfied: cloudpickle in /usr/local/lib/python3.12/dist-packages (from stable-baselines3[extra]) (3.1.1)\n",
            "Requirement already satisfied: pandas in /usr/local/lib/python3.12/dist-packages (from stable-baselines3[extra]) (2.2.2)\n",
            "Requirement already satisfied: matplotlib in /usr/local/lib/python3.12/dist-packages (from stable-baselines3[extra]) (3.10.0)\n",
            "Requirement already satisfied: opencv-python in /usr/local/lib/python3.12/dist-packages (from stable-baselines3[extra]) (4.12.0.88)\n",
            "Requirement already satisfied: pygame in /usr/local/lib/python3.12/dist-packages (from stable-baselines3[extra]) (2.6.1)\n",
            "Requirement already satisfied: tensorboard>=2.9.1 in /usr/local/lib/python3.12/dist-packages (from stable-baselines3[extra]) (2.18.0)\n",
            "Requirement already satisfied: psutil in /usr/local/lib/python3.12/dist-packages (from stable-baselines3[extra]) (5.9.5)\n",
            "Requirement already satisfied: tqdm in /usr/local/lib/python3.12/dist-packages (from stable-baselines3[extra]) (4.67.1)\n",
            "Requirement already satisfied: rich in /usr/local/lib/python3.12/dist-packages (from stable-baselines3[extra]) (13.9.4)\n",
            "Requirement already satisfied: ale-py>=0.9.0 in /usr/local/lib/python3.12/dist-packages (from stable-baselines3[extra]) (0.11.2)\n",
            "Requirement already satisfied: pillow in /usr/local/lib/python3.12/dist-packages (from stable-baselines3[extra]) (11.3.0)\n",
            "Requirement already satisfied: typing-extensions>=4.3.0 in /usr/local/lib/python3.12/dist-packages (from gymnasium) (4.15.0)\n",
            "Requirement already satisfied: farama-notifications>=0.0.1 in /usr/local/lib/python3.12/dist-packages (from gymnasium) (0.0.4)\n",
            "Requirement already satisfied: requests>=2.31 in /usr/local/lib/python3.12/dist-packages (from yfinance) (2.32.4)\n",
            "Requirement already satisfied: multitasking>=0.0.7 in /usr/local/lib/python3.12/dist-packages (from yfinance) (0.0.12)\n",
            "Requirement already satisfied: platformdirs>=2.0.0 in /usr/local/lib/python3.12/dist-packages (from yfinance) (4.5.0)\n",
            "Requirement already satisfied: pytz>=2022.5 in /usr/local/lib/python3.12/dist-packages (from yfinance) (2025.2)\n",
            "Requirement already satisfied: frozendict>=2.3.4 in /usr/local/lib/python3.12/dist-packages (from yfinance) (2.4.6)\n",
            "Requirement already satisfied: peewee>=3.16.2 in /usr/local/lib/python3.12/dist-packages (from yfinance) (3.18.2)\n",
            "Requirement already satisfied: beautifulsoup4>=4.11.1 in /usr/local/lib/python3.12/dist-packages (from yfinance) (4.13.5)\n",
            "Requirement already satisfied: curl_cffi>=0.7 in /usr/local/lib/python3.12/dist-packages (from yfinance) (0.13.0)\n",
            "Requirement already satisfied: protobuf>=3.19.0 in /usr/local/lib/python3.12/dist-packages (from yfinance) (3.20.3)\n",
            "Requirement already satisfied: websockets>=13.0 in /usr/local/lib/python3.12/dist-packages (from yfinance) (15.0.1)\n",
            "Requirement already satisfied: nvidia-nccl-cu12 in /usr/local/lib/python3.12/dist-packages (from xgboost) (2.27.3)\n",
            "Requirement already satisfied: scipy in /usr/local/lib/python3.12/dist-packages (from xgboost) (1.16.2)\n",
            "Requirement already satisfied: soupsieve>1.2 in /usr/local/lib/python3.12/dist-packages (from beautifulsoup4>=4.11.1->yfinance) (2.8)\n",
            "Requirement already satisfied: cffi>=1.12.0 in /usr/local/lib/python3.12/dist-packages (from curl_cffi>=0.7->yfinance) (2.0.0)\n",
            "Requirement already satisfied: certifi>=2024.2.2 in /usr/local/lib/python3.12/dist-packages (from curl_cffi>=0.7->yfinance) (2025.10.5)\n",
            "Requirement already satisfied: contourpy>=1.0.1 in /usr/local/lib/python3.12/dist-packages (from matplotlib->stable-baselines3[extra]) (1.3.3)\n",
            "Requirement already satisfied: cycler>=0.10 in /usr/local/lib/python3.12/dist-packages (from matplotlib->stable-baselines3[extra]) (0.12.1)\n",
            "Requirement already satisfied: fonttools>=4.22.0 in /usr/local/lib/python3.12/dist-packages (from matplotlib->stable-baselines3[extra]) (4.60.1)\n",
            "Requirement already satisfied: kiwisolver>=1.3.1 in /usr/local/lib/python3.12/dist-packages (from matplotlib->stable-baselines3[extra]) (1.4.9)\n",
            "Requirement already satisfied: packaging>=20.0 in /usr/local/lib/python3.12/dist-packages (from matplotlib->stable-baselines3[extra]) (25.0)\n",
            "Requirement already satisfied: pyparsing>=2.3.1 in /usr/local/lib/python3.12/dist-packages (from matplotlib->stable-baselines3[extra]) (3.2.5)\n",
            "Requirement already satisfied: python-dateutil>=2.7 in /usr/local/lib/python3.12/dist-packages (from matplotlib->stable-baselines3[extra]) (2.9.0.post0)\n",
            "Requirement already satisfied: tzdata>=2022.7 in /usr/local/lib/python3.12/dist-packages (from pandas->stable-baselines3[extra]) (2025.2)\n",
            "Requirement already satisfied: charset_normalizer<4,>=2 in /usr/local/lib/python3.12/dist-packages (from requests>=2.31->yfinance) (3.4.4)\n",
            "Requirement already satisfied: idna<4,>=2.5 in /usr/local/lib/python3.12/dist-packages (from requests>=2.31->yfinance) (3.11)\n",
            "Requirement already satisfied: urllib3<3,>=1.21.1 in /usr/local/lib/python3.12/dist-packages (from requests>=2.31->yfinance) (2.5.0)\n",
            "Requirement already satisfied: absl-py>=0.4 in /usr/local/lib/python3.12/dist-packages (from tensorboard>=2.9.1->stable-baselines3[extra]) (1.4.0)\n",
            "Requirement already satisfied: grpcio>=1.48.2 in /usr/local/lib/python3.12/dist-packages (from tensorboard>=2.9.1->stable-baselines3[extra]) (1.75.1)\n",
            "Requirement already satisfied: markdown>=2.6.8 in /usr/local/lib/python3.12/dist-packages (from tensorboard>=2.9.1->stable-baselines3[extra]) (3.9)\n",
            "Requirement already satisfied: setuptools>=41.0.0 in /usr/local/lib/python3.12/dist-packages (from tensorboard>=2.9.1->stable-baselines3[extra]) (75.2.0)\n",
            "Requirement already satisfied: six>1.9 in /usr/local/lib/python3.12/dist-packages (from tensorboard>=2.9.1->stable-baselines3[extra]) (1.17.0)\n",
            "Requirement already satisfied: tensorboard-data-server<0.8.0,>=0.7.0 in /usr/local/lib/python3.12/dist-packages (from tensorboard>=2.9.1->stable-baselines3[extra]) (0.7.2)\n",
            "Requirement already satisfied: werkzeug>=1.0.1 in /usr/local/lib/python3.12/dist-packages (from tensorboard>=2.9.1->stable-baselines3[extra]) (3.1.3)\n",
            "Requirement already satisfied: filelock in /usr/local/lib/python3.12/dist-packages (from torch<3.0,>=2.3->stable-baselines3[extra]) (3.20.0)\n",
            "Requirement already satisfied: sympy>=1.13.3 in /usr/local/lib/python3.12/dist-packages (from torch<3.0,>=2.3->stable-baselines3[extra]) (1.13.3)\n",
            "Requirement already satisfied: networkx in /usr/local/lib/python3.12/dist-packages (from torch<3.0,>=2.3->stable-baselines3[extra]) (3.5)\n",
            "Requirement already satisfied: jinja2 in /usr/local/lib/python3.12/dist-packages (from torch<3.0,>=2.3->stable-baselines3[extra]) (3.1.6)\n",
            "Requirement already satisfied: fsspec in /usr/local/lib/python3.12/dist-packages (from torch<3.0,>=2.3->stable-baselines3[extra]) (2025.3.0)\n",
            "Requirement already satisfied: nvidia-cuda-nvrtc-cu12==12.6.77 in /usr/local/lib/python3.12/dist-packages (from torch<3.0,>=2.3->stable-baselines3[extra]) (12.6.77)\n",
            "Requirement already satisfied: nvidia-cuda-runtime-cu12==12.6.77 in /usr/local/lib/python3.12/dist-packages (from torch<3.0,>=2.3->stable-baselines3[extra]) (12.6.77)\n",
            "Requirement already satisfied: nvidia-cuda-cupti-cu12==12.6.80 in /usr/local/lib/python3.12/dist-packages (from torch<3.0,>=2.3->stable-baselines3[extra]) (12.6.80)\n",
            "Requirement already satisfied: nvidia-cudnn-cu12==9.10.2.21 in /usr/local/lib/python3.12/dist-packages (from torch<3.0,>=2.3->stable-baselines3[extra]) (9.10.2.21)\n",
            "Requirement already satisfied: nvidia-cublas-cu12==12.6.4.1 in /usr/local/lib/python3.12/dist-packages (from torch<3.0,>=2.3->stable-baselines3[extra]) (12.6.4.1)\n",
            "Requirement already satisfied: nvidia-cufft-cu12==11.3.0.4 in /usr/local/lib/python3.12/dist-packages (from torch<3.0,>=2.3->stable-baselines3[extra]) (11.3.0.4)\n",
            "Requirement already satisfied: nvidia-curand-cu12==10.3.7.77 in /usr/local/lib/python3.12/dist-packages (from torch<3.0,>=2.3->stable-baselines3[extra]) (10.3.7.77)\n",
            "Requirement already satisfied: nvidia-cusolver-cu12==11.7.1.2 in /usr/local/lib/python3.12/dist-packages (from torch<3.0,>=2.3->stable-baselines3[extra]) (11.7.1.2)\n",
            "Requirement already satisfied: nvidia-cusparse-cu12==12.5.4.2 in /usr/local/lib/python3.12/dist-packages (from torch<3.0,>=2.3->stable-baselines3[extra]) (12.5.4.2)\n",
            "Requirement already satisfied: nvidia-cusparselt-cu12==0.7.1 in /usr/local/lib/python3.12/dist-packages (from torch<3.0,>=2.3->stable-baselines3[extra]) (0.7.1)\n",
            "Requirement already satisfied: nvidia-nvtx-cu12==12.6.77 in /usr/local/lib/python3.12/dist-packages (from torch<3.0,>=2.3->stable-baselines3[extra]) (12.6.77)\n",
            "Requirement already satisfied: nvidia-nvjitlink-cu12==12.6.85 in /usr/local/lib/python3.12/dist-packages (from torch<3.0,>=2.3->stable-baselines3[extra]) (12.6.85)\n",
            "Requirement already satisfied: nvidia-cufile-cu12==1.11.1.6 in /usr/local/lib/python3.12/dist-packages (from torch<3.0,>=2.3->stable-baselines3[extra]) (1.11.1.6)\n",
            "Requirement already satisfied: triton==3.4.0 in /usr/local/lib/python3.12/dist-packages (from torch<3.0,>=2.3->stable-baselines3[extra]) (3.4.0)\n",
            "Requirement already satisfied: markdown-it-py>=2.2.0 in /usr/local/lib/python3.12/dist-packages (from rich->stable-baselines3[extra]) (4.0.0)\n",
            "Requirement already satisfied: pygments<3.0.0,>=2.13.0 in /usr/local/lib/python3.12/dist-packages (from rich->stable-baselines3[extra]) (2.19.2)\n",
            "Requirement already satisfied: pycparser in /usr/local/lib/python3.12/dist-packages (from cffi>=1.12.0->curl_cffi>=0.7->yfinance) (2.23)\n",
            "Requirement already satisfied: mdurl~=0.1 in /usr/local/lib/python3.12/dist-packages (from markdown-it-py>=2.2.0->rich->stable-baselines3[extra]) (0.1.2)\n",
            "Requirement already satisfied: mpmath<1.4,>=1.1.0 in /usr/local/lib/python3.12/dist-packages (from sympy>=1.13.3->torch<3.0,>=2.3->stable-baselines3[extra]) (1.3.0)\n",
            "Requirement already satisfied: MarkupSafe>=2.1.1 in /usr/local/lib/python3.12/dist-packages (from werkzeug>=1.0.1->tensorboard>=2.9.1->stable-baselines3[extra]) (3.0.3)\n",
            "Downloading gym_anytrading-2.0.0-py3-none-any.whl (172 kB)\n",
            "\u001b[2K   \u001b[90m━━━━━━━━━━━━━━━━━━━━━━━━━━━━━━━━━━━━━━━━\u001b[0m \u001b[32m172.2/172.2 kB\u001b[0m \u001b[31m4.1 MB/s\u001b[0m eta \u001b[36m0:00:00\u001b[0m\n",
            "\u001b[?25hDownloading stable_baselines3-2.7.0-py3-none-any.whl (187 kB)\n",
            "\u001b[2K   \u001b[90m━━━━━━━━━━━━━━━━━━━━━━━━━━━━━━━━━━━━━━━━\u001b[0m \u001b[32m187.2/187.2 kB\u001b[0m \u001b[31m11.5 MB/s\u001b[0m eta \u001b[36m0:00:00\u001b[0m\n",
            "\u001b[?25hInstalling collected packages: gym-anytrading, stable-baselines3\n",
            "Successfully installed gym-anytrading-2.0.0 stable-baselines3-2.7.0\n",
            "Requirement already satisfied: matplotlib in /usr/local/lib/python3.12/dist-packages (3.10.0)\n",
            "Requirement already satisfied: scikit-learn in /usr/local/lib/python3.12/dist-packages (1.6.1)\n",
            "Requirement already satisfied: pandas in /usr/local/lib/python3.12/dist-packages (2.2.2)\n",
            "Collecting numba==0.61.0\n",
            "  Downloading numba-0.61.0-cp312-cp312-manylinux2014_x86_64.manylinux_2_17_x86_64.whl.metadata (2.8 kB)\n",
            "Collecting llvmlite<0.45,>=0.44.0dev0 (from numba==0.61.0)\n",
            "  Downloading llvmlite-0.44.0-cp312-cp312-manylinux_2_17_x86_64.manylinux2014_x86_64.whl.metadata (5.0 kB)\n",
            "Requirement already satisfied: numpy<2.2,>=1.24 in /usr/local/lib/python3.12/dist-packages (from numba==0.61.0) (2.0.2)\n",
            "Requirement already satisfied: contourpy>=1.0.1 in /usr/local/lib/python3.12/dist-packages (from matplotlib) (1.3.3)\n",
            "Requirement already satisfied: cycler>=0.10 in /usr/local/lib/python3.12/dist-packages (from matplotlib) (0.12.1)\n",
            "Requirement already satisfied: fonttools>=4.22.0 in /usr/local/lib/python3.12/dist-packages (from matplotlib) (4.60.1)\n",
            "Requirement already satisfied: kiwisolver>=1.3.1 in /usr/local/lib/python3.12/dist-packages (from matplotlib) (1.4.9)\n",
            "Requirement already satisfied: packaging>=20.0 in /usr/local/lib/python3.12/dist-packages (from matplotlib) (25.0)\n",
            "Requirement already satisfied: pillow>=8 in /usr/local/lib/python3.12/dist-packages (from matplotlib) (11.3.0)\n",
            "Requirement already satisfied: pyparsing>=2.3.1 in /usr/local/lib/python3.12/dist-packages (from matplotlib) (3.2.5)\n",
            "Requirement already satisfied: python-dateutil>=2.7 in /usr/local/lib/python3.12/dist-packages (from matplotlib) (2.9.0.post0)\n",
            "Requirement already satisfied: scipy>=1.6.0 in /usr/local/lib/python3.12/dist-packages (from scikit-learn) (1.16.2)\n",
            "Requirement already satisfied: joblib>=1.2.0 in /usr/local/lib/python3.12/dist-packages (from scikit-learn) (1.5.2)\n",
            "Requirement already satisfied: threadpoolctl>=3.1.0 in /usr/local/lib/python3.12/dist-packages (from scikit-learn) (3.6.0)\n",
            "Requirement already satisfied: pytz>=2020.1 in /usr/local/lib/python3.12/dist-packages (from pandas) (2025.2)\n",
            "Requirement already satisfied: tzdata>=2022.7 in /usr/local/lib/python3.12/dist-packages (from pandas) (2025.2)\n",
            "Requirement already satisfied: six>=1.5 in /usr/local/lib/python3.12/dist-packages (from python-dateutil>=2.7->matplotlib) (1.17.0)\n",
            "Downloading numba-0.61.0-cp312-cp312-manylinux2014_x86_64.manylinux_2_17_x86_64.whl (3.9 MB)\n",
            "\u001b[2K   \u001b[90m━━━━━━━━━━━━━━━━━━━━━━━━━━━━━━━━━━━━━━━━\u001b[0m \u001b[32m3.9/3.9 MB\u001b[0m \u001b[31m37.3 MB/s\u001b[0m eta \u001b[36m0:00:00\u001b[0m\n",
            "\u001b[?25hDownloading llvmlite-0.44.0-cp312-cp312-manylinux_2_17_x86_64.manylinux2014_x86_64.whl (42.4 MB)\n",
            "\u001b[2K   \u001b[90m━━━━━━━━━━━━━━━━━━━━━━━━━━━━━━━━━━━━━━━━\u001b[0m \u001b[32m42.4/42.4 MB\u001b[0m \u001b[31m28.3 MB/s\u001b[0m eta \u001b[36m0:00:00\u001b[0m\n",
            "\u001b[?25hInstalling collected packages: llvmlite, numba\n",
            "  Attempting uninstall: llvmlite\n",
            "    Found existing installation: llvmlite 0.43.0\n",
            "    Uninstalling llvmlite-0.43.0:\n",
            "      Successfully uninstalled llvmlite-0.43.0\n",
            "  Attempting uninstall: numba\n",
            "    Found existing installation: numba 0.60.0\n",
            "    Uninstalling numba-0.60.0:\n",
            "      Successfully uninstalled numba-0.60.0\n",
            "\u001b[31mERROR: pip's dependency resolver does not currently take into account all the packages that are installed. This behaviour is the source of the following dependency conflicts.\n",
            "distributed-ucxx-cu12 0.42.0 requires numba<0.61.0a0,>=0.59.1, but you have numba 0.61.0 which is incompatible.\n",
            "cuml-cu12 25.2.0 requires numba<0.61.0a0,>=0.59.1, but you have numba 0.61.0 which is incompatible.\n",
            "cudf-cu12 25.2.0 requires numba<0.61.0a0,>=0.59.1, but you have numba 0.61.0 which is incompatible.\n",
            "dask-cuda 25.2.0 requires numba<0.61.0a0,>=0.59.1, but you have numba 0.61.0 which is incompatible.\u001b[0m\u001b[31m\n",
            "\u001b[0mSuccessfully installed llvmlite-0.44.0 numba-0.61.0\n",
            "Looking in indexes: https://download.pytorch.org/whl/cu124\n",
            "Requirement already satisfied: torch in /usr/local/lib/python3.12/dist-packages (2.8.0+cu126)\n",
            "Requirement already satisfied: torchvision in /usr/local/lib/python3.12/dist-packages (0.23.0+cu126)\n",
            "Requirement already satisfied: torchaudio in /usr/local/lib/python3.12/dist-packages (2.8.0+cu126)\n",
            "Requirement already satisfied: filelock in /usr/local/lib/python3.12/dist-packages (from torch) (3.20.0)\n",
            "Requirement already satisfied: typing-extensions>=4.10.0 in /usr/local/lib/python3.12/dist-packages (from torch) (4.15.0)\n",
            "Requirement already satisfied: setuptools in /usr/local/lib/python3.12/dist-packages (from torch) (75.2.0)\n",
            "Requirement already satisfied: sympy>=1.13.3 in /usr/local/lib/python3.12/dist-packages (from torch) (1.13.3)\n",
            "Requirement already satisfied: networkx in /usr/local/lib/python3.12/dist-packages (from torch) (3.5)\n",
            "Requirement already satisfied: jinja2 in /usr/local/lib/python3.12/dist-packages (from torch) (3.1.6)\n",
            "Requirement already satisfied: fsspec in /usr/local/lib/python3.12/dist-packages (from torch) (2025.3.0)\n",
            "Requirement already satisfied: nvidia-cuda-nvrtc-cu12==12.6.77 in /usr/local/lib/python3.12/dist-packages (from torch) (12.6.77)\n",
            "Requirement already satisfied: nvidia-cuda-runtime-cu12==12.6.77 in /usr/local/lib/python3.12/dist-packages (from torch) (12.6.77)\n",
            "Requirement already satisfied: nvidia-cuda-cupti-cu12==12.6.80 in /usr/local/lib/python3.12/dist-packages (from torch) (12.6.80)\n",
            "Requirement already satisfied: nvidia-cudnn-cu12==9.10.2.21 in /usr/local/lib/python3.12/dist-packages (from torch) (9.10.2.21)\n",
            "Requirement already satisfied: nvidia-cublas-cu12==12.6.4.1 in /usr/local/lib/python3.12/dist-packages (from torch) (12.6.4.1)\n",
            "Requirement already satisfied: nvidia-cufft-cu12==11.3.0.4 in /usr/local/lib/python3.12/dist-packages (from torch) (11.3.0.4)\n",
            "Requirement already satisfied: nvidia-curand-cu12==10.3.7.77 in /usr/local/lib/python3.12/dist-packages (from torch) (10.3.7.77)\n",
            "Requirement already satisfied: nvidia-cusolver-cu12==11.7.1.2 in /usr/local/lib/python3.12/dist-packages (from torch) (11.7.1.2)\n",
            "Requirement already satisfied: nvidia-cusparse-cu12==12.5.4.2 in /usr/local/lib/python3.12/dist-packages (from torch) (12.5.4.2)\n",
            "Requirement already satisfied: nvidia-cusparselt-cu12==0.7.1 in /usr/local/lib/python3.12/dist-packages (from torch) (0.7.1)\n",
            "Requirement already satisfied: nvidia-nccl-cu12==2.27.3 in /usr/local/lib/python3.12/dist-packages (from torch) (2.27.3)\n",
            "Requirement already satisfied: nvidia-nvtx-cu12==12.6.77 in /usr/local/lib/python3.12/dist-packages (from torch) (12.6.77)\n",
            "Requirement already satisfied: nvidia-nvjitlink-cu12==12.6.85 in /usr/local/lib/python3.12/dist-packages (from torch) (12.6.85)\n",
            "Requirement already satisfied: nvidia-cufile-cu12==1.11.1.6 in /usr/local/lib/python3.12/dist-packages (from torch) (1.11.1.6)\n",
            "Requirement already satisfied: triton==3.4.0 in /usr/local/lib/python3.12/dist-packages (from torch) (3.4.0)\n",
            "Requirement already satisfied: numpy in /usr/local/lib/python3.12/dist-packages (from torchvision) (2.0.2)\n",
            "Requirement already satisfied: pillow!=8.3.*,>=5.3.0 in /usr/local/lib/python3.12/dist-packages (from torchvision) (11.3.0)\n",
            "Requirement already satisfied: mpmath<1.4,>=1.1.0 in /usr/local/lib/python3.12/dist-packages (from sympy>=1.13.3->torch) (1.3.0)\n",
            "Requirement already satisfied: MarkupSafe>=2.0 in /usr/local/lib/python3.12/dist-packages (from jinja2->torch) (3.0.3)\n"
          ]
        }
      ],
      "source": [
        "#Install TensorFlow (latest GPU-compatible version)\n",
        "!pip install tensorflow==2.18.0\n",
        "\n",
        "#Install Stable Baselines3 and Trading Libraries\n",
        "!pip install stable-baselines3[extra] gymnasium gym-anytrading yfinance xgboost joblib\n",
        "\n",
        "#Install Miscellaneous Libraries\n",
        "!pip install matplotlib scikit-learn pandas numba==0.61.0\n",
        "\n",
        "#Install PyTorch with GPU Support\n",
        "!pip install torch torchvision torchaudio --index-url https://download.pytorch.org/whl/cu124\n"
      ]
    },
    {
      "cell_type": "code",
      "execution_count": null,
      "metadata": {
        "colab": {
          "base_uri": "https://localhost:8080/"
        },
        "id": "ekPXAk5Qzjwl",
        "outputId": "65edf2fb-72c5-4956-e6f1-1c04cef5b417"
      },
      "outputs": [
        {
          "name": "stdout",
          "output_type": "stream",
          "text": [
            "Requirement already satisfied: tensorflow==2.18.0 in /usr/local/lib/python3.12/dist-packages (2.18.0)\n",
            "Requirement already satisfied: absl-py>=1.0.0 in /usr/local/lib/python3.12/dist-packages (from tensorflow==2.18.0) (1.4.0)\n",
            "Requirement already satisfied: astunparse>=1.6.0 in /usr/local/lib/python3.12/dist-packages (from tensorflow==2.18.0) (1.6.3)\n",
            "Requirement already satisfied: flatbuffers>=24.3.25 in /usr/local/lib/python3.12/dist-packages (from tensorflow==2.18.0) (25.9.23)\n",
            "Requirement already satisfied: gast!=0.5.0,!=0.5.1,!=0.5.2,>=0.2.1 in /usr/local/lib/python3.12/dist-packages (from tensorflow==2.18.0) (0.6.0)\n",
            "Requirement already satisfied: google-pasta>=0.1.1 in /usr/local/lib/python3.12/dist-packages (from tensorflow==2.18.0) (0.2.0)\n",
            "Requirement already satisfied: libclang>=13.0.0 in /usr/local/lib/python3.12/dist-packages (from tensorflow==2.18.0) (18.1.1)\n",
            "Requirement already satisfied: opt-einsum>=2.3.2 in /usr/local/lib/python3.12/dist-packages (from tensorflow==2.18.0) (3.4.0)\n",
            "Requirement already satisfied: packaging in /usr/local/lib/python3.12/dist-packages (from tensorflow==2.18.0) (25.0)\n",
            "Requirement already satisfied: protobuf!=4.21.0,!=4.21.1,!=4.21.2,!=4.21.3,!=4.21.4,!=4.21.5,<6.0.0dev,>=3.20.3 in /usr/local/lib/python3.12/dist-packages (from tensorflow==2.18.0) (3.20.3)\n",
            "Requirement already satisfied: requests<3,>=2.21.0 in /usr/local/lib/python3.12/dist-packages (from tensorflow==2.18.0) (2.32.4)\n",
            "Requirement already satisfied: setuptools in /usr/local/lib/python3.12/dist-packages (from tensorflow==2.18.0) (75.2.0)\n",
            "Requirement already satisfied: six>=1.12.0 in /usr/local/lib/python3.12/dist-packages (from tensorflow==2.18.0) (1.17.0)\n",
            "Requirement already satisfied: termcolor>=1.1.0 in /usr/local/lib/python3.12/dist-packages (from tensorflow==2.18.0) (3.1.0)\n",
            "Requirement already satisfied: typing-extensions>=3.6.6 in /usr/local/lib/python3.12/dist-packages (from tensorflow==2.18.0) (4.15.0)\n",
            "Requirement already satisfied: wrapt>=1.11.0 in /usr/local/lib/python3.12/dist-packages (from tensorflow==2.18.0) (1.17.3)\n",
            "Requirement already satisfied: grpcio<2.0,>=1.24.3 in /usr/local/lib/python3.12/dist-packages (from tensorflow==2.18.0) (1.75.1)\n",
            "Requirement already satisfied: tensorboard<2.19,>=2.18 in /usr/local/lib/python3.12/dist-packages (from tensorflow==2.18.0) (2.18.0)\n",
            "Requirement already satisfied: keras>=3.5.0 in /usr/local/lib/python3.12/dist-packages (from tensorflow==2.18.0) (3.10.0)\n",
            "Requirement already satisfied: numpy<2.1.0,>=1.26.0 in /usr/local/lib/python3.12/dist-packages (from tensorflow==2.18.0) (2.0.2)\n",
            "Requirement already satisfied: h5py>=3.11.0 in /usr/local/lib/python3.12/dist-packages (from tensorflow==2.18.0) (3.15.0)\n",
            "Requirement already satisfied: ml-dtypes<0.5.0,>=0.4.0 in /usr/local/lib/python3.12/dist-packages (from tensorflow==2.18.0) (0.4.1)\n",
            "Requirement already satisfied: wheel<1.0,>=0.23.0 in /usr/local/lib/python3.12/dist-packages (from astunparse>=1.6.0->tensorflow==2.18.0) (0.45.1)\n",
            "Requirement already satisfied: rich in /usr/local/lib/python3.12/dist-packages (from keras>=3.5.0->tensorflow==2.18.0) (13.9.4)\n",
            "Requirement already satisfied: namex in /usr/local/lib/python3.12/dist-packages (from keras>=3.5.0->tensorflow==2.18.0) (0.1.0)\n",
            "Requirement already satisfied: optree in /usr/local/lib/python3.12/dist-packages (from keras>=3.5.0->tensorflow==2.18.0) (0.17.0)\n",
            "Requirement already satisfied: charset_normalizer<4,>=2 in /usr/local/lib/python3.12/dist-packages (from requests<3,>=2.21.0->tensorflow==2.18.0) (3.4.4)\n",
            "Requirement already satisfied: idna<4,>=2.5 in /usr/local/lib/python3.12/dist-packages (from requests<3,>=2.21.0->tensorflow==2.18.0) (3.11)\n",
            "Requirement already satisfied: urllib3<3,>=1.21.1 in /usr/local/lib/python3.12/dist-packages (from requests<3,>=2.21.0->tensorflow==2.18.0) (2.5.0)\n",
            "Requirement already satisfied: certifi>=2017.4.17 in /usr/local/lib/python3.12/dist-packages (from requests<3,>=2.21.0->tensorflow==2.18.0) (2025.10.5)\n",
            "Requirement already satisfied: markdown>=2.6.8 in /usr/local/lib/python3.12/dist-packages (from tensorboard<2.19,>=2.18->tensorflow==2.18.0) (3.9)\n",
            "Requirement already satisfied: tensorboard-data-server<0.8.0,>=0.7.0 in /usr/local/lib/python3.12/dist-packages (from tensorboard<2.19,>=2.18->tensorflow==2.18.0) (0.7.2)\n",
            "Requirement already satisfied: werkzeug>=1.0.1 in /usr/local/lib/python3.12/dist-packages (from tensorboard<2.19,>=2.18->tensorflow==2.18.0) (3.1.3)\n",
            "Requirement already satisfied: MarkupSafe>=2.1.1 in /usr/local/lib/python3.12/dist-packages (from werkzeug>=1.0.1->tensorboard<2.19,>=2.18->tensorflow==2.18.0) (3.0.3)\n",
            "Requirement already satisfied: markdown-it-py>=2.2.0 in /usr/local/lib/python3.12/dist-packages (from rich->keras>=3.5.0->tensorflow==2.18.0) (4.0.0)\n",
            "Requirement already satisfied: pygments<3.0.0,>=2.13.0 in /usr/local/lib/python3.12/dist-packages (from rich->keras>=3.5.0->tensorflow==2.18.0) (2.19.2)\n",
            "Requirement already satisfied: mdurl~=0.1 in /usr/local/lib/python3.12/dist-packages (from markdown-it-py>=2.2.0->rich->keras>=3.5.0->tensorflow==2.18.0) (0.1.2)\n"
          ]
        }
      ],
      "source": [
        "#Install TensorFlow (latest GPU-compatible version)\n",
        "!pip install tensorflow==2.18.0\n",
        "\n",
        "#Immediately follow it with:\n",
        "import tensorflow as tf\n",
        "\n",
        "gpus = tf.config.list_physical_devices(\"GPU\")\n",
        "if gpus:\n",
        "    try:\n",
        "        for gpu in gpus:\n",
        "            tf.config.experimental.set_memory_growth(gpu, True)\n",
        "        print(\"TensorFlow GPU memory growth enabled\")\n",
        "    except RuntimeError as e:\n",
        "        print(f\"TensorFlow GPU memory config failed: {e}\")\n"
      ]
    },
    {
      "cell_type": "code",
      "execution_count": null,
      "metadata": {
        "id": "yrANV-maV6v3"
      },
      "outputs": [],
      "source": [
        "!rm -rf /content/drive"
      ]
    },
    {
      "cell_type": "code",
      "execution_count": null,
      "metadata": {
        "colab": {
          "base_uri": "https://localhost:8080/"
        },
        "id": "HvIozj1xt4qQ",
        "outputId": "50a0c268-4981-4981-c4b8-5eb5666fa198"
      },
      "outputs": [
        {
          "name": "stdout",
          "output_type": "stream",
          "text": [
            "2025-10-18 20:32:57,860 | INFO | download_fe | yfinance=0.2.66 | pandas=2.2.2\n"
          ]
        },
        {
          "name": "stderr",
          "output_type": "stream",
          "text": [
            "INFO:download_fe:yfinance=0.2.66 | pandas=2.2.2\n"
          ]
        },
        {
          "name": "stdout",
          "output_type": "stream",
          "text": [
            "Mounted at /content/drive\n",
            "2025-10-18 20:33:17,323 | INFO | download_fe | Mounted Google Drive at /content/drive\n"
          ]
        },
        {
          "name": "stderr",
          "output_type": "stream",
          "text": [
            "INFO:download_fe:Mounted Google Drive at /content/drive\n"
          ]
        },
        {
          "name": "stdout",
          "output_type": "stream",
          "text": [
            "2025-10-18 20:33:17,441 | INFO | download_fe | Bumping PERIOD_DAYS 720 → 744 to support ~1y train / ~1y test\n"
          ]
        },
        {
          "name": "stderr",
          "output_type": "stream",
          "text": [
            "INFO:download_fe:Bumping PERIOD_DAYS 720 → 744 to support ~1y train / ~1y test\n"
          ]
        },
        {
          "name": "stdout",
          "output_type": "stream",
          "text": [
            "2025-10-18 20:33:17,447 | WARNING | download_fe | PERIOD_DAYS=744 exceeds Yahoo limit (730) for interval='1h'; capping.\n"
          ]
        },
        {
          "name": "stderr",
          "output_type": "stream",
          "text": [
            "WARNING:download_fe:PERIOD_DAYS=744 exceeds Yahoo limit (730) for interval='1h'; capping.\n"
          ]
        },
        {
          "name": "stdout",
          "output_type": "stream",
          "text": [
            "2025-10-18 20:33:17,450 | INFO | download_fe | TEST_MODE=off → 53 symbols | period_days=730\n"
          ]
        },
        {
          "name": "stderr",
          "output_type": "stream",
          "text": [
            "INFO:download_fe:TEST_MODE=off → 53 symbols | period_days=730\n"
          ]
        },
        {
          "name": "stdout",
          "output_type": "stream",
          "text": [
            "2025-10-18 20:33:17,462 | INFO | download_fe | [1/53] AAPL — downloading\n"
          ]
        },
        {
          "name": "stderr",
          "output_type": "stream",
          "text": [
            "INFO:download_fe:[1/53] AAPL — downloading\n"
          ]
        },
        {
          "name": "stdout",
          "output_type": "stream",
          "text": [
            "2025-10-18 20:33:17,464 | INFO | download_fe | [AAPL] Attempt 1: download(period=730d, interval=1h)\n"
          ]
        },
        {
          "name": "stderr",
          "output_type": "stream",
          "text": [
            "INFO:download_fe:[AAPL] Attempt 1: download(period=730d, interval=1h)\n"
          ]
        },
        {
          "name": "stdout",
          "output_type": "stream",
          "text": [
            "2025-10-18 20:33:18,893 | INFO | download_fe | [AAPL] rows=5082 2022-11-18 14:30:00 → 2025-10-17 19:30:00\n"
          ]
        },
        {
          "name": "stderr",
          "output_type": "stream",
          "text": [
            "INFO:download_fe:[AAPL] rows=5082 2022-11-18 14:30:00 → 2025-10-17 19:30:00\n"
          ]
        },
        {
          "name": "stdout",
          "output_type": "stream",
          "text": [
            "2025-10-18 20:33:19,135 | INFO | download_fe | [AAPL] features=5082 rows → ./sac_parity/data/AAPL.parquet\n"
          ]
        },
        {
          "name": "stderr",
          "output_type": "stream",
          "text": [
            "INFO:download_fe:[AAPL] features=5082 rows → ./sac_parity/data/AAPL.parquet\n"
          ]
        },
        {
          "name": "stdout",
          "output_type": "stream",
          "text": [
            "2025-10-18 20:33:19,700 | INFO | download_fe | [2/53] TSLA — downloading\n"
          ]
        },
        {
          "name": "stderr",
          "output_type": "stream",
          "text": [
            "INFO:download_fe:[2/53] TSLA — downloading\n"
          ]
        },
        {
          "name": "stdout",
          "output_type": "stream",
          "text": [
            "2025-10-18 20:33:19,704 | INFO | download_fe | [TSLA] Attempt 1: download(period=730d, interval=1h)\n"
          ]
        },
        {
          "name": "stderr",
          "output_type": "stream",
          "text": [
            "INFO:download_fe:[TSLA] Attempt 1: download(period=730d, interval=1h)\n"
          ]
        },
        {
          "name": "stdout",
          "output_type": "stream",
          "text": [
            "2025-10-18 20:33:20,173 | INFO | download_fe | [TSLA] rows=5082 2022-11-18 14:30:00 → 2025-10-17 19:30:00\n"
          ]
        },
        {
          "name": "stderr",
          "output_type": "stream",
          "text": [
            "INFO:download_fe:[TSLA] rows=5082 2022-11-18 14:30:00 → 2025-10-17 19:30:00\n"
          ]
        },
        {
          "name": "stdout",
          "output_type": "stream",
          "text": [
            "2025-10-18 20:33:20,273 | INFO | download_fe | [TSLA] features=5082 rows → ./sac_parity/data/TSLA.parquet\n"
          ]
        },
        {
          "name": "stderr",
          "output_type": "stream",
          "text": [
            "INFO:download_fe:[TSLA] features=5082 rows → ./sac_parity/data/TSLA.parquet\n"
          ]
        },
        {
          "name": "stdout",
          "output_type": "stream",
          "text": [
            "2025-10-18 20:33:20,850 | INFO | download_fe | [3/53] MSFT — downloading\n"
          ]
        },
        {
          "name": "stderr",
          "output_type": "stream",
          "text": [
            "INFO:download_fe:[3/53] MSFT — downloading\n"
          ]
        },
        {
          "name": "stdout",
          "output_type": "stream",
          "text": [
            "2025-10-18 20:33:20,854 | INFO | download_fe | [MSFT] Attempt 1: download(period=730d, interval=1h)\n"
          ]
        },
        {
          "name": "stderr",
          "output_type": "stream",
          "text": [
            "INFO:download_fe:[MSFT] Attempt 1: download(period=730d, interval=1h)\n"
          ]
        },
        {
          "name": "stdout",
          "output_type": "stream",
          "text": [
            "2025-10-18 20:33:21,490 | INFO | download_fe | [MSFT] rows=5082 2022-11-18 14:30:00 → 2025-10-17 19:30:00\n"
          ]
        },
        {
          "name": "stderr",
          "output_type": "stream",
          "text": [
            "INFO:download_fe:[MSFT] rows=5082 2022-11-18 14:30:00 → 2025-10-17 19:30:00\n"
          ]
        },
        {
          "name": "stdout",
          "output_type": "stream",
          "text": [
            "2025-10-18 20:33:21,579 | INFO | download_fe | [MSFT] features=5082 rows → ./sac_parity/data/MSFT.parquet\n"
          ]
        },
        {
          "name": "stderr",
          "output_type": "stream",
          "text": [
            "INFO:download_fe:[MSFT] features=5082 rows → ./sac_parity/data/MSFT.parquet\n"
          ]
        },
        {
          "name": "stdout",
          "output_type": "stream",
          "text": [
            "2025-10-18 20:33:22,068 | INFO | download_fe | [4/53] GOOGL — downloading\n"
          ]
        },
        {
          "name": "stderr",
          "output_type": "stream",
          "text": [
            "INFO:download_fe:[4/53] GOOGL — downloading\n"
          ]
        },
        {
          "name": "stdout",
          "output_type": "stream",
          "text": [
            "2025-10-18 20:33:22,070 | INFO | download_fe | [GOOGL] Attempt 1: download(period=730d, interval=1h)\n"
          ]
        },
        {
          "name": "stderr",
          "output_type": "stream",
          "text": [
            "INFO:download_fe:[GOOGL] Attempt 1: download(period=730d, interval=1h)\n"
          ]
        },
        {
          "name": "stdout",
          "output_type": "stream",
          "text": [
            "2025-10-18 20:33:22,652 | INFO | download_fe | [GOOGL] rows=5082 2022-11-18 14:30:00 → 2025-10-17 19:30:00\n"
          ]
        },
        {
          "name": "stderr",
          "output_type": "stream",
          "text": [
            "INFO:download_fe:[GOOGL] rows=5082 2022-11-18 14:30:00 → 2025-10-17 19:30:00\n"
          ]
        },
        {
          "name": "stdout",
          "output_type": "stream",
          "text": [
            "2025-10-18 20:33:22,732 | INFO | download_fe | [GOOGL] features=5082 rows → ./sac_parity/data/GOOGL.parquet\n"
          ]
        },
        {
          "name": "stderr",
          "output_type": "stream",
          "text": [
            "INFO:download_fe:[GOOGL] features=5082 rows → ./sac_parity/data/GOOGL.parquet\n"
          ]
        },
        {
          "name": "stdout",
          "output_type": "stream",
          "text": [
            "2025-10-18 20:33:23,228 | INFO | download_fe | [5/53] AMZN — downloading\n"
          ]
        },
        {
          "name": "stderr",
          "output_type": "stream",
          "text": [
            "INFO:download_fe:[5/53] AMZN — downloading\n"
          ]
        },
        {
          "name": "stdout",
          "output_type": "stream",
          "text": [
            "2025-10-18 20:33:23,231 | INFO | download_fe | [AMZN] Attempt 1: download(period=730d, interval=1h)\n"
          ]
        },
        {
          "name": "stderr",
          "output_type": "stream",
          "text": [
            "INFO:download_fe:[AMZN] Attempt 1: download(period=730d, interval=1h)\n"
          ]
        },
        {
          "name": "stdout",
          "output_type": "stream",
          "text": [
            "2025-10-18 20:33:23,630 | INFO | download_fe | [AMZN] rows=5082 2022-11-18 14:30:00 → 2025-10-17 19:30:00\n"
          ]
        },
        {
          "name": "stderr",
          "output_type": "stream",
          "text": [
            "INFO:download_fe:[AMZN] rows=5082 2022-11-18 14:30:00 → 2025-10-17 19:30:00\n"
          ]
        },
        {
          "name": "stdout",
          "output_type": "stream",
          "text": [
            "2025-10-18 20:33:23,710 | INFO | download_fe | [AMZN] features=5082 rows → ./sac_parity/data/AMZN.parquet\n"
          ]
        },
        {
          "name": "stderr",
          "output_type": "stream",
          "text": [
            "INFO:download_fe:[AMZN] features=5082 rows → ./sac_parity/data/AMZN.parquet\n"
          ]
        },
        {
          "name": "stdout",
          "output_type": "stream",
          "text": [
            "2025-10-18 20:33:24,197 | INFO | download_fe | [6/53] NVDA — downloading\n"
          ]
        },
        {
          "name": "stderr",
          "output_type": "stream",
          "text": [
            "INFO:download_fe:[6/53] NVDA — downloading\n"
          ]
        },
        {
          "name": "stdout",
          "output_type": "stream",
          "text": [
            "2025-10-18 20:33:24,200 | INFO | download_fe | [NVDA] Attempt 1: download(period=730d, interval=1h)\n"
          ]
        },
        {
          "name": "stderr",
          "output_type": "stream",
          "text": [
            "INFO:download_fe:[NVDA] Attempt 1: download(period=730d, interval=1h)\n"
          ]
        },
        {
          "name": "stdout",
          "output_type": "stream",
          "text": [
            "2025-10-18 20:33:25,576 | INFO | download_fe | [NVDA] rows=5082 2022-11-18 14:30:00 → 2025-10-17 19:30:00\n"
          ]
        },
        {
          "name": "stderr",
          "output_type": "stream",
          "text": [
            "INFO:download_fe:[NVDA] rows=5082 2022-11-18 14:30:00 → 2025-10-17 19:30:00\n"
          ]
        },
        {
          "name": "stdout",
          "output_type": "stream",
          "text": [
            "2025-10-18 20:33:25,651 | INFO | download_fe | [NVDA] features=5082 rows → ./sac_parity/data/NVDA.parquet\n"
          ]
        },
        {
          "name": "stderr",
          "output_type": "stream",
          "text": [
            "INFO:download_fe:[NVDA] features=5082 rows → ./sac_parity/data/NVDA.parquet\n"
          ]
        },
        {
          "name": "stdout",
          "output_type": "stream",
          "text": [
            "2025-10-18 20:33:26,151 | INFO | download_fe | [7/53] META — downloading\n"
          ]
        },
        {
          "name": "stderr",
          "output_type": "stream",
          "text": [
            "INFO:download_fe:[7/53] META — downloading\n"
          ]
        },
        {
          "name": "stdout",
          "output_type": "stream",
          "text": [
            "2025-10-18 20:33:26,154 | INFO | download_fe | [META] Attempt 1: download(period=730d, interval=1h)\n"
          ]
        },
        {
          "name": "stderr",
          "output_type": "stream",
          "text": [
            "INFO:download_fe:[META] Attempt 1: download(period=730d, interval=1h)\n"
          ]
        },
        {
          "name": "stdout",
          "output_type": "stream",
          "text": [
            "2025-10-18 20:33:26,675 | INFO | download_fe | [META] rows=5082 2022-11-18 14:30:00 → 2025-10-17 19:30:00\n"
          ]
        },
        {
          "name": "stderr",
          "output_type": "stream",
          "text": [
            "INFO:download_fe:[META] rows=5082 2022-11-18 14:30:00 → 2025-10-17 19:30:00\n"
          ]
        },
        {
          "name": "stdout",
          "output_type": "stream",
          "text": [
            "2025-10-18 20:33:26,768 | INFO | download_fe | [META] features=5082 rows → ./sac_parity/data/META.parquet\n"
          ]
        },
        {
          "name": "stderr",
          "output_type": "stream",
          "text": [
            "INFO:download_fe:[META] features=5082 rows → ./sac_parity/data/META.parquet\n"
          ]
        },
        {
          "name": "stdout",
          "output_type": "stream",
          "text": [
            "2025-10-18 20:33:27,260 | INFO | download_fe | [8/53] BRK-B — downloading\n"
          ]
        },
        {
          "name": "stderr",
          "output_type": "stream",
          "text": [
            "INFO:download_fe:[8/53] BRK-B — downloading\n"
          ]
        },
        {
          "name": "stdout",
          "output_type": "stream",
          "text": [
            "2025-10-18 20:33:27,264 | INFO | download_fe | [BRK-B] Attempt 1: download(period=730d, interval=1h)\n"
          ]
        },
        {
          "name": "stderr",
          "output_type": "stream",
          "text": [
            "INFO:download_fe:[BRK-B] Attempt 1: download(period=730d, interval=1h)\n"
          ]
        },
        {
          "name": "stdout",
          "output_type": "stream",
          "text": [
            "2025-10-18 20:33:27,651 | INFO | download_fe | [BRK-B] rows=5082 2022-11-18 14:30:00 → 2025-10-17 19:30:00\n"
          ]
        },
        {
          "name": "stderr",
          "output_type": "stream",
          "text": [
            "INFO:download_fe:[BRK-B] rows=5082 2022-11-18 14:30:00 → 2025-10-17 19:30:00\n"
          ]
        },
        {
          "name": "stdout",
          "output_type": "stream",
          "text": [
            "2025-10-18 20:33:27,728 | INFO | download_fe | [BRK-B] features=5082 rows → ./sac_parity/data/BRK-B.parquet\n"
          ]
        },
        {
          "name": "stderr",
          "output_type": "stream",
          "text": [
            "INFO:download_fe:[BRK-B] features=5082 rows → ./sac_parity/data/BRK-B.parquet\n"
          ]
        },
        {
          "name": "stdout",
          "output_type": "stream",
          "text": [
            "2025-10-18 20:33:28,224 | INFO | download_fe | [9/53] JPM — downloading\n"
          ]
        },
        {
          "name": "stderr",
          "output_type": "stream",
          "text": [
            "INFO:download_fe:[9/53] JPM — downloading\n"
          ]
        },
        {
          "name": "stdout",
          "output_type": "stream",
          "text": [
            "2025-10-18 20:33:28,226 | INFO | download_fe | [JPM] Attempt 1: download(period=730d, interval=1h)\n"
          ]
        },
        {
          "name": "stderr",
          "output_type": "stream",
          "text": [
            "INFO:download_fe:[JPM] Attempt 1: download(period=730d, interval=1h)\n"
          ]
        },
        {
          "name": "stdout",
          "output_type": "stream",
          "text": [
            "2025-10-18 20:33:28,936 | INFO | download_fe | [JPM] rows=5082 2022-11-18 14:30:00 → 2025-10-17 19:30:00\n"
          ]
        },
        {
          "name": "stderr",
          "output_type": "stream",
          "text": [
            "INFO:download_fe:[JPM] rows=5082 2022-11-18 14:30:00 → 2025-10-17 19:30:00\n"
          ]
        },
        {
          "name": "stdout",
          "output_type": "stream",
          "text": [
            "2025-10-18 20:33:29,011 | INFO | download_fe | [JPM] features=5082 rows → ./sac_parity/data/JPM.parquet\n"
          ]
        },
        {
          "name": "stderr",
          "output_type": "stream",
          "text": [
            "INFO:download_fe:[JPM] features=5082 rows → ./sac_parity/data/JPM.parquet\n"
          ]
        },
        {
          "name": "stdout",
          "output_type": "stream",
          "text": [
            "2025-10-18 20:33:29,498 | INFO | download_fe | [10/53] JNJ — downloading\n"
          ]
        },
        {
          "name": "stderr",
          "output_type": "stream",
          "text": [
            "INFO:download_fe:[10/53] JNJ — downloading\n"
          ]
        },
        {
          "name": "stdout",
          "output_type": "stream",
          "text": [
            "2025-10-18 20:33:29,501 | INFO | download_fe | [JNJ] Attempt 1: download(period=730d, interval=1h)\n"
          ]
        },
        {
          "name": "stderr",
          "output_type": "stream",
          "text": [
            "INFO:download_fe:[JNJ] Attempt 1: download(period=730d, interval=1h)\n"
          ]
        },
        {
          "name": "stdout",
          "output_type": "stream",
          "text": [
            "2025-10-18 20:33:30,186 | INFO | download_fe | [JNJ] rows=5082 2022-11-18 14:30:00 → 2025-10-17 19:30:00\n"
          ]
        },
        {
          "name": "stderr",
          "output_type": "stream",
          "text": [
            "INFO:download_fe:[JNJ] rows=5082 2022-11-18 14:30:00 → 2025-10-17 19:30:00\n"
          ]
        },
        {
          "name": "stdout",
          "output_type": "stream",
          "text": [
            "2025-10-18 20:33:30,264 | INFO | download_fe | [JNJ] features=5082 rows → ./sac_parity/data/JNJ.parquet\n"
          ]
        },
        {
          "name": "stderr",
          "output_type": "stream",
          "text": [
            "INFO:download_fe:[JNJ] features=5082 rows → ./sac_parity/data/JNJ.parquet\n"
          ]
        },
        {
          "name": "stdout",
          "output_type": "stream",
          "text": [
            "2025-10-18 20:33:30,759 | INFO | download_fe | [11/53] XOM — downloading\n"
          ]
        },
        {
          "name": "stderr",
          "output_type": "stream",
          "text": [
            "INFO:download_fe:[11/53] XOM — downloading\n"
          ]
        },
        {
          "name": "stdout",
          "output_type": "stream",
          "text": [
            "2025-10-18 20:33:30,761 | INFO | download_fe | [XOM] Attempt 1: download(period=730d, interval=1h)\n"
          ]
        },
        {
          "name": "stderr",
          "output_type": "stream",
          "text": [
            "INFO:download_fe:[XOM] Attempt 1: download(period=730d, interval=1h)\n"
          ]
        },
        {
          "name": "stdout",
          "output_type": "stream",
          "text": [
            "2025-10-18 20:33:31,507 | INFO | download_fe | [XOM] rows=5082 2022-11-18 14:30:00 → 2025-10-17 19:30:00\n"
          ]
        },
        {
          "name": "stderr",
          "output_type": "stream",
          "text": [
            "INFO:download_fe:[XOM] rows=5082 2022-11-18 14:30:00 → 2025-10-17 19:30:00\n"
          ]
        },
        {
          "name": "stdout",
          "output_type": "stream",
          "text": [
            "2025-10-18 20:33:31,613 | INFO | download_fe | [XOM] features=5082 rows → ./sac_parity/data/XOM.parquet\n"
          ]
        },
        {
          "name": "stderr",
          "output_type": "stream",
          "text": [
            "INFO:download_fe:[XOM] features=5082 rows → ./sac_parity/data/XOM.parquet\n"
          ]
        },
        {
          "name": "stdout",
          "output_type": "stream",
          "text": [
            "2025-10-18 20:33:32,197 | INFO | download_fe | [12/53] V — downloading\n"
          ]
        },
        {
          "name": "stderr",
          "output_type": "stream",
          "text": [
            "INFO:download_fe:[12/53] V — downloading\n"
          ]
        },
        {
          "name": "stdout",
          "output_type": "stream",
          "text": [
            "2025-10-18 20:33:32,199 | INFO | download_fe | [V] Attempt 1: download(period=730d, interval=1h)\n"
          ]
        },
        {
          "name": "stderr",
          "output_type": "stream",
          "text": [
            "INFO:download_fe:[V] Attempt 1: download(period=730d, interval=1h)\n"
          ]
        },
        {
          "name": "stdout",
          "output_type": "stream",
          "text": [
            "2025-10-18 20:33:32,901 | INFO | download_fe | [V] rows=5082 2022-11-18 14:30:00 → 2025-10-17 19:30:00\n"
          ]
        },
        {
          "name": "stderr",
          "output_type": "stream",
          "text": [
            "INFO:download_fe:[V] rows=5082 2022-11-18 14:30:00 → 2025-10-17 19:30:00\n"
          ]
        },
        {
          "name": "stdout",
          "output_type": "stream",
          "text": [
            "2025-10-18 20:33:33,013 | INFO | download_fe | [V] features=5082 rows → ./sac_parity/data/V.parquet\n"
          ]
        },
        {
          "name": "stderr",
          "output_type": "stream",
          "text": [
            "INFO:download_fe:[V] features=5082 rows → ./sac_parity/data/V.parquet\n"
          ]
        },
        {
          "name": "stdout",
          "output_type": "stream",
          "text": [
            "2025-10-18 20:33:33,580 | INFO | download_fe | [13/53] PG — downloading\n"
          ]
        },
        {
          "name": "stderr",
          "output_type": "stream",
          "text": [
            "INFO:download_fe:[13/53] PG — downloading\n"
          ]
        },
        {
          "name": "stdout",
          "output_type": "stream",
          "text": [
            "2025-10-18 20:33:33,584 | INFO | download_fe | [PG] Attempt 1: download(period=730d, interval=1h)\n"
          ]
        },
        {
          "name": "stderr",
          "output_type": "stream",
          "text": [
            "INFO:download_fe:[PG] Attempt 1: download(period=730d, interval=1h)\n"
          ]
        },
        {
          "name": "stdout",
          "output_type": "stream",
          "text": [
            "2025-10-18 20:33:34,370 | INFO | download_fe | [PG] rows=5082 2022-11-18 14:30:00 → 2025-10-17 19:30:00\n"
          ]
        },
        {
          "name": "stderr",
          "output_type": "stream",
          "text": [
            "INFO:download_fe:[PG] rows=5082 2022-11-18 14:30:00 → 2025-10-17 19:30:00\n"
          ]
        },
        {
          "name": "stdout",
          "output_type": "stream",
          "text": [
            "2025-10-18 20:33:34,485 | INFO | download_fe | [PG] features=5082 rows → ./sac_parity/data/PG.parquet\n"
          ]
        },
        {
          "name": "stderr",
          "output_type": "stream",
          "text": [
            "INFO:download_fe:[PG] features=5082 rows → ./sac_parity/data/PG.parquet\n"
          ]
        },
        {
          "name": "stdout",
          "output_type": "stream",
          "text": [
            "2025-10-18 20:33:35,010 | INFO | download_fe | [14/53] UNH — downloading\n"
          ]
        },
        {
          "name": "stderr",
          "output_type": "stream",
          "text": [
            "INFO:download_fe:[14/53] UNH — downloading\n"
          ]
        },
        {
          "name": "stdout",
          "output_type": "stream",
          "text": [
            "2025-10-18 20:33:35,011 | INFO | download_fe | [UNH] Attempt 1: download(period=730d, interval=1h)\n"
          ]
        },
        {
          "name": "stderr",
          "output_type": "stream",
          "text": [
            "INFO:download_fe:[UNH] Attempt 1: download(period=730d, interval=1h)\n"
          ]
        },
        {
          "name": "stdout",
          "output_type": "stream",
          "text": [
            "2025-10-18 20:33:35,789 | INFO | download_fe | [UNH] rows=5082 2022-11-18 14:30:00 → 2025-10-17 19:30:00\n"
          ]
        },
        {
          "name": "stderr",
          "output_type": "stream",
          "text": [
            "INFO:download_fe:[UNH] rows=5082 2022-11-18 14:30:00 → 2025-10-17 19:30:00\n"
          ]
        },
        {
          "name": "stdout",
          "output_type": "stream",
          "text": [
            "2025-10-18 20:33:35,870 | INFO | download_fe | [UNH] features=5082 rows → ./sac_parity/data/UNH.parquet\n"
          ]
        },
        {
          "name": "stderr",
          "output_type": "stream",
          "text": [
            "INFO:download_fe:[UNH] features=5082 rows → ./sac_parity/data/UNH.parquet\n"
          ]
        },
        {
          "name": "stdout",
          "output_type": "stream",
          "text": [
            "2025-10-18 20:33:36,358 | INFO | download_fe | [15/53] MA — downloading\n"
          ]
        },
        {
          "name": "stderr",
          "output_type": "stream",
          "text": [
            "INFO:download_fe:[15/53] MA — downloading\n"
          ]
        },
        {
          "name": "stdout",
          "output_type": "stream",
          "text": [
            "2025-10-18 20:33:36,360 | INFO | download_fe | [MA] Attempt 1: download(period=730d, interval=1h)\n"
          ]
        },
        {
          "name": "stderr",
          "output_type": "stream",
          "text": [
            "INFO:download_fe:[MA] Attempt 1: download(period=730d, interval=1h)\n"
          ]
        },
        {
          "name": "stdout",
          "output_type": "stream",
          "text": [
            "2025-10-18 20:33:36,903 | INFO | download_fe | [MA] rows=5082 2022-11-18 14:30:00 → 2025-10-17 19:30:00\n"
          ]
        },
        {
          "name": "stderr",
          "output_type": "stream",
          "text": [
            "INFO:download_fe:[MA] rows=5082 2022-11-18 14:30:00 → 2025-10-17 19:30:00\n"
          ]
        },
        {
          "name": "stdout",
          "output_type": "stream",
          "text": [
            "2025-10-18 20:33:36,977 | INFO | download_fe | [MA] features=5082 rows → ./sac_parity/data/MA.parquet\n"
          ]
        },
        {
          "name": "stderr",
          "output_type": "stream",
          "text": [
            "INFO:download_fe:[MA] features=5082 rows → ./sac_parity/data/MA.parquet\n"
          ]
        },
        {
          "name": "stdout",
          "output_type": "stream",
          "text": [
            "2025-10-18 20:33:37,473 | INFO | download_fe | [16/53] HD — downloading\n"
          ]
        },
        {
          "name": "stderr",
          "output_type": "stream",
          "text": [
            "INFO:download_fe:[16/53] HD — downloading\n"
          ]
        },
        {
          "name": "stdout",
          "output_type": "stream",
          "text": [
            "2025-10-18 20:33:37,475 | INFO | download_fe | [HD] Attempt 1: download(period=730d, interval=1h)\n"
          ]
        },
        {
          "name": "stderr",
          "output_type": "stream",
          "text": [
            "INFO:download_fe:[HD] Attempt 1: download(period=730d, interval=1h)\n"
          ]
        },
        {
          "name": "stdout",
          "output_type": "stream",
          "text": [
            "2025-10-18 20:33:38,241 | INFO | download_fe | [HD] rows=5082 2022-11-18 14:30:00 → 2025-10-17 19:30:00\n"
          ]
        },
        {
          "name": "stderr",
          "output_type": "stream",
          "text": [
            "INFO:download_fe:[HD] rows=5082 2022-11-18 14:30:00 → 2025-10-17 19:30:00\n"
          ]
        },
        {
          "name": "stdout",
          "output_type": "stream",
          "text": [
            "2025-10-18 20:33:38,330 | INFO | download_fe | [HD] features=5082 rows → ./sac_parity/data/HD.parquet\n"
          ]
        },
        {
          "name": "stderr",
          "output_type": "stream",
          "text": [
            "INFO:download_fe:[HD] features=5082 rows → ./sac_parity/data/HD.parquet\n"
          ]
        },
        {
          "name": "stdout",
          "output_type": "stream",
          "text": [
            "2025-10-18 20:33:38,820 | INFO | download_fe | [17/53] LLY — downloading\n"
          ]
        },
        {
          "name": "stderr",
          "output_type": "stream",
          "text": [
            "INFO:download_fe:[17/53] LLY — downloading\n"
          ]
        },
        {
          "name": "stdout",
          "output_type": "stream",
          "text": [
            "2025-10-18 20:33:38,823 | INFO | download_fe | [LLY] Attempt 1: download(period=730d, interval=1h)\n"
          ]
        },
        {
          "name": "stderr",
          "output_type": "stream",
          "text": [
            "INFO:download_fe:[LLY] Attempt 1: download(period=730d, interval=1h)\n"
          ]
        },
        {
          "name": "stdout",
          "output_type": "stream",
          "text": [
            "2025-10-18 20:33:39,430 | INFO | download_fe | [LLY] rows=5082 2022-11-18 14:30:00 → 2025-10-17 19:30:00\n"
          ]
        },
        {
          "name": "stderr",
          "output_type": "stream",
          "text": [
            "INFO:download_fe:[LLY] rows=5082 2022-11-18 14:30:00 → 2025-10-17 19:30:00\n"
          ]
        },
        {
          "name": "stdout",
          "output_type": "stream",
          "text": [
            "2025-10-18 20:33:39,506 | INFO | download_fe | [LLY] features=5082 rows → ./sac_parity/data/LLY.parquet\n"
          ]
        },
        {
          "name": "stderr",
          "output_type": "stream",
          "text": [
            "INFO:download_fe:[LLY] features=5082 rows → ./sac_parity/data/LLY.parquet\n"
          ]
        },
        {
          "name": "stdout",
          "output_type": "stream",
          "text": [
            "2025-10-18 20:33:40,000 | INFO | download_fe | [18/53] MRK — downloading\n"
          ]
        },
        {
          "name": "stderr",
          "output_type": "stream",
          "text": [
            "INFO:download_fe:[18/53] MRK — downloading\n"
          ]
        },
        {
          "name": "stdout",
          "output_type": "stream",
          "text": [
            "2025-10-18 20:33:40,003 | INFO | download_fe | [MRK] Attempt 1: download(period=730d, interval=1h)\n"
          ]
        },
        {
          "name": "stderr",
          "output_type": "stream",
          "text": [
            "INFO:download_fe:[MRK] Attempt 1: download(period=730d, interval=1h)\n"
          ]
        },
        {
          "name": "stdout",
          "output_type": "stream",
          "text": [
            "2025-10-18 20:33:40,617 | INFO | download_fe | [MRK] rows=5082 2022-11-18 14:30:00 → 2025-10-17 19:30:00\n"
          ]
        },
        {
          "name": "stderr",
          "output_type": "stream",
          "text": [
            "INFO:download_fe:[MRK] rows=5082 2022-11-18 14:30:00 → 2025-10-17 19:30:00\n"
          ]
        },
        {
          "name": "stdout",
          "output_type": "stream",
          "text": [
            "2025-10-18 20:33:40,691 | INFO | download_fe | [MRK] features=5082 rows → ./sac_parity/data/MRK.parquet\n"
          ]
        },
        {
          "name": "stderr",
          "output_type": "stream",
          "text": [
            "INFO:download_fe:[MRK] features=5082 rows → ./sac_parity/data/MRK.parquet\n"
          ]
        },
        {
          "name": "stdout",
          "output_type": "stream",
          "text": [
            "2025-10-18 20:33:41,189 | INFO | download_fe | [19/53] PEP — downloading\n"
          ]
        },
        {
          "name": "stderr",
          "output_type": "stream",
          "text": [
            "INFO:download_fe:[19/53] PEP — downloading\n"
          ]
        },
        {
          "name": "stdout",
          "output_type": "stream",
          "text": [
            "2025-10-18 20:33:41,192 | INFO | download_fe | [PEP] Attempt 1: download(period=730d, interval=1h)\n"
          ]
        },
        {
          "name": "stderr",
          "output_type": "stream",
          "text": [
            "INFO:download_fe:[PEP] Attempt 1: download(period=730d, interval=1h)\n"
          ]
        },
        {
          "name": "stdout",
          "output_type": "stream",
          "text": [
            "2025-10-18 20:33:41,958 | INFO | download_fe | [PEP] rows=5082 2022-11-18 14:30:00 → 2025-10-17 19:30:00\n"
          ]
        },
        {
          "name": "stderr",
          "output_type": "stream",
          "text": [
            "INFO:download_fe:[PEP] rows=5082 2022-11-18 14:30:00 → 2025-10-17 19:30:00\n"
          ]
        },
        {
          "name": "stdout",
          "output_type": "stream",
          "text": [
            "2025-10-18 20:33:42,034 | INFO | download_fe | [PEP] features=5082 rows → ./sac_parity/data/PEP.parquet\n"
          ]
        },
        {
          "name": "stderr",
          "output_type": "stream",
          "text": [
            "INFO:download_fe:[PEP] features=5082 rows → ./sac_parity/data/PEP.parquet\n"
          ]
        },
        {
          "name": "stdout",
          "output_type": "stream",
          "text": [
            "2025-10-18 20:33:42,532 | INFO | download_fe | [20/53] KO — downloading\n"
          ]
        },
        {
          "name": "stderr",
          "output_type": "stream",
          "text": [
            "INFO:download_fe:[20/53] KO — downloading\n"
          ]
        },
        {
          "name": "stdout",
          "output_type": "stream",
          "text": [
            "2025-10-18 20:33:42,535 | INFO | download_fe | [KO] Attempt 1: download(period=730d, interval=1h)\n"
          ]
        },
        {
          "name": "stderr",
          "output_type": "stream",
          "text": [
            "INFO:download_fe:[KO] Attempt 1: download(period=730d, interval=1h)\n"
          ]
        },
        {
          "name": "stdout",
          "output_type": "stream",
          "text": [
            "2025-10-18 20:33:43,221 | INFO | download_fe | [KO] rows=5082 2022-11-18 14:30:00 → 2025-10-17 19:30:00\n"
          ]
        },
        {
          "name": "stderr",
          "output_type": "stream",
          "text": [
            "INFO:download_fe:[KO] rows=5082 2022-11-18 14:30:00 → 2025-10-17 19:30:00\n"
          ]
        },
        {
          "name": "stdout",
          "output_type": "stream",
          "text": [
            "2025-10-18 20:33:43,299 | INFO | download_fe | [KO] features=5082 rows → ./sac_parity/data/KO.parquet\n"
          ]
        },
        {
          "name": "stderr",
          "output_type": "stream",
          "text": [
            "INFO:download_fe:[KO] features=5082 rows → ./sac_parity/data/KO.parquet\n"
          ]
        },
        {
          "name": "stdout",
          "output_type": "stream",
          "text": [
            "2025-10-18 20:33:43,811 | INFO | download_fe | [21/53] BAC — downloading\n"
          ]
        },
        {
          "name": "stderr",
          "output_type": "stream",
          "text": [
            "INFO:download_fe:[21/53] BAC — downloading\n"
          ]
        },
        {
          "name": "stdout",
          "output_type": "stream",
          "text": [
            "2025-10-18 20:33:43,814 | INFO | download_fe | [BAC] Attempt 1: download(period=730d, interval=1h)\n"
          ]
        },
        {
          "name": "stderr",
          "output_type": "stream",
          "text": [
            "INFO:download_fe:[BAC] Attempt 1: download(period=730d, interval=1h)\n"
          ]
        },
        {
          "name": "stdout",
          "output_type": "stream",
          "text": [
            "2025-10-18 20:33:44,701 | INFO | download_fe | [BAC] rows=5082 2022-11-18 14:30:00 → 2025-10-17 19:30:00\n"
          ]
        },
        {
          "name": "stderr",
          "output_type": "stream",
          "text": [
            "INFO:download_fe:[BAC] rows=5082 2022-11-18 14:30:00 → 2025-10-17 19:30:00\n"
          ]
        },
        {
          "name": "stdout",
          "output_type": "stream",
          "text": [
            "2025-10-18 20:33:44,815 | INFO | download_fe | [BAC] features=5082 rows → ./sac_parity/data/BAC.parquet\n"
          ]
        },
        {
          "name": "stderr",
          "output_type": "stream",
          "text": [
            "INFO:download_fe:[BAC] features=5082 rows → ./sac_parity/data/BAC.parquet\n"
          ]
        },
        {
          "name": "stdout",
          "output_type": "stream",
          "text": [
            "2025-10-18 20:33:45,392 | INFO | download_fe | [22/53] ABBV — downloading\n"
          ]
        },
        {
          "name": "stderr",
          "output_type": "stream",
          "text": [
            "INFO:download_fe:[22/53] ABBV — downloading\n"
          ]
        },
        {
          "name": "stdout",
          "output_type": "stream",
          "text": [
            "2025-10-18 20:33:45,394 | INFO | download_fe | [ABBV] Attempt 1: download(period=730d, interval=1h)\n"
          ]
        },
        {
          "name": "stderr",
          "output_type": "stream",
          "text": [
            "INFO:download_fe:[ABBV] Attempt 1: download(period=730d, interval=1h)\n"
          ]
        },
        {
          "name": "stdout",
          "output_type": "stream",
          "text": [
            "2025-10-18 20:33:46,091 | INFO | download_fe | [ABBV] rows=5082 2022-11-18 14:30:00 → 2025-10-17 19:30:00\n"
          ]
        },
        {
          "name": "stderr",
          "output_type": "stream",
          "text": [
            "INFO:download_fe:[ABBV] rows=5082 2022-11-18 14:30:00 → 2025-10-17 19:30:00\n"
          ]
        },
        {
          "name": "stdout",
          "output_type": "stream",
          "text": [
            "2025-10-18 20:33:46,192 | INFO | download_fe | [ABBV] features=5082 rows → ./sac_parity/data/ABBV.parquet\n"
          ]
        },
        {
          "name": "stderr",
          "output_type": "stream",
          "text": [
            "INFO:download_fe:[ABBV] features=5082 rows → ./sac_parity/data/ABBV.parquet\n"
          ]
        },
        {
          "name": "stdout",
          "output_type": "stream",
          "text": [
            "2025-10-18 20:33:46,753 | INFO | download_fe | [23/53] AVGO — downloading\n"
          ]
        },
        {
          "name": "stderr",
          "output_type": "stream",
          "text": [
            "INFO:download_fe:[23/53] AVGO — downloading\n"
          ]
        },
        {
          "name": "stdout",
          "output_type": "stream",
          "text": [
            "2025-10-18 20:33:46,756 | INFO | download_fe | [AVGO] Attempt 1: download(period=730d, interval=1h)\n"
          ]
        },
        {
          "name": "stderr",
          "output_type": "stream",
          "text": [
            "INFO:download_fe:[AVGO] Attempt 1: download(period=730d, interval=1h)\n"
          ]
        },
        {
          "name": "stdout",
          "output_type": "stream",
          "text": [
            "2025-10-18 20:33:47,876 | INFO | download_fe | [AVGO] rows=5082 2022-11-18 14:30:00 → 2025-10-17 19:30:00\n"
          ]
        },
        {
          "name": "stderr",
          "output_type": "stream",
          "text": [
            "INFO:download_fe:[AVGO] rows=5082 2022-11-18 14:30:00 → 2025-10-17 19:30:00\n"
          ]
        },
        {
          "name": "stdout",
          "output_type": "stream",
          "text": [
            "2025-10-18 20:33:47,953 | INFO | download_fe | [AVGO] features=5082 rows → ./sac_parity/data/AVGO.parquet\n"
          ]
        },
        {
          "name": "stderr",
          "output_type": "stream",
          "text": [
            "INFO:download_fe:[AVGO] features=5082 rows → ./sac_parity/data/AVGO.parquet\n"
          ]
        },
        {
          "name": "stdout",
          "output_type": "stream",
          "text": [
            "2025-10-18 20:33:48,449 | INFO | download_fe | [24/53] PFE — downloading\n"
          ]
        },
        {
          "name": "stderr",
          "output_type": "stream",
          "text": [
            "INFO:download_fe:[24/53] PFE — downloading\n"
          ]
        },
        {
          "name": "stdout",
          "output_type": "stream",
          "text": [
            "2025-10-18 20:33:48,451 | INFO | download_fe | [PFE] Attempt 1: download(period=730d, interval=1h)\n"
          ]
        },
        {
          "name": "stderr",
          "output_type": "stream",
          "text": [
            "INFO:download_fe:[PFE] Attempt 1: download(period=730d, interval=1h)\n"
          ]
        },
        {
          "name": "stdout",
          "output_type": "stream",
          "text": [
            "2025-10-18 20:33:49,065 | INFO | download_fe | [PFE] rows=5082 2022-11-18 14:30:00 → 2025-10-17 19:30:00\n"
          ]
        },
        {
          "name": "stderr",
          "output_type": "stream",
          "text": [
            "INFO:download_fe:[PFE] rows=5082 2022-11-18 14:30:00 → 2025-10-17 19:30:00\n"
          ]
        },
        {
          "name": "stdout",
          "output_type": "stream",
          "text": [
            "2025-10-18 20:33:49,146 | INFO | download_fe | [PFE] features=5082 rows → ./sac_parity/data/PFE.parquet\n"
          ]
        },
        {
          "name": "stderr",
          "output_type": "stream",
          "text": [
            "INFO:download_fe:[PFE] features=5082 rows → ./sac_parity/data/PFE.parquet\n"
          ]
        },
        {
          "name": "stdout",
          "output_type": "stream",
          "text": [
            "2025-10-18 20:33:49,638 | INFO | download_fe | [25/53] COST — downloading\n"
          ]
        },
        {
          "name": "stderr",
          "output_type": "stream",
          "text": [
            "INFO:download_fe:[25/53] COST — downloading\n"
          ]
        },
        {
          "name": "stdout",
          "output_type": "stream",
          "text": [
            "2025-10-18 20:33:49,640 | INFO | download_fe | [COST] Attempt 1: download(period=730d, interval=1h)\n"
          ]
        },
        {
          "name": "stderr",
          "output_type": "stream",
          "text": [
            "INFO:download_fe:[COST] Attempt 1: download(period=730d, interval=1h)\n"
          ]
        },
        {
          "name": "stdout",
          "output_type": "stream",
          "text": [
            "2025-10-18 20:33:50,219 | INFO | download_fe | [COST] rows=5082 2022-11-18 14:30:00 → 2025-10-17 19:30:00\n"
          ]
        },
        {
          "name": "stderr",
          "output_type": "stream",
          "text": [
            "INFO:download_fe:[COST] rows=5082 2022-11-18 14:30:00 → 2025-10-17 19:30:00\n"
          ]
        },
        {
          "name": "stdout",
          "output_type": "stream",
          "text": [
            "2025-10-18 20:33:50,296 | INFO | download_fe | [COST] features=5082 rows → ./sac_parity/data/COST.parquet\n"
          ]
        },
        {
          "name": "stderr",
          "output_type": "stream",
          "text": [
            "INFO:download_fe:[COST] features=5082 rows → ./sac_parity/data/COST.parquet\n"
          ]
        },
        {
          "name": "stdout",
          "output_type": "stream",
          "text": [
            "2025-10-18 20:33:50,792 | INFO | download_fe | [26/53] CSCO — downloading\n"
          ]
        },
        {
          "name": "stderr",
          "output_type": "stream",
          "text": [
            "INFO:download_fe:[26/53] CSCO — downloading\n"
          ]
        },
        {
          "name": "stdout",
          "output_type": "stream",
          "text": [
            "2025-10-18 20:33:50,794 | INFO | download_fe | [CSCO] Attempt 1: download(period=730d, interval=1h)\n"
          ]
        },
        {
          "name": "stderr",
          "output_type": "stream",
          "text": [
            "INFO:download_fe:[CSCO] Attempt 1: download(period=730d, interval=1h)\n"
          ]
        },
        {
          "name": "stdout",
          "output_type": "stream",
          "text": [
            "2025-10-18 20:33:51,352 | INFO | download_fe | [CSCO] rows=5082 2022-11-18 14:30:00 → 2025-10-17 19:30:00\n"
          ]
        },
        {
          "name": "stderr",
          "output_type": "stream",
          "text": [
            "INFO:download_fe:[CSCO] rows=5082 2022-11-18 14:30:00 → 2025-10-17 19:30:00\n"
          ]
        },
        {
          "name": "stdout",
          "output_type": "stream",
          "text": [
            "2025-10-18 20:33:51,428 | INFO | download_fe | [CSCO] features=5082 rows → ./sac_parity/data/CSCO.parquet\n"
          ]
        },
        {
          "name": "stderr",
          "output_type": "stream",
          "text": [
            "INFO:download_fe:[CSCO] features=5082 rows → ./sac_parity/data/CSCO.parquet\n"
          ]
        },
        {
          "name": "stdout",
          "output_type": "stream",
          "text": [
            "2025-10-18 20:33:51,928 | INFO | download_fe | [27/53] TMO — downloading\n"
          ]
        },
        {
          "name": "stderr",
          "output_type": "stream",
          "text": [
            "INFO:download_fe:[27/53] TMO — downloading\n"
          ]
        },
        {
          "name": "stdout",
          "output_type": "stream",
          "text": [
            "2025-10-18 20:33:51,930 | INFO | download_fe | [TMO] Attempt 1: download(period=730d, interval=1h)\n"
          ]
        },
        {
          "name": "stderr",
          "output_type": "stream",
          "text": [
            "INFO:download_fe:[TMO] Attempt 1: download(period=730d, interval=1h)\n"
          ]
        },
        {
          "name": "stdout",
          "output_type": "stream",
          "text": [
            "2025-10-18 20:33:52,485 | INFO | download_fe | [TMO] rows=5051 2022-11-28 14:30:00 → 2025-10-17 19:30:00\n"
          ]
        },
        {
          "name": "stderr",
          "output_type": "stream",
          "text": [
            "INFO:download_fe:[TMO] rows=5051 2022-11-28 14:30:00 → 2025-10-17 19:30:00\n"
          ]
        },
        {
          "name": "stdout",
          "output_type": "stream",
          "text": [
            "2025-10-18 20:33:52,563 | INFO | download_fe | [TMO] features=5051 rows → ./sac_parity/data/TMO.parquet\n"
          ]
        },
        {
          "name": "stderr",
          "output_type": "stream",
          "text": [
            "INFO:download_fe:[TMO] features=5051 rows → ./sac_parity/data/TMO.parquet\n"
          ]
        },
        {
          "name": "stdout",
          "output_type": "stream",
          "text": [
            "2025-10-18 20:33:53,064 | INFO | download_fe | [28/53] ABT — downloading\n"
          ]
        },
        {
          "name": "stderr",
          "output_type": "stream",
          "text": [
            "INFO:download_fe:[28/53] ABT — downloading\n"
          ]
        },
        {
          "name": "stdout",
          "output_type": "stream",
          "text": [
            "2025-10-18 20:33:53,067 | INFO | download_fe | [ABT] Attempt 1: download(period=730d, interval=1h)\n"
          ]
        },
        {
          "name": "stderr",
          "output_type": "stream",
          "text": [
            "INFO:download_fe:[ABT] Attempt 1: download(period=730d, interval=1h)\n"
          ]
        },
        {
          "name": "stdout",
          "output_type": "stream",
          "text": [
            "2025-10-18 20:33:53,696 | INFO | download_fe | [ABT] rows=5082 2022-11-18 14:30:00 → 2025-10-17 19:30:00\n"
          ]
        },
        {
          "name": "stderr",
          "output_type": "stream",
          "text": [
            "INFO:download_fe:[ABT] rows=5082 2022-11-18 14:30:00 → 2025-10-17 19:30:00\n"
          ]
        },
        {
          "name": "stdout",
          "output_type": "stream",
          "text": [
            "2025-10-18 20:33:53,772 | INFO | download_fe | [ABT] features=5082 rows → ./sac_parity/data/ABT.parquet\n"
          ]
        },
        {
          "name": "stderr",
          "output_type": "stream",
          "text": [
            "INFO:download_fe:[ABT] features=5082 rows → ./sac_parity/data/ABT.parquet\n"
          ]
        },
        {
          "name": "stdout",
          "output_type": "stream",
          "text": [
            "2025-10-18 20:33:54,283 | INFO | download_fe | [29/53] ACN — downloading\n"
          ]
        },
        {
          "name": "stderr",
          "output_type": "stream",
          "text": [
            "INFO:download_fe:[29/53] ACN — downloading\n"
          ]
        },
        {
          "name": "stdout",
          "output_type": "stream",
          "text": [
            "2025-10-18 20:33:54,288 | INFO | download_fe | [ACN] Attempt 1: download(period=730d, interval=1h)\n"
          ]
        },
        {
          "name": "stderr",
          "output_type": "stream",
          "text": [
            "INFO:download_fe:[ACN] Attempt 1: download(period=730d, interval=1h)\n"
          ]
        },
        {
          "name": "stdout",
          "output_type": "stream",
          "text": [
            "2025-10-18 20:33:54,930 | INFO | download_fe | [ACN] rows=5082 2022-11-18 14:30:00 → 2025-10-17 19:30:00\n"
          ]
        },
        {
          "name": "stderr",
          "output_type": "stream",
          "text": [
            "INFO:download_fe:[ACN] rows=5082 2022-11-18 14:30:00 → 2025-10-17 19:30:00\n"
          ]
        },
        {
          "name": "stdout",
          "output_type": "stream",
          "text": [
            "2025-10-18 20:33:55,007 | INFO | download_fe | [ACN] features=5082 rows → ./sac_parity/data/ACN.parquet\n"
          ]
        },
        {
          "name": "stderr",
          "output_type": "stream",
          "text": [
            "INFO:download_fe:[ACN] features=5082 rows → ./sac_parity/data/ACN.parquet\n"
          ]
        },
        {
          "name": "stdout",
          "output_type": "stream",
          "text": [
            "2025-10-18 20:33:55,505 | INFO | download_fe | [30/53] WMT — downloading\n"
          ]
        },
        {
          "name": "stderr",
          "output_type": "stream",
          "text": [
            "INFO:download_fe:[30/53] WMT — downloading\n"
          ]
        },
        {
          "name": "stdout",
          "output_type": "stream",
          "text": [
            "2025-10-18 20:33:55,507 | INFO | download_fe | [WMT] Attempt 1: download(period=730d, interval=1h)\n"
          ]
        },
        {
          "name": "stderr",
          "output_type": "stream",
          "text": [
            "INFO:download_fe:[WMT] Attempt 1: download(period=730d, interval=1h)\n"
          ]
        },
        {
          "name": "stdout",
          "output_type": "stream",
          "text": [
            "2025-10-18 20:33:56,485 | INFO | download_fe | [WMT] rows=5082 2022-11-18 14:30:00 → 2025-10-17 19:30:00\n"
          ]
        },
        {
          "name": "stderr",
          "output_type": "stream",
          "text": [
            "INFO:download_fe:[WMT] rows=5082 2022-11-18 14:30:00 → 2025-10-17 19:30:00\n"
          ]
        },
        {
          "name": "stdout",
          "output_type": "stream",
          "text": [
            "2025-10-18 20:33:56,558 | INFO | download_fe | [WMT] features=5082 rows → ./sac_parity/data/WMT.parquet\n"
          ]
        },
        {
          "name": "stderr",
          "output_type": "stream",
          "text": [
            "INFO:download_fe:[WMT] features=5082 rows → ./sac_parity/data/WMT.parquet\n"
          ]
        },
        {
          "name": "stdout",
          "output_type": "stream",
          "text": [
            "2025-10-18 20:33:57,055 | INFO | download_fe | [31/53] MCD — downloading\n"
          ]
        },
        {
          "name": "stderr",
          "output_type": "stream",
          "text": [
            "INFO:download_fe:[31/53] MCD — downloading\n"
          ]
        },
        {
          "name": "stdout",
          "output_type": "stream",
          "text": [
            "2025-10-18 20:33:57,057 | INFO | download_fe | [MCD] Attempt 1: download(period=730d, interval=1h)\n"
          ]
        },
        {
          "name": "stderr",
          "output_type": "stream",
          "text": [
            "INFO:download_fe:[MCD] Attempt 1: download(period=730d, interval=1h)\n"
          ]
        },
        {
          "name": "stdout",
          "output_type": "stream",
          "text": [
            "2025-10-18 20:33:57,674 | INFO | download_fe | [MCD] rows=5082 2022-11-18 14:30:00 → 2025-10-17 19:30:00\n"
          ]
        },
        {
          "name": "stderr",
          "output_type": "stream",
          "text": [
            "INFO:download_fe:[MCD] rows=5082 2022-11-18 14:30:00 → 2025-10-17 19:30:00\n"
          ]
        },
        {
          "name": "stdout",
          "output_type": "stream",
          "text": [
            "2025-10-18 20:33:57,752 | INFO | download_fe | [MCD] features=5082 rows → ./sac_parity/data/MCD.parquet\n"
          ]
        },
        {
          "name": "stderr",
          "output_type": "stream",
          "text": [
            "INFO:download_fe:[MCD] features=5082 rows → ./sac_parity/data/MCD.parquet\n"
          ]
        },
        {
          "name": "stdout",
          "output_type": "stream",
          "text": [
            "2025-10-18 20:33:58,347 | INFO | download_fe | [32/53] ADBE — downloading\n"
          ]
        },
        {
          "name": "stderr",
          "output_type": "stream",
          "text": [
            "INFO:download_fe:[32/53] ADBE — downloading\n"
          ]
        },
        {
          "name": "stdout",
          "output_type": "stream",
          "text": [
            "2025-10-18 20:33:58,350 | INFO | download_fe | [ADBE] Attempt 1: download(period=730d, interval=1h)\n"
          ]
        },
        {
          "name": "stderr",
          "output_type": "stream",
          "text": [
            "INFO:download_fe:[ADBE] Attempt 1: download(period=730d, interval=1h)\n"
          ]
        },
        {
          "name": "stdout",
          "output_type": "stream",
          "text": [
            "2025-10-18 20:33:58,792 | INFO | download_fe | [ADBE] rows=5082 2022-11-18 14:30:00 → 2025-10-17 19:30:00\n"
          ]
        },
        {
          "name": "stderr",
          "output_type": "stream",
          "text": [
            "INFO:download_fe:[ADBE] rows=5082 2022-11-18 14:30:00 → 2025-10-17 19:30:00\n"
          ]
        },
        {
          "name": "stdout",
          "output_type": "stream",
          "text": [
            "2025-10-18 20:33:58,907 | INFO | download_fe | [ADBE] features=5082 rows → ./sac_parity/data/ADBE.parquet\n"
          ]
        },
        {
          "name": "stderr",
          "output_type": "stream",
          "text": [
            "INFO:download_fe:[ADBE] features=5082 rows → ./sac_parity/data/ADBE.parquet\n"
          ]
        },
        {
          "name": "stdout",
          "output_type": "stream",
          "text": [
            "2025-10-18 20:33:59,504 | INFO | download_fe | [33/53] DHR — downloading\n"
          ]
        },
        {
          "name": "stderr",
          "output_type": "stream",
          "text": [
            "INFO:download_fe:[33/53] DHR — downloading\n"
          ]
        },
        {
          "name": "stdout",
          "output_type": "stream",
          "text": [
            "2025-10-18 20:33:59,506 | INFO | download_fe | [DHR] Attempt 1: download(period=730d, interval=1h)\n"
          ]
        },
        {
          "name": "stderr",
          "output_type": "stream",
          "text": [
            "INFO:download_fe:[DHR] Attempt 1: download(period=730d, interval=1h)\n"
          ]
        },
        {
          "name": "stdout",
          "output_type": "stream",
          "text": [
            "2025-10-18 20:34:00,892 | INFO | download_fe | [DHR] rows=5082 2022-11-18 14:30:00 → 2025-10-17 19:30:00\n"
          ]
        },
        {
          "name": "stderr",
          "output_type": "stream",
          "text": [
            "INFO:download_fe:[DHR] rows=5082 2022-11-18 14:30:00 → 2025-10-17 19:30:00\n"
          ]
        },
        {
          "name": "stdout",
          "output_type": "stream",
          "text": [
            "2025-10-18 20:34:00,974 | INFO | download_fe | [DHR] features=5082 rows → ./sac_parity/data/DHR.parquet\n"
          ]
        },
        {
          "name": "stderr",
          "output_type": "stream",
          "text": [
            "INFO:download_fe:[DHR] features=5082 rows → ./sac_parity/data/DHR.parquet\n"
          ]
        },
        {
          "name": "stdout",
          "output_type": "stream",
          "text": [
            "2025-10-18 20:34:01,481 | INFO | download_fe | [34/53] CRM — downloading\n"
          ]
        },
        {
          "name": "stderr",
          "output_type": "stream",
          "text": [
            "INFO:download_fe:[34/53] CRM — downloading\n"
          ]
        },
        {
          "name": "stdout",
          "output_type": "stream",
          "text": [
            "2025-10-18 20:34:01,483 | INFO | download_fe | [CRM] Attempt 1: download(period=730d, interval=1h)\n"
          ]
        },
        {
          "name": "stderr",
          "output_type": "stream",
          "text": [
            "INFO:download_fe:[CRM] Attempt 1: download(period=730d, interval=1h)\n"
          ]
        },
        {
          "name": "stdout",
          "output_type": "stream",
          "text": [
            "2025-10-18 20:34:02,080 | INFO | download_fe | [CRM] rows=5082 2022-11-18 14:30:00 → 2025-10-17 19:30:00\n"
          ]
        },
        {
          "name": "stderr",
          "output_type": "stream",
          "text": [
            "INFO:download_fe:[CRM] rows=5082 2022-11-18 14:30:00 → 2025-10-17 19:30:00\n"
          ]
        },
        {
          "name": "stdout",
          "output_type": "stream",
          "text": [
            "2025-10-18 20:34:02,170 | INFO | download_fe | [CRM] features=5082 rows → ./sac_parity/data/CRM.parquet\n"
          ]
        },
        {
          "name": "stderr",
          "output_type": "stream",
          "text": [
            "INFO:download_fe:[CRM] features=5082 rows → ./sac_parity/data/CRM.parquet\n"
          ]
        },
        {
          "name": "stdout",
          "output_type": "stream",
          "text": [
            "2025-10-18 20:34:02,677 | INFO | download_fe | [35/53] NKE — downloading\n"
          ]
        },
        {
          "name": "stderr",
          "output_type": "stream",
          "text": [
            "INFO:download_fe:[35/53] NKE — downloading\n"
          ]
        },
        {
          "name": "stdout",
          "output_type": "stream",
          "text": [
            "2025-10-18 20:34:02,680 | INFO | download_fe | [NKE] Attempt 1: download(period=730d, interval=1h)\n"
          ]
        },
        {
          "name": "stderr",
          "output_type": "stream",
          "text": [
            "INFO:download_fe:[NKE] Attempt 1: download(period=730d, interval=1h)\n"
          ]
        },
        {
          "name": "stdout",
          "output_type": "stream",
          "text": [
            "2025-10-18 20:34:03,258 | INFO | download_fe | [NKE] rows=5082 2022-11-18 14:30:00 → 2025-10-17 19:30:00\n"
          ]
        },
        {
          "name": "stderr",
          "output_type": "stream",
          "text": [
            "INFO:download_fe:[NKE] rows=5082 2022-11-18 14:30:00 → 2025-10-17 19:30:00\n"
          ]
        },
        {
          "name": "stdout",
          "output_type": "stream",
          "text": [
            "2025-10-18 20:34:03,338 | INFO | download_fe | [NKE] features=5082 rows → ./sac_parity/data/NKE.parquet\n"
          ]
        },
        {
          "name": "stderr",
          "output_type": "stream",
          "text": [
            "INFO:download_fe:[NKE] features=5082 rows → ./sac_parity/data/NKE.parquet\n"
          ]
        },
        {
          "name": "stdout",
          "output_type": "stream",
          "text": [
            "2025-10-18 20:34:03,834 | INFO | download_fe | [36/53] INTC — downloading\n"
          ]
        },
        {
          "name": "stderr",
          "output_type": "stream",
          "text": [
            "INFO:download_fe:[36/53] INTC — downloading\n"
          ]
        },
        {
          "name": "stdout",
          "output_type": "stream",
          "text": [
            "2025-10-18 20:34:03,836 | INFO | download_fe | [INTC] Attempt 1: download(period=730d, interval=1h)\n"
          ]
        },
        {
          "name": "stderr",
          "output_type": "stream",
          "text": [
            "INFO:download_fe:[INTC] Attempt 1: download(period=730d, interval=1h)\n"
          ]
        },
        {
          "name": "stdout",
          "output_type": "stream",
          "text": [
            "2025-10-18 20:34:04,507 | INFO | download_fe | [INTC] rows=5082 2022-11-18 14:30:00 → 2025-10-17 19:30:00\n"
          ]
        },
        {
          "name": "stderr",
          "output_type": "stream",
          "text": [
            "INFO:download_fe:[INTC] rows=5082 2022-11-18 14:30:00 → 2025-10-17 19:30:00\n"
          ]
        },
        {
          "name": "stdout",
          "output_type": "stream",
          "text": [
            "2025-10-18 20:34:04,593 | INFO | download_fe | [INTC] features=5082 rows → ./sac_parity/data/INTC.parquet\n"
          ]
        },
        {
          "name": "stderr",
          "output_type": "stream",
          "text": [
            "INFO:download_fe:[INTC] features=5082 rows → ./sac_parity/data/INTC.parquet\n"
          ]
        },
        {
          "name": "stdout",
          "output_type": "stream",
          "text": [
            "2025-10-18 20:34:05,098 | INFO | download_fe | [37/53] QCOM — downloading\n"
          ]
        },
        {
          "name": "stderr",
          "output_type": "stream",
          "text": [
            "INFO:download_fe:[37/53] QCOM — downloading\n"
          ]
        },
        {
          "name": "stdout",
          "output_type": "stream",
          "text": [
            "2025-10-18 20:34:05,101 | INFO | download_fe | [QCOM] Attempt 1: download(period=730d, interval=1h)\n"
          ]
        },
        {
          "name": "stderr",
          "output_type": "stream",
          "text": [
            "INFO:download_fe:[QCOM] Attempt 1: download(period=730d, interval=1h)\n"
          ]
        },
        {
          "name": "stdout",
          "output_type": "stream",
          "text": [
            "2025-10-18 20:34:05,727 | INFO | download_fe | [QCOM] rows=5082 2022-11-18 14:30:00 → 2025-10-17 19:30:00\n"
          ]
        },
        {
          "name": "stderr",
          "output_type": "stream",
          "text": [
            "INFO:download_fe:[QCOM] rows=5082 2022-11-18 14:30:00 → 2025-10-17 19:30:00\n"
          ]
        },
        {
          "name": "stdout",
          "output_type": "stream",
          "text": [
            "2025-10-18 20:34:05,801 | INFO | download_fe | [QCOM] features=5082 rows → ./sac_parity/data/QCOM.parquet\n"
          ]
        },
        {
          "name": "stderr",
          "output_type": "stream",
          "text": [
            "INFO:download_fe:[QCOM] features=5082 rows → ./sac_parity/data/QCOM.parquet\n"
          ]
        },
        {
          "name": "stdout",
          "output_type": "stream",
          "text": [
            "2025-10-18 20:34:06,328 | INFO | download_fe | [38/53] NEE — downloading\n"
          ]
        },
        {
          "name": "stderr",
          "output_type": "stream",
          "text": [
            "INFO:download_fe:[38/53] NEE — downloading\n"
          ]
        },
        {
          "name": "stdout",
          "output_type": "stream",
          "text": [
            "2025-10-18 20:34:06,330 | INFO | download_fe | [NEE] Attempt 1: download(period=730d, interval=1h)\n"
          ]
        },
        {
          "name": "stderr",
          "output_type": "stream",
          "text": [
            "INFO:download_fe:[NEE] Attempt 1: download(period=730d, interval=1h)\n"
          ]
        },
        {
          "name": "stdout",
          "output_type": "stream",
          "text": [
            "2025-10-18 20:34:07,014 | INFO | download_fe | [NEE] rows=5082 2022-11-18 14:30:00 → 2025-10-17 19:30:00\n"
          ]
        },
        {
          "name": "stderr",
          "output_type": "stream",
          "text": [
            "INFO:download_fe:[NEE] rows=5082 2022-11-18 14:30:00 → 2025-10-17 19:30:00\n"
          ]
        },
        {
          "name": "stdout",
          "output_type": "stream",
          "text": [
            "2025-10-18 20:34:07,086 | INFO | download_fe | [NEE] features=5082 rows → ./sac_parity/data/NEE.parquet\n"
          ]
        },
        {
          "name": "stderr",
          "output_type": "stream",
          "text": [
            "INFO:download_fe:[NEE] features=5082 rows → ./sac_parity/data/NEE.parquet\n"
          ]
        },
        {
          "name": "stdout",
          "output_type": "stream",
          "text": [
            "2025-10-18 20:34:07,592 | INFO | download_fe | [39/53] AMD — downloading\n"
          ]
        },
        {
          "name": "stderr",
          "output_type": "stream",
          "text": [
            "INFO:download_fe:[39/53] AMD — downloading\n"
          ]
        },
        {
          "name": "stdout",
          "output_type": "stream",
          "text": [
            "2025-10-18 20:34:07,595 | INFO | download_fe | [AMD] Attempt 1: download(period=730d, interval=1h)\n"
          ]
        },
        {
          "name": "stderr",
          "output_type": "stream",
          "text": [
            "INFO:download_fe:[AMD] Attempt 1: download(period=730d, interval=1h)\n"
          ]
        },
        {
          "name": "stdout",
          "output_type": "stream",
          "text": [
            "2025-10-18 20:34:08,122 | INFO | download_fe | [AMD] rows=5082 2022-11-18 14:30:00 → 2025-10-17 19:30:00\n"
          ]
        },
        {
          "name": "stderr",
          "output_type": "stream",
          "text": [
            "INFO:download_fe:[AMD] rows=5082 2022-11-18 14:30:00 → 2025-10-17 19:30:00\n"
          ]
        },
        {
          "name": "stdout",
          "output_type": "stream",
          "text": [
            "2025-10-18 20:34:08,203 | INFO | download_fe | [AMD] features=5082 rows → ./sac_parity/data/AMD.parquet\n"
          ]
        },
        {
          "name": "stderr",
          "output_type": "stream",
          "text": [
            "INFO:download_fe:[AMD] features=5082 rows → ./sac_parity/data/AMD.parquet\n"
          ]
        },
        {
          "name": "stdout",
          "output_type": "stream",
          "text": [
            "2025-10-18 20:34:08,723 | INFO | download_fe | [40/53] TXN — downloading\n"
          ]
        },
        {
          "name": "stderr",
          "output_type": "stream",
          "text": [
            "INFO:download_fe:[40/53] TXN — downloading\n"
          ]
        },
        {
          "name": "stdout",
          "output_type": "stream",
          "text": [
            "2025-10-18 20:34:08,731 | INFO | download_fe | [TXN] Attempt 1: download(period=730d, interval=1h)\n"
          ]
        },
        {
          "name": "stderr",
          "output_type": "stream",
          "text": [
            "INFO:download_fe:[TXN] Attempt 1: download(period=730d, interval=1h)\n"
          ]
        },
        {
          "name": "stdout",
          "output_type": "stream",
          "text": [
            "2025-10-18 20:34:09,312 | INFO | download_fe | [TXN] rows=5082 2022-11-18 14:30:00 → 2025-10-17 19:30:00\n"
          ]
        },
        {
          "name": "stderr",
          "output_type": "stream",
          "text": [
            "INFO:download_fe:[TXN] rows=5082 2022-11-18 14:30:00 → 2025-10-17 19:30:00\n"
          ]
        },
        {
          "name": "stdout",
          "output_type": "stream",
          "text": [
            "2025-10-18 20:34:09,394 | INFO | download_fe | [TXN] features=5082 rows → ./sac_parity/data/TXN.parquet\n"
          ]
        },
        {
          "name": "stderr",
          "output_type": "stream",
          "text": [
            "INFO:download_fe:[TXN] features=5082 rows → ./sac_parity/data/TXN.parquet\n"
          ]
        },
        {
          "name": "stdout",
          "output_type": "stream",
          "text": [
            "2025-10-18 20:34:09,907 | INFO | download_fe | [41/53] AMGN — downloading\n"
          ]
        },
        {
          "name": "stderr",
          "output_type": "stream",
          "text": [
            "INFO:download_fe:[41/53] AMGN — downloading\n"
          ]
        },
        {
          "name": "stdout",
          "output_type": "stream",
          "text": [
            "2025-10-18 20:34:09,909 | INFO | download_fe | [AMGN] Attempt 1: download(period=730d, interval=1h)\n"
          ]
        },
        {
          "name": "stderr",
          "output_type": "stream",
          "text": [
            "INFO:download_fe:[AMGN] Attempt 1: download(period=730d, interval=1h)\n"
          ]
        },
        {
          "name": "stdout",
          "output_type": "stream",
          "text": [
            "2025-10-18 20:34:10,535 | INFO | download_fe | [AMGN] rows=5082 2022-11-18 14:30:00 → 2025-10-17 19:30:00\n"
          ]
        },
        {
          "name": "stderr",
          "output_type": "stream",
          "text": [
            "INFO:download_fe:[AMGN] rows=5082 2022-11-18 14:30:00 → 2025-10-17 19:30:00\n"
          ]
        },
        {
          "name": "stdout",
          "output_type": "stream",
          "text": [
            "2025-10-18 20:34:10,610 | INFO | download_fe | [AMGN] features=5082 rows → ./sac_parity/data/AMGN.parquet\n"
          ]
        },
        {
          "name": "stderr",
          "output_type": "stream",
          "text": [
            "INFO:download_fe:[AMGN] features=5082 rows → ./sac_parity/data/AMGN.parquet\n"
          ]
        },
        {
          "name": "stdout",
          "output_type": "stream",
          "text": [
            "2025-10-18 20:34:11,124 | INFO | download_fe | [42/53] UPS — downloading\n"
          ]
        },
        {
          "name": "stderr",
          "output_type": "stream",
          "text": [
            "INFO:download_fe:[42/53] UPS — downloading\n"
          ]
        },
        {
          "name": "stdout",
          "output_type": "stream",
          "text": [
            "2025-10-18 20:34:11,126 | INFO | download_fe | [UPS] Attempt 1: download(period=730d, interval=1h)\n"
          ]
        },
        {
          "name": "stderr",
          "output_type": "stream",
          "text": [
            "INFO:download_fe:[UPS] Attempt 1: download(period=730d, interval=1h)\n"
          ]
        },
        {
          "name": "stdout",
          "output_type": "stream",
          "text": [
            "2025-10-18 20:34:11,894 | INFO | download_fe | [UPS] rows=5082 2022-11-18 14:30:00 → 2025-10-17 19:30:00\n"
          ]
        },
        {
          "name": "stderr",
          "output_type": "stream",
          "text": [
            "INFO:download_fe:[UPS] rows=5082 2022-11-18 14:30:00 → 2025-10-17 19:30:00\n"
          ]
        },
        {
          "name": "stdout",
          "output_type": "stream",
          "text": [
            "2025-10-18 20:34:12,002 | INFO | download_fe | [UPS] features=5082 rows → ./sac_parity/data/UPS.parquet\n"
          ]
        },
        {
          "name": "stderr",
          "output_type": "stream",
          "text": [
            "INFO:download_fe:[UPS] features=5082 rows → ./sac_parity/data/UPS.parquet\n"
          ]
        },
        {
          "name": "stdout",
          "output_type": "stream",
          "text": [
            "2025-10-18 20:34:12,595 | INFO | download_fe | [43/53] LIN — downloading\n"
          ]
        },
        {
          "name": "stderr",
          "output_type": "stream",
          "text": [
            "INFO:download_fe:[43/53] LIN — downloading\n"
          ]
        },
        {
          "name": "stdout",
          "output_type": "stream",
          "text": [
            "2025-10-18 20:34:12,597 | INFO | download_fe | [LIN] Attempt 1: download(period=730d, interval=1h)\n"
          ]
        },
        {
          "name": "stderr",
          "output_type": "stream",
          "text": [
            "INFO:download_fe:[LIN] Attempt 1: download(period=730d, interval=1h)\n"
          ]
        },
        {
          "name": "stdout",
          "output_type": "stream",
          "text": [
            "2025-10-18 20:34:13,373 | INFO | download_fe | [LIN] rows=5082 2022-11-18 14:30:00 → 2025-10-17 19:30:00\n"
          ]
        },
        {
          "name": "stderr",
          "output_type": "stream",
          "text": [
            "INFO:download_fe:[LIN] rows=5082 2022-11-18 14:30:00 → 2025-10-17 19:30:00\n"
          ]
        },
        {
          "name": "stdout",
          "output_type": "stream",
          "text": [
            "2025-10-18 20:34:13,480 | INFO | download_fe | [LIN] features=5082 rows → ./sac_parity/data/LIN.parquet\n"
          ]
        },
        {
          "name": "stderr",
          "output_type": "stream",
          "text": [
            "INFO:download_fe:[LIN] features=5082 rows → ./sac_parity/data/LIN.parquet\n"
          ]
        },
        {
          "name": "stdout",
          "output_type": "stream",
          "text": [
            "2025-10-18 20:34:14,088 | INFO | download_fe | [44/53] PM — downloading\n"
          ]
        },
        {
          "name": "stderr",
          "output_type": "stream",
          "text": [
            "INFO:download_fe:[44/53] PM — downloading\n"
          ]
        },
        {
          "name": "stdout",
          "output_type": "stream",
          "text": [
            "2025-10-18 20:34:14,091 | INFO | download_fe | [PM] Attempt 1: download(period=730d, interval=1h)\n"
          ]
        },
        {
          "name": "stderr",
          "output_type": "stream",
          "text": [
            "INFO:download_fe:[PM] Attempt 1: download(period=730d, interval=1h)\n"
          ]
        },
        {
          "name": "stdout",
          "output_type": "stream",
          "text": [
            "2025-10-18 20:34:14,644 | INFO | download_fe | [PM] rows=5082 2022-11-18 14:30:00 → 2025-10-17 19:30:00\n"
          ]
        },
        {
          "name": "stderr",
          "output_type": "stream",
          "text": [
            "INFO:download_fe:[PM] rows=5082 2022-11-18 14:30:00 → 2025-10-17 19:30:00\n"
          ]
        },
        {
          "name": "stdout",
          "output_type": "stream",
          "text": [
            "2025-10-18 20:34:14,726 | INFO | download_fe | [PM] features=5082 rows → ./sac_parity/data/PM.parquet\n"
          ]
        },
        {
          "name": "stderr",
          "output_type": "stream",
          "text": [
            "INFO:download_fe:[PM] features=5082 rows → ./sac_parity/data/PM.parquet\n"
          ]
        },
        {
          "name": "stdout",
          "output_type": "stream",
          "text": [
            "2025-10-18 20:34:15,236 | INFO | download_fe | [45/53] UNP — downloading\n"
          ]
        },
        {
          "name": "stderr",
          "output_type": "stream",
          "text": [
            "INFO:download_fe:[45/53] UNP — downloading\n"
          ]
        },
        {
          "name": "stdout",
          "output_type": "stream",
          "text": [
            "2025-10-18 20:34:15,239 | INFO | download_fe | [UNP] Attempt 1: download(period=730d, interval=1h)\n"
          ]
        },
        {
          "name": "stderr",
          "output_type": "stream",
          "text": [
            "INFO:download_fe:[UNP] Attempt 1: download(period=730d, interval=1h)\n"
          ]
        },
        {
          "name": "stdout",
          "output_type": "stream",
          "text": [
            "2025-10-18 20:34:15,832 | INFO | download_fe | [UNP] rows=5082 2022-11-18 14:30:00 → 2025-10-17 19:30:00\n"
          ]
        },
        {
          "name": "stderr",
          "output_type": "stream",
          "text": [
            "INFO:download_fe:[UNP] rows=5082 2022-11-18 14:30:00 → 2025-10-17 19:30:00\n"
          ]
        },
        {
          "name": "stdout",
          "output_type": "stream",
          "text": [
            "2025-10-18 20:34:15,908 | INFO | download_fe | [UNP] features=5082 rows → ./sac_parity/data/UNP.parquet\n"
          ]
        },
        {
          "name": "stderr",
          "output_type": "stream",
          "text": [
            "INFO:download_fe:[UNP] features=5082 rows → ./sac_parity/data/UNP.parquet\n"
          ]
        },
        {
          "name": "stdout",
          "output_type": "stream",
          "text": [
            "2025-10-18 20:34:16,414 | INFO | download_fe | [46/53] BMY — downloading\n"
          ]
        },
        {
          "name": "stderr",
          "output_type": "stream",
          "text": [
            "INFO:download_fe:[46/53] BMY — downloading\n"
          ]
        },
        {
          "name": "stdout",
          "output_type": "stream",
          "text": [
            "2025-10-18 20:34:16,417 | INFO | download_fe | [BMY] Attempt 1: download(period=730d, interval=1h)\n"
          ]
        },
        {
          "name": "stderr",
          "output_type": "stream",
          "text": [
            "INFO:download_fe:[BMY] Attempt 1: download(period=730d, interval=1h)\n"
          ]
        },
        {
          "name": "stdout",
          "output_type": "stream",
          "text": [
            "2025-10-18 20:34:17,034 | INFO | download_fe | [BMY] rows=5082 2022-11-18 14:30:00 → 2025-10-17 19:30:00\n"
          ]
        },
        {
          "name": "stderr",
          "output_type": "stream",
          "text": [
            "INFO:download_fe:[BMY] rows=5082 2022-11-18 14:30:00 → 2025-10-17 19:30:00\n"
          ]
        },
        {
          "name": "stdout",
          "output_type": "stream",
          "text": [
            "2025-10-18 20:34:17,110 | INFO | download_fe | [BMY] features=5082 rows → ./sac_parity/data/BMY.parquet\n"
          ]
        },
        {
          "name": "stderr",
          "output_type": "stream",
          "text": [
            "INFO:download_fe:[BMY] features=5082 rows → ./sac_parity/data/BMY.parquet\n"
          ]
        },
        {
          "name": "stdout",
          "output_type": "stream",
          "text": [
            "2025-10-18 20:34:17,622 | INFO | download_fe | [47/53] LOW — downloading\n"
          ]
        },
        {
          "name": "stderr",
          "output_type": "stream",
          "text": [
            "INFO:download_fe:[47/53] LOW — downloading\n"
          ]
        },
        {
          "name": "stdout",
          "output_type": "stream",
          "text": [
            "2025-10-18 20:34:17,624 | INFO | download_fe | [LOW] Attempt 1: download(period=730d, interval=1h)\n"
          ]
        },
        {
          "name": "stderr",
          "output_type": "stream",
          "text": [
            "INFO:download_fe:[LOW] Attempt 1: download(period=730d, interval=1h)\n"
          ]
        },
        {
          "name": "stdout",
          "output_type": "stream",
          "text": [
            "2025-10-18 20:34:18,247 | INFO | download_fe | [LOW] rows=5082 2022-11-18 14:30:00 → 2025-10-17 19:30:00\n"
          ]
        },
        {
          "name": "stderr",
          "output_type": "stream",
          "text": [
            "INFO:download_fe:[LOW] rows=5082 2022-11-18 14:30:00 → 2025-10-17 19:30:00\n"
          ]
        },
        {
          "name": "stdout",
          "output_type": "stream",
          "text": [
            "2025-10-18 20:34:18,329 | INFO | download_fe | [LOW] features=5082 rows → ./sac_parity/data/LOW.parquet\n"
          ]
        },
        {
          "name": "stderr",
          "output_type": "stream",
          "text": [
            "INFO:download_fe:[LOW] features=5082 rows → ./sac_parity/data/LOW.parquet\n"
          ]
        },
        {
          "name": "stdout",
          "output_type": "stream",
          "text": [
            "2025-10-18 20:34:18,832 | INFO | download_fe | [48/53] RTX — downloading\n"
          ]
        },
        {
          "name": "stderr",
          "output_type": "stream",
          "text": [
            "INFO:download_fe:[48/53] RTX — downloading\n"
          ]
        },
        {
          "name": "stdout",
          "output_type": "stream",
          "text": [
            "2025-10-18 20:34:18,834 | INFO | download_fe | [RTX] Attempt 1: download(period=730d, interval=1h)\n"
          ]
        },
        {
          "name": "stderr",
          "output_type": "stream",
          "text": [
            "INFO:download_fe:[RTX] Attempt 1: download(period=730d, interval=1h)\n"
          ]
        },
        {
          "name": "stdout",
          "output_type": "stream",
          "text": [
            "2025-10-18 20:34:19,417 | INFO | download_fe | [RTX] rows=5082 2022-11-18 14:30:00 → 2025-10-17 19:30:00\n"
          ]
        },
        {
          "name": "stderr",
          "output_type": "stream",
          "text": [
            "INFO:download_fe:[RTX] rows=5082 2022-11-18 14:30:00 → 2025-10-17 19:30:00\n"
          ]
        },
        {
          "name": "stdout",
          "output_type": "stream",
          "text": [
            "2025-10-18 20:34:19,496 | INFO | download_fe | [RTX] features=5082 rows → ./sac_parity/data/RTX.parquet\n"
          ]
        },
        {
          "name": "stderr",
          "output_type": "stream",
          "text": [
            "INFO:download_fe:[RTX] features=5082 rows → ./sac_parity/data/RTX.parquet\n"
          ]
        },
        {
          "name": "stdout",
          "output_type": "stream",
          "text": [
            "2025-10-18 20:34:19,999 | INFO | download_fe | [49/53] CVX — downloading\n"
          ]
        },
        {
          "name": "stderr",
          "output_type": "stream",
          "text": [
            "INFO:download_fe:[49/53] CVX — downloading\n"
          ]
        },
        {
          "name": "stdout",
          "output_type": "stream",
          "text": [
            "2025-10-18 20:34:20,001 | INFO | download_fe | [CVX] Attempt 1: download(period=730d, interval=1h)\n"
          ]
        },
        {
          "name": "stderr",
          "output_type": "stream",
          "text": [
            "INFO:download_fe:[CVX] Attempt 1: download(period=730d, interval=1h)\n"
          ]
        },
        {
          "name": "stdout",
          "output_type": "stream",
          "text": [
            "2025-10-18 20:34:20,704 | INFO | download_fe | [CVX] rows=5082 2022-11-18 14:30:00 → 2025-10-17 19:30:00\n"
          ]
        },
        {
          "name": "stderr",
          "output_type": "stream",
          "text": [
            "INFO:download_fe:[CVX] rows=5082 2022-11-18 14:30:00 → 2025-10-17 19:30:00\n"
          ]
        },
        {
          "name": "stdout",
          "output_type": "stream",
          "text": [
            "2025-10-18 20:34:20,786 | INFO | download_fe | [CVX] features=5082 rows → ./sac_parity/data/CVX.parquet\n"
          ]
        },
        {
          "name": "stderr",
          "output_type": "stream",
          "text": [
            "INFO:download_fe:[CVX] features=5082 rows → ./sac_parity/data/CVX.parquet\n"
          ]
        },
        {
          "name": "stdout",
          "output_type": "stream",
          "text": [
            "2025-10-18 20:34:21,307 | INFO | download_fe | [50/53] IBM — downloading\n"
          ]
        },
        {
          "name": "stderr",
          "output_type": "stream",
          "text": [
            "INFO:download_fe:[50/53] IBM — downloading\n"
          ]
        },
        {
          "name": "stdout",
          "output_type": "stream",
          "text": [
            "2025-10-18 20:34:21,309 | INFO | download_fe | [IBM] Attempt 1: download(period=730d, interval=1h)\n"
          ]
        },
        {
          "name": "stderr",
          "output_type": "stream",
          "text": [
            "INFO:download_fe:[IBM] Attempt 1: download(period=730d, interval=1h)\n"
          ]
        },
        {
          "name": "stdout",
          "output_type": "stream",
          "text": [
            "2025-10-18 20:34:22,036 | INFO | download_fe | [IBM] rows=5082 2022-11-18 14:30:00 → 2025-10-17 19:30:00\n"
          ]
        },
        {
          "name": "stderr",
          "output_type": "stream",
          "text": [
            "INFO:download_fe:[IBM] rows=5082 2022-11-18 14:30:00 → 2025-10-17 19:30:00\n"
          ]
        },
        {
          "name": "stdout",
          "output_type": "stream",
          "text": [
            "2025-10-18 20:34:22,118 | INFO | download_fe | [IBM] features=5082 rows → ./sac_parity/data/IBM.parquet\n"
          ]
        },
        {
          "name": "stderr",
          "output_type": "stream",
          "text": [
            "INFO:download_fe:[IBM] features=5082 rows → ./sac_parity/data/IBM.parquet\n"
          ]
        },
        {
          "name": "stdout",
          "output_type": "stream",
          "text": [
            "2025-10-18 20:34:22,622 | INFO | download_fe | [51/53] GE — downloading\n"
          ]
        },
        {
          "name": "stderr",
          "output_type": "stream",
          "text": [
            "INFO:download_fe:[51/53] GE — downloading\n"
          ]
        },
        {
          "name": "stdout",
          "output_type": "stream",
          "text": [
            "2025-10-18 20:34:22,624 | INFO | download_fe | [GE] Attempt 1: download(period=730d, interval=1h)\n"
          ]
        },
        {
          "name": "stderr",
          "output_type": "stream",
          "text": [
            "INFO:download_fe:[GE] Attempt 1: download(period=730d, interval=1h)\n"
          ]
        },
        {
          "name": "stdout",
          "output_type": "stream",
          "text": [
            "2025-10-18 20:34:23,676 | INFO | download_fe | [GE] rows=5082 2022-11-18 14:30:00 → 2025-10-17 19:30:00\n"
          ]
        },
        {
          "name": "stderr",
          "output_type": "stream",
          "text": [
            "INFO:download_fe:[GE] rows=5082 2022-11-18 14:30:00 → 2025-10-17 19:30:00\n"
          ]
        },
        {
          "name": "stdout",
          "output_type": "stream",
          "text": [
            "2025-10-18 20:34:23,755 | INFO | download_fe | [GE] features=5082 rows → ./sac_parity/data/GE.parquet\n"
          ]
        },
        {
          "name": "stderr",
          "output_type": "stream",
          "text": [
            "INFO:download_fe:[GE] features=5082 rows → ./sac_parity/data/GE.parquet\n"
          ]
        },
        {
          "name": "stdout",
          "output_type": "stream",
          "text": [
            "2025-10-18 20:34:24,270 | INFO | download_fe | [52/53] SBUX — downloading\n"
          ]
        },
        {
          "name": "stderr",
          "output_type": "stream",
          "text": [
            "INFO:download_fe:[52/53] SBUX — downloading\n"
          ]
        },
        {
          "name": "stdout",
          "output_type": "stream",
          "text": [
            "2025-10-18 20:34:24,272 | INFO | download_fe | [SBUX] Attempt 1: download(period=730d, interval=1h)\n"
          ]
        },
        {
          "name": "stderr",
          "output_type": "stream",
          "text": [
            "INFO:download_fe:[SBUX] Attempt 1: download(period=730d, interval=1h)\n"
          ]
        },
        {
          "name": "stdout",
          "output_type": "stream",
          "text": [
            "2025-10-18 20:34:25,091 | INFO | download_fe | [SBUX] rows=5082 2022-11-18 14:30:00 → 2025-10-17 19:30:00\n"
          ]
        },
        {
          "name": "stderr",
          "output_type": "stream",
          "text": [
            "INFO:download_fe:[SBUX] rows=5082 2022-11-18 14:30:00 → 2025-10-17 19:30:00\n"
          ]
        },
        {
          "name": "stdout",
          "output_type": "stream",
          "text": [
            "2025-10-18 20:34:25,196 | INFO | download_fe | [SBUX] features=5082 rows → ./sac_parity/data/SBUX.parquet\n"
          ]
        },
        {
          "name": "stderr",
          "output_type": "stream",
          "text": [
            "INFO:download_fe:[SBUX] features=5082 rows → ./sac_parity/data/SBUX.parquet\n"
          ]
        },
        {
          "name": "stdout",
          "output_type": "stream",
          "text": [
            "2025-10-18 20:34:25,775 | INFO | download_fe | [53/53] ORCL — downloading\n"
          ]
        },
        {
          "name": "stderr",
          "output_type": "stream",
          "text": [
            "INFO:download_fe:[53/53] ORCL — downloading\n"
          ]
        },
        {
          "name": "stdout",
          "output_type": "stream",
          "text": [
            "2025-10-18 20:34:25,778 | INFO | download_fe | [ORCL] Attempt 1: download(period=730d, interval=1h)\n"
          ]
        },
        {
          "name": "stderr",
          "output_type": "stream",
          "text": [
            "INFO:download_fe:[ORCL] Attempt 1: download(period=730d, interval=1h)\n"
          ]
        },
        {
          "name": "stdout",
          "output_type": "stream",
          "text": [
            "2025-10-18 20:34:26,549 | INFO | download_fe | [ORCL] rows=5082 2022-11-18 14:30:00 → 2025-10-17 19:30:00\n"
          ]
        },
        {
          "name": "stderr",
          "output_type": "stream",
          "text": [
            "INFO:download_fe:[ORCL] rows=5082 2022-11-18 14:30:00 → 2025-10-17 19:30:00\n"
          ]
        },
        {
          "name": "stdout",
          "output_type": "stream",
          "text": [
            "2025-10-18 20:34:26,674 | INFO | download_fe | [ORCL] features=5082 rows → ./sac_parity/data/ORCL.parquet\n"
          ]
        },
        {
          "name": "stderr",
          "output_type": "stream",
          "text": [
            "INFO:download_fe:[ORCL] features=5082 rows → ./sac_parity/data/ORCL.parquet\n"
          ]
        },
        {
          "name": "stdout",
          "output_type": "stream",
          "text": [
            "2025-10-18 20:35:31,338 | INFO | download_fe | Artifact OK: multi_stock_feature_engineered_dataset.csv | size=142,342,443 | mtime=Sat Oct 18 20:34:47 2025 | cols=['Datetime', 'Adj Close', 'Close', 'High', 'Low', 'Open', 'Repaired?', 'Volume']\n"
          ]
        },
        {
          "name": "stderr",
          "output_type": "stream",
          "text": [
            "INFO:download_fe:Artifact OK: multi_stock_feature_engineered_dataset.csv | size=142,342,443 | mtime=Sat Oct 18 20:34:47 2025 | cols=['Datetime', 'Adj Close', 'Close', 'High', 'Low', 'Open', 'Repaired?', 'Volume']\n"
          ]
        },
        {
          "name": "stdout",
          "output_type": "stream",
          "text": [
            "2025-10-18 20:35:31,358 | INFO | download_fe | Head preview:\n",
            "                 Datetime  Adj Close      Close       High        Low       Open  Repaired?   Volume Symbol    ret_1  ret_3  ret_5  ret_10  logret_1  ma_5  ma_10  ma_20    ema_10   ema_20  std_10  std_20  ema10_ratio  ema20_ratio  z_close_20  rsi_14  stoch_k  stoch_d     macd  macd_signal  macd_hist  bb_perc_b  bb_bandwidth  atr_14  vol_ma_20  vol_std_20  vol_z_20  vol_change_1  hl_spread  oc_spread  ema10_gt_ema20  denoised_close  Vol20  Ret20  Regime4\n",
            "2022-11-18 14:30:00+00:00 148.456851 150.550003 152.059998 149.970001 152.000000       True 16452623   AAPL 0.000000    0.0    0.0     0.0  0.000000   0.0    0.0    0.0 150.55000 150.5500     0.0     0.0     0.000000     0.000000         0.0     0.0      0.0      0.0 0.000000     0.000000   0.000000        0.0           0.0     0.0        0.0         0.0       0.0      0.000000   0.013882  -0.009539             0.0      151.032501    0.0    0.0        0\n",
            "2022-11-18 15:30:00+00:00 149.511967 151.619995 151.820007 150.279999 150.553604       True  9731283   AAPL 0.007107    0.0    0.0     0.0  0.007082   0.0    0.0    0.0 150.74455 150.6519     0.0     0.0    -0.005774    -0.006385         0.0     0.0      0.0      0.0 0.085355     0.017071   0.068284        0.0           0.0     0.0        0.0         0.0       0.0     -0.408527   0.010157   0.007083             1.0      151.032501    0.0    0.0        0\n"
          ]
        },
        {
          "name": "stderr",
          "output_type": "stream",
          "text": [
            "INFO:download_fe:Head preview:\n",
            "                 Datetime  Adj Close      Close       High        Low       Open  Repaired?   Volume Symbol    ret_1  ret_3  ret_5  ret_10  logret_1  ma_5  ma_10  ma_20    ema_10   ema_20  std_10  std_20  ema10_ratio  ema20_ratio  z_close_20  rsi_14  stoch_k  stoch_d     macd  macd_signal  macd_hist  bb_perc_b  bb_bandwidth  atr_14  vol_ma_20  vol_std_20  vol_z_20  vol_change_1  hl_spread  oc_spread  ema10_gt_ema20  denoised_close  Vol20  Ret20  Regime4\n",
            "2022-11-18 14:30:00+00:00 148.456851 150.550003 152.059998 149.970001 152.000000       True 16452623   AAPL 0.000000    0.0    0.0     0.0  0.000000   0.0    0.0    0.0 150.55000 150.5500     0.0     0.0     0.000000     0.000000         0.0     0.0      0.0      0.0 0.000000     0.000000   0.000000        0.0           0.0     0.0        0.0         0.0       0.0      0.000000   0.013882  -0.009539             0.0      151.032501    0.0    0.0        0\n",
            "2022-11-18 15:30:00+00:00 149.511967 151.619995 151.820007 150.279999 150.553604       True  9731283   AAPL 0.007107    0.0    0.0     0.0  0.007082   0.0    0.0    0.0 150.74455 150.6519     0.0     0.0    -0.005774    -0.006385         0.0     0.0      0.0      0.0 0.085355     0.017071   0.068284        0.0           0.0     0.0        0.0         0.0       0.0     -0.408527   0.010157   0.007083             1.0      151.032501    0.0    0.0        0\n"
          ]
        },
        {
          "name": "stdout",
          "output_type": "stream",
          "text": [
            "2025-10-18 20:35:31,370 | INFO | download_fe | Artifact OK: /content/drive/MyDrive/Results_May_2025/results_sac_walkforward/multi_stock_feature_engineered_dataset.csv | size=142,342,443 | mtime=Sat Oct 18 20:35:08 2025 | cols=['Datetime', 'Adj Close', 'Close', 'High', 'Low', 'Open', 'Repaired?', 'Volume']\n"
          ]
        },
        {
          "name": "stderr",
          "output_type": "stream",
          "text": [
            "INFO:download_fe:Artifact OK: /content/drive/MyDrive/Results_May_2025/results_sac_walkforward/multi_stock_feature_engineered_dataset.csv | size=142,342,443 | mtime=Sat Oct 18 20:35:08 2025 | cols=['Datetime', 'Adj Close', 'Close', 'High', 'Low', 'Open', 'Repaired?', 'Volume']\n"
          ]
        },
        {
          "name": "stdout",
          "output_type": "stream",
          "text": [
            "2025-10-18 20:35:31,388 | INFO | download_fe | Head preview:\n",
            "                 Datetime  Adj Close      Close       High        Low       Open  Repaired?   Volume Symbol    ret_1  ret_3  ret_5  ret_10  logret_1  ma_5  ma_10  ma_20    ema_10   ema_20  std_10  std_20  ema10_ratio  ema20_ratio  z_close_20  rsi_14  stoch_k  stoch_d     macd  macd_signal  macd_hist  bb_perc_b  bb_bandwidth  atr_14  vol_ma_20  vol_std_20  vol_z_20  vol_change_1  hl_spread  oc_spread  ema10_gt_ema20  denoised_close  Vol20  Ret20  Regime4\n",
            "2022-11-18 14:30:00+00:00 148.456851 150.550003 152.059998 149.970001 152.000000       True 16452623   AAPL 0.000000    0.0    0.0     0.0  0.000000   0.0    0.0    0.0 150.55000 150.5500     0.0     0.0     0.000000     0.000000         0.0     0.0      0.0      0.0 0.000000     0.000000   0.000000        0.0           0.0     0.0        0.0         0.0       0.0      0.000000   0.013882  -0.009539             0.0      151.032501    0.0    0.0        0\n",
            "2022-11-18 15:30:00+00:00 149.511967 151.619995 151.820007 150.279999 150.553604       True  9731283   AAPL 0.007107    0.0    0.0     0.0  0.007082   0.0    0.0    0.0 150.74455 150.6519     0.0     0.0    -0.005774    -0.006385         0.0     0.0      0.0      0.0 0.085355     0.017071   0.068284        0.0           0.0     0.0        0.0         0.0       0.0     -0.408527   0.010157   0.007083             1.0      151.032501    0.0    0.0        0\n"
          ]
        },
        {
          "name": "stderr",
          "output_type": "stream",
          "text": [
            "INFO:download_fe:Head preview:\n",
            "                 Datetime  Adj Close      Close       High        Low       Open  Repaired?   Volume Symbol    ret_1  ret_3  ret_5  ret_10  logret_1  ma_5  ma_10  ma_20    ema_10   ema_20  std_10  std_20  ema10_ratio  ema20_ratio  z_close_20  rsi_14  stoch_k  stoch_d     macd  macd_signal  macd_hist  bb_perc_b  bb_bandwidth  atr_14  vol_ma_20  vol_std_20  vol_z_20  vol_change_1  hl_spread  oc_spread  ema10_gt_ema20  denoised_close  Vol20  Ret20  Regime4\n",
            "2022-11-18 14:30:00+00:00 148.456851 150.550003 152.059998 149.970001 152.000000       True 16452623   AAPL 0.000000    0.0    0.0     0.0  0.000000   0.0    0.0    0.0 150.55000 150.5500     0.0     0.0     0.000000     0.000000         0.0     0.0      0.0      0.0 0.000000     0.000000   0.000000        0.0           0.0     0.0        0.0         0.0       0.0      0.000000   0.013882  -0.009539             0.0      151.032501    0.0    0.0        0\n",
            "2022-11-18 15:30:00+00:00 149.511967 151.619995 151.820007 150.279999 150.553604       True  9731283   AAPL 0.007107    0.0    0.0     0.0  0.007082   0.0    0.0    0.0 150.74455 150.6519     0.0     0.0    -0.005774    -0.006385         0.0     0.0      0.0      0.0 0.085355     0.017071   0.068284        0.0           0.0     0.0        0.0         0.0       0.0     -0.408527   0.010157   0.007083             1.0      151.032501    0.0    0.0        0\n"
          ]
        },
        {
          "name": "stdout",
          "output_type": "stream",
          "text": [
            "2025-10-18 20:35:31,403 | INFO | download_fe | Artifact OK: /content/drive/MyDrive/trading_data/multi_stock_feature_engineered_dataset.csv | size=142,342,443 | mtime=Sat Oct 18 20:35:29 2025 | cols=['Datetime', 'Adj Close', 'Close', 'High', 'Low', 'Open', 'Repaired?', 'Volume']\n"
          ]
        },
        {
          "name": "stderr",
          "output_type": "stream",
          "text": [
            "INFO:download_fe:Artifact OK: /content/drive/MyDrive/trading_data/multi_stock_feature_engineered_dataset.csv | size=142,342,443 | mtime=Sat Oct 18 20:35:29 2025 | cols=['Datetime', 'Adj Close', 'Close', 'High', 'Low', 'Open', 'Repaired?', 'Volume']\n"
          ]
        },
        {
          "name": "stdout",
          "output_type": "stream",
          "text": [
            "2025-10-18 20:35:31,425 | INFO | download_fe | Head preview:\n",
            "                 Datetime  Adj Close      Close       High        Low       Open  Repaired?   Volume Symbol    ret_1  ret_3  ret_5  ret_10  logret_1  ma_5  ma_10  ma_20    ema_10   ema_20  std_10  std_20  ema10_ratio  ema20_ratio  z_close_20  rsi_14  stoch_k  stoch_d     macd  macd_signal  macd_hist  bb_perc_b  bb_bandwidth  atr_14  vol_ma_20  vol_std_20  vol_z_20  vol_change_1  hl_spread  oc_spread  ema10_gt_ema20  denoised_close  Vol20  Ret20  Regime4\n",
            "2022-11-18 14:30:00+00:00 148.456851 150.550003 152.059998 149.970001 152.000000       True 16452623   AAPL 0.000000    0.0    0.0     0.0  0.000000   0.0    0.0    0.0 150.55000 150.5500     0.0     0.0     0.000000     0.000000         0.0     0.0      0.0      0.0 0.000000     0.000000   0.000000        0.0           0.0     0.0        0.0         0.0       0.0      0.000000   0.013882  -0.009539             0.0      151.032501    0.0    0.0        0\n",
            "2022-11-18 15:30:00+00:00 149.511967 151.619995 151.820007 150.279999 150.553604       True  9731283   AAPL 0.007107    0.0    0.0     0.0  0.007082   0.0    0.0    0.0 150.74455 150.6519     0.0     0.0    -0.005774    -0.006385         0.0     0.0      0.0      0.0 0.085355     0.017071   0.068284        0.0           0.0     0.0        0.0         0.0       0.0     -0.408527   0.010157   0.007083             1.0      151.032501    0.0    0.0        0\n"
          ]
        },
        {
          "name": "stderr",
          "output_type": "stream",
          "text": [
            "INFO:download_fe:Head preview:\n",
            "                 Datetime  Adj Close      Close       High        Low       Open  Repaired?   Volume Symbol    ret_1  ret_3  ret_5  ret_10  logret_1  ma_5  ma_10  ma_20    ema_10   ema_20  std_10  std_20  ema10_ratio  ema20_ratio  z_close_20  rsi_14  stoch_k  stoch_d     macd  macd_signal  macd_hist  bb_perc_b  bb_bandwidth  atr_14  vol_ma_20  vol_std_20  vol_z_20  vol_change_1  hl_spread  oc_spread  ema10_gt_ema20  denoised_close  Vol20  Ret20  Regime4\n",
            "2022-11-18 14:30:00+00:00 148.456851 150.550003 152.059998 149.970001 152.000000       True 16452623   AAPL 0.000000    0.0    0.0     0.0  0.000000   0.0    0.0    0.0 150.55000 150.5500     0.0     0.0     0.000000     0.000000         0.0     0.0      0.0      0.0 0.000000     0.000000   0.000000        0.0           0.0     0.0        0.0         0.0       0.0      0.000000   0.013882  -0.009539             0.0      151.032501    0.0    0.0        0\n",
            "2022-11-18 15:30:00+00:00 149.511967 151.619995 151.820007 150.279999 150.553604       True  9731283   AAPL 0.007107    0.0    0.0     0.0  0.007082   0.0    0.0    0.0 150.74455 150.6519     0.0     0.0    -0.005774    -0.006385         0.0     0.0      0.0      0.0 0.085355     0.017071   0.068284        0.0           0.0     0.0        0.0         0.0       0.0     -0.408527   0.010157   0.007083             1.0      151.032501    0.0    0.0        0\n"
          ]
        },
        {
          "name": "stdout",
          "output_type": "stream",
          "text": [
            "2025-10-18 20:35:31,428 | INFO | download_fe | Saved combined CSV (rows=269315) →\n",
            "- multi_stock_feature_engineered_dataset.csv\n",
            "- /content/drive/MyDrive/Results_May_2025/results_sac_walkforward/multi_stock_feature_engineered_dataset.csv\n",
            "- /content/drive/MyDrive/trading_data/multi_stock_feature_engineered_dataset.csv\n"
          ]
        },
        {
          "name": "stderr",
          "output_type": "stream",
          "text": [
            "INFO:download_fe:Saved combined CSV (rows=269315) →\n",
            "- multi_stock_feature_engineered_dataset.csv\n",
            "- /content/drive/MyDrive/Results_May_2025/results_sac_walkforward/multi_stock_feature_engineered_dataset.csv\n",
            "- /content/drive/MyDrive/trading_data/multi_stock_feature_engineered_dataset.csv\n"
          ]
        },
        {
          "name": "stdout",
          "output_type": "stream",
          "text": [
            "2025-10-18 20:36:33,715 | INFO | download_fe | Time split cutoff @ 2025-03-21 14:30:00+00:00\n"
          ]
        },
        {
          "name": "stderr",
          "output_type": "stream",
          "text": [
            "INFO:download_fe:Time split cutoff @ 2025-03-21 14:30:00+00:00\n"
          ]
        },
        {
          "name": "stdout",
          "output_type": "stream",
          "text": [
            "2025-10-18 20:36:33,722 | INFO | download_fe | Train: (215414, 44), Val: (53901, 44)\n"
          ]
        },
        {
          "name": "stderr",
          "output_type": "stream",
          "text": [
            "INFO:download_fe:Train: (215414, 44), Val: (53901, 44)\n"
          ]
        },
        {
          "name": "stdout",
          "output_type": "stream",
          "text": [
            "2025-10-18 20:36:33,728 | INFO | download_fe | Saved split artifact: exists=True | size=113900091 | path=train.csv\n"
          ]
        },
        {
          "name": "stderr",
          "output_type": "stream",
          "text": [
            "INFO:download_fe:Saved split artifact: exists=True | size=113900091 | path=train.csv\n"
          ]
        },
        {
          "name": "stdout",
          "output_type": "stream",
          "text": [
            "2025-10-18 20:36:33,734 | INFO | download_fe | Saved split artifact: exists=True | size=28442722 | path=val.csv\n"
          ]
        },
        {
          "name": "stderr",
          "output_type": "stream",
          "text": [
            "INFO:download_fe:Saved split artifact: exists=True | size=28442722 | path=val.csv\n"
          ]
        },
        {
          "name": "stdout",
          "output_type": "stream",
          "text": [
            "2025-10-18 20:36:33,738 | INFO | download_fe | Saved split artifact: exists=True | size=52540059 | path=train.parquet\n"
          ]
        },
        {
          "name": "stderr",
          "output_type": "stream",
          "text": [
            "INFO:download_fe:Saved split artifact: exists=True | size=52540059 | path=train.parquet\n"
          ]
        },
        {
          "name": "stdout",
          "output_type": "stream",
          "text": [
            "2025-10-18 20:36:33,742 | INFO | download_fe | Saved split artifact: exists=True | size=13242764 | path=val.parquet\n"
          ]
        },
        {
          "name": "stderr",
          "output_type": "stream",
          "text": [
            "INFO:download_fe:Saved split artifact: exists=True | size=13242764 | path=val.parquet\n"
          ]
        },
        {
          "name": "stdout",
          "output_type": "stream",
          "text": [
            "2025-10-18 20:36:33,784 | INFO | download_fe | Symbols saved (top 10):\n",
            "Symbol\n",
            "AAPL    5082\n",
            "UPS     5082\n",
            "PG      5082\n",
            "LIN     5082\n",
            "V       5082\n",
            "PM      5082\n",
            "XOM     5082\n",
            "UNP     5082\n",
            "JNJ     5082\n",
            "BMY     5082\n"
          ]
        },
        {
          "name": "stderr",
          "output_type": "stream",
          "text": [
            "INFO:download_fe:Symbols saved (top 10):\n",
            "Symbol\n",
            "AAPL    5082\n",
            "UPS     5082\n",
            "PG      5082\n",
            "LIN     5082\n",
            "V       5082\n",
            "PM      5082\n",
            "XOM     5082\n",
            "UNP     5082\n",
            "JNJ     5082\n",
            "BMY     5082\n"
          ]
        },
        {
          "name": "stdout",
          "output_type": "stream",
          "text": [
            "2025-10-18 20:36:33,792 | INFO | download_fe | Datetime range: 2022-11-18 14:30:00+00:00 → 2025-10-17 19:30:00+00:00\n"
          ]
        },
        {
          "name": "stderr",
          "output_type": "stream",
          "text": [
            "INFO:download_fe:Datetime range: 2022-11-18 14:30:00+00:00 → 2025-10-17 19:30:00+00:00\n"
          ]
        },
        {
          "name": "stdout",
          "output_type": "stream",
          "text": [
            "2025-10-18 20:36:33,806 | INFO | download_fe | Artifact OK: multi_stock_feature_engineered_dataset.csv | size=142,342,443 | mtime=Sat Oct 18 20:35:52 2025 | cols=['Datetime', 'Adj Close', 'Close', 'High', 'Low', 'Open', 'Repaired?', 'Volume']\n"
          ]
        },
        {
          "name": "stderr",
          "output_type": "stream",
          "text": [
            "INFO:download_fe:Artifact OK: multi_stock_feature_engineered_dataset.csv | size=142,342,443 | mtime=Sat Oct 18 20:35:52 2025 | cols=['Datetime', 'Adj Close', 'Close', 'High', 'Low', 'Open', 'Repaired?', 'Volume']\n"
          ]
        },
        {
          "name": "stdout",
          "output_type": "stream",
          "text": [
            "2025-10-18 20:36:33,849 | INFO | download_fe | Head preview:\n",
            "                 Datetime  Adj Close      Close       High        Low       Open  Repaired?   Volume Symbol  ret_1  ret_3  ret_5  ret_10  logret_1  ma_5  ma_10  ma_20  ema_10  ema_20  std_10  std_20  ema10_ratio  ema20_ratio  z_close_20  rsi_14  stoch_k  stoch_d  macd  macd_signal  macd_hist  bb_perc_b  bb_bandwidth  atr_14  vol_ma_20  vol_std_20  vol_z_20  vol_change_1  hl_spread  oc_spread  ema10_gt_ema20  denoised_close  Vol20  Ret20  Regime4\n",
            "2022-11-18 14:30:00+00:00 148.456851 150.550003 152.059998 149.970001 152.000000       True 16452623   AAPL    0.0    0.0    0.0     0.0       0.0   0.0    0.0    0.0  150.55  150.55     0.0     0.0          0.0          0.0         0.0     0.0      0.0      0.0   0.0          0.0        0.0        0.0           0.0     0.0        0.0         0.0       0.0           0.0   0.013882  -0.009539             0.0      151.032501    0.0    0.0        0\n",
            "2022-11-18 14:30:00+00:00 155.014256 177.479996 178.550003 176.759995 178.509995       True   386329    UPS    0.0    0.0    0.0     0.0       0.0   0.0    0.0    0.0  177.48  177.48     0.0     0.0          0.0          0.0         0.0     0.0      0.0      0.0   0.0          0.0        0.0        0.0           0.0     0.0        0.0         0.0       0.0           0.0   0.010086  -0.005770             0.0      178.178749    0.0    0.0        0\n"
          ]
        },
        {
          "name": "stderr",
          "output_type": "stream",
          "text": [
            "INFO:download_fe:Head preview:\n",
            "                 Datetime  Adj Close      Close       High        Low       Open  Repaired?   Volume Symbol  ret_1  ret_3  ret_5  ret_10  logret_1  ma_5  ma_10  ma_20  ema_10  ema_20  std_10  std_20  ema10_ratio  ema20_ratio  z_close_20  rsi_14  stoch_k  stoch_d  macd  macd_signal  macd_hist  bb_perc_b  bb_bandwidth  atr_14  vol_ma_20  vol_std_20  vol_z_20  vol_change_1  hl_spread  oc_spread  ema10_gt_ema20  denoised_close  Vol20  Ret20  Regime4\n",
            "2022-11-18 14:30:00+00:00 148.456851 150.550003 152.059998 149.970001 152.000000       True 16452623   AAPL    0.0    0.0    0.0     0.0       0.0   0.0    0.0    0.0  150.55  150.55     0.0     0.0          0.0          0.0         0.0     0.0      0.0      0.0   0.0          0.0        0.0        0.0           0.0     0.0        0.0         0.0       0.0           0.0   0.013882  -0.009539             0.0      151.032501    0.0    0.0        0\n",
            "2022-11-18 14:30:00+00:00 155.014256 177.479996 178.550003 176.759995 178.509995       True   386329    UPS    0.0    0.0    0.0     0.0       0.0   0.0    0.0    0.0  177.48  177.48     0.0     0.0          0.0          0.0         0.0     0.0      0.0      0.0   0.0          0.0        0.0        0.0           0.0     0.0        0.0         0.0       0.0           0.0   0.010086  -0.005770             0.0      178.178749    0.0    0.0        0\n"
          ]
        },
        {
          "name": "stdout",
          "output_type": "stream",
          "text": [
            "2025-10-18 20:36:33,870 | INFO | download_fe | Artifact OK: /content/drive/MyDrive/trading_data/train.csv | size=113,900,091 | mtime=Sat Oct 18 20:36:28 2025 | cols=['Datetime', 'Adj Close', 'Close', 'High', 'Low', 'Open', 'Repaired?', 'Volume']\n"
          ]
        },
        {
          "name": "stderr",
          "output_type": "stream",
          "text": [
            "INFO:download_fe:Artifact OK: /content/drive/MyDrive/trading_data/train.csv | size=113,900,091 | mtime=Sat Oct 18 20:36:28 2025 | cols=['Datetime', 'Adj Close', 'Close', 'High', 'Low', 'Open', 'Repaired?', 'Volume']\n"
          ]
        },
        {
          "name": "stdout",
          "output_type": "stream",
          "text": [
            "2025-10-18 20:36:33,911 | INFO | download_fe | Head preview:\n",
            "                 Datetime  Adj Close      Close       High        Low       Open  Repaired?   Volume Symbol  ret_1  ret_3  ret_5  ret_10  logret_1  ma_5  ma_10  ma_20  ema_10  ema_20  std_10  std_20  ema10_ratio  ema20_ratio  z_close_20  rsi_14  stoch_k  stoch_d  macd  macd_signal  macd_hist  bb_perc_b  bb_bandwidth  atr_14  vol_ma_20  vol_std_20  vol_z_20  vol_change_1  hl_spread  oc_spread  ema10_gt_ema20  denoised_close  Vol20  Ret20  Regime4\n",
            "2022-11-18 14:30:00+00:00 148.456851 150.550003 152.059998 149.970001 152.000000       True 16452623   AAPL    0.0    0.0    0.0     0.0       0.0   0.0    0.0    0.0  150.55  150.55     0.0     0.0          0.0          0.0         0.0     0.0      0.0      0.0   0.0          0.0        0.0        0.0           0.0     0.0        0.0         0.0       0.0           0.0   0.013882  -0.009539             0.0      151.032501    0.0    0.0        0\n",
            "2022-11-18 14:30:00+00:00 155.014256 177.479996 178.550003 176.759995 178.509995       True   386329    UPS    0.0    0.0    0.0     0.0       0.0   0.0    0.0    0.0  177.48  177.48     0.0     0.0          0.0          0.0         0.0     0.0      0.0      0.0   0.0          0.0        0.0        0.0           0.0     0.0        0.0         0.0       0.0           0.0   0.010086  -0.005770             0.0      178.178749    0.0    0.0        0\n"
          ]
        },
        {
          "name": "stderr",
          "output_type": "stream",
          "text": [
            "INFO:download_fe:Head preview:\n",
            "                 Datetime  Adj Close      Close       High        Low       Open  Repaired?   Volume Symbol  ret_1  ret_3  ret_5  ret_10  logret_1  ma_5  ma_10  ma_20  ema_10  ema_20  std_10  std_20  ema10_ratio  ema20_ratio  z_close_20  rsi_14  stoch_k  stoch_d  macd  macd_signal  macd_hist  bb_perc_b  bb_bandwidth  atr_14  vol_ma_20  vol_std_20  vol_z_20  vol_change_1  hl_spread  oc_spread  ema10_gt_ema20  denoised_close  Vol20  Ret20  Regime4\n",
            "2022-11-18 14:30:00+00:00 148.456851 150.550003 152.059998 149.970001 152.000000       True 16452623   AAPL    0.0    0.0    0.0     0.0       0.0   0.0    0.0    0.0  150.55  150.55     0.0     0.0          0.0          0.0         0.0     0.0      0.0      0.0   0.0          0.0        0.0        0.0           0.0     0.0        0.0         0.0       0.0           0.0   0.013882  -0.009539             0.0      151.032501    0.0    0.0        0\n",
            "2022-11-18 14:30:00+00:00 155.014256 177.479996 178.550003 176.759995 178.509995       True   386329    UPS    0.0    0.0    0.0     0.0       0.0   0.0    0.0    0.0  177.48  177.48     0.0     0.0          0.0          0.0         0.0     0.0      0.0      0.0   0.0          0.0        0.0        0.0           0.0     0.0        0.0         0.0       0.0           0.0   0.010086  -0.005770             0.0      178.178749    0.0    0.0        0\n"
          ]
        },
        {
          "name": "stdout",
          "output_type": "stream",
          "text": [
            "2025-10-18 20:36:33,934 | INFO | download_fe | Artifact OK: /content/drive/MyDrive/trading_data/val.csv | size=28,442,722 | mtime=Sat Oct 18 20:36:31 2025 | cols=['Datetime', 'Adj Close', 'Close', 'High', 'Low', 'Open', 'Repaired?', 'Volume']\n"
          ]
        },
        {
          "name": "stderr",
          "output_type": "stream",
          "text": [
            "INFO:download_fe:Artifact OK: /content/drive/MyDrive/trading_data/val.csv | size=28,442,722 | mtime=Sat Oct 18 20:36:31 2025 | cols=['Datetime', 'Adj Close', 'Close', 'High', 'Low', 'Open', 'Repaired?', 'Volume']\n"
          ]
        },
        {
          "name": "stdout",
          "output_type": "stream",
          "text": [
            "2025-10-18 20:36:33,965 | INFO | download_fe | Head preview:\n",
            "                 Datetime  Adj Close      Close       High        Low       Open  Repaired?   Volume Symbol     ret_1     ret_3     ret_5   ret_10  logret_1      ma_5     ma_10     ma_20    ema_10    ema_20   std_10   std_20  ema10_ratio  ema20_ratio  z_close_20    rsi_14   stoch_k   stoch_d      macd  macd_signal  macd_hist  bb_perc_b  bb_bandwidth   atr_14  vol_ma_20  vol_std_20  vol_z_20  vol_change_1  hl_spread  oc_spread  ema10_gt_ema20  denoised_close    Vol20     Ret20  Regime4\n",
            "2025-03-21 14:30:00+00:00 153.113362 154.910004 156.139999 154.720001 156.110001       True   472098   QCOM -0.007941 -0.013061 -0.012343 -0.02228 -0.007973 156.58975 157.32048 157.23347 156.85170 157.02573 1.203368 0.942678     0.012534     0.013658   -2.464748 39.192898 19.410578 36.420696 -0.010995     0.321148  -0.332143  -0.116187      0.023982 1.527210   651576.0   487014.06 -0.368525     -0.797359   0.009167  -0.007687             0.0      155.996250 0.004907 -0.021106        0\n",
            "2025-03-21 14:30:00+00:00 240.250000 240.250000 242.679001 237.858002 238.919998      False 14483529   TSLA  0.005525  0.028071  0.025526  0.02105  0.005510 236.31898 235.41193 233.15715 235.89455 235.10542 2.683433 4.235438    -0.018129    -0.021413    1.674644 58.486420 74.398100 65.634490  0.262124    -0.788966   1.051091   0.918661      0.072662 4.249505 14434004.0  9013224.00  0.005495     -0.636148   0.020067   0.005567             1.0      242.372475 0.009862  0.048348        1\n"
          ]
        },
        {
          "name": "stderr",
          "output_type": "stream",
          "text": [
            "INFO:download_fe:Head preview:\n",
            "                 Datetime  Adj Close      Close       High        Low       Open  Repaired?   Volume Symbol     ret_1     ret_3     ret_5   ret_10  logret_1      ma_5     ma_10     ma_20    ema_10    ema_20   std_10   std_20  ema10_ratio  ema20_ratio  z_close_20    rsi_14   stoch_k   stoch_d      macd  macd_signal  macd_hist  bb_perc_b  bb_bandwidth   atr_14  vol_ma_20  vol_std_20  vol_z_20  vol_change_1  hl_spread  oc_spread  ema10_gt_ema20  denoised_close    Vol20     Ret20  Regime4\n",
            "2025-03-21 14:30:00+00:00 153.113362 154.910004 156.139999 154.720001 156.110001       True   472098   QCOM -0.007941 -0.013061 -0.012343 -0.02228 -0.007973 156.58975 157.32048 157.23347 156.85170 157.02573 1.203368 0.942678     0.012534     0.013658   -2.464748 39.192898 19.410578 36.420696 -0.010995     0.321148  -0.332143  -0.116187      0.023982 1.527210   651576.0   487014.06 -0.368525     -0.797359   0.009167  -0.007687             0.0      155.996250 0.004907 -0.021106        0\n",
            "2025-03-21 14:30:00+00:00 240.250000 240.250000 242.679001 237.858002 238.919998      False 14483529   TSLA  0.005525  0.028071  0.025526  0.02105  0.005510 236.31898 235.41193 233.15715 235.89455 235.10542 2.683433 4.235438    -0.018129    -0.021413    1.674644 58.486420 74.398100 65.634490  0.262124    -0.788966   1.051091   0.918661      0.072662 4.249505 14434004.0  9013224.00  0.005495     -0.636148   0.020067   0.005567             1.0      242.372475 0.009862  0.048348        1\n"
          ]
        },
        {
          "name": "stdout",
          "output_type": "stream",
          "text": [
            "2025-10-18 20:36:34,369 | INFO | download_fe | ✅ Download + Feature Build complete.\n"
          ]
        },
        {
          "name": "stderr",
          "output_type": "stream",
          "text": [
            "INFO:download_fe:✅ Download + Feature Build complete.\n"
          ]
        }
      ],
      "source": [
        "# ---------- Imports & Logging ----------\n",
        "import os, gc, time, json, logging, warnings, re, sys\n",
        "from datetime import datetime, timedelta\n",
        "import numpy as np\n",
        "import pandas as pd\n",
        "import yfinance as yf\n",
        "import pywt\n",
        "import warnings\n",
        "warnings.filterwarnings(\"ignore\", message=\".*Gym has been unmaintained.*\", category=UserWarning)\n",
        "warnings.filterwarnings(\"ignore\", category=DeprecationWarning, module=\"jupyter_client.session\")\n",
        "\n",
        "\n",
        "def setup_logger(name=\"download_fe\", level=logging.INFO):\n",
        "    logger = logging.getLogger(name)\n",
        "    logger.setLevel(level)\n",
        "    # avoid duplicate handlers on re-run\n",
        "    logger.handlers = []\n",
        "    fmt = logging.Formatter(\"%(asctime)s | %(levelname)s | %(name)s | %(message)s\")\n",
        "\n",
        "    sh = logging.StreamHandler(sys.stdout)\n",
        "    sh.setFormatter(fmt); sh.setLevel(level)\n",
        "    logger.addHandler(sh)\n",
        "\n",
        "    os.makedirs(\"./sac_parity/logs\", exist_ok=True)\n",
        "    fh = logging.FileHandler(os.path.join(\"./sac_parity/logs\", f\"{name}.log\"))\n",
        "    fh.setFormatter(fmt); fh.setLevel(level)\n",
        "    logger.addHandler(fh)\n",
        "    return logger\n",
        "\n",
        "log = setup_logger(\"download_fe\", level=logging.INFO)\n",
        "warnings.filterwarnings(\"ignore\", category=FutureWarning)\n",
        "log.info(\"yfinance=%s | pandas=%s\", getattr(yf, \"__version__\", \"unknown\"), pd.__version__)\n",
        "\n",
        "# ---------- Paths ----------\n",
        "BASE_DIR   = \"./sac_parity\"\n",
        "DATA_DIR   = os.path.join(BASE_DIR, \"data\")\n",
        "LOG_DIR    = os.path.join(BASE_DIR, \"logs\")\n",
        "for d in (BASE_DIR, DATA_DIR, LOG_DIR):\n",
        "    os.makedirs(d, exist_ok=True)\n",
        "\n",
        "# Try Google Drive (Colab); else local CWD\n",
        "try:\n",
        "    from google.colab import drive  # type: ignore\n",
        "    drive.mount('/content/drive', force_remount=False)\n",
        "    DRIVE_BASE = \"/content/drive/MyDrive\"\n",
        "    log.info(\"Mounted Google Drive at /content/drive\")\n",
        "except Exception:\n",
        "    DRIVE_BASE = os.getcwd()\n",
        "    log.info(\"Google Drive not available; using local working directory\")\n",
        "\n",
        "RESULTS_DIR = os.path.join(DRIVE_BASE, \"Results_May_2025\", \"results_sac_walkforward\")\n",
        "TRADING_DIR = os.path.join(DRIVE_BASE, \"trading_data\")\n",
        "for d in (RESULTS_DIR, TRADING_DIR):\n",
        "    os.makedirs(d, exist_ok=True)\n",
        "\n",
        "# Primary output filenames (three mirrors)\n",
        "FEATURE_CSV_RESULTS = os.path.join(RESULTS_DIR, \"multi_stock_feature_engineered_dataset.csv\")\n",
        "FEATURE_CSV_TRADING = os.path.join(TRADING_DIR, \"multi_stock_feature_engineered_dataset.csv\")\n",
        "FEATURE_CSV_LOCAL   = \"multi_stock_feature_engineered_dataset.csv\"\n",
        "\n",
        "# Optional Parquet mirrors (local)\n",
        "PARQ_FULL  = \"features_full.parquet\"\n",
        "PARQ_TRAIN = \"train.parquet\"\n",
        "PARQ_VAL   = \"val.parquet\"\n",
        "\n",
        "# ---------- Config / Toggles ----------\n",
        "USE_SENTIMENT = False   # placeholder; off by default\n",
        "USE_REGIME    = True\n",
        "USE_WAVELET   = True\n",
        "USE_EVAL_CALLBACK = False\n",
        "FORCE_RETRAIN = True\n",
        "\n",
        "# Data params\n",
        "INTERVAL     = os.getenv(\"INTERVAL\", \"1h\")\n",
        "PERIOD_DAYS  = int(os.getenv(\"PERIOD_DAYS\", \"720\"))  # ~2 years by default\n",
        "\n",
        "# If you want to prep for a 1y train + 1y test split later, ensure ~744 days\n",
        "TRAIN_DAYS_TARGET = 365\n",
        "TEST_DAYS_TARGET  = 365\n",
        "BUFFER_DAYS       = 14\n",
        "MIN_PERIOD_FOR_TRAINER = TRAIN_DAYS_TARGET + TEST_DAYS_TARGET + BUFFER_DAYS  # ~744\n",
        "\n",
        "# --- Yahoo intraday maximum window helper ---\n",
        "def _max_days_for_interval(interval: str) -> int:\n",
        "    \"\"\"Yahoo intraday windows are restricted; daily/weekly can go further.\"\"\"\n",
        "    intraday_caps = {\n",
        "        \"1m\": 30, \"2m\": 60, \"5m\": 60, \"15m\": 60, \"30m\": 60,\n",
        "        \"60m\": 730, \"90m\": 60, \"1h\": 730\n",
        "    }\n",
        "    return intraday_caps.get(interval.lower(), 3650)\n",
        "\n",
        "\n",
        "TEST_MODE   = os.getenv(\"TEST_MODE\", \"0\").lower() not in (\"0\", \"false\", \"no\", \"\")\n",
        "PREP_FOR_SAC = os.getenv(\"PREP_FOR_SAC\", \"1\").lower() not in (\"0\", \"false\", \"no\", \"\")\n",
        "if PREP_FOR_SAC and PERIOD_DAYS < MIN_PERIOD_FOR_TRAINER:\n",
        "    log.info(\"Bumping PERIOD_DAYS %d → %d to support ~1y train / ~1y test\", PERIOD_DAYS, MIN_PERIOD_FOR_TRAINER)\n",
        "    PERIOD_DAYS = MIN_PERIOD_FOR_TRAINER\n",
        "\n",
        "# --- Cap for Yahoo intraday data limits (avoid >730 days error) ---\n",
        "_cap = _max_days_for_interval(INTERVAL)\n",
        "if PERIOD_DAYS > _cap:\n",
        "    log.warning(\"PERIOD_DAYS=%d exceeds Yahoo limit (%d) for interval='%s'; capping.\",\n",
        "                PERIOD_DAYS, _cap, INTERVAL)\n",
        "    PERIOD_DAYS = _cap\n",
        "\n",
        "# ---------- Universe ----------\n",
        "TICKERS_ALL = [\n",
        "    'AAPL','TSLA','MSFT','GOOGL','AMZN','NVDA','META','BRK-B','JPM','JNJ',\n",
        "    'XOM','V','PG','UNH','MA','HD','LLY','MRK','PEP','KO',\n",
        "    'BAC','ABBV','AVGO','PFE','COST','CSCO','TMO','ABT','ACN','WMT',\n",
        "    'MCD','ADBE','DHR','CRM','NKE','INTC','QCOM','NEE','AMD','TXN',\n",
        "    'AMGN','UPS','LIN','PM','UNP','BMY','LOW','RTX','CVX','IBM',\n",
        "    'GE','SBUX','ORCL'\n",
        "]\n",
        "DEFAULT_TEST_TICKERS = ['AAPL','NVDA','MSFT']\n",
        "RUN_SYMBOLS_ENV  = [s.strip().upper() for s in os.getenv(\"RUN_SYMBOLS\", \"\").split(\",\") if s.strip()]\n",
        "TEST_TICKERS_ENV = [s.strip().upper() for s in os.getenv(\"TEST_TICKERS\", \"\").split(\",\") if s.strip()]\n",
        "\n",
        "if RUN_SYMBOLS_ENV:\n",
        "    SYMBOLS = RUN_SYMBOLS_ENV\n",
        "    log.info(\"RUN_SYMBOLS override → %s\", SYMBOLS)\n",
        "elif TEST_MODE:\n",
        "    SYMBOLS = TEST_TICKERS_ENV if TEST_TICKERS_ENV else DEFAULT_TEST_TICKERS\n",
        "    log.info(\"TEST_MODE=on → symbols=%s | period_days=%d\", SYMBOLS, PERIOD_DAYS)\n",
        "else:\n",
        "    SYMBOLS = TICKERS_ALL\n",
        "    log.info(\"TEST_MODE=off → %d symbols | period_days=%d\", len(SYMBOLS), PERIOD_DAYS)\n",
        "\n",
        "# ---------- Helpers: atomic save + verification ----------\n",
        "def _ensure_dir(path: str):\n",
        "    d = os.path.dirname(path)\n",
        "    if d and not os.path.exists(d):\n",
        "        os.makedirs(d, exist_ok=True)\n",
        "\n",
        "def save_csv_atomically(df: pd.DataFrame, dest_path: str, max_wait_s: float = 3.0):\n",
        "    \"\"\"Write via dest.tmp then os.replace(); verify non-zero size (Colab/Drive-safe).\"\"\"\n",
        "    _ensure_dir(dest_path)\n",
        "    tmp_path = dest_path + \".tmp\"\n",
        "    df.to_csv(tmp_path, index=False)\n",
        "    os.replace(tmp_path, dest_path)\n",
        "    t0 = time.time()\n",
        "    while (not os.path.exists(dest_path) or os.path.getsize(dest_path) == 0) and (time.time() - t0 < max_wait_s):\n",
        "        time.sleep(0.2)\n",
        "    assert os.path.exists(dest_path) and os.path.getsize(dest_path) > 0, f\"Save failed for {dest_path}\"\n",
        "    return dest_path\n",
        "\n",
        "def _verify_csv_ok(p: str) -> bool:\n",
        "    try:\n",
        "        if not (os.path.exists(p) and os.path.getsize(p) > 0):\n",
        "            return False\n",
        "        _ = pd.read_csv(p, nrows=2)\n",
        "        log.info(\"Verified dataset CSV: %s (%s bytes)\", p, f\"{os.path.getsize(p):,}\")\n",
        "        return True\n",
        "    except Exception as e:\n",
        "        log.warning(\"Dataset candidate failed verification (%s): %s\", p, e)\n",
        "        return False\n",
        "\n",
        "def _log_artifact(p: str):\n",
        "    try:\n",
        "        ok = os.path.exists(p); sz = os.path.getsize(p) if ok else 0\n",
        "        tm = time.ctime(os.path.getmtime(p)) if ok else \"-\"\n",
        "        head = pd.read_csv(p, nrows=2)\n",
        "        log.info(\"Artifact OK: %s | size=%s | mtime=%s | cols=%s\",\n",
        "                 p, f\"{sz:,}\", tm, list(head.columns)[:8])\n",
        "        log.info(\"Head preview:\\n%s\", head.to_string(index=False))\n",
        "    except Exception as e:\n",
        "        log.warning(\"Artifact check failed for %s: %s\", p, e)\n",
        "\n",
        "# ---------- Helpers: schema / normalize ----------\n",
        "def _force_datetime_column(df: pd.DataFrame) -> pd.DataFrame:\n",
        "    \"\"\"Ensure tz-naive Datetime column exists; dedupe/sort.\"\"\"\n",
        "    if isinstance(df.index, pd.DatetimeIndex):\n",
        "        try:\n",
        "            if df.index.tz is not None:\n",
        "                df.index = df.index.tz_convert(None)\n",
        "        except Exception:\n",
        "            try:\n",
        "                df.index = df.index.tz_localize(None)\n",
        "            except Exception:\n",
        "                pass\n",
        "        df.index.name = 'Datetime'\n",
        "        df = df.reset_index()\n",
        "    else:\n",
        "        df = df.reset_index()\n",
        "        first = df.columns[0]\n",
        "        if np.issubdtype(df[first].dtype, np.datetime64):\n",
        "            df = df.rename(columns={first: 'Datetime'})\n",
        "        elif 'Date' in df.columns:\n",
        "            df['Datetime'] = pd.to_datetime(df['Date'])\n",
        "        elif 'Datetime' not in df.columns:\n",
        "            df['Datetime'] = pd.to_datetime(df[first], errors='coerce')\n",
        "\n",
        "    if 'Datetime' not in df.columns:\n",
        "        raise KeyError(\"Failed to construct 'Datetime' from data.\")\n",
        "\n",
        "    df['Datetime'] = pd.to_datetime(df['Datetime'])\n",
        "    return df.drop_duplicates(subset=['Datetime']).sort_values('Datetime').reset_index(drop=True)\n",
        "\n",
        "def _normalize_ohlcv(df_in: pd.DataFrame, ticker: str) -> pd.DataFrame:\n",
        "    \"\"\"Flatten MultiIndex; strip ticker tokens; map to canonical OHLCV names.\"\"\"\n",
        "    df = df_in.copy()\n",
        "    if isinstance(df.columns, pd.MultiIndex):\n",
        "        df.columns = [\" \".join([str(p) for p in col if p]) for col in df.columns]\n",
        "    df.columns = [re.sub(r\"\\s+\", \" \", str(c)).strip() for c in df.columns]\n",
        "\n",
        "    tkr = ticker.upper().replace(\"-\", \"[- ]?\")\n",
        "    cleaned = {}\n",
        "    for c in df.columns:\n",
        "        cu = c.upper()\n",
        "        cu = re.sub(rf\"^(?:{tkr})[\\s/_-]+\", \"\", cu)\n",
        "        cu = re.sub(rf\"[\\s/_-]+(?:{tkr})$\", \"\", cu)\n",
        "        cleaned[c] = cu.title()\n",
        "    if any(cleaned[c] != c for c in df.columns):\n",
        "        df = df.rename(columns=cleaned)\n",
        "\n",
        "    cols_ci = {c.lower(): c for c in df.columns}\n",
        "    wants = {\n",
        "        \"Open\":      [\"open\"],\n",
        "        \"High\":      [\"high\"],\n",
        "        \"Low\":       [\"low\"],\n",
        "        \"Close\":     [\"close\", \"last\", \"close*\"],\n",
        "        \"Adj Close\": [\"adj close\",\"adj_close\",\"adjclose\",\"adjusted close\"],\n",
        "        \"Volume\":    [\"volume\",\"vol\"]\n",
        "    }\n",
        "    rename_map = {}\n",
        "    for desired, alts in wants.items():\n",
        "        if desired.lower() in cols_ci:\n",
        "            rename_map[cols_ci[desired.lower()]] = desired\n",
        "        else:\n",
        "            for a in alts:\n",
        "                if a in cols_ci:\n",
        "                    rename_map[cols_ci[a]] = desired\n",
        "                    break\n",
        "    if rename_map:\n",
        "        df = df.rename(columns=rename_map)\n",
        "    return df\n",
        "\n",
        "# ---------- Downloader (with history() fallback & retries) ----------\n",
        "def download_stock_data(ticker, interval=\"1h\", period_days=720, max_retries=5, sleep_base=3):\n",
        "    \"\"\"\n",
        "    Robust yfinance intraday downloader.\n",
        "    Guarantees: Open, High, Low, Close, Volume (+Adj Close), Datetime, Symbol.\n",
        "    \"\"\"\n",
        "    period_days = int(period_days)\n",
        "    period_str = f\"{period_days}d\"\n",
        "\n",
        "    def _post(df: pd.DataFrame) -> pd.DataFrame:\n",
        "        df = _normalize_ohlcv(df, ticker)\n",
        "        df = _force_datetime_column(df)\n",
        "        needed = {'Open', 'High', 'Low', 'Close', 'Volume'}\n",
        "        missing = needed - set(df.columns)\n",
        "        if missing:\n",
        "            raise ValueError(f\"Missing OHLCV columns after normalize: {missing}\")\n",
        "        if 'Adj Close' not in df.columns:\n",
        "            df['Adj Close'] = df['Close']\n",
        "        return df\n",
        "\n",
        "    for attempt in range(1, max_retries + 1):\n",
        "        try:\n",
        "            log.info(f\"[{ticker}] Attempt {attempt}: download(period={period_str}, interval={interval})\")\n",
        "            df = yf.download(\n",
        "                tickers=ticker,\n",
        "                period=period_str,\n",
        "                interval=interval,\n",
        "                progress=False,\n",
        "                auto_adjust=False,\n",
        "                group_by='column',\n",
        "                threads=False,\n",
        "                prepost=False,\n",
        "                repair=True\n",
        "            )\n",
        "            if df is None or df.empty:\n",
        "                raise ValueError(\"Empty data from download()\")\n",
        "\n",
        "            df = _post(df)\n",
        "            df['Symbol'] = ticker\n",
        "            log.info(f\"[{ticker}] rows={len(df)} {df['Datetime'].min()} → {df['Datetime'].max()}\")\n",
        "            return df\n",
        "\n",
        "        except Exception as e1:\n",
        "            # --- Yahoo 730-day clamp logic (self-heal) ---\n",
        "            msg = str(e1)\n",
        "            too_long = (\"must be within the last 730 days\" in msg.lower()) or (\"no price data found\" in msg.lower())\n",
        "            if too_long:\n",
        "                clamp_days = _max_days_for_interval(interval)\n",
        "                if period_days > clamp_days:\n",
        "                    log.warning(\"[%s] Yahoo limit hit (%s). Retrying with period_days=%d.\", ticker, e1, clamp_days)\n",
        "                    period_days = clamp_days\n",
        "                    period_str = f\"{period_days}d\"\n",
        "                    try:\n",
        "                        df = yf.download(\n",
        "                            tickers=ticker, period=period_str, interval=interval,\n",
        "                            progress=False, auto_adjust=False, group_by='column',\n",
        "                            threads=False, prepost=False, repair=True\n",
        "                        )\n",
        "                        if df is not None and not df.empty:\n",
        "                            df = _post(df)\n",
        "                            df['Symbol'] = ticker\n",
        "                            log.info(f\"[{ticker}] rows={len(df)} {df['Datetime'].min()} → {df['Datetime'].max()} (clamped)\")\n",
        "                            return df\n",
        "                    except Exception as e1b:\n",
        "                        log.warning(\"[%s] clamp retry failed (%s); will try history() fallback.\", ticker, e1b)\n",
        "\n",
        "            # --- history() fallback with backoff ---\n",
        "            log.warning(f\"[{ticker}] download() error: {e1} | trying Ticker().history()\")\n",
        "            try:\n",
        "                hist = yf.Ticker(ticker).history(\n",
        "                    period=period_str,\n",
        "                    interval=interval,\n",
        "                    auto_adjust=False,\n",
        "                    actions=False\n",
        "                )\n",
        "                if hist is None or hist.empty:\n",
        "                    raise ValueError(\"Empty data from history()\")\n",
        "\n",
        "                df = _post(hist)\n",
        "                df['Symbol'] = ticker\n",
        "                log.info(f\"[{ticker}] (fallback) rows={len(df)} {df['Datetime'].min()} → {df['Datetime'].max()}\")\n",
        "                return df\n",
        "\n",
        "            except Exception as e2:\n",
        "                wait = sleep_base * attempt\n",
        "                log.warning(f\"[{ticker}] history() error: {e2} | retrying in {wait}s\")\n",
        "                time.sleep(wait)\n",
        "\n",
        "    log.error(f\"[{ticker}] Failed after {max_retries} attempts.\")\n",
        "    return None\n",
        "\n",
        "\n",
        "# ---------- Feature Engineering ----------\n",
        "def denoise_wavelet(series, wavelet='db1', level=2):\n",
        "    s = pd.Series(series).astype(float).ffill().bfill().to_numpy()\n",
        "    try:\n",
        "        coeffs = pywt.wavedec(s, wavelet, mode='symmetric', level=level)\n",
        "        # Hard smoothing: zero high-frequency detail\n",
        "        for i in range(1, len(coeffs)):\n",
        "            coeffs[i] = np.zeros_like(coeffs[i])\n",
        "        rec = pywt.waverec(coeffs, wavelet, mode='symmetric')\n",
        "        return pd.Series(rec[:len(s)], index=series.index)\n",
        "    except Exception as e:\n",
        "        log.warning(f\"Wavelet denoise failed ({e}); returning raw series.\")\n",
        "        return pd.Series(s, index=series.index)\n",
        "\n",
        "def add_regime(df: pd.DataFrame) -> pd.DataFrame:\n",
        "    df['Vol20'] = df['Close'].pct_change().rolling(20).std()\n",
        "    df['Ret20'] = df['Close'].pct_change(20)\n",
        "    vol_hi   = (df['Vol20'] > df['Vol20'].median()).astype(int)\n",
        "    trend_hi = (df['Ret20'].abs() > df['Ret20'].abs().median()).astype(int)\n",
        "    df['Regime4'] = vol_hi * 2 + trend_hi  # 0..3\n",
        "    return df\n",
        "\n",
        "def compute_enhanced_features(df: pd.DataFrame) -> tuple[pd.DataFrame, list]:\n",
        "    \"\"\"\n",
        "    Returns (feature_df, FEATURES). Input must contain:\n",
        "      Datetime, Symbol, Open, High, Low, Close, Volume.\n",
        "    \"\"\"\n",
        "    df = df.copy()\n",
        "    req = {\"Open\", \"High\", \"Low\", \"Close\", \"Volume\"}\n",
        "    assert req.issubset(df.columns), f\"OHLCV columns missing: {req - set(df.columns)}\"\n",
        "\n",
        "    close = df[\"Close\"].astype(\"float64\")\n",
        "    high  = df[\"High\"].astype(\"float64\")\n",
        "    low   = df[\"Low\"].astype(\"float64\")\n",
        "    open_ = df[\"Open\"].astype(\"float64\")\n",
        "    vol   = (df[\"Volume\"].astype(\"float64\") + 1.0)\n",
        "\n",
        "    # Returns & lags\n",
        "    df[\"ret_1\"]     = close.pct_change(1)\n",
        "    df[\"ret_3\"]     = close.pct_change(3)\n",
        "    df[\"ret_5\"]     = close.pct_change(5)\n",
        "    df[\"ret_10\"]    = close.pct_change(10)\n",
        "    df[\"logret_1\"]  = np.log(close).diff(1)\n",
        "\n",
        "    # MAs & volatility\n",
        "    df[\"ma_5\"]      = close.rolling(5).mean()\n",
        "    df[\"ma_10\"]     = close.rolling(10).mean()\n",
        "    df[\"ma_20\"]     = close.rolling(20).mean()\n",
        "    df[\"ema_10\"]    = close.ewm(span=10, adjust=False).mean()\n",
        "    df[\"ema_20\"]    = close.ewm(span=20, adjust=False).mean()\n",
        "    df[\"std_10\"]    = close.rolling(10).std()\n",
        "    df[\"std_20\"]    = close.rolling(20).std()\n",
        "    df[\"ema10_ratio\"] = df[\"ema_10\"] / close - 1.0\n",
        "    df[\"ema20_ratio\"] = df[\"ema_20\"] / close - 1.0\n",
        "    df[\"z_close_20\"] = (close - df[\"ma_20\"]) / df[\"std_20\"].replace(0, np.nan)\n",
        "\n",
        "    # RSI(14)\n",
        "    delta      = close.diff()\n",
        "    up         = delta.clip(lower=0.0)\n",
        "    down       = -delta.clip(upper=0.0)\n",
        "    roll_up    = up.ewm(alpha=1/14, adjust=False).mean()\n",
        "    roll_down  = down.ewm(alpha=1/14, adjust=False).mean()\n",
        "    rs         = roll_up / roll_down.replace(0, np.nan)\n",
        "    df[\"rsi_14\"] = 100 - (100 / (1 + rs))\n",
        "\n",
        "    # Stochastic(14,3)\n",
        "    ll14       = low.rolling(14).min()\n",
        "    hh14       = high.rolling(14).max()\n",
        "    den_14     = (hh14 - ll14).replace(0, np.nan)\n",
        "    df[\"stoch_k\"] = 100 * (close - ll14) / den_14\n",
        "    df[\"stoch_d\"] = df[\"stoch_k\"].rolling(3).mean()\n",
        "\n",
        "    # MACD (12,26,9)\n",
        "    ema12         = close.ewm(span=12, adjust=False).mean()\n",
        "    ema26         = close.ewm(span=26, adjust=False).mean()\n",
        "    macd          = ema12 - ema26\n",
        "    macd_sig      = macd.ewm(span=9, adjust=False).mean()\n",
        "    df[\"macd\"]        = macd\n",
        "    df[\"macd_signal\"] = macd_sig\n",
        "    df[\"macd_hist\"]   = macd - macd_sig\n",
        "\n",
        "    # Bollinger (20,2)\n",
        "    bb_mid      = df[\"ma_20\"]\n",
        "    bb_std      = df[\"std_20\"]\n",
        "    bb_up       = bb_mid + 2 * bb_std\n",
        "    bb_lo       = bb_mid - 2 * bb_std\n",
        "    band_width  = (bb_up - bb_lo)\n",
        "    df[\"bb_perc_b\"]    = (close - bb_lo) / band_width.replace(0, np.nan)\n",
        "    df[\"bb_bandwidth\"] = band_width / bb_mid.replace(0, np.nan)\n",
        "\n",
        "    # ATR(14)\n",
        "    prev_close  = close.shift(1)\n",
        "    tr = np.maximum(high - low,\n",
        "                    np.maximum((high - prev_close).abs(), (low - prev_close).abs()))\n",
        "    df[\"atr_14\"] = tr.rolling(14).mean()\n",
        "\n",
        "    # Volume features\n",
        "    df[\"vol_ma_20\"]    = vol.rolling(20).mean()\n",
        "    df[\"vol_std_20\"]   = vol.rolling(20).std()\n",
        "    df[\"vol_z_20\"]     = (vol - df[\"vol_ma_20\"]) / df[\"vol_std_20\"].replace(0, np.nan)\n",
        "    df[\"vol_change_1\"] = vol.pct_change(1)\n",
        "\n",
        "    # Spreads & crosses\n",
        "    df[\"hl_spread\"] = (high - low) / close.replace(0, np.nan)\n",
        "    df[\"oc_spread\"] = (close - open_) / open_.replace(0, np.nan)\n",
        "    df[\"ema10_gt_ema20\"] = (df[\"ema_10\"] > df[\"ema_20\"]).astype(\"float32\")\n",
        "\n",
        "    # Optional extras\n",
        "    if USE_WAVELET:\n",
        "        df[\"denoised_close\"] = denoise_wavelet(pd.Series(close, index=df.index))\n",
        "    if USE_REGIME:\n",
        "        df = add_regime(df)  # adds 'Regime4'\n",
        "\n",
        "    # Clean up\n",
        "    df.replace([np.inf, -np.inf], np.nan, inplace=True)\n",
        "    df.fillna(0.0, inplace=True)\n",
        "\n",
        "    FEATURES = [\n",
        "        \"ret_1\",\"ret_3\",\"ret_5\",\"ret_10\",\"logret_1\",\n",
        "        \"ma_5\",\"ma_10\",\"ma_20\",\"ema_10\",\"ema_20\",\"ema10_ratio\",\"ema20_ratio\",\n",
        "        \"std_10\",\"std_20\",\"z_close_20\",\n",
        "        \"rsi_14\",\"stoch_k\",\"stoch_d\",\n",
        "        \"macd\",\"macd_signal\",\"macd_hist\",\n",
        "        \"bb_perc_b\",\"bb_bandwidth\",\n",
        "        \"atr_14\",\n",
        "        \"vol_ma_20\",\"vol_std_20\",\"vol_z_20\",\"vol_change_1\",\n",
        "        \"hl_spread\",\"oc_spread\",\"ema10_gt_ema20\",\n",
        "    ]\n",
        "    df[FEATURES] = df[FEATURES].astype(\"float32\")\n",
        "    return df, FEATURES\n",
        "\n",
        "# ---------- Orchestrator ----------\n",
        "VAL_FRACTION = float(os.getenv(\"VAL_FRACTION\", \"0.20\"))  # only for optional local train/val files\n",
        "CANDIDATE_CSVS = [FEATURE_CSV_LOCAL, FEATURE_CSV_RESULTS, FEATURE_CSV_TRADING]\n",
        "\n",
        "def build_features() -> pd.DataFrame:\n",
        "    # ---- PPO-style: re-use any healthy dataset across locations ----\n",
        "    for cand in CANDIDATE_CSVS:\n",
        "        if _verify_csv_ok(cand):\n",
        "            d = pd.read_csv(cand)\n",
        "            d['Datetime'] = pd.to_datetime(d['Datetime'], utc=True)  # keep UTC in memory\n",
        "            log.info(\"Using existing features CSV: %s | rows=%d cols=%d\", cand, len(d), d.shape[1])\n",
        "            return d\n",
        "\n",
        "    all_dfs = []\n",
        "    for i, ticker in enumerate(SYMBOLS, 1):\n",
        "        log.info(f\"[{i}/{len(SYMBOLS)}] {ticker} — downloading\")\n",
        "        raw = download_stock_data(ticker, interval=INTERVAL, period_days=PERIOD_DAYS)\n",
        "        if raw is None or raw.empty:\n",
        "            log.warning(f\"[{ticker}] no data; skipping.\")\n",
        "            continue\n",
        "        try:\n",
        "            feats, _ = compute_enhanced_features(raw)\n",
        "            if feats is not None and not feats.empty:\n",
        "                outp = os.path.join(DATA_DIR, f\"{ticker}.parquet\")\n",
        "                feats.to_parquet(outp, index=False)\n",
        "                log.info(f\"[{ticker}] features={len(feats)} rows → {outp}\")\n",
        "                all_dfs.append(feats)\n",
        "            else:\n",
        "                log.warning(f\"[{ticker}] empty features; skipped.\")\n",
        "        except Exception as e:\n",
        "            log.error(f\"[{ticker}] FE failed: {e}\")\n",
        "        finally:\n",
        "            del raw\n",
        "            try: del feats\n",
        "            except: pass\n",
        "            gc.collect()\n",
        "            time.sleep(0.2)\n",
        "\n",
        "    if not all_dfs:\n",
        "        raise RuntimeError(\"No usable data found for any ticker.\")\n",
        "\n",
        "    full = pd.concat(all_dfs, ignore_index=True)\n",
        "\n",
        "    # ---- Keep UTC in storage; only convert a view to NY for RTH mask ----\n",
        "    full['Datetime'] = pd.to_datetime(full['Datetime'], utc=True)  # tz-aware UTC for storage\n",
        "    dt_ny = full['Datetime'].dt.tz_convert('America/New_York')\n",
        "    rth_mask = (\n",
        "        (dt_ny.dt.weekday < 5) &\n",
        "        (dt_ny.dt.time >= pd.to_datetime(\"09:30\").time()) &\n",
        "        (dt_ny.dt.time <  pd.to_datetime(\"16:00\").time())\n",
        "    )\n",
        "    full = full[rth_mask].reset_index(drop=True)\n",
        "\n",
        "    # ---- Save atomically: local + both Drive locations ----\n",
        "    save_csv_atomically(full, FEATURE_CSV_LOCAL)\n",
        "    save_csv_atomically(full, FEATURE_CSV_RESULTS)\n",
        "    save_csv_atomically(full, FEATURE_CSV_TRADING)\n",
        "\n",
        "    # Parquet mirror (local)\n",
        "    full.to_parquet(PARQ_FULL, index=False)\n",
        "\n",
        "    # Diagnostics: existence + size + small preview\n",
        "    for p in (FEATURE_CSV_LOCAL, FEATURE_CSV_RESULTS, FEATURE_CSV_TRADING):\n",
        "        _log_artifact(p)\n",
        "\n",
        "    log.info(\"Saved combined CSV (rows=%d) →\\n- %s\\n- %s\\n- %s\",\n",
        "             len(full), FEATURE_CSV_LOCAL, FEATURE_CSV_RESULTS, FEATURE_CSV_TRADING)\n",
        "    return full\n",
        "\n",
        "# ---------- Optional: utility used by training scripts ----------\n",
        "def find_or_build_dataset():\n",
        "    \"\"\"Try local/Drive mirrors; if none, build and save to all mirrors.\"\"\"\n",
        "    for cand in CANDIDATE_CSVS:\n",
        "        if _verify_csv_ok(cand):\n",
        "            df = pd.read_csv(cand)\n",
        "            df[\"Datetime\"] = pd.to_datetime(df[\"Datetime\"], utc=True)\n",
        "            return cand, df\n",
        "    df = build_features()\n",
        "    save_csv_atomically(df, FEATURE_CSV_LOCAL)\n",
        "    save_csv_atomically(df, FEATURE_CSV_RESULTS)\n",
        "    save_csv_atomically(df, FEATURE_CSV_TRADING)\n",
        "    return FEATURE_CSV_LOCAL, df\n",
        "\n",
        "# ---------- Run end-to-end ----------\n",
        "if __name__ == \"__main__\":\n",
        "    df_full = build_features()\n",
        "\n",
        "    # (Optional) Create quick time-based train/val splits locally for inspection\n",
        "    try:\n",
        "        df_full = df_full.sort_values('Datetime').reset_index(drop=True)\n",
        "        cutoff_idx = int((1.0 - VAL_FRACTION) * len(df_full))\n",
        "        cutoff_idx = min(max(1, cutoff_idx), len(df_full) - 1)  # guardrails\n",
        "        cutoff_time = df_full.loc[cutoff_idx, 'Datetime']\n",
        "        train_df = df_full[df_full['Datetime'] <  cutoff_time].reset_index(drop=True)\n",
        "        val_df   = df_full[df_full['Datetime'] >= cutoff_time].reset_index(drop=True)\n",
        "\n",
        "        # Atomic saves everywhere (local + Drive mirror for convenience)\n",
        "        save_csv_atomically(df_full,  FEATURE_CSV_LOCAL)   # ensure latest combined locally\n",
        "        save_csv_atomically(train_df, \"train.csv\")\n",
        "        save_csv_atomically(val_df,   \"val.csv\")\n",
        "\n",
        "        # Drive mirror of splits\n",
        "        save_csv_atomically(train_df, os.path.join(TRADING_DIR, \"train.csv\"))\n",
        "        save_csv_atomically(val_df,   os.path.join(TRADING_DIR, \"val.csv\"))\n",
        "\n",
        "        # Parquet mirrors\n",
        "        train_df.to_parquet(PARQ_TRAIN, index=False)\n",
        "        val_df.to_parquet(PARQ_VAL, index=False)\n",
        "\n",
        "        log.info(\"Time split cutoff @ %s\", cutoff_time)\n",
        "        log.info(\"Train: %s, Val: %s\", train_df.shape, val_df.shape)\n",
        "\n",
        "        for p in (\"train.csv\", \"val.csv\", PARQ_TRAIN, PARQ_VAL):\n",
        "            exists = os.path.exists(p)\n",
        "            sz = os.path.getsize(p) if exists else 0\n",
        "            log.info(\"Saved split artifact: exists=%s | size=%s | path=%s\", exists, sz, p)\n",
        "\n",
        "        # Light summary\n",
        "        try:\n",
        "            sym_counts = df_full['Symbol'].value_counts()\n",
        "            log.info(\"Symbols saved (top 10):\\n%s\", sym_counts.head(10).to_string())\n",
        "            log.info(\"Datetime range: %s → %s\", df_full['Datetime'].min(), df_full['Datetime'].max())\n",
        "        except Exception:\n",
        "            pass\n",
        "\n",
        "        # Log artifacts\n",
        "        for p in (FEATURE_CSV_LOCAL,\n",
        "                  os.path.join(TRADING_DIR, \"train.csv\"),\n",
        "                  os.path.join(TRADING_DIR, \"val.csv\")):\n",
        "            _log_artifact(p)\n",
        "\n",
        "        # Cleanup refs\n",
        "        del train_df, val_df\n",
        "    except Exception as e:\n",
        "        log.warning(\"Train/Val split skipped: %s\", e)\n",
        "\n",
        "    gc.collect()\n",
        "    log.info(\"✅ Download + Feature Build complete.\")"
      ]
    },
    {
      "cell_type": "code",
      "execution_count": null,
      "metadata": {
        "colab": {
          "base_uri": "https://localhost:8080/"
        },
        "id": "Y96nd2AVIMa-",
        "outputId": "8b2c3397-bdd3-45a3-8441-b8424af68ca9"
      },
      "outputs": [
        {
          "name": "stdout",
          "output_type": "stream",
          "text": [
            "multi_stock_feature_engineered_dataset.csv -> True\n",
            "  size: 142342443 modified: Sat Oct 18 20:35:52 2025\n",
            "  cols: ['Datetime', 'Adj Close', 'Close', 'High', 'Low', 'Open', 'Repaired?', 'Volume']\n",
            "/content/drive/MyDrive/Results_May_2025/results_sac_walkforward/multi_stock_feature_engineered_dataset.csv -> True\n",
            "  size: 142342443 modified: Sat Oct 18 20:35:08 2025\n",
            "  cols: ['Datetime', 'Adj Close', 'Close', 'High', 'Low', 'Open', 'Repaired?', 'Volume']\n",
            "/content/drive/MyDrive/trading_data/multi_stock_feature_engineered_dataset.csv -> True\n",
            "  size: 142342443 modified: Sat Oct 18 20:35:29 2025\n",
            "  cols: ['Datetime', 'Adj Close', 'Close', 'High', 'Low', 'Open', 'Repaired?', 'Volume']\n"
          ]
        }
      ],
      "source": [
        "import os, time, pandas as pd\n",
        "for p in [\n",
        "    \"multi_stock_feature_engineered_dataset.csv\",\n",
        "    \"/content/drive/MyDrive/Results_May_2025/results_sac_walkforward/multi_stock_feature_engineered_dataset.csv\",\n",
        "    \"/content/drive/MyDrive/trading_data/multi_stock_feature_engineered_dataset.csv\",\n",
        "]:\n",
        "    print(p, \"->\", os.path.exists(p))\n",
        "    if os.path.exists(p):\n",
        "        print(\"  size:\", os.path.getsize(p), \"modified:\", time.ctime(os.path.getmtime(p)))\n",
        "        print(\"  cols:\", list(pd.read_csv(p, nrows=1).columns)[:8])\n"
      ]
    },
    {
      "cell_type": "code",
      "execution_count": null,
      "metadata": {
        "colab": {
          "background_save": true,
          "base_uri": "https://localhost:8080/"
        },
        "id": "P2QYuTBaDQJw",
        "outputId": "38dfd3f1-5d63-48b0-d722-bf9120204363"
      },
      "outputs": [
        {
          "name": "stderr",
          "output_type": "stream",
          "text": [
            "Gym has been unmaintained since 2022 and does not support NumPy 2.0 amongst other critical functionality.\n",
            "Please upgrade to Gymnasium, the maintained drop-in replacement of Gym, or contact the authors of your software and request that they upgrade.\n",
            "See the migration guide at https://gymnasium.farama.org/introduction/migration_guide/ for additional information.\n",
            "WARNING:SAC-TrainExec:▶ [1/3] Processing AAPL | candidate windows=[12, 16, 24]\n",
            "WARNING:SAC-TrainExec:---------------------------------------------------------------\n",
            "WARNING:SAC-TrainExec:   • AAPL: WS 1/3 = 12\n"
          ]
        },
        {
          "name": "stdout",
          "output_type": "stream",
          "text": [
            "Using cpu device\n"
          ]
        },
        {
          "name": "stderr",
          "output_type": "stream",
          "text": [
            "WARNING:SAC-TrainExec:[HB] steps=1,000 | inst=1,301 sps | avg=1,301 sps | elapsed=0.0m | eta=0.6m\n",
            "WARNING:SAC-TrainExec:[HB] steps=2,000 | inst=976 sps | avg=1,116 sps | elapsed=0.0m | eta=0.8m\n",
            "WARNING:SAC-TrainExec:[HB] steps=3,000 | inst=9 sps | avg=26 sps | elapsed=1.9m | eta=89.1m\n",
            "WARNING:SAC-TrainExec:[HB] steps=4,000 | inst=9 sps | avg=17 sps | elapsed=3.9m | eta=89.3m\n",
            "WARNING:SAC-TrainExec:[HB] steps=5,000 | inst=8 sps | avg=14 sps | elapsed=6.0m | eta=94.3m\n",
            "WARNING:SAC-TrainExec:[HB] steps=6,000 | inst=8 sps | avg=12 sps | elapsed=8.0m | eta=90.3m\n"
          ]
        },
        {
          "name": "stdout",
          "output_type": "stream",
          "text": [
            "---------------------------------\n",
            "| time/              |          |\n",
            "|    episodes        | 4        |\n",
            "|    fps             | 11       |\n",
            "|    time_elapsed    | 595      |\n",
            "|    total_timesteps | 6948     |\n",
            "| train/             |          |\n",
            "|    actor_loss      | -8.04    |\n",
            "|    critic_loss     | 0.000572 |\n",
            "|    ent_coef        | 0.0514   |\n",
            "|    ent_coef_loss   | -5.01    |\n",
            "|    learning_rate   | 0.0003   |\n",
            "|    n_updates       | 9894     |\n",
            "---------------------------------\n"
          ]
        },
        {
          "name": "stderr",
          "output_type": "stream",
          "text": [
            "WARNING:SAC-TrainExec:[HB] steps=7,000 | inst=8 sps | avg=12 sps | elapsed=10.0m | eta=86.3m\n",
            "WARNING:SAC-TrainExec:[HB] steps=8,000 | inst=8 sps | avg=11 sps | elapsed=12.0m | eta=83.2m\n",
            "WARNING:SAC-TrainExec:[HB] steps=9,000 | inst=8 sps | avg=11 sps | elapsed=14.0m | eta=81.7m\n",
            "WARNING:SAC-TrainExec:[HB] steps=10,000 | inst=8 sps | avg=10 sps | elapsed=16.0m | eta=82.1m\n",
            "WARNING:SAC-TrainExec:[HB] steps=11,000 | inst=8 sps | avg=10 sps | elapsed=18.1m | eta=79.0m\n",
            "WARNING:SAC-TrainExec:[HB] steps=12,000 | inst=8 sps | avg=10 sps | elapsed=20.1m | eta=76.8m\n",
            "WARNING:SAC-TrainExec:[HB] steps=13,000 | inst=8 sps | avg=10 sps | elapsed=22.1m | eta=74.1m\n"
          ]
        },
        {
          "name": "stdout",
          "output_type": "stream",
          "text": [
            "---------------------------------\n",
            "| time/              |          |\n",
            "|    episodes        | 8        |\n",
            "|    fps             | 9        |\n",
            "|    time_elapsed    | 1431     |\n",
            "|    total_timesteps | 13896    |\n",
            "| train/             |          |\n",
            "|    actor_loss      | -5.57    |\n",
            "|    critic_loss     | 0.00117  |\n",
            "|    ent_coef        | 0.000828 |\n",
            "|    ent_coef_loss   | -10.4    |\n",
            "|    learning_rate   | 0.0003   |\n",
            "|    n_updates       | 23790    |\n",
            "---------------------------------\n"
          ]
        },
        {
          "name": "stderr",
          "output_type": "stream",
          "text": [
            "WARNING:SAC-TrainExec:[HB] steps=14,000 | inst=8 sps | avg=10 sps | elapsed=24.1m | eta=71.3m\n",
            "WARNING:SAC-TrainExec:[HB] steps=15,000 | inst=8 sps | avg=10 sps | elapsed=26.1m | eta=69.4m\n",
            "WARNING:SAC-TrainExec:[HB] steps=16,000 | inst=8 sps | avg=9 sps | elapsed=28.1m | eta=69.9m\n",
            "WARNING:SAC-TrainExec:[HB] steps=17,000 | inst=8 sps | avg=9 sps | elapsed=30.1m | eta=65.6m\n",
            "WARNING:SAC-TrainExec:[HB] steps=18,000 | inst=8 sps | avg=9 sps | elapsed=32.2m | eta=66.4m\n",
            "WARNING:SAC-TrainExec:[HB] steps=19,000 | inst=8 sps | avg=9 sps | elapsed=34.2m | eta=62.7m\n",
            "WARNING:SAC-TrainExec:[HB] steps=20,000 | inst=8 sps | avg=9 sps | elapsed=36.2m | eta=60.8m\n"
          ]
        },
        {
          "name": "stdout",
          "output_type": "stream",
          "text": [
            "---------------------------------\n",
            "| time/              |          |\n",
            "|    episodes        | 12       |\n",
            "|    fps             | 9        |\n",
            "|    time_elapsed    | 2275     |\n",
            "|    total_timesteps | 20844    |\n",
            "| train/             |          |\n",
            "|    actor_loss      | -3.71    |\n",
            "|    critic_loss     | 0.000303 |\n",
            "|    ent_coef        | 0.000179 |\n",
            "|    ent_coef_loss   | 0.301    |\n",
            "|    learning_rate   | 0.0003   |\n",
            "|    n_updates       | 37686    |\n",
            "---------------------------------\n"
          ]
        },
        {
          "name": "stderr",
          "output_type": "stream",
          "text": [
            "WARNING:SAC-TrainExec:[HB] steps=21,000 | inst=8 sps | avg=9 sps | elapsed=38.2m | eta=58.2m\n",
            "WARNING:SAC-TrainExec:[HB] steps=22,000 | inst=8 sps | avg=9 sps | elapsed=40.2m | eta=56.3m\n",
            "WARNING:SAC-TrainExec:[HB] steps=23,000 | inst=8 sps | avg=9 sps | elapsed=42.2m | eta=53.6m\n",
            "WARNING:SAC-TrainExec:[HB] steps=24,000 | inst=8 sps | avg=9 sps | elapsed=44.2m | eta=51.9m\n",
            "WARNING:SAC-TrainExec:[HB] steps=25,000 | inst=8 sps | avg=9 sps | elapsed=46.2m | eta=50.4m\n",
            "WARNING:SAC-TrainExec:[HB] steps=26,000 | inst=8 sps | avg=9 sps | elapsed=48.2m | eta=47.9m\n",
            "WARNING:SAC-TrainExec:[HB] steps=27,000 | inst=8 sps | avg=9 sps | elapsed=50.2m | eta=46.0m\n"
          ]
        },
        {
          "name": "stdout",
          "output_type": "stream",
          "text": [
            "---------------------------------\n",
            "| time/              |          |\n",
            "|    episodes        | 16       |\n",
            "|    fps             | 8        |\n",
            "|    time_elapsed    | 3108     |\n",
            "|    total_timesteps | 27792    |\n",
            "| train/             |          |\n",
            "|    actor_loss      | -2.43    |\n",
            "|    critic_loss     | 0.000216 |\n",
            "|    ent_coef        | 0.000207 |\n",
            "|    ent_coef_loss   | 0.233    |\n",
            "|    learning_rate   | 0.0003   |\n",
            "|    n_updates       | 51582    |\n",
            "---------------------------------\n"
          ]
        },
        {
          "name": "stderr",
          "output_type": "stream",
          "text": [
            "WARNING:SAC-TrainExec:[HB] steps=28,000 | inst=8 sps | avg=9 sps | elapsed=52.2m | eta=43.6m\n",
            "WARNING:SAC-TrainExec:[HB] steps=29,000 | inst=8 sps | avg=9 sps | elapsed=54.2m | eta=41.6m\n",
            "WARNING:SAC-TrainExec:[HB] steps=30,000 | inst=8 sps | avg=9 sps | elapsed=56.2m | eta=39.7m\n",
            "WARNING:SAC-TrainExec:[HB] steps=31,000 | inst=8 sps | avg=9 sps | elapsed=58.2m | eta=38.0m\n",
            "WARNING:SAC-TrainExec:[HB] steps=32,000 | inst=8 sps | avg=9 sps | elapsed=60.3m | eta=37.3m\n",
            "WARNING:SAC-TrainExec:[HB] steps=33,000 | inst=8 sps | avg=9 sps | elapsed=62.3m | eta=34.6m\n",
            "WARNING:SAC-TrainExec:[HB] steps=34,000 | inst=8 sps | avg=9 sps | elapsed=64.3m | eta=32.4m\n"
          ]
        },
        {
          "name": "stdout",
          "output_type": "stream",
          "text": [
            "---------------------------------\n",
            "| time/              |          |\n",
            "|    episodes        | 20       |\n",
            "|    fps             | 8        |\n",
            "|    time_elapsed    | 3948     |\n",
            "|    total_timesteps | 34740    |\n",
            "| train/             |          |\n",
            "|    actor_loss      | -1.66    |\n",
            "|    critic_loss     | 7.82e-05 |\n",
            "|    ent_coef        | 0.000307 |\n",
            "|    ent_coef_loss   | 0.0487   |\n",
            "|    learning_rate   | 0.0003   |\n",
            "|    n_updates       | 65478    |\n",
            "---------------------------------\n"
          ]
        },
        {
          "name": "stderr",
          "output_type": "stream",
          "text": [
            "WARNING:SAC-TrainExec:[HB] steps=35,000 | inst=8 sps | avg=9 sps | elapsed=66.3m | eta=30.4m\n",
            "WARNING:SAC-TrainExec:[HB] steps=36,000 | inst=8 sps | avg=9 sps | elapsed=68.4m | eta=28.6m\n",
            "WARNING:SAC-TrainExec:[HB] steps=37,000 | inst=8 sps | avg=9 sps | elapsed=70.4m | eta=26.4m\n",
            "WARNING:SAC-TrainExec:[HB] steps=38,000 | inst=8 sps | avg=9 sps | elapsed=72.5m | eta=24.5m\n",
            "WARNING:SAC-TrainExec:[HB] steps=39,000 | inst=8 sps | avg=9 sps | elapsed=74.5m | eta=22.7m\n",
            "WARNING:SAC-TrainExec:[HB] steps=40,000 | inst=8 sps | avg=9 sps | elapsed=76.6m | eta=20.4m\n",
            "WARNING:SAC-TrainExec:[HB] steps=41,000 | inst=8 sps | avg=9 sps | elapsed=78.7m | eta=18.9m\n"
          ]
        },
        {
          "name": "stdout",
          "output_type": "stream",
          "text": [
            "---------------------------------\n",
            "| time/              |          |\n",
            "|    episodes        | 24       |\n",
            "|    fps             | 8        |\n",
            "|    time_elapsed    | 4806     |\n",
            "|    total_timesteps | 41688    |\n",
            "| train/             |          |\n",
            "|    actor_loss      | -1.19    |\n",
            "|    critic_loss     | 6.58e-05 |\n",
            "|    ent_coef        | 0.000327 |\n",
            "|    ent_coef_loss   | -0.51    |\n",
            "|    learning_rate   | 0.0003   |\n",
            "|    n_updates       | 79374    |\n",
            "---------------------------------\n"
          ]
        },
        {
          "name": "stderr",
          "output_type": "stream",
          "text": [
            "WARNING:SAC-TrainExec:[HB] steps=42,000 | inst=8 sps | avg=9 sps | elapsed=80.8m | eta=16.7m\n",
            "WARNING:SAC-TrainExec:[HB] steps=43,000 | inst=8 sps | avg=9 sps | elapsed=82.9m | eta=14.7m\n",
            "WARNING:SAC-TrainExec:[HB] steps=44,000 | inst=8 sps | avg=9 sps | elapsed=85.0m | eta=12.6m\n",
            "WARNING:SAC-TrainExec:[HB] steps=45,000 | inst=8 sps | avg=9 sps | elapsed=87.1m | eta=10.7m\n",
            "WARNING:SAC-TrainExec:[HB] steps=46,000 | inst=8 sps | avg=9 sps | elapsed=89.2m | eta=8.3m\n",
            "WARNING:SAC-TrainExec:[HB] steps=47,000 | inst=8 sps | avg=9 sps | elapsed=91.3m | eta=6.4m\n",
            "WARNING:SAC-TrainExec:[HB] steps=48,000 | inst=8 sps | avg=9 sps | elapsed=93.4m | eta=4.2m\n"
          ]
        },
        {
          "name": "stdout",
          "output_type": "stream",
          "text": [
            "---------------------------------\n",
            "| time/              |          |\n",
            "|    episodes        | 28       |\n",
            "|    fps             | 8        |\n",
            "|    time_elapsed    | 5685     |\n",
            "|    total_timesteps | 48636    |\n",
            "| train/             |          |\n",
            "|    actor_loss      | -0.93    |\n",
            "|    critic_loss     | 1.02e-05 |\n",
            "|    ent_coef        | 0.000304 |\n",
            "|    ent_coef_loss   | -0.545   |\n",
            "|    learning_rate   | 0.0003   |\n",
            "|    n_updates       | 93270    |\n",
            "---------------------------------\n"
          ]
        },
        {
          "name": "stderr",
          "output_type": "stream",
          "text": [
            "WARNING:SAC-TrainExec:[HB] steps=49,000 | inst=8 sps | avg=9 sps | elapsed=95.5m | eta=2.1m\n",
            "WARNING:SAC-TrainExec:[HB] steps=50,000 | inst=8 sps | avg=9 sps | elapsed=97.7m | eta=0.0m\n"
          ]
        },
        {
          "name": "stdout",
          "output_type": "stream",
          "text": [
            "[SaveVecNorm] saved -> /content/drive/MyDrive/Results_May_2025/results_sac_walkforward/vecnorms/AAPL_ws12_vecnorm.pkl\n"
          ]
        },
        {
          "name": "stderr",
          "output_type": "stream",
          "text": [
            "WARNING:SAC-TrainExec:   • AAPL: WS 2/3 = 16\n"
          ]
        },
        {
          "name": "stdout",
          "output_type": "stream",
          "text": [
            "Using cpu device\n"
          ]
        },
        {
          "name": "stderr",
          "output_type": "stream",
          "text": [
            "WARNING:SAC-TrainExec:[HB] steps=1,000 | inst=1,333 sps | avg=1,333 sps | elapsed=0.0m | eta=0.6m\n",
            "WARNING:SAC-TrainExec:[HB] steps=2,000 | inst=1,304 sps | avg=1,318 sps | elapsed=0.0m | eta=0.6m\n",
            "WARNING:SAC-TrainExec:[HB] steps=3,000 | inst=7 sps | avg=21 sps | elapsed=2.4m | eta=111.9m\n",
            "WARNING:SAC-TrainExec:[HB] steps=4,000 | inst=7 sps | avg=14 sps | elapsed=4.7m | eta=104.5m\n",
            "WARNING:SAC-TrainExec:[HB] steps=5,000 | inst=7 sps | avg=12 sps | elapsed=6.9m | eta=102.1m\n",
            "WARNING:SAC-TrainExec:[HB] steps=6,000 | inst=7 sps | avg=11 sps | elapsed=9.2m | eta=100.7m\n"
          ]
        },
        {
          "name": "stdout",
          "output_type": "stream",
          "text": [
            "---------------------------------\n",
            "| time/              |          |\n",
            "|    episodes        | 4        |\n",
            "|    fps             | 10       |\n",
            "|    time_elapsed    | 682      |\n",
            "|    total_timesteps | 6932     |\n",
            "| train/             |          |\n",
            "|    actor_loss      | -8.12    |\n",
            "|    critic_loss     | 0.001    |\n",
            "|    ent_coef        | 0.0519   |\n",
            "|    ent_coef_loss   | -5.01    |\n",
            "|    learning_rate   | 0.0003   |\n",
            "|    n_updates       | 9862     |\n",
            "---------------------------------\n"
          ]
        },
        {
          "name": "stderr",
          "output_type": "stream",
          "text": [
            "WARNING:SAC-TrainExec:[HB] steps=7,000 | inst=7 sps | avg=10 sps | elapsed=11.5m | eta=99.3m\n",
            "WARNING:SAC-TrainExec:[HB] steps=8,000 | inst=7 sps | avg=10 sps | elapsed=13.8m | eta=95.9m\n",
            "WARNING:SAC-TrainExec:[HB] steps=9,000 | inst=7 sps | avg=9 sps | elapsed=16.1m | eta=94.9m\n",
            "WARNING:SAC-TrainExec:[HB] steps=10,000 | inst=7 sps | avg=9 sps | elapsed=18.5m | eta=93.9m\n",
            "WARNING:SAC-TrainExec:[HB] steps=11,000 | inst=7 sps | avg=9 sps | elapsed=20.8m | eta=88.2m\n",
            "WARNING:SAC-TrainExec:[HB] steps=12,000 | inst=7 sps | avg=9 sps | elapsed=23.0m | eta=85.7m\n",
            "WARNING:SAC-TrainExec:[HB] steps=13,000 | inst=7 sps | avg=9 sps | elapsed=25.3m | eta=83.5m\n"
          ]
        },
        {
          "name": "stdout",
          "output_type": "stream",
          "text": [
            "---------------------------------\n",
            "| time/              |          |\n",
            "|    episodes        | 8        |\n",
            "|    fps             | 8        |\n",
            "|    time_elapsed    | 1634     |\n",
            "|    total_timesteps | 13864    |\n",
            "| train/             |          |\n",
            "|    actor_loss      | -5.76    |\n",
            "|    critic_loss     | 0.000243 |\n",
            "|    ent_coef        | 0.000839 |\n",
            "|    ent_coef_loss   | -10.7    |\n",
            "|    learning_rate   | 0.0003   |\n",
            "|    n_updates       | 23726    |\n",
            "---------------------------------\n"
          ]
        },
        {
          "name": "stderr",
          "output_type": "stream",
          "text": [
            "WARNING:SAC-TrainExec:[HB] steps=14,000 | inst=7 sps | avg=8 sps | elapsed=27.6m | eta=82.8m\n",
            "WARNING:SAC-TrainExec:[HB] steps=15,000 | inst=7 sps | avg=8 sps | elapsed=29.9m | eta=80.5m\n",
            "WARNING:SAC-TrainExec:[HB] steps=16,000 | inst=7 sps | avg=8 sps | elapsed=32.1m | eta=77.5m\n",
            "WARNING:SAC-TrainExec:[HB] steps=17,000 | inst=7 sps | avg=8 sps | elapsed=34.4m | eta=75.4m\n",
            "WARNING:SAC-TrainExec:[HB] steps=18,000 | inst=7 sps | avg=8 sps | elapsed=36.7m | eta=72.9m\n",
            "WARNING:SAC-TrainExec:[HB] steps=19,000 | inst=7 sps | avg=8 sps | elapsed=39.0m | eta=70.1m\n",
            "WARNING:SAC-TrainExec:[HB] steps=20,000 | inst=7 sps | avg=8 sps | elapsed=41.2m | eta=68.3m\n"
          ]
        },
        {
          "name": "stdout",
          "output_type": "stream",
          "text": [
            "---------------------------------\n",
            "| time/              |          |\n",
            "|    episodes        | 12       |\n",
            "|    fps             | 8        |\n",
            "|    time_elapsed    | 2584     |\n",
            "|    total_timesteps | 20796    |\n",
            "| train/             |          |\n",
            "|    actor_loss      | -3.76    |\n",
            "|    critic_loss     | 0.00011  |\n",
            "|    ent_coef        | 0.000183 |\n",
            "|    ent_coef_loss   | -0.0375  |\n",
            "|    learning_rate   | 0.0003   |\n",
            "|    n_updates       | 37590    |\n",
            "---------------------------------\n"
          ]
        },
        {
          "name": "stderr",
          "output_type": "stream",
          "text": [
            "WARNING:SAC-TrainExec:[HB] steps=21,000 | inst=7 sps | avg=8 sps | elapsed=43.5m | eta=66.0m\n",
            "WARNING:SAC-TrainExec:[HB] steps=22,000 | inst=7 sps | avg=8 sps | elapsed=45.8m | eta=63.9m\n",
            "WARNING:SAC-TrainExec:[HB] steps=23,000 | inst=7 sps | avg=8 sps | elapsed=48.1m | eta=61.2m\n",
            "WARNING:SAC-TrainExec:[HB] steps=24,000 | inst=7 sps | avg=8 sps | elapsed=50.3m | eta=59.0m\n",
            "WARNING:SAC-TrainExec:[HB] steps=25,000 | inst=7 sps | avg=8 sps | elapsed=52.6m | eta=56.8m\n",
            "WARNING:SAC-TrainExec:[HB] steps=26,000 | inst=7 sps | avg=8 sps | elapsed=54.9m | eta=55.1m\n",
            "WARNING:SAC-TrainExec:[HB] steps=27,000 | inst=7 sps | avg=8 sps | elapsed=57.2m | eta=52.1m\n"
          ]
        },
        {
          "name": "stdout",
          "output_type": "stream",
          "text": [
            "---------------------------------\n",
            "| time/              |          |\n",
            "|    episodes        | 16       |\n",
            "|    fps             | 7        |\n",
            "|    time_elapsed    | 3530     |\n",
            "|    total_timesteps | 27728    |\n",
            "| train/             |          |\n",
            "|    actor_loss      | -2.48    |\n",
            "|    critic_loss     | 0.000285 |\n",
            "|    ent_coef        | 0.00025  |\n",
            "|    ent_coef_loss   | -0.624   |\n",
            "|    learning_rate   | 0.0003   |\n",
            "|    n_updates       | 51454    |\n",
            "---------------------------------\n"
          ]
        },
        {
          "name": "stderr",
          "output_type": "stream",
          "text": [
            "WARNING:SAC-TrainExec:[HB] steps=28,000 | inst=7 sps | avg=8 sps | elapsed=59.4m | eta=50.0m\n",
            "WARNING:SAC-TrainExec:[HB] steps=29,000 | inst=7 sps | avg=8 sps | elapsed=61.8m | eta=48.3m\n",
            "WARNING:SAC-TrainExec:[HB] steps=30,000 | inst=7 sps | avg=8 sps | elapsed=64.1m | eta=46.2m\n",
            "WARNING:SAC-TrainExec:[HB] steps=31,000 | inst=7 sps | avg=8 sps | elapsed=66.4m | eta=43.9m\n",
            "WARNING:SAC-TrainExec:[HB] steps=32,000 | inst=7 sps | avg=8 sps | elapsed=68.7m | eta=42.5m\n",
            "WARNING:SAC-TrainExec:[HB] steps=33,000 | inst=7 sps | avg=8 sps | elapsed=71.0m | eta=39.1m\n",
            "WARNING:SAC-TrainExec:[HB] steps=34,000 | inst=7 sps | avg=8 sps | elapsed=73.4m | eta=37.4m\n"
          ]
        },
        {
          "name": "stdout",
          "output_type": "stream",
          "text": [
            "---------------------------------\n",
            "| time/              |          |\n",
            "|    episodes        | 20       |\n",
            "|    fps             | 7        |\n",
            "|    time_elapsed    | 4493     |\n",
            "|    total_timesteps | 34660    |\n",
            "| train/             |          |\n",
            "|    actor_loss      | -1.77    |\n",
            "|    critic_loss     | 5.43e-05 |\n",
            "|    ent_coef        | 0.000309 |\n",
            "|    ent_coef_loss   | 0.287    |\n",
            "|    learning_rate   | 0.0003   |\n",
            "|    n_updates       | 65318    |\n",
            "---------------------------------\n"
          ]
        },
        {
          "name": "stderr",
          "output_type": "stream",
          "text": [
            "WARNING:SAC-TrainExec:[HB] steps=35,000 | inst=7 sps | avg=8 sps | elapsed=75.7m | eta=34.4m\n",
            "WARNING:SAC-TrainExec:[HB] steps=36,000 | inst=7 sps | avg=8 sps | elapsed=78.0m | eta=32.5m\n",
            "WARNING:SAC-TrainExec:[HB] steps=37,000 | inst=7 sps | avg=8 sps | elapsed=80.3m | eta=30.2m\n",
            "WARNING:SAC-TrainExec:[HB] steps=38,000 | inst=7 sps | avg=8 sps | elapsed=82.7m | eta=28.2m\n",
            "WARNING:SAC-TrainExec:[HB] steps=39,000 | inst=7 sps | avg=8 sps | elapsed=85.0m | eta=25.7m\n",
            "WARNING:SAC-TrainExec:[HB] steps=40,000 | inst=7 sps | avg=8 sps | elapsed=87.4m | eta=23.6m\n",
            "WARNING:SAC-TrainExec:[HB] steps=41,000 | inst=7 sps | avg=8 sps | elapsed=89.7m | eta=21.2m\n"
          ]
        },
        {
          "name": "stdout",
          "output_type": "stream",
          "text": [
            "---------------------------------\n",
            "| time/              |          |\n",
            "|    episodes        | 24       |\n",
            "|    fps             | 7        |\n",
            "|    time_elapsed    | 5467     |\n",
            "|    total_timesteps | 41592    |\n",
            "| train/             |          |\n",
            "|    actor_loss      | -1.34    |\n",
            "|    critic_loss     | 2.24e-05 |\n",
            "|    ent_coef        | 0.000326 |\n",
            "|    ent_coef_loss   | -0.143   |\n",
            "|    learning_rate   | 0.0003   |\n",
            "|    n_updates       | 79182    |\n",
            "---------------------------------\n"
          ]
        },
        {
          "name": "stderr",
          "output_type": "stream",
          "text": [
            "WARNING:SAC-TrainExec:[HB] steps=42,000 | inst=7 sps | avg=8 sps | elapsed=92.1m | eta=19.1m\n",
            "WARNING:SAC-TrainExec:[HB] steps=43,000 | inst=7 sps | avg=8 sps | elapsed=94.4m | eta=16.5m\n",
            "WARNING:SAC-TrainExec:[HB] steps=44,000 | inst=7 sps | avg=8 sps | elapsed=96.8m | eta=14.1m\n",
            "WARNING:SAC-TrainExec:[HB] steps=45,000 | inst=7 sps | avg=8 sps | elapsed=99.2m | eta=11.9m\n",
            "WARNING:SAC-TrainExec:[HB] steps=46,000 | inst=7 sps | avg=8 sps | elapsed=101.6m | eta=9.8m\n",
            "WARNING:SAC-TrainExec:[HB] steps=47,000 | inst=6 sps | avg=8 sps | elapsed=104.3m | eta=8.1m\n",
            "WARNING:SAC-TrainExec:[HB] steps=48,000 | inst=6 sps | avg=7 sps | elapsed=106.9m | eta=5.2m\n"
          ]
        },
        {
          "name": "stdout",
          "output_type": "stream",
          "text": [
            "---------------------------------\n",
            "| time/              |          |\n",
            "|    episodes        | 28       |\n",
            "|    fps             | 7        |\n",
            "|    time_elapsed    | 6496     |\n",
            "|    total_timesteps | 48524    |\n",
            "| train/             |          |\n",
            "|    actor_loss      | -0.963   |\n",
            "|    critic_loss     | 9.57e-06 |\n",
            "|    ent_coef        | 0.000301 |\n",
            "|    ent_coef_loss   | -1.01    |\n",
            "|    learning_rate   | 0.0003   |\n",
            "|    n_updates       | 93046    |\n",
            "---------------------------------\n"
          ]
        },
        {
          "name": "stderr",
          "output_type": "stream",
          "text": [
            "WARNING:SAC-TrainExec:[HB] steps=49,000 | inst=6 sps | avg=7 sps | elapsed=109.5m | eta=2.6m\n",
            "WARNING:SAC-TrainExec:[HB] steps=50,000 | inst=7 sps | avg=7 sps | elapsed=112.0m | eta=0.0m\n"
          ]
        },
        {
          "name": "stdout",
          "output_type": "stream",
          "text": [
            "[SaveVecNorm] saved -> /content/drive/MyDrive/Results_May_2025/results_sac_walkforward/vecnorms/AAPL_ws16_vecnorm.pkl\n"
          ]
        },
        {
          "name": "stderr",
          "output_type": "stream",
          "text": [
            "WARNING:SAC-TrainExec:   • AAPL: WS 3/3 = 24\n"
          ]
        },
        {
          "name": "stdout",
          "output_type": "stream",
          "text": [
            "Using cpu device\n"
          ]
        },
        {
          "name": "stderr",
          "output_type": "stream",
          "text": [
            "WARNING:SAC-TrainExec:[HB] steps=1,000 | inst=1,066 sps | avg=1,066 sps | elapsed=0.0m | eta=0.8m\n",
            "WARNING:SAC-TrainExec:[HB] steps=2,000 | inst=560 sps | avg=734 sps | elapsed=0.0m | eta=1.4m\n",
            "WARNING:SAC-TrainExec:[HB] steps=3,000 | inst=6 sps | avg=16 sps | elapsed=3.0m | eta=140.3m\n",
            "WARNING:SAC-TrainExec:[HB] steps=4,000 | inst=6 sps | avg=11 sps | elapsed=5.9m | eta=132.7m\n",
            "WARNING:SAC-TrainExec:[HB] steps=5,000 | inst=6 sps | avg=9 sps | elapsed=8.9m | eta=132.4m\n",
            "WARNING:SAC-TrainExec:[HB] steps=6,000 | inst=6 sps | avg=8 sps | elapsed=11.8m | eta=127.9m\n"
          ]
        },
        {
          "name": "stdout",
          "output_type": "stream",
          "text": [
            "---------------------------------\n",
            "| time/              |          |\n",
            "|    episodes        | 4        |\n",
            "|    fps             | 7        |\n",
            "|    time_elapsed    | 862      |\n",
            "|    total_timesteps | 6900     |\n",
            "| train/             |          |\n",
            "|    actor_loss      | -8.11    |\n",
            "|    critic_loss     | 0.000806 |\n",
            "|    ent_coef        | 0.0529   |\n",
            "|    ent_coef_loss   | -4.95    |\n",
            "|    learning_rate   | 0.0003   |\n",
            "|    n_updates       | 9798     |\n",
            "---------------------------------\n"
          ]
        },
        {
          "name": "stderr",
          "output_type": "stream",
          "text": [
            "WARNING:SAC-TrainExec:[HB] steps=7,000 | inst=6 sps | avg=8 sps | elapsed=14.7m | eta=125.2m\n",
            "WARNING:SAC-TrainExec:[HB] steps=8,000 | inst=6 sps | avg=8 sps | elapsed=17.6m | eta=123.8m\n",
            "WARNING:SAC-TrainExec:[HB] steps=9,000 | inst=6 sps | avg=7 sps | elapsed=20.5m | eta=119.3m\n",
            "WARNING:SAC-TrainExec:[HB] steps=10,000 | inst=6 sps | avg=7 sps | elapsed=23.5m | eta=117.2m\n",
            "WARNING:SAC-TrainExec:[HB] steps=11,000 | inst=6 sps | avg=7 sps | elapsed=26.4m | eta=114.3m\n",
            "WARNING:SAC-TrainExec:[HB] steps=12,000 | inst=6 sps | avg=7 sps | elapsed=29.3m | eta=111.3m\n",
            "WARNING:SAC-TrainExec:[HB] steps=13,000 | inst=6 sps | avg=7 sps | elapsed=32.3m | eta=108.3m\n"
          ]
        },
        {
          "name": "stdout",
          "output_type": "stream",
          "text": [
            "---------------------------------\n",
            "| time/              |          |\n",
            "|    episodes        | 8        |\n",
            "|    fps             | 6        |\n",
            "|    time_elapsed    | 2074     |\n",
            "|    total_timesteps | 13800    |\n",
            "| train/             |          |\n",
            "|    actor_loss      | -5.73    |\n",
            "|    critic_loss     | 0.000193 |\n",
            "|    ent_coef        | 0.000871 |\n",
            "|    ent_coef_loss   | -10.2    |\n",
            "|    learning_rate   | 0.0003   |\n",
            "|    n_updates       | 23598    |\n",
            "---------------------------------\n"
          ]
        },
        {
          "name": "stderr",
          "output_type": "stream",
          "text": [
            "WARNING:SAC-TrainExec:[HB] steps=14,000 | inst=6 sps | avg=7 sps | elapsed=35.2m | eta=105.3m\n",
            "WARNING:SAC-TrainExec:[HB] steps=15,000 | inst=6 sps | avg=7 sps | elapsed=38.1m | eta=102.7m\n",
            "WARNING:SAC-TrainExec:[HB] steps=16,000 | inst=6 sps | avg=7 sps | elapsed=41.0m | eta=98.4m\n",
            "WARNING:SAC-TrainExec:[HB] steps=17,000 | inst=6 sps | avg=6 sps | elapsed=43.9m | eta=95.4m\n",
            "WARNING:SAC-TrainExec:[HB] steps=18,000 | inst=6 sps | avg=6 sps | elapsed=46.8m | eta=92.3m\n",
            "WARNING:SAC-TrainExec:[HB] steps=19,000 | inst=6 sps | avg=6 sps | elapsed=49.7m | eta=90.1m\n",
            "WARNING:SAC-TrainExec:[HB] steps=20,000 | inst=6 sps | avg=6 sps | elapsed=52.6m | eta=86.8m\n"
          ]
        },
        {
          "name": "stdout",
          "output_type": "stream",
          "text": [
            "---------------------------------\n",
            "| time/              |          |\n",
            "|    episodes        | 12       |\n",
            "|    fps             | 6        |\n",
            "|    time_elapsed    | 3279     |\n",
            "|    total_timesteps | 20700    |\n",
            "| train/             |          |\n",
            "|    actor_loss      | -3.92    |\n",
            "|    critic_loss     | 0.000265 |\n",
            "|    ent_coef        | 0.000204 |\n",
            "|    ent_coef_loss   | 0.785    |\n",
            "|    learning_rate   | 0.0003   |\n",
            "|    n_updates       | 37398    |\n",
            "---------------------------------\n"
          ]
        },
        {
          "name": "stderr",
          "output_type": "stream",
          "text": [
            "WARNING:SAC-TrainExec:[HB] steps=21,000 | inst=6 sps | avg=6 sps | elapsed=55.5m | eta=85.3m\n",
            "WARNING:SAC-TrainExec:[HB] steps=22,000 | inst=6 sps | avg=6 sps | elapsed=58.5m | eta=83.0m\n",
            "WARNING:SAC-TrainExec:[HB] steps=23,000 | inst=6 sps | avg=6 sps | elapsed=61.5m | eta=80.3m\n",
            "WARNING:SAC-TrainExec:[HB] steps=24,000 | inst=6 sps | avg=6 sps | elapsed=64.4m | eta=76.6m\n",
            "WARNING:SAC-TrainExec:[HB] steps=25,000 | inst=6 sps | avg=6 sps | elapsed=67.3m | eta=73.3m\n",
            "WARNING:SAC-TrainExec:[HB] steps=26,000 | inst=6 sps | avg=6 sps | elapsed=70.3m | eta=70.2m\n",
            "WARNING:SAC-TrainExec:[HB] steps=27,000 | inst=6 sps | avg=6 sps | elapsed=73.2m | eta=67.5m\n"
          ]
        },
        {
          "name": "stdout",
          "output_type": "stream",
          "text": [
            "---------------------------------\n",
            "| time/              |          |\n",
            "|    episodes        | 16       |\n",
            "|    fps             | 6        |\n",
            "|    time_elapsed    | 4498     |\n",
            "|    total_timesteps | 27600    |\n",
            "| train/             |          |\n",
            "|    actor_loss      | -2.55    |\n",
            "|    critic_loss     | 7.55e-05 |\n",
            "|    ent_coef        | 0.000239 |\n",
            "|    ent_coef_loss   | -0.703   |\n",
            "|    learning_rate   | 0.0003   |\n",
            "|    n_updates       | 51198    |\n",
            "---------------------------------\n"
          ]
        },
        {
          "name": "stderr",
          "output_type": "stream",
          "text": [
            "WARNING:SAC-TrainExec:[HB] steps=28,000 | inst=6 sps | avg=6 sps | elapsed=76.2m | eta=65.1m\n",
            "WARNING:SAC-TrainExec:[HB] steps=29,000 | inst=6 sps | avg=6 sps | elapsed=79.1m | eta=62.3m\n",
            "WARNING:SAC-TrainExec:[HB] steps=30,000 | inst=6 sps | avg=6 sps | elapsed=82.1m | eta=59.0m\n",
            "WARNING:SAC-TrainExec:[HB] steps=31,000 | inst=6 sps | avg=6 sps | elapsed=85.0m | eta=55.9m\n",
            "WARNING:SAC-TrainExec:[HB] steps=32,000 | inst=5 sps | avg=6 sps | elapsed=88.1m | eta=54.8m\n",
            "WARNING:SAC-TrainExec:[HB] steps=33,000 | inst=5 sps | avg=6 sps | elapsed=91.2m | eta=52.5m\n",
            "WARNING:SAC-TrainExec:[HB] steps=34,000 | inst=5 sps | avg=6 sps | elapsed=94.3m | eta=50.6m\n"
          ]
        },
        {
          "name": "stdout",
          "output_type": "stream",
          "text": [
            "---------------------------------\n",
            "| time/              |          |\n",
            "|    episodes        | 20       |\n",
            "|    fps             | 5        |\n",
            "|    time_elapsed    | 5752     |\n",
            "|    total_timesteps | 34500    |\n",
            "| train/             |          |\n",
            "|    actor_loss      | -1.77    |\n",
            "|    critic_loss     | 2.87e-05 |\n",
            "|    ent_coef        | 0.000277 |\n",
            "|    ent_coef_loss   | -0.608   |\n",
            "|    learning_rate   | 0.0003   |\n",
            "|    n_updates       | 64998    |\n",
            "---------------------------------\n"
          ]
        },
        {
          "name": "stderr",
          "output_type": "stream",
          "text": [
            "WARNING:SAC-TrainExec:[HB] steps=35,000 | inst=5 sps | avg=6 sps | elapsed=97.4m | eta=46.9m\n",
            "WARNING:SAC-TrainExec:[HB] steps=36,000 | inst=5 sps | avg=6 sps | elapsed=100.6m | eta=44.6m\n",
            "WARNING:SAC-TrainExec:[HB] steps=37,000 | inst=5 sps | avg=6 sps | elapsed=103.7m | eta=40.6m\n",
            "WARNING:SAC-TrainExec:[HB] steps=38,000 | inst=5 sps | avg=6 sps | elapsed=106.9m | eta=38.0m\n",
            "WARNING:SAC-TrainExec:[HB] steps=39,000 | inst=5 sps | avg=6 sps | elapsed=110.0m | eta=34.4m\n",
            "WARNING:SAC-TrainExec:[HB] steps=40,000 | inst=5 sps | avg=6 sps | elapsed=113.2m | eta=31.5m\n",
            "WARNING:SAC-TrainExec:[HB] steps=41,000 | inst=5 sps | avg=6 sps | elapsed=116.4m | eta=28.6m\n"
          ]
        },
        {
          "name": "stdout",
          "output_type": "stream",
          "text": [
            "---------------------------------\n",
            "| time/              |          |\n",
            "|    episodes        | 24       |\n",
            "|    fps             | 5        |\n",
            "|    time_elapsed    | 7056     |\n",
            "|    total_timesteps | 41400    |\n",
            "| train/             |          |\n",
            "|    actor_loss      | -1.32    |\n",
            "|    critic_loss     | 2.31e-05 |\n",
            "|    ent_coef        | 0.000286 |\n",
            "|    ent_coef_loss   | 0.504    |\n",
            "|    learning_rate   | 0.0003   |\n",
            "|    n_updates       | 78798    |\n",
            "---------------------------------\n"
          ]
        },
        {
          "name": "stderr",
          "output_type": "stream",
          "text": [
            "WARNING:SAC-TrainExec:[HB] steps=42,000 | inst=5 sps | avg=6 sps | elapsed=119.5m | eta=25.2m\n",
            "WARNING:SAC-TrainExec:[HB] steps=43,000 | inst=5 sps | avg=6 sps | elapsed=122.7m | eta=22.5m\n",
            "WARNING:SAC-TrainExec:[HB] steps=44,000 | inst=5 sps | avg=6 sps | elapsed=125.9m | eta=19.0m\n",
            "WARNING:SAC-TrainExec:[HB] steps=45,000 | inst=5 sps | avg=6 sps | elapsed=129.1m | eta=16.1m\n",
            "WARNING:SAC-TrainExec:[HB] steps=46,000 | inst=5 sps | avg=6 sps | elapsed=132.3m | eta=12.6m\n",
            "WARNING:SAC-TrainExec:[HB] steps=47,000 | inst=5 sps | avg=6 sps | elapsed=135.4m | eta=9.5m\n",
            "WARNING:SAC-TrainExec:[HB] steps=48,000 | inst=5 sps | avg=6 sps | elapsed=138.6m | eta=6.4m\n"
          ]
        },
        {
          "name": "stdout",
          "output_type": "stream",
          "text": [
            "---------------------------------\n",
            "| time/              |          |\n",
            "|    episodes        | 28       |\n",
            "|    fps             | 5        |\n",
            "|    time_elapsed    | 8372     |\n",
            "|    total_timesteps | 48300    |\n",
            "| train/             |          |\n",
            "|    actor_loss      | -1.02    |\n",
            "|    critic_loss     | 2.27e-05 |\n",
            "|    ent_coef        | 0.000276 |\n",
            "|    ent_coef_loss   | 0.713    |\n",
            "|    learning_rate   | 0.0003   |\n",
            "|    n_updates       | 92598    |\n",
            "---------------------------------\n"
          ]
        },
        {
          "name": "stderr",
          "output_type": "stream",
          "text": [
            "WARNING:SAC-TrainExec:[HB] steps=49,000 | inst=5 sps | avg=6 sps | elapsed=141.7m | eta=3.1m\n",
            "WARNING:SAC-TrainExec:[HB] steps=50,000 | inst=5 sps | avg=6 sps | elapsed=145.0m | eta=0.0m\n"
          ]
        },
        {
          "name": "stdout",
          "output_type": "stream",
          "text": [
            "[SaveVecNorm] saved -> /content/drive/MyDrive/Results_May_2025/results_sac_walkforward/vecnorms/AAPL_ws24_vecnorm.pkl\n"
          ]
        },
        {
          "name": "stderr",
          "output_type": "stream",
          "text": [
            "WARNING:SAC-TrainExec:AAPL summary → best WS=24 | Sharpe=2.329 | Final=132945.64 | B&H=105454.94 | MaxDD=-0.1812 | Trades=309 | Hit=0.337\n",
            "WARNING:SAC-TrainExec:Artifacts: /content/drive/MyDrive/Results_May_2025/results_sac_walkforward/AAPL_sac_ws_sweep_summary.csv | /content/drive/MyDrive/Results_May_2025/results_sac_walkforward/AAPL_sac_ws_sweep_summary.json\n",
            "WARNING:SAC-TrainExec:▶ [2/3] Processing NVDA | candidate windows=[12, 16, 24]\n",
            "WARNING:SAC-TrainExec:---------------------------------------------------------------\n",
            "WARNING:SAC-TrainExec:   • NVDA: WS 1/3 = 12\n"
          ]
        },
        {
          "name": "stdout",
          "output_type": "stream",
          "text": [
            "Using cpu device\n"
          ]
        },
        {
          "name": "stderr",
          "output_type": "stream",
          "text": [
            "WARNING:SAC-TrainExec:[HB] steps=1,000 | inst=148 sps | avg=148 sps | elapsed=0.1m | eta=5.5m\n",
            "WARNING:SAC-TrainExec:[HB] steps=2,000 | inst=652 sps | avg=242 sps | elapsed=0.1m | eta=1.2m\n",
            "WARNING:SAC-TrainExec:[HB] steps=3,000 | inst=9 sps | avg=24 sps | elapsed=2.1m | eta=92.0m\n",
            "WARNING:SAC-TrainExec:[HB] steps=4,000 | inst=8 sps | avg=16 sps | elapsed=4.1m | eta=92.9m\n",
            "WARNING:SAC-TrainExec:[HB] steps=5,000 | inst=8 sps | avg=14 sps | elapsed=6.2m | eta=92.1m\n",
            "WARNING:SAC-TrainExec:[HB] steps=6,000 | inst=8 sps | avg=12 sps | elapsed=8.2m | eta=89.1m\n"
          ]
        },
        {
          "name": "stdout",
          "output_type": "stream",
          "text": [
            "---------------------------------\n",
            "| time/              |          |\n",
            "|    episodes        | 4        |\n",
            "|    fps             | 11       |\n",
            "|    time_elapsed    | 605      |\n",
            "|    total_timesteps | 6948     |\n",
            "| train/             |          |\n",
            "|    actor_loss      | -8.2     |\n",
            "|    critic_loss     | 0.000924 |\n",
            "|    ent_coef        | 0.0514   |\n",
            "|    ent_coef_loss   | -5.01    |\n",
            "|    learning_rate   | 0.0003   |\n",
            "|    n_updates       | 9894     |\n",
            "---------------------------------\n"
          ]
        },
        {
          "name": "stderr",
          "output_type": "stream",
          "text": [
            "WARNING:SAC-TrainExec:[HB] steps=7,000 | inst=8 sps | avg=11 sps | elapsed=10.2m | eta=87.0m\n",
            "WARNING:SAC-TrainExec:[HB] steps=8,000 | inst=8 sps | avg=11 sps | elapsed=12.3m | eta=86.3m\n",
            "WARNING:SAC-TrainExec:[HB] steps=9,000 | inst=8 sps | avg=11 sps | elapsed=14.3m | eta=82.6m\n",
            "WARNING:SAC-TrainExec:[HB] steps=10,000 | inst=8 sps | avg=10 sps | elapsed=16.3m | eta=80.0m\n",
            "WARNING:SAC-TrainExec:[HB] steps=11,000 | inst=8 sps | avg=10 sps | elapsed=18.3m | eta=77.1m\n",
            "WARNING:SAC-TrainExec:[HB] steps=12,000 | inst=8 sps | avg=10 sps | elapsed=20.2m | eta=75.0m\n",
            "WARNING:SAC-TrainExec:[HB] steps=13,000 | inst=8 sps | avg=10 sps | elapsed=22.2m | eta=73.1m\n"
          ]
        },
        {
          "name": "stdout",
          "output_type": "stream",
          "text": [
            "---------------------------------\n",
            "| time/              |          |\n",
            "|    episodes        | 8        |\n",
            "|    fps             | 9        |\n",
            "|    time_elapsed    | 1440     |\n",
            "|    total_timesteps | 13896    |\n",
            "| train/             |          |\n",
            "|    actor_loss      | -5.72    |\n",
            "|    critic_loss     | 0.000573 |\n",
            "|    ent_coef        | 0.000923 |\n",
            "|    ent_coef_loss   | -6.61    |\n",
            "|    learning_rate   | 0.0003   |\n",
            "|    n_updates       | 23790    |\n",
            "---------------------------------\n"
          ]
        },
        {
          "name": "stderr",
          "output_type": "stream",
          "text": [
            "WARNING:SAC-TrainExec:[HB] steps=14,000 | inst=8 sps | avg=10 sps | elapsed=24.2m | eta=72.2m\n",
            "WARNING:SAC-TrainExec:[HB] steps=15,000 | inst=8 sps | avg=10 sps | elapsed=26.2m | eta=69.2m\n",
            "WARNING:SAC-TrainExec:[HB] steps=16,000 | inst=8 sps | avg=9 sps | elapsed=28.2m | eta=67.1m\n",
            "WARNING:SAC-TrainExec:[HB] steps=17,000 | inst=8 sps | avg=9 sps | elapsed=30.1m | eta=65.3m\n",
            "WARNING:SAC-TrainExec:[HB] steps=18,000 | inst=8 sps | avg=9 sps | elapsed=32.2m | eta=65.0m\n",
            "WARNING:SAC-TrainExec:[HB] steps=19,000 | inst=8 sps | avg=9 sps | elapsed=34.2m | eta=63.7m\n",
            "WARNING:SAC-TrainExec:[HB] steps=20,000 | inst=8 sps | avg=9 sps | elapsed=36.3m | eta=62.2m\n"
          ]
        },
        {
          "name": "stdout",
          "output_type": "stream",
          "text": [
            "---------------------------------\n",
            "| time/              |          |\n",
            "|    episodes        | 12       |\n",
            "|    fps             | 9        |\n",
            "|    time_elapsed    | 2279     |\n",
            "|    total_timesteps | 20844    |\n",
            "| train/             |          |\n",
            "|    actor_loss      | -3.88    |\n",
            "|    critic_loss     | 0.000399 |\n",
            "|    ent_coef        | 0.00063  |\n",
            "|    ent_coef_loss   | -0.372   |\n",
            "|    learning_rate   | 0.0003   |\n",
            "|    n_updates       | 37686    |\n",
            "---------------------------------\n"
          ]
        },
        {
          "name": "stderr",
          "output_type": "stream",
          "text": [
            "WARNING:SAC-TrainExec:[HB] steps=21,000 | inst=8 sps | avg=9 sps | elapsed=38.3m | eta=58.1m\n",
            "WARNING:SAC-TrainExec:[HB] steps=22,000 | inst=8 sps | avg=9 sps | elapsed=40.3m | eta=56.2m\n",
            "WARNING:SAC-TrainExec:[HB] steps=23,000 | inst=8 sps | avg=9 sps | elapsed=42.4m | eta=55.2m\n",
            "WARNING:SAC-TrainExec:[HB] steps=24,000 | inst=8 sps | avg=9 sps | elapsed=44.4m | eta=52.2m\n",
            "WARNING:SAC-TrainExec:[HB] steps=25,000 | inst=8 sps | avg=9 sps | elapsed=46.4m | eta=50.2m\n",
            "WARNING:SAC-TrainExec:[HB] steps=26,000 | inst=8 sps | avg=9 sps | elapsed=48.4m | eta=48.4m\n",
            "WARNING:SAC-TrainExec:[HB] steps=27,000 | inst=8 sps | avg=9 sps | elapsed=50.4m | eta=46.8m\n"
          ]
        },
        {
          "name": "stdout",
          "output_type": "stream",
          "text": [
            "---------------------------------\n",
            "| time/              |          |\n",
            "|    episodes        | 16       |\n",
            "|    fps             | 8        |\n",
            "|    time_elapsed    | 3120     |\n",
            "|    total_timesteps | 27792    |\n",
            "| train/             |          |\n",
            "|    actor_loss      | -2.75    |\n",
            "|    critic_loss     | 0.000391 |\n",
            "|    ent_coef        | 0.000787 |\n",
            "|    ent_coef_loss   | -0.539   |\n",
            "|    learning_rate   | 0.0003   |\n",
            "|    n_updates       | 51582    |\n",
            "---------------------------------\n"
          ]
        },
        {
          "name": "stderr",
          "output_type": "stream",
          "text": [
            "WARNING:SAC-TrainExec:[HB] steps=28,000 | inst=8 sps | avg=9 sps | elapsed=52.4m | eta=44.1m\n",
            "WARNING:SAC-TrainExec:[HB] steps=29,000 | inst=8 sps | avg=9 sps | elapsed=54.4m | eta=42.0m\n",
            "WARNING:SAC-TrainExec:[HB] steps=30,000 | inst=8 sps | avg=9 sps | elapsed=56.4m | eta=40.1m\n",
            "WARNING:SAC-TrainExec:[HB] steps=31,000 | inst=8 sps | avg=9 sps | elapsed=58.4m | eta=38.3m\n",
            "WARNING:SAC-TrainExec:[HB] steps=32,000 | inst=8 sps | avg=9 sps | elapsed=60.5m | eta=36.1m\n",
            "WARNING:SAC-TrainExec:[HB] steps=33,000 | inst=8 sps | avg=9 sps | elapsed=62.4m | eta=34.0m\n",
            "WARNING:SAC-TrainExec:[HB] steps=34,000 | inst=8 sps | avg=9 sps | elapsed=64.5m | eta=32.7m\n"
          ]
        },
        {
          "name": "stdout",
          "output_type": "stream",
          "text": [
            "---------------------------------\n",
            "| time/              |          |\n",
            "|    episodes        | 20       |\n",
            "|    fps             | 8        |\n",
            "|    time_elapsed    | 3960     |\n",
            "|    total_timesteps | 34740    |\n",
            "| train/             |          |\n",
            "|    actor_loss      | -2.1     |\n",
            "|    critic_loss     | 9.18e-05 |\n",
            "|    ent_coef        | 0.000765 |\n",
            "|    ent_coef_loss   | 0.363    |\n",
            "|    learning_rate   | 0.0003   |\n",
            "|    n_updates       | 65478    |\n",
            "---------------------------------\n"
          ]
        },
        {
          "name": "stderr",
          "output_type": "stream",
          "text": [
            "WARNING:SAC-TrainExec:[HB] steps=35,000 | inst=8 sps | avg=9 sps | elapsed=66.5m | eta=30.7m\n",
            "WARNING:SAC-TrainExec:[HB] steps=36,000 | inst=8 sps | avg=9 sps | elapsed=68.6m | eta=28.9m\n",
            "WARNING:SAC-TrainExec:[HB] steps=37,000 | inst=8 sps | avg=9 sps | elapsed=70.7m | eta=27.1m\n",
            "WARNING:SAC-TrainExec:[HB] steps=38,000 | inst=8 sps | avg=9 sps | elapsed=72.8m | eta=25.3m\n",
            "WARNING:SAC-TrainExec:[HB] steps=39,000 | inst=8 sps | avg=9 sps | elapsed=74.9m | eta=23.2m\n",
            "WARNING:SAC-TrainExec:[HB] steps=40,000 | inst=8 sps | avg=9 sps | elapsed=77.0m | eta=20.9m\n",
            "WARNING:SAC-TrainExec:[HB] steps=41,000 | inst=8 sps | avg=9 sps | elapsed=79.1m | eta=18.8m\n"
          ]
        },
        {
          "name": "stdout",
          "output_type": "stream",
          "text": [
            "---------------------------------\n",
            "| time/              |          |\n",
            "|    episodes        | 24       |\n",
            "|    fps             | 8        |\n",
            "|    time_elapsed    | 4831     |\n",
            "|    total_timesteps | 41688    |\n",
            "| train/             |          |\n",
            "|    actor_loss      | -1.69    |\n",
            "|    critic_loss     | 6.05e-05 |\n",
            "|    ent_coef        | 0.000694 |\n",
            "|    ent_coef_loss   | 0.847    |\n",
            "|    learning_rate   | 0.0003   |\n",
            "|    n_updates       | 79374    |\n",
            "---------------------------------\n"
          ]
        },
        {
          "name": "stderr",
          "output_type": "stream",
          "text": [
            "WARNING:SAC-TrainExec:[HB] steps=42,000 | inst=8 sps | avg=9 sps | elapsed=81.2m | eta=16.8m\n",
            "WARNING:SAC-TrainExec:[HB] steps=43,000 | inst=8 sps | avg=9 sps | elapsed=83.3m | eta=15.2m\n",
            "WARNING:SAC-TrainExec:[HB] steps=44,000 | inst=8 sps | avg=9 sps | elapsed=85.5m | eta=12.7m\n",
            "WARNING:SAC-TrainExec:[HB] steps=45,000 | inst=8 sps | avg=9 sps | elapsed=87.6m | eta=10.5m\n",
            "WARNING:SAC-TrainExec:[HB] steps=46,000 | inst=8 sps | avg=9 sps | elapsed=89.7m | eta=8.5m\n",
            "WARNING:SAC-TrainExec:[HB] steps=47,000 | inst=8 sps | avg=9 sps | elapsed=91.8m | eta=6.4m\n",
            "WARNING:SAC-TrainExec:[HB] steps=48,000 | inst=8 sps | avg=9 sps | elapsed=93.9m | eta=4.2m\n"
          ]
        },
        {
          "name": "stdout",
          "output_type": "stream",
          "text": [
            "---------------------------------\n",
            "| time/              |          |\n",
            "|    episodes        | 28       |\n",
            "|    fps             | 8        |\n",
            "|    time_elapsed    | 5715     |\n",
            "|    total_timesteps | 48636    |\n",
            "| train/             |          |\n",
            "|    actor_loss      | -1.5     |\n",
            "|    critic_loss     | 3.85e-05 |\n",
            "|    ent_coef        | 0.000565 |\n",
            "|    ent_coef_loss   | -0.204   |\n",
            "|    learning_rate   | 0.0003   |\n",
            "|    n_updates       | 93270    |\n",
            "---------------------------------\n"
          ]
        },
        {
          "name": "stderr",
          "output_type": "stream",
          "text": [
            "WARNING:SAC-TrainExec:[HB] steps=49,000 | inst=8 sps | avg=9 sps | elapsed=96.0m | eta=2.1m\n",
            "WARNING:SAC-TrainExec:[HB] steps=50,000 | inst=8 sps | avg=8 sps | elapsed=98.2m | eta=0.0m\n"
          ]
        },
        {
          "name": "stdout",
          "output_type": "stream",
          "text": [
            "[SaveVecNorm] saved -> /content/drive/MyDrive/Results_May_2025/results_sac_walkforward/vecnorms/NVDA_ws12_vecnorm.pkl\n"
          ]
        },
        {
          "name": "stderr",
          "output_type": "stream",
          "text": [
            "WARNING:SAC-TrainExec:   • NVDA: WS 2/3 = 16\n"
          ]
        },
        {
          "name": "stdout",
          "output_type": "stream",
          "text": [
            "Using cpu device\n"
          ]
        },
        {
          "name": "stderr",
          "output_type": "stream",
          "text": [
            "WARNING:SAC-TrainExec:[HB] steps=1,000 | inst=1,223 sps | avg=1,223 sps | elapsed=0.0m | eta=0.7m\n",
            "WARNING:SAC-TrainExec:[HB] steps=2,000 | inst=1,293 sps | avg=1,257 sps | elapsed=0.0m | eta=0.6m\n",
            "WARNING:SAC-TrainExec:[HB] steps=3,000 | inst=7 sps | avg=21 sps | elapsed=2.4m | eta=112.6m\n",
            "WARNING:SAC-TrainExec:[HB] steps=4,000 | inst=7 sps | avg=14 sps | elapsed=4.7m | eta=105.7m\n",
            "WARNING:SAC-TrainExec:[HB] steps=5,000 | inst=7 sps | avg=12 sps | elapsed=7.0m | eta=103.4m\n",
            "WARNING:SAC-TrainExec:[HB] steps=6,000 | inst=7 sps | avg=11 sps | elapsed=9.3m | eta=101.0m\n"
          ]
        },
        {
          "name": "stdout",
          "output_type": "stream",
          "text": [
            "---------------------------------\n",
            "| time/              |          |\n",
            "|    episodes        | 4        |\n",
            "|    fps             | 10       |\n",
            "|    time_elapsed    | 687      |\n",
            "|    total_timesteps | 6932     |\n",
            "| train/             |          |\n",
            "|    actor_loss      | -8.27    |\n",
            "|    critic_loss     | 0.00117  |\n",
            "|    ent_coef        | 0.0519   |\n",
            "|    ent_coef_loss   | -5       |\n",
            "|    learning_rate   | 0.0003   |\n",
            "|    n_updates       | 9862     |\n",
            "---------------------------------\n"
          ]
        },
        {
          "name": "stderr",
          "output_type": "stream",
          "text": [
            "WARNING:SAC-TrainExec:[HB] steps=7,000 | inst=7 sps | avg=10 sps | elapsed=11.6m | eta=98.4m\n",
            "WARNING:SAC-TrainExec:[HB] steps=8,000 | inst=7 sps | avg=10 sps | elapsed=13.9m | eta=96.7m\n",
            "WARNING:SAC-TrainExec:[HB] steps=9,000 | inst=7 sps | avg=9 sps | elapsed=16.2m | eta=95.9m\n",
            "WARNING:SAC-TrainExec:[HB] steps=10,000 | inst=6 sps | avg=9 sps | elapsed=18.8m | eta=103.4m\n",
            "WARNING:SAC-TrainExec:[HB] steps=11,000 | inst=7 sps | avg=9 sps | elapsed=21.3m | eta=96.8m\n",
            "WARNING:SAC-TrainExec:[HB] steps=12,000 | inst=7 sps | avg=8 sps | elapsed=23.7m | eta=90.8m\n",
            "WARNING:SAC-TrainExec:[HB] steps=13,000 | inst=7 sps | avg=8 sps | elapsed=26.1m | eta=87.4m\n"
          ]
        },
        {
          "name": "stdout",
          "output_type": "stream",
          "text": [
            "---------------------------------\n",
            "| time/              |          |\n",
            "|    episodes        | 8        |\n",
            "|    fps             | 8        |\n",
            "|    time_elapsed    | 1687     |\n",
            "|    total_timesteps | 13864    |\n",
            "| train/             |          |\n",
            "|    actor_loss      | -5.91    |\n",
            "|    critic_loss     | 0.000712 |\n",
            "|    ent_coef        | 0.000952 |\n",
            "|    ent_coef_loss   | -5.44    |\n",
            "|    learning_rate   | 0.0003   |\n",
            "|    n_updates       | 23726    |\n",
            "---------------------------------\n"
          ]
        },
        {
          "name": "stderr",
          "output_type": "stream",
          "text": [
            "WARNING:SAC-TrainExec:[HB] steps=14,000 | inst=7 sps | avg=8 sps | elapsed=28.5m | eta=87.0m\n",
            "WARNING:SAC-TrainExec:[HB] steps=15,000 | inst=7 sps | avg=8 sps | elapsed=30.9m | eta=83.6m\n",
            "WARNING:SAC-TrainExec:[HB] steps=16,000 | inst=7 sps | avg=8 sps | elapsed=33.2m | eta=80.7m\n",
            "WARNING:SAC-TrainExec:[HB] steps=17,000 | inst=7 sps | avg=8 sps | elapsed=35.6m | eta=78.1m\n",
            "WARNING:SAC-TrainExec:[HB] steps=18,000 | inst=7 sps | avg=8 sps | elapsed=38.0m | eta=75.0m\n",
            "WARNING:SAC-TrainExec:[HB] steps=19,000 | inst=7 sps | avg=8 sps | elapsed=40.3m | eta=71.8m\n",
            "WARNING:SAC-TrainExec:[HB] steps=20,000 | inst=7 sps | avg=8 sps | elapsed=42.6m | eta=71.1m\n"
          ]
        },
        {
          "name": "stdout",
          "output_type": "stream",
          "text": [
            "---------------------------------\n",
            "| time/              |          |\n",
            "|    episodes        | 12       |\n",
            "|    fps             | 7        |\n",
            "|    time_elapsed    | 2674     |\n",
            "|    total_timesteps | 20796    |\n",
            "| train/             |          |\n",
            "|    actor_loss      | -3.97    |\n",
            "|    critic_loss     | 0.000316 |\n",
            "|    ent_coef        | 0.00072  |\n",
            "|    ent_coef_loss   | 1.13     |\n",
            "|    learning_rate   | 0.0003   |\n",
            "|    n_updates       | 37590    |\n",
            "---------------------------------\n"
          ]
        },
        {
          "name": "stderr",
          "output_type": "stream",
          "text": [
            "WARNING:SAC-TrainExec:[HB] steps=21,000 | inst=7 sps | avg=8 sps | elapsed=45.1m | eta=70.4m\n",
            "WARNING:SAC-TrainExec:[HB] steps=22,000 | inst=7 sps | avg=8 sps | elapsed=47.4m | eta=66.4m\n",
            "WARNING:SAC-TrainExec:[HB] steps=23,000 | inst=7 sps | avg=8 sps | elapsed=49.8m | eta=63.1m\n",
            "WARNING:SAC-TrainExec:[HB] steps=24,000 | inst=7 sps | avg=8 sps | elapsed=52.1m | eta=60.7m\n",
            "WARNING:SAC-TrainExec:[HB] steps=25,000 | inst=7 sps | avg=8 sps | elapsed=54.4m | eta=58.5m\n"
          ]
        }
      ],
      "source": [
        "# --- strict determinism block (very top) ---\n",
        "import os, sys, random, logging\n",
        "\n",
        "# Modes\n",
        "TEST_MODE = os.getenv(\"TEST_MODE\", \"1\").lower() not in (\"0\", \"false\", \"no\")\n",
        "FAST_TEST = os.getenv(\"FAST_TEST\", \"0\").lower() in (\"1\", \"true\", \"yes\")\n",
        "RELAX_CPU_THREADS = TEST_MODE and os.getenv(\"RELAX_CPU_THREADS\", \"0\").lower() in (\"1\", \"true\", \"yes\")\n",
        "\n",
        "# Determinism knobs (must be set before importing numpy/torch)\n",
        "os.environ[\"PYTHONHASHSEED\"] = \"42\"\n",
        "os.environ[\"CUBLAS_WORKSPACE_CONFIG\"] = \":16:8\"  # cuBLAS determinism (Ampere+)\n",
        "\n",
        "# CPU threading policy (assign so we truly override)\n",
        "_thr = str(min(4, (os.cpu_count() or 4)))\n",
        "for k in (\"OMP_NUM_THREADS\", \"MKL_NUM_THREADS\", \"OPENBLAS_NUM_THREADS\", \"NUMEXPR_NUM_THREADS\"):\n",
        "    os.environ[k] = _thr if RELAX_CPU_THREADS else \"1\"\n",
        "\n",
        "# Logging\n",
        "LOG_LEVEL = os.getenv(\"LOG_LEVEL\", \"INFO\").upper()\n",
        "logging.basicConfig(\n",
        "    level=getattr(logging, LOG_LEVEL, logging.INFO),\n",
        "    format=\":%(asctime)s | %(levelname)s | %(name)s | %(message)s\",\n",
        "    handlers=[logging.StreamHandler(sys.stdout), logging.FileHandler(\"sac_run.log\", mode=\"a\")],\n",
        ")\n",
        "log = logging.getLogger(\"SAC-TrainExec\")\n",
        "\n",
        "import numpy as np\n",
        "import torch\n",
        "\n",
        "# Torch thread caps (respect env above)\n",
        "try:\n",
        "    torch.set_num_interop_threads(1)\n",
        "    torch.set_num_threads(int(os.environ.get(\"OMP_NUM_THREADS\", \"1\")))\n",
        "except Exception:\n",
        "    pass\n",
        "\n",
        "# Seeds\n",
        "SEED = 42\n",
        "random.seed(SEED)\n",
        "np.random.seed(SEED)\n",
        "torch.manual_seed(SEED)\n",
        "if torch.cuda.is_available():\n",
        "    torch.cuda.manual_seed_all(SEED)\n",
        "    torch.backends.cuda.matmul.allow_tf32 = False  # avoid non-deterministic TF32\n",
        "    torch.backends.cudnn.allow_tf32 = False\n",
        "\n",
        "# Deterministic backends\n",
        "torch.backends.cudnn.deterministic = True\n",
        "torch.backends.cudnn.benchmark = False\n",
        "try:\n",
        "    torch.use_deterministic_algorithms(True)\n",
        "except Exception as e:\n",
        "    # Some ops/hardware combos may not support full determinism; continue safely.\n",
        "    log.warning(\"Could not force full deterministic algorithms: %s\", e)\n",
        "\n",
        "# ---- libs (no yfinance / no feature-building here) ----\n",
        "import gc, time, json, re, warnings, heapq, glob\n",
        "import pandas as pd\n",
        "from pathlib import Path\n",
        "from datetime import datetime, timedelta, timezone\n",
        "from shutil import copyfile\n",
        "from math import isfinite\n",
        "from collections import defaultdict\n",
        "\n",
        "# gymnasium + SB3\n",
        "import gymnasium as gym\n",
        "from gymnasium.spaces import Box\n",
        "from stable_baselines3 import SAC\n",
        "from stable_baselines3.common.vec_env import DummyVecEnv, VecNormalize\n",
        "from stable_baselines3.common.monitor import Monitor\n",
        "from stable_baselines3.common.callbacks import (\n",
        "    EvalCallback, StopTrainingOnNoModelImprovement, CheckpointCallback, CallbackList, BaseCallback\n",
        ")\n",
        "from stable_baselines3.common.utils import set_random_seed\n",
        "\n",
        "warnings.filterwarnings(\"ignore\", message=\".*Gym has been unmaintained.*\")\n",
        "warnings.filterwarnings(\"ignore\", category=DeprecationWarning, module=\"jupyter_client.session\")\n",
        "set_random_seed(SEED)\n",
        "\n",
        "# ========= Paths =========\n",
        "DRIVE_BASE  = os.getenv(\"DRIVE_BASE\", \"/content/drive/MyDrive\")  # no auto-mount here\n",
        "BASE_DIR    = \"./sac_parity\"\n",
        "RESULTS_DIR = os.path.join(DRIVE_BASE, \"Results_May_2025\", \"results_sac_walkforward\")\n",
        "SAVE_DIR    = os.path.join(RESULTS_DIR, \"models_sac\")\n",
        "for p in [BASE_DIR, RESULTS_DIR, SAVE_DIR]:\n",
        "    os.makedirs(p, exist_ok=True)\n",
        "for sub in [\"scalers\", \"features\", \"signals\", \"plots\", \"vecnorms\", \"tmp\", \"model_info\", \"best\"]:\n",
        "    os.makedirs(os.path.join(RESULTS_DIR, sub), exist_ok=True)\n",
        "\n",
        "# Canonical CSV locations (must already exist, built by data-prep script)\n",
        "FEATURE_CSV_RESULTS = os.path.join(RESULTS_DIR, \"multi_stock_feature_engineered_dataset.csv\")\n",
        "FEATURE_CSV_DRIVE   = os.path.join(DRIVE_BASE, \"trading_data\", \"multi_stock_feature_engineered_dataset.csv\")\n",
        "FEATURE_CSV_LOCAL   = \"multi_stock_feature_engineered_dataset.csv\"\n",
        "\n",
        "# ========= Data: strict read-only load =========\n",
        "CANDIDATES_DATA = [FEATURE_CSV_LOCAL, FEATURE_CSV_RESULTS, FEATURE_CSV_DRIVE]\n",
        "DATA_PATH = next((p for p in CANDIDATES_DATA if os.path.exists(p)), None)\n",
        "\n",
        "if DATA_PATH is None:\n",
        "    log.warning(\"Dataset CSV not found in %s; attempting to build it now...\", CANDIDATES_DATA)\n",
        "    build_features = None\n",
        "\n",
        "    # Try to import from your download/feature-build module if it's a separate file.\n",
        "    try:\n",
        "        from download_fe import build_features as _bf, FEATURE_CSV_LOCAL as _F_LOCAL\n",
        "        build_features = _bf\n",
        "        FEATURE_CSV_LOCAL = _F_LOCAL  # keep paths consistent with the builder, if different\n",
        "        log.info(\"Imported build_features() from download_fe.py\")\n",
        "    except Exception:\n",
        "        # Fall back to a global if you executed the combined, single-script version in the same runtime.\n",
        "        build_features = globals().get(\"build_features\", None)\n",
        "        if build_features:\n",
        "            log.info(\"Using build_features() found in current runtime (combined script).\")\n",
        "\n",
        "    if build_features is None:\n",
        "        raise FileNotFoundError(\n",
        "            \"Prebuilt dataset CSV not found and build_features() is unavailable.\\n\"\n",
        "            \"→ Run the Download + Feature Build script first OR ensure `from download_fe import build_features` works.\"\n",
        "        )\n",
        "\n",
        "    built_df = build_features()\n",
        "    built_df.to_csv(FEATURE_CSV_LOCAL, index=False)\n",
        "    DATA_PATH = FEATURE_CSV_LOCAL\n",
        "    log.info(\"Rebuilt dataset → %s\", DATA_PATH)\n",
        "\n",
        "log.info(\"Using dataset: %s\", DATA_PATH)\n",
        "df = pd.read_csv(DATA_PATH)\n",
        "\n",
        "if \"Datetime\" not in df.columns or \"Symbol\" not in df.columns or \"Close\" not in df.columns:\n",
        "    raise ValueError(\"Dataset must contain at least ['Datetime','Symbol','Close'] plus numeric features.\")\n",
        "\n",
        "df[\"Datetime\"] = pd.to_datetime(df[\"Datetime\"], utc=True)\n",
        "\n",
        "# Identify numeric feature columns (observations exclude Symbol/Datetime/Close)\n",
        "feature_cols = [\n",
        "    c for c in df.columns\n",
        "    if c not in [\"Symbol\", \"Datetime\", \"Close\"] and pd.api.types.is_numeric_dtype(df[c])\n",
        "]\n",
        "if not feature_cols:\n",
        "    raise ValueError(\"No numeric feature columns found for observations.\")\n",
        "log.info(\"Feature columns detected: %d\", len(feature_cols))\n",
        "\n",
        "# ========= SAC / Env toggles =========\n",
        "device = torch.device(\"cuda\" if torch.cuda.is_available() else \"cpu\")\n",
        "policy_kwargs = dict(net_arch=[256, 256])\n",
        "\n",
        "\n",
        "LONG_ONLY      = True  # set False to allow shorts again\n",
        "ENABLE_PLOTS   = False\n",
        "ENABLE_SLO     = True     # SL/TP + cooldown in env\n",
        "LIVE_MODE      = False    # (no live helpers in this script)\n",
        "SIM_LATENCY_MS = 0\n",
        "BROKER         = \"log\"\n",
        "USE_REGIME_TRAIN = False  # (no feature-building here—left for compatibility flags)\n",
        "USE_SENTIMENT_TRAIN = False\n",
        "ENABLE_WAVELET_TRAIN = False\n",
        "\n",
        "# Risk controls & hygiene\n",
        "DEAD_BAND        = 0.002\n",
        "MIN_TRADE_DELTA  = 0.001\n",
        "STOP_LOSS_PCT    = 0.04\n",
        "TAKE_PROFIT_PCT  = 0.08\n",
        "COOLDOWN_STEPS   = 3\n",
        "\n",
        "# Reward shaping\n",
        "ENABLE_WHIPSAW_PENALTY   = True\n",
        "WHIPSAW_PENALTY          = 5e-05\n",
        "ENABLE_COOLDOWN_PENALTY  = True\n",
        "COOLDOWN_STEP_PENALTY    = 0.0\n",
        "CARRY_WEIGHT = 0.04  # 0.02–0.05\n",
        "IDLE_PENALTY = 1e-4\n",
        "\n",
        "MAX_EXPOSURE    = 2.0\n",
        "COMMISSION_BPS  = 0.5\n",
        "SLIPPAGE_BPS    = 1.0\n",
        "INITIAL_CAPITAL = 100_000.0\n",
        "\n",
        "# Window sweep / schedule\n",
        "CANDIDATE_WS   = [12, 16, 24]\n",
        "TOP_N_WINDOWS  = 1 if TEST_MODE else 3\n",
        "FORCE_RETRAIN  = os.getenv(\"FORCE_RETRAIN\", \"0\").lower() in (\"1\",\"true\",\"yes\")\n",
        "\n",
        "\n",
        "LOG_TRADES_TRAIN  = False\n",
        "LOG_TRADES_EVALCB = False\n",
        "LOG_TRADES_FINAL  = False\n",
        "\n",
        "# Checkpointing\n",
        "CKPT_FREQ_STEPS = int(os.getenv(\"CKPT_FREQ_STEPS\", \"50000\"))  # save every N env steps\n",
        "CKPT_DIR_ROOT   = os.path.join(RESULTS_DIR, \"ckpts\")\n",
        "os.makedirs(CKPT_DIR_ROOT, exist_ok=True)\n",
        "\n",
        "\n",
        "# Base train steps (adjusted below for TEST_MODE/FAST_TEST)\n",
        "TRAIN_TOTAL_STEPS = 50_000\n",
        "MIN_TRAIN_STEPS = 1000\n",
        "\n",
        "FAST = dict(\n",
        "    learning_rate=3e-4, batch_size=256, train_freq=1, gradient_steps=2,\n",
        "    gamma=0.995, tau=0.005, target_update_interval=1, ent_coef=\"auto\",\n",
        "    buffer_size=int(1e6), learning_starts=2_000,\n",
        ")\n",
        "SLOW = dict(\n",
        "    learning_rate=1e-4, batch_size=512, train_freq=4, gradient_steps=2,\n",
        "    gamma=0.997, tau=0.005, target_update_interval=2, ent_coef=\"auto\",\n",
        "    buffer_size=int(2e6), learning_starts=4_000,\n",
        ")\n",
        "\n",
        "# === Modes / flags ===\n",
        "# Base from env\n",
        "USE_EVAL_CALLBACK = os.getenv(\"USE_EVAL_CALLBACK\", \"0\").lower() in (\"1\", \"true\", \"yes\")\n",
        "\n",
        "# Precedence: FAST_TEST forces ON, TEST_MODE forces OFF, otherwise env decides\n",
        "if FAST_TEST:\n",
        "    USE_EVAL_CALLBACK = True\n",
        "elif TEST_MODE:\n",
        "    USE_EVAL_CALLBACK = False\n",
        "\n",
        "# Optional: quick sanity print\n",
        "log.info(f\"Flags → TEST_MODE={TEST_MODE} | FAST_TEST={FAST_TEST} | USE_EVAL_CALLBACK={USE_EVAL_CALLBACK}\")\n",
        "\n",
        "if FAST_TEST:\n",
        "    CANDIDATE_WS  = [10]\n",
        "    TOP_N_WINDOWS = 1\n",
        "    MIN_TRAIN_STEPS = 1000\n",
        "    FAST[\"buffer_size\"] = 50_000; FAST[\"batch_size\"] = 128\n",
        "    SLOW[\"buffer_size\"] = 50_000; SLOW[\"batch_size\"] = 128\n",
        "    LOG_TRADES_FINAL = False\n",
        "\n",
        "# ========= Universe bookkeeping =========\n",
        "symbols_all = sorted({str(s).upper() for s in df[\"Symbol\"].unique()})\n",
        "fast_names = {\n",
        "    \"TSLA\",\"NVDA\",\"AMD\",\"AVGO\",\"AAPL\",\"MSFT\",\"AMZN\",\"GOOGL\",\"META\",\"ADBE\",\"CRM\",\n",
        "    \"INTC\",\"QCOM\",\"TXN\",\"ORCL\",\"NEE\",\"GE\",\"XOM\",\"CVX\",\"LLY\",\"NKE\",\"SBUX\"\n",
        "}\n",
        "slow_names = {\n",
        "    \"BRK-B\",\"JPM\",\"BAC\",\"JNJ\",\"UNH\",\"MRK\",\"PFE\",\"ABBV\",\"ABT\",\"AMGN\",\"PG\",\"PEP\",\"KO\",\n",
        "    \"V\",\"MA\",\"WMT\",\"MCD\",\"TMO\",\"DHR\",\"ACN\",\"IBM\",\"LIN\",\"PM\",\"RTX\",\"UPS\",\"UNP\",\"COST\",\"HD\",\"LOW\"\n",
        "}\n",
        "def get_sac_cfg(symbol: str) -> dict:\n",
        "    if symbol in fast_names:\n",
        "        bucket = \"FAST\"; base = FAST\n",
        "    elif symbol in slow_names:\n",
        "        bucket = \"SLOW\"; base = SLOW\n",
        "    else:\n",
        "        bucket = \"DEFAULT\"; base = FAST\n",
        "    log.info(\"Config bucket for %s -> %s\", symbol, bucket)\n",
        "    return base | {\"_bucket\": bucket}\n",
        "\n",
        "# Detect already-trained models to resume/skip\n",
        "os.makedirs(SAVE_DIR, exist_ok=True)\n",
        "ws_by_symbol = defaultdict(set)\n",
        "for f in os.listdir(SAVE_DIR):\n",
        "    m = re.match(r\"^sac_([A-Za-z0-9\\-]+)_ws(\\d+)\\.zip$\", f, re.IGNORECASE)\n",
        "    if m:\n",
        "        ws_by_symbol[m.group(1).upper()].add(int(m.group(2)))\n",
        "\n",
        "completed_symbols = sorted([s for s, wsset in ws_by_symbol.items()\n",
        "                            if set(CANDIDATE_WS).issubset(wsset)])\n",
        "remaining_symbols = [s for s in symbols_all if s not in completed_symbols]\n",
        "log.info(\"Completed: %d | Remaining: %d\", len(completed_symbols), len(remaining_symbols))\n",
        "\n",
        "# ======= Run-list selection (manual/env/TEST_MODE) =======\n",
        "# 1) Manual short list for quick tests (leave [] to disable manual override)\n",
        "RUNLIST_MANUAL: list[str] = ['AAPL', 'NVDA', 'MSFT']\n",
        "\n",
        "# 2) From environment (comma-separated), e.g.:\n",
        "#    export RUN_SYMBOLS=\"TSLA,NVDA\"\n",
        "_env = os.getenv(\"RUN_SYMBOLS\", \"\").strip()\n",
        "RUNLIST_ENV = [s.strip().upper() for s in _env.split(\",\") if s.strip()] if _env else []\n",
        "\n",
        "# 3) TEST_MODE: keep first N remaining symbols if nothing else specified\n",
        "TEST_PICK_N = int(os.getenv(\"TEST_PICK_N\", \"3\"))\n",
        "\n",
        "# Only (re)train symbols that aren't already completed\n",
        "# (computed earlier from SAVE_DIR)\n",
        "universe = remaining_symbols  # <- keep this line as in your script\n",
        "\n",
        "def _restrict_to_universe(cands: list[str]) -> list[str]:\n",
        "    uni = {s.upper(): s for s in universe}\n",
        "    return [uni[s.upper()] for s in cands if s.upper() in uni]\n",
        "\n",
        "if RUNLIST_MANUAL:\n",
        "    run_symbols = _restrict_to_universe(RUNLIST_MANUAL); why = \"manual override\"\n",
        "elif RUNLIST_ENV:\n",
        "    run_symbols = _restrict_to_universe(RUNLIST_ENV);    why = \"RUN_SYMBOLS env\"\n",
        "elif TEST_MODE:\n",
        "    run_symbols = universe[:TEST_PICK_N];                 why = f\"TEST_MODE first {TEST_PICK_N}\"\n",
        "else:\n",
        "    run_symbols = universe;                               why = \"all remaining\"\n",
        "\n",
        "if not run_symbols and universe:\n",
        "    run_symbols = universe[:1]; why += \" (fallback to first remaining)\"\n",
        "\n",
        "log.info(\"SAC run plan → %s | count=%d | %s\", run_symbols, len(run_symbols), why)\n",
        "\n",
        "# ========= Inference config artifact (optional) =========\n",
        "inference_cfg_path = os.path.join(RESULTS_DIR, \"inference_config.json\")\n",
        "if not os.path.exists(inference_cfg_path):\n",
        "    with open(inference_cfg_path, \"w\") as f:\n",
        "        json.dump(\n",
        "            {\n",
        "                \"algo\": \"SAC\",\n",
        "                \"action_mode\": \"deterministic\",\n",
        "                \"conf_source\": \"none\",\n",
        "                \"conf_thresh\": None,\n",
        "                \"n_eval_runs\": 1,\n",
        "                \"created_at\": datetime.now(timezone.utc).isoformat(),\n",
        "            },\n",
        "            f, indent=2\n",
        "        )\n",
        "    log.info(\"Wrote inference_config.json -> %s\", inference_cfg_path)\n",
        "\n",
        "# ========= Env (continuous exposure with costs + risk controls) =========\n",
        "class ContinuousTradingEnv(gym.Env):\n",
        "    \"\"\"\n",
        "    Continuous exposure env with costs + risk controls.\n",
        "      - Action a in [-1,1] -> exposure in [-MAX_EXPOSURE, MAX_EXPOSURE]\n",
        "      - Deadband around zero, min trade delta\n",
        "      - Commission + slippage on position change notional\n",
        "      - Stop-loss/Take-profit + sign-flip guard + cooldown\n",
        "    \"\"\"\n",
        "    metadata = {\"render_modes\": []}\n",
        "\n",
        "    def __init__(\n",
        "        self, df: pd.DataFrame, frame_bound: tuple, window_size: int,\n",
        "        max_exposure: float = MAX_EXPOSURE,\n",
        "        commission_bps: float = COMMISSION_BPS,\n",
        "        slippage_bps: float = SLIPPAGE_BPS,\n",
        "        initial_capital: float = INITIAL_CAPITAL,\n",
        "        log_trades: bool = True,\n",
        "        dead_band: float = 0.0,\n",
        "        min_trade_delta: float = 0.0,\n",
        "        stop_loss_pct: float | None = None,\n",
        "        take_profit_pct: float | None = None,\n",
        "        cooldown_steps: int = 0,                 # <- int, not float\n",
        "        whipsaw_penalty: float = 0.0,\n",
        "        cooldown_step_penalty: float = 0.0,\n",
        "        long_only: bool = False                  # <- single declaration\n",
        "    ):\n",
        "        super().__init__()\n",
        "        assert \"Close\" in df.columns and \"Datetime\" in df.columns, \"DataFrame must have Close & Datetime\"\n",
        "        self.raw_df = df.sort_values(\"Datetime\").reset_index(drop=True).copy()\n",
        "        self.window_size = int(window_size)\n",
        "        self.start_tick, self.end_tick = int(frame_bound[0]), int(frame_bound[1])\n",
        "        assert self.end_tick <= len(self.raw_df), \"frame_bound[1] exceeds data length\"\n",
        "        assert self.start_tick >= self.window_size, \"start tick must be >= window_size\"\n",
        "\n",
        "        self.prices = self.raw_df[\"Close\"].values.astype(np.float64)\n",
        "        feats = self.raw_df.drop(columns=[\"Symbol\", \"Datetime\", \"Close\"], errors=\"ignore\")\n",
        "        feats = feats.select_dtypes(include=[np.number]).astype(np.float32).values\n",
        "        self.features = feats\n",
        "        n_feat = self.features.shape[1]\n",
        "\n",
        "        self.action_space = Box(low=-1.0, high=1.0, shape=(1,), dtype=np.float32)\n",
        "        self.observation_space = Box(low=-np.inf, high=np.inf, shape=(self.window_size, n_feat), dtype=np.float32)\n",
        "\n",
        "        self.max_exposure = float(max_exposure)\n",
        "        self.bps_total = (float(commission_bps) + float(slippage_bps)) / 10_000.0\n",
        "        self.initial_capital = float(initial_capital)\n",
        "\n",
        "        self.dead_band = float(dead_band)\n",
        "        self.min_trade_delta = float(min_trade_delta)\n",
        "        self.stop_loss_pct = float(stop_loss_pct) if stop_loss_pct is not None else None\n",
        "        self.take_profit_pct = float(take_profit_pct) if take_profit_pct is not None else None\n",
        "        self.cooldown_steps = int(cooldown_steps)\n",
        "\n",
        "        self.whipsaw_penalty = float(whipsaw_penalty)\n",
        "        self.cooldown_step_penalty = float(cooldown_step_penalty)\n",
        "        self.log_trades = bool(log_trades)\n",
        "        self.log_every = 500 if TEST_MODE else 2000\n",
        "        self.long_only = bool(long_only)         # <- keep only here\n",
        "\n",
        "        self.current_tick = None\n",
        "        self.position = None\n",
        "        self.portfolio_value = None\n",
        "        self.entry_price = None\n",
        "        self.cooldown_until = -1\n",
        "        self.done_tick = self.end_tick - 1\n",
        "\n",
        "    def _obs(self):\n",
        "        start = self.current_tick - self.window_size\n",
        "        obs = self.features[start:self.current_tick]\n",
        "        return obs.astype(np.float32)\n",
        "\n",
        "    def reset(self, *, seed=None, options=None):\n",
        "        super().reset(seed=seed)\n",
        "        self.current_tick = max(self.start_tick, self.window_size)\n",
        "        self.position = 0.0\n",
        "        self.portfolio_value = self.initial_capital\n",
        "        self.entry_price = None\n",
        "        self.cooldown_until = -1\n",
        "        obs = self._obs()\n",
        "        info = {\n",
        "            \"portfolio_value\": float(self.portfolio_value),\n",
        "            \"position\": float(self.position),\n",
        "            \"price\": float(self.prices[self.current_tick]),\n",
        "            \"trade_cost\": 0.0,\n",
        "            \"risk_event\": None,\n",
        "            \"cooldown_left\": 0,\n",
        "            \"entry_price\": None,\n",
        "        }\n",
        "        return obs, info\n",
        "\n",
        "    def _pnl_from_entry(self, price_now: float) -> float:\n",
        "        if self.entry_price is None or self.entry_price <= 0 or self.position == 0.0:\n",
        "            return 0.0\n",
        "        side = 1.0 if self.position > 0 else -1.0\n",
        "        return side * (price_now / self.entry_price - 1.0)\n",
        "\n",
        "    def _apply_risk_controls(self, price_t: float, proposed_pos: float):\n",
        "        event = None\n",
        "        cooldown_left = max(0, self.cooldown_until - self.current_tick)\n",
        "\n",
        "        if self.position == 0.0 and self.current_tick < self.cooldown_until:\n",
        "            return 0.0, \"cooldown\", cooldown_left\n",
        "\n",
        "        if (\n",
        "            self.cooldown_steps > 0 and\n",
        "            self.position != 0.0 and\n",
        "            np.sign(proposed_pos) != np.sign(self.position) and\n",
        "            abs(proposed_pos) >= self.min_trade_delta\n",
        "        ):\n",
        "            self.cooldown_until = self.current_tick + self.cooldown_steps\n",
        "            return 0.0, \"flip_block\", self.cooldown_steps\n",
        "\n",
        "        if self.position != 0.0:\n",
        "            pnl_entry = self._pnl_from_entry(price_t)\n",
        "            if (self.stop_loss_pct is not None) and (pnl_entry <= -self.stop_loss_pct):\n",
        "                self.cooldown_until = self.current_tick + self.cooldown_steps\n",
        "                return 0.0, \"stop_loss\", self.cooldown_steps\n",
        "            if (self.take_profit_pct is not None) and (pnl_entry >= self.take_profit_pct):\n",
        "                self.cooldown_until = self.current_tick + self.cooldown_steps\n",
        "                return 0.0, \"take_profit\", self.cooldown_steps\n",
        "\n",
        "        return proposed_pos, event, cooldown_left\n",
        "\n",
        "    def step(self, action):\n",
        "        if SIM_LATENCY_MS and SIM_LATENCY_MS > 0:\n",
        "            try:\n",
        "                time.sleep(float(SIM_LATENCY_MS) / 1000.0)\n",
        "            except Exception:\n",
        "                pass\n",
        "\n",
        "        a = float(np.array(action).reshape(-1)[0])\n",
        "        if abs(a) < self.dead_band:\n",
        "            a = 0.0\n",
        "\n",
        "        if self.long_only:\n",
        "            a = max(0.0, a)  # disallow shorts\n",
        "            target_pos = float(np.clip(a, 0.0, 1.0)) * self.max_exposure\n",
        "        else:\n",
        "            target_pos = float(np.clip(a, -1.0, 1.0)) * self.max_exposure\n",
        "        target_pos = float(np.clip(target_pos, -self.max_exposure, self.max_exposure))\n",
        "\n",
        "        if abs(target_pos - (0.0 if self.position is None else self.position)) < self.min_trade_delta:\n",
        "            target_pos = self.position\n",
        "\n",
        "        price_t   = float(self.prices[self.current_tick])\n",
        "        old_pos   = float(0.0 if self.position is None else self.position)\n",
        "\n",
        "        target_pos, risk_event, cooldown_left = self._apply_risk_controls(price_t, target_pos)\n",
        "\n",
        "        base_cash = self.portfolio_value if self.portfolio_value else self.initial_capital\n",
        "        trade_notional = abs(target_pos - old_pos) * base_cash\n",
        "        trade_cost = self.bps_total * trade_notional\n",
        "\n",
        "        self.position = float(target_pos)\n",
        "        self.portfolio_value = float(base_cash - trade_cost)\n",
        "        if not np.isfinite(self.portfolio_value) or self.portfolio_value <= 0.0:\n",
        "            self.portfolio_value = max(1e-8, float(self.portfolio_value))\n",
        "\n",
        "        next_tick = self.current_tick + 1\n",
        "        terminated = next_tick >= len(self.prices) or self.current_tick >= self.done_tick\n",
        "        price_tp1 = float(self.prices[min(next_tick, len(self.prices) - 1)])\n",
        "        ret = 0.0 if price_t <= 0 else (price_tp1 / price_t - 1.0)\n",
        "        v_prev = self.portfolio_value\n",
        "        self.portfolio_value = v_prev * (1.0 + self.position * ret)\n",
        "\n",
        "        # --- carry term: reward scales with ret and long size (no ret>0 gate)\n",
        "        reward = (self.portfolio_value - v_prev) / v_prev if v_prev > 0 else 0.0\n",
        "        long_frac = max(self.position, 0.0) / max(self.max_exposure, 1e-9)\n",
        "        baseline  = CARRY_WEIGHT * ret\n",
        "        reward   += baseline * long_frac\n",
        "\n",
        "        penalty = 0.0\n",
        "        whipsaw_applied = False\n",
        "        cooldown_applied = False\n",
        "        if self.current_tick >= self.cooldown_until:\n",
        "            cash_frac = 1.0 - min(abs(self.position) / max(self.max_exposure, 1e-9), 1.0)\n",
        "            penalty += IDLE_PENALTY * cash_frac\n",
        "        long_frac = max(self.position, 0.0) / max(self.max_exposure, 1e-9)\n",
        "        floor_target, floor_w = 0.20, 1e-4   # try target 0.2–0.3, weight 1e-4 → 3e-4\n",
        "        penalty += floor_w * max(0.0, floor_target - long_frac)\n",
        "        if self.whipsaw_penalty > 0.0:\n",
        "            if (old_pos != 0.0 and self.position != 0.0 and np.sign(old_pos) != np.sign(self.position)):\n",
        "                penalty += self.whipsaw_penalty\n",
        "                whipsaw_applied = True\n",
        "            if risk_event == \"flip_block\":\n",
        "                penalty += self.whipsaw_penalty\n",
        "                whipsaw_applied = True\n",
        "        if self.cooldown_step_penalty > 0.0 and self.current_tick < self.cooldown_until:\n",
        "            penalty += self.cooldown_step_penalty\n",
        "            cooldown_applied = True\n",
        "\n",
        "        reward = float(np.clip(reward - penalty, -1.0, 1.0))\n",
        "\n",
        "        if old_pos == 0.0 and self.position != 0.0:\n",
        "            self.entry_price = price_t\n",
        "        if self.position == 0.0:\n",
        "            self.entry_price = None\n",
        "\n",
        "        if self.log_trades and (abs(target_pos - old_pos) > 1e-9 or risk_event):\n",
        "            log.info(\n",
        "                \"t=%d | px=%.4f | pos %.3f→%.3f | notional=%.2f | cost=%.2f bps=%.2f | risk=%s | cd=%d | V=%.2f\",\n",
        "                self.current_tick, price_t, old_pos, self.position,\n",
        "                trade_notional, trade_cost, self.bps_total * 10_000.0,\n",
        "                (risk_event or \"none\"), int(cooldown_left), self.portfolio_value\n",
        "            )\n",
        "\n",
        "        self.current_tick = next_tick\n",
        "        obs = self._obs()\n",
        "        info = {\n",
        "            \"portfolio_value\": float(self.portfolio_value),\n",
        "            \"position\": float(self.position),\n",
        "            \"price\": float(price_tp1),\n",
        "            \"trade_cost\": float(trade_cost),\n",
        "            \"risk_event\": risk_event,\n",
        "            \"cooldown_left\": int(max(0, self.cooldown_until - self.current_tick)) if self.cooldown_until >= 0 else 0,\n",
        "            \"entry_price\": None if self.entry_price is None else float(self.entry_price),\n",
        "            \"whipsaw_penalty_applied\": bool(whipsaw_applied),\n",
        "            \"cooldown_penalty_applied\": bool(cooldown_applied),\n",
        "            \"broker\": str(BROKER),\n",
        "        }\n",
        "        truncated = False\n",
        "        return obs.astype(np.float32), reward, bool(terminated), bool(truncated), info\n",
        "\n",
        "def _risk_kwargs():\n",
        "    return dict(\n",
        "        dead_band=DEAD_BAND,\n",
        "        min_trade_delta=MIN_TRADE_DELTA,\n",
        "        stop_loss_pct=(STOP_LOSS_PCT if ENABLE_SLO else None),\n",
        "        take_profit_pct=(TAKE_PROFIT_PCT if ENABLE_SLO else None),\n",
        "        cooldown_steps=(COOLDOWN_STEPS if ENABLE_SLO else 0),\n",
        "    )\n",
        "\n",
        "def _reward_kwargs():\n",
        "    return dict(\n",
        "        whipsaw_penalty=(WHIPSAW_PENALTY if ENABLE_WHIPSAW_PENALTY else 0.0),\n",
        "        cooldown_step_penalty=(COOLDOWN_STEP_PENALTY if ENABLE_COOLDOWN_PENALTY else 0.0),\n",
        "    )\n",
        "\n",
        "# ====== Helpers ======\n",
        "def _nan_if_none(x):\n",
        "    if x is None:\n",
        "        return float(\"nan\")\n",
        "    try:\n",
        "        xf = float(x)\n",
        "    except (TypeError, ValueError):\n",
        "        return float(\"nan\")\n",
        "    return xf if np.isfinite(xf) else float(\"nan\")\n",
        "\n",
        "def _safe_round(x, ndigits):\n",
        "    x = _nan_if_none(x)\n",
        "    return round(x, ndigits) if np.isfinite(x) else float(\"nan\")\n",
        "\n",
        "# ---- Callback to periodically save VecNormalize stats during training ----\n",
        "class SaveVecNormCallback(BaseCallback):\n",
        "    def __init__(self, vec_env, save_path: str, save_freq: int = 50_000, verbose: int = 0):\n",
        "        super().__init__(verbose)\n",
        "        self.vec_env = vec_env\n",
        "        self.save_path = save_path\n",
        "        self.save_freq = int(save_freq)\n",
        "\n",
        "    def _on_step(self) -> bool:\n",
        "        if self.num_timesteps % self.save_freq == 0:\n",
        "            try:\n",
        "                self.vec_env.save(self.save_path)\n",
        "                if self.verbose:\n",
        "                    print(f\"[SaveVecNorm] saved -> {self.save_path}\")\n",
        "            except Exception as e:\n",
        "                if self.verbose:\n",
        "                    print(f\"[SaveVecNorm] failed: {e}\")\n",
        "        return True\n",
        "\n",
        "class HeartbeatCallback(BaseCallback):\n",
        "    def __init__(self, every: int = 10_000, target_steps: int | None = None, py_logger=None):\n",
        "        super().__init__()\n",
        "        self.every = int(every)\n",
        "        self.target_steps = target_steps\n",
        "        self._pylog = py_logger or logging.getLogger(__name__)\n",
        "        self._t0 = None\n",
        "        self._last_t = None\n",
        "        self._last_step = 0\n",
        "\n",
        "    def _on_training_start(self) -> None:\n",
        "        self._t0 = time.time()\n",
        "        self._last_t = self._t0\n",
        "        self._last_step = self.num_timesteps\n",
        "\n",
        "    def _on_step(self) -> bool:\n",
        "        if (self.num_timesteps - self._last_step) >= self.every:\n",
        "            now = time.time()\n",
        "            dt = max(now - self._last_t, 1e-9)\n",
        "            total_dt = max(now - self._t0, 1e-9)\n",
        "            steps = self.num_timesteps\n",
        "            inst_sps = (steps - self._last_step) / dt\n",
        "            avg_sps = steps / total_dt\n",
        "            eta_str = \"\"\n",
        "            if self.target_steps is not None and inst_sps > 0:\n",
        "                remaining = max(self.target_steps - steps, 0)\n",
        "                eta_sec = remaining / inst_sps\n",
        "                eta_str = f\" | eta={eta_sec/60:.1f}m\"\n",
        "            self._pylog.warning(\n",
        "                f\"[HB] steps={steps:,} | inst={inst_sps:,.0f} sps | avg={avg_sps:,.0f} sps\"\n",
        "                f\" | elapsed={total_dt/60:.1f}m{eta_str}\"\n",
        "            )\n",
        "            self._last_t = now\n",
        "            self._last_step = steps\n",
        "        return True\n",
        "\n",
        "\n",
        "# ========= Train/Eval per symbol =========\n",
        "skipped_all = []\n",
        "global_rows = []\n",
        "\n",
        "for idx, symbol in enumerate(run_symbols, 1):\n",
        "    log.warning(\"▶ [%d/%d] Processing %s | candidate windows=%s\",\n",
        "                idx, len(run_symbols), symbol, CANDIDATE_WS)\n",
        "    log.warning(\"---------------------------------------------------------------\")\n",
        "\n",
        "    sac_cfg = get_sac_cfg(symbol)\n",
        "    sdf = df[df[\"Symbol\"] == symbol].sort_values(\"Datetime\")\n",
        "\n",
        "    # Walk-forward split (1y train, 1y test within available ~2y window)\n",
        "    max_ts = sdf[\"Datetime\"].max()\n",
        "    test_end_dt    = max_ts\n",
        "    train_start_dt = test_end_dt - timedelta(days=729)\n",
        "    train_end_dt   = train_start_dt + timedelta(days=365)\n",
        "    test_start_dt  = train_end_dt\n",
        "\n",
        "    train_start_ts = pd.to_datetime(train_start_dt, utc=True)\n",
        "    train_end_ts   = pd.to_datetime(train_end_dt,   utc=True)\n",
        "    test_start_ts  = pd.to_datetime(test_start_dt,  utc=True)\n",
        "    test_end_ts    = pd.to_datetime(test_end_dt,    utc=True)\n",
        "\n",
        "    train_df = sdf[(sdf[\"Datetime\"] >= train_start_ts) & (sdf[\"Datetime\"] <  train_end_ts)].reset_index(drop=True)\n",
        "    test_df  = sdf[(sdf[\"Datetime\"] >= test_start_ts)  & (sdf[\"Datetime\"] <= test_end_ts)].reset_index(drop=True)\n",
        "    if len(train_df) < max(CANDIDATE_WS) + 10 or len(test_df) < max(CANDIDATE_WS) + 10:\n",
        "        log.warning(\"Symbol %s has too few rows for this split; skipping.\", symbol)\n",
        "        continue\n",
        "    steps_est = max(len(train_df), 1)\n",
        "\n",
        "    existing_ws = set()\n",
        "    try:\n",
        "        for f in os.listdir(SAVE_DIR):\n",
        "            m = re.match(rf\"^sac_{re.escape(symbol)}_ws(\\d+)\\.zip$\", f, re.IGNORECASE)\n",
        "            if m:\n",
        "                existing_ws.add(int(m.group(1)))\n",
        "    except Exception as e:\n",
        "        log.warning(\"Could not scan SAVE_DIR for existing windows (%s). Proceeding as if none exist.\", e)\n",
        "\n",
        "    pending_ws = CANDIDATE_WS if FORCE_RETRAIN else [ws for ws in CANDIDATE_WS if ws not in existing_ws]\n",
        "    if not pending_ws:\n",
        "        log.info(\"⏭ Ticker %s fully skipped (all %d windows already complete).\", symbol, len(CANDIDATE_WS))\n",
        "        skipped_all.append(symbol)\n",
        "        continue\n",
        "    else:\n",
        "        have_str = \", \".join(map(str, sorted(existing_ws))) if existing_ws else \"none\"\n",
        "        todo_str = \", \".join(map(str, pending_ws))\n",
        "        log.info(\"▶️  %s pending windows: [%s] (already have: %s)\", symbol, todo_str, have_str)\n",
        "\n",
        "    # Write per-symbol features.json (auditing)\n",
        "    try:\n",
        "        sym_dir = os.path.join(RESULTS_DIR, symbol); os.makedirs(sym_dir, exist_ok=True)\n",
        "        _feature_cols = sorted(feature_cols)\n",
        "        with open(os.path.join(sym_dir, \"features.json\"), \"w\") as f:\n",
        "            json.dump(\n",
        "                {\n",
        "                    \"algorithm\": \"SAC\",\n",
        "                    \"created_at\": datetime.now(timezone.utc).isoformat(),\n",
        "                    \"features\": _feature_cols,\n",
        "                    \"note\": \"Active numeric observation columns for this symbol/run.\"\n",
        "                },\n",
        "                f, indent=2\n",
        "            )\n",
        "        log.info(\"Wrote %s/features.json with %d features\", symbol, len(_feature_cols))\n",
        "    except Exception as e:\n",
        "        log.warning(\"Per-symbol features.json write skipped for %s: %s\", symbol, e)\n",
        "\n",
        "    if torch.cuda.is_available():\n",
        "        torch.cuda.empty_cache()\n",
        "\n",
        "    # ==== WS sweep (train+eval per window size, rank by Sharpe) ====\n",
        "    def train_eval_for_ws(ws: int):\n",
        "        log.info(\"  • WS=%d | building envs ...\", ws)\n",
        "        model_path = f\"{SAVE_DIR}/sac_{symbol}_ws{ws}\"\n",
        "        vec_path   = f\"{RESULTS_DIR}/vecnorms/{symbol}_ws{ws}_vecnorm.pkl\"\n",
        "        ckpt_dir   = os.path.join(CKPT_DIR_ROOT, f\"{symbol}_ws{ws}\")\n",
        "        os.makedirs(ckpt_dir, exist_ok=True)\n",
        "\n",
        "\n",
        "        # --- factories for this ws ---\n",
        "        def make_train_env():\n",
        "            return ContinuousTradingEnv(\n",
        "                train_df, frame_bound=(ws, len(train_df)), window_size=ws,\n",
        "                max_exposure=MAX_EXPOSURE, commission_bps=COMMISSION_BPS,\n",
        "                slippage_bps=SLIPPAGE_BPS, initial_capital=INITIAL_CAPITAL,\n",
        "                log_trades=LOG_TRADES_TRAIN, long_only=LONG_ONLY,\n",
        "                **_risk_kwargs(), **_reward_kwargs()\n",
        "            )\n",
        "\n",
        "        def make_test_env_for_callback():\n",
        "            return ContinuousTradingEnv(\n",
        "                test_df, frame_bound=(ws, len(test_df)), window_size=ws,\n",
        "                max_exposure=MAX_EXPOSURE, commission_bps=COMMISSION_BPS,\n",
        "                slippage_bps=SLIPPAGE_BPS, initial_capital=INITIAL_CAPITAL,\n",
        "                log_trades=LOG_TRADES_EVALCB, long_only=LONG_ONLY,\n",
        "                **_risk_kwargs(), **_reward_kwargs()\n",
        "            )\n",
        "\n",
        "        def make_test_env_for_final():\n",
        "            return ContinuousTradingEnv(\n",
        "                test_df, frame_bound=(ws, len(test_df)), window_size=ws,\n",
        "                max_exposure=MAX_EXPOSURE, commission_bps=COMMISSION_BPS,  # <- fixed typo\n",
        "                slippage_bps=SLIPPAGE_BPS, initial_capital=INITIAL_CAPITAL,\n",
        "                log_trades=LOG_TRADES_FINAL, long_only=LONG_ONLY,\n",
        "                **_risk_kwargs(), **_reward_kwargs()\n",
        "            )\n",
        "\n",
        "        # --- vec wrapper(s) ---\n",
        "        train_venv = DummyVecEnv([make_train_env])\n",
        "\n",
        "        # (re)load or create VecNormalize for training\n",
        "        if os.path.exists(vec_path):\n",
        "            try:\n",
        "                train_env = VecNormalize.load(vec_path, train_venv)\n",
        "                train_env.training = True\n",
        "                log.info(\"  • WS=%d | restored VecNormalize from %s\", ws, vec_path)\n",
        "            except Exception as e:\n",
        "                log.warning(\"  • WS=%d | VecNormalize load failed (%s). Starting fresh.\", ws, e)\n",
        "                train_env = VecNormalize(train_venv, training=True, norm_obs=True, norm_reward=False, clip_obs=10.0)\n",
        "        else:\n",
        "            train_env = VecNormalize(train_venv, training=True, norm_obs=True, norm_reward=False, clip_obs=10.0)\n",
        "\n",
        "        # Seed + reset after stats are in place\n",
        "        train_env.seed(SEED); _ = train_env.reset()\n",
        "\n",
        "        # --- SAC config (bucketed) ---\n",
        "        loc_cfg = sac_cfg.copy()\n",
        "        # Cap replay buffer for this run\n",
        "        loc_cfg[\"buffer_size\"] = min(int(loc_cfg[\"buffer_size\"]), steps_est * 20)\n",
        "\n",
        "        # --- choose total steps (define BEFORE eval callback) ---\n",
        "        if FAST_TEST:\n",
        "            base_steps  = max(200, min(MIN_TRAIN_STEPS, len(train_df)))\n",
        "            total_steps = max(base_steps, loc_cfg[\"learning_starts\"] + 5_000)\n",
        "        else:\n",
        "            total_steps = (\n",
        "                TRAIN_TOTAL_STEPS if TRAIN_TOTAL_STEPS is not None\n",
        "                else (min(4_000, len(train_df) * 2) if TEST_MODE else min(25_000, len(train_df) * 10))\n",
        "            )\n",
        "        eval_every = max(1_000, total_steps // 50)\n",
        "\n",
        "        # Optional eval env (only if we're using the eval callback)\n",
        "        eval_env = None\n",
        "        if USE_EVAL_CALLBACK:\n",
        "            eval_venv = DummyVecEnv([lambda: Monitor(make_test_env_for_callback())])\n",
        "            eval_env  = VecNormalize(eval_venv, training=False, norm_obs=True, norm_reward=False, clip_obs=10.0)\n",
        "            eval_env.obs_rms = train_env.obs_rms\n",
        "            eval_env.seed(SEED); _ = eval_env.reset()\n",
        "\n",
        "        # --- callbacks (create ONCE) ---\n",
        "        ckpt_cb = CheckpointCallback(\n",
        "            save_freq=CKPT_FREQ_STEPS,\n",
        "            save_path=ckpt_dir,\n",
        "            name_prefix=\"sac\",\n",
        "            save_replay_buffer=True\n",
        "        )\n",
        "        vec_cb = SaveVecNormCallback(train_env, vec_path, save_freq=CKPT_FREQ_STEPS, verbose=1)\n",
        "\n",
        "        eval_cb = None\n",
        "        if USE_EVAL_CALLBACK and eval_env is not None:\n",
        "            n_eval_no_improve, min_evals = (1, 2) if FAST_TEST else (2, 4)\n",
        "            eval_cb = EvalCallback(\n",
        "                eval_env,\n",
        "                best_model_save_path=os.path.join(RESULTS_DIR, \"tmp\", f\"best_{symbol}_ws{ws}\"),\n",
        "                eval_freq=eval_every,\n",
        "                n_eval_episodes=1,\n",
        "                callback_after_eval=StopTrainingOnNoModelImprovement(n_eval_no_improve, min_evals, verbose=1),\n",
        "                verbose=1,\n",
        "            )\n",
        "        hb_cb = HeartbeatCallback(\n",
        "          every=max(1_000, total_steps // 100),\n",
        "          target_steps=total_steps,\n",
        "          py_logger=log,\n",
        "        )\n",
        "\n",
        "        callback = CallbackList([cb for cb in (eval_cb, ckpt_cb, vec_cb, hb_cb) if cb is not None])\n",
        "\n",
        "        log.info(\n",
        "            \"EvalCallback: %s | Checkpoint: ENABLED | VecNormSaver: ENABLED | Heartbeat: ENABLED\",\n",
        "            \"ENABLED\" if eval_cb else \"DISABLED\")\n",
        "\n",
        "        # --- create model OR resume from latest checkpoint\n",
        "        resuming = False\n",
        "        latest_ckpt = None\n",
        "        try:\n",
        "            ckpts = sorted(glob.glob(os.path.join(ckpt_dir, \"sac_*_steps.zip\")), key=os.path.getmtime)\n",
        "            if ckpts:\n",
        "                latest_ckpt = ckpts[-1]\n",
        "        except Exception:\n",
        "            latest_ckpt = None\n",
        "\n",
        "        if latest_ckpt:\n",
        "            try:\n",
        "                model = SAC.load(latest_ckpt, env=train_env, device=device)\n",
        "                resuming = True\n",
        "                log.info(\"  • WS=%d | resumed model from %s\", ws, latest_ckpt)\n",
        "            except Exception as e:\n",
        "                log.warning(\"  • WS=%d | failed to load checkpoint (%s). Starting fresh.\", ws, e)\n",
        "                model = SAC(\n",
        "                    \"MlpPolicy\", train_env, device=device, policy_kwargs=policy_kwargs, verbose=1,\n",
        "                    learning_rate=loc_cfg[\"learning_rate\"], batch_size=loc_cfg[\"batch_size\"],\n",
        "                    train_freq=loc_cfg[\"train_freq\"], gradient_steps=loc_cfg[\"gradient_steps\"],\n",
        "                    gamma=loc_cfg[\"gamma\"], tau=loc_cfg[\"tau\"], ent_coef=loc_cfg[\"ent_coef\"],\n",
        "                    target_update_interval=loc_cfg[\"target_update_interval\"],\n",
        "                    buffer_size=loc_cfg[\"buffer_size\"], learning_starts=loc_cfg[\"learning_starts\"], seed=SEED,\n",
        "                )\n",
        "        else:\n",
        "            model = SAC(\n",
        "                \"MlpPolicy\", train_env, device=device, policy_kwargs=policy_kwargs, verbose=1,\n",
        "                learning_rate=loc_cfg[\"learning_rate\"], batch_size=loc_cfg[\"batch_size\"],\n",
        "                train_freq=loc_cfg[\"train_freq\"], gradient_steps=loc_cfg[\"gradient_steps\"],\n",
        "                gamma=loc_cfg[\"gamma\"], tau=loc_cfg[\"tau\"], ent_coef=loc_cfg[\"ent_coef\"],\n",
        "                target_update_interval=loc_cfg[\"target_update_interval\"],\n",
        "                buffer_size=loc_cfg[\"buffer_size\"], learning_starts=loc_cfg[\"learning_starts\"], seed=SEED,\n",
        "            )\n",
        "        if resuming:\n",
        "            buffer_path = latest_ckpt.replace(\".zip\", \"_replay_buffer.pkl\")\n",
        "            if os.path.exists(buffer_path):\n",
        "                try:\n",
        "                    model.load_replay_buffer(buffer_path)\n",
        "                    log.info(\"  • WS=%d | loaded replay buffer %s\", ws, buffer_path)\n",
        "                except Exception as e:\n",
        "                    log.warning(\"  • WS=%d | failed to load replay buffer: %s\", ws, e)\n",
        "\n",
        "        log.info(\"  • WS=%d | learn steps=%s | eval_every=%s | resume=%s\",\n",
        "                ws, f\"{total_steps:,}\", f\"{eval_every:,}\", resuming)\n",
        "\n",
        "        t0 = time.time()\n",
        "        model.learn(\n",
        "            total_timesteps=total_steps,\n",
        "            callback=callback,\n",
        "            reset_num_timesteps=not resuming,\n",
        "            progress_bar=False,\n",
        "        )\n",
        "        dt = time.time() - t0\n",
        "        log.info(\"  • WS=%d | learn done in %.1fs\", ws, dt)\n",
        "\n",
        "        # (these lines already exist in your code – keep them as-is)\n",
        "        model.save(model_path)\n",
        "        train_env.save(vec_path)\n",
        "        log.info(\"  • WS=%d | saved model=%s.zip vecnorm=%s\", ws, model_path, vec_path)\n",
        "        try:\n",
        "            final_rb_path = model_path + \"_replay_buffer.pkl\"\n",
        "            model.save_replay_buffer(final_rb_path)\n",
        "            log.info(\"  • WS=%d | saved final replay buffer -> %s\", ws, final_rb_path)\n",
        "        except Exception as e:\n",
        "            log.warning(\"  • WS=%d | could not save final replay buffer: %s\", ws, e)\n",
        "\n",
        "        # ---- model_info.json (concise) ----\n",
        "        try:\n",
        "            model_info = {\n",
        "                \"algorithm\": \"SAC\",\n",
        "                \"created_at\": datetime.now(timezone.utc).isoformat(),\n",
        "                \"symbol\": symbol,\n",
        "                \"ws\": int(ws),\n",
        "                \"bucket\": sac_cfg.get(\"_bucket\", \"UNKNOWN\"),\n",
        "                \"seed\": int(SEED),\n",
        "                \"features_used\": int(len(feature_cols)),\n",
        "                \"reward_shaping\": {\n",
        "                    \"whipsaw_penalty_enabled\": bool(ENABLE_WHIPSAW_PENALTY),\n",
        "                    \"whipsaw_penalty\": float(WHIPSAW_PENALTY),\n",
        "                    \"cooldown_step_penalty_enabled\": bool(ENABLE_COOLDOWN_PENALTY),\n",
        "                    \"cooldown_step_penalty\": float(COOLDOWN_STEP_PENALTY),\n",
        "                    \"confidence_source\": \"env_penalties\"\n",
        "                },\n",
        "                \"policy\": {\n",
        "                    \"type\": \"MlpPolicy\",\n",
        "                    \"net_arch\": policy_kwargs.get(\"net_arch\", None),\n",
        "                    \"device\": str(device)\n",
        "                },\n",
        "                \"hyperparams\": {\n",
        "                    \"learning_rate\": float(loc_cfg[\"learning_rate\"]),\n",
        "                    \"batch_size\": int(loc_cfg[\"batch_size\"]),\n",
        "                    \"train_freq\": int(loc_cfg[\"train_freq\"]),\n",
        "                    \"gradient_steps\": int(loc_cfg[\"gradient_steps\"]),\n",
        "                    \"gamma\": float(loc_cfg[\"gamma\"]),\n",
        "                    \"tau\": float(loc_cfg[\"tau\"]),\n",
        "                    \"ent_coef\": str(loc_cfg[\"ent_coef\"]),\n",
        "                    \"buffer_size\": int(loc_cfg[\"buffer_size\"]),\n",
        "                    \"learning_starts\": int(loc_cfg[\"learning_starts\"]),\n",
        "                    \"target_update_interval\": int(loc_cfg[\"target_update_interval\"]),\n",
        "                },\n",
        "                \"env_params\": {\n",
        "                    \"window_size\": int(ws),\n",
        "                    \"max_exposure\": float(MAX_EXPOSURE),\n",
        "                    \"commission_bps\": float(COMMISSION_BPS),\n",
        "                    \"slippage_bps\": float(SLIPPAGE_BPS),\n",
        "                    \"dead_band\": float(DEAD_BAND),\n",
        "                    \"min_trade_delta\": float(MIN_TRADE_DELTA),\n",
        "                    \"stop_loss_pct\": float(STOP_LOSS_PCT) if ENABLE_SLO else None,\n",
        "                    \"take_profit_pct\": float(TAKE_PROFIT_PCT) if ENABLE_SLO else None,\n",
        "                    \"cooldown_steps\": int(COOLDOWN_STEPS if ENABLE_SLO else 0),\n",
        "                    \"sim_latency_ms\": int(SIM_LATENCY_MS),\n",
        "                    \"broker\": str(BROKER),\n",
        "                    \"long_only\": bool(LONG_ONLY),\n",
        "                },\n",
        "                \"training\": {\n",
        "                    \"total_steps\": int(total_steps),\n",
        "                    \"eval_every\": int(eval_every),\n",
        "                    \"use_eval_callback\": bool(eval_cb is not None),\n",
        "                    \"test_mode\": bool(TEST_MODE),\n",
        "                    \"fast_test\": bool(FAST_TEST),\n",
        "                    \"deterministic_eval\": True\n",
        "                },\n",
        "                \"artifacts\": {\n",
        "                    \"model_zip\": model_path + \".zip\",\n",
        "                    \"vecnorm_pkl\": vec_path\n",
        "                },\n",
        "            }\n",
        "            mi_dir = os.path.join(RESULTS_DIR, \"model_info\")\n",
        "            os.makedirs(mi_dir, exist_ok=True)\n",
        "            mi_path = os.path.join(mi_dir, f\"sac_{symbol}_ws{ws}_model_info.json\")\n",
        "            with open(mi_path, \"w\") as f:\n",
        "                json.dump(model_info, f, indent=2)\n",
        "            log.info(\"  • WS=%d | wrote model_info.json -> %s\", ws, mi_path)\n",
        "        except Exception as e:\n",
        "            log.warning(\"  • WS=%d | model_info.json write skipped: %s\", ws, e)\n",
        "            mi_path = None\n",
        "\n",
        "        final_eval_raw = DummyVecEnv([make_test_env_for_final])\n",
        "        final_eval_raw.seed(SEED)\n",
        "\n",
        "        # Defensive load of VecNormalize stats\n",
        "        if os.path.exists(vec_path):\n",
        "            final_eval = VecNormalize.load(vec_path, final_eval_raw)\n",
        "        else:\n",
        "            final_eval = VecNormalize(\n",
        "                final_eval_raw, training=False, norm_obs=True, norm_reward=False, clip_obs=10.0\n",
        "            )\n",
        "\n",
        "        final_eval.training = False\n",
        "        final_eval.norm_reward = False\n",
        "        final_eval.obs_rms = train_env.obs_rms\n",
        "        final_eval.seed(SEED)\n",
        "        obs = final_eval.reset()\n",
        "        portfolio, positions = [], []\n",
        "\n",
        "\n",
        "        # Confidence bucket accumulators (per-step stats)\n",
        "        bucket_stats = {\n",
        "            \"clean\":    {\"step_pnls\": [], \"count\": 0},\n",
        "            \"whipsaw\":  {\"step_pnls\": [], \"count\": 0},\n",
        "            \"cooldown\": {\"step_pnls\": [], \"count\": 0},\n",
        "        }\n",
        "        for i in range(len(test_df)):\n",
        "            action, _ = model.predict(obs, deterministic=True)\n",
        "            obs, _, dones, infos = final_eval.step(action)\n",
        "            info0 = infos[0]\n",
        "\n",
        "            portfolio.append(float(info0.get(\"portfolio_value\", np.nan)))\n",
        "            positions.append(float(info0.get(\"position\", 0.0)))\n",
        "\n",
        "            if len(portfolio) >= 2:\n",
        "                step_pnl = (portfolio[-1] / max(portfolio[-2], 1e-12)) - 1.0\n",
        "                if info0.get(\"whipsaw_penalty_applied\", False):\n",
        "                    b = \"whipsaw\"\n",
        "                elif info0.get(\"cooldown_penalty_applied\", False):\n",
        "                    b = \"cooldown\"\n",
        "                else:\n",
        "                    b = \"clean\"\n",
        "                bucket_stats[b][\"step_pnls\"].append(float(step_pnl))\n",
        "                bucket_stats[b][\"count\"] += 1\n",
        "\n",
        "            if bool(dones[0]):\n",
        "                break\n",
        "\n",
        "        # save signals for this ws\n",
        "        aligned_len = min(len(test_df), len(portfolio))\n",
        "        signals_path = f\"{RESULTS_DIR}/signals/{symbol}_ws{ws}_sac_signals.csv\"\n",
        "        test_eval_df = test_df.iloc[:aligned_len].copy()\n",
        "        buy_hold = float(INITIAL_CAPITAL) * (\n",
        "        test_eval_df[\"Close\"].iloc[-1] / test_eval_df[\"Close\"].iloc[0]\n",
        "        )\n",
        "\n",
        "        test_eval_df[\"Position\"] = positions[:aligned_len]\n",
        "        test_eval_df[\"Portfolio\"] = portfolio[:aligned_len]\n",
        "        test_eval_df.to_csv(signals_path, index=False)\n",
        "        log.info(\"  • WS=%d | wrote signals CSV → %s (rows=%d)\", ws, signals_path, aligned_len)\n",
        "\n",
        "        # try to attach signals path to model_info\n",
        "        try:\n",
        "            if mi_path and os.path.exists(mi_path):\n",
        "                with open(mi_path, \"r\") as f:\n",
        "                    _mi = json.load(f)\n",
        "                _mi.setdefault(\"artifacts\", {})[\"signals_csv\"] = signals_path\n",
        "                with open(mi_path, \"w\") as f:\n",
        "                    json.dump(_mi, f, indent=2)\n",
        "        except Exception as e:\n",
        "            log.warning(\"  • WS=%d | Could not update model_info with signals_csv: %s\", ws, e)\n",
        "        # ---- metrics (Sharpe + extended) ----\n",
        "        final_value = portfolio[-1] if portfolio else INITIAL_CAPITAL\n",
        "        ret_series  = pd.Series(portfolio, dtype=\"float64\").pct_change().dropna()\n",
        "        if len(ret_series) > 1 and ret_series.std() > 0:\n",
        "            # infer periods/year from median step size of timestamps\n",
        "            step_sec = float(pd.to_datetime(test_eval_df[\"Datetime\"]).diff().median().total_seconds() or 0)\n",
        "            raw_ppy = (365*24*3600) / max(step_sec, 1) if step_sec else 252\n",
        "            periods_per_year = int(np.clip(raw_ppy, 252, 100_000))\n",
        "            sharpe = (ret_series.mean() / ret_series.std()) * np.sqrt(max(periods_per_year, 1))\n",
        "        else:\n",
        "            sharpe = 0.0\n",
        "\n",
        "        # always compute drawdowns & trade stats\n",
        "        equity = pd.Series(portfolio, dtype=\"float64\")\n",
        "        roll_max = equity.cummax()\n",
        "        dd = (equity / roll_max) - 1.0\n",
        "        max_dd = float(dd.min()) if len(dd) else 0.0\n",
        "        dur_days = (\n",
        "            (test_eval_df[\"Datetime\"].iloc[aligned_len-1] - test_eval_df[\"Datetime\"].iloc[0]).total_seconds() / 86400.0\n",
        "            if aligned_len > 1 else 0.0\n",
        "        )\n",
        "        ann_ret = ((final_value / float(INITIAL_CAPITAL)) ** (365.0 / max(dur_days, 1e-9)) - 1.0) if dur_days > 0 else 0.0\n",
        "        calmar = (ann_ret / abs(max_dd)) if (max_dd < 0.0 and abs(max_dd) > 1e-12) else float(\"nan\")\n",
        "\n",
        "        trades = []\n",
        "        entry_val = None\n",
        "        prev_pos = 0.0\n",
        "        for i in range(aligned_len):\n",
        "            p = float(positions[i])\n",
        "            if prev_pos == 0.0 and abs(p) > 0.0:\n",
        "                entry_val = float(portfolio[i])\n",
        "            if prev_pos != 0.0 and abs(p) > 0.0 and np.sign(prev_pos) != np.sign(p):\n",
        "                if entry_val and entry_val > 0.0:\n",
        "                    trades.append((float(portfolio[i]) - entry_val) / entry_val)\n",
        "                entry_val = float(portfolio[i])\n",
        "            if prev_pos != 0.0 and abs(p) == 0.0 and entry_val and entry_val > 0.0:\n",
        "                trades.append((float(portfolio[i]) - entry_val) / entry_val)\n",
        "                entry_val = None\n",
        "            prev_pos = p\n",
        "        trade_count = int(len(trades))\n",
        "        hit_ratio = float(np.mean(np.array(trades) > 0.0)) if trade_count > 0 else float(\"nan\")\n",
        "        avg_trade_pnl = float(np.mean(trades)) if trade_count > 0 else float(\"nan\")\n",
        "\n",
        "        # Persist trade ledger\n",
        "        try:\n",
        "            trade_rows = []\n",
        "            entry_val = None; prev_pos = 0.0; entry_idx = None\n",
        "            for i in range(aligned_len):\n",
        "                p = float(positions[i]); nav = float(portfolio[i])\n",
        "                if prev_pos == 0.0 and abs(p) > 0.0:\n",
        "                    entry_val = nav; entry_idx = i\n",
        "                if prev_pos != 0.0 and abs(p) > 0.0 and np.sign(prev_pos) != np.sign(p):\n",
        "                    if entry_val and entry_val > 0.0 and entry_idx is not None:\n",
        "                        trade_rows.append({\n",
        "                            \"entry_idx\": int(entry_idx),\n",
        "                            \"exit_idx\": int(i),\n",
        "                            \"entry_nav\": float(entry_val),\n",
        "                            \"exit_nav\": float(nav),\n",
        "                            \"trade_pnl\": float((nav - entry_val) / entry_val),\n",
        "                            \"flip_close\": True\n",
        "                        })\n",
        "                    entry_val = nav; entry_idx = i\n",
        "                if prev_pos != 0.0 and abs(p) == 0.0 and entry_val and entry_val > 0.0 and entry_idx is not None:\n",
        "                    trade_rows.append({\n",
        "                        \"entry_idx\": int(entry_idx),\n",
        "                        \"exit_idx\": int(i),\n",
        "                        \"entry_nav\": float(entry_val),\n",
        "                        \"exit_nav\": float(nav),\n",
        "                        \"trade_pnl\": float((nav - entry_val) / entry_val),\n",
        "                        \"flip_close\": False\n",
        "                    })\n",
        "                    entry_val = None; entry_idx = None\n",
        "                prev_pos = p\n",
        "            trades_csv = f\"{RESULTS_DIR}/signals/{symbol}_ws{ws}_sac_trades.csv\"\n",
        "            pd.DataFrame(trade_rows).to_csv(trades_csv, index=False)\n",
        "            log.info(\"  • WS=%d | wrote trades CSV → %s (trades=%d)\", ws, trades_csv, len(trade_rows))\n",
        "        except Exception as e:\n",
        "            trades_csv = None\n",
        "            log.warning(\"  • WS=%d | Could not write trades CSV: %s\", ws, e)\n",
        "\n",
        "        pos_arr = np.array(positions[:aligned_len], dtype=\"float64\")\n",
        "        turnover = float(np.sum(np.abs(np.diff(pos_arr)))) if aligned_len > 1 else 0.0\n",
        "        time_in_mkt = float(np.mean(np.abs(pos_arr) > 0.0)) if aligned_len > 0 else 0.0\n",
        "\n",
        "        # Persist WS metrics JSON\n",
        "        try:\n",
        "            def _bucket_summary(bs):\n",
        "                cnt = int(bs.get(\"count\", 0))\n",
        "                arr = np.array(bs.get(\"step_pnls\", []), dtype=\"float64\")\n",
        "                mean_pnl = float(np.mean(arr)) if cnt > 0 else float(\"nan\")\n",
        "                std_pnl  = float(np.std(arr, ddof=1)) if cnt > 1 else float(\"nan\")\n",
        "                hit_ratio_step = float(np.mean(arr > 0)) if cnt > 0 else float(\"nan\")\n",
        "                return {\n",
        "                    \"count\": cnt,\n",
        "                    \"mean_step_pnl\": mean_pnl,\n",
        "                    \"std_step_pnl\": std_pnl,\n",
        "                    \"hit_ratio_step\": hit_ratio_step,\n",
        "                }\n",
        "\n",
        "            for k in (\"clean\", \"whipsaw\", \"cooldown\"):\n",
        "                bucket_stats.setdefault(k, {\"step_pnls\": [], \"count\": 0})\n",
        "\n",
        "            metrics = {\n",
        "                \"symbol\": symbol,\n",
        "                \"ws\": int(ws),\n",
        "                \"final_value\": float(final_value),\n",
        "                \"buy_hold\": float(buy_hold),\n",
        "                \"sharpe\": float(sharpe),\n",
        "                \"max_drawdown\": float(max_dd),\n",
        "                \"calmar\": float(calmar),\n",
        "                \"trade_count\": trade_count,\n",
        "                \"hit_ratio\": hit_ratio,\n",
        "                \"avg_trade_pnl\": avg_trade_pnl,\n",
        "                \"turnover\": turnover,\n",
        "                \"time_in_market\": time_in_mkt,\n",
        "                \"confidence_buckets\": {\n",
        "                    \"clean\":    _bucket_summary(bucket_stats[\"clean\"]),\n",
        "                    \"whipsaw\":  _bucket_summary(bucket_stats[\"whipsaw\"]),\n",
        "                    \"cooldown\": _bucket_summary(bucket_stats[\"cooldown\"]),\n",
        "                }\n",
        "            }\n",
        "            mi_dir = os.path.join(RESULTS_DIR, \"model_info\"); os.makedirs(mi_dir, exist_ok=True)\n",
        "            metrics_path = os.path.join(mi_dir, f\"sac_{symbol}_ws{ws}_metrics.json\")\n",
        "            with open(metrics_path, \"w\") as f:\n",
        "                json.dump(metrics, f, indent=2)\n",
        "            log.info(\"  • WS=%d | wrote metrics JSON → %s\", ws, metrics_path)\n",
        "        except Exception as e:\n",
        "            log.warning(\"  • WS=%d | WS metrics JSON write skipped: %s\", ws, e)\n",
        "\n",
        "        # --- cleanup: close envs BEFORE returning ---\n",
        "        try:\n",
        "            train_env.close()\n",
        "            eval_env.close()\n",
        "            final_eval.close()\n",
        "            final_eval_raw.close()\n",
        "        except Exception:\n",
        "            pass\n",
        "\n",
        "        try:\n",
        "            del final_eval, final_eval_raw, eval_env, train_env, model\n",
        "        except NameError:\n",
        "            pass\n",
        "        gc.collect()\n",
        "        if torch.cuda.is_available():\n",
        "            torch.cuda.empty_cache()\n",
        "\n",
        "        return dict(\n",
        "            ws=ws,\n",
        "            sharpe=float(sharpe),\n",
        "            final_value=float(final_value),\n",
        "            buy_hold=float(buy_hold),\n",
        "            max_dd=float(max_dd),\n",
        "            calmar=(float(calmar) if np.isfinite(calmar) else None),\n",
        "            trade_count=int(trade_count),\n",
        "            hit_ratio=(float(hit_ratio) if trade_count > 0 else None),\n",
        "            avg_trade_pnl=(float(avg_trade_pnl) if trade_count > 0 else None),\n",
        "            turnover=float(turnover),\n",
        "            time_in_mkt=float(time_in_mkt),\n",
        "            model_zip=model_path + \".zip\",\n",
        "            vecnorm_pkl=vec_path,\n",
        "            signals_csv=signals_path\n",
        "        )\n",
        "\n",
        "    # === run sweep ===\n",
        "    results_ws = []\n",
        "    top_heap = []\n",
        "\n",
        "    for j, WS in enumerate(pending_ws, 1):\n",
        "        log.warning(\"   • %s: WS %d/%d = %s\", symbol, j, len(pending_ws), WS)\n",
        "        try:\n",
        "            res = train_eval_for_ws(WS)\n",
        "\n",
        "            results_ws.append({\n",
        "                \"Symbol\": symbol,\n",
        "                \"WS\": WS,\n",
        "                \"Sharpe\": _safe_round(res[\"sharpe\"], 3),\n",
        "                \"SAC_Portfolio\": _safe_round(res[\"final_value\"], 2),\n",
        "                \"BuyHold\": _safe_round(res[\"buy_hold\"], 2),\n",
        "                \"MaxDD\": _safe_round(res.get(\"max_dd\"), 4),\n",
        "                \"Calmar\": _safe_round(res.get(\"calmar\"), 3),\n",
        "                \"TradeCount\": int(res.get(\"trade_count\", 0)),\n",
        "                \"HitRatio\": _safe_round(res.get(\"hit_ratio\"), 3),\n",
        "                \"AvgTradePnL\": _safe_round(res.get(\"avg_trade_pnl\"), 4),\n",
        "                \"Turnover\": _safe_round(res.get(\"turnover\", 0.0), 3),\n",
        "                \"TimeInMkt\": _safe_round(res.get(\"time_in_mkt\", 0.0), 3),\n",
        "                \"ModelZip\": res[\"model_zip\"],\n",
        "                \"VecNorm\": res[\"vecnorm_pkl\"],\n",
        "                \"SignalsCSV\": res[\"signals_csv\"],\n",
        "                \"Edge_vs_BH_%\": _safe_round((res[\"final_value\"] / max(res[\"buy_hold\"], 1e-12) - 1.0) * 100.0, 6),\n",
        "                \"SAC_vs_BH_Ratio\": _safe_round(res[\"final_value\"] / max(res[\"buy_hold\"], 1e-12), 6),\n",
        "\n",
        "            })\n",
        "\n",
        "            s = float(res[\"sharpe\"])\n",
        "            score = s if np.isfinite(s) else float(\"-inf\")\n",
        "            heapq.heappush(top_heap, (score, WS, res))\n",
        "            if len(top_heap) > TOP_N_WINDOWS:\n",
        "                heapq.heappop(top_heap)\n",
        "\n",
        "        except Exception as e:\n",
        "            log.warning(\"WS=%s failed for %s: %s\", WS, symbol, e)\n",
        "\n",
        "    # save per-symbol WS sweep summary\n",
        "    ws_summary_path = os.path.join(RESULTS_DIR, f\"{symbol}_sac_ws_sweep_summary.csv\")\n",
        "\n",
        "    if results_ws:\n",
        "        df_ws = pd.DataFrame(results_ws)\n",
        "        if \"Sharpe\" not in df_ws.columns:\n",
        "            df_ws[\"Sharpe\"] = np.nan\n",
        "        df_ws.sort_values(\"Sharpe\", ascending=False).to_csv(ws_summary_path, index=False)\n",
        "    else:\n",
        "        cols = [\"Symbol\",\"WS\",\"Sharpe\",\"SAC_Portfolio\",\"BuyHold\",\"MaxDD\",\"Calmar\",\n",
        "                \"TradeCount\",\"HitRatio\",\"AvgTradePnL\",\"Turnover\",\"TimeInMkt\",\n",
        "                \"ModelZip\",\"VecNorm\",\"SignalsCSV\",\"Edge_vs_BH_%\",\"SAC_vs_BH_Ratio\"]\n",
        "        pd.DataFrame(columns=cols).to_csv(ws_summary_path, index=False)\n",
        "\n",
        "    try:\n",
        "        ws_json_path = ws_summary_path.replace(\".csv\", \".json\")\n",
        "        with open(ws_json_path, \"w\") as f:\n",
        "            if results_ws:\n",
        "                safe_sorted = sorted(\n",
        "                    results_ws,\n",
        "                    key=lambda r: (r.get(\"Sharpe\") if (isinstance(r.get(\"Sharpe\"), (int, float)) and np.isfinite(r.get(\"Sharpe\"))) else -1e9),\n",
        "                    reverse=True\n",
        "                )\n",
        "                json.dump(safe_sorted, f, indent=2)\n",
        "            else:\n",
        "                json.dump([], f, indent=2)\n",
        "        log.info(\"Wrote WS sweep JSON -> %s\", ws_json_path)\n",
        "    except Exception as e:\n",
        "        ws_json_path = None\n",
        "        log.warning(\"WS sweep JSON write skipped: %s\", e)\n",
        "\n",
        "    global_rows.extend(results_ws)\n",
        "\n",
        "    # --- per-symbol console summary (INSIDE LOOP) ---\n",
        "    def _sharpe_key(row):\n",
        "        try:\n",
        "            s = float(row.get(\"Sharpe\"))\n",
        "            return s if isfinite(s) else float(\"-inf\")\n",
        "        except Exception:\n",
        "            return float(\"-inf\")\n",
        "\n",
        "    def _fmt_num(v, fmt):\n",
        "        try:\n",
        "            x = float(v)\n",
        "            return fmt % x if isfinite(x) else \"nan\"\n",
        "        except Exception:\n",
        "            return \"nan\"\n",
        "\n",
        "    if results_ws:\n",
        "        best_row = max(results_ws, key=_sharpe_key)\n",
        "        log.warning(\n",
        "            \"%s summary → best WS=%s | Sharpe=%s | Final=%s | B&H=%s | MaxDD=%s | Trades=%d | Hit=%s\",\n",
        "            symbol,\n",
        "            best_row.get(\"WS\"),\n",
        "            _fmt_num(best_row.get(\"Sharpe\"),        \"%.3f\"),\n",
        "            _fmt_num(best_row.get(\"SAC_Portfolio\"), \"%.2f\"),\n",
        "            _fmt_num(best_row.get(\"BuyHold\"),       \"%.2f\"),\n",
        "            _fmt_num(best_row.get(\"MaxDD\"),         \"%.4f\"),\n",
        "            int(best_row.get(\"TradeCount\", 0)),\n",
        "            _fmt_num(best_row.get(\"HitRatio\"),      \"%.3f\"),\n",
        "        )\n",
        "        if ws_json_path:\n",
        "            log.warning(\"Artifacts: %s | %s\", ws_summary_path, ws_json_path)\n",
        "        else:\n",
        "            log.warning(\"Artifacts: %s\", ws_summary_path)\n",
        "    else:\n",
        "        log.warning(\"%s summary → no successful window results.\", symbol)\n",
        "\n",
        "    # report winners\n",
        "    top_sorted = sorted(top_heap, key=lambda t: t[0], reverse=True)\n",
        "    log.info(\n",
        "        f\"Top {min(TOP_N_WINDOWS, len(top_sorted))} window sizes for {symbol}: \" +\n",
        "        \", \".join([f\"WS={w} (Sharpe={s:.3f})\" for s, w, _ in top_sorted])\n",
        "    )\n",
        "\n",
        "    # === Persist Top-N winners' artifacts ===\n",
        "    best_root = os.path.join(RESULTS_DIR, \"best\", symbol)\n",
        "    os.makedirs(best_root, exist_ok=True)\n",
        "\n",
        "    top_k = min(TOP_N_WINDOWS, len(top_sorted))\n",
        "    manifest = []\n",
        "    for rank, (s_val, ws_best, res_obj) in enumerate(top_sorted[:top_k], start=1):\n",
        "        ws_dir = os.path.join(best_root, f\"ws{int(ws_best)}\")\n",
        "        os.makedirs(ws_dir, exist_ok=True)\n",
        "\n",
        "        src_model  = res_obj[\"model_zip\"]\n",
        "        src_vec    = res_obj[\"vecnorm_pkl\"]\n",
        "        src_sig    = res_obj[\"signals_csv\"]\n",
        "        src_metrics_json = os.path.join(RESULTS_DIR, \"model_info\", f\"sac_{symbol}_ws{ws_best}_metrics.json\")\n",
        "        src_model_info   = os.path.join(RESULTS_DIR, \"model_info\", f\"sac_{symbol}_ws{ws_best}_model_info.json\")\n",
        "        src_conf_json    = os.path.join(RESULTS_DIR, \"model_info\", f\"sac_{symbol}_ws{ws_best}_confidence_metrics.json\")  # may not exist\n",
        "\n",
        "        def _maybe_copy(src, dst_name):\n",
        "            try:\n",
        "                if src and os.path.exists(src):\n",
        "                    dst = os.path.join(ws_dir, dst_name)\n",
        "                    copyfile(src, dst)\n",
        "                    return dst\n",
        "            except Exception as e:\n",
        "                log.warning(\"Copy failed %s -> %s: %s\", src, dst_name, e)\n",
        "            return None\n",
        "\n",
        "        dsts = {\n",
        "            \"model_zip\": _maybe_copy(src_model,  os.path.basename(src_model)),\n",
        "            \"vecnorm_pkl\": _maybe_copy(src_vec,  os.path.basename(src_vec)),\n",
        "            \"signals_csv\": _maybe_copy(src_sig,  os.path.basename(src_sig)),\n",
        "            \"metrics_json\": _maybe_copy(src_metrics_json, os.path.basename(src_metrics_json)),\n",
        "            \"model_info_json\": _maybe_copy(src_model_info, os.path.basename(src_model_info)),\n",
        "            \"confidence_json\": _maybe_copy(src_conf_json, os.path.basename(src_conf_json)),\n",
        "        }\n",
        "\n",
        "        manifest.append({\n",
        "            \"rank\": rank,\n",
        "            \"ws\": int(ws_best),\n",
        "            \"sharpe\": float(s_val),\n",
        "            \"artifacts\": dsts,\n",
        "        })\n",
        "\n",
        "    try:\n",
        "        top_manifest_path = os.path.join(best_root, \"top_windows.json\")\n",
        "        with open(top_manifest_path, \"w\") as f:\n",
        "            json.dump(manifest, f, indent=2)\n",
        "        log.info(\"Persisted Top-%d winners for %s -> %s\", top_k, symbol, top_manifest_path)\n",
        "    except Exception as e:\n",
        "        log.warning(\"Top-N manifest write failed for %s: %s\", symbol, e)\n",
        "\n",
        "    del results_ws, top_heap, top_sorted\n",
        "    gc.collect()\n",
        "    if torch.cuda.is_available():\n",
        "        torch.cuda.empty_cache()\n",
        "\n",
        "# --- Global skip summary (optional) ---\n",
        "try:\n",
        "    if skipped_all:\n",
        "        skip_path = os.path.join(RESULTS_DIR, \"skipped_windows_global.csv\")\n",
        "        pd.DataFrame({\"Symbol\": sorted(set(skipped_all))}).to_csv(skip_path, index=False)\n",
        "        log.info(\"Fully skipped tickers (all windows done): %s\", \", \".join(sorted(set(skipped_all))))\n",
        "        log.info(\"Global skip log: %s\", skip_path)\n",
        "    else:\n",
        "        log.info(\"No fully skipped tickers.\")\n",
        "except Exception as e:\n",
        "    log.warning(\"Failed to write global skip log: %s\", e)\n",
        "\n",
        "log.info(\"✅ SAC run complete.\")\n",
        "# === Global summarizer (drop-in) ===\n",
        "try:\n",
        "    # Prefer in-memory rows collected this run; otherwise, sweep the folder.\n",
        "    if \"global_rows\" in globals() and global_rows:\n",
        "        all_rows_df = pd.DataFrame(global_rows)\n",
        "    else:\n",
        "        csvs = sorted(glob.glob(os.path.join(RESULTS_DIR, \"*_sac_ws_sweep_summary.csv\")))\n",
        "        all_rows_df = pd.concat((pd.read_csv(p) for p in csvs), ignore_index=True) if csvs else pd.DataFrame()\n",
        "\n",
        "    if not all_rows_df.empty:\n",
        "        # Ensure derived columns exist (in case older CSVs lacked them)\n",
        "        if \"Edge_vs_BH_%\" not in all_rows_df.columns:\n",
        "            all_rows_df[\"Edge_vs_BH_%\"] = (all_rows_df[\"SAC_Portfolio\"] / all_rows_df[\"BuyHold\"] - 1.0) * 100.0\n",
        "        if \"SAC_vs_BH_Ratio\" not in all_rows_df.columns:\n",
        "            all_rows_df[\"SAC_vs_BH_Ratio\"] = (all_rows_df[\"SAC_Portfolio\"] / all_rows_df[\"BuyHold\"])\n",
        "\n",
        "        # Save all rows\n",
        "        out_all = os.path.join(RESULTS_DIR, \"global_ws_sweep_all_rows.csv\")\n",
        "        all_rows_df.to_csv(out_all, index=False)\n",
        "\n",
        "        # Best WS per symbol by highest Sharpe\n",
        "        best_by_symbol = (\n",
        "            all_rows_df.sort_values([\"Symbol\", \"Sharpe\"], ascending=[True, False])\n",
        "                       .groupby(\"Symbol\", as_index=False).head(1)\n",
        "        )\n",
        "        out_best = os.path.join(RESULTS_DIR, \"global_best_by_symbol.csv\")\n",
        "        best_by_symbol.to_csv(out_best, index=False)\n",
        "\n",
        "        # === Save model selector CSV for later pipeline ===\n",
        "        try:\n",
        "            selector_df = best_by_symbol[[\"Symbol\", \"Sharpe\", \"HitRatio\", \"MaxDD\", \"SAC_Portfolio\"]].copy()\n",
        "            selector_df.rename(columns={\n",
        "                \"Symbol\": \"Ticker\",\n",
        "                \"HitRatio\": \"Accuracy\",\n",
        "                \"MaxDD\": \"Drawdown\",\n",
        "                \"SAC_Portfolio\": \"Final_Portfolio\"\n",
        "            }, inplace=True)\n",
        "            selector_df[\"Model\"] = \"SAC\"\n",
        "            selector_out = os.path.join(RESULTS_DIR, \"sac_model_selector.csv\")\n",
        "            selector_df.to_csv(selector_out, index=False)\n",
        "            print(f\"✅ Saved model selector file → {selector_out}\")\n",
        "        except Exception as e:\n",
        "            print(f\"[selector_writer] Failed to save model selector CSV: {e}\")\n",
        "\n",
        "        # Console summary\n",
        "        syms = best_by_symbol[\"Symbol\"].nunique()\n",
        "        mean_sharpe = float(best_by_symbol[\"Sharpe\"].mean())\n",
        "        median_sharpe = float(best_by_symbol[\"Sharpe\"].median())\n",
        "        n_pos = int((best_by_symbol[\"Sharpe\"] > 0).sum())\n",
        "        n_ge1 = int((best_by_symbol[\"Sharpe\"] >= 1.0).sum())\n",
        "        beat_bh = int((best_by_symbol[\"SAC_Portfolio\"] > best_by_symbol[\"BuyHold\"]).sum())\n",
        "\n",
        "        print(f\"[summarizer] Using RESULTS_DIR = {RESULTS_DIR}\\n\")\n",
        "        print(\"=== Summary ===\")\n",
        "        print(f\"Symbols covered:         {syms}\")\n",
        "        print(f\"Mean Sharpe (best WS):   {mean_sharpe:.3f}\")\n",
        "        print(f\"Median Sharpe (best WS): {median_sharpe:.3f}\")\n",
        "        print(f\"Sharpe > 0 (best WS):    {n_pos} / {syms}\")\n",
        "        print(f\"Sharpe ≥ 1.0 (best WS):  {n_ge1} / {syms}\")\n",
        "        print(f\"Beat Buy&Hold (best WS): {beat_bh} / {syms}\\n\")\n",
        "\n",
        "        # Top 10 windows overall\n",
        "        cols = [\"Symbol\", \"WS\", \"Sharpe\", \"Edge_vs_BH_%\", \"SAC_vs_BH_Ratio\", \"MaxDD\", \"Calmar\"]\n",
        "        top10 = all_rows_df.sort_values(\"Sharpe\", ascending=False).head(10)\n",
        "        top10 = top10[[c for c in cols if c in top10.columns]]\n",
        "        print(\"Top 10 windows overall by Sharpe:\")\n",
        "        print(top10.to_string(index=False))\n",
        "\n",
        "        print(\"\\nSaved:\")\n",
        "        print(\" -\", out_all)\n",
        "        print(\" -\", out_best)\n",
        "    else:\n",
        "        print(\"[summarizer] No rows found to summarize.\")\n",
        "except Exception as e:\n",
        "    print(\"[summarizer] Failed:\", e)\n"
      ]
    },
    {
      "cell_type": "code",
      "execution_count": null,
      "metadata": {
        "id": "qrcAdVzAg5Om"
      },
      "outputs": [],
      "source": [
        "import os, pandas as pd, matplotlib.pyplot as plt\n",
        "from glob import glob\n",
        "\n",
        "RESULTS_DIR = \"/content/drive/MyDrive/Results_May_2025/results_sac_walkforward\"\n",
        "winners = [(\"NVDA\",24), (\"AAPL\",24), (\"MSFT\",16)]  # requested windows\n",
        "\n",
        "def pick_signals(sym, ws):\n",
        "    p = os.path.join(RESULTS_DIR, \"signals\", f\"{sym}_ws{ws}_sac_signals.csv\")\n",
        "    if os.path.exists(p): return p\n",
        "    p2 = os.path.join(RESULTS_DIR, \"best\", sym, f\"ws{ws}\", f\"{sym}_ws{ws}_sac_signals.csv\")\n",
        "    if os.path.exists(p2): return p2\n",
        "    alts = sorted(glob(os.path.join(RESULTS_DIR, \"signals\", f\"{sym}_ws*_sac_signals.csv\")))\n",
        "    if alts:\n",
        "        print(f\"[{sym}] ws{ws} not found; using {os.path.basename(alts[-1])} instead.\")\n",
        "        return alts[-1]\n",
        "    raise FileNotFoundError(f\"No signals CSV found for {sym} under {RESULTS_DIR}.\")\n",
        "\n",
        "for sym, ws in winners:\n",
        "    path = pick_signals(sym, ws)\n",
        "    s = pd.read_csv(path, parse_dates=[\"Datetime\"])\n",
        "    if \"Close\" not in s.columns:\n",
        "        raise RuntimeError(f\"'Close' not in {path}; re-run training that writes Close into signals.\")\n",
        "    base = float(s[\"Portfolio\"].iloc[0])\n",
        "    bh = s[\"Close\"] / s[\"Close\"].iloc[0] * base\n",
        "    plt.figure()\n",
        "    plt.plot(s[\"Datetime\"], s[\"Portfolio\"], label=\"SAC\")\n",
        "    plt.plot(s[\"Datetime\"], bh, label=\"Buy & Hold\")\n",
        "    plt.title(f\"{sym} ({os.path.basename(path)})\")\n",
        "    plt.legend(); plt.xlabel(\"Date\"); plt.ylabel(\"NAV\")\n",
        "    plt.show()\n"
      ]
    }
  ],
  "metadata": {
    "colab": {
      "provenance": [],
      "include_colab_link": true
    },
    "kernelspec": {
      "display_name": "Python 3",
      "name": "python3"
    },
    "language_info": {
      "name": "python"
    }
  },
  "nbformat": 4,
  "nbformat_minor": 0
}